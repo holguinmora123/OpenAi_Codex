{
  "cells": [
    {
      "cell_type": "markdown",
      "id": "-LNWLq2zhvUz",
      "metadata": {
        "id": "-LNWLq2zhvUz"
      },
      "source": []
    },
    {
      "cell_type": "markdown",
      "metadata": {
        "id": "Ysa-7eLvEMpE"
      },
      "source": [
        "# Gpu"
      ],
      "id": "Ysa-7eLvEMpE"
    },
    {
      "cell_type": "code",
      "execution_count": 1,
      "metadata": {
        "id": "9GJAW8qAEM8f",
        "colab": {
          "base_uri": "https://localhost:8080/"
        },
        "outputId": "22f68795-5b30-469c-c669-fab073558f3a"
      },
      "outputs": [
        {
          "output_type": "stream",
          "name": "stdout",
          "text": [
            "Tue Sep 16 18:42:23 2025       \n",
            "+-----------------------------------------------------------------------------------------+\n",
            "| NVIDIA-SMI 550.54.15              Driver Version: 550.54.15      CUDA Version: 12.4     |\n",
            "|-----------------------------------------+------------------------+----------------------+\n",
            "| GPU  Name                 Persistence-M | Bus-Id          Disp.A | Volatile Uncorr. ECC |\n",
            "| Fan  Temp   Perf          Pwr:Usage/Cap |           Memory-Usage | GPU-Util  Compute M. |\n",
            "|                                         |                        |               MIG M. |\n",
            "|=========================================+========================+======================|\n",
            "|   0  Tesla T4                       Off |   00000000:00:04.0 Off |                    0 |\n",
            "| N/A   63C    P8             11W /   70W |       0MiB /  15360MiB |      0%      Default |\n",
            "|                                         |                        |                  N/A |\n",
            "+-----------------------------------------+------------------------+----------------------+\n",
            "                                                                                         \n",
            "+-----------------------------------------------------------------------------------------+\n",
            "| Processes:                                                                              |\n",
            "|  GPU   GI   CI        PID   Type   Process name                              GPU Memory |\n",
            "|        ID   ID                                                               Usage      |\n",
            "|=========================================================================================|\n",
            "|  No running processes found                                                             |\n",
            "+-----------------------------------------------------------------------------------------+\n"
          ]
        }
      ],
      "source": [
        "!nvidia-smi"
      ],
      "id": "9GJAW8qAEM8f"
    },
    {
      "cell_type": "code",
      "execution_count": 2,
      "metadata": {
        "id": "FcIdAmrNERw-",
        "colab": {
          "base_uri": "https://localhost:8080/"
        },
        "outputId": "86f049cd-3999-4020-e91e-0f38414fe1b4"
      },
      "outputs": [
        {
          "output_type": "execute_result",
          "data": {
            "text/plain": [
              "[PhysicalDevice(name='/physical_device:GPU:0', device_type='GPU')]"
            ]
          },
          "metadata": {},
          "execution_count": 2
        }
      ],
      "source": [
        "import tensorflow as tf\n",
        "tf.config.list_physical_devices('GPU')"
      ],
      "id": "FcIdAmrNERw-"
    },
    {
      "cell_type": "markdown",
      "id": "m8CIB8vltFfH",
      "metadata": {
        "id": "m8CIB8vltFfH"
      },
      "source": [
        "# Set_Up"
      ]
    },
    {
      "cell_type": "code",
      "execution_count": 3,
      "id": "EB5RqjoAtFwl",
      "metadata": {
        "colab": {
          "base_uri": "https://localhost:8080/"
        },
        "id": "EB5RqjoAtFwl",
        "outputId": "b927a0b0-af8b-49a6-b6ec-0c21e7bf027e"
      },
      "outputs": [
        {
          "output_type": "stream",
          "name": "stdout",
          "text": [
            "/content/drive/MyDrive/Course Folder/Forex/XAUUSD/\n"
          ]
        }
      ],
      "source": [
        "strategy   = 'Kalman'\n",
        "process    = 'Train'\n",
        "symbol     = 'BTCUSD'\n",
        "direction  = 'Short'\n",
        "time_frame = 'M5'\n",
        "\n",
        "root_data = f'/content/drive/MyDrive/Course Folder/Forex/XAUUSD/'\n",
        "print(root_data)\n",
        "\n",
        "rolling_window = 100"
      ]
    },
    {
      "cell_type": "markdown",
      "id": "eaf03429",
      "metadata": {
        "id": "eaf03429"
      },
      "source": [
        "# Import_Libraries"
      ]
    },
    {
      "cell_type": "code",
      "execution_count": 4,
      "id": "R9bTNmBwK_Up",
      "metadata": {
        "colab": {
          "base_uri": "https://localhost:8080/"
        },
        "id": "R9bTNmBwK_Up",
        "outputId": "233e461d-0713-4b05-e635-5e6ee271aef4"
      },
      "outputs": [
        {
          "output_type": "stream",
          "name": "stdout",
          "text": [
            "Requirement already satisfied: ta-lib in /usr/local/lib/python3.12/dist-packages (0.6.7)\n",
            "Requirement already satisfied: build in /usr/local/lib/python3.12/dist-packages (from ta-lib) (1.3.0)\n",
            "Requirement already satisfied: cython in /usr/local/lib/python3.12/dist-packages (from ta-lib) (3.0.12)\n",
            "Requirement already satisfied: numpy in /usr/local/lib/python3.12/dist-packages (from ta-lib) (2.0.2)\n",
            "Requirement already satisfied: packaging>=19.1 in /usr/local/lib/python3.12/dist-packages (from build->ta-lib) (25.0)\n",
            "Requirement already satisfied: pyproject_hooks in /usr/local/lib/python3.12/dist-packages (from build->ta-lib) (1.2.0)\n",
            "0.6.7\n"
          ]
        }
      ],
      "source": [
        "!pip install ta-lib\n",
        "import talib as ta\n",
        "print(ta.__version__)"
      ]
    },
    {
      "cell_type": "code",
      "execution_count": 5,
      "id": "bda1a01c",
      "metadata": {
        "id": "bda1a01c"
      },
      "outputs": [],
      "source": [
        "# Import libraries for data manipulation\n",
        "import numpy as np\n",
        "import pandas as pd\n",
        "import os\n",
        "import tensorflow as tf\n",
        "from datetime import timedelta\n",
        "\n",
        "# For machine learning models\n",
        "import xgboost\n",
        "from xgboost import XGBClassifier\n",
        "from sklearn.linear_model import LogisticRegression\n",
        "from sklearn.ensemble import VotingClassifier\n",
        "from sklearn.ensemble import ExtraTreesClassifier\n",
        "from sklearn.ensemble import AdaBoostClassifier\n",
        "from sklearn import svm\n",
        "from sklearn.preprocessing import StandardScaler\n",
        "from sklearn.metrics import classification_report, confusion_matrix\n",
        "from sklearn.model_selection import train_test_split # Import train_test_split\n",
        "\n",
        "from sklearn.model_selection import StratifiedKFold\n",
        "from sklearn.metrics import accuracy_score, precision_score, recall_score, f1_score\n",
        "\n",
        "from tensorflow.keras.models import Sequential\n",
        "from tensorflow.keras.layers import Dense\n",
        "\n",
        "from tensorflow.keras.models import load_model\n",
        "\n",
        "from imblearn.over_sampling import SMOTE\n",
        "from sklearn.model_selection import GridSearchCV\n",
        "\n",
        "# Import matplotlib as an alias plt and set the style\n",
        "import matplotlib.pyplot as plt\n",
        "%matplotlib inline\n",
        "plt.style.use(\"seaborn-v0_8-whitegrid\")\n",
        "\n",
        "# Import sys to append the path for custom function file\n",
        "import sys\n",
        "sys.path.append(\"..\")\n",
        "\n",
        "# Ignore warnings\n",
        "import warnings\n",
        "warnings.filterwarnings('ignore')\n",
        "\n",
        "import joblib"
      ]
    },
    {
      "cell_type": "code",
      "execution_count": 6,
      "id": "DMuFtzf54JN8",
      "metadata": {
        "colab": {
          "base_uri": "https://localhost:8080/"
        },
        "id": "DMuFtzf54JN8",
        "outputId": "80135bfa-2746-45a1-cbe5-ccfaf08584d8"
      },
      "outputs": [
        {
          "output_type": "stream",
          "name": "stdout",
          "text": [
            "Drive already mounted at /content/drive; to attempt to forcibly remount, call drive.mount(\"/content/drive\", force_remount=True).\n"
          ]
        }
      ],
      "source": [
        "from google.colab import drive\n",
        "drive.mount('/content/drive')"
      ]
    },
    {
      "cell_type": "markdown",
      "id": "zhTndYVi1TEV",
      "metadata": {
        "id": "zhTndYVi1TEV"
      },
      "source": [
        "# Support Functions"
      ]
    },
    {
      "cell_type": "code",
      "execution_count": 7,
      "id": "FYEryjzTLPf8",
      "metadata": {
        "id": "FYEryjzTLPf8"
      },
      "outputs": [],
      "source": [
        "def results(data, pnl_column='PnL'):\n",
        "    # Calculate the metrics\n",
        "    time_difference = data.index.max() - data.index.min()\n",
        "    days = time_difference.days\n",
        "    total_trades = data[data['Open_Trade'].notna() & (data['Open_Trade'] != 0)].shape[0]\n",
        "    profit_trades = data[data[pnl_column] > 0].shape[0]\n",
        "    loss_trades = data[data[pnl_column] < 0].shape[0]\n",
        "    profits = data[data[pnl_column] > 0][pnl_column].sum()\n",
        "    losses = data[data[pnl_column] < 0][pnl_column].sum()\n",
        "\n",
        "    # Create a dictionary with the results\n",
        "    results_dict = {\n",
        "        'days': days,\n",
        "        'total_trades': total_trades,\n",
        "        '': '',\n",
        "        'income': profits,\n",
        "        'losses': losses,\n",
        "        'profits': profits + losses,\n",
        "        ' ':' ',\n",
        "        'profit_trades': profit_trades,\n",
        "        'loss_trades': loss_trades,\n",
        "        '  ':'  ',\n",
        "        '% Win_Trades': profit_trades / (profit_trades + loss_trades) * 100 if (profit_trades + loss_trades) > 0 else 0,\n",
        "        '% Loss_Trades': loss_trades / (profit_trades + loss_trades)*100 if (profit_trades + loss_trades) > 0 else 0\n",
        "    }\n",
        "\n",
        "    # Create a DataFrame from the dictionary and transpose it\n",
        "    perf_metrics = pd.DataFrame([results_dict]).T\n",
        "\n",
        "    # Rename the column\n",
        "    perf_metrics.rename(columns={0: 'Results'}, inplace=True)\n",
        "\n",
        "    # Format the DataFrame for display\n",
        "    perf_metrics.loc[['days', 'total_trades', 'profit_trades', 'loss_trades','% Win_Trades','% Loss_Trades'], 'Results'] = perf_metrics.loc[['days', 'total_trades', 'profit_trades', 'loss_trades','% Win_Trades','% Loss_Trades'], 'Results'].apply(lambda x: f\"{x:,.0f}\" if pd.notna(x) else '')\n",
        "    perf_metrics.loc[['income', 'losses', 'profits'], 'Results'] = perf_metrics.loc[['income', 'losses', 'profits'], 'Results'].apply(lambda x: f\"${x:,.2f}\" if pd.notna(x) else '')\n",
        "\n",
        "    return perf_metrics"
      ]
    },
    {
      "cell_type": "code",
      "execution_count": 8,
      "id": "fB8uDm2F1TS1",
      "metadata": {
        "id": "fB8uDm2F1TS1"
      },
      "outputs": [],
      "source": [
        "def create_features(train_data, index):\n",
        "    short_periods = [3, 5, 7, 10, 15, 17]\n",
        "    long_periods = [20, 22, 66, 126, 252]\n",
        "    periods = short_periods + long_periods\n",
        "\n",
        "    features = pd.DataFrame(index=index)\n",
        "\n",
        "    # Indicators that do not depend on the lookback period\n",
        "    features['OBV'] = ta.OBV(train_data['Close'], train_data['Volume'])\n",
        "    features['AD'] = ta.AD(train_data['High'], train_data['Low'],\n",
        "                           train_data['Close'], train_data['Volume'])\n",
        "\n",
        "    # Pre-compute moving averages to avoid repeated calculations\n",
        "    sma = {p: ta.SMA(train_data['Close'], timeperiod=p) for p in periods}\n",
        "    ema = {p: ta.EMA(train_data['Close'], timeperiod=p) for p in periods}\n",
        "\n",
        "    for period in periods:\n",
        "        features[f'RSI_{period}'] = ta.RSI(train_data['Close'], timeperiod=period)\n",
        "        features[f'MFI_{period}'] = ta.MFI(train_data['High'], train_data['Low'],\n",
        "                                           train_data['Close'], train_data['Volume'],\n",
        "                                           timeperiod=period)\n",
        "        features[f'ADX_{period}'] = ta.ADX(train_data['High'], train_data['Low'],\n",
        "                                           train_data['Close'], timeperiod=period)\n",
        "        features[f'ROCP_{period}'] = ta.ROCP(train_data['Close'], timeperiod=period)\n",
        "\n",
        "    for s in short_periods:\n",
        "        for l in long_periods:\n",
        "            features[f'SMA_Crossover_{s}_{l}'] = sma[s] - sma[l]\n",
        "            features[f'EMA_Crossover_{s}_{l}'] = ema[s] - ema[l]\n",
        "\n",
        "    features.dropna(inplace=True)\n",
        "    return features\n"
      ]
    },
    {
      "cell_type": "code",
      "execution_count": 9,
      "id": "196899d1",
      "metadata": {
        "id": "196899d1"
      },
      "outputs": [],
      "source": [
        "def strategy_returns_dynamic_different_thresholds(prices, threshold):\n",
        "    rolling = prices['Rolling Returns'].to_numpy()\n",
        "    yearly_std = prices['Yearly Stdev'].to_numpy()\n",
        "    pct_change = prices['Close'].pct_change().to_numpy()\n",
        "    signals = np.zeros(len(prices), dtype=np.int8)\n",
        "\n",
        "    curr_pos = 0\n",
        "    hold_days = 0\n",
        "    for i in range(len(prices)):\n",
        "        if curr_pos == 0 or hold_days == 20:\n",
        "            thresh_val = threshold * yearly_std[i]\n",
        "            if rolling[i] >= thresh_val:\n",
        "                curr_pos = 1\n",
        "                hold_days = 0\n",
        "            elif rolling[i] < -thresh_val:\n",
        "                curr_pos = -1\n",
        "                hold_days = 0\n",
        "            else:\n",
        "                curr_pos = 0\n",
        "                hold_days = 0\n",
        "        else:\n",
        "            hold_days += 1\n",
        "        signals[i] = curr_pos\n",
        "\n",
        "    prices[f'Signal_{threshold}'] = signals\n",
        "    strategy_returns = pct_change * np.roll(signals, 1)\n",
        "    prices[f'Strategy Returns_{threshold}'] = strategy_returns\n",
        "    return np.cumprod(strategy_returns + 1)\n",
        "\n",
        "\n",
        "def strategy_returns_different_thresholds(prices, threshold):\n",
        "    rolling = prices['Rolling Returns'].to_numpy()\n",
        "    pct_change = prices['Close'].pct_change().to_numpy()\n",
        "    signals = np.zeros(len(prices), dtype=np.int8)\n",
        "\n",
        "    curr_pos = 0\n",
        "    hold_days = 0\n",
        "    for i in range(len(prices)):\n",
        "        if curr_pos == 0 or hold_days == 20:\n",
        "            if rolling[i] >= threshold:\n",
        "                curr_pos = 1\n",
        "                hold_days = 0\n",
        "            elif rolling[i] < threshold:\n",
        "                curr_pos = -1\n",
        "                hold_days = 0\n",
        "        else:\n",
        "            hold_days += 1\n",
        "        signals[i] = curr_pos\n",
        "\n",
        "    prices[f'Signal_{threshold}'] = signals\n",
        "    strategy_returns = pct_change * np.roll(signals, 1)\n",
        "    prices[f'Strategy Returns_{threshold}'] = strategy_returns\n",
        "    return np.cumprod(strategy_returns + 1)\n"
      ]
    },
    {
      "cell_type": "markdown",
      "id": "0ZOg20zC2Gei",
      "metadata": {
        "id": "0ZOg20zC2Gei"
      },
      "source": [
        "# Data"
      ]
    },
    {
      "cell_type": "code",
      "source": [
        "data_type = 'Scale'"
      ],
      "metadata": {
        "id": "dyGl1MUHVebJ"
      },
      "id": "dyGl1MUHVebJ",
      "execution_count": 209,
      "outputs": []
    },
    {
      "cell_type": "code",
      "execution_count": 220,
      "id": "oZ4oncRY2Kv_",
      "metadata": {
        "colab": {
          "base_uri": "https://localhost:8080/"
        },
        "id": "oZ4oncRY2Kv_",
        "outputId": "59172395-b6ce-46ec-b70a-932efc786036"
      },
      "outputs": [
        {
          "output_type": "stream",
          "name": "stdout",
          "text": [
            "The train_data DataFrame covers a period of 937 days.\n"
          ]
        }
      ],
      "source": [
        "### Open OHLC dataframe\n",
        "\n",
        "ohlc = pd.read_csv(root_data + 'Data/'+symbol+'_M5.csv', index_col=0)\n",
        "ohlc.index = pd.to_datetime(ohlc.index)\n",
        "time_difference = ohlc.index.max() - ohlc.index.min()\n",
        "number_of_days = time_difference.days\n",
        "\n",
        "print(f\"The train_data DataFrame covers a period of {number_of_days} days.\")\n",
        "#ohlc.tail(3)"
      ]
    },
    {
      "cell_type": "code",
      "execution_count": 221,
      "id": "vZHp1PgT2L7e",
      "metadata": {
        "colab": {
          "base_uri": "https://localhost:8080/",
          "height": 450
        },
        "id": "vZHp1PgT2L7e",
        "outputId": "34cd5d66-b56e-4a73-f866-747cd6be5662"
      },
      "outputs": [
        {
          "output_type": "stream",
          "name": "stdout",
          "text": [
            "['label', '10min_RSI_3_diff', '10min_RSI_3', '10min_slope_signal_600_3', '10min_slope_signal_300_3', '10min_slope_div_300_3_diff', '10min_slope_lin_reg_signal_900_6', 'RSI_7', '10min_slope_signal_900_3', '10min_slope_angle_900_3_diff', '10min_slope_signal_900_9_diff', '10min_slope_signal_600_3_diff', '10min_slope_lin_reg_signal_600_3', '10min_slope_div_300_6 - slope_div_600_9', '10min_slope_div_300_9', '10min_slope_signal_300_6 - slope_signal_600_3', '10min_slope_signal_300_6', '10min_slope_signal_300_6 - slope_signal_600_6', '10min_slope_angle_600_3', '10min_slope_angle_600_3_diff', '10min_slope_lin_reg_signal_600_6', '10min_slope_lin_reg_signal_300_6 - slope_lin_reg_signal_900_9', 'Kal_600_minus_Kal_900', '10min_slope_signal_300_9 - slope_signal_900_9', '10min_slope_div_300_3 - slope_div_300_6', '10min_slope_lin_reg_signal_600_9', '10min_slope_signal_600_6', '10min_slope_signal_300_3 - slope_signal_600_3', '10min_slope_signal_300_6 - slope_signal_900_6', '10min_slope_lin_reg_600_3 - slope_lin_reg_900_9', '10min_slope_lin_reg_signal_300_6_diff', '10min_MFI_3_diff', '10min_slope_signal_900_3_diff', 'Close_Kal_300', '10min_slope_lin_reg_signal_600_9 - slope_lin_reg_signal_900_6', '10min_slope_lin_reg_signal_300_6', 'slope_lin_reg_signal_600_6_diff', 'slope_div_600_3', 'slope_div_300_9 - slope_div_600_9', '10min_slope_angle_300_6_diff', '10min_slope_signal_300_6_diff', '10min_slope_angle_600_3 - slope_angle_900_9', 'slope_angle_300_3 - slope_angle_300_9', '10min_slope_lin_reg_signal_600_3 - slope_lin_reg_signal_600_9', '10min_slope_lin_reg_signal_300_3 - slope_lin_reg_signal_300_9', 'slope_angle_600_3', '10min_slope_lin_reg_signal_900_3', '10min_slope_angle_600_6 - slope_angle_900_3', '10min_slope_signal_900_6_diff', 'OBV_diff', '10min_slope_angle_300_3 - slope_angle_300_6', 'slope_angle_300_6_diff', 'RSI_7 - RSI_14', '10min_slope_signal_900_6 - slope_signal_900_9', '10min_slope_div_600_3 - slope_div_600_6', 'RSI_3_diff', '10min_slope_angle_600_9 - slope_angle_900_9', 'slope_angle_300_9 - slope_angle_900_9', '10min_slope_lin_reg_signal_300_9_diff', 'slope_div_300_6 - slope_div_900_9', '10min_slope_signal_600_9 - slope_signal_900_9', '10min_slope_angle_900_6 - slope_angle_900_9', 'RSI_3', '10min_slope_signal_300_3_diff', '10min_slope_lin_reg_signal_300_9 - slope_lin_reg_signal_900_3', '10min_slope_signal_300_6 - slope_signal_600_9', 'slope_signal_600_6 - slope_signal_600_9', 'slope_div_300_6 - slope_div_600_9', '10min_slope_lin_reg_signal_600_6 - slope_lin_reg_signal_900_9', '10min_slope_angle_300_6 - slope_angle_300_9', '10min_slope_lin_reg_signal_300_6 - slope_lin_reg_signal_900_3', 'slope_angle_300_9_diff', '10min_slope_signal_300_6 - slope_signal_900_9', 'slope_signal_600_9_diff', '10min_slope_signal_300_9 - slope_signal_900_6', '10min_slope_angle_300_9 - slope_angle_600_3', '10min_slope_signal_900_6', 'slope_angle_900_9', '10min_slope_signal_900_9', '10min_slope_angle_600_6 - slope_angle_600_9', '10min_slope_angle_300_9', 'slope_lin_reg_signal_900_6 - slope_lin_reg_signal_900_9', '10min_slope_angle_600_6 - slope_angle_900_6', 'slope_lin_reg_signal_300_3', '10min_slope_lin_reg_signal_600_6 - slope_lin_reg_signal_900_6', 'slope_angle_300_6 - slope_angle_900_9', 'slope_div_300_6_diff', 'slope_angle_900_9_diff', 'slope_signal_600_9 - slope_signal_900_6', 'slope_signal_600_6_diff', '10min_slope_lin_reg_signal_900_3 - slope_lin_reg_signal_900_9', '10min_slope_angle_300_6 - slope_angle_600_6', '10min_slope_div_600_3 - slope_div_900_6', '10min_slope_lin_reg_signal_300_3 - slope_lin_reg_signal_600_9', '10min_slope_signal_300_6 - slope_signal_300_9', 'slope_signal_600_3', '10min_slope_angle_300_6 - slope_angle_900_9', 'slope_angle_300_6 - slope_angle_600_9', 'slope_angle_600_3 - slope_angle_900_3', '10min_slope_lin_reg_signal_600_9_diff', 'slope_div_300_3 - slope_div_300_6', 'slope_angle_300_6', 'slope_lin_reg_signal_300_6 - slope_lin_reg_signal_900_6', 'slope_angle_600_6 - slope_angle_900_6', 'slope_lin_reg_signal_600_6 - slope_lin_reg_signal_900_6', '10min_slope_lin_reg_signal_900_3 - slope_lin_reg_signal_900_6', 'slope_angle_600_9 - slope_angle_900_6', '10min_slope_angle_600_6_diff', '10min_slope_lin_reg_signal_300_3 - slope_lin_reg_signal_900_6', '10min_slope_signal_300_9 - slope_signal_600_3', '10min_slope_lin_reg_signal_300_9 - slope_lin_reg_signal_600_6', 'slope_angle_600_3 - slope_angle_600_6', 'slope_angle_900_3', 'MFI_3 - MFI_14', '10min_slope_signal_300_3 - slope_signal_900_9', '10min_slope_lin_reg_signal_600_6 - slope_lin_reg_signal_600_9', 'slope_signal_300_3 - slope_signal_600_6', 'slope_angle_300_6 - slope_angle_300_9', 'slope_angle_300_3', '10min_slope_signal_300_3 - slope_signal_600_6', 'slope_angle_300_9', 'slope_signal_600_9', 'slope_signal_600_6', 'slope_signal_300_9 - slope_signal_900_9', 'Kal_300', '10min_slope_signal_600_3 - slope_signal_900_3', '10min_Kal_300', 'slope_signal_300_6 - slope_signal_600_9', '10min_slope_angle_300_3 - slope_angle_600_6', '10min_OBV_diff', 'RSI_3 - RSI_7', '10min_slope_lin_reg_signal_600_9 - slope_lin_reg_signal_900_3', 'slope_angle_600_3 - slope_angle_900_6', 'slope_lin_reg_signal_300_9 - slope_lin_reg_signal_900_9', '10min_MFI_7 - MFI_14', '10min_slope_signal_600_3 - slope_signal_600_6', 'slope_lin_reg_signal_600_6 - slope_lin_reg_signal_600_9', '10min_slope_angle_300_9 - slope_angle_900_6', '10min_slope_lin_reg_signal_300_6 - slope_lin_reg_signal_300_9', '10min_slope_lin_reg_signal_600_3 - slope_lin_reg_signal_900_3', '10min_slope_lin_reg_signal_300_6 - slope_lin_reg_signal_900_6', 'slope_lin_reg_600_6_diff', 'slope_angle_600_9', 'slope_lin_reg_signal_300_6 - slope_lin_reg_signal_600_6', 'MFI_7 - MFI_14', '10min_OBV', '10min_MFI_14_diff', 'slope_div_300_9_diff', '10min_slope_angle_300_9 - slope_angle_600_9', '10min_slope_lin_reg_signal_300_3 - slope_lin_reg_signal_600_6', 'slope_angle_600_3_diff', 'slope_angle_300_9 - slope_angle_600_6', '10min_slope_lin_reg_signal_300_9 - slope_lin_reg_signal_600_9', '10min_slope_signal_300_9 - slope_signal_600_9', 'slope_angle_600_9_diff', '10min_slope_angle_300_9 - slope_angle_900_9', 'slope_angle_300_3_diff', 'slope_angle_900_6_diff', 'slope_angle_900_3 - slope_angle_900_6', 'slope_angle_300_6 - slope_angle_900_6', 'slope_lin_reg_signal_600_6 - slope_lin_reg_signal_900_3', 'MFI_3_diff', 'slope_signal_600_3 - slope_signal_900_9', '10min_slope_angle_300_3 - slope_angle_900_3', 'slope_lin_reg_signal_900_3 - slope_lin_reg_signal_900_6', '10min_slope_angle_600_9_diff', '10min_slope_lin_reg_300_3 - slope_lin_reg_600_9', 'slope_signal_900_3_diff', '10min_slope_div_300_3 - slope_div_900_6', '10min_slope_signal_300_3 - slope_signal_900_6', 'slope_lin_reg_signal_600_9 - slope_lin_reg_signal_900_9', 'slope_angle_300_9 - slope_angle_900_6', 'slope_angle_300_6 - slope_angle_600_3', '10min_slope_lin_reg_signal_300_3 - slope_lin_reg_signal_300_6', 'slope_div_300_3 - slope_div_900_6', '10min_slope_signal_600_9 - slope_signal_900_6', 'slope_signal_300_3_diff', 'slope_lin_reg_signal_300_3 - slope_lin_reg_signal_900_6', 'slope_angle_600_6 - slope_angle_900_3', 'slope_signal_900_9', 'slope_lin_reg_signal_600_6', 'slope_lin_reg_signal_600_3 - slope_lin_reg_signal_600_6', '10min_slope_lin_reg_signal_300_3 - slope_lin_reg_signal_900_3', 'slope_angle_300_3 - slope_angle_900_9', 'slope_lin_reg_600_3_diff', 'slope_signal_300_6 - slope_signal_900_9', '10min_slope_lin_reg_signal_300_9', 'slope_lin_reg_signal_900_9_diff', 'slope_signal_300_9 - slope_signal_600_9', 'MFI_14_diff', 'MFI_14', '10min_slope_angle_900_6_diff', 'slope_lin_reg_300_6_diff', 'slope_signal_900_6', 'Kal_prev2_minus_now_300', '10min_slope_signal_300_9 - slope_signal_600_6', 'slope_lin_reg_600_9_diff', '10min_slope_angle_300_3 - slope_angle_900_6', 'slope_signal_600_3 - slope_signal_900_3', 'MFI_7_diff', 'slope_signal_600_3 - slope_signal_900_6', 'slope_signal_300_6 - slope_signal_600_3', '10min_slope_lin_reg_signal_900_6 - slope_lin_reg_signal_900_9', 'MFI_7', 'slope_lin_reg_signal_300_6', 'slope_signal_300_9_diff', '10min_slope_lin_reg_signal_300_3 - slope_lin_reg_signal_600_3', 'slope_signal_300_3 - slope_signal_900_6', 'slope_signal_300_6 - slope_signal_300_9', '10min_slope_lin_reg_signal_300_6 - slope_lin_reg_signal_600_3', 'slope_angle_900_3_diff', 'slope_lin_reg_signal_600_6 - slope_lin_reg_signal_900_9', 'slope_signal_300_3 - slope_signal_300_6', '10min_MFI_7_diff', '10min_slope_signal_600_9', '10min_slope_angle_300_6 - slope_angle_900_6', 'slope_lin_reg_signal_300_3 - slope_lin_reg_signal_900_3', '10min_slope_lin_reg_signal_600_3 - slope_lin_reg_signal_900_6', '10min_slope_angle_300_3 - slope_angle_600_3', 'slope_lin_reg_signal_300_6 - slope_lin_reg_signal_900_3', 'Kal_prev2_minus_now_600', 'slope_lin_reg_signal_600_3_diff', 'slope_div_300_3_diff', '10min_MFI_7', 'slope_lin_reg_signal_900_6_diff', '10min_slope_lin_reg_signal_300_3 - slope_lin_reg_signal_900_9', '10min_slope_angle_600_3 - slope_angle_600_9', 'slope_lin_reg_signal_300_3 - slope_lin_reg_signal_600_6', '10min_slope_lin_reg_signal_300_9 - slope_lin_reg_signal_600_3', 'slope_signal_300_3 - slope_signal_600_9', 'slope_lin_reg_signal_300_6 - slope_lin_reg_signal_600_3', '10min_slope_angle_300_3 - slope_angle_900_9', 'slope_angle_600_6 - slope_angle_900_9', '10min_slope_lin_reg_signal_900_3_diff', 'MFI_3 - MFI_7', '10min_slope_angle_300_6 - slope_angle_900_3', 'slope_angle_300_3 - slope_angle_600_3', '10min_slope_lin_reg_signal_300_9 - slope_lin_reg_signal_900_6', 'slope_div_300_6', 'slope_signal_300_3 - slope_signal_600_3', 'slope_lin_reg_signal_600_3', 'slope_lin_reg_signal_300_9 - slope_lin_reg_signal_600_6', '10min_slope_lin_reg_signal_600_3 - slope_lin_reg_signal_600_6', 'slope_signal_900_9_diff', 'slope_signal_600_9 - slope_signal_900_9', 'slope_lin_reg_signal_600_3 - slope_lin_reg_signal_900_6', '10min_slope_lin_reg_signal_300_6 - slope_lin_reg_signal_600_6', 'slope_lin_reg_signal_300_6 - slope_lin_reg_signal_900_9', 'slope_angle_600_6', '10min_slope_signal_600_6_diff', '10min_slope_angle_300_3 - slope_angle_600_9', '10min_slope_angle_600_6 - slope_angle_900_9', '10min_slope_signal_300_9', '10min_slope_lin_reg_signal_900_9_diff', 'slope_angle_300_3 - slope_angle_300_6', 'slope_signal_300_6_diff', '10min_slope_signal_600_6 - slope_signal_600_9', 'slope_angle_600_6 - slope_angle_600_9', '10min_slope_angle_300_6', '10min_slope_angle_600_3 - slope_angle_600_6', '10min_slope_angle_900_3 - slope_angle_900_6', 'slope_signal_300_3 - slope_signal_900_9', '10min_slope_angle_600_9 - slope_angle_900_6', 'slope_signal_600_3 - slope_signal_600_6', 'slope_lin_reg_signal_600_9', 'slope_angle_300_3 - slope_angle_900_6', 'slope_angle_900_6', '10min_slope_angle_300_9 - slope_angle_600_6', '10min_slope_angle_300_6 - slope_angle_600_3', 'slope_signal_300_9', '10min_slope_lin_reg_signal_300_9 - slope_lin_reg_signal_900_9', 'slope_angle_300_3 - slope_angle_900_3'] \n",
            "\n",
            "Shape =  (14438, 272)\n",
            "IsNull =  0\n",
            "IsNull =  0\n"
          ]
        },
        {
          "output_type": "execute_result",
          "data": {
            "text/plain": [
              "                     label  10min_RSI_3_diff  10min_RSI_3  \\\n",
              "Date                                                        \n",
              "2025-07-26 20:30:00      0          0.378237     1.588212   \n",
              "2025-07-26 21:15:00      0          0.378237     1.588212   \n",
              "2025-07-26 23:05:00      1          0.378237     1.588212   \n",
              "\n",
              "                     10min_slope_signal_600_3  10min_slope_signal_300_3  \\\n",
              "Date                                                                      \n",
              "2025-07-26 20:30:00                 -0.977742                  1.059255   \n",
              "2025-07-26 21:15:00                 -0.977742                  1.059255   \n",
              "2025-07-26 23:05:00                 -0.977742                  1.059255   \n",
              "\n",
              "                     10min_slope_div_300_3_diff  \\\n",
              "Date                                              \n",
              "2025-07-26 20:30:00                    0.261028   \n",
              "2025-07-26 21:15:00                    0.261028   \n",
              "2025-07-26 23:05:00                    0.261028   \n",
              "\n",
              "                     10min_slope_lin_reg_signal_900_6     RSI_7  \\\n",
              "Date                                                              \n",
              "2025-07-26 20:30:00                          1.102774 -0.982505   \n",
              "2025-07-26 21:15:00                          1.102774 -1.136307   \n",
              "2025-07-26 23:05:00                          1.102774 -0.655377   \n",
              "\n",
              "                     10min_slope_signal_900_3  10min_slope_angle_900_3_diff  \\\n",
              "Date                                                                          \n",
              "2025-07-26 20:30:00                 -0.987571                     -0.000604   \n",
              "2025-07-26 21:15:00                 -0.987571                     -0.000604   \n",
              "2025-07-26 23:05:00                 -0.987571                     -0.000604   \n",
              "\n",
              "                     ...  10min_slope_angle_600_9 - slope_angle_900_6  \\\n",
              "Date                 ...                                                \n",
              "2025-07-26 20:30:00  ...                                    -0.006334   \n",
              "2025-07-26 21:15:00  ...                                    -0.006334   \n",
              "2025-07-26 23:05:00  ...                                    -0.006334   \n",
              "\n",
              "                     slope_signal_600_3 - slope_signal_600_6  \\\n",
              "Date                                                           \n",
              "2025-07-26 20:30:00                                -0.008887   \n",
              "2025-07-26 21:15:00                                 0.017918   \n",
              "2025-07-26 23:05:00                                 0.008887   \n",
              "\n",
              "                     slope_lin_reg_signal_600_9  \\\n",
              "Date                                              \n",
              "2025-07-26 20:30:00                   -0.920648   \n",
              "2025-07-26 21:15:00                    1.091702   \n",
              "2025-07-26 23:05:00                    0.987571   \n",
              "\n",
              "                     slope_angle_300_3 - slope_angle_900_6  slope_angle_900_6  \\\n",
              "Date                                                                            \n",
              "2025-07-26 20:30:00                               0.019566          -0.935725   \n",
              "2025-07-26 21:15:00                              -0.130668           1.073741   \n",
              "2025-07-26 23:05:00                              -0.032381           0.988749   \n",
              "\n",
              "                     10min_slope_angle_300_9 - slope_angle_600_6  \\\n",
              "Date                                                               \n",
              "2025-07-26 20:30:00                                     0.009094   \n",
              "2025-07-26 21:15:00                                     0.009094   \n",
              "2025-07-26 23:05:00                                     0.009094   \n",
              "\n",
              "                     10min_slope_angle_300_6 - slope_angle_600_3  \\\n",
              "Date                                                               \n",
              "2025-07-26 20:30:00                                    -0.008663   \n",
              "2025-07-26 21:15:00                                    -0.008663   \n",
              "2025-07-26 23:05:00                                    -0.008663   \n",
              "\n",
              "                     slope_signal_300_9  \\\n",
              "Date                                      \n",
              "2025-07-26 20:30:00            1.069946   \n",
              "2025-07-26 21:15:00            0.987571   \n",
              "2025-07-26 23:05:00           -1.059255   \n",
              "\n",
              "                     10min_slope_lin_reg_signal_300_9 - slope_lin_reg_signal_900_9  \\\n",
              "Date                                                                                 \n",
              "2025-07-26 20:30:00                                                0.0               \n",
              "2025-07-26 21:15:00                                                0.0               \n",
              "2025-07-26 23:05:00                                                0.0               \n",
              "\n",
              "                     slope_angle_300_3 - slope_angle_900_3  \n",
              "Date                                                        \n",
              "2025-07-26 20:30:00                              -0.577616  \n",
              "2025-07-26 21:15:00                               0.059524  \n",
              "2025-07-26 23:05:00                               2.504577  \n",
              "\n",
              "[3 rows x 272 columns]"
            ],
            "text/html": [
              "\n",
              "  <div id=\"df-b3f62610-6738-42e9-a74c-2c4c9f1d95b9\" class=\"colab-df-container\">\n",
              "    <div>\n",
              "<style scoped>\n",
              "    .dataframe tbody tr th:only-of-type {\n",
              "        vertical-align: middle;\n",
              "    }\n",
              "\n",
              "    .dataframe tbody tr th {\n",
              "        vertical-align: top;\n",
              "    }\n",
              "\n",
              "    .dataframe thead th {\n",
              "        text-align: right;\n",
              "    }\n",
              "</style>\n",
              "<table border=\"1\" class=\"dataframe\">\n",
              "  <thead>\n",
              "    <tr style=\"text-align: right;\">\n",
              "      <th></th>\n",
              "      <th>label</th>\n",
              "      <th>10min_RSI_3_diff</th>\n",
              "      <th>10min_RSI_3</th>\n",
              "      <th>10min_slope_signal_600_3</th>\n",
              "      <th>10min_slope_signal_300_3</th>\n",
              "      <th>10min_slope_div_300_3_diff</th>\n",
              "      <th>10min_slope_lin_reg_signal_900_6</th>\n",
              "      <th>RSI_7</th>\n",
              "      <th>10min_slope_signal_900_3</th>\n",
              "      <th>10min_slope_angle_900_3_diff</th>\n",
              "      <th>...</th>\n",
              "      <th>10min_slope_angle_600_9 - slope_angle_900_6</th>\n",
              "      <th>slope_signal_600_3 - slope_signal_600_6</th>\n",
              "      <th>slope_lin_reg_signal_600_9</th>\n",
              "      <th>slope_angle_300_3 - slope_angle_900_6</th>\n",
              "      <th>slope_angle_900_6</th>\n",
              "      <th>10min_slope_angle_300_9 - slope_angle_600_6</th>\n",
              "      <th>10min_slope_angle_300_6 - slope_angle_600_3</th>\n",
              "      <th>slope_signal_300_9</th>\n",
              "      <th>10min_slope_lin_reg_signal_300_9 - slope_lin_reg_signal_900_9</th>\n",
              "      <th>slope_angle_300_3 - slope_angle_900_3</th>\n",
              "    </tr>\n",
              "    <tr>\n",
              "      <th>Date</th>\n",
              "      <th></th>\n",
              "      <th></th>\n",
              "      <th></th>\n",
              "      <th></th>\n",
              "      <th></th>\n",
              "      <th></th>\n",
              "      <th></th>\n",
              "      <th></th>\n",
              "      <th></th>\n",
              "      <th></th>\n",
              "      <th></th>\n",
              "      <th></th>\n",
              "      <th></th>\n",
              "      <th></th>\n",
              "      <th></th>\n",
              "      <th></th>\n",
              "      <th></th>\n",
              "      <th></th>\n",
              "      <th></th>\n",
              "      <th></th>\n",
              "      <th></th>\n",
              "    </tr>\n",
              "  </thead>\n",
              "  <tbody>\n",
              "    <tr>\n",
              "      <th>2025-07-26 20:30:00</th>\n",
              "      <td>0</td>\n",
              "      <td>0.378237</td>\n",
              "      <td>1.588212</td>\n",
              "      <td>-0.977742</td>\n",
              "      <td>1.059255</td>\n",
              "      <td>0.261028</td>\n",
              "      <td>1.102774</td>\n",
              "      <td>-0.982505</td>\n",
              "      <td>-0.987571</td>\n",
              "      <td>-0.000604</td>\n",
              "      <td>...</td>\n",
              "      <td>-0.006334</td>\n",
              "      <td>-0.008887</td>\n",
              "      <td>-0.920648</td>\n",
              "      <td>0.019566</td>\n",
              "      <td>-0.935725</td>\n",
              "      <td>0.009094</td>\n",
              "      <td>-0.008663</td>\n",
              "      <td>1.069946</td>\n",
              "      <td>0.0</td>\n",
              "      <td>-0.577616</td>\n",
              "    </tr>\n",
              "    <tr>\n",
              "      <th>2025-07-26 21:15:00</th>\n",
              "      <td>0</td>\n",
              "      <td>0.378237</td>\n",
              "      <td>1.588212</td>\n",
              "      <td>-0.977742</td>\n",
              "      <td>1.059255</td>\n",
              "      <td>0.261028</td>\n",
              "      <td>1.102774</td>\n",
              "      <td>-1.136307</td>\n",
              "      <td>-0.987571</td>\n",
              "      <td>-0.000604</td>\n",
              "      <td>...</td>\n",
              "      <td>-0.006334</td>\n",
              "      <td>0.017918</td>\n",
              "      <td>1.091702</td>\n",
              "      <td>-0.130668</td>\n",
              "      <td>1.073741</td>\n",
              "      <td>0.009094</td>\n",
              "      <td>-0.008663</td>\n",
              "      <td>0.987571</td>\n",
              "      <td>0.0</td>\n",
              "      <td>0.059524</td>\n",
              "    </tr>\n",
              "    <tr>\n",
              "      <th>2025-07-26 23:05:00</th>\n",
              "      <td>1</td>\n",
              "      <td>0.378237</td>\n",
              "      <td>1.588212</td>\n",
              "      <td>-0.977742</td>\n",
              "      <td>1.059255</td>\n",
              "      <td>0.261028</td>\n",
              "      <td>1.102774</td>\n",
              "      <td>-0.655377</td>\n",
              "      <td>-0.987571</td>\n",
              "      <td>-0.000604</td>\n",
              "      <td>...</td>\n",
              "      <td>-0.006334</td>\n",
              "      <td>0.008887</td>\n",
              "      <td>0.987571</td>\n",
              "      <td>-0.032381</td>\n",
              "      <td>0.988749</td>\n",
              "      <td>0.009094</td>\n",
              "      <td>-0.008663</td>\n",
              "      <td>-1.059255</td>\n",
              "      <td>0.0</td>\n",
              "      <td>2.504577</td>\n",
              "    </tr>\n",
              "  </tbody>\n",
              "</table>\n",
              "<p>3 rows × 272 columns</p>\n",
              "</div>\n",
              "    <div class=\"colab-df-buttons\">\n",
              "\n",
              "  <div class=\"colab-df-container\">\n",
              "    <button class=\"colab-df-convert\" onclick=\"convertToInteractive('df-b3f62610-6738-42e9-a74c-2c4c9f1d95b9')\"\n",
              "            title=\"Convert this dataframe to an interactive table.\"\n",
              "            style=\"display:none;\">\n",
              "\n",
              "  <svg xmlns=\"http://www.w3.org/2000/svg\" height=\"24px\" viewBox=\"0 -960 960 960\">\n",
              "    <path d=\"M120-120v-720h720v720H120Zm60-500h600v-160H180v160Zm220 220h160v-160H400v160Zm0 220h160v-160H400v160ZM180-400h160v-160H180v160Zm440 0h160v-160H620v160ZM180-180h160v-160H180v160Zm440 0h160v-160H620v160Z\"/>\n",
              "  </svg>\n",
              "    </button>\n",
              "\n",
              "  <style>\n",
              "    .colab-df-container {\n",
              "      display:flex;\n",
              "      gap: 12px;\n",
              "    }\n",
              "\n",
              "    .colab-df-convert {\n",
              "      background-color: #E8F0FE;\n",
              "      border: none;\n",
              "      border-radius: 50%;\n",
              "      cursor: pointer;\n",
              "      display: none;\n",
              "      fill: #1967D2;\n",
              "      height: 32px;\n",
              "      padding: 0 0 0 0;\n",
              "      width: 32px;\n",
              "    }\n",
              "\n",
              "    .colab-df-convert:hover {\n",
              "      background-color: #E2EBFA;\n",
              "      box-shadow: 0px 1px 2px rgba(60, 64, 67, 0.3), 0px 1px 3px 1px rgba(60, 64, 67, 0.15);\n",
              "      fill: #174EA6;\n",
              "    }\n",
              "\n",
              "    .colab-df-buttons div {\n",
              "      margin-bottom: 4px;\n",
              "    }\n",
              "\n",
              "    [theme=dark] .colab-df-convert {\n",
              "      background-color: #3B4455;\n",
              "      fill: #D2E3FC;\n",
              "    }\n",
              "\n",
              "    [theme=dark] .colab-df-convert:hover {\n",
              "      background-color: #434B5C;\n",
              "      box-shadow: 0px 1px 3px 1px rgba(0, 0, 0, 0.15);\n",
              "      filter: drop-shadow(0px 1px 2px rgba(0, 0, 0, 0.3));\n",
              "      fill: #FFFFFF;\n",
              "    }\n",
              "  </style>\n",
              "\n",
              "    <script>\n",
              "      const buttonEl =\n",
              "        document.querySelector('#df-b3f62610-6738-42e9-a74c-2c4c9f1d95b9 button.colab-df-convert');\n",
              "      buttonEl.style.display =\n",
              "        google.colab.kernel.accessAllowed ? 'block' : 'none';\n",
              "\n",
              "      async function convertToInteractive(key) {\n",
              "        const element = document.querySelector('#df-b3f62610-6738-42e9-a74c-2c4c9f1d95b9');\n",
              "        const dataTable =\n",
              "          await google.colab.kernel.invokeFunction('convertToInteractive',\n",
              "                                                    [key], {});\n",
              "        if (!dataTable) return;\n",
              "\n",
              "        const docLinkHtml = 'Like what you see? Visit the ' +\n",
              "          '<a target=\"_blank\" href=https://colab.research.google.com/notebooks/data_table.ipynb>data table notebook</a>'\n",
              "          + ' to learn more about interactive tables.';\n",
              "        element.innerHTML = '';\n",
              "        dataTable['output_type'] = 'display_data';\n",
              "        await google.colab.output.renderOutput(dataTable, element);\n",
              "        const docLink = document.createElement('div');\n",
              "        docLink.innerHTML = docLinkHtml;\n",
              "        element.appendChild(docLink);\n",
              "      }\n",
              "    </script>\n",
              "  </div>\n",
              "\n",
              "\n",
              "    <div id=\"df-ee7488c5-ed33-43b4-977c-5a4c2de61cce\">\n",
              "      <button class=\"colab-df-quickchart\" onclick=\"quickchart('df-ee7488c5-ed33-43b4-977c-5a4c2de61cce')\"\n",
              "                title=\"Suggest charts\"\n",
              "                style=\"display:none;\">\n",
              "\n",
              "<svg xmlns=\"http://www.w3.org/2000/svg\" height=\"24px\"viewBox=\"0 0 24 24\"\n",
              "     width=\"24px\">\n",
              "    <g>\n",
              "        <path d=\"M19 3H5c-1.1 0-2 .9-2 2v14c0 1.1.9 2 2 2h14c1.1 0 2-.9 2-2V5c0-1.1-.9-2-2-2zM9 17H7v-7h2v7zm4 0h-2V7h2v10zm4 0h-2v-4h2v4z\"/>\n",
              "    </g>\n",
              "</svg>\n",
              "      </button>\n",
              "\n",
              "<style>\n",
              "  .colab-df-quickchart {\n",
              "      --bg-color: #E8F0FE;\n",
              "      --fill-color: #1967D2;\n",
              "      --hover-bg-color: #E2EBFA;\n",
              "      --hover-fill-color: #174EA6;\n",
              "      --disabled-fill-color: #AAA;\n",
              "      --disabled-bg-color: #DDD;\n",
              "  }\n",
              "\n",
              "  [theme=dark] .colab-df-quickchart {\n",
              "      --bg-color: #3B4455;\n",
              "      --fill-color: #D2E3FC;\n",
              "      --hover-bg-color: #434B5C;\n",
              "      --hover-fill-color: #FFFFFF;\n",
              "      --disabled-bg-color: #3B4455;\n",
              "      --disabled-fill-color: #666;\n",
              "  }\n",
              "\n",
              "  .colab-df-quickchart {\n",
              "    background-color: var(--bg-color);\n",
              "    border: none;\n",
              "    border-radius: 50%;\n",
              "    cursor: pointer;\n",
              "    display: none;\n",
              "    fill: var(--fill-color);\n",
              "    height: 32px;\n",
              "    padding: 0;\n",
              "    width: 32px;\n",
              "  }\n",
              "\n",
              "  .colab-df-quickchart:hover {\n",
              "    background-color: var(--hover-bg-color);\n",
              "    box-shadow: 0 1px 2px rgba(60, 64, 67, 0.3), 0 1px 3px 1px rgba(60, 64, 67, 0.15);\n",
              "    fill: var(--button-hover-fill-color);\n",
              "  }\n",
              "\n",
              "  .colab-df-quickchart-complete:disabled,\n",
              "  .colab-df-quickchart-complete:disabled:hover {\n",
              "    background-color: var(--disabled-bg-color);\n",
              "    fill: var(--disabled-fill-color);\n",
              "    box-shadow: none;\n",
              "  }\n",
              "\n",
              "  .colab-df-spinner {\n",
              "    border: 2px solid var(--fill-color);\n",
              "    border-color: transparent;\n",
              "    border-bottom-color: var(--fill-color);\n",
              "    animation:\n",
              "      spin 1s steps(1) infinite;\n",
              "  }\n",
              "\n",
              "  @keyframes spin {\n",
              "    0% {\n",
              "      border-color: transparent;\n",
              "      border-bottom-color: var(--fill-color);\n",
              "      border-left-color: var(--fill-color);\n",
              "    }\n",
              "    20% {\n",
              "      border-color: transparent;\n",
              "      border-left-color: var(--fill-color);\n",
              "      border-top-color: var(--fill-color);\n",
              "    }\n",
              "    30% {\n",
              "      border-color: transparent;\n",
              "      border-left-color: var(--fill-color);\n",
              "      border-top-color: var(--fill-color);\n",
              "      border-right-color: var(--fill-color);\n",
              "    }\n",
              "    40% {\n",
              "      border-color: transparent;\n",
              "      border-right-color: var(--fill-color);\n",
              "      border-top-color: var(--fill-color);\n",
              "    }\n",
              "    60% {\n",
              "      border-color: transparent;\n",
              "      border-right-color: var(--fill-color);\n",
              "    }\n",
              "    80% {\n",
              "      border-color: transparent;\n",
              "      border-right-color: var(--fill-color);\n",
              "      border-bottom-color: var(--fill-color);\n",
              "    }\n",
              "    90% {\n",
              "      border-color: transparent;\n",
              "      border-bottom-color: var(--fill-color);\n",
              "    }\n",
              "  }\n",
              "</style>\n",
              "\n",
              "      <script>\n",
              "        async function quickchart(key) {\n",
              "          const quickchartButtonEl =\n",
              "            document.querySelector('#' + key + ' button');\n",
              "          quickchartButtonEl.disabled = true;  // To prevent multiple clicks.\n",
              "          quickchartButtonEl.classList.add('colab-df-spinner');\n",
              "          try {\n",
              "            const charts = await google.colab.kernel.invokeFunction(\n",
              "                'suggestCharts', [key], {});\n",
              "          } catch (error) {\n",
              "            console.error('Error during call to suggestCharts:', error);\n",
              "          }\n",
              "          quickchartButtonEl.classList.remove('colab-df-spinner');\n",
              "          quickchartButtonEl.classList.add('colab-df-quickchart-complete');\n",
              "        }\n",
              "        (() => {\n",
              "          let quickchartButtonEl =\n",
              "            document.querySelector('#df-ee7488c5-ed33-43b4-977c-5a4c2de61cce button');\n",
              "          quickchartButtonEl.style.display =\n",
              "            google.colab.kernel.accessAllowed ? 'block' : 'none';\n",
              "        })();\n",
              "      </script>\n",
              "    </div>\n",
              "\n",
              "    </div>\n",
              "  </div>\n"
            ],
            "application/vnd.google.colaboratory.intrinsic+json": {
              "type": "dataframe"
            }
          },
          "metadata": {},
          "execution_count": 221
        }
      ],
      "source": [
        "### Features\n",
        "\n",
        "features_5m = pd.read_csv(root_data + 'Results/'+symbol+'_'+direction+'_M5M10_'+data_type+'_Features.csv', index_col=0)\n",
        "features_5m['Date'] = features_5m.index\n",
        "features_5m['Date'] = pd.to_datetime(features_5m['Date'])\n",
        "features_5m.set_index(\"Date\", inplace=True)\n",
        "\n",
        "#features_5m = features_5m.drop('label', axis=1)\n",
        "\n",
        "print(list(features_5m.columns),'\\n')\n",
        "print('Shape = ',features_5m.shape)\n",
        "\n",
        "print('IsNull = ',features_5m['slope_angle_600_9'].isnull().sum())\n",
        "print('IsNull = ',features_5m['10min_RSI_3_diff'].isnull().sum())\n",
        "\n",
        "features_5m.tail(3)"
      ]
    },
    {
      "cell_type": "code",
      "execution_count": 222,
      "id": "XM2K_2T22n2k",
      "metadata": {
        "id": "XM2K_2T22n2k",
        "colab": {
          "base_uri": "https://localhost:8080/"
        },
        "outputId": "05537d84-d03f-442f-8aab-7c265643614c"
      },
      "outputs": [
        {
          "output_type": "stream",
          "name": "stdout",
          "text": [
            "['Open', 'High', 'Low', 'Close', 'Volume', 'Spread', 'ATR', 'kal_1', 'kal_2', 'kal_3', 'kal_4', 'Open_Trade', 'Entry_Date', 'Type', 'Trade_Number', 'st_Exit_Date', 'trade type', 'st_Duration', 'st_row_PnL_close', 'st_row_PnL_high', 'st_row_PnL_low', 'st_Max', 'st_Min', 'st_PnL', 'st_atr_PnL', 'st_atr_max_PnL'] \n",
            "\n",
            "Shape :  (267395, 26) \n",
            "\n",
            "Missing values (NaN and Inf) in lab sorted by highest to lowest:\n",
            "st_Exit_Date        228204\n",
            "st_Duration         228204\n",
            "st_Max              228204\n",
            "st_Min              228204\n",
            "st_PnL              228204\n",
            "Type                228203\n",
            "Entry_Date          228203\n",
            "Open_Trade          228203\n",
            "st_atr_PnL              15\n",
            "st_atr_max_PnL          15\n",
            "ATR                     14\n",
            "st_row_PnL_high         11\n",
            "st_row_PnL_close        11\n",
            "st_row_PnL_low          11\n",
            "trade type               1\n",
            "Trade_Number             1\n",
            "kal_3                    0\n",
            "High                     0\n",
            "Open                     0\n",
            "kal_2                    0\n",
            "kal_1                    0\n",
            "Spread                   0\n",
            "Close                    0\n",
            "Volume                   0\n",
            "Low                      0\n",
            "kal_4                    0\n",
            "dtype: int64\n",
            "Total missing value count in lab: 1825708\n"
          ]
        }
      ],
      "source": [
        "### Labels\n",
        "\n",
        "lab = pd.read_csv(root_data + 'Results/'+symbol+'_'+strategy+'_'+time_frame+'_Strategy_Gen_Labels.csv', index_col=0)\n",
        "lab['Date'] = pd.to_datetime(lab['Date'])\n",
        "lab.set_index('Date', inplace=True)\n",
        "\n",
        "columns_to_drop = ['st_row_PnL_Low','Close_Trade']\n",
        "lab = lab.drop(columns=columns_to_drop)\n",
        "\n",
        "#lab.dropna(inplace=True)\n",
        "\n",
        "print(list(lab.columns),'\\n')\n",
        "print('Shape : ',lab.shape,'\\n')\n",
        "\n",
        "nan_counts = lab.isnull().sum()\n",
        "total_missing_counts = nan_counts\n",
        "\n",
        "print(\"Missing values (NaN and Inf) in lab sorted by highest to lowest:\")\n",
        "print(total_missing_counts.sort_values(ascending=False))\n",
        "print(\"Total missing value count in lab:\", total_missing_counts.sum())\n"
      ]
    },
    {
      "cell_type": "code",
      "execution_count": 223,
      "id": "_JB4ZFhCalgp",
      "metadata": {
        "colab": {
          "base_uri": "https://localhost:8080/"
        },
        "id": "_JB4ZFhCalgp",
        "outputId": "c882857a-9902-408c-9821-364bf3c5fb12"
      },
      "outputs": [
        {
          "output_type": "stream",
          "name": "stdout",
          "text": [
            "\n",
            "Label counts = \n",
            "label\n",
            "1    10054\n",
            "0     9537\n",
            "Name: count, dtype: int64\n",
            "Open_Trade\n",
            "-1.0    19591\n",
            "Name: count, dtype: int64\n"
          ]
        }
      ],
      "source": [
        "# --- Parámetros / campos\n",
        "result_field = 'st_atr_max_PnL'   # métrica a evaluar\n",
        "\n",
        "# --- Filtro de filas válidas\n",
        "valid = (\n",
        "    (lab['Type'] == direction) &\n",
        "    (lab['Open_Trade'].isin([1, -1])) &\n",
        "    (lab[result_field].notna()))\n",
        "\n",
        "\n",
        "lab['label'] = np.nan\n",
        "lab.loc[valid & (lab[result_field] <= 1), 'label'] = 0\n",
        "lab.loc[valid & (lab[result_field] >= 1), 'label'] = 1\n",
        "\n",
        "# --- Mantener solo filas válidas y con label\n",
        "lab = lab.loc[valid & lab['label'].notna()].copy()\n",
        "lab['label'] = lab['label'].astype('int8')\n",
        "\n",
        "# Check for NaN and infinite values\n",
        "\n",
        "print('\\nLabel counts = ')\n",
        "print(lab['label'].value_counts())\n",
        "print(lab['Open_Trade'].value_counts())"
      ]
    },
    {
      "cell_type": "code",
      "execution_count": 224,
      "id": "IA2-iSWJ9Udm",
      "metadata": {
        "colab": {
          "base_uri": "https://localhost:8080/",
          "height": 706
        },
        "id": "IA2-iSWJ9Udm",
        "outputId": "be043791-4527-465f-c2f3-2e1eaf021430"
      },
      "outputs": [
        {
          "output_type": "stream",
          "name": "stdout",
          "text": [
            "['label_x', '10min_RSI_3_diff', '10min_RSI_3', '10min_slope_signal_600_3', '10min_slope_signal_300_3', '10min_slope_div_300_3_diff', '10min_slope_lin_reg_signal_900_6', 'RSI_7', '10min_slope_signal_900_3', '10min_slope_angle_900_3_diff', '10min_slope_signal_900_9_diff', '10min_slope_signal_600_3_diff', '10min_slope_lin_reg_signal_600_3', '10min_slope_div_300_6 - slope_div_600_9', '10min_slope_div_300_9', '10min_slope_signal_300_6 - slope_signal_600_3', '10min_slope_signal_300_6', '10min_slope_signal_300_6 - slope_signal_600_6', '10min_slope_angle_600_3', '10min_slope_angle_600_3_diff', '10min_slope_lin_reg_signal_600_6', '10min_slope_lin_reg_signal_300_6 - slope_lin_reg_signal_900_9', 'Kal_600_minus_Kal_900', '10min_slope_signal_300_9 - slope_signal_900_9', '10min_slope_div_300_3 - slope_div_300_6', '10min_slope_lin_reg_signal_600_9', '10min_slope_signal_600_6', '10min_slope_signal_300_3 - slope_signal_600_3', '10min_slope_signal_300_6 - slope_signal_900_6', '10min_slope_lin_reg_600_3 - slope_lin_reg_900_9', '10min_slope_lin_reg_signal_300_6_diff', '10min_MFI_3_diff', '10min_slope_signal_900_3_diff', 'Close_Kal_300', '10min_slope_lin_reg_signal_600_9 - slope_lin_reg_signal_900_6', '10min_slope_lin_reg_signal_300_6', 'slope_lin_reg_signal_600_6_diff', 'slope_div_600_3', 'slope_div_300_9 - slope_div_600_9', '10min_slope_angle_300_6_diff', '10min_slope_signal_300_6_diff', '10min_slope_angle_600_3 - slope_angle_900_9', 'slope_angle_300_3 - slope_angle_300_9', '10min_slope_lin_reg_signal_600_3 - slope_lin_reg_signal_600_9', '10min_slope_lin_reg_signal_300_3 - slope_lin_reg_signal_300_9', 'slope_angle_600_3', '10min_slope_lin_reg_signal_900_3', '10min_slope_angle_600_6 - slope_angle_900_3', '10min_slope_signal_900_6_diff', 'OBV_diff', '10min_slope_angle_300_3 - slope_angle_300_6', 'slope_angle_300_6_diff', 'RSI_7 - RSI_14', '10min_slope_signal_900_6 - slope_signal_900_9', '10min_slope_div_600_3 - slope_div_600_6', 'RSI_3_diff', '10min_slope_angle_600_9 - slope_angle_900_9', 'slope_angle_300_9 - slope_angle_900_9', '10min_slope_lin_reg_signal_300_9_diff', 'slope_div_300_6 - slope_div_900_9', '10min_slope_signal_600_9 - slope_signal_900_9', '10min_slope_angle_900_6 - slope_angle_900_9', 'RSI_3', '10min_slope_signal_300_3_diff', '10min_slope_lin_reg_signal_300_9 - slope_lin_reg_signal_900_3', '10min_slope_signal_300_6 - slope_signal_600_9', 'slope_signal_600_6 - slope_signal_600_9', 'slope_div_300_6 - slope_div_600_9', '10min_slope_lin_reg_signal_600_6 - slope_lin_reg_signal_900_9', '10min_slope_angle_300_6 - slope_angle_300_9', '10min_slope_lin_reg_signal_300_6 - slope_lin_reg_signal_900_3', 'slope_angle_300_9_diff', '10min_slope_signal_300_6 - slope_signal_900_9', 'slope_signal_600_9_diff', '10min_slope_signal_300_9 - slope_signal_900_6', '10min_slope_angle_300_9 - slope_angle_600_3', '10min_slope_signal_900_6', 'slope_angle_900_9', '10min_slope_signal_900_9', '10min_slope_angle_600_6 - slope_angle_600_9', '10min_slope_angle_300_9', 'slope_lin_reg_signal_900_6 - slope_lin_reg_signal_900_9', '10min_slope_angle_600_6 - slope_angle_900_6', 'slope_lin_reg_signal_300_3', '10min_slope_lin_reg_signal_600_6 - slope_lin_reg_signal_900_6', 'slope_angle_300_6 - slope_angle_900_9', 'slope_div_300_6_diff', 'slope_angle_900_9_diff', 'slope_signal_600_9 - slope_signal_900_6', 'slope_signal_600_6_diff', '10min_slope_lin_reg_signal_900_3 - slope_lin_reg_signal_900_9', '10min_slope_angle_300_6 - slope_angle_600_6', '10min_slope_div_600_3 - slope_div_900_6', '10min_slope_lin_reg_signal_300_3 - slope_lin_reg_signal_600_9', '10min_slope_signal_300_6 - slope_signal_300_9', 'slope_signal_600_3', '10min_slope_angle_300_6 - slope_angle_900_9', 'slope_angle_300_6 - slope_angle_600_9', 'slope_angle_600_3 - slope_angle_900_3', '10min_slope_lin_reg_signal_600_9_diff', 'slope_div_300_3 - slope_div_300_6', 'slope_angle_300_6', 'slope_lin_reg_signal_300_6 - slope_lin_reg_signal_900_6', 'slope_angle_600_6 - slope_angle_900_6', 'slope_lin_reg_signal_600_6 - slope_lin_reg_signal_900_6', '10min_slope_lin_reg_signal_900_3 - slope_lin_reg_signal_900_6', 'slope_angle_600_9 - slope_angle_900_6', '10min_slope_angle_600_6_diff', '10min_slope_lin_reg_signal_300_3 - slope_lin_reg_signal_900_6', '10min_slope_signal_300_9 - slope_signal_600_3', '10min_slope_lin_reg_signal_300_9 - slope_lin_reg_signal_600_6', 'slope_angle_600_3 - slope_angle_600_6', 'slope_angle_900_3', 'MFI_3 - MFI_14', '10min_slope_signal_300_3 - slope_signal_900_9', '10min_slope_lin_reg_signal_600_6 - slope_lin_reg_signal_600_9', 'slope_signal_300_3 - slope_signal_600_6', 'slope_angle_300_6 - slope_angle_300_9', 'slope_angle_300_3', '10min_slope_signal_300_3 - slope_signal_600_6', 'slope_angle_300_9', 'slope_signal_600_9', 'slope_signal_600_6', 'slope_signal_300_9 - slope_signal_900_9', 'Kal_300', '10min_slope_signal_600_3 - slope_signal_900_3', '10min_Kal_300', 'slope_signal_300_6 - slope_signal_600_9', '10min_slope_angle_300_3 - slope_angle_600_6', '10min_OBV_diff', 'RSI_3 - RSI_7', '10min_slope_lin_reg_signal_600_9 - slope_lin_reg_signal_900_3', 'slope_angle_600_3 - slope_angle_900_6', 'slope_lin_reg_signal_300_9 - slope_lin_reg_signal_900_9', '10min_MFI_7 - MFI_14', '10min_slope_signal_600_3 - slope_signal_600_6', 'slope_lin_reg_signal_600_6 - slope_lin_reg_signal_600_9', '10min_slope_angle_300_9 - slope_angle_900_6', '10min_slope_lin_reg_signal_300_6 - slope_lin_reg_signal_300_9', '10min_slope_lin_reg_signal_600_3 - slope_lin_reg_signal_900_3', '10min_slope_lin_reg_signal_300_6 - slope_lin_reg_signal_900_6', 'slope_lin_reg_600_6_diff', 'slope_angle_600_9', 'slope_lin_reg_signal_300_6 - slope_lin_reg_signal_600_6', 'MFI_7 - MFI_14', '10min_OBV', '10min_MFI_14_diff', 'slope_div_300_9_diff', '10min_slope_angle_300_9 - slope_angle_600_9', '10min_slope_lin_reg_signal_300_3 - slope_lin_reg_signal_600_6', 'slope_angle_600_3_diff', 'slope_angle_300_9 - slope_angle_600_6', '10min_slope_lin_reg_signal_300_9 - slope_lin_reg_signal_600_9', '10min_slope_signal_300_9 - slope_signal_600_9', 'slope_angle_600_9_diff', '10min_slope_angle_300_9 - slope_angle_900_9', 'slope_angle_300_3_diff', 'slope_angle_900_6_diff', 'slope_angle_900_3 - slope_angle_900_6', 'slope_angle_300_6 - slope_angle_900_6', 'slope_lin_reg_signal_600_6 - slope_lin_reg_signal_900_3', 'MFI_3_diff', 'slope_signal_600_3 - slope_signal_900_9', '10min_slope_angle_300_3 - slope_angle_900_3', 'slope_lin_reg_signal_900_3 - slope_lin_reg_signal_900_6', '10min_slope_angle_600_9_diff', '10min_slope_lin_reg_300_3 - slope_lin_reg_600_9', 'slope_signal_900_3_diff', '10min_slope_div_300_3 - slope_div_900_6', '10min_slope_signal_300_3 - slope_signal_900_6', 'slope_lin_reg_signal_600_9 - slope_lin_reg_signal_900_9', 'slope_angle_300_9 - slope_angle_900_6', 'slope_angle_300_6 - slope_angle_600_3', '10min_slope_lin_reg_signal_300_3 - slope_lin_reg_signal_300_6', 'slope_div_300_3 - slope_div_900_6', '10min_slope_signal_600_9 - slope_signal_900_6', 'slope_signal_300_3_diff', 'slope_lin_reg_signal_300_3 - slope_lin_reg_signal_900_6', 'slope_angle_600_6 - slope_angle_900_3', 'slope_signal_900_9', 'slope_lin_reg_signal_600_6', 'slope_lin_reg_signal_600_3 - slope_lin_reg_signal_600_6', '10min_slope_lin_reg_signal_300_3 - slope_lin_reg_signal_900_3', 'slope_angle_300_3 - slope_angle_900_9', 'slope_lin_reg_600_3_diff', 'slope_signal_300_6 - slope_signal_900_9', '10min_slope_lin_reg_signal_300_9', 'slope_lin_reg_signal_900_9_diff', 'slope_signal_300_9 - slope_signal_600_9', 'MFI_14_diff', 'MFI_14', '10min_slope_angle_900_6_diff', 'slope_lin_reg_300_6_diff', 'slope_signal_900_6', 'Kal_prev2_minus_now_300', '10min_slope_signal_300_9 - slope_signal_600_6', 'slope_lin_reg_600_9_diff', '10min_slope_angle_300_3 - slope_angle_900_6', 'slope_signal_600_3 - slope_signal_900_3', 'MFI_7_diff', 'slope_signal_600_3 - slope_signal_900_6', 'slope_signal_300_6 - slope_signal_600_3', '10min_slope_lin_reg_signal_900_6 - slope_lin_reg_signal_900_9', 'MFI_7', 'slope_lin_reg_signal_300_6', 'slope_signal_300_9_diff', '10min_slope_lin_reg_signal_300_3 - slope_lin_reg_signal_600_3', 'slope_signal_300_3 - slope_signal_900_6', 'slope_signal_300_6 - slope_signal_300_9', '10min_slope_lin_reg_signal_300_6 - slope_lin_reg_signal_600_3', 'slope_angle_900_3_diff', 'slope_lin_reg_signal_600_6 - slope_lin_reg_signal_900_9', 'slope_signal_300_3 - slope_signal_300_6', '10min_MFI_7_diff', '10min_slope_signal_600_9', '10min_slope_angle_300_6 - slope_angle_900_6', 'slope_lin_reg_signal_300_3 - slope_lin_reg_signal_900_3', '10min_slope_lin_reg_signal_600_3 - slope_lin_reg_signal_900_6', '10min_slope_angle_300_3 - slope_angle_600_3', 'slope_lin_reg_signal_300_6 - slope_lin_reg_signal_900_3', 'Kal_prev2_minus_now_600', 'slope_lin_reg_signal_600_3_diff', 'slope_div_300_3_diff', '10min_MFI_7', 'slope_lin_reg_signal_900_6_diff', '10min_slope_lin_reg_signal_300_3 - slope_lin_reg_signal_900_9', '10min_slope_angle_600_3 - slope_angle_600_9', 'slope_lin_reg_signal_300_3 - slope_lin_reg_signal_600_6', '10min_slope_lin_reg_signal_300_9 - slope_lin_reg_signal_600_3', 'slope_signal_300_3 - slope_signal_600_9', 'slope_lin_reg_signal_300_6 - slope_lin_reg_signal_600_3', '10min_slope_angle_300_3 - slope_angle_900_9', 'slope_angle_600_6 - slope_angle_900_9', '10min_slope_lin_reg_signal_900_3_diff', 'MFI_3 - MFI_7', '10min_slope_angle_300_6 - slope_angle_900_3', 'slope_angle_300_3 - slope_angle_600_3', '10min_slope_lin_reg_signal_300_9 - slope_lin_reg_signal_900_6', 'slope_div_300_6', 'slope_signal_300_3 - slope_signal_600_3', 'slope_lin_reg_signal_600_3', 'slope_lin_reg_signal_300_9 - slope_lin_reg_signal_600_6', '10min_slope_lin_reg_signal_600_3 - slope_lin_reg_signal_600_6', 'slope_signal_900_9_diff', 'slope_signal_600_9 - slope_signal_900_9', 'slope_lin_reg_signal_600_3 - slope_lin_reg_signal_900_6', '10min_slope_lin_reg_signal_300_6 - slope_lin_reg_signal_600_6', 'slope_lin_reg_signal_300_6 - slope_lin_reg_signal_900_9', 'slope_angle_600_6', '10min_slope_signal_600_6_diff', '10min_slope_angle_300_3 - slope_angle_600_9', '10min_slope_angle_600_6 - slope_angle_900_9', '10min_slope_signal_300_9', '10min_slope_lin_reg_signal_900_9_diff', 'slope_angle_300_3 - slope_angle_300_6', 'slope_signal_300_6_diff', '10min_slope_signal_600_6 - slope_signal_600_9', 'slope_angle_600_6 - slope_angle_600_9', '10min_slope_angle_300_6', '10min_slope_angle_600_3 - slope_angle_600_6', '10min_slope_angle_900_3 - slope_angle_900_6', 'slope_signal_300_3 - slope_signal_900_9', '10min_slope_angle_600_9 - slope_angle_900_6', 'slope_signal_600_3 - slope_signal_600_6', 'slope_lin_reg_signal_600_9', 'slope_angle_300_3 - slope_angle_900_6', 'slope_angle_900_6', '10min_slope_angle_300_9 - slope_angle_600_6', '10min_slope_angle_300_6 - slope_angle_600_3', 'slope_signal_300_9', '10min_slope_lin_reg_signal_300_9 - slope_lin_reg_signal_900_9', 'slope_angle_300_3 - slope_angle_900_3', 'Open', 'High', 'Low', 'Close', 'Volume', 'Spread', 'ATR', 'kal_1', 'kal_2', 'kal_3', 'kal_4', 'Open_Trade', 'Entry_Date', 'Type', 'Trade_Number', 'st_Exit_Date', 'trade type', 'st_Duration', 'st_row_PnL_close', 'st_row_PnL_high', 'st_row_PnL_low', 'st_Max', 'st_Min', 'st_PnL', 'st_atr_PnL', 'st_atr_max_PnL', 'label_y'] \n",
            "\n",
            "Shape =  (14438, 299) \n",
            "\n",
            "Open_Trade =  Open_Trade\n",
            "-1.0    14438\n",
            "Name: count, dtype: int64 \n",
            "\n"
          ]
        },
        {
          "output_type": "error",
          "ename": "KeyError",
          "evalue": "'label'",
          "traceback": [
            "\u001b[0;31m---------------------------------------------------------------------------\u001b[0m",
            "\u001b[0;31mKeyError\u001b[0m                                  Traceback (most recent call last)",
            "\u001b[0;32m/usr/local/lib/python3.12/dist-packages/pandas/core/indexes/base.py\u001b[0m in \u001b[0;36mget_loc\u001b[0;34m(self, key)\u001b[0m\n\u001b[1;32m   3804\u001b[0m         \u001b[0;32mtry\u001b[0m\u001b[0;34m:\u001b[0m\u001b[0;34m\u001b[0m\u001b[0;34m\u001b[0m\u001b[0m\n\u001b[0;32m-> 3805\u001b[0;31m             \u001b[0;32mreturn\u001b[0m \u001b[0mself\u001b[0m\u001b[0;34m.\u001b[0m\u001b[0m_engine\u001b[0m\u001b[0;34m.\u001b[0m\u001b[0mget_loc\u001b[0m\u001b[0;34m(\u001b[0m\u001b[0mcasted_key\u001b[0m\u001b[0;34m)\u001b[0m\u001b[0;34m\u001b[0m\u001b[0;34m\u001b[0m\u001b[0m\n\u001b[0m\u001b[1;32m   3806\u001b[0m         \u001b[0;32mexcept\u001b[0m \u001b[0mKeyError\u001b[0m \u001b[0;32mas\u001b[0m \u001b[0merr\u001b[0m\u001b[0;34m:\u001b[0m\u001b[0;34m\u001b[0m\u001b[0;34m\u001b[0m\u001b[0m\n",
            "\u001b[0;32mindex.pyx\u001b[0m in \u001b[0;36mpandas._libs.index.IndexEngine.get_loc\u001b[0;34m()\u001b[0m\n",
            "\u001b[0;32mindex.pyx\u001b[0m in \u001b[0;36mpandas._libs.index.IndexEngine.get_loc\u001b[0;34m()\u001b[0m\n",
            "\u001b[0;32mpandas/_libs/hashtable_class_helper.pxi\u001b[0m in \u001b[0;36mpandas._libs.hashtable.PyObjectHashTable.get_item\u001b[0;34m()\u001b[0m\n",
            "\u001b[0;32mpandas/_libs/hashtable_class_helper.pxi\u001b[0m in \u001b[0;36mpandas._libs.hashtable.PyObjectHashTable.get_item\u001b[0;34m()\u001b[0m\n",
            "\u001b[0;31mKeyError\u001b[0m: 'label'",
            "\nThe above exception was the direct cause of the following exception:\n",
            "\u001b[0;31mKeyError\u001b[0m                                  Traceback (most recent call last)",
            "\u001b[0;32m/tmp/ipython-input-1400019619.py\u001b[0m in \u001b[0;36m<cell line: 0>\u001b[0;34m()\u001b[0m\n\u001b[1;32m      9\u001b[0m \u001b[0mprint\u001b[0m\u001b[0;34m(\u001b[0m\u001b[0;34m'Shape = '\u001b[0m\u001b[0;34m,\u001b[0m\u001b[0mfeat_obj\u001b[0m\u001b[0;34m.\u001b[0m\u001b[0mshape\u001b[0m\u001b[0;34m,\u001b[0m\u001b[0;34m'\\n'\u001b[0m\u001b[0;34m)\u001b[0m\u001b[0;34m\u001b[0m\u001b[0;34m\u001b[0m\u001b[0m\n\u001b[1;32m     10\u001b[0m \u001b[0mprint\u001b[0m\u001b[0;34m(\u001b[0m\u001b[0;34m'Open_Trade = '\u001b[0m\u001b[0;34m,\u001b[0m \u001b[0mfeat_obj\u001b[0m\u001b[0;34m[\u001b[0m\u001b[0;34m'Open_Trade'\u001b[0m\u001b[0;34m]\u001b[0m\u001b[0;34m.\u001b[0m\u001b[0mvalue_counts\u001b[0m\u001b[0;34m(\u001b[0m\u001b[0;34m)\u001b[0m\u001b[0;34m,\u001b[0m\u001b[0;34m'\\n'\u001b[0m\u001b[0;34m)\u001b[0m\u001b[0;34m\u001b[0m\u001b[0;34m\u001b[0m\u001b[0m\n\u001b[0;32m---> 11\u001b[0;31m \u001b[0mprint\u001b[0m\u001b[0;34m(\u001b[0m\u001b[0;34m'Label_Counts = '\u001b[0m\u001b[0;34m,\u001b[0m \u001b[0mfeat_obj\u001b[0m\u001b[0;34m[\u001b[0m\u001b[0;34m'label'\u001b[0m\u001b[0;34m]\u001b[0m\u001b[0;34m.\u001b[0m\u001b[0mvalue_counts\u001b[0m\u001b[0;34m(\u001b[0m\u001b[0;34m)\u001b[0m\u001b[0;34m,\u001b[0m\u001b[0;34m'\\n'\u001b[0m\u001b[0;34m)\u001b[0m\u001b[0;34m\u001b[0m\u001b[0;34m\u001b[0m\u001b[0m\n\u001b[0m\u001b[1;32m     12\u001b[0m \u001b[0;34m\u001b[0m\u001b[0m\n\u001b[1;32m     13\u001b[0m \u001b[0mfeat_obj\u001b[0m\u001b[0;34m.\u001b[0m\u001b[0mdropna\u001b[0m\u001b[0;34m(\u001b[0m\u001b[0minplace\u001b[0m\u001b[0;34m=\u001b[0m\u001b[0;32mTrue\u001b[0m\u001b[0;34m)\u001b[0m\u001b[0;34m\u001b[0m\u001b[0;34m\u001b[0m\u001b[0m\n",
            "\u001b[0;32m/usr/local/lib/python3.12/dist-packages/pandas/core/frame.py\u001b[0m in \u001b[0;36m__getitem__\u001b[0;34m(self, key)\u001b[0m\n\u001b[1;32m   4100\u001b[0m             \u001b[0;32mif\u001b[0m \u001b[0mself\u001b[0m\u001b[0;34m.\u001b[0m\u001b[0mcolumns\u001b[0m\u001b[0;34m.\u001b[0m\u001b[0mnlevels\u001b[0m \u001b[0;34m>\u001b[0m \u001b[0;36m1\u001b[0m\u001b[0;34m:\u001b[0m\u001b[0;34m\u001b[0m\u001b[0;34m\u001b[0m\u001b[0m\n\u001b[1;32m   4101\u001b[0m                 \u001b[0;32mreturn\u001b[0m \u001b[0mself\u001b[0m\u001b[0;34m.\u001b[0m\u001b[0m_getitem_multilevel\u001b[0m\u001b[0;34m(\u001b[0m\u001b[0mkey\u001b[0m\u001b[0;34m)\u001b[0m\u001b[0;34m\u001b[0m\u001b[0;34m\u001b[0m\u001b[0m\n\u001b[0;32m-> 4102\u001b[0;31m             \u001b[0mindexer\u001b[0m \u001b[0;34m=\u001b[0m \u001b[0mself\u001b[0m\u001b[0;34m.\u001b[0m\u001b[0mcolumns\u001b[0m\u001b[0;34m.\u001b[0m\u001b[0mget_loc\u001b[0m\u001b[0;34m(\u001b[0m\u001b[0mkey\u001b[0m\u001b[0;34m)\u001b[0m\u001b[0;34m\u001b[0m\u001b[0;34m\u001b[0m\u001b[0m\n\u001b[0m\u001b[1;32m   4103\u001b[0m             \u001b[0;32mif\u001b[0m \u001b[0mis_integer\u001b[0m\u001b[0;34m(\u001b[0m\u001b[0mindexer\u001b[0m\u001b[0;34m)\u001b[0m\u001b[0;34m:\u001b[0m\u001b[0;34m\u001b[0m\u001b[0;34m\u001b[0m\u001b[0m\n\u001b[1;32m   4104\u001b[0m                 \u001b[0mindexer\u001b[0m \u001b[0;34m=\u001b[0m \u001b[0;34m[\u001b[0m\u001b[0mindexer\u001b[0m\u001b[0;34m]\u001b[0m\u001b[0;34m\u001b[0m\u001b[0;34m\u001b[0m\u001b[0m\n",
            "\u001b[0;32m/usr/local/lib/python3.12/dist-packages/pandas/core/indexes/base.py\u001b[0m in \u001b[0;36mget_loc\u001b[0;34m(self, key)\u001b[0m\n\u001b[1;32m   3810\u001b[0m             ):\n\u001b[1;32m   3811\u001b[0m                 \u001b[0;32mraise\u001b[0m \u001b[0mInvalidIndexError\u001b[0m\u001b[0;34m(\u001b[0m\u001b[0mkey\u001b[0m\u001b[0;34m)\u001b[0m\u001b[0;34m\u001b[0m\u001b[0;34m\u001b[0m\u001b[0m\n\u001b[0;32m-> 3812\u001b[0;31m             \u001b[0;32mraise\u001b[0m \u001b[0mKeyError\u001b[0m\u001b[0;34m(\u001b[0m\u001b[0mkey\u001b[0m\u001b[0;34m)\u001b[0m \u001b[0;32mfrom\u001b[0m \u001b[0merr\u001b[0m\u001b[0;34m\u001b[0m\u001b[0;34m\u001b[0m\u001b[0m\n\u001b[0m\u001b[1;32m   3813\u001b[0m         \u001b[0;32mexcept\u001b[0m \u001b[0mTypeError\u001b[0m\u001b[0;34m:\u001b[0m\u001b[0;34m\u001b[0m\u001b[0;34m\u001b[0m\u001b[0m\n\u001b[1;32m   3814\u001b[0m             \u001b[0;31m# If we have a listlike key, _check_indexing_error will raise\u001b[0m\u001b[0;34m\u001b[0m\u001b[0;34m\u001b[0m\u001b[0m\n",
            "\u001b[0;31mKeyError\u001b[0m: 'label'"
          ]
        }
      ],
      "source": [
        "### Merge\n",
        "\n",
        "#feat_obj = lab.merge(features_5m, left_index=True, right_index=True, how='left')\n",
        "feat_obj = features_5m.merge(lab, left_index=True, right_index=True, how='left')\n",
        "feat_obj = feat_obj.loc[feat_obj['Open_Trade']==-1,:] # Commented out filtering\n",
        "\n",
        "\n",
        "print(list(feat_obj.columns),'\\n')\n",
        "print('Shape = ',feat_obj.shape,'\\n')\n",
        "print('Open_Trade = ', feat_obj['Open_Trade'].value_counts(),'\\n')\n",
        "print('Label_Counts = ', feat_obj['label'].value_counts(),'\\n')\n",
        "\n",
        "feat_obj.dropna(inplace=True)\n",
        "\n",
        "nan_counts = feat_obj.isnull().sum()\n",
        "print(\"Missing values (NaN and Inf) in feat_obj sorted by highest to lowest AFTER DROPPING COLUMNS:\")\n",
        "nan_counts_after = feat_obj.isnull().sum()\n",
        "inf_counts_after = np.isinf(feat_obj.select_dtypes(include=np.number)).sum()\n",
        "total_missing_counts_after = nan_counts_after + inf_counts_after\n",
        "print(total_missing_counts_after.sort_values(ascending=False))\n",
        "print(\"Total missing value count in feat_obj AFTER DROPPING COLUMNS:\", total_missing_counts_after.sum())\n",
        "\n"
      ]
    },
    {
      "cell_type": "code",
      "execution_count": 196,
      "id": "U1SDwIIeNhhU",
      "metadata": {
        "colab": {
          "base_uri": "https://localhost:8080/"
        },
        "id": "U1SDwIIeNhhU",
        "outputId": "adae95f5-169b-4e70-d6b0-b97fd2dedccd"
      },
      "outputs": [
        {
          "output_type": "stream",
          "name": "stdout",
          "text": [
            "Shape of train_data: (13713, 27)\n",
            "Shape of test_data: (5878, 27)\n"
          ]
        }
      ],
      "source": [
        "# Split the data into 70% train and 30% test based on index\n",
        "train_size = int(0.7 * len(feat_obj))\n",
        "train = feat_obj.iloc[:train_size]\n",
        "test  = feat_obj.iloc[train_size:]\n",
        "\n",
        "print(\"Shape of train_data:\", train.shape)\n",
        "print(\"Shape of test_data:\", test.shape)"
      ]
    },
    {
      "cell_type": "code",
      "execution_count": 200,
      "id": "5KnO-8hT71wu",
      "metadata": {
        "colab": {
          "base_uri": "https://localhost:8080/"
        },
        "id": "5KnO-8hT71wu",
        "outputId": "357e8fe6-5d27-4e67-cfd5-2bf1865b56f8"
      },
      "outputs": [
        {
          "output_type": "stream",
          "name": "stdout",
          "text": [
            "Train_Min_Date 2023-01-01 02:05:00\n",
            "Train_Max_Date 2024-10-10 18:20:00 \n",
            "\n",
            "Test_Min_Date 2024-10-10 19:25:00\n",
            "Test_Max_Date 2025-07-26 23:05:00 \n",
            "\n",
            "Train_Columns :  ['Open', 'High', 'Low', 'Close', 'Volume', 'Spread', 'ATR', 'kal_1', 'kal_2', 'kal_3', 'kal_4', 'Open_Trade', 'Entry_Date', 'Type', 'Trade_Number', 'st_Exit_Date', 'trade type', 'st_Duration', 'st_row_PnL_close', 'st_row_PnL_high', 'st_row_PnL_low', 'st_Max', 'st_Min', 'st_PnL', 'st_atr_PnL', 'st_atr_max_PnL', 'label'] \n",
            "\n",
            "Test_Columns :  ['Open', 'High', 'Low', 'Close', 'Volume', 'Spread', 'ATR', 'kal_1', 'kal_2', 'kal_3', 'kal_4', 'Open_Trade', 'Entry_Date', 'Type', 'Trade_Number', 'st_Exit_Date', 'trade type', 'st_Duration', 'st_row_PnL_close', 'st_row_PnL_high', 'st_row_PnL_low', 'st_Max', 'st_Min', 'st_PnL', 'st_atr_PnL', 'st_atr_max_PnL', 'label']\n"
          ]
        }
      ],
      "source": [
        "### Define Train dataframe\n",
        "\n",
        "print('Train_Min_Date', train.index.min())\n",
        "print('Train_Max_Date', train.index.max(),'\\n')\n",
        "\n",
        "print('Test_Min_Date', test.index.min())\n",
        "print('Test_Max_Date', test.index.max(),'\\n')\n",
        "\n",
        "print('Train_Columns : ',list(train.columns), '\\n')\n",
        "print('Test_Columns : ',list(test.columns))"
      ]
    },
    {
      "cell_type": "markdown",
      "id": "61614b7f",
      "metadata": {
        "id": "61614b7f"
      },
      "source": [
        "# Results\n"
      ]
    },
    {
      "cell_type": "code",
      "execution_count": 182,
      "id": "JXY2HFrnLIwW",
      "metadata": {
        "colab": {
          "base_uri": "https://localhost:8080/",
          "height": 0
        },
        "id": "JXY2HFrnLIwW",
        "outputId": "8c42f494-fcc8-404f-99ec-ac28c9bfda32"
      },
      "outputs": [
        {
          "output_type": "execute_result",
          "data": {
            "text/plain": [
              "                    Results\n",
              "days                    648\n",
              "total_trades         13,713\n",
              "                           \n",
              "income          $592,962.50\n",
              "losses         $-264,915.05\n",
              "profits         $328,047.45\n",
              "                           \n",
              "profit_trades         5,315\n",
              "loss_trades           6,821\n",
              "                           \n",
              "% Win_Trades             44\n",
              "% Loss_Trades            56"
            ],
            "text/html": [
              "\n",
              "  <div id=\"df-6b819f32-01c8-47e4-ad40-03bfcf9d390f\" class=\"colab-df-container\">\n",
              "    <div>\n",
              "<style scoped>\n",
              "    .dataframe tbody tr th:only-of-type {\n",
              "        vertical-align: middle;\n",
              "    }\n",
              "\n",
              "    .dataframe tbody tr th {\n",
              "        vertical-align: top;\n",
              "    }\n",
              "\n",
              "    .dataframe thead th {\n",
              "        text-align: right;\n",
              "    }\n",
              "</style>\n",
              "<table border=\"1\" class=\"dataframe\">\n",
              "  <thead>\n",
              "    <tr style=\"text-align: right;\">\n",
              "      <th></th>\n",
              "      <th>Results</th>\n",
              "    </tr>\n",
              "  </thead>\n",
              "  <tbody>\n",
              "    <tr>\n",
              "      <th>days</th>\n",
              "      <td>648</td>\n",
              "    </tr>\n",
              "    <tr>\n",
              "      <th>total_trades</th>\n",
              "      <td>13,713</td>\n",
              "    </tr>\n",
              "    <tr>\n",
              "      <th></th>\n",
              "      <td></td>\n",
              "    </tr>\n",
              "    <tr>\n",
              "      <th>income</th>\n",
              "      <td>$592,962.50</td>\n",
              "    </tr>\n",
              "    <tr>\n",
              "      <th>losses</th>\n",
              "      <td>$-264,915.05</td>\n",
              "    </tr>\n",
              "    <tr>\n",
              "      <th>profits</th>\n",
              "      <td>$328,047.45</td>\n",
              "    </tr>\n",
              "    <tr>\n",
              "      <th></th>\n",
              "      <td></td>\n",
              "    </tr>\n",
              "    <tr>\n",
              "      <th>profit_trades</th>\n",
              "      <td>5,315</td>\n",
              "    </tr>\n",
              "    <tr>\n",
              "      <th>loss_trades</th>\n",
              "      <td>6,821</td>\n",
              "    </tr>\n",
              "    <tr>\n",
              "      <th></th>\n",
              "      <td></td>\n",
              "    </tr>\n",
              "    <tr>\n",
              "      <th>% Win_Trades</th>\n",
              "      <td>44</td>\n",
              "    </tr>\n",
              "    <tr>\n",
              "      <th>% Loss_Trades</th>\n",
              "      <td>56</td>\n",
              "    </tr>\n",
              "  </tbody>\n",
              "</table>\n",
              "</div>\n",
              "    <div class=\"colab-df-buttons\">\n",
              "\n",
              "  <div class=\"colab-df-container\">\n",
              "    <button class=\"colab-df-convert\" onclick=\"convertToInteractive('df-6b819f32-01c8-47e4-ad40-03bfcf9d390f')\"\n",
              "            title=\"Convert this dataframe to an interactive table.\"\n",
              "            style=\"display:none;\">\n",
              "\n",
              "  <svg xmlns=\"http://www.w3.org/2000/svg\" height=\"24px\" viewBox=\"0 -960 960 960\">\n",
              "    <path d=\"M120-120v-720h720v720H120Zm60-500h600v-160H180v160Zm220 220h160v-160H400v160Zm0 220h160v-160H400v160ZM180-400h160v-160H180v160Zm440 0h160v-160H620v160ZM180-180h160v-160H180v160Zm440 0h160v-160H620v160Z\"/>\n",
              "  </svg>\n",
              "    </button>\n",
              "\n",
              "  <style>\n",
              "    .colab-df-container {\n",
              "      display:flex;\n",
              "      gap: 12px;\n",
              "    }\n",
              "\n",
              "    .colab-df-convert {\n",
              "      background-color: #E8F0FE;\n",
              "      border: none;\n",
              "      border-radius: 50%;\n",
              "      cursor: pointer;\n",
              "      display: none;\n",
              "      fill: #1967D2;\n",
              "      height: 32px;\n",
              "      padding: 0 0 0 0;\n",
              "      width: 32px;\n",
              "    }\n",
              "\n",
              "    .colab-df-convert:hover {\n",
              "      background-color: #E2EBFA;\n",
              "      box-shadow: 0px 1px 2px rgba(60, 64, 67, 0.3), 0px 1px 3px 1px rgba(60, 64, 67, 0.15);\n",
              "      fill: #174EA6;\n",
              "    }\n",
              "\n",
              "    .colab-df-buttons div {\n",
              "      margin-bottom: 4px;\n",
              "    }\n",
              "\n",
              "    [theme=dark] .colab-df-convert {\n",
              "      background-color: #3B4455;\n",
              "      fill: #D2E3FC;\n",
              "    }\n",
              "\n",
              "    [theme=dark] .colab-df-convert:hover {\n",
              "      background-color: #434B5C;\n",
              "      box-shadow: 0px 1px 3px 1px rgba(0, 0, 0, 0.15);\n",
              "      filter: drop-shadow(0px 1px 2px rgba(0, 0, 0, 0.3));\n",
              "      fill: #FFFFFF;\n",
              "    }\n",
              "  </style>\n",
              "\n",
              "    <script>\n",
              "      const buttonEl =\n",
              "        document.querySelector('#df-6b819f32-01c8-47e4-ad40-03bfcf9d390f button.colab-df-convert');\n",
              "      buttonEl.style.display =\n",
              "        google.colab.kernel.accessAllowed ? 'block' : 'none';\n",
              "\n",
              "      async function convertToInteractive(key) {\n",
              "        const element = document.querySelector('#df-6b819f32-01c8-47e4-ad40-03bfcf9d390f');\n",
              "        const dataTable =\n",
              "          await google.colab.kernel.invokeFunction('convertToInteractive',\n",
              "                                                    [key], {});\n",
              "        if (!dataTable) return;\n",
              "\n",
              "        const docLinkHtml = 'Like what you see? Visit the ' +\n",
              "          '<a target=\"_blank\" href=https://colab.research.google.com/notebooks/data_table.ipynb>data table notebook</a>'\n",
              "          + ' to learn more about interactive tables.';\n",
              "        element.innerHTML = '';\n",
              "        dataTable['output_type'] = 'display_data';\n",
              "        await google.colab.output.renderOutput(dataTable, element);\n",
              "        const docLink = document.createElement('div');\n",
              "        docLink.innerHTML = docLinkHtml;\n",
              "        element.appendChild(docLink);\n",
              "      }\n",
              "    </script>\n",
              "  </div>\n",
              "\n",
              "\n",
              "    <div id=\"df-ff5e86e4-2aef-42db-b577-948a66d841ee\">\n",
              "      <button class=\"colab-df-quickchart\" onclick=\"quickchart('df-ff5e86e4-2aef-42db-b577-948a66d841ee')\"\n",
              "                title=\"Suggest charts\"\n",
              "                style=\"display:none;\">\n",
              "\n",
              "<svg xmlns=\"http://www.w3.org/2000/svg\" height=\"24px\"viewBox=\"0 0 24 24\"\n",
              "     width=\"24px\">\n",
              "    <g>\n",
              "        <path d=\"M19 3H5c-1.1 0-2 .9-2 2v14c0 1.1.9 2 2 2h14c1.1 0 2-.9 2-2V5c0-1.1-.9-2-2-2zM9 17H7v-7h2v7zm4 0h-2V7h2v10zm4 0h-2v-4h2v4z\"/>\n",
              "    </g>\n",
              "</svg>\n",
              "      </button>\n",
              "\n",
              "<style>\n",
              "  .colab-df-quickchart {\n",
              "      --bg-color: #E8F0FE;\n",
              "      --fill-color: #1967D2;\n",
              "      --hover-bg-color: #E2EBFA;\n",
              "      --hover-fill-color: #174EA6;\n",
              "      --disabled-fill-color: #AAA;\n",
              "      --disabled-bg-color: #DDD;\n",
              "  }\n",
              "\n",
              "  [theme=dark] .colab-df-quickchart {\n",
              "      --bg-color: #3B4455;\n",
              "      --fill-color: #D2E3FC;\n",
              "      --hover-bg-color: #434B5C;\n",
              "      --hover-fill-color: #FFFFFF;\n",
              "      --disabled-bg-color: #3B4455;\n",
              "      --disabled-fill-color: #666;\n",
              "  }\n",
              "\n",
              "  .colab-df-quickchart {\n",
              "    background-color: var(--bg-color);\n",
              "    border: none;\n",
              "    border-radius: 50%;\n",
              "    cursor: pointer;\n",
              "    display: none;\n",
              "    fill: var(--fill-color);\n",
              "    height: 32px;\n",
              "    padding: 0;\n",
              "    width: 32px;\n",
              "  }\n",
              "\n",
              "  .colab-df-quickchart:hover {\n",
              "    background-color: var(--hover-bg-color);\n",
              "    box-shadow: 0 1px 2px rgba(60, 64, 67, 0.3), 0 1px 3px 1px rgba(60, 64, 67, 0.15);\n",
              "    fill: var(--button-hover-fill-color);\n",
              "  }\n",
              "\n",
              "  .colab-df-quickchart-complete:disabled,\n",
              "  .colab-df-quickchart-complete:disabled:hover {\n",
              "    background-color: var(--disabled-bg-color);\n",
              "    fill: var(--disabled-fill-color);\n",
              "    box-shadow: none;\n",
              "  }\n",
              "\n",
              "  .colab-df-spinner {\n",
              "    border: 2px solid var(--fill-color);\n",
              "    border-color: transparent;\n",
              "    border-bottom-color: var(--fill-color);\n",
              "    animation:\n",
              "      spin 1s steps(1) infinite;\n",
              "  }\n",
              "\n",
              "  @keyframes spin {\n",
              "    0% {\n",
              "      border-color: transparent;\n",
              "      border-bottom-color: var(--fill-color);\n",
              "      border-left-color: var(--fill-color);\n",
              "    }\n",
              "    20% {\n",
              "      border-color: transparent;\n",
              "      border-left-color: var(--fill-color);\n",
              "      border-top-color: var(--fill-color);\n",
              "    }\n",
              "    30% {\n",
              "      border-color: transparent;\n",
              "      border-left-color: var(--fill-color);\n",
              "      border-top-color: var(--fill-color);\n",
              "      border-right-color: var(--fill-color);\n",
              "    }\n",
              "    40% {\n",
              "      border-color: transparent;\n",
              "      border-right-color: var(--fill-color);\n",
              "      border-top-color: var(--fill-color);\n",
              "    }\n",
              "    60% {\n",
              "      border-color: transparent;\n",
              "      border-right-color: var(--fill-color);\n",
              "    }\n",
              "    80% {\n",
              "      border-color: transparent;\n",
              "      border-right-color: var(--fill-color);\n",
              "      border-bottom-color: var(--fill-color);\n",
              "    }\n",
              "    90% {\n",
              "      border-color: transparent;\n",
              "      border-bottom-color: var(--fill-color);\n",
              "    }\n",
              "  }\n",
              "</style>\n",
              "\n",
              "      <script>\n",
              "        async function quickchart(key) {\n",
              "          const quickchartButtonEl =\n",
              "            document.querySelector('#' + key + ' button');\n",
              "          quickchartButtonEl.disabled = true;  // To prevent multiple clicks.\n",
              "          quickchartButtonEl.classList.add('colab-df-spinner');\n",
              "          try {\n",
              "            const charts = await google.colab.kernel.invokeFunction(\n",
              "                'suggestCharts', [key], {});\n",
              "          } catch (error) {\n",
              "            console.error('Error during call to suggestCharts:', error);\n",
              "          }\n",
              "          quickchartButtonEl.classList.remove('colab-df-spinner');\n",
              "          quickchartButtonEl.classList.add('colab-df-quickchart-complete');\n",
              "        }\n",
              "        (() => {\n",
              "          let quickchartButtonEl =\n",
              "            document.querySelector('#df-ff5e86e4-2aef-42db-b577-948a66d841ee button');\n",
              "          quickchartButtonEl.style.display =\n",
              "            google.colab.kernel.accessAllowed ? 'block' : 'none';\n",
              "        })();\n",
              "      </script>\n",
              "    </div>\n",
              "\n",
              "    </div>\n",
              "  </div>\n"
            ],
            "application/vnd.google.colaboratory.intrinsic+json": {
              "type": "dataframe",
              "summary": "{\n  \"name\": \"results(train, pnl_column='st_PnL')\",\n  \"rows\": 12,\n  \"fields\": [\n    {\n      \"column\": \"Results\",\n      \"properties\": {\n        \"dtype\": \"string\",\n        \"num_unique_values\": 12,\n        \"samples\": [\n          \"44\",\n          \"  \",\n          \"648\"\n        ],\n        \"semantic_type\": \"\",\n        \"description\": \"\"\n      }\n    }\n  ]\n}"
            }
          },
          "metadata": {},
          "execution_count": 182
        }
      ],
      "source": [
        "results(train, pnl_column='st_PnL')"
      ]
    },
    {
      "cell_type": "code",
      "execution_count": 183,
      "id": "oQLNnk7XLUiJ",
      "metadata": {
        "id": "oQLNnk7XLUiJ",
        "colab": {
          "base_uri": "https://localhost:8080/",
          "height": 0
        },
        "outputId": "7b79f9d0-6a72-4b90-b974-ed9d0a1a8b81"
      },
      "outputs": [
        {
          "output_type": "execute_result",
          "data": {
            "text/plain": [
              "                    Results\n",
              "days                    289\n",
              "total_trades          5,878\n",
              "                           \n",
              "income          $615,151.93\n",
              "losses         $-260,051.00\n",
              "profits         $355,100.93\n",
              "                           \n",
              "profit_trades         2,419\n",
              "loss_trades           2,857\n",
              "                           \n",
              "% Win_Trades             46\n",
              "% Loss_Trades            54"
            ],
            "text/html": [
              "\n",
              "  <div id=\"df-6715245c-b994-4aff-9ba1-974188e40b22\" class=\"colab-df-container\">\n",
              "    <div>\n",
              "<style scoped>\n",
              "    .dataframe tbody tr th:only-of-type {\n",
              "        vertical-align: middle;\n",
              "    }\n",
              "\n",
              "    .dataframe tbody tr th {\n",
              "        vertical-align: top;\n",
              "    }\n",
              "\n",
              "    .dataframe thead th {\n",
              "        text-align: right;\n",
              "    }\n",
              "</style>\n",
              "<table border=\"1\" class=\"dataframe\">\n",
              "  <thead>\n",
              "    <tr style=\"text-align: right;\">\n",
              "      <th></th>\n",
              "      <th>Results</th>\n",
              "    </tr>\n",
              "  </thead>\n",
              "  <tbody>\n",
              "    <tr>\n",
              "      <th>days</th>\n",
              "      <td>289</td>\n",
              "    </tr>\n",
              "    <tr>\n",
              "      <th>total_trades</th>\n",
              "      <td>5,878</td>\n",
              "    </tr>\n",
              "    <tr>\n",
              "      <th></th>\n",
              "      <td></td>\n",
              "    </tr>\n",
              "    <tr>\n",
              "      <th>income</th>\n",
              "      <td>$615,151.93</td>\n",
              "    </tr>\n",
              "    <tr>\n",
              "      <th>losses</th>\n",
              "      <td>$-260,051.00</td>\n",
              "    </tr>\n",
              "    <tr>\n",
              "      <th>profits</th>\n",
              "      <td>$355,100.93</td>\n",
              "    </tr>\n",
              "    <tr>\n",
              "      <th></th>\n",
              "      <td></td>\n",
              "    </tr>\n",
              "    <tr>\n",
              "      <th>profit_trades</th>\n",
              "      <td>2,419</td>\n",
              "    </tr>\n",
              "    <tr>\n",
              "      <th>loss_trades</th>\n",
              "      <td>2,857</td>\n",
              "    </tr>\n",
              "    <tr>\n",
              "      <th></th>\n",
              "      <td></td>\n",
              "    </tr>\n",
              "    <tr>\n",
              "      <th>% Win_Trades</th>\n",
              "      <td>46</td>\n",
              "    </tr>\n",
              "    <tr>\n",
              "      <th>% Loss_Trades</th>\n",
              "      <td>54</td>\n",
              "    </tr>\n",
              "  </tbody>\n",
              "</table>\n",
              "</div>\n",
              "    <div class=\"colab-df-buttons\">\n",
              "\n",
              "  <div class=\"colab-df-container\">\n",
              "    <button class=\"colab-df-convert\" onclick=\"convertToInteractive('df-6715245c-b994-4aff-9ba1-974188e40b22')\"\n",
              "            title=\"Convert this dataframe to an interactive table.\"\n",
              "            style=\"display:none;\">\n",
              "\n",
              "  <svg xmlns=\"http://www.w3.org/2000/svg\" height=\"24px\" viewBox=\"0 -960 960 960\">\n",
              "    <path d=\"M120-120v-720h720v720H120Zm60-500h600v-160H180v160Zm220 220h160v-160H400v160Zm0 220h160v-160H400v160ZM180-400h160v-160H180v160Zm440 0h160v-160H620v160ZM180-180h160v-160H180v160Zm440 0h160v-160H620v160Z\"/>\n",
              "  </svg>\n",
              "    </button>\n",
              "\n",
              "  <style>\n",
              "    .colab-df-container {\n",
              "      display:flex;\n",
              "      gap: 12px;\n",
              "    }\n",
              "\n",
              "    .colab-df-convert {\n",
              "      background-color: #E8F0FE;\n",
              "      border: none;\n",
              "      border-radius: 50%;\n",
              "      cursor: pointer;\n",
              "      display: none;\n",
              "      fill: #1967D2;\n",
              "      height: 32px;\n",
              "      padding: 0 0 0 0;\n",
              "      width: 32px;\n",
              "    }\n",
              "\n",
              "    .colab-df-convert:hover {\n",
              "      background-color: #E2EBFA;\n",
              "      box-shadow: 0px 1px 2px rgba(60, 64, 67, 0.3), 0px 1px 3px 1px rgba(60, 64, 67, 0.15);\n",
              "      fill: #174EA6;\n",
              "    }\n",
              "\n",
              "    .colab-df-buttons div {\n",
              "      margin-bottom: 4px;\n",
              "    }\n",
              "\n",
              "    [theme=dark] .colab-df-convert {\n",
              "      background-color: #3B4455;\n",
              "      fill: #D2E3FC;\n",
              "    }\n",
              "\n",
              "    [theme=dark] .colab-df-convert:hover {\n",
              "      background-color: #434B5C;\n",
              "      box-shadow: 0px 1px 3px 1px rgba(0, 0, 0, 0.15);\n",
              "      filter: drop-shadow(0px 1px 2px rgba(0, 0, 0, 0.3));\n",
              "      fill: #FFFFFF;\n",
              "    }\n",
              "  </style>\n",
              "\n",
              "    <script>\n",
              "      const buttonEl =\n",
              "        document.querySelector('#df-6715245c-b994-4aff-9ba1-974188e40b22 button.colab-df-convert');\n",
              "      buttonEl.style.display =\n",
              "        google.colab.kernel.accessAllowed ? 'block' : 'none';\n",
              "\n",
              "      async function convertToInteractive(key) {\n",
              "        const element = document.querySelector('#df-6715245c-b994-4aff-9ba1-974188e40b22');\n",
              "        const dataTable =\n",
              "          await google.colab.kernel.invokeFunction('convertToInteractive',\n",
              "                                                    [key], {});\n",
              "        if (!dataTable) return;\n",
              "\n",
              "        const docLinkHtml = 'Like what you see? Visit the ' +\n",
              "          '<a target=\"_blank\" href=https://colab.research.google.com/notebooks/data_table.ipynb>data table notebook</a>'\n",
              "          + ' to learn more about interactive tables.';\n",
              "        element.innerHTML = '';\n",
              "        dataTable['output_type'] = 'display_data';\n",
              "        await google.colab.output.renderOutput(dataTable, element);\n",
              "        const docLink = document.createElement('div');\n",
              "        docLink.innerHTML = docLinkHtml;\n",
              "        element.appendChild(docLink);\n",
              "      }\n",
              "    </script>\n",
              "  </div>\n",
              "\n",
              "\n",
              "    <div id=\"df-0f207a62-70c2-4a5e-9643-014b04045fa4\">\n",
              "      <button class=\"colab-df-quickchart\" onclick=\"quickchart('df-0f207a62-70c2-4a5e-9643-014b04045fa4')\"\n",
              "                title=\"Suggest charts\"\n",
              "                style=\"display:none;\">\n",
              "\n",
              "<svg xmlns=\"http://www.w3.org/2000/svg\" height=\"24px\"viewBox=\"0 0 24 24\"\n",
              "     width=\"24px\">\n",
              "    <g>\n",
              "        <path d=\"M19 3H5c-1.1 0-2 .9-2 2v14c0 1.1.9 2 2 2h14c1.1 0 2-.9 2-2V5c0-1.1-.9-2-2-2zM9 17H7v-7h2v7zm4 0h-2V7h2v10zm4 0h-2v-4h2v4z\"/>\n",
              "    </g>\n",
              "</svg>\n",
              "      </button>\n",
              "\n",
              "<style>\n",
              "  .colab-df-quickchart {\n",
              "      --bg-color: #E8F0FE;\n",
              "      --fill-color: #1967D2;\n",
              "      --hover-bg-color: #E2EBFA;\n",
              "      --hover-fill-color: #174EA6;\n",
              "      --disabled-fill-color: #AAA;\n",
              "      --disabled-bg-color: #DDD;\n",
              "  }\n",
              "\n",
              "  [theme=dark] .colab-df-quickchart {\n",
              "      --bg-color: #3B4455;\n",
              "      --fill-color: #D2E3FC;\n",
              "      --hover-bg-color: #434B5C;\n",
              "      --hover-fill-color: #FFFFFF;\n",
              "      --disabled-bg-color: #3B4455;\n",
              "      --disabled-fill-color: #666;\n",
              "  }\n",
              "\n",
              "  .colab-df-quickchart {\n",
              "    background-color: var(--bg-color);\n",
              "    border: none;\n",
              "    border-radius: 50%;\n",
              "    cursor: pointer;\n",
              "    display: none;\n",
              "    fill: var(--fill-color);\n",
              "    height: 32px;\n",
              "    padding: 0;\n",
              "    width: 32px;\n",
              "  }\n",
              "\n",
              "  .colab-df-quickchart:hover {\n",
              "    background-color: var(--hover-bg-color);\n",
              "    box-shadow: 0 1px 2px rgba(60, 64, 67, 0.3), 0 1px 3px 1px rgba(60, 64, 67, 0.15);\n",
              "    fill: var(--button-hover-fill-color);\n",
              "  }\n",
              "\n",
              "  .colab-df-quickchart-complete:disabled,\n",
              "  .colab-df-quickchart-complete:disabled:hover {\n",
              "    background-color: var(--disabled-bg-color);\n",
              "    fill: var(--disabled-fill-color);\n",
              "    box-shadow: none;\n",
              "  }\n",
              "\n",
              "  .colab-df-spinner {\n",
              "    border: 2px solid var(--fill-color);\n",
              "    border-color: transparent;\n",
              "    border-bottom-color: var(--fill-color);\n",
              "    animation:\n",
              "      spin 1s steps(1) infinite;\n",
              "  }\n",
              "\n",
              "  @keyframes spin {\n",
              "    0% {\n",
              "      border-color: transparent;\n",
              "      border-bottom-color: var(--fill-color);\n",
              "      border-left-color: var(--fill-color);\n",
              "    }\n",
              "    20% {\n",
              "      border-color: transparent;\n",
              "      border-left-color: var(--fill-color);\n",
              "      border-top-color: var(--fill-color);\n",
              "    }\n",
              "    30% {\n",
              "      border-color: transparent;\n",
              "      border-left-color: var(--fill-color);\n",
              "      border-top-color: var(--fill-color);\n",
              "      border-right-color: var(--fill-color);\n",
              "    }\n",
              "    40% {\n",
              "      border-color: transparent;\n",
              "      border-right-color: var(--fill-color);\n",
              "      border-top-color: var(--fill-color);\n",
              "    }\n",
              "    60% {\n",
              "      border-color: transparent;\n",
              "      border-right-color: var(--fill-color);\n",
              "    }\n",
              "    80% {\n",
              "      border-color: transparent;\n",
              "      border-right-color: var(--fill-color);\n",
              "      border-bottom-color: var(--fill-color);\n",
              "    }\n",
              "    90% {\n",
              "      border-color: transparent;\n",
              "      border-bottom-color: var(--fill-color);\n",
              "    }\n",
              "  }\n",
              "</style>\n",
              "\n",
              "      <script>\n",
              "        async function quickchart(key) {\n",
              "          const quickchartButtonEl =\n",
              "            document.querySelector('#' + key + ' button');\n",
              "          quickchartButtonEl.disabled = true;  // To prevent multiple clicks.\n",
              "          quickchartButtonEl.classList.add('colab-df-spinner');\n",
              "          try {\n",
              "            const charts = await google.colab.kernel.invokeFunction(\n",
              "                'suggestCharts', [key], {});\n",
              "          } catch (error) {\n",
              "            console.error('Error during call to suggestCharts:', error);\n",
              "          }\n",
              "          quickchartButtonEl.classList.remove('colab-df-spinner');\n",
              "          quickchartButtonEl.classList.add('colab-df-quickchart-complete');\n",
              "        }\n",
              "        (() => {\n",
              "          let quickchartButtonEl =\n",
              "            document.querySelector('#df-0f207a62-70c2-4a5e-9643-014b04045fa4 button');\n",
              "          quickchartButtonEl.style.display =\n",
              "            google.colab.kernel.accessAllowed ? 'block' : 'none';\n",
              "        })();\n",
              "      </script>\n",
              "    </div>\n",
              "\n",
              "    </div>\n",
              "  </div>\n"
            ],
            "application/vnd.google.colaboratory.intrinsic+json": {
              "type": "dataframe",
              "summary": "{\n  \"name\": \"results(test, pnl_column= 'st_PnL')\",\n  \"rows\": 12,\n  \"fields\": [\n    {\n      \"column\": \"Results\",\n      \"properties\": {\n        \"dtype\": \"string\",\n        \"num_unique_values\": 12,\n        \"samples\": [\n          \"46\",\n          \"  \",\n          \"289\"\n        ],\n        \"semantic_type\": \"\",\n        \"description\": \"\"\n      }\n    }\n  ]\n}"
            }
          },
          "metadata": {},
          "execution_count": 183
        }
      ],
      "source": [
        "results(test, pnl_column= 'st_PnL')"
      ]
    },
    {
      "cell_type": "markdown",
      "id": "85449914",
      "metadata": {
        "id": "85449914"
      },
      "source": [
        "\n",
        "# ML\n"
      ]
    },
    {
      "cell_type": "markdown",
      "id": "6x4lfhG3E2eq",
      "metadata": {
        "id": "6x4lfhG3E2eq"
      },
      "source": [
        "## Train"
      ]
    },
    {
      "cell_type": "code",
      "execution_count": 199,
      "id": "ceaa6efa",
      "metadata": {
        "id": "ceaa6efa",
        "colab": {
          "base_uri": "https://localhost:8080/",
          "height": 547
        },
        "outputId": "e2fe7fda-497b-4054-c081-fc8fab205a3a"
      },
      "outputs": [
        {
          "output_type": "error",
          "ename": "KeyError",
          "evalue": "'10min_RSI_3_diff'",
          "traceback": [
            "\u001b[0;31m---------------------------------------------------------------------------\u001b[0m",
            "\u001b[0;31mKeyError\u001b[0m                                  Traceback (most recent call last)",
            "\u001b[0;32m/usr/local/lib/python3.12/dist-packages/pandas/core/indexes/base.py\u001b[0m in \u001b[0;36mget_loc\u001b[0;34m(self, key)\u001b[0m\n\u001b[1;32m   3804\u001b[0m         \u001b[0;32mtry\u001b[0m\u001b[0;34m:\u001b[0m\u001b[0;34m\u001b[0m\u001b[0;34m\u001b[0m\u001b[0m\n\u001b[0;32m-> 3805\u001b[0;31m             \u001b[0;32mreturn\u001b[0m \u001b[0mself\u001b[0m\u001b[0;34m.\u001b[0m\u001b[0m_engine\u001b[0m\u001b[0;34m.\u001b[0m\u001b[0mget_loc\u001b[0m\u001b[0;34m(\u001b[0m\u001b[0mcasted_key\u001b[0m\u001b[0;34m)\u001b[0m\u001b[0;34m\u001b[0m\u001b[0;34m\u001b[0m\u001b[0m\n\u001b[0m\u001b[1;32m   3806\u001b[0m         \u001b[0;32mexcept\u001b[0m \u001b[0mKeyError\u001b[0m \u001b[0;32mas\u001b[0m \u001b[0merr\u001b[0m\u001b[0;34m:\u001b[0m\u001b[0;34m\u001b[0m\u001b[0;34m\u001b[0m\u001b[0m\n",
            "\u001b[0;32mindex.pyx\u001b[0m in \u001b[0;36mpandas._libs.index.IndexEngine.get_loc\u001b[0;34m()\u001b[0m\n",
            "\u001b[0;32mindex.pyx\u001b[0m in \u001b[0;36mpandas._libs.index.IndexEngine.get_loc\u001b[0;34m()\u001b[0m\n",
            "\u001b[0;32mpandas/_libs/hashtable_class_helper.pxi\u001b[0m in \u001b[0;36mpandas._libs.hashtable.PyObjectHashTable.get_item\u001b[0;34m()\u001b[0m\n",
            "\u001b[0;32mpandas/_libs/hashtable_class_helper.pxi\u001b[0m in \u001b[0;36mpandas._libs.hashtable.PyObjectHashTable.get_item\u001b[0;34m()\u001b[0m\n",
            "\u001b[0;31mKeyError\u001b[0m: '10min_RSI_3_diff'",
            "\nThe above exception was the direct cause of the following exception:\n",
            "\u001b[0;31mKeyError\u001b[0m                                  Traceback (most recent call last)",
            "\u001b[0;32m/tmp/ipython-input-843007732.py\u001b[0m in \u001b[0;36m<cell line: 0>\u001b[0;34m()\u001b[0m\n\u001b[1;32m      1\u001b[0m \u001b[0;31m### When using train_test_split it applies the scaler to X_train only\u001b[0m\u001b[0;34m\u001b[0m\u001b[0;34m\u001b[0m\u001b[0m\n\u001b[0;32m----> 2\u001b[0;31m \u001b[0mstart_feature\u001b[0m \u001b[0;34m=\u001b[0m \u001b[0mtrain\u001b[0m\u001b[0;34m.\u001b[0m\u001b[0mcolumns\u001b[0m\u001b[0;34m.\u001b[0m\u001b[0mget_loc\u001b[0m\u001b[0;34m(\u001b[0m\u001b[0;34m'10min_RSI_3_diff'\u001b[0m\u001b[0;34m)\u001b[0m\u001b[0;34m\u001b[0m\u001b[0;34m\u001b[0m\u001b[0m\n\u001b[0m\u001b[1;32m      3\u001b[0m \u001b[0mtrain_features\u001b[0m \u001b[0;34m=\u001b[0m \u001b[0;34m[\u001b[0m\u001b[0mcol\u001b[0m \u001b[0;32mfor\u001b[0m \u001b[0mcol\u001b[0m \u001b[0;32min\u001b[0m \u001b[0mtrain\u001b[0m\u001b[0;34m.\u001b[0m\u001b[0mcolumns\u001b[0m\u001b[0;34m[\u001b[0m\u001b[0mstart_feature\u001b[0m\u001b[0;34m:\u001b[0m\u001b[0;34m]\u001b[0m \u001b[0;32mif\u001b[0m \u001b[0mcol\u001b[0m \u001b[0;34m!=\u001b[0m \u001b[0;34m'label'\u001b[0m\u001b[0;34m]\u001b[0m\u001b[0;34m\u001b[0m\u001b[0;34m\u001b[0m\u001b[0m\n\u001b[1;32m      4\u001b[0m \u001b[0;34m\u001b[0m\u001b[0m\n\u001b[1;32m      5\u001b[0m \u001b[0mX\u001b[0m \u001b[0;34m=\u001b[0m \u001b[0mtrain\u001b[0m\u001b[0;34m.\u001b[0m\u001b[0mloc\u001b[0m\u001b[0;34m[\u001b[0m\u001b[0;34m:\u001b[0m\u001b[0;34m,\u001b[0m \u001b[0mtrain_features\u001b[0m\u001b[0;34m]\u001b[0m\u001b[0;34m\u001b[0m\u001b[0;34m\u001b[0m\u001b[0m\n",
            "\u001b[0;32m/usr/local/lib/python3.12/dist-packages/pandas/core/indexes/base.py\u001b[0m in \u001b[0;36mget_loc\u001b[0;34m(self, key)\u001b[0m\n\u001b[1;32m   3810\u001b[0m             ):\n\u001b[1;32m   3811\u001b[0m                 \u001b[0;32mraise\u001b[0m \u001b[0mInvalidIndexError\u001b[0m\u001b[0;34m(\u001b[0m\u001b[0mkey\u001b[0m\u001b[0;34m)\u001b[0m\u001b[0;34m\u001b[0m\u001b[0;34m\u001b[0m\u001b[0m\n\u001b[0;32m-> 3812\u001b[0;31m             \u001b[0;32mraise\u001b[0m \u001b[0mKeyError\u001b[0m\u001b[0;34m(\u001b[0m\u001b[0mkey\u001b[0m\u001b[0;34m)\u001b[0m \u001b[0;32mfrom\u001b[0m \u001b[0merr\u001b[0m\u001b[0;34m\u001b[0m\u001b[0;34m\u001b[0m\u001b[0m\n\u001b[0m\u001b[1;32m   3813\u001b[0m         \u001b[0;32mexcept\u001b[0m \u001b[0mTypeError\u001b[0m\u001b[0;34m:\u001b[0m\u001b[0;34m\u001b[0m\u001b[0;34m\u001b[0m\u001b[0m\n\u001b[1;32m   3814\u001b[0m             \u001b[0;31m# If we have a listlike key, _check_indexing_error will raise\u001b[0m\u001b[0;34m\u001b[0m\u001b[0;34m\u001b[0m\u001b[0m\n",
            "\u001b[0;31mKeyError\u001b[0m: '10min_RSI_3_diff'"
          ]
        }
      ],
      "source": [
        "### When using train_test_split it applies the scaler to X_train only\n",
        "start_feature = train.columns.get_loc('10min_RSI_3_diff')\n",
        "train_features = [col for col in train.columns[start_feature:] if col != 'label']\n",
        "\n",
        "X = train.loc[:, train_features]\n",
        "y = train['label']\n",
        "\n",
        "X_train, X_test, y_train, y_test = train_test_split(X, y, test_size=0.3, random_state=42)\n",
        "\n",
        "print(\"Shape of X_train:\", X_train.shape)\n",
        "print(\"Shape of X_test:\",  X_test.shape)\n",
        "print(\"Shape of y_train:\", y_train.shape)\n",
        "print(\"Shape of y_test:\",  y_test.shape)"
      ]
    },
    {
      "cell_type": "code",
      "execution_count": null,
      "id": "bQ7NohxSqFxk",
      "metadata": {
        "id": "bQ7NohxSqFxk"
      },
      "outputs": [],
      "source": [
        "print(y_train.value_counts())\n",
        "print(y_test.value_counts())"
      ]
    },
    {
      "cell_type": "code",
      "execution_count": null,
      "id": "G_0TrSpzsRuA",
      "metadata": {
        "id": "G_0TrSpzsRuA"
      },
      "outputs": [],
      "source": [
        "### Rebalance Data frame due to the low number of class 1\n",
        "smote = SMOTE(random_state=42)\n",
        "X_train_resampled, y_train_resampled = smote.fit_resample(X_train, y_train)\n",
        "\n",
        "# Now train your model on the resampled data\n",
        "print(X_train_resampled.value_counts(),'\\n')\n",
        "print(y_train_resampled.value_counts())"
      ]
    },
    {
      "cell_type": "code",
      "execution_count": null,
      "id": "JQvYaSVZam-a",
      "metadata": {
        "id": "JQvYaSVZam-a"
      },
      "outputs": [],
      "source": [
        "# --------------- Classifier 1: XGBoost ------------------------------------------\n",
        "xgb = XGBClassifier(n_estimators=15, max_depth=3,\n",
        "                    random_state=42, eval_metric='logloss')\n",
        "\n",
        "# --------------- Classifier 2: Logistic Regression Classifier------------------------------------------\n",
        "lr = LogisticRegression(random_state=42)\n",
        "\n",
        "# --------------- Classifier 3: AdaBoost Classifier ------------------------------------------\n",
        "ada = AdaBoostClassifier(n_estimators=15, random_state=42)\n",
        "\n",
        "# --------------- Classifier 4: SVM------------------------------------------\n",
        "svc = svm.SVC(kernel='rbf', probability=True, random_state=42)\n",
        "\n",
        "# Define a list to store the different models\n",
        "estimator = []\n",
        "estimator.append(('LR', lr))\n",
        "estimator.append(('XGB', xgb))\n",
        "estimator.append(('ada', ada))\n",
        "estimator.append(('SVC', svc))"
      ]
    },
    {
      "cell_type": "code",
      "execution_count": null,
      "id": "9b68d18e",
      "metadata": {
        "id": "9b68d18e"
      },
      "outputs": [],
      "source": [
        "# --------------- Classifier 1: XGBoost ------------------------------------------\n",
        "xgb = XGBClassifier(n_estimators=15, max_depth=3,\n",
        "                    random_state=42, eval_metric='logloss')\n",
        "\n",
        "# --------------- Classifier 2: Logistic Regression Classifier------------------------------------------\n",
        "lr = LogisticRegression(random_state=42)\n",
        "\n",
        "# --------------- Classifier 3: AdaBoost Classifier ------------------------------------------\n",
        "ada = AdaBoostClassifier(n_estimators=15, random_state=42)\n",
        "\n",
        "# --------------- Classifier 4: SVM------------------------------------------\n",
        "svc = svm.SVC(kernel='rbf', probability=True, random_state=42)\n",
        "\n",
        "# Define a list to store the different models\n",
        "estimator = []\n",
        "estimator.append(('LR', lr))\n",
        "estimator.append(('XGB', xgb))\n",
        "estimator.append(('ada', ada))\n",
        "estimator.append(('SVC', svc))"
      ]
    },
    {
      "cell_type": "code",
      "execution_count": null,
      "id": "606c84c3",
      "metadata": {
        "id": "606c84c3"
      },
      "outputs": [],
      "source": [
        "### Implement voting classifier with hard voting\n",
        "\n",
        "ml_model = VotingClassifier(estimators=estimator, voting='soft')\n",
        "ml_model.fit(X_train_resampled, y_train_resampled)\n",
        "#ml_model.fit(X_train, y_train)"
      ]
    },
    {
      "cell_type": "code",
      "execution_count": null,
      "id": "0d37141d",
      "metadata": {
        "id": "0d37141d"
      },
      "outputs": [],
      "source": [
        "y_true = y_test\n",
        "y_pred = ml_model.predict(X_test)\n",
        "\n",
        "conf_matrix = confusion_matrix(y_true, y_pred)\n",
        "print(\"Confusion Matrix:\")\n",
        "print(conf_matrix)\n",
        "\n",
        "class_report = classification_report(y_true, y_pred)\n",
        "print(\"\\nClassification Report:\")\n",
        "print(class_report)"
      ]
    },
    {
      "cell_type": "code",
      "execution_count": null,
      "id": "dCEg0X2E04iQ",
      "metadata": {
        "id": "dCEg0X2E04iQ"
      },
      "outputs": [],
      "source": [
        "### Save ML Model\n",
        "model_path = root_data + 'Models/'+symbol+'_'+direction+'_ml_model.joblib'\n",
        "joblib.dump(ml_model, model_path)\n",
        "print(f\"Model saved successfully at: {model_path}\")"
      ]
    },
    {
      "cell_type": "markdown",
      "id": "rhCVvXKxM2Uk",
      "metadata": {
        "id": "rhCVvXKxM2Uk"
      },
      "source": [
        "## Meta"
      ]
    },
    {
      "cell_type": "code",
      "execution_count": 157,
      "id": "PhMU7vwLPag_",
      "metadata": {
        "id": "PhMU7vwLPag_",
        "colab": {
          "base_uri": "https://localhost:8080/"
        },
        "outputId": "67b1a2e6-23bb-418e-a6f4-e095e9ad099f"
      },
      "outputs": [
        {
          "output_type": "stream",
          "name": "stdout",
          "text": [
            "Model loaded successfully from: /content/drive/MyDrive/Course Folder/Forex/XAUUSD/Models/BTCUSD_Short_ml_model.joblib\n"
          ]
        }
      ],
      "source": [
        "### Import ML Model\n",
        "model_path = root_data+'Models/'+symbol+'_'+direction+'_ml_model.joblib'\n",
        "ml_model = joblib.load(model_path)\n",
        "print(f\"Model loaded successfully from: {model_path}\")"
      ]
    },
    {
      "cell_type": "code",
      "execution_count": 158,
      "id": "qszEBUJ-4GCn",
      "metadata": {
        "id": "qszEBUJ-4GCn"
      },
      "outputs": [],
      "source": [
        "#train.head(5)"
      ]
    },
    {
      "cell_type": "code",
      "execution_count": 159,
      "id": "yRXiqFivOSNq",
      "metadata": {
        "id": "yRXiqFivOSNq",
        "colab": {
          "base_uri": "https://localhost:8080/",
          "height": 599
        },
        "outputId": "aab0c431-032c-4261-be39-1493845b3705"
      },
      "outputs": [
        {
          "output_type": "error",
          "ename": "ValueError",
          "evalue": "The feature names should match those that were passed during fit.\nFeature names unseen at fit time:\n- 10min_Kal_300\n- 10min_MFI_14_diff\n- 10min_MFI_3_diff\n- 10min_MFI_7 - MFI_14\n- 10min_MFI_7_diff\n- ...\nFeature names seen at fit time, yet now missing:\n- 10min_ADX_10\n- 10min_ADX_126\n- 10min_ADX_15\n- 10min_ADX_17\n- 10min_ADX_20\n- ...\n",
          "traceback": [
            "\u001b[0;31m---------------------------------------------------------------------------\u001b[0m",
            "\u001b[0;31mValueError\u001b[0m                                Traceback (most recent call last)",
            "\u001b[0;32m/tmp/ipython-input-2986430216.py\u001b[0m in \u001b[0;36m<cell line: 0>\u001b[0;34m()\u001b[0m\n\u001b[1;32m      6\u001b[0m \u001b[0mX_train_features\u001b[0m \u001b[0;34m=\u001b[0m \u001b[0mtrain\u001b[0m\u001b[0;34m[\u001b[0m\u001b[0mtrain_features\u001b[0m\u001b[0;34m]\u001b[0m\u001b[0;34m\u001b[0m\u001b[0;34m\u001b[0m\u001b[0m\n\u001b[1;32m      7\u001b[0m \u001b[0;34m\u001b[0m\u001b[0m\n\u001b[0;32m----> 8\u001b[0;31m \u001b[0mtrain\u001b[0m\u001b[0;34m[\u001b[0m\u001b[0;34m'label_ml'\u001b[0m\u001b[0;34m]\u001b[0m \u001b[0;34m=\u001b[0m \u001b[0mml_model\u001b[0m\u001b[0;34m.\u001b[0m\u001b[0mpredict\u001b[0m\u001b[0;34m(\u001b[0m\u001b[0mX_train_features\u001b[0m\u001b[0;34m)\u001b[0m\u001b[0;34m\u001b[0m\u001b[0;34m\u001b[0m\u001b[0m\n\u001b[0m\u001b[1;32m      9\u001b[0m \u001b[0;34m\u001b[0m\u001b[0m\n\u001b[1;32m     10\u001b[0m \u001b[0mmeta_features\u001b[0m \u001b[0;34m=\u001b[0m \u001b[0mtrain_features\u001b[0m \u001b[0;34m+\u001b[0m \u001b[0;34m[\u001b[0m\u001b[0;34m'label_ml'\u001b[0m\u001b[0;34m]\u001b[0m\u001b[0;34m\u001b[0m\u001b[0;34m\u001b[0m\u001b[0m\n",
            "\u001b[0;32m/usr/local/lib/python3.12/dist-packages/sklearn/ensemble/_voting.py\u001b[0m in \u001b[0;36mpredict\u001b[0;34m(self, X)\u001b[0m\n\u001b[1;32m    434\u001b[0m         \u001b[0mcheck_is_fitted\u001b[0m\u001b[0;34m(\u001b[0m\u001b[0mself\u001b[0m\u001b[0;34m)\u001b[0m\u001b[0;34m\u001b[0m\u001b[0;34m\u001b[0m\u001b[0m\n\u001b[1;32m    435\u001b[0m         \u001b[0;32mif\u001b[0m \u001b[0mself\u001b[0m\u001b[0;34m.\u001b[0m\u001b[0mvoting\u001b[0m \u001b[0;34m==\u001b[0m \u001b[0;34m\"soft\"\u001b[0m\u001b[0;34m:\u001b[0m\u001b[0;34m\u001b[0m\u001b[0;34m\u001b[0m\u001b[0m\n\u001b[0;32m--> 436\u001b[0;31m             \u001b[0mmaj\u001b[0m \u001b[0;34m=\u001b[0m \u001b[0mnp\u001b[0m\u001b[0;34m.\u001b[0m\u001b[0margmax\u001b[0m\u001b[0;34m(\u001b[0m\u001b[0mself\u001b[0m\u001b[0;34m.\u001b[0m\u001b[0mpredict_proba\u001b[0m\u001b[0;34m(\u001b[0m\u001b[0mX\u001b[0m\u001b[0;34m)\u001b[0m\u001b[0;34m,\u001b[0m \u001b[0maxis\u001b[0m\u001b[0;34m=\u001b[0m\u001b[0;36m1\u001b[0m\u001b[0;34m)\u001b[0m\u001b[0;34m\u001b[0m\u001b[0;34m\u001b[0m\u001b[0m\n\u001b[0m\u001b[1;32m    437\u001b[0m \u001b[0;34m\u001b[0m\u001b[0m\n\u001b[1;32m    438\u001b[0m         \u001b[0;32melse\u001b[0m\u001b[0;34m:\u001b[0m  \u001b[0;31m# 'hard' voting\u001b[0m\u001b[0;34m\u001b[0m\u001b[0;34m\u001b[0m\u001b[0m\n",
            "\u001b[0;32m/usr/local/lib/python3.12/dist-packages/sklearn/ensemble/_voting.py\u001b[0m in \u001b[0;36mpredict_proba\u001b[0;34m(self, X)\u001b[0m\n\u001b[1;32m    475\u001b[0m         \u001b[0mcheck_is_fitted\u001b[0m\u001b[0;34m(\u001b[0m\u001b[0mself\u001b[0m\u001b[0;34m)\u001b[0m\u001b[0;34m\u001b[0m\u001b[0;34m\u001b[0m\u001b[0m\n\u001b[1;32m    476\u001b[0m         avg = np.average(\n\u001b[0;32m--> 477\u001b[0;31m             \u001b[0mself\u001b[0m\u001b[0;34m.\u001b[0m\u001b[0m_collect_probas\u001b[0m\u001b[0;34m(\u001b[0m\u001b[0mX\u001b[0m\u001b[0;34m)\u001b[0m\u001b[0;34m,\u001b[0m \u001b[0maxis\u001b[0m\u001b[0;34m=\u001b[0m\u001b[0;36m0\u001b[0m\u001b[0;34m,\u001b[0m \u001b[0mweights\u001b[0m\u001b[0;34m=\u001b[0m\u001b[0mself\u001b[0m\u001b[0;34m.\u001b[0m\u001b[0m_weights_not_none\u001b[0m\u001b[0;34m\u001b[0m\u001b[0;34m\u001b[0m\u001b[0m\n\u001b[0m\u001b[1;32m    478\u001b[0m         )\n\u001b[1;32m    479\u001b[0m         \u001b[0;32mreturn\u001b[0m \u001b[0mavg\u001b[0m\u001b[0;34m\u001b[0m\u001b[0;34m\u001b[0m\u001b[0m\n",
            "\u001b[0;32m/usr/local/lib/python3.12/dist-packages/sklearn/ensemble/_voting.py\u001b[0m in \u001b[0;36m_collect_probas\u001b[0;34m(self, X)\u001b[0m\n\u001b[1;32m    450\u001b[0m     \u001b[0;32mdef\u001b[0m \u001b[0m_collect_probas\u001b[0m\u001b[0;34m(\u001b[0m\u001b[0mself\u001b[0m\u001b[0;34m,\u001b[0m \u001b[0mX\u001b[0m\u001b[0;34m)\u001b[0m\u001b[0;34m:\u001b[0m\u001b[0;34m\u001b[0m\u001b[0;34m\u001b[0m\u001b[0m\n\u001b[1;32m    451\u001b[0m         \u001b[0;34m\"\"\"Collect results from clf.predict calls.\"\"\"\u001b[0m\u001b[0;34m\u001b[0m\u001b[0;34m\u001b[0m\u001b[0m\n\u001b[0;32m--> 452\u001b[0;31m         \u001b[0;32mreturn\u001b[0m \u001b[0mnp\u001b[0m\u001b[0;34m.\u001b[0m\u001b[0masarray\u001b[0m\u001b[0;34m(\u001b[0m\u001b[0;34m[\u001b[0m\u001b[0mclf\u001b[0m\u001b[0;34m.\u001b[0m\u001b[0mpredict_proba\u001b[0m\u001b[0;34m(\u001b[0m\u001b[0mX\u001b[0m\u001b[0;34m)\u001b[0m \u001b[0;32mfor\u001b[0m \u001b[0mclf\u001b[0m \u001b[0;32min\u001b[0m \u001b[0mself\u001b[0m\u001b[0;34m.\u001b[0m\u001b[0mestimators_\u001b[0m\u001b[0;34m]\u001b[0m\u001b[0;34m)\u001b[0m\u001b[0;34m\u001b[0m\u001b[0;34m\u001b[0m\u001b[0m\n\u001b[0m\u001b[1;32m    453\u001b[0m \u001b[0;34m\u001b[0m\u001b[0m\n\u001b[1;32m    454\u001b[0m     \u001b[0;32mdef\u001b[0m \u001b[0m_check_voting\u001b[0m\u001b[0;34m(\u001b[0m\u001b[0mself\u001b[0m\u001b[0;34m)\u001b[0m\u001b[0;34m:\u001b[0m\u001b[0;34m\u001b[0m\u001b[0;34m\u001b[0m\u001b[0m\n",
            "\u001b[0;32m/usr/local/lib/python3.12/dist-packages/sklearn/linear_model/_logistic.py\u001b[0m in \u001b[0;36mpredict_proba\u001b[0;34m(self, X)\u001b[0m\n\u001b[1;32m   1426\u001b[0m         )\n\u001b[1;32m   1427\u001b[0m         \u001b[0;32mif\u001b[0m \u001b[0movr\u001b[0m\u001b[0;34m:\u001b[0m\u001b[0;34m\u001b[0m\u001b[0;34m\u001b[0m\u001b[0m\n\u001b[0;32m-> 1428\u001b[0;31m             \u001b[0;32mreturn\u001b[0m \u001b[0msuper\u001b[0m\u001b[0;34m(\u001b[0m\u001b[0;34m)\u001b[0m\u001b[0;34m.\u001b[0m\u001b[0m_predict_proba_lr\u001b[0m\u001b[0;34m(\u001b[0m\u001b[0mX\u001b[0m\u001b[0;34m)\u001b[0m\u001b[0;34m\u001b[0m\u001b[0;34m\u001b[0m\u001b[0m\n\u001b[0m\u001b[1;32m   1429\u001b[0m         \u001b[0;32melse\u001b[0m\u001b[0;34m:\u001b[0m\u001b[0;34m\u001b[0m\u001b[0;34m\u001b[0m\u001b[0m\n\u001b[1;32m   1430\u001b[0m             \u001b[0mdecision\u001b[0m \u001b[0;34m=\u001b[0m \u001b[0mself\u001b[0m\u001b[0;34m.\u001b[0m\u001b[0mdecision_function\u001b[0m\u001b[0;34m(\u001b[0m\u001b[0mX\u001b[0m\u001b[0;34m)\u001b[0m\u001b[0;34m\u001b[0m\u001b[0;34m\u001b[0m\u001b[0m\n",
            "\u001b[0;32m/usr/local/lib/python3.12/dist-packages/sklearn/linear_model/_base.py\u001b[0m in \u001b[0;36m_predict_proba_lr\u001b[0;34m(self, X)\u001b[0m\n\u001b[1;32m    387\u001b[0m         \u001b[0mmulticlass\u001b[0m \u001b[0;32mis\u001b[0m \u001b[0mhandled\u001b[0m \u001b[0mby\u001b[0m \u001b[0mnormalizing\u001b[0m \u001b[0mthat\u001b[0m \u001b[0mover\u001b[0m \u001b[0mall\u001b[0m \u001b[0mclasses\u001b[0m\u001b[0;34m.\u001b[0m\u001b[0;34m\u001b[0m\u001b[0;34m\u001b[0m\u001b[0m\n\u001b[1;32m    388\u001b[0m         \"\"\"\n\u001b[0;32m--> 389\u001b[0;31m         \u001b[0mprob\u001b[0m \u001b[0;34m=\u001b[0m \u001b[0mself\u001b[0m\u001b[0;34m.\u001b[0m\u001b[0mdecision_function\u001b[0m\u001b[0;34m(\u001b[0m\u001b[0mX\u001b[0m\u001b[0;34m)\u001b[0m\u001b[0;34m\u001b[0m\u001b[0;34m\u001b[0m\u001b[0m\n\u001b[0m\u001b[1;32m    390\u001b[0m         \u001b[0mexpit\u001b[0m\u001b[0;34m(\u001b[0m\u001b[0mprob\u001b[0m\u001b[0;34m,\u001b[0m \u001b[0mout\u001b[0m\u001b[0;34m=\u001b[0m\u001b[0mprob\u001b[0m\u001b[0;34m)\u001b[0m\u001b[0;34m\u001b[0m\u001b[0;34m\u001b[0m\u001b[0m\n\u001b[1;32m    391\u001b[0m         \u001b[0;32mif\u001b[0m \u001b[0mprob\u001b[0m\u001b[0;34m.\u001b[0m\u001b[0mndim\u001b[0m \u001b[0;34m==\u001b[0m \u001b[0;36m1\u001b[0m\u001b[0;34m:\u001b[0m\u001b[0;34m\u001b[0m\u001b[0;34m\u001b[0m\u001b[0m\n",
            "\u001b[0;32m/usr/local/lib/python3.12/dist-packages/sklearn/linear_model/_base.py\u001b[0m in \u001b[0;36mdecision_function\u001b[0;34m(self, X)\u001b[0m\n\u001b[1;32m    349\u001b[0m         \u001b[0mxp\u001b[0m\u001b[0;34m,\u001b[0m \u001b[0m_\u001b[0m \u001b[0;34m=\u001b[0m \u001b[0mget_namespace\u001b[0m\u001b[0;34m(\u001b[0m\u001b[0mX\u001b[0m\u001b[0;34m)\u001b[0m\u001b[0;34m\u001b[0m\u001b[0;34m\u001b[0m\u001b[0m\n\u001b[1;32m    350\u001b[0m \u001b[0;34m\u001b[0m\u001b[0m\n\u001b[0;32m--> 351\u001b[0;31m         \u001b[0mX\u001b[0m \u001b[0;34m=\u001b[0m \u001b[0mvalidate_data\u001b[0m\u001b[0;34m(\u001b[0m\u001b[0mself\u001b[0m\u001b[0;34m,\u001b[0m \u001b[0mX\u001b[0m\u001b[0;34m,\u001b[0m \u001b[0maccept_sparse\u001b[0m\u001b[0;34m=\u001b[0m\u001b[0;34m\"csr\"\u001b[0m\u001b[0;34m,\u001b[0m \u001b[0mreset\u001b[0m\u001b[0;34m=\u001b[0m\u001b[0;32mFalse\u001b[0m\u001b[0;34m)\u001b[0m\u001b[0;34m\u001b[0m\u001b[0;34m\u001b[0m\u001b[0m\n\u001b[0m\u001b[1;32m    352\u001b[0m         \u001b[0mscores\u001b[0m \u001b[0;34m=\u001b[0m \u001b[0msafe_sparse_dot\u001b[0m\u001b[0;34m(\u001b[0m\u001b[0mX\u001b[0m\u001b[0;34m,\u001b[0m \u001b[0mself\u001b[0m\u001b[0;34m.\u001b[0m\u001b[0mcoef_\u001b[0m\u001b[0;34m.\u001b[0m\u001b[0mT\u001b[0m\u001b[0;34m,\u001b[0m \u001b[0mdense_output\u001b[0m\u001b[0;34m=\u001b[0m\u001b[0;32mTrue\u001b[0m\u001b[0;34m)\u001b[0m \u001b[0;34m+\u001b[0m \u001b[0mself\u001b[0m\u001b[0;34m.\u001b[0m\u001b[0mintercept_\u001b[0m\u001b[0;34m\u001b[0m\u001b[0;34m\u001b[0m\u001b[0m\n\u001b[1;32m    353\u001b[0m         return (\n",
            "\u001b[0;32m/usr/local/lib/python3.12/dist-packages/sklearn/utils/validation.py\u001b[0m in \u001b[0;36mvalidate_data\u001b[0;34m(_estimator, X, y, reset, validate_separately, skip_check_array, **check_params)\u001b[0m\n\u001b[1;32m   2917\u001b[0m         \u001b[0mvalidated\u001b[0m\u001b[0;34m.\u001b[0m\u001b[0;34m\u001b[0m\u001b[0;34m\u001b[0m\u001b[0m\n\u001b[1;32m   2918\u001b[0m     \"\"\"\n\u001b[0;32m-> 2919\u001b[0;31m     \u001b[0m_check_feature_names\u001b[0m\u001b[0;34m(\u001b[0m\u001b[0m_estimator\u001b[0m\u001b[0;34m,\u001b[0m \u001b[0mX\u001b[0m\u001b[0;34m,\u001b[0m \u001b[0mreset\u001b[0m\u001b[0;34m=\u001b[0m\u001b[0mreset\u001b[0m\u001b[0;34m)\u001b[0m\u001b[0;34m\u001b[0m\u001b[0;34m\u001b[0m\u001b[0m\n\u001b[0m\u001b[1;32m   2920\u001b[0m     \u001b[0mtags\u001b[0m \u001b[0;34m=\u001b[0m \u001b[0mget_tags\u001b[0m\u001b[0;34m(\u001b[0m\u001b[0m_estimator\u001b[0m\u001b[0;34m)\u001b[0m\u001b[0;34m\u001b[0m\u001b[0;34m\u001b[0m\u001b[0m\n\u001b[1;32m   2921\u001b[0m     \u001b[0;32mif\u001b[0m \u001b[0my\u001b[0m \u001b[0;32mis\u001b[0m \u001b[0;32mNone\u001b[0m \u001b[0;32mand\u001b[0m \u001b[0mtags\u001b[0m\u001b[0;34m.\u001b[0m\u001b[0mtarget_tags\u001b[0m\u001b[0;34m.\u001b[0m\u001b[0mrequired\u001b[0m\u001b[0;34m:\u001b[0m\u001b[0;34m\u001b[0m\u001b[0;34m\u001b[0m\u001b[0m\n",
            "\u001b[0;32m/usr/local/lib/python3.12/dist-packages/sklearn/utils/validation.py\u001b[0m in \u001b[0;36m_check_feature_names\u001b[0;34m(estimator, X, reset)\u001b[0m\n\u001b[1;32m   2775\u001b[0m             \u001b[0mmessage\u001b[0m \u001b[0;34m+=\u001b[0m \u001b[0;34m\"Feature names must be in the same order as they were in fit.\\n\"\u001b[0m\u001b[0;34m\u001b[0m\u001b[0;34m\u001b[0m\u001b[0m\n\u001b[1;32m   2776\u001b[0m \u001b[0;34m\u001b[0m\u001b[0m\n\u001b[0;32m-> 2777\u001b[0;31m         \u001b[0;32mraise\u001b[0m \u001b[0mValueError\u001b[0m\u001b[0;34m(\u001b[0m\u001b[0mmessage\u001b[0m\u001b[0;34m)\u001b[0m\u001b[0;34m\u001b[0m\u001b[0;34m\u001b[0m\u001b[0m\n\u001b[0m\u001b[1;32m   2778\u001b[0m \u001b[0;34m\u001b[0m\u001b[0m\n\u001b[1;32m   2779\u001b[0m \u001b[0;34m\u001b[0m\u001b[0m\n",
            "\u001b[0;31mValueError\u001b[0m: The feature names should match those that were passed during fit.\nFeature names unseen at fit time:\n- 10min_Kal_300\n- 10min_MFI_14_diff\n- 10min_MFI_3_diff\n- 10min_MFI_7 - MFI_14\n- 10min_MFI_7_diff\n- ...\nFeature names seen at fit time, yet now missing:\n- 10min_ADX_10\n- 10min_ADX_126\n- 10min_ADX_15\n- 10min_ADX_17\n- 10min_ADX_20\n- ...\n"
          ]
        }
      ],
      "source": [
        "### Import Data\n",
        "start_feature = train.columns.get_loc('10min_RSI_3')\n",
        "train_features = [col for col in train.columns[start_feature:] if col != 'label']\n",
        "\n",
        "# Select the feature columns from the 'train' DataFrame\n",
        "X_train_features = train[train_features]\n",
        "\n",
        "train['label_ml'] = ml_model.predict(X_train_features)\n",
        "\n",
        "meta_features = train_features + ['label_ml']\n",
        "X_meta_features = train[meta_features]\n",
        "\n",
        "prediction_probabilities = ml_model.predict_proba(X_train_features)\n",
        "train['prob_0'] = prediction_probabilities[:, 0]\n",
        "train['prob_1'] = prediction_probabilities[:, 1]\n",
        "\n",
        "#train.head()"
      ]
    },
    {
      "cell_type": "code",
      "execution_count": null,
      "id": "a7PKPf5CxaRx",
      "metadata": {
        "id": "a7PKPf5CxaRx"
      },
      "outputs": [],
      "source": [
        "train.to_csv(root_data + 'Results/'+symbol+'Meta_Prob_M5+M10_train_l.csv')"
      ]
    },
    {
      "cell_type": "code",
      "execution_count": null,
      "id": "XVlPvtGoxaRy",
      "metadata": {
        "id": "XVlPvtGoxaRy"
      },
      "outputs": [],
      "source": [
        "meta = train_features + ['label_ml', 'prob_1', 'prob_0']\n",
        "#meta = train_features + ['prob_1']\n",
        "X_meta_features = train[meta]\n",
        "\n",
        "X = train[meta]\n",
        "y = train['label']\n",
        "\n",
        "X_train, X_test, y_train, y_test = train_test_split(X, y, test_size=0.3, random_state=42)\n",
        "\n",
        "print(\"Shape of X_train:\", X_train.shape)\n",
        "print(\"Shape of X_test:\", X_test.shape)\n",
        "print(\"Shape of y_train:\", y_train.shape)\n",
        "print(\"Shape of y_test:\", y_test.shape)"
      ]
    },
    {
      "cell_type": "code",
      "execution_count": null,
      "id": "3rPgnEbGxaRy",
      "metadata": {
        "id": "3rPgnEbGxaRy"
      },
      "outputs": [],
      "source": [
        "print(y_train.value_counts())\n",
        "print(y_test.value_counts())"
      ]
    },
    {
      "cell_type": "code",
      "execution_count": null,
      "id": "VeHU0htFxaRy",
      "metadata": {
        "id": "VeHU0htFxaRy"
      },
      "outputs": [],
      "source": [
        "### Rebalance Data frame due to the low number of class 1\n",
        "\n",
        "smote = SMOTE(random_state=42)\n",
        "X_train_resampled, y_train_resampled = smote.fit_resample(X_train, y_train)"
      ]
    },
    {
      "cell_type": "code",
      "execution_count": null,
      "id": "2XmqHiZBxaRy",
      "metadata": {
        "id": "2XmqHiZBxaRy"
      },
      "outputs": [],
      "source": [
        "# --------------- Classifier 1: XGBoost ------------------------------------------\n",
        "xgb = XGBClassifier(n_estimators=15, max_depth=3,\n",
        "                    random_state=42, eval_metric='logloss')\n",
        "\n",
        "# --------------- Classifier 2: Logistic Regression Classifier------------------------------------------\n",
        "lr = LogisticRegression(random_state=42)\n",
        "\n",
        "# --------------- Classifier 3: AdaBoost Classifier ------------------------------------------\n",
        "ada = AdaBoostClassifier(n_estimators=15, random_state=42)\n",
        "\n",
        "# --------------- Classifier 4: SVM------------------------------------------\n",
        "svc = svm.SVC(kernel='rbf', probability=True, random_state=42)\n",
        "\n",
        "# Define a list to store the different models\n",
        "estimator = []\n",
        "estimator.append(('LR', lr))\n",
        "estimator.append(('XGB', xgb))\n",
        "estimator.append(('ada', ada))\n",
        "estimator.append(('SVC', svc))"
      ]
    },
    {
      "cell_type": "code",
      "execution_count": null,
      "id": "2JHZizlExaRy",
      "metadata": {
        "id": "2JHZizlExaRy"
      },
      "outputs": [],
      "source": [
        "### Implement voting classifier with hard voting\n",
        "\n",
        "meta_ml_model = VotingClassifier(estimators=estimator, voting='soft')\n",
        "meta_ml_model.fit(X_train_resampled, y_train_resampled)"
      ]
    },
    {
      "cell_type": "code",
      "execution_count": null,
      "id": "HU43Cg6jVq6j",
      "metadata": {
        "id": "HU43Cg6jVq6j"
      },
      "outputs": [],
      "source": [
        "y_true = y_test\n",
        "y_pred = meta_ml_model.predict(X_test)\n",
        "\n",
        "conf_matrix = confusion_matrix(y_true, y_pred)\n",
        "print(\"Confusion Matrix:\")\n",
        "print(conf_matrix)\n",
        "\n",
        "class_report = classification_report(y_true, y_pred)\n",
        "print(\"\\nClassification Report:\")\n",
        "print(class_report)"
      ]
    },
    {
      "cell_type": "code",
      "execution_count": null,
      "id": "tAR97BLJu44I",
      "metadata": {
        "id": "tAR97BLJu44I"
      },
      "outputs": [],
      "source": [
        "train['meta_results'] = meta_ml_model.predict(X_meta_features)"
      ]
    },
    {
      "cell_type": "code",
      "execution_count": null,
      "id": "ysM6YjQAj8QR",
      "metadata": {
        "id": "ysM6YjQAj8QR"
      },
      "outputs": [],
      "source": [
        "train.to_csv(root_data + 'Results/'+symbol+'train_l_Signals & Meta_Signals.csv')"
      ]
    },
    {
      "cell_type": "code",
      "execution_count": null,
      "id": "8Y71USlnxaRz",
      "metadata": {
        "id": "8Y71USlnxaRz"
      },
      "outputs": [],
      "source": [
        "### Save ML Model\n",
        "model_path = root_data + 'Models/'+symbol+'_'+direction+'_Meta_ml_model.joblib'\n",
        "joblib.dump(meta_ml_model, model_path)\n",
        "print(f\"Model saved successfully at: {model_path}\")"
      ]
    },
    {
      "cell_type": "markdown",
      "id": "dX1ehVSJJRC9",
      "metadata": {
        "id": "dX1ehVSJJRC9"
      },
      "source": [
        "## PnL Train"
      ]
    },
    {
      "cell_type": "code",
      "execution_count": null,
      "id": "kUfGrpS7kxyW",
      "metadata": {
        "id": "kUfGrpS7kxyW"
      },
      "outputs": [],
      "source": [
        "train['ml_results'] = np.where(train['label_ml']==1, train['st_PnL'],0)\n",
        "results(train, pnl_column='ml_results')"
      ]
    },
    {
      "cell_type": "code",
      "execution_count": null,
      "id": "USsAkHmUYkHT",
      "metadata": {
        "id": "USsAkHmUYkHT"
      },
      "outputs": [],
      "source": [
        "train['meta_ml_results'] = np.where(train['meta_results']==1, train['st_PnL'],0)\n",
        "results(train, pnl_column='meta_ml_results')"
      ]
    },
    {
      "cell_type": "markdown",
      "id": "60f86dad",
      "metadata": {
        "id": "60f86dad"
      },
      "source": [
        "\n",
        "# Test\n"
      ]
    },
    {
      "cell_type": "markdown",
      "id": "q7HA2vsxuup9",
      "metadata": {
        "id": "q7HA2vsxuup9"
      },
      "source": [
        "## Results_ML"
      ]
    },
    {
      "cell_type": "code",
      "execution_count": null,
      "id": "5Y218WrFnt-E",
      "metadata": {
        "id": "5Y218WrFnt-E"
      },
      "outputs": [],
      "source": [
        "### Import ML Model\n",
        "\n",
        "model_path = root_data+'Models/'+symbol+'_'+direction+'_ml_model.joblib'\n",
        "ml_model = joblib.load(model_path)\n",
        "print(f\"Model loaded successfully from: {model_path}\")"
      ]
    },
    {
      "cell_type": "code",
      "execution_count": null,
      "id": "YiE7uKuaDqmf",
      "metadata": {
        "id": "YiE7uKuaDqmf"
      },
      "outputs": [],
      "source": [
        "### Import Meta Model\n",
        "\n",
        "model_path = root_data+'Models/'+symbol+'_'+direction+'_Meta_ml_model.joblib'\n",
        "meta_ml_model = joblib.load(model_path)\n",
        "print(f\"Model loaded successfully from: {model_path}\")"
      ]
    },
    {
      "cell_type": "code",
      "execution_count": null,
      "id": "TGSpa4ZWrC3K",
      "metadata": {
        "id": "TGSpa4ZWrC3K"
      },
      "outputs": [],
      "source": [
        "\n",
        "test['label_ml'] = ml_model.predict(test.loc[:,train_features])\n",
        "\n",
        "prediction_probabilities = ml_model.predict_proba(test.loc[:,train_features])\n",
        "test['prob_0'] = prediction_probabilities[:, 0]\n",
        "test['prob_1'] = prediction_probabilities[:, 1]\n",
        "\n",
        "print(test.columns)"
      ]
    },
    {
      "cell_type": "code",
      "execution_count": null,
      "id": "NHV2GIh8s-9b",
      "metadata": {
        "id": "NHV2GIh8s-9b"
      },
      "outputs": [],
      "source": [
        "print(test.columns)"
      ]
    },
    {
      "cell_type": "code",
      "execution_count": null,
      "id": "L5v-IETUsv9j",
      "metadata": {
        "id": "L5v-IETUsv9j"
      },
      "outputs": [],
      "source": [
        "# Calculate and display Confusion Matrix\n",
        "conf_matrix = confusion_matrix(test['label'], test['label_ml'])\n",
        "print(\"Confusion Matrix:\")\n",
        "print(conf_matrix)\n",
        "\n",
        "# Calculate and display Classification Report\n",
        "class_report = classification_report(test['label'], test['label_ml'])\n",
        "print(\"\\nClassification Report:\")\n",
        "print(class_report)"
      ]
    },
    {
      "cell_type": "code",
      "execution_count": null,
      "id": "O0tSbMwArC8a",
      "metadata": {
        "id": "O0tSbMwArC8a"
      },
      "outputs": [],
      "source": [
        "test['meta_label'] = meta_ml_model.predict(test.loc[:,meta])\n",
        "\n",
        "prediction_probabilities = meta_ml_model.predict_proba(test.loc[:,meta])\n",
        "test['meta_prob_0'] = prediction_probabilities[:, 0]\n",
        "test['meta_prob_1'] = prediction_probabilities[:, 1]\n",
        "\n",
        "print(test.columns)"
      ]
    },
    {
      "cell_type": "code",
      "execution_count": null,
      "id": "SgIOg4eErC_H",
      "metadata": {
        "id": "SgIOg4eErC_H"
      },
      "outputs": [],
      "source": [
        "# Calculate and display Confusion Matrix\n",
        "conf_matrix = confusion_matrix(test['label'], test['meta_label'])\n",
        "print(\"Confusion Matrix:\")\n",
        "print(conf_matrix)\n",
        "\n",
        "# Calculate and display Classification Report\n",
        "class_report = classification_report(test['label'], test['meta_label'])\n",
        "print(\"\\nClassification Report:\")\n",
        "print(class_report)"
      ]
    },
    {
      "cell_type": "markdown",
      "id": "_5BjO-5fvFjb",
      "metadata": {
        "id": "_5BjO-5fvFjb"
      },
      "source": [
        "## Results_PnL"
      ]
    },
    {
      "cell_type": "code",
      "execution_count": null,
      "id": "gj0_nEvuvvjB",
      "metadata": {
        "id": "gj0_nEvuvvjB"
      },
      "outputs": [],
      "source": [
        "test['ml_results'] = np.where(test['label_ml']==1, test['st_PnL'],0)\n",
        "results(test, pnl_column='ml_results')"
      ]
    },
    {
      "cell_type": "code",
      "execution_count": 74,
      "id": "-iktKy5uvvjC",
      "metadata": {
        "colab": {
          "base_uri": "https://localhost:8080/",
          "height": 547
        },
        "id": "-iktKy5uvvjC",
        "outputId": "365e7ac4-f9c4-4cd5-aeb4-3927f7428187"
      },
      "outputs": [
        {
          "output_type": "error",
          "ename": "KeyError",
          "evalue": "'meta_label'",
          "traceback": [
            "\u001b[0;31m---------------------------------------------------------------------------\u001b[0m",
            "\u001b[0;31mKeyError\u001b[0m                                  Traceback (most recent call last)",
            "\u001b[0;32m/usr/local/lib/python3.12/dist-packages/pandas/core/indexes/base.py\u001b[0m in \u001b[0;36mget_loc\u001b[0;34m(self, key)\u001b[0m\n\u001b[1;32m   3804\u001b[0m         \u001b[0;32mtry\u001b[0m\u001b[0;34m:\u001b[0m\u001b[0;34m\u001b[0m\u001b[0;34m\u001b[0m\u001b[0m\n\u001b[0;32m-> 3805\u001b[0;31m             \u001b[0;32mreturn\u001b[0m \u001b[0mself\u001b[0m\u001b[0;34m.\u001b[0m\u001b[0m_engine\u001b[0m\u001b[0;34m.\u001b[0m\u001b[0mget_loc\u001b[0m\u001b[0;34m(\u001b[0m\u001b[0mcasted_key\u001b[0m\u001b[0;34m)\u001b[0m\u001b[0;34m\u001b[0m\u001b[0;34m\u001b[0m\u001b[0m\n\u001b[0m\u001b[1;32m   3806\u001b[0m         \u001b[0;32mexcept\u001b[0m \u001b[0mKeyError\u001b[0m \u001b[0;32mas\u001b[0m \u001b[0merr\u001b[0m\u001b[0;34m:\u001b[0m\u001b[0;34m\u001b[0m\u001b[0;34m\u001b[0m\u001b[0m\n",
            "\u001b[0;32mindex.pyx\u001b[0m in \u001b[0;36mpandas._libs.index.IndexEngine.get_loc\u001b[0;34m()\u001b[0m\n",
            "\u001b[0;32mindex.pyx\u001b[0m in \u001b[0;36mpandas._libs.index.IndexEngine.get_loc\u001b[0;34m()\u001b[0m\n",
            "\u001b[0;32mpandas/_libs/hashtable_class_helper.pxi\u001b[0m in \u001b[0;36mpandas._libs.hashtable.PyObjectHashTable.get_item\u001b[0;34m()\u001b[0m\n",
            "\u001b[0;32mpandas/_libs/hashtable_class_helper.pxi\u001b[0m in \u001b[0;36mpandas._libs.hashtable.PyObjectHashTable.get_item\u001b[0;34m()\u001b[0m\n",
            "\u001b[0;31mKeyError\u001b[0m: 'meta_label'",
            "\nThe above exception was the direct cause of the following exception:\n",
            "\u001b[0;31mKeyError\u001b[0m                                  Traceback (most recent call last)",
            "\u001b[0;32m/tmp/ipython-input-3435003120.py\u001b[0m in \u001b[0;36m<cell line: 0>\u001b[0;34m()\u001b[0m\n\u001b[0;32m----> 1\u001b[0;31m \u001b[0mtest\u001b[0m\u001b[0;34m[\u001b[0m\u001b[0;34m'meta_ml_results'\u001b[0m\u001b[0;34m]\u001b[0m \u001b[0;34m=\u001b[0m \u001b[0mnp\u001b[0m\u001b[0;34m.\u001b[0m\u001b[0mwhere\u001b[0m\u001b[0;34m(\u001b[0m\u001b[0mtest\u001b[0m\u001b[0;34m[\u001b[0m\u001b[0;34m'meta_label'\u001b[0m\u001b[0;34m]\u001b[0m\u001b[0;34m==\u001b[0m\u001b[0;36m1\u001b[0m\u001b[0;34m,\u001b[0m \u001b[0mtest\u001b[0m\u001b[0;34m[\u001b[0m\u001b[0;34m'st_PnL'\u001b[0m\u001b[0;34m]\u001b[0m\u001b[0;34m,\u001b[0m\u001b[0;36m0\u001b[0m\u001b[0;34m)\u001b[0m\u001b[0;34m\u001b[0m\u001b[0;34m\u001b[0m\u001b[0m\n\u001b[0m\u001b[1;32m      2\u001b[0m \u001b[0mresults\u001b[0m\u001b[0;34m(\u001b[0m\u001b[0mtest\u001b[0m\u001b[0;34m,\u001b[0m \u001b[0mpnl_column\u001b[0m\u001b[0;34m=\u001b[0m\u001b[0;34m'meta_ml_results'\u001b[0m\u001b[0;34m)\u001b[0m\u001b[0;34m\u001b[0m\u001b[0;34m\u001b[0m\u001b[0m\n",
            "\u001b[0;32m/usr/local/lib/python3.12/dist-packages/pandas/core/frame.py\u001b[0m in \u001b[0;36m__getitem__\u001b[0;34m(self, key)\u001b[0m\n\u001b[1;32m   4100\u001b[0m             \u001b[0;32mif\u001b[0m \u001b[0mself\u001b[0m\u001b[0;34m.\u001b[0m\u001b[0mcolumns\u001b[0m\u001b[0;34m.\u001b[0m\u001b[0mnlevels\u001b[0m \u001b[0;34m>\u001b[0m \u001b[0;36m1\u001b[0m\u001b[0;34m:\u001b[0m\u001b[0;34m\u001b[0m\u001b[0;34m\u001b[0m\u001b[0m\n\u001b[1;32m   4101\u001b[0m                 \u001b[0;32mreturn\u001b[0m \u001b[0mself\u001b[0m\u001b[0;34m.\u001b[0m\u001b[0m_getitem_multilevel\u001b[0m\u001b[0;34m(\u001b[0m\u001b[0mkey\u001b[0m\u001b[0;34m)\u001b[0m\u001b[0;34m\u001b[0m\u001b[0;34m\u001b[0m\u001b[0m\n\u001b[0;32m-> 4102\u001b[0;31m             \u001b[0mindexer\u001b[0m \u001b[0;34m=\u001b[0m \u001b[0mself\u001b[0m\u001b[0;34m.\u001b[0m\u001b[0mcolumns\u001b[0m\u001b[0;34m.\u001b[0m\u001b[0mget_loc\u001b[0m\u001b[0;34m(\u001b[0m\u001b[0mkey\u001b[0m\u001b[0;34m)\u001b[0m\u001b[0;34m\u001b[0m\u001b[0;34m\u001b[0m\u001b[0m\n\u001b[0m\u001b[1;32m   4103\u001b[0m             \u001b[0;32mif\u001b[0m \u001b[0mis_integer\u001b[0m\u001b[0;34m(\u001b[0m\u001b[0mindexer\u001b[0m\u001b[0;34m)\u001b[0m\u001b[0;34m:\u001b[0m\u001b[0;34m\u001b[0m\u001b[0;34m\u001b[0m\u001b[0m\n\u001b[1;32m   4104\u001b[0m                 \u001b[0mindexer\u001b[0m \u001b[0;34m=\u001b[0m \u001b[0;34m[\u001b[0m\u001b[0mindexer\u001b[0m\u001b[0;34m]\u001b[0m\u001b[0;34m\u001b[0m\u001b[0;34m\u001b[0m\u001b[0m\n",
            "\u001b[0;32m/usr/local/lib/python3.12/dist-packages/pandas/core/indexes/base.py\u001b[0m in \u001b[0;36mget_loc\u001b[0;34m(self, key)\u001b[0m\n\u001b[1;32m   3810\u001b[0m             ):\n\u001b[1;32m   3811\u001b[0m                 \u001b[0;32mraise\u001b[0m \u001b[0mInvalidIndexError\u001b[0m\u001b[0;34m(\u001b[0m\u001b[0mkey\u001b[0m\u001b[0;34m)\u001b[0m\u001b[0;34m\u001b[0m\u001b[0;34m\u001b[0m\u001b[0m\n\u001b[0;32m-> 3812\u001b[0;31m             \u001b[0;32mraise\u001b[0m \u001b[0mKeyError\u001b[0m\u001b[0;34m(\u001b[0m\u001b[0mkey\u001b[0m\u001b[0;34m)\u001b[0m \u001b[0;32mfrom\u001b[0m \u001b[0merr\u001b[0m\u001b[0;34m\u001b[0m\u001b[0;34m\u001b[0m\u001b[0m\n\u001b[0m\u001b[1;32m   3813\u001b[0m         \u001b[0;32mexcept\u001b[0m \u001b[0mTypeError\u001b[0m\u001b[0;34m:\u001b[0m\u001b[0;34m\u001b[0m\u001b[0;34m\u001b[0m\u001b[0m\n\u001b[1;32m   3814\u001b[0m             \u001b[0;31m# If we have a listlike key, _check_indexing_error will raise\u001b[0m\u001b[0;34m\u001b[0m\u001b[0;34m\u001b[0m\u001b[0m\n",
            "\u001b[0;31mKeyError\u001b[0m: 'meta_label'"
          ]
        }
      ],
      "source": [
        "test['meta_ml_results'] = np.where(test['meta_label']==1, test['st_PnL'],0)\n",
        "results(test, pnl_column='meta_ml_results')"
      ]
    },
    {
      "cell_type": "markdown",
      "id": "0410fd8b",
      "metadata": {
        "id": "0410fd8b"
      },
      "source": [
        "# Pendientes\n"
      ]
    },
    {
      "cell_type": "code",
      "source": [],
      "metadata": {
        "id": "CNhE1wXGVTYf"
      },
      "id": "CNhE1wXGVTYf",
      "execution_count": null,
      "outputs": []
    }
  ],
  "metadata": {
    "colab": {
      "collapsed_sections": [
        "m8CIB8vltFfH",
        "eaf03429",
        "zhTndYVi1TEV",
        "6x4lfhG3E2eq",
        "rhCVvXKxM2Uk",
        "dX1ehVSJJRC9"
      ],
      "provenance": [],
      "machine_shape": "hm",
      "gpuType": "T4"
    },
    "kernelspec": {
      "display_name": "Python 3",
      "name": "python3"
    },
    "language_info": {
      "codemirror_mode": {
        "name": "ipython",
        "version": 3
      },
      "file_extension": ".py",
      "mimetype": "text/x-python",
      "name": "python",
      "nbconvert_exporter": "python",
      "pygments_lexer": "ipython3",
      "version": "3.9.5"
    },
    "accelerator": "GPU"
  },
  "nbformat": 4,
  "nbformat_minor": 5
}