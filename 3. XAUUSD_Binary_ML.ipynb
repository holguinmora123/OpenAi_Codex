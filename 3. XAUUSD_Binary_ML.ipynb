{
  "cells": [
    {
      "cell_type": "markdown",
      "id": "-LNWLq2zhvUz",
      "metadata": {
        "id": "-LNWLq2zhvUz"
      },
      "source": []
    },
    {
      "cell_type": "markdown",
      "id": "m8CIB8vltFfH",
      "metadata": {
        "id": "m8CIB8vltFfH"
      },
      "source": [
        "# Set_Up"
      ]
    },
    {
      "cell_type": "code",
      "execution_count": 122,
      "id": "EB5RqjoAtFwl",
      "metadata": {
        "colab": {
          "base_uri": "https://localhost:8080/"
        },
        "id": "EB5RqjoAtFwl",
        "outputId": "5323b6d0-22b2-4859-a220-e1dd090b32eb"
      },
      "outputs": [
        {
          "output_type": "stream",
          "name": "stdout",
          "text": [
            "/content/drive/MyDrive/Course Folder/Forex/XAUUSD/\n"
          ]
        }
      ],
      "source": [
        "strategy   = 'Kalman'\n",
        "process    = 'Train'\n",
        "symbol     = 'BTCUSD'\n",
        "direction  = 'Short'\n",
        "time_frame = 'M5'\n",
        "\n",
        "root_data = f'/content/drive/MyDrive/Course Folder/Forex/XAUUSD/'\n",
        "print(root_data)\n",
        "\n",
        "rolling_window = 100"
      ]
    },
    {
      "cell_type": "markdown",
      "id": "eaf03429",
      "metadata": {
        "id": "eaf03429"
      },
      "source": [
        "# Import_Libraries"
      ]
    },
    {
      "cell_type": "code",
      "execution_count": 123,
      "id": "R9bTNmBwK_Up",
      "metadata": {
        "colab": {
          "base_uri": "https://localhost:8080/"
        },
        "id": "R9bTNmBwK_Up",
        "outputId": "a831015e-61c5-4313-8aa3-abcfd2d96a8c"
      },
      "outputs": [
        {
          "output_type": "stream",
          "name": "stdout",
          "text": [
            "Requirement already satisfied: ta-lib in /usr/local/lib/python3.12/dist-packages (0.6.7)\n",
            "Requirement already satisfied: build in /usr/local/lib/python3.12/dist-packages (from ta-lib) (1.3.0)\n",
            "Requirement already satisfied: cython in /usr/local/lib/python3.12/dist-packages (from ta-lib) (3.0.12)\n",
            "Requirement already satisfied: numpy in /usr/local/lib/python3.12/dist-packages (from ta-lib) (2.0.2)\n",
            "Requirement already satisfied: packaging>=19.1 in /usr/local/lib/python3.12/dist-packages (from build->ta-lib) (25.0)\n",
            "Requirement already satisfied: pyproject_hooks in /usr/local/lib/python3.12/dist-packages (from build->ta-lib) (1.2.0)\n",
            "0.6.7\n"
          ]
        }
      ],
      "source": [
        "!pip install ta-lib\n",
        "import talib as ta\n",
        "print(ta.__version__)"
      ]
    },
    {
      "cell_type": "code",
      "execution_count": 124,
      "id": "bda1a01c",
      "metadata": {
        "id": "bda1a01c"
      },
      "outputs": [],
      "source": [
        "# Import libraries for data manipulation\n",
        "import numpy as np\n",
        "import pandas as pd\n",
        "import os\n",
        "import tensorflow as tf\n",
        "from datetime import timedelta\n",
        "\n",
        "# For machine learning models\n",
        "import xgboost\n",
        "from xgboost import XGBClassifier\n",
        "from sklearn.linear_model import LogisticRegression\n",
        "from sklearn.ensemble import VotingClassifier\n",
        "from sklearn.ensemble import ExtraTreesClassifier\n",
        "from sklearn.ensemble import AdaBoostClassifier\n",
        "from sklearn import svm\n",
        "from sklearn.preprocessing import StandardScaler\n",
        "from sklearn.metrics import classification_report, confusion_matrix\n",
        "from sklearn.model_selection import train_test_split # Import train_test_split\n",
        "\n",
        "from sklearn.model_selection import StratifiedKFold\n",
        "from sklearn.metrics import accuracy_score, precision_score, recall_score, f1_score\n",
        "\n",
        "from tensorflow.keras.models import Sequential\n",
        "from tensorflow.keras.layers import Dense\n",
        "\n",
        "from tensorflow.keras.models import load_model\n",
        "\n",
        "from imblearn.over_sampling import SMOTE\n",
        "from sklearn.model_selection import GridSearchCV\n",
        "\n",
        "# Import matplotlib as an alias plt and set the style\n",
        "import matplotlib.pyplot as plt\n",
        "%matplotlib inline\n",
        "plt.style.use(\"seaborn-v0_8-whitegrid\")\n",
        "\n",
        "# Import sys to append the path for custom function file\n",
        "import sys\n",
        "sys.path.append(\"..\")\n",
        "\n",
        "# Ignore warnings\n",
        "import warnings\n",
        "warnings.filterwarnings('ignore')\n",
        "\n",
        "import joblib"
      ]
    },
    {
      "cell_type": "code",
      "execution_count": 125,
      "id": "DMuFtzf54JN8",
      "metadata": {
        "colab": {
          "base_uri": "https://localhost:8080/"
        },
        "id": "DMuFtzf54JN8",
        "outputId": "0176828d-3519-47d6-f4a2-5920b4ead0ce"
      },
      "outputs": [
        {
          "output_type": "stream",
          "name": "stdout",
          "text": [
            "Drive already mounted at /content/drive; to attempt to forcibly remount, call drive.mount(\"/content/drive\", force_remount=True).\n"
          ]
        }
      ],
      "source": [
        "from google.colab import drive\n",
        "drive.mount('/content/drive')"
      ]
    },
    {
      "cell_type": "markdown",
      "id": "zhTndYVi1TEV",
      "metadata": {
        "id": "zhTndYVi1TEV"
      },
      "source": [
        "# Support Functions"
      ]
    },
    {
      "cell_type": "code",
      "execution_count": 126,
      "id": "FYEryjzTLPf8",
      "metadata": {
        "id": "FYEryjzTLPf8"
      },
      "outputs": [],
      "source": [
        "def results(data, pnl_column='PnL'):\n",
        "    # Calculate the metrics\n",
        "    time_difference = data.index.max() - data.index.min()\n",
        "    days = time_difference.days\n",
        "    total_trades = data[data['Open_Trade'].notna() & (data['Open_Trade'] != 0)].shape[0]\n",
        "    profit_trades = data[data[pnl_column] > 0].shape[0]\n",
        "    loss_trades = data[data[pnl_column] < 0].shape[0]\n",
        "    profits = data[data[pnl_column] > 0][pnl_column].sum()\n",
        "    losses = data[data[pnl_column] < 0][pnl_column].sum()\n",
        "\n",
        "    # Create a dictionary with the results\n",
        "    results_dict = {\n",
        "        'days': days,\n",
        "        'total_trades': total_trades,\n",
        "        '': '',\n",
        "        'income': profits,\n",
        "        'losses': losses,\n",
        "        'profits': profits + losses,\n",
        "        ' ':' ',\n",
        "        'profit_trades': profit_trades,\n",
        "        'loss_trades': loss_trades,\n",
        "        '  ':'  ',\n",
        "        '% Win_Trades': profit_trades / (profit_trades + loss_trades) * 100 if (profit_trades + loss_trades) > 0 else 0,\n",
        "        '% Loss_Trades': loss_trades / (profit_trades + loss_trades)*100 if (profit_trades + loss_trades) > 0 else 0\n",
        "    }\n",
        "\n",
        "    # Create a DataFrame from the dictionary and transpose it\n",
        "    perf_metrics = pd.DataFrame([results_dict]).T\n",
        "\n",
        "    # Rename the column\n",
        "    perf_metrics.rename(columns={0: 'Results'}, inplace=True)\n",
        "\n",
        "    # Format the DataFrame for display\n",
        "    perf_metrics.loc[['days', 'total_trades', 'profit_trades', 'loss_trades','% Win_Trades','% Loss_Trades'], 'Results'] = perf_metrics.loc[['days', 'total_trades', 'profit_trades', 'loss_trades','% Win_Trades','% Loss_Trades'], 'Results'].apply(lambda x: f\"{x:,.0f}\" if pd.notna(x) else '')\n",
        "    perf_metrics.loc[['income', 'losses', 'profits'], 'Results'] = perf_metrics.loc[['income', 'losses', 'profits'], 'Results'].apply(lambda x: f\"${x:,.2f}\" if pd.notna(x) else '')\n",
        "\n",
        "    return perf_metrics"
      ]
    },
    {
      "cell_type": "code",
      "execution_count": 127,
      "id": "fB8uDm2F1TS1",
      "metadata": {
        "id": "fB8uDm2F1TS1"
      },
      "outputs": [],
      "source": [
        "def create_features(train_data, index):\n",
        "    short_periods = [3, 5, 7, 10, 15, 17]\n",
        "    long_periods = [20, 22, 66, 126, 252]\n",
        "    periods = short_periods + long_periods\n",
        "\n",
        "    features = pd.DataFrame(index=index)\n",
        "\n",
        "    # Indicators that do not depend on the lookback period\n",
        "    features['OBV'] = ta.OBV(train_data['Close'], train_data['Volume'])\n",
        "    features['AD'] = ta.AD(train_data['High'], train_data['Low'],\n",
        "                           train_data['Close'], train_data['Volume'])\n",
        "\n",
        "    # Pre-compute moving averages to avoid repeated calculations\n",
        "    sma = {p: ta.SMA(train_data['Close'], timeperiod=p) for p in periods}\n",
        "    ema = {p: ta.EMA(train_data['Close'], timeperiod=p) for p in periods}\n",
        "\n",
        "    for period in periods:\n",
        "        features[f'RSI_{period}'] = ta.RSI(train_data['Close'], timeperiod=period)\n",
        "        features[f'MFI_{period}'] = ta.MFI(train_data['High'], train_data['Low'],\n",
        "                                           train_data['Close'], train_data['Volume'],\n",
        "                                           timeperiod=period)\n",
        "        features[f'ADX_{period}'] = ta.ADX(train_data['High'], train_data['Low'],\n",
        "                                           train_data['Close'], timeperiod=period)\n",
        "        features[f'ROCP_{period}'] = ta.ROCP(train_data['Close'], timeperiod=period)\n",
        "\n",
        "    for s in short_periods:\n",
        "        for l in long_periods:\n",
        "            features[f'SMA_Crossover_{s}_{l}'] = sma[s] - sma[l]\n",
        "            features[f'EMA_Crossover_{s}_{l}'] = ema[s] - ema[l]\n",
        "\n",
        "    features.dropna(inplace=True)\n",
        "    return features\n"
      ]
    },
    {
      "cell_type": "code",
      "execution_count": 128,
      "id": "196899d1",
      "metadata": {
        "id": "196899d1"
      },
      "outputs": [],
      "source": [
        "def strategy_returns_dynamic_different_thresholds(prices, threshold):\n",
        "    rolling = prices['Rolling Returns'].to_numpy()\n",
        "    yearly_std = prices['Yearly Stdev'].to_numpy()\n",
        "    pct_change = prices['Close'].pct_change().to_numpy()\n",
        "    signals = np.zeros(len(prices), dtype=np.int8)\n",
        "\n",
        "    curr_pos = 0\n",
        "    hold_days = 0\n",
        "    for i in range(len(prices)):\n",
        "        if curr_pos == 0 or hold_days == 20:\n",
        "            thresh_val = threshold * yearly_std[i]\n",
        "            if rolling[i] >= thresh_val:\n",
        "                curr_pos = 1\n",
        "                hold_days = 0\n",
        "            elif rolling[i] < -thresh_val:\n",
        "                curr_pos = -1\n",
        "                hold_days = 0\n",
        "            else:\n",
        "                curr_pos = 0\n",
        "                hold_days = 0\n",
        "        else:\n",
        "            hold_days += 1\n",
        "        signals[i] = curr_pos\n",
        "\n",
        "    prices[f'Signal_{threshold}'] = signals\n",
        "    strategy_returns = pct_change * np.roll(signals, 1)\n",
        "    prices[f'Strategy Returns_{threshold}'] = strategy_returns\n",
        "    return np.cumprod(strategy_returns + 1)\n",
        "\n",
        "\n",
        "def strategy_returns_different_thresholds(prices, threshold):\n",
        "    rolling = prices['Rolling Returns'].to_numpy()\n",
        "    pct_change = prices['Close'].pct_change().to_numpy()\n",
        "    signals = np.zeros(len(prices), dtype=np.int8)\n",
        "\n",
        "    curr_pos = 0\n",
        "    hold_days = 0\n",
        "    for i in range(len(prices)):\n",
        "        if curr_pos == 0 or hold_days == 20:\n",
        "            if rolling[i] >= threshold:\n",
        "                curr_pos = 1\n",
        "                hold_days = 0\n",
        "            elif rolling[i] < threshold:\n",
        "                curr_pos = -1\n",
        "                hold_days = 0\n",
        "        else:\n",
        "            hold_days += 1\n",
        "        signals[i] = curr_pos\n",
        "\n",
        "    prices[f'Signal_{threshold}'] = signals\n",
        "    strategy_returns = pct_change * np.roll(signals, 1)\n",
        "    prices[f'Strategy Returns_{threshold}'] = strategy_returns\n",
        "    return np.cumprod(strategy_returns + 1)\n"
      ]
    },
    {
      "cell_type": "markdown",
      "id": "0ZOg20zC2Gei",
      "metadata": {
        "id": "0ZOg20zC2Gei"
      },
      "source": [
        "# Data"
      ]
    },
    {
      "cell_type": "code",
      "source": [
        "data_type = 'Scale'"
      ],
      "metadata": {
        "id": "dyGl1MUHVebJ"
      },
      "id": "dyGl1MUHVebJ",
      "execution_count": 129,
      "outputs": []
    },
    {
      "cell_type": "code",
      "execution_count": 130,
      "id": "oZ4oncRY2Kv_",
      "metadata": {
        "colab": {
          "base_uri": "https://localhost:8080/",
          "height": 192
        },
        "id": "oZ4oncRY2Kv_",
        "outputId": "fdee2402-4455-4ae5-c19c-71639d3ad2ac"
      },
      "outputs": [
        {
          "output_type": "stream",
          "name": "stdout",
          "text": [
            "The train_data DataFrame covers a period of 937 days.\n"
          ]
        },
        {
          "output_type": "execute_result",
          "data": {
            "text/plain": [
              "                          Open       High        Low      Close  Volume  \\\n",
              "Date                                                                      \n",
              "2025-07-26 23:45:00  118007.00  118100.13  117967.50  118023.88     757   \n",
              "2025-07-26 23:50:00  118023.63  118052.38  117951.88  118005.75     547   \n",
              "2025-07-26 23:55:00  118008.75  118049.38  118008.50  118042.63     485   \n",
              "\n",
              "                     Spread  \n",
              "Date                         \n",
              "2025-07-26 23:45:00     100  \n",
              "2025-07-26 23:50:00       0  \n",
              "2025-07-26 23:55:00     587  "
            ],
            "text/html": [
              "\n",
              "  <div id=\"df-e7ac79b7-9a22-4e4d-bafc-47b749417d9d\" class=\"colab-df-container\">\n",
              "    <div>\n",
              "<style scoped>\n",
              "    .dataframe tbody tr th:only-of-type {\n",
              "        vertical-align: middle;\n",
              "    }\n",
              "\n",
              "    .dataframe tbody tr th {\n",
              "        vertical-align: top;\n",
              "    }\n",
              "\n",
              "    .dataframe thead th {\n",
              "        text-align: right;\n",
              "    }\n",
              "</style>\n",
              "<table border=\"1\" class=\"dataframe\">\n",
              "  <thead>\n",
              "    <tr style=\"text-align: right;\">\n",
              "      <th></th>\n",
              "      <th>Open</th>\n",
              "      <th>High</th>\n",
              "      <th>Low</th>\n",
              "      <th>Close</th>\n",
              "      <th>Volume</th>\n",
              "      <th>Spread</th>\n",
              "    </tr>\n",
              "    <tr>\n",
              "      <th>Date</th>\n",
              "      <th></th>\n",
              "      <th></th>\n",
              "      <th></th>\n",
              "      <th></th>\n",
              "      <th></th>\n",
              "      <th></th>\n",
              "    </tr>\n",
              "  </thead>\n",
              "  <tbody>\n",
              "    <tr>\n",
              "      <th>2025-07-26 23:45:00</th>\n",
              "      <td>118007.00</td>\n",
              "      <td>118100.13</td>\n",
              "      <td>117967.50</td>\n",
              "      <td>118023.88</td>\n",
              "      <td>757</td>\n",
              "      <td>100</td>\n",
              "    </tr>\n",
              "    <tr>\n",
              "      <th>2025-07-26 23:50:00</th>\n",
              "      <td>118023.63</td>\n",
              "      <td>118052.38</td>\n",
              "      <td>117951.88</td>\n",
              "      <td>118005.75</td>\n",
              "      <td>547</td>\n",
              "      <td>0</td>\n",
              "    </tr>\n",
              "    <tr>\n",
              "      <th>2025-07-26 23:55:00</th>\n",
              "      <td>118008.75</td>\n",
              "      <td>118049.38</td>\n",
              "      <td>118008.50</td>\n",
              "      <td>118042.63</td>\n",
              "      <td>485</td>\n",
              "      <td>587</td>\n",
              "    </tr>\n",
              "  </tbody>\n",
              "</table>\n",
              "</div>\n",
              "    <div class=\"colab-df-buttons\">\n",
              "\n",
              "  <div class=\"colab-df-container\">\n",
              "    <button class=\"colab-df-convert\" onclick=\"convertToInteractive('df-e7ac79b7-9a22-4e4d-bafc-47b749417d9d')\"\n",
              "            title=\"Convert this dataframe to an interactive table.\"\n",
              "            style=\"display:none;\">\n",
              "\n",
              "  <svg xmlns=\"http://www.w3.org/2000/svg\" height=\"24px\" viewBox=\"0 -960 960 960\">\n",
              "    <path d=\"M120-120v-720h720v720H120Zm60-500h600v-160H180v160Zm220 220h160v-160H400v160Zm0 220h160v-160H400v160ZM180-400h160v-160H180v160Zm440 0h160v-160H620v160ZM180-180h160v-160H180v160Zm440 0h160v-160H620v160Z\"/>\n",
              "  </svg>\n",
              "    </button>\n",
              "\n",
              "  <style>\n",
              "    .colab-df-container {\n",
              "      display:flex;\n",
              "      gap: 12px;\n",
              "    }\n",
              "\n",
              "    .colab-df-convert {\n",
              "      background-color: #E8F0FE;\n",
              "      border: none;\n",
              "      border-radius: 50%;\n",
              "      cursor: pointer;\n",
              "      display: none;\n",
              "      fill: #1967D2;\n",
              "      height: 32px;\n",
              "      padding: 0 0 0 0;\n",
              "      width: 32px;\n",
              "    }\n",
              "\n",
              "    .colab-df-convert:hover {\n",
              "      background-color: #E2EBFA;\n",
              "      box-shadow: 0px 1px 2px rgba(60, 64, 67, 0.3), 0px 1px 3px 1px rgba(60, 64, 67, 0.15);\n",
              "      fill: #174EA6;\n",
              "    }\n",
              "\n",
              "    .colab-df-buttons div {\n",
              "      margin-bottom: 4px;\n",
              "    }\n",
              "\n",
              "    [theme=dark] .colab-df-convert {\n",
              "      background-color: #3B4455;\n",
              "      fill: #D2E3FC;\n",
              "    }\n",
              "\n",
              "    [theme=dark] .colab-df-convert:hover {\n",
              "      background-color: #434B5C;\n",
              "      box-shadow: 0px 1px 3px 1px rgba(0, 0, 0, 0.15);\n",
              "      filter: drop-shadow(0px 1px 2px rgba(0, 0, 0, 0.3));\n",
              "      fill: #FFFFFF;\n",
              "    }\n",
              "  </style>\n",
              "\n",
              "    <script>\n",
              "      const buttonEl =\n",
              "        document.querySelector('#df-e7ac79b7-9a22-4e4d-bafc-47b749417d9d button.colab-df-convert');\n",
              "      buttonEl.style.display =\n",
              "        google.colab.kernel.accessAllowed ? 'block' : 'none';\n",
              "\n",
              "      async function convertToInteractive(key) {\n",
              "        const element = document.querySelector('#df-e7ac79b7-9a22-4e4d-bafc-47b749417d9d');\n",
              "        const dataTable =\n",
              "          await google.colab.kernel.invokeFunction('convertToInteractive',\n",
              "                                                    [key], {});\n",
              "        if (!dataTable) return;\n",
              "\n",
              "        const docLinkHtml = 'Like what you see? Visit the ' +\n",
              "          '<a target=\"_blank\" href=https://colab.research.google.com/notebooks/data_table.ipynb>data table notebook</a>'\n",
              "          + ' to learn more about interactive tables.';\n",
              "        element.innerHTML = '';\n",
              "        dataTable['output_type'] = 'display_data';\n",
              "        await google.colab.output.renderOutput(dataTable, element);\n",
              "        const docLink = document.createElement('div');\n",
              "        docLink.innerHTML = docLinkHtml;\n",
              "        element.appendChild(docLink);\n",
              "      }\n",
              "    </script>\n",
              "  </div>\n",
              "\n",
              "\n",
              "    <div id=\"df-6de816a1-2326-468c-90b8-7b26942abe7b\">\n",
              "      <button class=\"colab-df-quickchart\" onclick=\"quickchart('df-6de816a1-2326-468c-90b8-7b26942abe7b')\"\n",
              "                title=\"Suggest charts\"\n",
              "                style=\"display:none;\">\n",
              "\n",
              "<svg xmlns=\"http://www.w3.org/2000/svg\" height=\"24px\"viewBox=\"0 0 24 24\"\n",
              "     width=\"24px\">\n",
              "    <g>\n",
              "        <path d=\"M19 3H5c-1.1 0-2 .9-2 2v14c0 1.1.9 2 2 2h14c1.1 0 2-.9 2-2V5c0-1.1-.9-2-2-2zM9 17H7v-7h2v7zm4 0h-2V7h2v10zm4 0h-2v-4h2v4z\"/>\n",
              "    </g>\n",
              "</svg>\n",
              "      </button>\n",
              "\n",
              "<style>\n",
              "  .colab-df-quickchart {\n",
              "      --bg-color: #E8F0FE;\n",
              "      --fill-color: #1967D2;\n",
              "      --hover-bg-color: #E2EBFA;\n",
              "      --hover-fill-color: #174EA6;\n",
              "      --disabled-fill-color: #AAA;\n",
              "      --disabled-bg-color: #DDD;\n",
              "  }\n",
              "\n",
              "  [theme=dark] .colab-df-quickchart {\n",
              "      --bg-color: #3B4455;\n",
              "      --fill-color: #D2E3FC;\n",
              "      --hover-bg-color: #434B5C;\n",
              "      --hover-fill-color: #FFFFFF;\n",
              "      --disabled-bg-color: #3B4455;\n",
              "      --disabled-fill-color: #666;\n",
              "  }\n",
              "\n",
              "  .colab-df-quickchart {\n",
              "    background-color: var(--bg-color);\n",
              "    border: none;\n",
              "    border-radius: 50%;\n",
              "    cursor: pointer;\n",
              "    display: none;\n",
              "    fill: var(--fill-color);\n",
              "    height: 32px;\n",
              "    padding: 0;\n",
              "    width: 32px;\n",
              "  }\n",
              "\n",
              "  .colab-df-quickchart:hover {\n",
              "    background-color: var(--hover-bg-color);\n",
              "    box-shadow: 0 1px 2px rgba(60, 64, 67, 0.3), 0 1px 3px 1px rgba(60, 64, 67, 0.15);\n",
              "    fill: var(--button-hover-fill-color);\n",
              "  }\n",
              "\n",
              "  .colab-df-quickchart-complete:disabled,\n",
              "  .colab-df-quickchart-complete:disabled:hover {\n",
              "    background-color: var(--disabled-bg-color);\n",
              "    fill: var(--disabled-fill-color);\n",
              "    box-shadow: none;\n",
              "  }\n",
              "\n",
              "  .colab-df-spinner {\n",
              "    border: 2px solid var(--fill-color);\n",
              "    border-color: transparent;\n",
              "    border-bottom-color: var(--fill-color);\n",
              "    animation:\n",
              "      spin 1s steps(1) infinite;\n",
              "  }\n",
              "\n",
              "  @keyframes spin {\n",
              "    0% {\n",
              "      border-color: transparent;\n",
              "      border-bottom-color: var(--fill-color);\n",
              "      border-left-color: var(--fill-color);\n",
              "    }\n",
              "    20% {\n",
              "      border-color: transparent;\n",
              "      border-left-color: var(--fill-color);\n",
              "      border-top-color: var(--fill-color);\n",
              "    }\n",
              "    30% {\n",
              "      border-color: transparent;\n",
              "      border-left-color: var(--fill-color);\n",
              "      border-top-color: var(--fill-color);\n",
              "      border-right-color: var(--fill-color);\n",
              "    }\n",
              "    40% {\n",
              "      border-color: transparent;\n",
              "      border-right-color: var(--fill-color);\n",
              "      border-top-color: var(--fill-color);\n",
              "    }\n",
              "    60% {\n",
              "      border-color: transparent;\n",
              "      border-right-color: var(--fill-color);\n",
              "    }\n",
              "    80% {\n",
              "      border-color: transparent;\n",
              "      border-right-color: var(--fill-color);\n",
              "      border-bottom-color: var(--fill-color);\n",
              "    }\n",
              "    90% {\n",
              "      border-color: transparent;\n",
              "      border-bottom-color: var(--fill-color);\n",
              "    }\n",
              "  }\n",
              "</style>\n",
              "\n",
              "      <script>\n",
              "        async function quickchart(key) {\n",
              "          const quickchartButtonEl =\n",
              "            document.querySelector('#' + key + ' button');\n",
              "          quickchartButtonEl.disabled = true;  // To prevent multiple clicks.\n",
              "          quickchartButtonEl.classList.add('colab-df-spinner');\n",
              "          try {\n",
              "            const charts = await google.colab.kernel.invokeFunction(\n",
              "                'suggestCharts', [key], {});\n",
              "          } catch (error) {\n",
              "            console.error('Error during call to suggestCharts:', error);\n",
              "          }\n",
              "          quickchartButtonEl.classList.remove('colab-df-spinner');\n",
              "          quickchartButtonEl.classList.add('colab-df-quickchart-complete');\n",
              "        }\n",
              "        (() => {\n",
              "          let quickchartButtonEl =\n",
              "            document.querySelector('#df-6de816a1-2326-468c-90b8-7b26942abe7b button');\n",
              "          quickchartButtonEl.style.display =\n",
              "            google.colab.kernel.accessAllowed ? 'block' : 'none';\n",
              "        })();\n",
              "      </script>\n",
              "    </div>\n",
              "\n",
              "    </div>\n",
              "  </div>\n"
            ],
            "application/vnd.google.colaboratory.intrinsic+json": {
              "type": "dataframe",
              "summary": "{\n  \"name\": \"ohlc\",\n  \"rows\": 3,\n  \"fields\": [\n    {\n      \"column\": \"Date\",\n      \"properties\": {\n        \"dtype\": \"date\",\n        \"min\": \"2025-07-26 23:45:00\",\n        \"max\": \"2025-07-26 23:55:00\",\n        \"num_unique_values\": 3,\n        \"samples\": [\n          \"2025-07-26 23:45:00\",\n          \"2025-07-26 23:50:00\",\n          \"2025-07-26 23:55:00\"\n        ],\n        \"semantic_type\": \"\",\n        \"description\": \"\"\n      }\n    },\n    {\n      \"column\": \"Open\",\n      \"properties\": {\n        \"dtype\": \"number\",\n        \"std\": 9.13814167833823,\n        \"min\": 118007.0,\n        \"max\": 118023.63,\n        \"num_unique_values\": 3,\n        \"samples\": [\n          118007.0,\n          118023.63,\n          118008.75\n        ],\n        \"semantic_type\": \"\",\n        \"description\": \"\"\n      }\n    },\n    {\n      \"column\": \"High\",\n      \"properties\": {\n        \"dtype\": \"number\",\n        \"std\": 28.4740378824875,\n        \"min\": 118049.38,\n        \"max\": 118100.13,\n        \"num_unique_values\": 3,\n        \"samples\": [\n          118100.13,\n          118052.38,\n          118049.38\n        ],\n        \"semantic_type\": \"\",\n        \"description\": \"\"\n      }\n    },\n    {\n      \"column\": \"Low\",\n      \"properties\": {\n        \"dtype\": \"number\",\n        \"std\": 29.242687974943205,\n        \"min\": 117951.88,\n        \"max\": 118008.5,\n        \"num_unique_values\": 3,\n        \"samples\": [\n          117967.5,\n          117951.88,\n          118008.5\n        ],\n        \"semantic_type\": \"\",\n        \"description\": \"\"\n      }\n    },\n    {\n      \"column\": \"Close\",\n      \"properties\": {\n        \"dtype\": \"number\",\n        \"std\": 18.4408685623378,\n        \"min\": 118005.75,\n        \"max\": 118042.63,\n        \"num_unique_values\": 3,\n        \"samples\": [\n          118023.88,\n          118005.75,\n          118042.63\n        ],\n        \"semantic_type\": \"\",\n        \"description\": \"\"\n      }\n    },\n    {\n      \"column\": \"Volume\",\n      \"properties\": {\n        \"dtype\": \"number\",\n        \"std\": 142,\n        \"min\": 485,\n        \"max\": 757,\n        \"num_unique_values\": 3,\n        \"samples\": [\n          757,\n          547,\n          485\n        ],\n        \"semantic_type\": \"\",\n        \"description\": \"\"\n      }\n    },\n    {\n      \"column\": \"Spread\",\n      \"properties\": {\n        \"dtype\": \"number\",\n        \"std\": 314,\n        \"min\": 0,\n        \"max\": 587,\n        \"num_unique_values\": 3,\n        \"samples\": [\n          100,\n          0,\n          587\n        ],\n        \"semantic_type\": \"\",\n        \"description\": \"\"\n      }\n    }\n  ]\n}"
            }
          },
          "metadata": {},
          "execution_count": 130
        }
      ],
      "source": [
        "### Open OHLC dataframe\n",
        "\n",
        "ohlc = pd.read_csv(root_data + 'Data/'+symbol+'_M5.csv', index_col=0)\n",
        "ohlc.index = pd.to_datetime(ohlc.index)\n",
        "time_difference = ohlc.index.max() - ohlc.index.min()\n",
        "number_of_days = time_difference.days\n",
        "\n",
        "print(f\"The train_data DataFrame covers a period of {number_of_days} days.\")\n",
        "ohlc.tail(3)"
      ]
    },
    {
      "cell_type": "code",
      "execution_count": 141,
      "id": "vZHp1PgT2L7e",
      "metadata": {
        "colab": {
          "base_uri": "https://localhost:8080/",
          "height": 380
        },
        "id": "vZHp1PgT2L7e",
        "outputId": "9f35db1f-94b2-4392-961d-1a75d133c86a"
      },
      "outputs": [
        {
          "output_type": "stream",
          "name": "stdout",
          "text": [
            "(14438, 272)\n"
          ]
        },
        {
          "output_type": "execute_result",
          "data": {
            "text/plain": [
              "                     label  10min_RSI_3_diff  10min_RSI_3  \\\n",
              "Date                                                        \n",
              "2025-07-26 20:30:00      0          0.378237     1.588212   \n",
              "2025-07-26 21:15:00      0          0.378237     1.588212   \n",
              "2025-07-26 23:05:00      1          0.378237     1.588212   \n",
              "\n",
              "                     10min_slope_signal_600_3  10min_slope_signal_300_3  \\\n",
              "Date                                                                      \n",
              "2025-07-26 20:30:00                 -0.977742                  1.059255   \n",
              "2025-07-26 21:15:00                 -0.977742                  1.059255   \n",
              "2025-07-26 23:05:00                 -0.977742                  1.059255   \n",
              "\n",
              "                     10min_slope_div_300_3_diff  \\\n",
              "Date                                              \n",
              "2025-07-26 20:30:00                    0.261028   \n",
              "2025-07-26 21:15:00                    0.261028   \n",
              "2025-07-26 23:05:00                    0.261028   \n",
              "\n",
              "                     10min_slope_lin_reg_signal_900_6     RSI_7  \\\n",
              "Date                                                              \n",
              "2025-07-26 20:30:00                          1.102774 -0.982505   \n",
              "2025-07-26 21:15:00                          1.102774 -1.136307   \n",
              "2025-07-26 23:05:00                          1.102774 -0.655377   \n",
              "\n",
              "                     10min_slope_signal_900_3  10min_slope_angle_900_3_diff  \\\n",
              "Date                                                                          \n",
              "2025-07-26 20:30:00                 -0.987571                     -0.000604   \n",
              "2025-07-26 21:15:00                 -0.987571                     -0.000604   \n",
              "2025-07-26 23:05:00                 -0.987571                     -0.000604   \n",
              "\n",
              "                     ...  10min_slope_angle_600_9 - slope_angle_900_6  \\\n",
              "Date                 ...                                                \n",
              "2025-07-26 20:30:00  ...                                    -0.006334   \n",
              "2025-07-26 21:15:00  ...                                    -0.006334   \n",
              "2025-07-26 23:05:00  ...                                    -0.006334   \n",
              "\n",
              "                     slope_signal_600_3 - slope_signal_600_6  \\\n",
              "Date                                                           \n",
              "2025-07-26 20:30:00                                -0.008887   \n",
              "2025-07-26 21:15:00                                 0.017918   \n",
              "2025-07-26 23:05:00                                 0.008887   \n",
              "\n",
              "                     slope_lin_reg_signal_600_9  \\\n",
              "Date                                              \n",
              "2025-07-26 20:30:00                   -0.920648   \n",
              "2025-07-26 21:15:00                    1.091702   \n",
              "2025-07-26 23:05:00                    0.987571   \n",
              "\n",
              "                     slope_angle_300_3 - slope_angle_900_6  slope_angle_900_6  \\\n",
              "Date                                                                            \n",
              "2025-07-26 20:30:00                               0.019566          -0.935725   \n",
              "2025-07-26 21:15:00                              -0.130668           1.073741   \n",
              "2025-07-26 23:05:00                              -0.032381           0.988749   \n",
              "\n",
              "                     10min_slope_angle_300_9 - slope_angle_600_6  \\\n",
              "Date                                                               \n",
              "2025-07-26 20:30:00                                     0.009094   \n",
              "2025-07-26 21:15:00                                     0.009094   \n",
              "2025-07-26 23:05:00                                     0.009094   \n",
              "\n",
              "                     10min_slope_angle_300_6 - slope_angle_600_3  \\\n",
              "Date                                                               \n",
              "2025-07-26 20:30:00                                    -0.008663   \n",
              "2025-07-26 21:15:00                                    -0.008663   \n",
              "2025-07-26 23:05:00                                    -0.008663   \n",
              "\n",
              "                     slope_signal_300_9  \\\n",
              "Date                                      \n",
              "2025-07-26 20:30:00            1.069946   \n",
              "2025-07-26 21:15:00            0.987571   \n",
              "2025-07-26 23:05:00           -1.059255   \n",
              "\n",
              "                     10min_slope_lin_reg_signal_300_9 - slope_lin_reg_signal_900_9  \\\n",
              "Date                                                                                 \n",
              "2025-07-26 20:30:00                                                0.0               \n",
              "2025-07-26 21:15:00                                                0.0               \n",
              "2025-07-26 23:05:00                                                0.0               \n",
              "\n",
              "                     slope_angle_300_3 - slope_angle_900_3  \n",
              "Date                                                        \n",
              "2025-07-26 20:30:00                              -0.577616  \n",
              "2025-07-26 21:15:00                               0.059524  \n",
              "2025-07-26 23:05:00                               2.504577  \n",
              "\n",
              "[3 rows x 272 columns]"
            ],
            "text/html": [
              "\n",
              "  <div id=\"df-62d573e6-1c8f-44a5-8b39-df793b606179\" class=\"colab-df-container\">\n",
              "    <div>\n",
              "<style scoped>\n",
              "    .dataframe tbody tr th:only-of-type {\n",
              "        vertical-align: middle;\n",
              "    }\n",
              "\n",
              "    .dataframe tbody tr th {\n",
              "        vertical-align: top;\n",
              "    }\n",
              "\n",
              "    .dataframe thead th {\n",
              "        text-align: right;\n",
              "    }\n",
              "</style>\n",
              "<table border=\"1\" class=\"dataframe\">\n",
              "  <thead>\n",
              "    <tr style=\"text-align: right;\">\n",
              "      <th></th>\n",
              "      <th>label</th>\n",
              "      <th>10min_RSI_3_diff</th>\n",
              "      <th>10min_RSI_3</th>\n",
              "      <th>10min_slope_signal_600_3</th>\n",
              "      <th>10min_slope_signal_300_3</th>\n",
              "      <th>10min_slope_div_300_3_diff</th>\n",
              "      <th>10min_slope_lin_reg_signal_900_6</th>\n",
              "      <th>RSI_7</th>\n",
              "      <th>10min_slope_signal_900_3</th>\n",
              "      <th>10min_slope_angle_900_3_diff</th>\n",
              "      <th>...</th>\n",
              "      <th>10min_slope_angle_600_9 - slope_angle_900_6</th>\n",
              "      <th>slope_signal_600_3 - slope_signal_600_6</th>\n",
              "      <th>slope_lin_reg_signal_600_9</th>\n",
              "      <th>slope_angle_300_3 - slope_angle_900_6</th>\n",
              "      <th>slope_angle_900_6</th>\n",
              "      <th>10min_slope_angle_300_9 - slope_angle_600_6</th>\n",
              "      <th>10min_slope_angle_300_6 - slope_angle_600_3</th>\n",
              "      <th>slope_signal_300_9</th>\n",
              "      <th>10min_slope_lin_reg_signal_300_9 - slope_lin_reg_signal_900_9</th>\n",
              "      <th>slope_angle_300_3 - slope_angle_900_3</th>\n",
              "    </tr>\n",
              "    <tr>\n",
              "      <th>Date</th>\n",
              "      <th></th>\n",
              "      <th></th>\n",
              "      <th></th>\n",
              "      <th></th>\n",
              "      <th></th>\n",
              "      <th></th>\n",
              "      <th></th>\n",
              "      <th></th>\n",
              "      <th></th>\n",
              "      <th></th>\n",
              "      <th></th>\n",
              "      <th></th>\n",
              "      <th></th>\n",
              "      <th></th>\n",
              "      <th></th>\n",
              "      <th></th>\n",
              "      <th></th>\n",
              "      <th></th>\n",
              "      <th></th>\n",
              "      <th></th>\n",
              "      <th></th>\n",
              "    </tr>\n",
              "  </thead>\n",
              "  <tbody>\n",
              "    <tr>\n",
              "      <th>2025-07-26 20:30:00</th>\n",
              "      <td>0</td>\n",
              "      <td>0.378237</td>\n",
              "      <td>1.588212</td>\n",
              "      <td>-0.977742</td>\n",
              "      <td>1.059255</td>\n",
              "      <td>0.261028</td>\n",
              "      <td>1.102774</td>\n",
              "      <td>-0.982505</td>\n",
              "      <td>-0.987571</td>\n",
              "      <td>-0.000604</td>\n",
              "      <td>...</td>\n",
              "      <td>-0.006334</td>\n",
              "      <td>-0.008887</td>\n",
              "      <td>-0.920648</td>\n",
              "      <td>0.019566</td>\n",
              "      <td>-0.935725</td>\n",
              "      <td>0.009094</td>\n",
              "      <td>-0.008663</td>\n",
              "      <td>1.069946</td>\n",
              "      <td>0.0</td>\n",
              "      <td>-0.577616</td>\n",
              "    </tr>\n",
              "    <tr>\n",
              "      <th>2025-07-26 21:15:00</th>\n",
              "      <td>0</td>\n",
              "      <td>0.378237</td>\n",
              "      <td>1.588212</td>\n",
              "      <td>-0.977742</td>\n",
              "      <td>1.059255</td>\n",
              "      <td>0.261028</td>\n",
              "      <td>1.102774</td>\n",
              "      <td>-1.136307</td>\n",
              "      <td>-0.987571</td>\n",
              "      <td>-0.000604</td>\n",
              "      <td>...</td>\n",
              "      <td>-0.006334</td>\n",
              "      <td>0.017918</td>\n",
              "      <td>1.091702</td>\n",
              "      <td>-0.130668</td>\n",
              "      <td>1.073741</td>\n",
              "      <td>0.009094</td>\n",
              "      <td>-0.008663</td>\n",
              "      <td>0.987571</td>\n",
              "      <td>0.0</td>\n",
              "      <td>0.059524</td>\n",
              "    </tr>\n",
              "    <tr>\n",
              "      <th>2025-07-26 23:05:00</th>\n",
              "      <td>1</td>\n",
              "      <td>0.378237</td>\n",
              "      <td>1.588212</td>\n",
              "      <td>-0.977742</td>\n",
              "      <td>1.059255</td>\n",
              "      <td>0.261028</td>\n",
              "      <td>1.102774</td>\n",
              "      <td>-0.655377</td>\n",
              "      <td>-0.987571</td>\n",
              "      <td>-0.000604</td>\n",
              "      <td>...</td>\n",
              "      <td>-0.006334</td>\n",
              "      <td>0.008887</td>\n",
              "      <td>0.987571</td>\n",
              "      <td>-0.032381</td>\n",
              "      <td>0.988749</td>\n",
              "      <td>0.009094</td>\n",
              "      <td>-0.008663</td>\n",
              "      <td>-1.059255</td>\n",
              "      <td>0.0</td>\n",
              "      <td>2.504577</td>\n",
              "    </tr>\n",
              "  </tbody>\n",
              "</table>\n",
              "<p>3 rows × 272 columns</p>\n",
              "</div>\n",
              "    <div class=\"colab-df-buttons\">\n",
              "\n",
              "  <div class=\"colab-df-container\">\n",
              "    <button class=\"colab-df-convert\" onclick=\"convertToInteractive('df-62d573e6-1c8f-44a5-8b39-df793b606179')\"\n",
              "            title=\"Convert this dataframe to an interactive table.\"\n",
              "            style=\"display:none;\">\n",
              "\n",
              "  <svg xmlns=\"http://www.w3.org/2000/svg\" height=\"24px\" viewBox=\"0 -960 960 960\">\n",
              "    <path d=\"M120-120v-720h720v720H120Zm60-500h600v-160H180v160Zm220 220h160v-160H400v160Zm0 220h160v-160H400v160ZM180-400h160v-160H180v160Zm440 0h160v-160H620v160ZM180-180h160v-160H180v160Zm440 0h160v-160H620v160Z\"/>\n",
              "  </svg>\n",
              "    </button>\n",
              "\n",
              "  <style>\n",
              "    .colab-df-container {\n",
              "      display:flex;\n",
              "      gap: 12px;\n",
              "    }\n",
              "\n",
              "    .colab-df-convert {\n",
              "      background-color: #E8F0FE;\n",
              "      border: none;\n",
              "      border-radius: 50%;\n",
              "      cursor: pointer;\n",
              "      display: none;\n",
              "      fill: #1967D2;\n",
              "      height: 32px;\n",
              "      padding: 0 0 0 0;\n",
              "      width: 32px;\n",
              "    }\n",
              "\n",
              "    .colab-df-convert:hover {\n",
              "      background-color: #E2EBFA;\n",
              "      box-shadow: 0px 1px 2px rgba(60, 64, 67, 0.3), 0px 1px 3px 1px rgba(60, 64, 67, 0.15);\n",
              "      fill: #174EA6;\n",
              "    }\n",
              "\n",
              "    .colab-df-buttons div {\n",
              "      margin-bottom: 4px;\n",
              "    }\n",
              "\n",
              "    [theme=dark] .colab-df-convert {\n",
              "      background-color: #3B4455;\n",
              "      fill: #D2E3FC;\n",
              "    }\n",
              "\n",
              "    [theme=dark] .colab-df-convert:hover {\n",
              "      background-color: #434B5C;\n",
              "      box-shadow: 0px 1px 3px 1px rgba(0, 0, 0, 0.15);\n",
              "      filter: drop-shadow(0px 1px 2px rgba(0, 0, 0, 0.3));\n",
              "      fill: #FFFFFF;\n",
              "    }\n",
              "  </style>\n",
              "\n",
              "    <script>\n",
              "      const buttonEl =\n",
              "        document.querySelector('#df-62d573e6-1c8f-44a5-8b39-df793b606179 button.colab-df-convert');\n",
              "      buttonEl.style.display =\n",
              "        google.colab.kernel.accessAllowed ? 'block' : 'none';\n",
              "\n",
              "      async function convertToInteractive(key) {\n",
              "        const element = document.querySelector('#df-62d573e6-1c8f-44a5-8b39-df793b606179');\n",
              "        const dataTable =\n",
              "          await google.colab.kernel.invokeFunction('convertToInteractive',\n",
              "                                                    [key], {});\n",
              "        if (!dataTable) return;\n",
              "\n",
              "        const docLinkHtml = 'Like what you see? Visit the ' +\n",
              "          '<a target=\"_blank\" href=https://colab.research.google.com/notebooks/data_table.ipynb>data table notebook</a>'\n",
              "          + ' to learn more about interactive tables.';\n",
              "        element.innerHTML = '';\n",
              "        dataTable['output_type'] = 'display_data';\n",
              "        await google.colab.output.renderOutput(dataTable, element);\n",
              "        const docLink = document.createElement('div');\n",
              "        docLink.innerHTML = docLinkHtml;\n",
              "        element.appendChild(docLink);\n",
              "      }\n",
              "    </script>\n",
              "  </div>\n",
              "\n",
              "\n",
              "    <div id=\"df-4b3c9d4c-1134-4cde-8c92-04b25ee33451\">\n",
              "      <button class=\"colab-df-quickchart\" onclick=\"quickchart('df-4b3c9d4c-1134-4cde-8c92-04b25ee33451')\"\n",
              "                title=\"Suggest charts\"\n",
              "                style=\"display:none;\">\n",
              "\n",
              "<svg xmlns=\"http://www.w3.org/2000/svg\" height=\"24px\"viewBox=\"0 0 24 24\"\n",
              "     width=\"24px\">\n",
              "    <g>\n",
              "        <path d=\"M19 3H5c-1.1 0-2 .9-2 2v14c0 1.1.9 2 2 2h14c1.1 0 2-.9 2-2V5c0-1.1-.9-2-2-2zM9 17H7v-7h2v7zm4 0h-2V7h2v10zm4 0h-2v-4h2v4z\"/>\n",
              "    </g>\n",
              "</svg>\n",
              "      </button>\n",
              "\n",
              "<style>\n",
              "  .colab-df-quickchart {\n",
              "      --bg-color: #E8F0FE;\n",
              "      --fill-color: #1967D2;\n",
              "      --hover-bg-color: #E2EBFA;\n",
              "      --hover-fill-color: #174EA6;\n",
              "      --disabled-fill-color: #AAA;\n",
              "      --disabled-bg-color: #DDD;\n",
              "  }\n",
              "\n",
              "  [theme=dark] .colab-df-quickchart {\n",
              "      --bg-color: #3B4455;\n",
              "      --fill-color: #D2E3FC;\n",
              "      --hover-bg-color: #434B5C;\n",
              "      --hover-fill-color: #FFFFFF;\n",
              "      --disabled-bg-color: #3B4455;\n",
              "      --disabled-fill-color: #666;\n",
              "  }\n",
              "\n",
              "  .colab-df-quickchart {\n",
              "    background-color: var(--bg-color);\n",
              "    border: none;\n",
              "    border-radius: 50%;\n",
              "    cursor: pointer;\n",
              "    display: none;\n",
              "    fill: var(--fill-color);\n",
              "    height: 32px;\n",
              "    padding: 0;\n",
              "    width: 32px;\n",
              "  }\n",
              "\n",
              "  .colab-df-quickchart:hover {\n",
              "    background-color: var(--hover-bg-color);\n",
              "    box-shadow: 0 1px 2px rgba(60, 64, 67, 0.3), 0 1px 3px 1px rgba(60, 64, 67, 0.15);\n",
              "    fill: var(--button-hover-fill-color);\n",
              "  }\n",
              "\n",
              "  .colab-df-quickchart-complete:disabled,\n",
              "  .colab-df-quickchart-complete:disabled:hover {\n",
              "    background-color: var(--disabled-bg-color);\n",
              "    fill: var(--disabled-fill-color);\n",
              "    box-shadow: none;\n",
              "  }\n",
              "\n",
              "  .colab-df-spinner {\n",
              "    border: 2px solid var(--fill-color);\n",
              "    border-color: transparent;\n",
              "    border-bottom-color: var(--fill-color);\n",
              "    animation:\n",
              "      spin 1s steps(1) infinite;\n",
              "  }\n",
              "\n",
              "  @keyframes spin {\n",
              "    0% {\n",
              "      border-color: transparent;\n",
              "      border-bottom-color: var(--fill-color);\n",
              "      border-left-color: var(--fill-color);\n",
              "    }\n",
              "    20% {\n",
              "      border-color: transparent;\n",
              "      border-left-color: var(--fill-color);\n",
              "      border-top-color: var(--fill-color);\n",
              "    }\n",
              "    30% {\n",
              "      border-color: transparent;\n",
              "      border-left-color: var(--fill-color);\n",
              "      border-top-color: var(--fill-color);\n",
              "      border-right-color: var(--fill-color);\n",
              "    }\n",
              "    40% {\n",
              "      border-color: transparent;\n",
              "      border-right-color: var(--fill-color);\n",
              "      border-top-color: var(--fill-color);\n",
              "    }\n",
              "    60% {\n",
              "      border-color: transparent;\n",
              "      border-right-color: var(--fill-color);\n",
              "    }\n",
              "    80% {\n",
              "      border-color: transparent;\n",
              "      border-right-color: var(--fill-color);\n",
              "      border-bottom-color: var(--fill-color);\n",
              "    }\n",
              "    90% {\n",
              "      border-color: transparent;\n",
              "      border-bottom-color: var(--fill-color);\n",
              "    }\n",
              "  }\n",
              "</style>\n",
              "\n",
              "      <script>\n",
              "        async function quickchart(key) {\n",
              "          const quickchartButtonEl =\n",
              "            document.querySelector('#' + key + ' button');\n",
              "          quickchartButtonEl.disabled = true;  // To prevent multiple clicks.\n",
              "          quickchartButtonEl.classList.add('colab-df-spinner');\n",
              "          try {\n",
              "            const charts = await google.colab.kernel.invokeFunction(\n",
              "                'suggestCharts', [key], {});\n",
              "          } catch (error) {\n",
              "            console.error('Error during call to suggestCharts:', error);\n",
              "          }\n",
              "          quickchartButtonEl.classList.remove('colab-df-spinner');\n",
              "          quickchartButtonEl.classList.add('colab-df-quickchart-complete');\n",
              "        }\n",
              "        (() => {\n",
              "          let quickchartButtonEl =\n",
              "            document.querySelector('#df-4b3c9d4c-1134-4cde-8c92-04b25ee33451 button');\n",
              "          quickchartButtonEl.style.display =\n",
              "            google.colab.kernel.accessAllowed ? 'block' : 'none';\n",
              "        })();\n",
              "      </script>\n",
              "    </div>\n",
              "\n",
              "    </div>\n",
              "  </div>\n"
            ],
            "application/vnd.google.colaboratory.intrinsic+json": {
              "type": "dataframe"
            }
          },
          "metadata": {},
          "execution_count": 141
        }
      ],
      "source": [
        "### Features\n",
        "\n",
        "features_5m = pd.read_csv(root_data + 'Results/'+symbol+'_'+direction+'_M5M10_'+data_type+'_Features.csv', index_col=0)\n",
        "features_5m['Date'] = features_5m.index\n",
        "features_5m['Date'] = pd.to_datetime(features_5m['Date'])\n",
        "features_5m.set_index(\"Date\", inplace=True)\n",
        "\n",
        "print(features_5m.shape)\n",
        "features_5m.tail(3)"
      ]
    },
    {
      "cell_type": "code",
      "execution_count": 142,
      "id": "XM2K_2T22n2k",
      "metadata": {
        "id": "XM2K_2T22n2k",
        "colab": {
          "base_uri": "https://localhost:8080/"
        },
        "outputId": "6045e152-8b18-4910-9fa0-0884113488d4"
      },
      "outputs": [
        {
          "output_type": "stream",
          "name": "stdout",
          "text": [
            "Index(['Open', 'High', 'Low', 'Close', 'Volume', 'Spread', 'ATR', 'kal_1',\n",
            "       'kal_2', 'kal_3', 'kal_4', 'Open_Trade', 'Close_Trade', 'Entry_Date',\n",
            "       'Type', 'Trade_Number', 'st_Exit_Date', 'trade type', 'st_Duration',\n",
            "       'st_row_PnL_close', 'st_row_PnL_high', 'st_row_PnL_Low',\n",
            "       'st_row_PnL_low', 'st_Max', 'st_Min', 'st_PnL', 'st_atr_PnL',\n",
            "       'st_atr_max_PnL'],\n",
            "      dtype='object') \n",
            "\n",
            "(267395, 28)\n"
          ]
        }
      ],
      "source": [
        "### Labels\n",
        "\n",
        "lab = pd.read_csv(root_data + 'Results/'+symbol+'_'+strategy+'_'+time_frame+'_Strategy_Gen_Labels.csv', index_col=0)\n",
        "lab['Date'] = pd.to_datetime(lab['Date'])\n",
        "lab.set_index('Date', inplace=True)\n",
        "\n",
        "print(lab.columns,'\\n')\n",
        "print(lab.shape)\n",
        "#lab.loc[lab['Open_Trade']== 1,'Type']"
      ]
    },
    {
      "cell_type": "code",
      "execution_count": 143,
      "id": "_JB4ZFhCalgp",
      "metadata": {
        "colab": {
          "base_uri": "https://localhost:8080/"
        },
        "id": "_JB4ZFhCalgp",
        "outputId": "5187b9a7-6a7d-4f30-adbc-506bc6336268"
      },
      "outputs": [
        {
          "output_type": "stream",
          "name": "stdout",
          "text": [
            "\n",
            "Label counts = \n",
            "label\n",
            "0     9537\n",
            "1    10054\n",
            "Name: count, dtype: int64\n"
          ]
        }
      ],
      "source": [
        "# --- Parámetros / campos\n",
        "result_field = 'st_atr_max_PnL'   # métrica a evaluar\n",
        "\n",
        "# --- Filtro de filas válidas\n",
        "valid = (\n",
        "    (lab['Type'] == direction) &\n",
        "    (lab['Open_Trade'].isin([1, -1])) &\n",
        "    (lab[result_field].notna()))\n",
        "\n",
        "\n",
        "lab['label'] = np.nan\n",
        "lab.loc[valid & (lab[result_field] <= 1), 'label'] = 0\n",
        "lab.loc[valid & (lab[result_field] >= 1), 'label'] = 1\n",
        "\n",
        "# --- Mantener solo filas válidas y con label\n",
        "lab = lab.loc[valid & lab['label'].notna()].copy()\n",
        "lab['label'] = lab['label'].astype('int8')\n",
        "\n",
        "print('\\nLabel counts = ')\n",
        "print(lab['label'].value_counts(dropna=False).sort_index())\n"
      ]
    },
    {
      "cell_type": "code",
      "execution_count": 144,
      "id": "IA2-iSWJ9Udm",
      "metadata": {
        "colab": {
          "base_uri": "https://localhost:8080/"
        },
        "id": "IA2-iSWJ9Udm",
        "outputId": "abb46a6c-fd04-4b77-f2be-1ee33fd140ba"
      },
      "outputs": [
        {
          "output_type": "stream",
          "name": "stdout",
          "text": [
            "Shape =  (19591, 301) \n",
            "\n",
            "['Open', 'High', 'Low', 'Close', 'Volume', 'Spread', 'ATR', 'kal_1', 'kal_2', 'kal_3', 'kal_4', 'Open_Trade', 'Close_Trade', 'Entry_Date', 'Type', 'Trade_Number', 'st_Exit_Date', 'trade type', 'st_Duration', 'st_row_PnL_close', 'st_row_PnL_high', 'st_row_PnL_Low', 'st_row_PnL_low', 'st_Max', 'st_Min', 'st_PnL', 'st_atr_PnL', 'st_atr_max_PnL', 'label_x', 'label_y', '10min_RSI_3_diff', '10min_RSI_3', '10min_slope_signal_600_3', '10min_slope_signal_300_3', '10min_slope_div_300_3_diff', '10min_slope_lin_reg_signal_900_6', 'RSI_7', '10min_slope_signal_900_3', '10min_slope_angle_900_3_diff', '10min_slope_signal_900_9_diff', '10min_slope_signal_600_3_diff', '10min_slope_lin_reg_signal_600_3', '10min_slope_div_300_6 - slope_div_600_9', '10min_slope_div_300_9', '10min_slope_signal_300_6 - slope_signal_600_3', '10min_slope_signal_300_6', '10min_slope_signal_300_6 - slope_signal_600_6', '10min_slope_angle_600_3', '10min_slope_angle_600_3_diff', '10min_slope_lin_reg_signal_600_6', '10min_slope_lin_reg_signal_300_6 - slope_lin_reg_signal_900_9', 'Kal_600_minus_Kal_900', '10min_slope_signal_300_9 - slope_signal_900_9', '10min_slope_div_300_3 - slope_div_300_6', '10min_slope_lin_reg_signal_600_9', '10min_slope_signal_600_6', '10min_slope_signal_300_3 - slope_signal_600_3', '10min_slope_signal_300_6 - slope_signal_900_6', '10min_slope_lin_reg_600_3 - slope_lin_reg_900_9', '10min_slope_lin_reg_signal_300_6_diff', '10min_MFI_3_diff', '10min_slope_signal_900_3_diff', 'Close_Kal_300', '10min_slope_lin_reg_signal_600_9 - slope_lin_reg_signal_900_6', '10min_slope_lin_reg_signal_300_6', 'slope_lin_reg_signal_600_6_diff', 'slope_div_600_3', 'slope_div_300_9 - slope_div_600_9', '10min_slope_angle_300_6_diff', '10min_slope_signal_300_6_diff', '10min_slope_angle_600_3 - slope_angle_900_9', 'slope_angle_300_3 - slope_angle_300_9', '10min_slope_lin_reg_signal_600_3 - slope_lin_reg_signal_600_9', '10min_slope_lin_reg_signal_300_3 - slope_lin_reg_signal_300_9', 'slope_angle_600_3', '10min_slope_lin_reg_signal_900_3', '10min_slope_angle_600_6 - slope_angle_900_3', '10min_slope_signal_900_6_diff', 'OBV_diff', '10min_slope_angle_300_3 - slope_angle_300_6', 'slope_angle_300_6_diff', 'RSI_7 - RSI_14', '10min_slope_signal_900_6 - slope_signal_900_9', '10min_slope_div_600_3 - slope_div_600_6', 'RSI_3_diff', '10min_slope_angle_600_9 - slope_angle_900_9', 'slope_angle_300_9 - slope_angle_900_9', '10min_slope_lin_reg_signal_300_9_diff', 'slope_div_300_6 - slope_div_900_9', '10min_slope_signal_600_9 - slope_signal_900_9', '10min_slope_angle_900_6 - slope_angle_900_9', 'RSI_3', '10min_slope_signal_300_3_diff', '10min_slope_lin_reg_signal_300_9 - slope_lin_reg_signal_900_3', '10min_slope_signal_300_6 - slope_signal_600_9', 'slope_signal_600_6 - slope_signal_600_9', 'slope_div_300_6 - slope_div_600_9', '10min_slope_lin_reg_signal_600_6 - slope_lin_reg_signal_900_9', '10min_slope_angle_300_6 - slope_angle_300_9', '10min_slope_lin_reg_signal_300_6 - slope_lin_reg_signal_900_3', 'slope_angle_300_9_diff', '10min_slope_signal_300_6 - slope_signal_900_9', 'slope_signal_600_9_diff', '10min_slope_signal_300_9 - slope_signal_900_6', '10min_slope_angle_300_9 - slope_angle_600_3', '10min_slope_signal_900_6', 'slope_angle_900_9', '10min_slope_signal_900_9', '10min_slope_angle_600_6 - slope_angle_600_9', '10min_slope_angle_300_9', 'slope_lin_reg_signal_900_6 - slope_lin_reg_signal_900_9', '10min_slope_angle_600_6 - slope_angle_900_6', 'slope_lin_reg_signal_300_3', '10min_slope_lin_reg_signal_600_6 - slope_lin_reg_signal_900_6', 'slope_angle_300_6 - slope_angle_900_9', 'slope_div_300_6_diff', 'slope_angle_900_9_diff', 'slope_signal_600_9 - slope_signal_900_6', 'slope_signal_600_6_diff', '10min_slope_lin_reg_signal_900_3 - slope_lin_reg_signal_900_9', '10min_slope_angle_300_6 - slope_angle_600_6', '10min_slope_div_600_3 - slope_div_900_6', '10min_slope_lin_reg_signal_300_3 - slope_lin_reg_signal_600_9', '10min_slope_signal_300_6 - slope_signal_300_9', 'slope_signal_600_3', '10min_slope_angle_300_6 - slope_angle_900_9', 'slope_angle_300_6 - slope_angle_600_9', 'slope_angle_600_3 - slope_angle_900_3', '10min_slope_lin_reg_signal_600_9_diff', 'slope_div_300_3 - slope_div_300_6', 'slope_angle_300_6', 'slope_lin_reg_signal_300_6 - slope_lin_reg_signal_900_6', 'slope_angle_600_6 - slope_angle_900_6', 'slope_lin_reg_signal_600_6 - slope_lin_reg_signal_900_6', '10min_slope_lin_reg_signal_900_3 - slope_lin_reg_signal_900_6', 'slope_angle_600_9 - slope_angle_900_6', '10min_slope_angle_600_6_diff', '10min_slope_lin_reg_signal_300_3 - slope_lin_reg_signal_900_6', '10min_slope_signal_300_9 - slope_signal_600_3', '10min_slope_lin_reg_signal_300_9 - slope_lin_reg_signal_600_6', 'slope_angle_600_3 - slope_angle_600_6', 'slope_angle_900_3', 'MFI_3 - MFI_14', '10min_slope_signal_300_3 - slope_signal_900_9', '10min_slope_lin_reg_signal_600_6 - slope_lin_reg_signal_600_9', 'slope_signal_300_3 - slope_signal_600_6', 'slope_angle_300_6 - slope_angle_300_9', 'slope_angle_300_3', '10min_slope_signal_300_3 - slope_signal_600_6', 'slope_angle_300_9', 'slope_signal_600_9', 'slope_signal_600_6', 'slope_signal_300_9 - slope_signal_900_9', 'Kal_300', '10min_slope_signal_600_3 - slope_signal_900_3', '10min_Kal_300', 'slope_signal_300_6 - slope_signal_600_9', '10min_slope_angle_300_3 - slope_angle_600_6', '10min_OBV_diff', 'RSI_3 - RSI_7', '10min_slope_lin_reg_signal_600_9 - slope_lin_reg_signal_900_3', 'slope_angle_600_3 - slope_angle_900_6', 'slope_lin_reg_signal_300_9 - slope_lin_reg_signal_900_9', '10min_MFI_7 - MFI_14', '10min_slope_signal_600_3 - slope_signal_600_6', 'slope_lin_reg_signal_600_6 - slope_lin_reg_signal_600_9', '10min_slope_angle_300_9 - slope_angle_900_6', '10min_slope_lin_reg_signal_300_6 - slope_lin_reg_signal_300_9', '10min_slope_lin_reg_signal_600_3 - slope_lin_reg_signal_900_3', '10min_slope_lin_reg_signal_300_6 - slope_lin_reg_signal_900_6', 'slope_lin_reg_600_6_diff', 'slope_angle_600_9', 'slope_lin_reg_signal_300_6 - slope_lin_reg_signal_600_6', 'MFI_7 - MFI_14', '10min_OBV', '10min_MFI_14_diff', 'slope_div_300_9_diff', '10min_slope_angle_300_9 - slope_angle_600_9', '10min_slope_lin_reg_signal_300_3 - slope_lin_reg_signal_600_6', 'slope_angle_600_3_diff', 'slope_angle_300_9 - slope_angle_600_6', '10min_slope_lin_reg_signal_300_9 - slope_lin_reg_signal_600_9', '10min_slope_signal_300_9 - slope_signal_600_9', 'slope_angle_600_9_diff', '10min_slope_angle_300_9 - slope_angle_900_9', 'slope_angle_300_3_diff', 'slope_angle_900_6_diff', 'slope_angle_900_3 - slope_angle_900_6', 'slope_angle_300_6 - slope_angle_900_6', 'slope_lin_reg_signal_600_6 - slope_lin_reg_signal_900_3', 'MFI_3_diff', 'slope_signal_600_3 - slope_signal_900_9', '10min_slope_angle_300_3 - slope_angle_900_3', 'slope_lin_reg_signal_900_3 - slope_lin_reg_signal_900_6', '10min_slope_angle_600_9_diff', '10min_slope_lin_reg_300_3 - slope_lin_reg_600_9', 'slope_signal_900_3_diff', '10min_slope_div_300_3 - slope_div_900_6', '10min_slope_signal_300_3 - slope_signal_900_6', 'slope_lin_reg_signal_600_9 - slope_lin_reg_signal_900_9', 'slope_angle_300_9 - slope_angle_900_6', 'slope_angle_300_6 - slope_angle_600_3', '10min_slope_lin_reg_signal_300_3 - slope_lin_reg_signal_300_6', 'slope_div_300_3 - slope_div_900_6', '10min_slope_signal_600_9 - slope_signal_900_6', 'slope_signal_300_3_diff', 'slope_lin_reg_signal_300_3 - slope_lin_reg_signal_900_6', 'slope_angle_600_6 - slope_angle_900_3', 'slope_signal_900_9', 'slope_lin_reg_signal_600_6', 'slope_lin_reg_signal_600_3 - slope_lin_reg_signal_600_6', '10min_slope_lin_reg_signal_300_3 - slope_lin_reg_signal_900_3', 'slope_angle_300_3 - slope_angle_900_9', 'slope_lin_reg_600_3_diff', 'slope_signal_300_6 - slope_signal_900_9', '10min_slope_lin_reg_signal_300_9', 'slope_lin_reg_signal_900_9_diff', 'slope_signal_300_9 - slope_signal_600_9', 'MFI_14_diff', 'MFI_14', '10min_slope_angle_900_6_diff', 'slope_lin_reg_300_6_diff', 'slope_signal_900_6', 'Kal_prev2_minus_now_300', '10min_slope_signal_300_9 - slope_signal_600_6', 'slope_lin_reg_600_9_diff', '10min_slope_angle_300_3 - slope_angle_900_6', 'slope_signal_600_3 - slope_signal_900_3', 'MFI_7_diff', 'slope_signal_600_3 - slope_signal_900_6', 'slope_signal_300_6 - slope_signal_600_3', '10min_slope_lin_reg_signal_900_6 - slope_lin_reg_signal_900_9', 'MFI_7', 'slope_lin_reg_signal_300_6', 'slope_signal_300_9_diff', '10min_slope_lin_reg_signal_300_3 - slope_lin_reg_signal_600_3', 'slope_signal_300_3 - slope_signal_900_6', 'slope_signal_300_6 - slope_signal_300_9', '10min_slope_lin_reg_signal_300_6 - slope_lin_reg_signal_600_3', 'slope_angle_900_3_diff', 'slope_lin_reg_signal_600_6 - slope_lin_reg_signal_900_9', 'slope_signal_300_3 - slope_signal_300_6', '10min_MFI_7_diff', '10min_slope_signal_600_9', '10min_slope_angle_300_6 - slope_angle_900_6', 'slope_lin_reg_signal_300_3 - slope_lin_reg_signal_900_3', '10min_slope_lin_reg_signal_600_3 - slope_lin_reg_signal_900_6', '10min_slope_angle_300_3 - slope_angle_600_3', 'slope_lin_reg_signal_300_6 - slope_lin_reg_signal_900_3', 'Kal_prev2_minus_now_600', 'slope_lin_reg_signal_600_3_diff', 'slope_div_300_3_diff', '10min_MFI_7', 'slope_lin_reg_signal_900_6_diff', '10min_slope_lin_reg_signal_300_3 - slope_lin_reg_signal_900_9', '10min_slope_angle_600_3 - slope_angle_600_9', 'slope_lin_reg_signal_300_3 - slope_lin_reg_signal_600_6', '10min_slope_lin_reg_signal_300_9 - slope_lin_reg_signal_600_3', 'slope_signal_300_3 - slope_signal_600_9', 'slope_lin_reg_signal_300_6 - slope_lin_reg_signal_600_3', '10min_slope_angle_300_3 - slope_angle_900_9', 'slope_angle_600_6 - slope_angle_900_9', '10min_slope_lin_reg_signal_900_3_diff', 'MFI_3 - MFI_7', '10min_slope_angle_300_6 - slope_angle_900_3', 'slope_angle_300_3 - slope_angle_600_3', '10min_slope_lin_reg_signal_300_9 - slope_lin_reg_signal_900_6', 'slope_div_300_6', 'slope_signal_300_3 - slope_signal_600_3', 'slope_lin_reg_signal_600_3', 'slope_lin_reg_signal_300_9 - slope_lin_reg_signal_600_6', '10min_slope_lin_reg_signal_600_3 - slope_lin_reg_signal_600_6', 'slope_signal_900_9_diff', 'slope_signal_600_9 - slope_signal_900_9', 'slope_lin_reg_signal_600_3 - slope_lin_reg_signal_900_6', '10min_slope_lin_reg_signal_300_6 - slope_lin_reg_signal_600_6', 'slope_lin_reg_signal_300_6 - slope_lin_reg_signal_900_9', 'slope_angle_600_6', '10min_slope_signal_600_6_diff', '10min_slope_angle_300_3 - slope_angle_600_9', '10min_slope_angle_600_6 - slope_angle_900_9', '10min_slope_signal_300_9', '10min_slope_lin_reg_signal_900_9_diff', 'slope_angle_300_3 - slope_angle_300_6', 'slope_signal_300_6_diff', '10min_slope_signal_600_6 - slope_signal_600_9', 'slope_angle_600_6 - slope_angle_600_9', '10min_slope_angle_300_6', '10min_slope_angle_600_3 - slope_angle_600_6', '10min_slope_angle_900_3 - slope_angle_900_6', 'slope_signal_300_3 - slope_signal_900_9', '10min_slope_angle_600_9 - slope_angle_900_6', 'slope_signal_600_3 - slope_signal_600_6', 'slope_lin_reg_signal_600_9', 'slope_angle_300_3 - slope_angle_900_6', 'slope_angle_900_6', '10min_slope_angle_300_9 - slope_angle_600_6', '10min_slope_angle_300_6 - slope_angle_600_3', 'slope_signal_300_9', '10min_slope_lin_reg_signal_300_9 - slope_lin_reg_signal_900_9', 'slope_angle_300_3 - slope_angle_900_3']\n"
          ]
        }
      ],
      "source": [
        "### Merge\n",
        "\n",
        "feat_obj = lab.merge(features_5m, left_index=True, right_index=True, how='left')\n",
        "#feat_obj = feat_obj.merge(features_10m, left_index=True, right_index=True, how='left')\n",
        "feat_obj.fillna(method='ffill', inplace=True)\n",
        "#feat_obj.dropna(inplace=True)\n",
        "print('Shape = ',feat_obj.shape,'\\n')\n",
        "print(list(feat_obj.columns))\n",
        "\n",
        "feat_obj.dropna(inplace=True)\n",
        "#feat_obj.tail(3)"
      ]
    },
    {
      "cell_type": "code",
      "execution_count": 145,
      "id": "mQDmex36AQEi",
      "metadata": {
        "id": "mQDmex36AQEi"
      },
      "outputs": [],
      "source": [
        "columns_to_drop = ['st_row_PnL_Low']\n",
        "feat_obj = feat_obj.drop(columns=columns_to_drop)\n",
        "feat_obj.dropna(inplace=True)"
      ]
    },
    {
      "cell_type": "code",
      "execution_count": 146,
      "id": "S3LiyJFBlwQU",
      "metadata": {
        "colab": {
          "base_uri": "https://localhost:8080/"
        },
        "id": "S3LiyJFBlwQU",
        "outputId": "4aa7e261-6915-458a-be95-85e7652da27e"
      },
      "outputs": [
        {
          "output_type": "stream",
          "name": "stdout",
          "text": [
            "NaN counts in feat_obj sorted by highest to lowest:\n",
            "slope_angle_300_3 - slope_angle_900_3    0\n",
            "Open                                     0\n",
            "High                                     0\n",
            "Low                                      0\n",
            "Close                                    0\n",
            "                                        ..\n",
            "st_Exit_Date                             0\n",
            "Trade_Number                             0\n",
            "Type                                     0\n",
            "Entry_Date                               0\n",
            "Close_Trade                              0\n",
            "Length: 300, dtype: int64\n",
            "Total NaN count in feat_obj: 0\n"
          ]
        }
      ],
      "source": [
        "# Review missing values without dropping columns\n",
        "nan_counts = feat_obj.isnull().sum()\n",
        "print(\"NaN counts in feat_obj sorted by highest to lowest:\")\n",
        "print(nan_counts.sort_values(ascending=False))\n",
        "print(\"Total NaN count in feat_obj:\", nan_counts.sum())"
      ]
    },
    {
      "cell_type": "code",
      "execution_count": 147,
      "id": "U1SDwIIeNhhU",
      "metadata": {
        "colab": {
          "base_uri": "https://localhost:8080/"
        },
        "id": "U1SDwIIeNhhU",
        "outputId": "44c16ede-5378-4440-fe14-33b397d41794"
      },
      "outputs": [
        {
          "output_type": "stream",
          "name": "stdout",
          "text": [
            "Shape of train_data: (0, 300)\n",
            "Shape of test_data: (0, 300)\n"
          ]
        }
      ],
      "source": [
        "# Split the data into 70% train and 30% test based on index\n",
        "train_size = int(0.7 * len(feat_obj))\n",
        "train = feat_obj.iloc[:train_size]\n",
        "test  = feat_obj.iloc[train_size:]\n",
        "\n",
        "print(\"Shape of train_data:\", train.shape)\n",
        "print(\"Shape of test_data:\", test.shape)"
      ]
    },
    {
      "cell_type": "code",
      "execution_count": 138,
      "id": "5KnO-8hT71wu",
      "metadata": {
        "colab": {
          "base_uri": "https://localhost:8080/"
        },
        "id": "5KnO-8hT71wu",
        "outputId": "010ee9d7-05cf-4271-f8a0-33b0102827d9"
      },
      "outputs": [
        {
          "output_type": "stream",
          "name": "stdout",
          "text": [
            "Train_Min_Date nan\n",
            "Train_Max_Date nan \n",
            "\n",
            "Test_Min_Date nan\n",
            "Test_Max_Date nan \n",
            "\n",
            "Train_Columns :  Index(['Open', 'High', 'Low', 'Close', 'Volume', 'Spread', 'ATR', 'kal_1',\n",
            "       'kal_2', 'kal_3',\n",
            "       ...\n",
            "       '10min_slope_angle_600_9 - slope_angle_900_6',\n",
            "       'slope_signal_600_3 - slope_signal_600_6', 'slope_lin_reg_signal_600_9',\n",
            "       'slope_angle_300_3 - slope_angle_900_6', 'slope_angle_900_6',\n",
            "       '10min_slope_angle_300_9 - slope_angle_600_6',\n",
            "       '10min_slope_angle_300_6 - slope_angle_600_3', 'slope_signal_300_9',\n",
            "       '10min_slope_lin_reg_signal_300_9 - slope_lin_reg_signal_900_9',\n",
            "       'slope_angle_300_3 - slope_angle_900_3'],\n",
            "      dtype='object', length=300) \n",
            "\n",
            "Test_Columns :  Index(['Open', 'High', 'Low', 'Close', 'Volume', 'Spread', 'ATR', 'kal_1',\n",
            "       'kal_2', 'kal_3',\n",
            "       ...\n",
            "       '10min_slope_angle_600_9 - slope_angle_900_6',\n",
            "       'slope_signal_600_3 - slope_signal_600_6', 'slope_lin_reg_signal_600_9',\n",
            "       'slope_angle_300_3 - slope_angle_900_6', 'slope_angle_900_6',\n",
            "       '10min_slope_angle_300_9 - slope_angle_600_6',\n",
            "       '10min_slope_angle_300_6 - slope_angle_600_3', 'slope_signal_300_9',\n",
            "       '10min_slope_lin_reg_signal_300_9 - slope_lin_reg_signal_900_9',\n",
            "       'slope_angle_300_3 - slope_angle_900_3'],\n",
            "      dtype='object', length=300)\n"
          ]
        }
      ],
      "source": [
        "### Define Train dataframe\n",
        "\n",
        "print('Train_Min_Date', train.index.min())\n",
        "print('Train_Max_Date', train.index.max(),'\\n')\n",
        "\n",
        "print('Test_Min_Date', test.index.min())\n",
        "print('Test_Max_Date', test.index.max(),'\\n')\n",
        "\n",
        "print('Train_Columns : ',train.columns, '\\n')\n",
        "print('Test_Columns : ',test.columns)"
      ]
    },
    {
      "cell_type": "markdown",
      "id": "61614b7f",
      "metadata": {
        "id": "61614b7f"
      },
      "source": [
        "# Results\n"
      ]
    },
    {
      "cell_type": "code",
      "execution_count": 139,
      "id": "JXY2HFrnLIwW",
      "metadata": {
        "colab": {
          "base_uri": "https://localhost:8080/",
          "height": 263
        },
        "id": "JXY2HFrnLIwW",
        "outputId": "063969ce-5d60-4425-f373-6e46d6c811c4"
      },
      "outputs": [
        {
          "output_type": "error",
          "ename": "AttributeError",
          "evalue": "'float' object has no attribute 'days'",
          "traceback": [
            "\u001b[0;31m---------------------------------------------------------------------------\u001b[0m",
            "\u001b[0;31mAttributeError\u001b[0m                            Traceback (most recent call last)",
            "\u001b[0;32m/tmp/ipython-input-3012860354.py\u001b[0m in \u001b[0;36m<cell line: 0>\u001b[0;34m()\u001b[0m\n\u001b[0;32m----> 1\u001b[0;31m \u001b[0mresults\u001b[0m\u001b[0;34m(\u001b[0m\u001b[0mtrain\u001b[0m\u001b[0;34m,\u001b[0m \u001b[0mpnl_column\u001b[0m\u001b[0;34m=\u001b[0m\u001b[0;34m'st_PnL'\u001b[0m\u001b[0;34m)\u001b[0m\u001b[0;34m\u001b[0m\u001b[0;34m\u001b[0m\u001b[0m\n\u001b[0m",
            "\u001b[0;32m/tmp/ipython-input-2176107095.py\u001b[0m in \u001b[0;36mresults\u001b[0;34m(data, pnl_column)\u001b[0m\n\u001b[1;32m      2\u001b[0m     \u001b[0;31m# Calculate the metrics\u001b[0m\u001b[0;34m\u001b[0m\u001b[0;34m\u001b[0m\u001b[0m\n\u001b[1;32m      3\u001b[0m     \u001b[0mtime_difference\u001b[0m \u001b[0;34m=\u001b[0m \u001b[0mdata\u001b[0m\u001b[0;34m.\u001b[0m\u001b[0mindex\u001b[0m\u001b[0;34m.\u001b[0m\u001b[0mmax\u001b[0m\u001b[0;34m(\u001b[0m\u001b[0;34m)\u001b[0m \u001b[0;34m-\u001b[0m \u001b[0mdata\u001b[0m\u001b[0;34m.\u001b[0m\u001b[0mindex\u001b[0m\u001b[0;34m.\u001b[0m\u001b[0mmin\u001b[0m\u001b[0;34m(\u001b[0m\u001b[0;34m)\u001b[0m\u001b[0;34m\u001b[0m\u001b[0;34m\u001b[0m\u001b[0m\n\u001b[0;32m----> 4\u001b[0;31m     \u001b[0mdays\u001b[0m \u001b[0;34m=\u001b[0m \u001b[0mtime_difference\u001b[0m\u001b[0;34m.\u001b[0m\u001b[0mdays\u001b[0m\u001b[0;34m\u001b[0m\u001b[0;34m\u001b[0m\u001b[0m\n\u001b[0m\u001b[1;32m      5\u001b[0m     \u001b[0mtotal_trades\u001b[0m \u001b[0;34m=\u001b[0m \u001b[0mdata\u001b[0m\u001b[0;34m[\u001b[0m\u001b[0mdata\u001b[0m\u001b[0;34m[\u001b[0m\u001b[0;34m'Open_Trade'\u001b[0m\u001b[0;34m]\u001b[0m\u001b[0;34m.\u001b[0m\u001b[0mnotna\u001b[0m\u001b[0;34m(\u001b[0m\u001b[0;34m)\u001b[0m \u001b[0;34m&\u001b[0m \u001b[0;34m(\u001b[0m\u001b[0mdata\u001b[0m\u001b[0;34m[\u001b[0m\u001b[0;34m'Open_Trade'\u001b[0m\u001b[0;34m]\u001b[0m \u001b[0;34m!=\u001b[0m \u001b[0;36m0\u001b[0m\u001b[0;34m)\u001b[0m\u001b[0;34m]\u001b[0m\u001b[0;34m.\u001b[0m\u001b[0mshape\u001b[0m\u001b[0;34m[\u001b[0m\u001b[0;36m0\u001b[0m\u001b[0;34m]\u001b[0m\u001b[0;34m\u001b[0m\u001b[0;34m\u001b[0m\u001b[0m\n\u001b[1;32m      6\u001b[0m     \u001b[0mprofit_trades\u001b[0m \u001b[0;34m=\u001b[0m \u001b[0mdata\u001b[0m\u001b[0;34m[\u001b[0m\u001b[0mdata\u001b[0m\u001b[0;34m[\u001b[0m\u001b[0mpnl_column\u001b[0m\u001b[0;34m]\u001b[0m \u001b[0;34m>\u001b[0m \u001b[0;36m0\u001b[0m\u001b[0;34m]\u001b[0m\u001b[0;34m.\u001b[0m\u001b[0mshape\u001b[0m\u001b[0;34m[\u001b[0m\u001b[0;36m0\u001b[0m\u001b[0;34m]\u001b[0m\u001b[0;34m\u001b[0m\u001b[0;34m\u001b[0m\u001b[0m\n",
            "\u001b[0;31mAttributeError\u001b[0m: 'float' object has no attribute 'days'"
          ]
        }
      ],
      "source": [
        "results(train, pnl_column='st_PnL')"
      ]
    },
    {
      "cell_type": "code",
      "execution_count": null,
      "id": "oQLNnk7XLUiJ",
      "metadata": {
        "id": "oQLNnk7XLUiJ"
      },
      "outputs": [],
      "source": [
        "results(test, pnl_column= 'st_PnL')"
      ]
    },
    {
      "cell_type": "markdown",
      "id": "85449914",
      "metadata": {
        "id": "85449914"
      },
      "source": [
        "\n",
        "# ML\n"
      ]
    },
    {
      "cell_type": "markdown",
      "id": "6x4lfhG3E2eq",
      "metadata": {
        "id": "6x4lfhG3E2eq"
      },
      "source": [
        "## Train"
      ]
    },
    {
      "cell_type": "code",
      "execution_count": null,
      "id": "ceaa6efa",
      "metadata": {
        "id": "ceaa6efa"
      },
      "outputs": [],
      "source": [
        "### When using train_test_split it applies the scaler to X_train only\n",
        "start_feature = train.columns.get_loc('10min_RSI_3_diff')\n",
        "train_features = [col for col in train.columns[start_feature:] if col != 'label']\n",
        "\n",
        "X = train.loc[:, train_features]\n",
        "y = train['label']\n",
        "\n",
        "X_train, X_test, y_train, y_test = train_test_split(X, y, test_size=0.3, random_state=42)\n",
        "\n",
        "print(\"Shape of X_train:\", X_train.shape)\n",
        "print(\"Shape of X_test:\",  X_test.shape)\n",
        "print(\"Shape of y_train:\", y_train.shape)\n",
        "print(\"Shape of y_test:\",  y_test.shape)"
      ]
    },
    {
      "cell_type": "code",
      "execution_count": null,
      "id": "bQ7NohxSqFxk",
      "metadata": {
        "id": "bQ7NohxSqFxk"
      },
      "outputs": [],
      "source": [
        "print(y_train.value_counts())\n",
        "print(y_test.value_counts())"
      ]
    },
    {
      "cell_type": "code",
      "execution_count": null,
      "id": "G_0TrSpzsRuA",
      "metadata": {
        "id": "G_0TrSpzsRuA"
      },
      "outputs": [],
      "source": [
        "### Rebalance Data frame due to the low number of class 1\n",
        "smote = SMOTE(random_state=42)\n",
        "X_train_resampled, y_train_resampled = smote.fit_resample(X_train, y_train)\n",
        "\n",
        "# Now train your model on the resampled data\n",
        "print(X_train_resampled.value_counts(),'\\n')\n",
        "print(y_train_resampled.value_counts())"
      ]
    },
    {
      "cell_type": "code",
      "execution_count": null,
      "id": "JQvYaSVZam-a",
      "metadata": {
        "id": "JQvYaSVZam-a"
      },
      "outputs": [],
      "source": [
        "# --------------- Classifier 1: XGBoost ------------------------------------------\n",
        "xgb = XGBClassifier(n_estimators=15, max_depth=3,\n",
        "                    random_state=42, eval_metric='logloss')\n",
        "\n",
        "# --------------- Classifier 2: Logistic Regression Classifier------------------------------------------\n",
        "lr = LogisticRegression(random_state=42)\n",
        "\n",
        "# --------------- Classifier 3: AdaBoost Classifier ------------------------------------------\n",
        "ada = AdaBoostClassifier(n_estimators=15, random_state=42)\n",
        "\n",
        "# --------------- Classifier 4: SVM------------------------------------------\n",
        "svc = svm.SVC(kernel='rbf', probability=True, random_state=42)\n",
        "\n",
        "# Define a list to store the different models\n",
        "estimator = []\n",
        "estimator.append(('LR', lr))\n",
        "estimator.append(('XGB', xgb))\n",
        "estimator.append(('ada', ada))\n",
        "estimator.append(('SVC', svc))"
      ]
    },
    {
      "cell_type": "code",
      "execution_count": null,
      "id": "9b68d18e",
      "metadata": {
        "id": "9b68d18e"
      },
      "outputs": [],
      "source": [
        "# --------------- Classifier 1: XGBoost ------------------------------------------\n",
        "xgb = XGBClassifier(n_estimators=15, max_depth=3,\n",
        "                    random_state=42, eval_metric='logloss')\n",
        "\n",
        "# --------------- Classifier 2: Logistic Regression Classifier------------------------------------------\n",
        "lr = LogisticRegression(random_state=42)\n",
        "\n",
        "# --------------- Classifier 3: AdaBoost Classifier ------------------------------------------\n",
        "ada = AdaBoostClassifier(n_estimators=15, random_state=42)\n",
        "\n",
        "# --------------- Classifier 4: SVM------------------------------------------\n",
        "svc = svm.SVC(kernel='rbf', probability=True, random_state=42)\n",
        "\n",
        "# Define a list to store the different models\n",
        "estimator = []\n",
        "estimator.append(('LR', lr))\n",
        "estimator.append(('XGB', xgb))\n",
        "estimator.append(('ada', ada))\n",
        "estimator.append(('SVC', svc))"
      ]
    },
    {
      "cell_type": "code",
      "execution_count": null,
      "id": "606c84c3",
      "metadata": {
        "id": "606c84c3"
      },
      "outputs": [],
      "source": [
        "### Implement voting classifier with hard voting\n",
        "\n",
        "ml_model = VotingClassifier(estimators=estimator, voting='soft')\n",
        "ml_model.fit(X_train_resampled, y_train_resampled)\n",
        "#ml_model.fit(X_train, y_train)"
      ]
    },
    {
      "cell_type": "code",
      "execution_count": null,
      "id": "0d37141d",
      "metadata": {
        "id": "0d37141d"
      },
      "outputs": [],
      "source": [
        "y_true = y_test\n",
        "y_pred = ml_model.predict(X_test)\n",
        "\n",
        "conf_matrix = confusion_matrix(y_true, y_pred)\n",
        "print(\"Confusion Matrix:\")\n",
        "print(conf_matrix)\n",
        "\n",
        "class_report = classification_report(y_true, y_pred)\n",
        "print(\"\\nClassification Report:\")\n",
        "print(class_report)"
      ]
    },
    {
      "cell_type": "code",
      "execution_count": null,
      "id": "dCEg0X2E04iQ",
      "metadata": {
        "id": "dCEg0X2E04iQ"
      },
      "outputs": [],
      "source": [
        "### Save ML Model\n",
        "model_path = root_data + 'Models/'+symbol+'_'+direction+'_ml_model.joblib'\n",
        "joblib.dump(ml_model, model_path)\n",
        "print(f\"Model saved successfully at: {model_path}\")"
      ]
    },
    {
      "cell_type": "markdown",
      "id": "rhCVvXKxM2Uk",
      "metadata": {
        "id": "rhCVvXKxM2Uk"
      },
      "source": [
        "## Meta"
      ]
    },
    {
      "cell_type": "code",
      "execution_count": null,
      "id": "PhMU7vwLPag_",
      "metadata": {
        "id": "PhMU7vwLPag_"
      },
      "outputs": [],
      "source": [
        "### Import ML Model\n",
        "model_path = root_data+'Models/'+symbol+'_'+direction+'_ml_model.joblib'\n",
        "ml_model = joblib.load(model_path)\n",
        "print(f\"Model loaded successfully from: {model_path}\")"
      ]
    },
    {
      "cell_type": "code",
      "execution_count": null,
      "id": "qszEBUJ-4GCn",
      "metadata": {
        "id": "qszEBUJ-4GCn"
      },
      "outputs": [],
      "source": [
        "#train.head(5)"
      ]
    },
    {
      "cell_type": "code",
      "execution_count": null,
      "id": "yRXiqFivOSNq",
      "metadata": {
        "id": "yRXiqFivOSNq"
      },
      "outputs": [],
      "source": [
        "### Import Data\n",
        "start_feature = train.columns.get_loc('10min_RSI_3')\n",
        "train_features = [col for col in train.columns[start_feature:] if col != 'label']\n",
        "\n",
        "# Select the feature columns from the 'train' DataFrame\n",
        "X_train_features = train[train_features]\n",
        "\n",
        "train['label_ml'] = ml_model.predict(X_train_features)\n",
        "\n",
        "meta_features = train_features + ['label_ml']\n",
        "X_meta_features = train[meta_features]\n",
        "\n",
        "prediction_probabilities = ml_model.predict_proba(X_train_features)\n",
        "train['prob_0'] = prediction_probabilities[:, 0]\n",
        "train['prob_1'] = prediction_probabilities[:, 1]\n",
        "\n",
        "#train.head()"
      ]
    },
    {
      "cell_type": "code",
      "execution_count": null,
      "id": "a7PKPf5CxaRx",
      "metadata": {
        "id": "a7PKPf5CxaRx"
      },
      "outputs": [],
      "source": [
        "train.to_csv(root_data + 'Results/'+symbol+'Meta_Prob_M5+M10_train_l.csv')"
      ]
    },
    {
      "cell_type": "code",
      "execution_count": null,
      "id": "XVlPvtGoxaRy",
      "metadata": {
        "id": "XVlPvtGoxaRy"
      },
      "outputs": [],
      "source": [
        "meta = train_features + ['label_ml', 'prob_1', 'prob_0']\n",
        "#meta = train_features + ['prob_1']\n",
        "X_meta_features = train[meta]\n",
        "\n",
        "X = train[meta]\n",
        "y = train['label']\n",
        "\n",
        "X_train, X_test, y_train, y_test = train_test_split(X, y, test_size=0.3, random_state=42)\n",
        "\n",
        "print(\"Shape of X_train:\", X_train.shape)\n",
        "print(\"Shape of X_test:\", X_test.shape)\n",
        "print(\"Shape of y_train:\", y_train.shape)\n",
        "print(\"Shape of y_test:\", y_test.shape)"
      ]
    },
    {
      "cell_type": "code",
      "execution_count": null,
      "id": "3rPgnEbGxaRy",
      "metadata": {
        "id": "3rPgnEbGxaRy"
      },
      "outputs": [],
      "source": [
        "print(y_train.value_counts())\n",
        "print(y_test.value_counts())"
      ]
    },
    {
      "cell_type": "code",
      "execution_count": null,
      "id": "VeHU0htFxaRy",
      "metadata": {
        "id": "VeHU0htFxaRy"
      },
      "outputs": [],
      "source": [
        "### Rebalance Data frame due to the low number of class 1\n",
        "\n",
        "smote = SMOTE(random_state=42)\n",
        "X_train_resampled, y_train_resampled = smote.fit_resample(X_train, y_train)"
      ]
    },
    {
      "cell_type": "code",
      "execution_count": null,
      "id": "2XmqHiZBxaRy",
      "metadata": {
        "id": "2XmqHiZBxaRy"
      },
      "outputs": [],
      "source": [
        "# --------------- Classifier 1: XGBoost ------------------------------------------\n",
        "xgb = XGBClassifier(n_estimators=15, max_depth=3,\n",
        "                    random_state=42, eval_metric='logloss')\n",
        "\n",
        "# --------------- Classifier 2: Logistic Regression Classifier------------------------------------------\n",
        "lr = LogisticRegression(random_state=42)\n",
        "\n",
        "# --------------- Classifier 3: AdaBoost Classifier ------------------------------------------\n",
        "ada = AdaBoostClassifier(n_estimators=15, random_state=42)\n",
        "\n",
        "# --------------- Classifier 4: SVM------------------------------------------\n",
        "svc = svm.SVC(kernel='rbf', probability=True, random_state=42)\n",
        "\n",
        "# Define a list to store the different models\n",
        "estimator = []\n",
        "estimator.append(('LR', lr))\n",
        "estimator.append(('XGB', xgb))\n",
        "estimator.append(('ada', ada))\n",
        "estimator.append(('SVC', svc))"
      ]
    },
    {
      "cell_type": "code",
      "execution_count": null,
      "id": "2JHZizlExaRy",
      "metadata": {
        "id": "2JHZizlExaRy"
      },
      "outputs": [],
      "source": [
        "### Implement voting classifier with hard voting\n",
        "\n",
        "meta_ml_model = VotingClassifier(estimators=estimator, voting='soft')\n",
        "meta_ml_model.fit(X_train_resampled, y_train_resampled)"
      ]
    },
    {
      "cell_type": "code",
      "execution_count": null,
      "id": "HU43Cg6jVq6j",
      "metadata": {
        "id": "HU43Cg6jVq6j"
      },
      "outputs": [],
      "source": [
        "y_true = y_test\n",
        "y_pred = meta_ml_model.predict(X_test)\n",
        "\n",
        "conf_matrix = confusion_matrix(y_true, y_pred)\n",
        "print(\"Confusion Matrix:\")\n",
        "print(conf_matrix)\n",
        "\n",
        "class_report = classification_report(y_true, y_pred)\n",
        "print(\"\\nClassification Report:\")\n",
        "print(class_report)"
      ]
    },
    {
      "cell_type": "code",
      "execution_count": null,
      "id": "tAR97BLJu44I",
      "metadata": {
        "id": "tAR97BLJu44I"
      },
      "outputs": [],
      "source": [
        "train['meta_results'] = meta_ml_model.predict(X_meta_features)"
      ]
    },
    {
      "cell_type": "code",
      "execution_count": null,
      "id": "ysM6YjQAj8QR",
      "metadata": {
        "id": "ysM6YjQAj8QR"
      },
      "outputs": [],
      "source": [
        "train.to_csv(root_data + 'Results/'+symbol+'train_l_Signals & Meta_Signals.csv')"
      ]
    },
    {
      "cell_type": "code",
      "execution_count": null,
      "id": "8Y71USlnxaRz",
      "metadata": {
        "id": "8Y71USlnxaRz"
      },
      "outputs": [],
      "source": [
        "### Save ML Model\n",
        "model_path = root_data + 'Models/'+symbol+'_'+direction+'_Meta_ml_model.joblib'\n",
        "joblib.dump(meta_ml_model, model_path)\n",
        "print(f\"Model saved successfully at: {model_path}\")"
      ]
    },
    {
      "cell_type": "markdown",
      "id": "dX1ehVSJJRC9",
      "metadata": {
        "id": "dX1ehVSJJRC9"
      },
      "source": [
        "## PnL Train"
      ]
    },
    {
      "cell_type": "code",
      "execution_count": null,
      "id": "kUfGrpS7kxyW",
      "metadata": {
        "id": "kUfGrpS7kxyW"
      },
      "outputs": [],
      "source": [
        "train['ml_results'] = np.where(train['label_ml']==1, train['st_PnL'],0)\n",
        "results(train, pnl_column='ml_results')"
      ]
    },
    {
      "cell_type": "code",
      "execution_count": null,
      "id": "USsAkHmUYkHT",
      "metadata": {
        "id": "USsAkHmUYkHT"
      },
      "outputs": [],
      "source": [
        "train['meta_ml_results'] = np.where(train['meta_results']==1, train['st_PnL'],0)\n",
        "results(train, pnl_column='meta_ml_results')"
      ]
    },
    {
      "cell_type": "markdown",
      "id": "60f86dad",
      "metadata": {
        "id": "60f86dad"
      },
      "source": [
        "\n",
        "# Test\n"
      ]
    },
    {
      "cell_type": "markdown",
      "id": "q7HA2vsxuup9",
      "metadata": {
        "id": "q7HA2vsxuup9"
      },
      "source": [
        "## Results_ML"
      ]
    },
    {
      "cell_type": "code",
      "execution_count": null,
      "id": "5Y218WrFnt-E",
      "metadata": {
        "colab": {
          "base_uri": "https://localhost:8080/"
        },
        "id": "5Y218WrFnt-E",
        "outputId": "c5a20f4f-b9f3-4da0-ca3c-0d8b3d41b2fd"
      },
      "outputs": [
        {
          "output_type": "stream",
          "name": "stdout",
          "text": [
            "Model loaded successfully from: /content/drive/MyDrive/Course Folder/Forex/XAUUSD/Models/BTCUSD_Short_ml_model.joblib\n"
          ]
        }
      ],
      "source": [
        "### Import ML Model\n",
        "\n",
        "model_path = root_data+'Models/'+symbol+'_'+direction+'_ml_model.joblib'\n",
        "ml_model = joblib.load(model_path)\n",
        "print(f\"Model loaded successfully from: {model_path}\")"
      ]
    },
    {
      "cell_type": "code",
      "execution_count": null,
      "id": "YiE7uKuaDqmf",
      "metadata": {
        "colab": {
          "base_uri": "https://localhost:8080/"
        },
        "id": "YiE7uKuaDqmf",
        "outputId": "18f0061d-75d9-4df3-cf20-a33ccd0ec816"
      },
      "outputs": [
        {
          "output_type": "stream",
          "name": "stdout",
          "text": [
            "Model loaded successfully from: /content/drive/MyDrive/Course Folder/Forex/XAUUSD/Models/BTCUSD_Short_Meta_ml_model.joblib\n"
          ]
        }
      ],
      "source": [
        "### Import Meta Model\n",
        "\n",
        "model_path = root_data+'Models/'+symbol+'_'+direction+'_Meta_ml_model.joblib'\n",
        "meta_ml_model = joblib.load(model_path)\n",
        "print(f\"Model loaded successfully from: {model_path}\")"
      ]
    },
    {
      "cell_type": "code",
      "execution_count": null,
      "id": "TGSpa4ZWrC3K",
      "metadata": {
        "colab": {
          "base_uri": "https://localhost:8080/"
        },
        "id": "TGSpa4ZWrC3K",
        "outputId": "24e1ba11-bb64-4512-ffbb-066c70fd99fc"
      },
      "outputs": [
        {
          "output_type": "stream",
          "name": "stdout",
          "text": [
            "Index(['Open', 'High', 'Low', 'Close', 'Volume', 'Spread', 'ATR', 'kal_1',\n",
            "       'kal_2', 'kal_3',\n",
            "       ...\n",
            "       'EMA_Crossover_7_20', 'ADX_17', 'ADX_20', 'skew_4',\n",
            "       'slope_signal_500_18', 'ADX_7', 'slope_lin_reg_signal_700_6',\n",
            "       'label_ml', 'prob_0', 'prob_1'],\n",
            "      dtype='object', length=389)\n"
          ]
        }
      ],
      "source": [
        "\n",
        "test['label_ml'] = ml_model.predict(test.loc[:,train_features])\n",
        "\n",
        "prediction_probabilities = ml_model.predict_proba(test.loc[:,train_features])\n",
        "test['prob_0'] = prediction_probabilities[:, 0]\n",
        "test['prob_1'] = prediction_probabilities[:, 1]\n",
        "\n",
        "print(test.columns)"
      ]
    },
    {
      "cell_type": "code",
      "execution_count": null,
      "id": "NHV2GIh8s-9b",
      "metadata": {
        "colab": {
          "base_uri": "https://localhost:8080/"
        },
        "id": "NHV2GIh8s-9b",
        "outputId": "5678135b-002a-4463-bb16-25df3f10a16e"
      },
      "outputs": [
        {
          "output_type": "stream",
          "name": "stdout",
          "text": [
            "Index(['Open', 'High', 'Low', 'Close', 'Volume', 'Spread', 'ATR', 'kal_1',\n",
            "       'kal_2', 'kal_3',\n",
            "       ...\n",
            "       'EMA_Crossover_7_20', 'ADX_17', 'ADX_20', 'skew_4',\n",
            "       'slope_signal_500_18', 'ADX_7', 'slope_lin_reg_signal_700_6',\n",
            "       'label_ml', 'prob_0', 'prob_1'],\n",
            "      dtype='object', length=389)\n"
          ]
        }
      ],
      "source": [
        "print(test.columns)"
      ]
    },
    {
      "cell_type": "code",
      "execution_count": null,
      "id": "L5v-IETUsv9j",
      "metadata": {
        "colab": {
          "base_uri": "https://localhost:8080/"
        },
        "id": "L5v-IETUsv9j",
        "outputId": "6130f8a8-0bda-4339-fed8-38729a79bee7"
      },
      "outputs": [
        {
          "output_type": "stream",
          "name": "stdout",
          "text": [
            "Confusion Matrix:\n",
            "[[1015 1051]\n",
            " [ 626 1618]]\n",
            "\n",
            "Classification Report:\n",
            "              precision    recall  f1-score   support\n",
            "\n",
            "           0       0.62      0.49      0.55      2066\n",
            "           1       0.61      0.72      0.66      2244\n",
            "\n",
            "    accuracy                           0.61      4310\n",
            "   macro avg       0.61      0.61      0.60      4310\n",
            "weighted avg       0.61      0.61      0.61      4310\n",
            "\n"
          ]
        }
      ],
      "source": [
        "# Calculate and display Confusion Matrix\n",
        "conf_matrix = confusion_matrix(test['label'], test['label_ml'])\n",
        "print(\"Confusion Matrix:\")\n",
        "print(conf_matrix)\n",
        "\n",
        "# Calculate and display Classification Report\n",
        "class_report = classification_report(test['label'], test['label_ml'])\n",
        "print(\"\\nClassification Report:\")\n",
        "print(class_report)"
      ]
    },
    {
      "cell_type": "code",
      "execution_count": null,
      "id": "O0tSbMwArC8a",
      "metadata": {
        "colab": {
          "base_uri": "https://localhost:8080/"
        },
        "id": "O0tSbMwArC8a",
        "outputId": "6217b936-75f4-4031-fc58-8b6eb5cea83a"
      },
      "outputs": [
        {
          "output_type": "stream",
          "name": "stdout",
          "text": [
            "Index(['Open', 'High', 'Low', 'Close', 'Volume', 'Spread', 'ATR', 'kal_1',\n",
            "       'kal_2', 'kal_3',\n",
            "       ...\n",
            "       'skew_4', 'slope_signal_500_18', 'ADX_7', 'slope_lin_reg_signal_700_6',\n",
            "       'label_ml', 'prob_0', 'prob_1', 'meta_label', 'meta_prob_0',\n",
            "       'meta_prob_1'],\n",
            "      dtype='object', length=392)\n"
          ]
        }
      ],
      "source": [
        "test['meta_label'] = meta_ml_model.predict(test.loc[:,meta])\n",
        "\n",
        "prediction_probabilities = meta_ml_model.predict_proba(test.loc[:,meta])\n",
        "test['meta_prob_0'] = prediction_probabilities[:, 0]\n",
        "test['meta_prob_1'] = prediction_probabilities[:, 1]\n",
        "\n",
        "print(test.columns)"
      ]
    },
    {
      "cell_type": "code",
      "execution_count": null,
      "id": "SgIOg4eErC_H",
      "metadata": {
        "colab": {
          "base_uri": "https://localhost:8080/"
        },
        "id": "SgIOg4eErC_H",
        "outputId": "0903e63a-35ea-4865-beed-edf76159392f"
      },
      "outputs": [
        {
          "output_type": "stream",
          "name": "stdout",
          "text": [
            "Confusion Matrix:\n",
            "[[1003 1063]\n",
            " [ 628 1616]]\n",
            "\n",
            "Classification Report:\n",
            "              precision    recall  f1-score   support\n",
            "\n",
            "           0       0.61      0.49      0.54      2066\n",
            "           1       0.60      0.72      0.66      2244\n",
            "\n",
            "    accuracy                           0.61      4310\n",
            "   macro avg       0.61      0.60      0.60      4310\n",
            "weighted avg       0.61      0.61      0.60      4310\n",
            "\n"
          ]
        }
      ],
      "source": [
        "# Calculate and display Confusion Matrix\n",
        "conf_matrix = confusion_matrix(test['label'], test['meta_label'])\n",
        "print(\"Confusion Matrix:\")\n",
        "print(conf_matrix)\n",
        "\n",
        "# Calculate and display Classification Report\n",
        "class_report = classification_report(test['label'], test['meta_label'])\n",
        "print(\"\\nClassification Report:\")\n",
        "print(class_report)"
      ]
    },
    {
      "cell_type": "markdown",
      "id": "_5BjO-5fvFjb",
      "metadata": {
        "id": "_5BjO-5fvFjb"
      },
      "source": [
        "## Results_PnL"
      ]
    },
    {
      "cell_type": "code",
      "execution_count": null,
      "id": "gj0_nEvuvvjB",
      "metadata": {
        "colab": {
          "base_uri": "https://localhost:8080/",
          "height": 374
        },
        "id": "gj0_nEvuvvjB",
        "outputId": "af92c164-0a1f-40e8-9ba7-0241f9ec91f4"
      },
      "outputs": [
        {
          "output_type": "execute_result",
          "data": {
            "text/plain": [
              "                    Results\n",
              "days                    212\n",
              "total_trades          4,310\n",
              "                           \n",
              "income          $318,062.91\n",
              "losses         $-115,050.91\n",
              "profits         $203,012.00\n",
              "                           \n",
              "profit_trades         1,244\n",
              "loss_trades           1,284\n",
              "                           \n",
              "% Win_Trades             49\n",
              "% Loss_Trades            51"
            ],
            "text/html": [
              "\n",
              "  <div id=\"df-e75df896-7372-4931-8e85-207d8bc6c4c4\" class=\"colab-df-container\">\n",
              "    <div>\n",
              "<style scoped>\n",
              "    .dataframe tbody tr th:only-of-type {\n",
              "        vertical-align: middle;\n",
              "    }\n",
              "\n",
              "    .dataframe tbody tr th {\n",
              "        vertical-align: top;\n",
              "    }\n",
              "\n",
              "    .dataframe thead th {\n",
              "        text-align: right;\n",
              "    }\n",
              "</style>\n",
              "<table border=\"1\" class=\"dataframe\">\n",
              "  <thead>\n",
              "    <tr style=\"text-align: right;\">\n",
              "      <th></th>\n",
              "      <th>Results</th>\n",
              "    </tr>\n",
              "  </thead>\n",
              "  <tbody>\n",
              "    <tr>\n",
              "      <th>days</th>\n",
              "      <td>212</td>\n",
              "    </tr>\n",
              "    <tr>\n",
              "      <th>total_trades</th>\n",
              "      <td>4,310</td>\n",
              "    </tr>\n",
              "    <tr>\n",
              "      <th></th>\n",
              "      <td></td>\n",
              "    </tr>\n",
              "    <tr>\n",
              "      <th>income</th>\n",
              "      <td>$318,062.91</td>\n",
              "    </tr>\n",
              "    <tr>\n",
              "      <th>losses</th>\n",
              "      <td>$-115,050.91</td>\n",
              "    </tr>\n",
              "    <tr>\n",
              "      <th>profits</th>\n",
              "      <td>$203,012.00</td>\n",
              "    </tr>\n",
              "    <tr>\n",
              "      <th></th>\n",
              "      <td></td>\n",
              "    </tr>\n",
              "    <tr>\n",
              "      <th>profit_trades</th>\n",
              "      <td>1,244</td>\n",
              "    </tr>\n",
              "    <tr>\n",
              "      <th>loss_trades</th>\n",
              "      <td>1,284</td>\n",
              "    </tr>\n",
              "    <tr>\n",
              "      <th></th>\n",
              "      <td></td>\n",
              "    </tr>\n",
              "    <tr>\n",
              "      <th>% Win_Trades</th>\n",
              "      <td>49</td>\n",
              "    </tr>\n",
              "    <tr>\n",
              "      <th>% Loss_Trades</th>\n",
              "      <td>51</td>\n",
              "    </tr>\n",
              "  </tbody>\n",
              "</table>\n",
              "</div>\n",
              "    <div class=\"colab-df-buttons\">\n",
              "\n",
              "  <div class=\"colab-df-container\">\n",
              "    <button class=\"colab-df-convert\" onclick=\"convertToInteractive('df-e75df896-7372-4931-8e85-207d8bc6c4c4')\"\n",
              "            title=\"Convert this dataframe to an interactive table.\"\n",
              "            style=\"display:none;\">\n",
              "\n",
              "  <svg xmlns=\"http://www.w3.org/2000/svg\" height=\"24px\" viewBox=\"0 -960 960 960\">\n",
              "    <path d=\"M120-120v-720h720v720H120Zm60-500h600v-160H180v160Zm220 220h160v-160H400v160Zm0 220h160v-160H400v160ZM180-400h160v-160H180v160Zm440 0h160v-160H620v160ZM180-180h160v-160H180v160Zm440 0h160v-160H620v160Z\"/>\n",
              "  </svg>\n",
              "    </button>\n",
              "\n",
              "  <style>\n",
              "    .colab-df-container {\n",
              "      display:flex;\n",
              "      gap: 12px;\n",
              "    }\n",
              "\n",
              "    .colab-df-convert {\n",
              "      background-color: #E8F0FE;\n",
              "      border: none;\n",
              "      border-radius: 50%;\n",
              "      cursor: pointer;\n",
              "      display: none;\n",
              "      fill: #1967D2;\n",
              "      height: 32px;\n",
              "      padding: 0 0 0 0;\n",
              "      width: 32px;\n",
              "    }\n",
              "\n",
              "    .colab-df-convert:hover {\n",
              "      background-color: #E2EBFA;\n",
              "      box-shadow: 0px 1px 2px rgba(60, 64, 67, 0.3), 0px 1px 3px 1px rgba(60, 64, 67, 0.15);\n",
              "      fill: #174EA6;\n",
              "    }\n",
              "\n",
              "    .colab-df-buttons div {\n",
              "      margin-bottom: 4px;\n",
              "    }\n",
              "\n",
              "    [theme=dark] .colab-df-convert {\n",
              "      background-color: #3B4455;\n",
              "      fill: #D2E3FC;\n",
              "    }\n",
              "\n",
              "    [theme=dark] .colab-df-convert:hover {\n",
              "      background-color: #434B5C;\n",
              "      box-shadow: 0px 1px 3px 1px rgba(0, 0, 0, 0.15);\n",
              "      filter: drop-shadow(0px 1px 2px rgba(0, 0, 0, 0.3));\n",
              "      fill: #FFFFFF;\n",
              "    }\n",
              "  </style>\n",
              "\n",
              "    <script>\n",
              "      const buttonEl =\n",
              "        document.querySelector('#df-e75df896-7372-4931-8e85-207d8bc6c4c4 button.colab-df-convert');\n",
              "      buttonEl.style.display =\n",
              "        google.colab.kernel.accessAllowed ? 'block' : 'none';\n",
              "\n",
              "      async function convertToInteractive(key) {\n",
              "        const element = document.querySelector('#df-e75df896-7372-4931-8e85-207d8bc6c4c4');\n",
              "        const dataTable =\n",
              "          await google.colab.kernel.invokeFunction('convertToInteractive',\n",
              "                                                    [key], {});\n",
              "        if (!dataTable) return;\n",
              "\n",
              "        const docLinkHtml = 'Like what you see? Visit the ' +\n",
              "          '<a target=\"_blank\" href=https://colab.research.google.com/notebooks/data_table.ipynb>data table notebook</a>'\n",
              "          + ' to learn more about interactive tables.';\n",
              "        element.innerHTML = '';\n",
              "        dataTable['output_type'] = 'display_data';\n",
              "        await google.colab.output.renderOutput(dataTable, element);\n",
              "        const docLink = document.createElement('div');\n",
              "        docLink.innerHTML = docLinkHtml;\n",
              "        element.appendChild(docLink);\n",
              "      }\n",
              "    </script>\n",
              "  </div>\n",
              "\n",
              "\n",
              "    <div id=\"df-dddb2fd0-c209-42aa-9f77-f0e5343619db\">\n",
              "      <button class=\"colab-df-quickchart\" onclick=\"quickchart('df-dddb2fd0-c209-42aa-9f77-f0e5343619db')\"\n",
              "                title=\"Suggest charts\"\n",
              "                style=\"display:none;\">\n",
              "\n",
              "<svg xmlns=\"http://www.w3.org/2000/svg\" height=\"24px\"viewBox=\"0 0 24 24\"\n",
              "     width=\"24px\">\n",
              "    <g>\n",
              "        <path d=\"M19 3H5c-1.1 0-2 .9-2 2v14c0 1.1.9 2 2 2h14c1.1 0 2-.9 2-2V5c0-1.1-.9-2-2-2zM9 17H7v-7h2v7zm4 0h-2V7h2v10zm4 0h-2v-4h2v4z\"/>\n",
              "    </g>\n",
              "</svg>\n",
              "      </button>\n",
              "\n",
              "<style>\n",
              "  .colab-df-quickchart {\n",
              "      --bg-color: #E8F0FE;\n",
              "      --fill-color: #1967D2;\n",
              "      --hover-bg-color: #E2EBFA;\n",
              "      --hover-fill-color: #174EA6;\n",
              "      --disabled-fill-color: #AAA;\n",
              "      --disabled-bg-color: #DDD;\n",
              "  }\n",
              "\n",
              "  [theme=dark] .colab-df-quickchart {\n",
              "      --bg-color: #3B4455;\n",
              "      --fill-color: #D2E3FC;\n",
              "      --hover-bg-color: #434B5C;\n",
              "      --hover-fill-color: #FFFFFF;\n",
              "      --disabled-bg-color: #3B4455;\n",
              "      --disabled-fill-color: #666;\n",
              "  }\n",
              "\n",
              "  .colab-df-quickchart {\n",
              "    background-color: var(--bg-color);\n",
              "    border: none;\n",
              "    border-radius: 50%;\n",
              "    cursor: pointer;\n",
              "    display: none;\n",
              "    fill: var(--fill-color);\n",
              "    height: 32px;\n",
              "    padding: 0;\n",
              "    width: 32px;\n",
              "  }\n",
              "\n",
              "  .colab-df-quickchart:hover {\n",
              "    background-color: var(--hover-bg-color);\n",
              "    box-shadow: 0 1px 2px rgba(60, 64, 67, 0.3), 0 1px 3px 1px rgba(60, 64, 67, 0.15);\n",
              "    fill: var(--button-hover-fill-color);\n",
              "  }\n",
              "\n",
              "  .colab-df-quickchart-complete:disabled,\n",
              "  .colab-df-quickchart-complete:disabled:hover {\n",
              "    background-color: var(--disabled-bg-color);\n",
              "    fill: var(--disabled-fill-color);\n",
              "    box-shadow: none;\n",
              "  }\n",
              "\n",
              "  .colab-df-spinner {\n",
              "    border: 2px solid var(--fill-color);\n",
              "    border-color: transparent;\n",
              "    border-bottom-color: var(--fill-color);\n",
              "    animation:\n",
              "      spin 1s steps(1) infinite;\n",
              "  }\n",
              "\n",
              "  @keyframes spin {\n",
              "    0% {\n",
              "      border-color: transparent;\n",
              "      border-bottom-color: var(--fill-color);\n",
              "      border-left-color: var(--fill-color);\n",
              "    }\n",
              "    20% {\n",
              "      border-color: transparent;\n",
              "      border-left-color: var(--fill-color);\n",
              "      border-top-color: var(--fill-color);\n",
              "    }\n",
              "    30% {\n",
              "      border-color: transparent;\n",
              "      border-left-color: var(--fill-color);\n",
              "      border-top-color: var(--fill-color);\n",
              "      border-right-color: var(--fill-color);\n",
              "    }\n",
              "    40% {\n",
              "      border-color: transparent;\n",
              "      border-right-color: var(--fill-color);\n",
              "      border-top-color: var(--fill-color);\n",
              "    }\n",
              "    60% {\n",
              "      border-color: transparent;\n",
              "      border-right-color: var(--fill-color);\n",
              "    }\n",
              "    80% {\n",
              "      border-color: transparent;\n",
              "      border-right-color: var(--fill-color);\n",
              "      border-bottom-color: var(--fill-color);\n",
              "    }\n",
              "    90% {\n",
              "      border-color: transparent;\n",
              "      border-bottom-color: var(--fill-color);\n",
              "    }\n",
              "  }\n",
              "</style>\n",
              "\n",
              "      <script>\n",
              "        async function quickchart(key) {\n",
              "          const quickchartButtonEl =\n",
              "            document.querySelector('#' + key + ' button');\n",
              "          quickchartButtonEl.disabled = true;  // To prevent multiple clicks.\n",
              "          quickchartButtonEl.classList.add('colab-df-spinner');\n",
              "          try {\n",
              "            const charts = await google.colab.kernel.invokeFunction(\n",
              "                'suggestCharts', [key], {});\n",
              "          } catch (error) {\n",
              "            console.error('Error during call to suggestCharts:', error);\n",
              "          }\n",
              "          quickchartButtonEl.classList.remove('colab-df-spinner');\n",
              "          quickchartButtonEl.classList.add('colab-df-quickchart-complete');\n",
              "        }\n",
              "        (() => {\n",
              "          let quickchartButtonEl =\n",
              "            document.querySelector('#df-dddb2fd0-c209-42aa-9f77-f0e5343619db button');\n",
              "          quickchartButtonEl.style.display =\n",
              "            google.colab.kernel.accessAllowed ? 'block' : 'none';\n",
              "        })();\n",
              "      </script>\n",
              "    </div>\n",
              "\n",
              "    </div>\n",
              "  </div>\n"
            ],
            "application/vnd.google.colaboratory.intrinsic+json": {
              "type": "dataframe",
              "summary": "{\n  \"name\": \"results(test, pnl_column='ml_results')\",\n  \"rows\": 12,\n  \"fields\": [\n    {\n      \"column\": \"Results\",\n      \"properties\": {\n        \"dtype\": \"string\",\n        \"num_unique_values\": 12,\n        \"samples\": [\n          \"49\",\n          \"  \",\n          \"212\"\n        ],\n        \"semantic_type\": \"\",\n        \"description\": \"\"\n      }\n    }\n  ]\n}"
            }
          },
          "metadata": {},
          "execution_count": 50
        }
      ],
      "source": [
        "test['ml_results'] = np.where(test['label_ml']==1, test['st_PnL'],0)\n",
        "results(test, pnl_column='ml_results')"
      ]
    },
    {
      "cell_type": "code",
      "execution_count": null,
      "id": "-iktKy5uvvjC",
      "metadata": {
        "colab": {
          "base_uri": "https://localhost:8080/",
          "height": 374
        },
        "id": "-iktKy5uvvjC",
        "outputId": "14dcb3c7-7eef-47f2-c1be-499b2aad7c3a"
      },
      "outputs": [
        {
          "output_type": "execute_result",
          "data": {
            "text/plain": [
              "                    Results\n",
              "days                    481\n",
              "total_trades         10,054\n",
              "                           \n",
              "income          $432,682.19\n",
              "losses         $-133,910.21\n",
              "profits         $298,771.98\n",
              "                           \n",
              "profit_trades         2,569\n",
              "loss_trades           2,358\n",
              "                           \n",
              "% Win_Trades             52\n",
              "% Loss_Trades            48"
            ],
            "text/html": [
              "\n",
              "  <div id=\"df-d0dcf42d-1591-4ee8-97b8-2e92856952ef\" class=\"colab-df-container\">\n",
              "    <div>\n",
              "<style scoped>\n",
              "    .dataframe tbody tr th:only-of-type {\n",
              "        vertical-align: middle;\n",
              "    }\n",
              "\n",
              "    .dataframe tbody tr th {\n",
              "        vertical-align: top;\n",
              "    }\n",
              "\n",
              "    .dataframe thead th {\n",
              "        text-align: right;\n",
              "    }\n",
              "</style>\n",
              "<table border=\"1\" class=\"dataframe\">\n",
              "  <thead>\n",
              "    <tr style=\"text-align: right;\">\n",
              "      <th></th>\n",
              "      <th>Results</th>\n",
              "    </tr>\n",
              "  </thead>\n",
              "  <tbody>\n",
              "    <tr>\n",
              "      <th>days</th>\n",
              "      <td>481</td>\n",
              "    </tr>\n",
              "    <tr>\n",
              "      <th>total_trades</th>\n",
              "      <td>10,054</td>\n",
              "    </tr>\n",
              "    <tr>\n",
              "      <th></th>\n",
              "      <td></td>\n",
              "    </tr>\n",
              "    <tr>\n",
              "      <th>income</th>\n",
              "      <td>$432,682.19</td>\n",
              "    </tr>\n",
              "    <tr>\n",
              "      <th>losses</th>\n",
              "      <td>$-133,910.21</td>\n",
              "    </tr>\n",
              "    <tr>\n",
              "      <th>profits</th>\n",
              "      <td>$298,771.98</td>\n",
              "    </tr>\n",
              "    <tr>\n",
              "      <th></th>\n",
              "      <td></td>\n",
              "    </tr>\n",
              "    <tr>\n",
              "      <th>profit_trades</th>\n",
              "      <td>2,569</td>\n",
              "    </tr>\n",
              "    <tr>\n",
              "      <th>loss_trades</th>\n",
              "      <td>2,358</td>\n",
              "    </tr>\n",
              "    <tr>\n",
              "      <th></th>\n",
              "      <td></td>\n",
              "    </tr>\n",
              "    <tr>\n",
              "      <th>% Win_Trades</th>\n",
              "      <td>52</td>\n",
              "    </tr>\n",
              "    <tr>\n",
              "      <th>% Loss_Trades</th>\n",
              "      <td>48</td>\n",
              "    </tr>\n",
              "  </tbody>\n",
              "</table>\n",
              "</div>\n",
              "    <div class=\"colab-df-buttons\">\n",
              "\n",
              "  <div class=\"colab-df-container\">\n",
              "    <button class=\"colab-df-convert\" onclick=\"convertToInteractive('df-d0dcf42d-1591-4ee8-97b8-2e92856952ef')\"\n",
              "            title=\"Convert this dataframe to an interactive table.\"\n",
              "            style=\"display:none;\">\n",
              "\n",
              "  <svg xmlns=\"http://www.w3.org/2000/svg\" height=\"24px\" viewBox=\"0 -960 960 960\">\n",
              "    <path d=\"M120-120v-720h720v720H120Zm60-500h600v-160H180v160Zm220 220h160v-160H400v160Zm0 220h160v-160H400v160ZM180-400h160v-160H180v160Zm440 0h160v-160H620v160ZM180-180h160v-160H180v160Zm440 0h160v-160H620v160Z\"/>\n",
              "  </svg>\n",
              "    </button>\n",
              "\n",
              "  <style>\n",
              "    .colab-df-container {\n",
              "      display:flex;\n",
              "      gap: 12px;\n",
              "    }\n",
              "\n",
              "    .colab-df-convert {\n",
              "      background-color: #E8F0FE;\n",
              "      border: none;\n",
              "      border-radius: 50%;\n",
              "      cursor: pointer;\n",
              "      display: none;\n",
              "      fill: #1967D2;\n",
              "      height: 32px;\n",
              "      padding: 0 0 0 0;\n",
              "      width: 32px;\n",
              "    }\n",
              "\n",
              "    .colab-df-convert:hover {\n",
              "      background-color: #E2EBFA;\n",
              "      box-shadow: 0px 1px 2px rgba(60, 64, 67, 0.3), 0px 1px 3px 1px rgba(60, 64, 67, 0.15);\n",
              "      fill: #174EA6;\n",
              "    }\n",
              "\n",
              "    .colab-df-buttons div {\n",
              "      margin-bottom: 4px;\n",
              "    }\n",
              "\n",
              "    [theme=dark] .colab-df-convert {\n",
              "      background-color: #3B4455;\n",
              "      fill: #D2E3FC;\n",
              "    }\n",
              "\n",
              "    [theme=dark] .colab-df-convert:hover {\n",
              "      background-color: #434B5C;\n",
              "      box-shadow: 0px 1px 3px 1px rgba(0, 0, 0, 0.15);\n",
              "      filter: drop-shadow(0px 1px 2px rgba(0, 0, 0, 0.3));\n",
              "      fill: #FFFFFF;\n",
              "    }\n",
              "  </style>\n",
              "\n",
              "    <script>\n",
              "      const buttonEl =\n",
              "        document.querySelector('#df-d0dcf42d-1591-4ee8-97b8-2e92856952ef button.colab-df-convert');\n",
              "      buttonEl.style.display =\n",
              "        google.colab.kernel.accessAllowed ? 'block' : 'none';\n",
              "\n",
              "      async function convertToInteractive(key) {\n",
              "        const element = document.querySelector('#df-d0dcf42d-1591-4ee8-97b8-2e92856952ef');\n",
              "        const dataTable =\n",
              "          await google.colab.kernel.invokeFunction('convertToInteractive',\n",
              "                                                    [key], {});\n",
              "        if (!dataTable) return;\n",
              "\n",
              "        const docLinkHtml = 'Like what you see? Visit the ' +\n",
              "          '<a target=\"_blank\" href=https://colab.research.google.com/notebooks/data_table.ipynb>data table notebook</a>'\n",
              "          + ' to learn more about interactive tables.';\n",
              "        element.innerHTML = '';\n",
              "        dataTable['output_type'] = 'display_data';\n",
              "        await google.colab.output.renderOutput(dataTable, element);\n",
              "        const docLink = document.createElement('div');\n",
              "        docLink.innerHTML = docLinkHtml;\n",
              "        element.appendChild(docLink);\n",
              "      }\n",
              "    </script>\n",
              "  </div>\n",
              "\n",
              "\n",
              "    <div id=\"df-3903a88f-35d3-44ca-8daa-032a69bfd1ac\">\n",
              "      <button class=\"colab-df-quickchart\" onclick=\"quickchart('df-3903a88f-35d3-44ca-8daa-032a69bfd1ac')\"\n",
              "                title=\"Suggest charts\"\n",
              "                style=\"display:none;\">\n",
              "\n",
              "<svg xmlns=\"http://www.w3.org/2000/svg\" height=\"24px\"viewBox=\"0 0 24 24\"\n",
              "     width=\"24px\">\n",
              "    <g>\n",
              "        <path d=\"M19 3H5c-1.1 0-2 .9-2 2v14c0 1.1.9 2 2 2h14c1.1 0 2-.9 2-2V5c0-1.1-.9-2-2-2zM9 17H7v-7h2v7zm4 0h-2V7h2v10zm4 0h-2v-4h2v4z\"/>\n",
              "    </g>\n",
              "</svg>\n",
              "      </button>\n",
              "\n",
              "<style>\n",
              "  .colab-df-quickchart {\n",
              "      --bg-color: #E8F0FE;\n",
              "      --fill-color: #1967D2;\n",
              "      --hover-bg-color: #E2EBFA;\n",
              "      --hover-fill-color: #174EA6;\n",
              "      --disabled-fill-color: #AAA;\n",
              "      --disabled-bg-color: #DDD;\n",
              "  }\n",
              "\n",
              "  [theme=dark] .colab-df-quickchart {\n",
              "      --bg-color: #3B4455;\n",
              "      --fill-color: #D2E3FC;\n",
              "      --hover-bg-color: #434B5C;\n",
              "      --hover-fill-color: #FFFFFF;\n",
              "      --disabled-bg-color: #3B4455;\n",
              "      --disabled-fill-color: #666;\n",
              "  }\n",
              "\n",
              "  .colab-df-quickchart {\n",
              "    background-color: var(--bg-color);\n",
              "    border: none;\n",
              "    border-radius: 50%;\n",
              "    cursor: pointer;\n",
              "    display: none;\n",
              "    fill: var(--fill-color);\n",
              "    height: 32px;\n",
              "    padding: 0;\n",
              "    width: 32px;\n",
              "  }\n",
              "\n",
              "  .colab-df-quickchart:hover {\n",
              "    background-color: var(--hover-bg-color);\n",
              "    box-shadow: 0 1px 2px rgba(60, 64, 67, 0.3), 0 1px 3px 1px rgba(60, 64, 67, 0.15);\n",
              "    fill: var(--button-hover-fill-color);\n",
              "  }\n",
              "\n",
              "  .colab-df-quickchart-complete:disabled,\n",
              "  .colab-df-quickchart-complete:disabled:hover {\n",
              "    background-color: var(--disabled-bg-color);\n",
              "    fill: var(--disabled-fill-color);\n",
              "    box-shadow: none;\n",
              "  }\n",
              "\n",
              "  .colab-df-spinner {\n",
              "    border: 2px solid var(--fill-color);\n",
              "    border-color: transparent;\n",
              "    border-bottom-color: var(--fill-color);\n",
              "    animation:\n",
              "      spin 1s steps(1) infinite;\n",
              "  }\n",
              "\n",
              "  @keyframes spin {\n",
              "    0% {\n",
              "      border-color: transparent;\n",
              "      border-bottom-color: var(--fill-color);\n",
              "      border-left-color: var(--fill-color);\n",
              "    }\n",
              "    20% {\n",
              "      border-color: transparent;\n",
              "      border-left-color: var(--fill-color);\n",
              "      border-top-color: var(--fill-color);\n",
              "    }\n",
              "    30% {\n",
              "      border-color: transparent;\n",
              "      border-left-color: var(--fill-color);\n",
              "      border-top-color: var(--fill-color);\n",
              "      border-right-color: var(--fill-color);\n",
              "    }\n",
              "    40% {\n",
              "      border-color: transparent;\n",
              "      border-right-color: var(--fill-color);\n",
              "      border-top-color: var(--fill-color);\n",
              "    }\n",
              "    60% {\n",
              "      border-color: transparent;\n",
              "      border-right-color: var(--fill-color);\n",
              "    }\n",
              "    80% {\n",
              "      border-color: transparent;\n",
              "      border-right-color: var(--fill-color);\n",
              "      border-bottom-color: var(--fill-color);\n",
              "    }\n",
              "    90% {\n",
              "      border-color: transparent;\n",
              "      border-bottom-color: var(--fill-color);\n",
              "    }\n",
              "  }\n",
              "</style>\n",
              "\n",
              "      <script>\n",
              "        async function quickchart(key) {\n",
              "          const quickchartButtonEl =\n",
              "            document.querySelector('#' + key + ' button');\n",
              "          quickchartButtonEl.disabled = true;  // To prevent multiple clicks.\n",
              "          quickchartButtonEl.classList.add('colab-df-spinner');\n",
              "          try {\n",
              "            const charts = await google.colab.kernel.invokeFunction(\n",
              "                'suggestCharts', [key], {});\n",
              "          } catch (error) {\n",
              "            console.error('Error during call to suggestCharts:', error);\n",
              "          }\n",
              "          quickchartButtonEl.classList.remove('colab-df-spinner');\n",
              "          quickchartButtonEl.classList.add('colab-df-quickchart-complete');\n",
              "        }\n",
              "        (() => {\n",
              "          let quickchartButtonEl =\n",
              "            document.querySelector('#df-3903a88f-35d3-44ca-8daa-032a69bfd1ac button');\n",
              "          quickchartButtonEl.style.display =\n",
              "            google.colab.kernel.accessAllowed ? 'block' : 'none';\n",
              "        })();\n",
              "      </script>\n",
              "    </div>\n",
              "\n",
              "    </div>\n",
              "  </div>\n"
            ],
            "application/vnd.google.colaboratory.intrinsic+json": {
              "type": "dataframe",
              "summary": "{\n  \"name\": \"results(train, pnl_column='meta_ml_results')\",\n  \"rows\": 12,\n  \"fields\": [\n    {\n      \"column\": \"Results\",\n      \"properties\": {\n        \"dtype\": \"string\",\n        \"num_unique_values\": 12,\n        \"samples\": [\n          \"52\",\n          \"  \",\n          \"481\"\n        ],\n        \"semantic_type\": \"\",\n        \"description\": \"\"\n      }\n    }\n  ]\n}"
            }
          },
          "metadata": {},
          "execution_count": 51
        }
      ],
      "source": [
        "train['meta_ml_results'] = np.where(train['meta_results']==1, train['st_PnL'],0)\n",
        "results(train, pnl_column='meta_ml_results')"
      ]
    },
    {
      "cell_type": "markdown",
      "id": "0410fd8b",
      "metadata": {
        "id": "0410fd8b"
      },
      "source": [
        "# Pendientes\n"
      ]
    },
    {
      "cell_type": "code",
      "source": [],
      "metadata": {
        "id": "CNhE1wXGVTYf"
      },
      "id": "CNhE1wXGVTYf",
      "execution_count": null,
      "outputs": []
    }
  ],
  "metadata": {
    "colab": {
      "collapsed_sections": [
        "m8CIB8vltFfH",
        "eaf03429",
        "zhTndYVi1TEV",
        "6x4lfhG3E2eq",
        "rhCVvXKxM2Uk",
        "dX1ehVSJJRC9"
      ],
      "provenance": []
    },
    "kernelspec": {
      "display_name": "Python 3 (ipykernel)",
      "language": "python",
      "name": "python3"
    },
    "language_info": {
      "codemirror_mode": {
        "name": "ipython",
        "version": 3
      },
      "file_extension": ".py",
      "mimetype": "text/x-python",
      "name": "python",
      "nbconvert_exporter": "python",
      "pygments_lexer": "ipython3",
      "version": "3.9.5"
    }
  },
  "nbformat": 4,
  "nbformat_minor": 5
}