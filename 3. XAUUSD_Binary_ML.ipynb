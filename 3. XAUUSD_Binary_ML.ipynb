{
  "cells": [
    {
      "cell_type": "markdown",
      "id": "-LNWLq2zhvUz",
      "metadata": {
        "id": "-LNWLq2zhvUz"
      },
      "source": []
    },
    {
      "cell_type": "markdown",
      "id": "Ysa-7eLvEMpE",
      "metadata": {
        "id": "Ysa-7eLvEMpE"
      },
      "source": [
        "# Gpu"
      ]
    },
    {
      "cell_type": "code",
      "execution_count": null,
      "id": "9GJAW8qAEM8f",
      "metadata": {
        "id": "9GJAW8qAEM8f"
      },
      "outputs": [],
      "source": [
        "!nvidia-smi"
      ]
    },
    {
      "cell_type": "code",
      "execution_count": null,
      "id": "FcIdAmrNERw-",
      "metadata": {
        "id": "FcIdAmrNERw-"
      },
      "outputs": [],
      "source": [
        "import tensorflow as tf\n",
        "tf.config.list_physical_devices('GPU')"
      ]
    },
    {
      "cell_type": "markdown",
      "id": "m8CIB8vltFfH",
      "metadata": {
        "id": "m8CIB8vltFfH"
      },
      "source": [
        "# Set_Up"
      ]
    },
    {
      "cell_type": "code",
      "execution_count": null,
      "id": "EB5RqjoAtFwl",
      "metadata": {
        "id": "EB5RqjoAtFwl"
      },
      "outputs": [],
      "source": [
        "strategy   = 'Kalman'\n",
        "process    = 'Train'\n",
        "symbol     = 'XAUUSD'\n",
        "direction  = 'Short'\n",
        "time_frame = 'M5'\n",
        "\n",
        "root_data = f'/content/drive/MyDrive/Course Folder/Forex/XAUUSD/'\n",
        "print(root_data)\n",
        "\n",
        "rolling_window = 100"
      ]
    },
    {
      "cell_type": "markdown",
      "id": "eaf03429",
      "metadata": {
        "id": "eaf03429"
      },
      "source": [
        "# Import_Libraries"
      ]
    },
    {
      "cell_type": "code",
      "execution_count": null,
      "id": "R9bTNmBwK_Up",
      "metadata": {
        "id": "R9bTNmBwK_Up"
      },
      "outputs": [],
      "source": [
        "!pip install ta-lib\n",
        "import talib as ta\n",
        "print(ta.__version__)"
      ]
    },
    {
      "cell_type": "code",
      "execution_count": null,
      "id": "bda1a01c",
      "metadata": {
        "id": "bda1a01c"
      },
      "outputs": [],
      "source": [
        "# Import libraries for data manipulation\n",
        "import numpy as np\n",
        "import pandas as pd\n",
        "import os\n",
        "import tensorflow as tf\n",
        "from datetime import timedelta\n",
        "\n",
        "# For machine learning models\n",
        "import xgboost\n",
        "from xgboost import XGBClassifier\n",
        "from sklearn.linear_model import LogisticRegression\n",
        "from sklearn.ensemble import VotingClassifier\n",
        "from sklearn.ensemble import ExtraTreesClassifier\n",
        "from sklearn.ensemble import AdaBoostClassifier\n",
        "from sklearn import svm\n",
        "from sklearn.preprocessing import StandardScaler\n",
        "from sklearn.metrics import classification_report, confusion_matrix\n",
        "from sklearn.model_selection import train_test_split # Import train_test_split\n",
        "\n",
        "from sklearn.model_selection import StratifiedKFold\n",
        "from sklearn.metrics import accuracy_score, precision_score, recall_score, f1_score\n",
        "\n",
        "from tensorflow.keras.models import Sequential\n",
        "from tensorflow.keras.layers import Dense\n",
        "\n",
        "from tensorflow.keras.models import load_model\n",
        "\n",
        "from imblearn.over_sampling import SMOTE\n",
        "from sklearn.model_selection import GridSearchCV\n",
        "\n",
        "# Import matplotlib as an alias plt and set the style\n",
        "import matplotlib.pyplot as plt\n",
        "%matplotlib inline\n",
        "plt.style.use(\"seaborn-v0_8-whitegrid\")\n",
        "\n",
        "# Import sys to append the path for custom function file\n",
        "import sys\n",
        "sys.path.append(\"..\")\n",
        "\n",
        "# Ignore warnings\n",
        "import warnings\n",
        "warnings.filterwarnings('ignore')\n",
        "\n",
        "import joblib"
      ]
    },
    {
      "cell_type": "code",
      "execution_count": null,
      "metadata": {
        "id": "7cgMmtFUWz0c"
      },
      "outputs": [],
      "source": [
        "def confusion_probability_summary(y_true, y_pred, positive_class_probabilities, positive_class=1):\n",
        "    \"\"\"\n",
        "    Calculate summary statistics of predicted probabilities for each outcome in a confusion matrix.\n",
        "    \"\"\"\n",
        "    data = pd.DataFrame({\n",
        "        'actual': np.asarray(y_true),\n",
        "        'predicted': np.asarray(y_pred),\n",
        "        'prob_positive': np.asarray(positive_class_probabilities),\n",
        "    })\n",
        "\n",
        "    outcomes = {\n",
        "        'True Positive': (data['actual'] == positive_class) & (data['predicted'] == positive_class),\n",
        "        'False Positive': (data['actual'] != positive_class) & (data['predicted'] == positive_class),\n",
        "        'True Negative': (data['actual'] != positive_class) & (data['predicted'] != positive_class),\n",
        "        'False Negative': (data['actual'] == positive_class) & (data['predicted'] != positive_class),\n",
        "    }\n",
        "\n",
        "    summary_rows = []\n",
        "    for outcome, mask in outcomes.items():\n",
        "        probabilities = data.loc[mask, 'prob_positive']\n",
        "        summary_rows.append({\n",
        "            'Outcome': outcome,\n",
        "            'Count': int(probabilities.count()),\n",
        "            'Mean Probability': probabilities.mean() if not probabilities.empty else np.nan,\n",
        "            'Std Probability': probabilities.std(ddof=0) if probabilities.count() > 1 else np.nan,\n",
        "        })\n",
        "\n",
        "    summary = pd.DataFrame(summary_rows).set_index('Outcome')\n",
        "    return summary\n"
      ],
      "id": "7cgMmtFUWz0c"
    },
    {
      "cell_type": "code",
      "execution_count": null,
      "id": "DMuFtzf54JN8",
      "metadata": {
        "id": "DMuFtzf54JN8"
      },
      "outputs": [],
      "source": [
        "from google.colab import drive\n",
        "drive.mount('/content/drive')"
      ]
    },
    {
      "cell_type": "markdown",
      "id": "zhTndYVi1TEV",
      "metadata": {
        "id": "zhTndYVi1TEV"
      },
      "source": [
        "# Support Functions"
      ]
    },
    {
      "cell_type": "code",
      "execution_count": null,
      "id": "FYEryjzTLPf8",
      "metadata": {
        "id": "FYEryjzTLPf8"
      },
      "outputs": [],
      "source": [
        "def results(data, pnl_column='PnL'):\n",
        "    # Calculate the metrics\n",
        "    time_difference = data.index.max() - data.index.min()\n",
        "    days = time_difference.days\n",
        "    total_trades = data[data['Open_Trade'].notna() & (data['Open_Trade'] != 0)].shape[0]\n",
        "    profit_trades = data[data[pnl_column] > 0].shape[0]\n",
        "    loss_trades = data[data[pnl_column] < 0].shape[0]\n",
        "    profits = data[data[pnl_column] > 0][pnl_column].sum()\n",
        "    losses = data[data[pnl_column] < 0][pnl_column].sum()\n",
        "\n",
        "    # Create a dictionary with the results\n",
        "    results_dict = {\n",
        "        'days': days,\n",
        "        'total_trades': total_trades,\n",
        "        '': '',\n",
        "        'income': profits,\n",
        "        'losses': losses,\n",
        "        'profits': profits + losses,\n",
        "        ' ':' ',\n",
        "        'profit_trades': profit_trades,\n",
        "        'loss_trades': loss_trades,\n",
        "        '  ':'  ',\n",
        "        '% Win_Trades': profit_trades / (profit_trades + loss_trades) * 100 if (profit_trades + loss_trades) > 0 else 0,\n",
        "        '% Loss_Trades': loss_trades / (profit_trades + loss_trades)*100 if (profit_trades + loss_trades) > 0 else 0\n",
        "    }\n",
        "\n",
        "    # Create a DataFrame from the dictionary and transpose it\n",
        "    perf_metrics = pd.DataFrame([results_dict]).T\n",
        "\n",
        "    # Rename the column\n",
        "    perf_metrics.rename(columns={0: 'Results'}, inplace=True)\n",
        "\n",
        "    # Format the DataFrame for display\n",
        "    perf_metrics.loc[['days', 'total_trades', 'profit_trades', 'loss_trades','% Win_Trades','% Loss_Trades'], 'Results'] = perf_metrics.loc[['days', 'total_trades', 'profit_trades', 'loss_trades','% Win_Trades','% Loss_Trades'], 'Results'].apply(lambda x: f\"{x:,.0f}\" if pd.notna(x) else '')\n",
        "    perf_metrics.loc[['income', 'losses', 'profits'], 'Results'] = perf_metrics.loc[['income', 'losses', 'profits'], 'Results'].apply(lambda x: f\"${x:,.2f}\" if pd.notna(x) else '')\n",
        "\n",
        "    return perf_metrics"
      ]
    },
    {
      "cell_type": "code",
      "execution_count": null,
      "id": "fB8uDm2F1TS1",
      "metadata": {
        "id": "fB8uDm2F1TS1"
      },
      "outputs": [],
      "source": [
        "def create_features(train_data, index):\n",
        "    short_periods = [3, 5, 7, 10, 15, 17]\n",
        "    long_periods = [20, 22, 66, 126, 252]\n",
        "    periods = short_periods + long_periods\n",
        "\n",
        "    features = pd.DataFrame(index=index)\n",
        "\n",
        "    # Indicators that do not depend on the lookback period\n",
        "    features['OBV'] = ta.OBV(train_data['Close'], train_data['Volume'])\n",
        "    features['AD'] = ta.AD(train_data['High'], train_data['Low'],\n",
        "                           train_data['Close'], train_data['Volume'])\n",
        "\n",
        "    # Pre-compute moving averages to avoid repeated calculations\n",
        "    sma = {p: ta.SMA(train_data['Close'], timeperiod=p) for p in periods}\n",
        "    ema = {p: ta.EMA(train_data['Close'], timeperiod=p) for p in periods}\n",
        "\n",
        "    for period in periods:\n",
        "        features[f'RSI_{period}'] = ta.RSI(train_data['Close'], timeperiod=period)\n",
        "        features[f'MFI_{period}'] = ta.MFI(train_data['High'], train_data['Low'],\n",
        "                                           train_data['Close'], train_data['Volume'],\n",
        "                                           timeperiod=period)\n",
        "        features[f'ADX_{period}'] = ta.ADX(train_data['High'], train_data['Low'],\n",
        "                                           train_data['Close'], timeperiod=period)\n",
        "        features[f'ROCP_{period}'] = ta.ROCP(train_data['Close'], timeperiod=period)\n",
        "\n",
        "    for s in short_periods:\n",
        "        for l in long_periods:\n",
        "            features[f'SMA_Crossover_{s}_{l}'] = sma[s] - sma[l]\n",
        "            features[f'EMA_Crossover_{s}_{l}'] = ema[s] - ema[l]\n",
        "\n",
        "    features.dropna(inplace=True)\n",
        "    return features\n"
      ]
    },
    {
      "cell_type": "code",
      "execution_count": null,
      "id": "196899d1",
      "metadata": {
        "id": "196899d1"
      },
      "outputs": [],
      "source": [
        "def strategy_returns_dynamic_different_thresholds(prices, threshold):\n",
        "    rolling = prices['Rolling Returns'].to_numpy()\n",
        "    yearly_std = prices['Yearly Stdev'].to_numpy()\n",
        "    pct_change = prices['Close'].pct_change().to_numpy()\n",
        "    signals = np.zeros(len(prices), dtype=np.int8)\n",
        "\n",
        "    curr_pos = 0\n",
        "    hold_days = 0\n",
        "    for i in range(len(prices)):\n",
        "        if curr_pos == 0 or hold_days == 20:\n",
        "            thresh_val = threshold * yearly_std[i]\n",
        "            if rolling[i] >= thresh_val:\n",
        "                curr_pos = 1\n",
        "                hold_days = 0\n",
        "            elif rolling[i] < -thresh_val:\n",
        "                curr_pos = -1\n",
        "                hold_days = 0\n",
        "            else:\n",
        "                curr_pos = 0\n",
        "                hold_days = 0\n",
        "        else:\n",
        "            hold_days += 1\n",
        "        signals[i] = curr_pos\n",
        "\n",
        "    prices[f'Signal_{threshold}'] = signals\n",
        "    strategy_returns = pct_change * np.roll(signals, 1)\n",
        "    prices[f'Strategy Returns_{threshold}'] = strategy_returns\n",
        "    return np.cumprod(strategy_returns + 1)\n",
        "\n",
        "\n",
        "def strategy_returns_different_thresholds(prices, threshold):\n",
        "    rolling = prices['Rolling Returns'].to_numpy()\n",
        "    pct_change = prices['Close'].pct_change().to_numpy()\n",
        "    signals = np.zeros(len(prices), dtype=np.int8)\n",
        "\n",
        "    curr_pos = 0\n",
        "    hold_days = 0\n",
        "    for i in range(len(prices)):\n",
        "        if curr_pos == 0 or hold_days == 20:\n",
        "            if rolling[i] >= threshold:\n",
        "                curr_pos = 1\n",
        "                hold_days = 0\n",
        "            elif rolling[i] < threshold:\n",
        "                curr_pos = -1\n",
        "                hold_days = 0\n",
        "        else:\n",
        "            hold_days += 1\n",
        "        signals[i] = curr_pos\n",
        "\n",
        "    prices[f'Signal_{threshold}'] = signals\n",
        "    strategy_returns = pct_change * np.roll(signals, 1)\n",
        "    prices[f'Strategy Returns_{threshold}'] = strategy_returns\n",
        "    return np.cumprod(strategy_returns + 1)\n"
      ]
    },
    {
      "cell_type": "markdown",
      "id": "0ZOg20zC2Gei",
      "metadata": {
        "id": "0ZOg20zC2Gei"
      },
      "source": [
        "# Data"
      ]
    },
    {
      "cell_type": "code",
      "execution_count": 214,
      "id": "dyGl1MUHVebJ",
      "metadata": {
        "id": "dyGl1MUHVebJ"
      },
      "outputs": [],
      "source": [
        "data_type = 'Scale'"
      ]
    },
    {
      "cell_type": "code",
      "execution_count": 215,
      "id": "oZ4oncRY2Kv_",
      "metadata": {
        "colab": {
          "base_uri": "https://localhost:8080/"
        },
        "id": "oZ4oncRY2Kv_",
        "outputId": "0cd12657-1cb4-45ee-c762-4eaf2a077a03"
      },
      "outputs": [
        {
          "output_type": "stream",
          "name": "stdout",
          "text": [
            "The train_data DataFrame covers a period of 937 days.\n"
          ]
        }
      ],
      "source": [
        "### Open OHLC dataframe\n",
        "\n",
        "ohlc = pd.read_csv(root_data + 'Data/'+symbol+'_M5.csv', index_col=0)\n",
        "ohlc.index = pd.to_datetime(ohlc.index)\n",
        "time_difference = ohlc.index.max() - ohlc.index.min()\n",
        "number_of_days = time_difference.days\n",
        "\n",
        "print(f\"The train_data DataFrame covers a period of {number_of_days} days.\")"
      ]
    },
    {
      "cell_type": "code",
      "execution_count": 216,
      "id": "vZHp1PgT2L7e",
      "metadata": {
        "colab": {
          "base_uri": "https://localhost:8080/",
          "height": 0
        },
        "id": "vZHp1PgT2L7e",
        "outputId": "ec67cfc4-1f1e-465c-e17c-15eacdc1ae47"
      },
      "outputs": [
        {
          "output_type": "stream",
          "name": "stdout",
          "text": [
            "['label', '10min_RSI_3_diff', '10min_RSI_3 - RSI_7', '10min_slope_angle_900_3_diff', '10min_slope_div_600_3_diff', '10min_slope_angle_600_3_diff', '10min_slope_lin_reg_signal_600_3 - slope_lin_reg_signal_600_9', '10min_slope_lin_reg_300_3_diff', '10min_slope_signal_900_9_diff', '10min_slope_div_300_3_diff', '10min_OBV_diff', '10min_slope_signal_300_3_diff', 'slope_angle_300_6_diff', '10min_slope_lin_reg_signal_300_3 - slope_lin_reg_signal_900_9', '10min_slope_angle_300_9_diff', '10min_slope_signal_300_3 - slope_signal_600_3', '10min_slope_div_300_3 - slope_div_900_6', '10min_slope_lin_reg_signal_300_3_diff', 'RSI_7 - RSI_14', 'slope_div_300_3_diff', 'slope_lin_reg_signal_300_3_diff', '10min_slope_angle_300_6 - slope_angle_600_6', 'slope_div_300_6_diff', 'slope_div_300_9_diff', '10min_slope_signal_300_6_diff', 'slope_lin_reg_signal_600_3_diff', 'Open_Trade', '10min_slope_angle_300_9 - slope_angle_600_3', '10min_slope_signal_900_6_diff', '10min_slope_lin_reg_signal_300_3 - slope_lin_reg_signal_600_9', 'slope_lin_reg_300_3 - slope_lin_reg_600_3', 'slope_lin_reg_signal_300_9 - slope_lin_reg_signal_900_6', '10min_slope_angle_300_6 - slope_angle_600_3', '10min_slope_signal_600_3_diff', 'slope_div_300_3 - slope_div_300_6', 'slope_angle_600_6 - slope_angle_600_9', '10min_slope_angle_300_6_diff', '10min_slope_lin_reg_signal_300_6 - slope_lin_reg_signal_900_3', '10min_slope_lin_reg_signal_600_9 - slope_lin_reg_signal_900_6', '10min_slope_angle_300_3 - slope_angle_600_3', '10min_slope_angle_300_3_diff', '10min_slope_signal_300_9 - slope_signal_600_3', '10min_slope_lin_reg_signal_300_6 - slope_lin_reg_signal_600_9', '10min_slope_lin_reg_signal_300_3 - slope_lin_reg_signal_300_9', '10min_slope_lin_reg_600_3 - slope_lin_reg_900_9', '10min_slope_div_300_3 - slope_div_300_6', '10min_slope_angle_300_3 - slope_angle_300_6', 'slope_div_300_6 - slope_div_600_9', '10min_slope_signal_900_3_diff', '10min_slope_signal_600_3 - slope_signal_900_3', 'slope_signal_600_3 - slope_signal_900_9', '10min_slope_div_600_3 - slope_div_600_6', 'slope_angle_900_3 - slope_angle_900_6', '10min_slope_angle_600_9_diff', 'RSI_3_diff', 'slope_lin_reg_signal_300_3 - slope_lin_reg_signal_900_3', '10min_MFI_3_diff', '10min_slope_signal_300_6 - slope_signal_600_3', '10min_slope_angle_600_3 - slope_angle_600_9', 'slope_lin_reg_300_6_diff', '10min_slope_angle_600_6 - slope_angle_900_3', 'slope_div_300_9 - slope_div_600_9', 'RSI_3 - RSI_7', 'slope_angle_300_3_diff', '10min_slope_lin_reg_signal_600_3 - slope_lin_reg_signal_900_9', '10min_slope_signal_600_9 - slope_signal_900_6', '10min_slope_div_300_6_diff', 'slope_angle_300_6 - slope_angle_600_3', 'slope_div_300_6 - slope_div_900_9', '10min_slope_signal_600_6 - slope_signal_900_6', '10min_slope_angle_600_6_diff', 'slope_angle_600_9_diff', '10min_slope_lin_reg_signal_600_6 - slope_lin_reg_signal_600_9', '10min_slope_signal_600_6 - slope_signal_900_9', '10min_slope_lin_reg_signal_900_3_diff', 'slope_angle_600_3_diff', 'slope_angle_600_3 - slope_angle_600_6', 'slope_lin_reg_signal_300_9 - slope_lin_reg_signal_900_3', '10min_slope_signal_300_6 - slope_signal_900_9', '10min_slope_lin_reg_signal_300_9 - slope_lin_reg_signal_600_3', 'slope_lin_reg_signal_600_6 - slope_lin_reg_signal_900_6', '10min_slope_angle_300_9 - slope_angle_900_6', 'slope_signal_900_6_diff', '10min_slope_lin_reg_signal_300_3 - slope_lin_reg_signal_600_3', '10min_slope_signal_900_6 - slope_signal_900_9', '10min_slope_angle_600_9 - slope_angle_900_9', 'slope_signal_300_6 - slope_signal_600_3', 'slope_angle_300_6 - slope_angle_900_9', 'slope_signal_300_9 - slope_signal_600_9', 'slope_angle_600_6_diff', 'slope_angle_300_9 - slope_angle_900_9', 'slope_lin_reg_signal_300_6 - slope_lin_reg_signal_900_6', '10min_MFI_3 - MFI_7', '10min_slope_signal_300_3 - slope_signal_900_9', 'slope_signal_300_9 - slope_signal_900_9', '10min_slope_angle_300_6 - slope_angle_600_9', 'slope_signal_600_9_diff', '10min_slope_angle_300_6 - slope_angle_900_9', '10min_slope_signal_300_6 - slope_signal_300_9', 'slope_signal_600_3_diff', 'slope_angle_300_3 - slope_angle_600_6', '10min_slope_signal_300_6 - slope_signal_900_6', 'slope_lin_reg_signal_300_3 - slope_lin_reg_signal_600_9', '10min_slope_div_300_3 - slope_div_600_6', 'slope_signal_300_6 - slope_signal_300_9', '10min_slope_div_600_3 - slope_div_900_6', 'slope_signal_600_9 - slope_signal_900_9', 'slope_signal_300_3 - slope_signal_600_9', 'slope_angle_300_3 - slope_angle_300_6', '10min_slope_signal_300_6 - slope_signal_600_9', '10min_slope_angle_300_3 - slope_angle_900_3', 'slope_angle_900_3_diff', 'slope_lin_reg_signal_300_3 - slope_lin_reg_signal_600_3', 'slope_signal_600_6 - slope_signal_900_9', '10min_slope_signal_300_3 - slope_signal_300_9', '10min_slope_signal_300_9 - slope_signal_900_6', '10min_slope_lin_reg_300_3 - slope_lin_reg_600_9', '10min_slope_lin_reg_signal_600_6 - slope_lin_reg_signal_900_6', '10min_slope_lin_reg_signal_900_9_diff', 'slope_signal_600_6_diff', '10min_slope_angle_300_3 - slope_angle_600_9', '10min_slope_signal_300_9 - slope_signal_600_9', 'slope_div_300_6 - slope_div_300_9', '10min_slope_lin_reg_signal_300_9 - slope_lin_reg_signal_900_6', 'slope_signal_300_3 - slope_signal_900_9', '10min_slope_angle_300_9 - slope_angle_900_9', '10min_slope_lin_reg_signal_300_3 - slope_lin_reg_signal_900_6', 'slope_angle_600_6 - slope_angle_900_3', '10min_slope_div_300_6 - slope_div_600_9', '10min_slope_lin_reg_signal_300_3 - slope_lin_reg_signal_300_6', 'slope_lin_reg_signal_300_6 - slope_lin_reg_signal_600_9', '10min_slope_lin_reg_signal_300_9 - slope_lin_reg_signal_900_3', '10min_slope_angle_900_3 - slope_angle_900_6', 'slope_angle_300_6 - slope_angle_600_9', '10min_slope_lin_reg_signal_600_3 - slope_lin_reg_signal_600_6', 'slope_lin_reg_signal_600_6_diff', '10min_slope_lin_reg_signal_900_3 - slope_lin_reg_signal_900_9', '10min_MFI_14_diff', 'slope_angle_300_9 - slope_angle_600_9', '10min_slope_lin_reg_signal_900_6 - slope_lin_reg_signal_900_9', 'slope_signal_300_3 - slope_signal_900_6', 'OBV_diff', 'slope_angle_300_3 - slope_angle_900_9', 'slope_lin_reg_signal_600_3 - slope_lin_reg_signal_600_6', '10min_slope_angle_300_9 - slope_angle_600_9', '10min_slope_lin_reg_signal_600_9 - slope_lin_reg_signal_900_3', '10min_slope_lin_reg_signal_300_3 - slope_lin_reg_signal_900_3', '10min_slope_angle_300_3 - slope_angle_600_6', '10min_slope_angle_300_3 - slope_angle_300_9', 'slope_lin_reg_signal_600_9_diff', '10min_slope_angle_600_3 - slope_angle_900_3', 'slope_lin_reg_signal_600_3 - slope_lin_reg_signal_600_9', 'slope_signal_300_9 - slope_signal_600_6', 'slope_lin_reg_600_6_diff', '10min_slope_signal_600_6_diff', 'slope_angle_300_3 - slope_angle_600_9', '10min_slope_angle_900_9_diff', 'slope_angle_600_6 - slope_angle_900_9', '10min_slope_signal_300_3 - slope_signal_900_6', 'slope_angle_300_9 - slope_angle_600_6', 'slope_signal_600_6 - slope_signal_600_9', '10min_slope_lin_reg_signal_600_3 - slope_lin_reg_signal_900_6', 'slope_signal_300_3 - slope_signal_600_6', 'slope_lin_reg_signal_300_3 - slope_lin_reg_signal_300_9', 'slope_angle_600_3 - slope_angle_900_6', 'slope_angle_300_3 - slope_angle_600_3', 'slope_lin_reg_signal_900_3 - slope_lin_reg_signal_900_9', '10min_slope_lin_reg_signal_600_3 - slope_lin_reg_signal_900_3', 'slope_lin_reg_signal_900_6 - slope_lin_reg_signal_900_9', '10min_slope_angle_600_9 - slope_angle_900_6', '10min_slope_div_300_6 - slope_div_900_9', '10min_slope_lin_reg_signal_300_6 - slope_lin_reg_signal_600_6', 'slope_lin_reg_signal_600_3 - slope_lin_reg_signal_900_6', 'slope_angle_300_6 - slope_angle_300_9', 'slope_lin_reg_signal_600_6 - slope_lin_reg_signal_900_9', '10min_slope_lin_reg_signal_600_3_diff', 'MFI_7 - MFI_14', '10min_slope_angle_600_3 - slope_angle_900_9', 'slope_angle_300_6 - slope_angle_900_6', '10min_slope_lin_reg_signal_300_6 - slope_lin_reg_signal_900_6', 'MFI_14_diff', '10min_slope_angle_300_3 - slope_angle_900_6', 'slope_signal_600_9 - slope_signal_900_6', 'slope_signal_600_3 - slope_signal_900_3', 'slope_angle_300_9 - slope_angle_900_6', '10min_slope_signal_300_3 - slope_signal_600_9', '10min_slope_lin_reg_signal_600_6 - slope_lin_reg_signal_900_3', 'slope_lin_reg_600_9_diff', 'slope_lin_reg_signal_300_6 - slope_lin_reg_signal_600_6', '10min_slope_angle_600_3 - slope_angle_600_6', 'slope_angle_600_9 - slope_angle_900_9', '10min_slope_lin_reg_signal_300_6 - slope_lin_reg_signal_900_9', '10min_slope_lin_reg_signal_900_3 - slope_lin_reg_signal_900_6', 'slope_lin_reg_signal_300_3 - slope_lin_reg_signal_900_9', 'slope_lin_reg_signal_300_9 - slope_lin_reg_signal_600_3', 'slope_angle_600_9 - slope_angle_900_6', 'slope_signal_300_3 - slope_signal_900_3', 'MFI_3_diff', 'slope_signal_300_6 - slope_signal_900_6', 'slope_lin_reg_signal_300_9 - slope_lin_reg_signal_600_6', 'slope_lin_reg_signal_900_9_diff', 'slope_signal_300_6 - slope_signal_600_6', 'slope_signal_900_3_diff', 'slope_signal_300_6 - slope_signal_600_9', '10min_slope_signal_300_3 - slope_signal_600_6', 'slope_div_300_3 - slope_div_600_6', 'slope_angle_900_6_diff', '10min_slope_angle_300_3 - slope_angle_900_9', '10min_slope_lin_reg_signal_600_9 - slope_lin_reg_signal_900_9', 'slope_angle_600_6 - slope_angle_900_6', 'slope_lin_reg_signal_300_6 - slope_lin_reg_signal_900_3', 'slope_lin_reg_signal_600_6 - slope_lin_reg_signal_600_9', '10min_MFI_3 - MFI_14', 'slope_signal_600_3 - slope_signal_900_6', '10min_slope_signal_600_9 - slope_signal_900_9', '10min_slope_angle_300_6 - slope_angle_900_3', '10min_slope_signal_300_3 - slope_signal_300_6', '10min_slope_lin_reg_signal_600_6_diff', 'slope_signal_900_6 - slope_signal_900_9', 'slope_angle_300_3 - slope_angle_900_6', 'slope_lin_reg_signal_600_9 - slope_lin_reg_signal_900_6', 'slope_signal_600_6 - slope_signal_900_6', 'slope_angle_300_3 - slope_angle_300_9', '10min_slope_lin_reg_signal_300_9_diff', 'slope_signal_600_3 - slope_signal_600_6'] \n",
            "\n",
            "Shape =  (28924, 225)\n"
          ]
        },
        {
          "output_type": "execute_result",
          "data": {
            "text/plain": [
              "                     label  10min_RSI_3_diff  10min_RSI_3 - RSI_7  \\\n",
              "Date                                                                \n",
              "2025-07-26 21:25:00      1          0.378237             1.637643   \n",
              "2025-07-26 22:25:00      1          0.378237             1.637643   \n",
              "2025-07-26 23:05:00      1         -0.378237            -1.637643   \n",
              "\n",
              "                     10min_slope_angle_900_3_diff  10min_slope_div_600_3_diff  \\\n",
              "Date                                                                            \n",
              "2025-07-26 21:25:00                     -0.000604                   -0.252278   \n",
              "2025-07-26 22:25:00                     -0.000604                   -0.252278   \n",
              "2025-07-26 23:05:00                      0.000604                    0.252278   \n",
              "\n",
              "                     10min_slope_angle_600_3_diff  \\\n",
              "Date                                                \n",
              "2025-07-26 21:25:00                     -0.000309   \n",
              "2025-07-26 22:25:00                     -0.000309   \n",
              "2025-07-26 23:05:00                      0.000309   \n",
              "\n",
              "                     10min_slope_lin_reg_signal_600_3 - slope_lin_reg_signal_600_9  \\\n",
              "Date                                                                                 \n",
              "2025-07-26 21:25:00                                          -0.107928               \n",
              "2025-07-26 22:25:00                                          -0.107928               \n",
              "2025-07-26 23:05:00                                           0.107928               \n",
              "\n",
              "                     10min_slope_lin_reg_300_3_diff  \\\n",
              "Date                                                  \n",
              "2025-07-26 21:25:00                        1.412983   \n",
              "2025-07-26 22:25:00                        1.412983   \n",
              "2025-07-26 23:05:00                       -1.412983   \n",
              "\n",
              "                     10min_slope_signal_900_9_diff  \\\n",
              "Date                                                 \n",
              "2025-07-26 21:25:00                            0.0   \n",
              "2025-07-26 22:25:00                            0.0   \n",
              "2025-07-26 23:05:00                           -0.0   \n",
              "\n",
              "                     10min_slope_div_300_3_diff  ...  \\\n",
              "Date                                             ...   \n",
              "2025-07-26 21:25:00                    0.261028  ...   \n",
              "2025-07-26 22:25:00                    0.261028  ...   \n",
              "2025-07-26 23:05:00                   -0.261028  ...   \n",
              "\n",
              "                     10min_slope_angle_300_6 - slope_angle_900_3  \\\n",
              "Date                                                               \n",
              "2025-07-26 21:25:00                                    -0.055921   \n",
              "2025-07-26 22:25:00                                    -0.055921   \n",
              "2025-07-26 23:05:00                                     0.055921   \n",
              "\n",
              "                     10min_slope_signal_300_3 - slope_signal_300_6  \\\n",
              "Date                                                                 \n",
              "2025-07-26 21:25:00                                        0.03088   \n",
              "2025-07-26 22:25:00                                        0.03088   \n",
              "2025-07-26 23:05:00                                       -0.03088   \n",
              "\n",
              "                     10min_slope_lin_reg_signal_600_6_diff  \\\n",
              "Date                                                         \n",
              "2025-07-26 21:25:00                                    0.0   \n",
              "2025-07-26 22:25:00                                    0.0   \n",
              "2025-07-26 23:05:00                                   -0.0   \n",
              "\n",
              "                     slope_signal_900_6 - slope_signal_900_9  \\\n",
              "Date                                                           \n",
              "2025-07-26 21:25:00                                -1.967378   \n",
              "2025-07-26 22:25:00                                -1.857623   \n",
              "2025-07-26 23:05:00                                -0.089245   \n",
              "\n",
              "                     slope_angle_300_3 - slope_angle_900_6  \\\n",
              "Date                                                         \n",
              "2025-07-26 21:25:00                              -3.260804   \n",
              "2025-07-26 22:25:00                               2.844258   \n",
              "2025-07-26 23:05:00                               0.032381   \n",
              "\n",
              "                     slope_lin_reg_signal_600_9 - slope_lin_reg_signal_900_6  \\\n",
              "Date                                                                           \n",
              "2025-07-26 21:25:00                                           2.449032         \n",
              "2025-07-26 22:25:00                                           0.077340         \n",
              "2025-07-26 23:05:00                                          -0.115181         \n",
              "\n",
              "                     slope_signal_600_6 - slope_signal_900_6  \\\n",
              "Date                                                           \n",
              "2025-07-26 21:25:00                                 3.438999   \n",
              "2025-07-26 22:25:00                                 0.017109   \n",
              "2025-07-26 23:05:00                                -0.000000   \n",
              "\n",
              "                     slope_angle_300_3 - slope_angle_300_9  \\\n",
              "Date                                                         \n",
              "2025-07-26 21:25:00                              -1.888883   \n",
              "2025-07-26 22:25:00                              -0.224794   \n",
              "2025-07-26 23:05:00                               0.049432   \n",
              "\n",
              "                     10min_slope_lin_reg_signal_300_9_diff  \\\n",
              "Date                                                         \n",
              "2025-07-26 21:25:00                                    0.0   \n",
              "2025-07-26 22:25:00                                    0.0   \n",
              "2025-07-26 23:05:00                                   -0.0   \n",
              "\n",
              "                     slope_signal_600_3 - slope_signal_600_6  \n",
              "Date                                                          \n",
              "2025-07-26 21:25:00                                -1.751248  \n",
              "2025-07-26 22:25:00                                 1.758542  \n",
              "2025-07-26 23:05:00                                -0.008887  \n",
              "\n",
              "[3 rows x 225 columns]"
            ],
            "text/html": [
              "\n",
              "  <div id=\"df-4c2a0c8a-1b68-4c22-acbb-fdbb3f3660eb\" class=\"colab-df-container\">\n",
              "    <div>\n",
              "<style scoped>\n",
              "    .dataframe tbody tr th:only-of-type {\n",
              "        vertical-align: middle;\n",
              "    }\n",
              "\n",
              "    .dataframe tbody tr th {\n",
              "        vertical-align: top;\n",
              "    }\n",
              "\n",
              "    .dataframe thead th {\n",
              "        text-align: right;\n",
              "    }\n",
              "</style>\n",
              "<table border=\"1\" class=\"dataframe\">\n",
              "  <thead>\n",
              "    <tr style=\"text-align: right;\">\n",
              "      <th></th>\n",
              "      <th>label</th>\n",
              "      <th>10min_RSI_3_diff</th>\n",
              "      <th>10min_RSI_3 - RSI_7</th>\n",
              "      <th>10min_slope_angle_900_3_diff</th>\n",
              "      <th>10min_slope_div_600_3_diff</th>\n",
              "      <th>10min_slope_angle_600_3_diff</th>\n",
              "      <th>10min_slope_lin_reg_signal_600_3 - slope_lin_reg_signal_600_9</th>\n",
              "      <th>10min_slope_lin_reg_300_3_diff</th>\n",
              "      <th>10min_slope_signal_900_9_diff</th>\n",
              "      <th>10min_slope_div_300_3_diff</th>\n",
              "      <th>...</th>\n",
              "      <th>10min_slope_angle_300_6 - slope_angle_900_3</th>\n",
              "      <th>10min_slope_signal_300_3 - slope_signal_300_6</th>\n",
              "      <th>10min_slope_lin_reg_signal_600_6_diff</th>\n",
              "      <th>slope_signal_900_6 - slope_signal_900_9</th>\n",
              "      <th>slope_angle_300_3 - slope_angle_900_6</th>\n",
              "      <th>slope_lin_reg_signal_600_9 - slope_lin_reg_signal_900_6</th>\n",
              "      <th>slope_signal_600_6 - slope_signal_900_6</th>\n",
              "      <th>slope_angle_300_3 - slope_angle_300_9</th>\n",
              "      <th>10min_slope_lin_reg_signal_300_9_diff</th>\n",
              "      <th>slope_signal_600_3 - slope_signal_600_6</th>\n",
              "    </tr>\n",
              "    <tr>\n",
              "      <th>Date</th>\n",
              "      <th></th>\n",
              "      <th></th>\n",
              "      <th></th>\n",
              "      <th></th>\n",
              "      <th></th>\n",
              "      <th></th>\n",
              "      <th></th>\n",
              "      <th></th>\n",
              "      <th></th>\n",
              "      <th></th>\n",
              "      <th></th>\n",
              "      <th></th>\n",
              "      <th></th>\n",
              "      <th></th>\n",
              "      <th></th>\n",
              "      <th></th>\n",
              "      <th></th>\n",
              "      <th></th>\n",
              "      <th></th>\n",
              "      <th></th>\n",
              "      <th></th>\n",
              "    </tr>\n",
              "  </thead>\n",
              "  <tbody>\n",
              "    <tr>\n",
              "      <th>2025-07-26 21:25:00</th>\n",
              "      <td>1</td>\n",
              "      <td>0.378237</td>\n",
              "      <td>1.637643</td>\n",
              "      <td>-0.000604</td>\n",
              "      <td>-0.252278</td>\n",
              "      <td>-0.000309</td>\n",
              "      <td>-0.107928</td>\n",
              "      <td>1.412983</td>\n",
              "      <td>0.0</td>\n",
              "      <td>0.261028</td>\n",
              "      <td>...</td>\n",
              "      <td>-0.055921</td>\n",
              "      <td>0.03088</td>\n",
              "      <td>0.0</td>\n",
              "      <td>-1.967378</td>\n",
              "      <td>-3.260804</td>\n",
              "      <td>2.449032</td>\n",
              "      <td>3.438999</td>\n",
              "      <td>-1.888883</td>\n",
              "      <td>0.0</td>\n",
              "      <td>-1.751248</td>\n",
              "    </tr>\n",
              "    <tr>\n",
              "      <th>2025-07-26 22:25:00</th>\n",
              "      <td>1</td>\n",
              "      <td>0.378237</td>\n",
              "      <td>1.637643</td>\n",
              "      <td>-0.000604</td>\n",
              "      <td>-0.252278</td>\n",
              "      <td>-0.000309</td>\n",
              "      <td>-0.107928</td>\n",
              "      <td>1.412983</td>\n",
              "      <td>0.0</td>\n",
              "      <td>0.261028</td>\n",
              "      <td>...</td>\n",
              "      <td>-0.055921</td>\n",
              "      <td>0.03088</td>\n",
              "      <td>0.0</td>\n",
              "      <td>-1.857623</td>\n",
              "      <td>2.844258</td>\n",
              "      <td>0.077340</td>\n",
              "      <td>0.017109</td>\n",
              "      <td>-0.224794</td>\n",
              "      <td>0.0</td>\n",
              "      <td>1.758542</td>\n",
              "    </tr>\n",
              "    <tr>\n",
              "      <th>2025-07-26 23:05:00</th>\n",
              "      <td>1</td>\n",
              "      <td>-0.378237</td>\n",
              "      <td>-1.637643</td>\n",
              "      <td>0.000604</td>\n",
              "      <td>0.252278</td>\n",
              "      <td>0.000309</td>\n",
              "      <td>0.107928</td>\n",
              "      <td>-1.412983</td>\n",
              "      <td>-0.0</td>\n",
              "      <td>-0.261028</td>\n",
              "      <td>...</td>\n",
              "      <td>0.055921</td>\n",
              "      <td>-0.03088</td>\n",
              "      <td>-0.0</td>\n",
              "      <td>-0.089245</td>\n",
              "      <td>0.032381</td>\n",
              "      <td>-0.115181</td>\n",
              "      <td>-0.000000</td>\n",
              "      <td>0.049432</td>\n",
              "      <td>-0.0</td>\n",
              "      <td>-0.008887</td>\n",
              "    </tr>\n",
              "  </tbody>\n",
              "</table>\n",
              "<p>3 rows × 225 columns</p>\n",
              "</div>\n",
              "    <div class=\"colab-df-buttons\">\n",
              "\n",
              "  <div class=\"colab-df-container\">\n",
              "    <button class=\"colab-df-convert\" onclick=\"convertToInteractive('df-4c2a0c8a-1b68-4c22-acbb-fdbb3f3660eb')\"\n",
              "            title=\"Convert this dataframe to an interactive table.\"\n",
              "            style=\"display:none;\">\n",
              "\n",
              "  <svg xmlns=\"http://www.w3.org/2000/svg\" height=\"24px\" viewBox=\"0 -960 960 960\">\n",
              "    <path d=\"M120-120v-720h720v720H120Zm60-500h600v-160H180v160Zm220 220h160v-160H400v160Zm0 220h160v-160H400v160ZM180-400h160v-160H180v160Zm440 0h160v-160H620v160ZM180-180h160v-160H180v160Zm440 0h160v-160H620v160Z\"/>\n",
              "  </svg>\n",
              "    </button>\n",
              "\n",
              "  <style>\n",
              "    .colab-df-container {\n",
              "      display:flex;\n",
              "      gap: 12px;\n",
              "    }\n",
              "\n",
              "    .colab-df-convert {\n",
              "      background-color: #E8F0FE;\n",
              "      border: none;\n",
              "      border-radius: 50%;\n",
              "      cursor: pointer;\n",
              "      display: none;\n",
              "      fill: #1967D2;\n",
              "      height: 32px;\n",
              "      padding: 0 0 0 0;\n",
              "      width: 32px;\n",
              "    }\n",
              "\n",
              "    .colab-df-convert:hover {\n",
              "      background-color: #E2EBFA;\n",
              "      box-shadow: 0px 1px 2px rgba(60, 64, 67, 0.3), 0px 1px 3px 1px rgba(60, 64, 67, 0.15);\n",
              "      fill: #174EA6;\n",
              "    }\n",
              "\n",
              "    .colab-df-buttons div {\n",
              "      margin-bottom: 4px;\n",
              "    }\n",
              "\n",
              "    [theme=dark] .colab-df-convert {\n",
              "      background-color: #3B4455;\n",
              "      fill: #D2E3FC;\n",
              "    }\n",
              "\n",
              "    [theme=dark] .colab-df-convert:hover {\n",
              "      background-color: #434B5C;\n",
              "      box-shadow: 0px 1px 3px 1px rgba(0, 0, 0, 0.15);\n",
              "      filter: drop-shadow(0px 1px 2px rgba(0, 0, 0, 0.3));\n",
              "      fill: #FFFFFF;\n",
              "    }\n",
              "  </style>\n",
              "\n",
              "    <script>\n",
              "      const buttonEl =\n",
              "        document.querySelector('#df-4c2a0c8a-1b68-4c22-acbb-fdbb3f3660eb button.colab-df-convert');\n",
              "      buttonEl.style.display =\n",
              "        google.colab.kernel.accessAllowed ? 'block' : 'none';\n",
              "\n",
              "      async function convertToInteractive(key) {\n",
              "        const element = document.querySelector('#df-4c2a0c8a-1b68-4c22-acbb-fdbb3f3660eb');\n",
              "        const dataTable =\n",
              "          await google.colab.kernel.invokeFunction('convertToInteractive',\n",
              "                                                    [key], {});\n",
              "        if (!dataTable) return;\n",
              "\n",
              "        const docLinkHtml = 'Like what you see? Visit the ' +\n",
              "          '<a target=\"_blank\" href=https://colab.research.google.com/notebooks/data_table.ipynb>data table notebook</a>'\n",
              "          + ' to learn more about interactive tables.';\n",
              "        element.innerHTML = '';\n",
              "        dataTable['output_type'] = 'display_data';\n",
              "        await google.colab.output.renderOutput(dataTable, element);\n",
              "        const docLink = document.createElement('div');\n",
              "        docLink.innerHTML = docLinkHtml;\n",
              "        element.appendChild(docLink);\n",
              "      }\n",
              "    </script>\n",
              "  </div>\n",
              "\n",
              "\n",
              "    <div id=\"df-7c8c29e4-33d4-4341-ad6d-a0542a3db69f\">\n",
              "      <button class=\"colab-df-quickchart\" onclick=\"quickchart('df-7c8c29e4-33d4-4341-ad6d-a0542a3db69f')\"\n",
              "                title=\"Suggest charts\"\n",
              "                style=\"display:none;\">\n",
              "\n",
              "<svg xmlns=\"http://www.w3.org/2000/svg\" height=\"24px\"viewBox=\"0 0 24 24\"\n",
              "     width=\"24px\">\n",
              "    <g>\n",
              "        <path d=\"M19 3H5c-1.1 0-2 .9-2 2v14c0 1.1.9 2 2 2h14c1.1 0 2-.9 2-2V5c0-1.1-.9-2-2-2zM9 17H7v-7h2v7zm4 0h-2V7h2v10zm4 0h-2v-4h2v4z\"/>\n",
              "    </g>\n",
              "</svg>\n",
              "      </button>\n",
              "\n",
              "<style>\n",
              "  .colab-df-quickchart {\n",
              "      --bg-color: #E8F0FE;\n",
              "      --fill-color: #1967D2;\n",
              "      --hover-bg-color: #E2EBFA;\n",
              "      --hover-fill-color: #174EA6;\n",
              "      --disabled-fill-color: #AAA;\n",
              "      --disabled-bg-color: #DDD;\n",
              "  }\n",
              "\n",
              "  [theme=dark] .colab-df-quickchart {\n",
              "      --bg-color: #3B4455;\n",
              "      --fill-color: #D2E3FC;\n",
              "      --hover-bg-color: #434B5C;\n",
              "      --hover-fill-color: #FFFFFF;\n",
              "      --disabled-bg-color: #3B4455;\n",
              "      --disabled-fill-color: #666;\n",
              "  }\n",
              "\n",
              "  .colab-df-quickchart {\n",
              "    background-color: var(--bg-color);\n",
              "    border: none;\n",
              "    border-radius: 50%;\n",
              "    cursor: pointer;\n",
              "    display: none;\n",
              "    fill: var(--fill-color);\n",
              "    height: 32px;\n",
              "    padding: 0;\n",
              "    width: 32px;\n",
              "  }\n",
              "\n",
              "  .colab-df-quickchart:hover {\n",
              "    background-color: var(--hover-bg-color);\n",
              "    box-shadow: 0 1px 2px rgba(60, 64, 67, 0.3), 0 1px 3px 1px rgba(60, 64, 67, 0.15);\n",
              "    fill: var(--button-hover-fill-color);\n",
              "  }\n",
              "\n",
              "  .colab-df-quickchart-complete:disabled,\n",
              "  .colab-df-quickchart-complete:disabled:hover {\n",
              "    background-color: var(--disabled-bg-color);\n",
              "    fill: var(--disabled-fill-color);\n",
              "    box-shadow: none;\n",
              "  }\n",
              "\n",
              "  .colab-df-spinner {\n",
              "    border: 2px solid var(--fill-color);\n",
              "    border-color: transparent;\n",
              "    border-bottom-color: var(--fill-color);\n",
              "    animation:\n",
              "      spin 1s steps(1) infinite;\n",
              "  }\n",
              "\n",
              "  @keyframes spin {\n",
              "    0% {\n",
              "      border-color: transparent;\n",
              "      border-bottom-color: var(--fill-color);\n",
              "      border-left-color: var(--fill-color);\n",
              "    }\n",
              "    20% {\n",
              "      border-color: transparent;\n",
              "      border-left-color: var(--fill-color);\n",
              "      border-top-color: var(--fill-color);\n",
              "    }\n",
              "    30% {\n",
              "      border-color: transparent;\n",
              "      border-left-color: var(--fill-color);\n",
              "      border-top-color: var(--fill-color);\n",
              "      border-right-color: var(--fill-color);\n",
              "    }\n",
              "    40% {\n",
              "      border-color: transparent;\n",
              "      border-right-color: var(--fill-color);\n",
              "      border-top-color: var(--fill-color);\n",
              "    }\n",
              "    60% {\n",
              "      border-color: transparent;\n",
              "      border-right-color: var(--fill-color);\n",
              "    }\n",
              "    80% {\n",
              "      border-color: transparent;\n",
              "      border-right-color: var(--fill-color);\n",
              "      border-bottom-color: var(--fill-color);\n",
              "    }\n",
              "    90% {\n",
              "      border-color: transparent;\n",
              "      border-bottom-color: var(--fill-color);\n",
              "    }\n",
              "  }\n",
              "</style>\n",
              "\n",
              "      <script>\n",
              "        async function quickchart(key) {\n",
              "          const quickchartButtonEl =\n",
              "            document.querySelector('#' + key + ' button');\n",
              "          quickchartButtonEl.disabled = true;  // To prevent multiple clicks.\n",
              "          quickchartButtonEl.classList.add('colab-df-spinner');\n",
              "          try {\n",
              "            const charts = await google.colab.kernel.invokeFunction(\n",
              "                'suggestCharts', [key], {});\n",
              "          } catch (error) {\n",
              "            console.error('Error during call to suggestCharts:', error);\n",
              "          }\n",
              "          quickchartButtonEl.classList.remove('colab-df-spinner');\n",
              "          quickchartButtonEl.classList.add('colab-df-quickchart-complete');\n",
              "        }\n",
              "        (() => {\n",
              "          let quickchartButtonEl =\n",
              "            document.querySelector('#df-7c8c29e4-33d4-4341-ad6d-a0542a3db69f button');\n",
              "          quickchartButtonEl.style.display =\n",
              "            google.colab.kernel.accessAllowed ? 'block' : 'none';\n",
              "        })();\n",
              "      </script>\n",
              "    </div>\n",
              "\n",
              "    </div>\n",
              "  </div>\n"
            ],
            "application/vnd.google.colaboratory.intrinsic+json": {
              "type": "dataframe"
            }
          },
          "metadata": {},
          "execution_count": 216
        }
      ],
      "source": [
        "### Features\n",
        "\n",
        "features_5m = pd.read_csv(root_data + 'Results/'+symbol+'_'+direction+'_M5M10_'+data_type+'_Features.csv', index_col=0)\n",
        "features_5m['Date'] = features_5m.index\n",
        "features_5m['Date'] = pd.to_datetime(features_5m['Date'])\n",
        "features_5m.set_index(\"Date\", inplace=True)\n",
        "\n",
        "print(list(features_5m.columns),'\\n')\n",
        "print('Shape = ',features_5m.shape)\n",
        "\n",
        "features_5m.tail(3)"
      ]
    },
    {
      "cell_type": "code",
      "execution_count": 217,
      "id": "XM2K_2T22n2k",
      "metadata": {
        "colab": {
          "base_uri": "https://localhost:8080/"
        },
        "id": "XM2K_2T22n2k",
        "outputId": "67904c32-fa9b-4771-9fb6-c317a7794c04"
      },
      "outputs": [
        {
          "output_type": "stream",
          "name": "stdout",
          "text": [
            "['Open', 'High', 'Low', 'Close', 'Volume', 'Spread', 'ATR', 'kal_1', 'kal_2', 'kal_3', 'kal_4', 'Open_Trade', 'Entry_Date', 'Type', 'Trade_Number', 'st_Exit_Date', 'trade type', 'st_Duration', 'st_row_PnL_close', 'st_row_PnL_high', 'st_row_PnL_low', 'st_Max', 'st_Min', 'st_PnL', 'st_atr_PnL', 'st_atr_max_PnL'] \n",
            "\n",
            "Shape :  (267395, 26) \n",
            "\n",
            "Missing values (NaN and Inf) in lab sorted by highest to lowest:\n",
            "st_Exit_Date        228204\n",
            "st_Duration         228204\n",
            "st_Max              228204\n",
            "st_Min              228204\n",
            "st_PnL              228204\n",
            "Type                228203\n",
            "Entry_Date          228203\n",
            "Open_Trade          228203\n",
            "st_atr_PnL              15\n",
            "st_atr_max_PnL          15\n",
            "ATR                     14\n",
            "st_row_PnL_high         11\n",
            "st_row_PnL_close        11\n",
            "st_row_PnL_low          11\n",
            "trade type               1\n",
            "Trade_Number             1\n",
            "kal_3                    0\n",
            "High                     0\n",
            "Open                     0\n",
            "kal_2                    0\n",
            "kal_1                    0\n",
            "Spread                   0\n",
            "Close                    0\n",
            "Volume                   0\n",
            "Low                      0\n",
            "kal_4                    0\n",
            "dtype: int64\n",
            "Total missing value count in lab: 1825708\n"
          ]
        }
      ],
      "source": [
        "### Labels\n",
        "\n",
        "lab = pd.read_csv(root_data + 'Results/'+symbol+'_'+strategy+'_'+time_frame+'_Strategy_Gen_Labels.csv', index_col=0)\n",
        "lab['Date'] = pd.to_datetime(lab['Date'])\n",
        "lab.set_index('Date', inplace=True)\n",
        "\n",
        "columns_to_drop = ['st_row_PnL_Low','Close_Trade']\n",
        "lab = lab.drop(columns=columns_to_drop)\n",
        "\n",
        "print(list(lab.columns),'\\n')\n",
        "print('Shape : ',lab.shape,'\\n')\n",
        "\n",
        "nan_counts = lab.isnull().sum()\n",
        "total_missing_counts = nan_counts\n",
        "\n",
        "print(\"Missing values (NaN and Inf) in lab sorted by highest to lowest:\")\n",
        "print(total_missing_counts.sort_values(ascending=False))\n",
        "print(\"Total missing value count in lab:\", total_missing_counts.sum())\n"
      ]
    },
    {
      "cell_type": "code",
      "execution_count": 218,
      "id": "IA2-iSWJ9Udm",
      "metadata": {
        "colab": {
          "base_uri": "https://localhost:8080/"
        },
        "id": "IA2-iSWJ9Udm",
        "outputId": "ad077c54-0aa7-4a05-dd14-8bc057589ea2"
      },
      "outputs": [
        {
          "output_type": "stream",
          "name": "stdout",
          "text": [
            "['label', '10min_RSI_3_diff', '10min_RSI_3 - RSI_7', '10min_slope_angle_900_3_diff', '10min_slope_div_600_3_diff', '10min_slope_angle_600_3_diff', '10min_slope_lin_reg_signal_600_3 - slope_lin_reg_signal_600_9', '10min_slope_lin_reg_300_3_diff', '10min_slope_signal_900_9_diff', '10min_slope_div_300_3_diff', '10min_OBV_diff', '10min_slope_signal_300_3_diff', 'slope_angle_300_6_diff', '10min_slope_lin_reg_signal_300_3 - slope_lin_reg_signal_900_9', '10min_slope_angle_300_9_diff', '10min_slope_signal_300_3 - slope_signal_600_3', '10min_slope_div_300_3 - slope_div_900_6', '10min_slope_lin_reg_signal_300_3_diff', 'RSI_7 - RSI_14', 'slope_div_300_3_diff', 'slope_lin_reg_signal_300_3_diff', '10min_slope_angle_300_6 - slope_angle_600_6', 'slope_div_300_6_diff', 'slope_div_300_9_diff', '10min_slope_signal_300_6_diff', 'slope_lin_reg_signal_600_3_diff', 'Open_Trade', '10min_slope_angle_300_9 - slope_angle_600_3', '10min_slope_signal_900_6_diff', '10min_slope_lin_reg_signal_300_3 - slope_lin_reg_signal_600_9', 'slope_lin_reg_300_3 - slope_lin_reg_600_3', 'slope_lin_reg_signal_300_9 - slope_lin_reg_signal_900_6', '10min_slope_angle_300_6 - slope_angle_600_3', '10min_slope_signal_600_3_diff', 'slope_div_300_3 - slope_div_300_6', 'slope_angle_600_6 - slope_angle_600_9', '10min_slope_angle_300_6_diff', '10min_slope_lin_reg_signal_300_6 - slope_lin_reg_signal_900_3', '10min_slope_lin_reg_signal_600_9 - slope_lin_reg_signal_900_6', '10min_slope_angle_300_3 - slope_angle_600_3', '10min_slope_angle_300_3_diff', '10min_slope_signal_300_9 - slope_signal_600_3', '10min_slope_lin_reg_signal_300_6 - slope_lin_reg_signal_600_9', '10min_slope_lin_reg_signal_300_3 - slope_lin_reg_signal_300_9', '10min_slope_lin_reg_600_3 - slope_lin_reg_900_9', '10min_slope_div_300_3 - slope_div_300_6', '10min_slope_angle_300_3 - slope_angle_300_6', 'slope_div_300_6 - slope_div_600_9', '10min_slope_signal_900_3_diff', '10min_slope_signal_600_3 - slope_signal_900_3', 'slope_signal_600_3 - slope_signal_900_9', '10min_slope_div_600_3 - slope_div_600_6', 'slope_angle_900_3 - slope_angle_900_6', '10min_slope_angle_600_9_diff', 'RSI_3_diff', 'slope_lin_reg_signal_300_3 - slope_lin_reg_signal_900_3', '10min_MFI_3_diff', '10min_slope_signal_300_6 - slope_signal_600_3', '10min_slope_angle_600_3 - slope_angle_600_9', 'slope_lin_reg_300_6_diff', '10min_slope_angle_600_6 - slope_angle_900_3', 'slope_div_300_9 - slope_div_600_9', 'RSI_3 - RSI_7', 'slope_angle_300_3_diff', '10min_slope_lin_reg_signal_600_3 - slope_lin_reg_signal_900_9', '10min_slope_signal_600_9 - slope_signal_900_6', '10min_slope_div_300_6_diff', 'slope_angle_300_6 - slope_angle_600_3', 'slope_div_300_6 - slope_div_900_9', '10min_slope_signal_600_6 - slope_signal_900_6', '10min_slope_angle_600_6_diff', 'slope_angle_600_9_diff', '10min_slope_lin_reg_signal_600_6 - slope_lin_reg_signal_600_9', '10min_slope_signal_600_6 - slope_signal_900_9', '10min_slope_lin_reg_signal_900_3_diff', 'slope_angle_600_3_diff', 'slope_angle_600_3 - slope_angle_600_6', 'slope_lin_reg_signal_300_9 - slope_lin_reg_signal_900_3', '10min_slope_signal_300_6 - slope_signal_900_9', '10min_slope_lin_reg_signal_300_9 - slope_lin_reg_signal_600_3', 'slope_lin_reg_signal_600_6 - slope_lin_reg_signal_900_6', '10min_slope_angle_300_9 - slope_angle_900_6', 'slope_signal_900_6_diff', '10min_slope_lin_reg_signal_300_3 - slope_lin_reg_signal_600_3', '10min_slope_signal_900_6 - slope_signal_900_9', '10min_slope_angle_600_9 - slope_angle_900_9', 'slope_signal_300_6 - slope_signal_600_3', 'slope_angle_300_6 - slope_angle_900_9', 'slope_signal_300_9 - slope_signal_600_9', 'slope_angle_600_6_diff', 'slope_angle_300_9 - slope_angle_900_9', 'slope_lin_reg_signal_300_6 - slope_lin_reg_signal_900_6', '10min_MFI_3 - MFI_7', '10min_slope_signal_300_3 - slope_signal_900_9', 'slope_signal_300_9 - slope_signal_900_9', '10min_slope_angle_300_6 - slope_angle_600_9', 'slope_signal_600_9_diff', '10min_slope_angle_300_6 - slope_angle_900_9', '10min_slope_signal_300_6 - slope_signal_300_9', 'slope_signal_600_3_diff', 'slope_angle_300_3 - slope_angle_600_6', '10min_slope_signal_300_6 - slope_signal_900_6', 'slope_lin_reg_signal_300_3 - slope_lin_reg_signal_600_9', '10min_slope_div_300_3 - slope_div_600_6', 'slope_signal_300_6 - slope_signal_300_9', '10min_slope_div_600_3 - slope_div_900_6', 'slope_signal_600_9 - slope_signal_900_9', 'slope_signal_300_3 - slope_signal_600_9', 'slope_angle_300_3 - slope_angle_300_6', '10min_slope_signal_300_6 - slope_signal_600_9', '10min_slope_angle_300_3 - slope_angle_900_3', 'slope_angle_900_3_diff', 'slope_lin_reg_signal_300_3 - slope_lin_reg_signal_600_3', 'slope_signal_600_6 - slope_signal_900_9', '10min_slope_signal_300_3 - slope_signal_300_9', '10min_slope_signal_300_9 - slope_signal_900_6', '10min_slope_lin_reg_300_3 - slope_lin_reg_600_9', '10min_slope_lin_reg_signal_600_6 - slope_lin_reg_signal_900_6', '10min_slope_lin_reg_signal_900_9_diff', 'slope_signal_600_6_diff', '10min_slope_angle_300_3 - slope_angle_600_9', '10min_slope_signal_300_9 - slope_signal_600_9', 'slope_div_300_6 - slope_div_300_9', '10min_slope_lin_reg_signal_300_9 - slope_lin_reg_signal_900_6', 'slope_signal_300_3 - slope_signal_900_9', '10min_slope_angle_300_9 - slope_angle_900_9', '10min_slope_lin_reg_signal_300_3 - slope_lin_reg_signal_900_6', 'slope_angle_600_6 - slope_angle_900_3', '10min_slope_div_300_6 - slope_div_600_9', '10min_slope_lin_reg_signal_300_3 - slope_lin_reg_signal_300_6', 'slope_lin_reg_signal_300_6 - slope_lin_reg_signal_600_9', '10min_slope_lin_reg_signal_300_9 - slope_lin_reg_signal_900_3', '10min_slope_angle_900_3 - slope_angle_900_6', 'slope_angle_300_6 - slope_angle_600_9', '10min_slope_lin_reg_signal_600_3 - slope_lin_reg_signal_600_6', 'slope_lin_reg_signal_600_6_diff', '10min_slope_lin_reg_signal_900_3 - slope_lin_reg_signal_900_9', '10min_MFI_14_diff', 'slope_angle_300_9 - slope_angle_600_9', '10min_slope_lin_reg_signal_900_6 - slope_lin_reg_signal_900_9', 'slope_signal_300_3 - slope_signal_900_6', 'OBV_diff', 'slope_angle_300_3 - slope_angle_900_9', 'slope_lin_reg_signal_600_3 - slope_lin_reg_signal_600_6', '10min_slope_angle_300_9 - slope_angle_600_9', '10min_slope_lin_reg_signal_600_9 - slope_lin_reg_signal_900_3', '10min_slope_lin_reg_signal_300_3 - slope_lin_reg_signal_900_3', '10min_slope_angle_300_3 - slope_angle_600_6', '10min_slope_angle_300_3 - slope_angle_300_9', 'slope_lin_reg_signal_600_9_diff', '10min_slope_angle_600_3 - slope_angle_900_3', 'slope_lin_reg_signal_600_3 - slope_lin_reg_signal_600_9', 'slope_signal_300_9 - slope_signal_600_6', 'slope_lin_reg_600_6_diff', '10min_slope_signal_600_6_diff', 'slope_angle_300_3 - slope_angle_600_9', '10min_slope_angle_900_9_diff', 'slope_angle_600_6 - slope_angle_900_9', '10min_slope_signal_300_3 - slope_signal_900_6', 'slope_angle_300_9 - slope_angle_600_6', 'slope_signal_600_6 - slope_signal_600_9', '10min_slope_lin_reg_signal_600_3 - slope_lin_reg_signal_900_6', 'slope_signal_300_3 - slope_signal_600_6', 'slope_lin_reg_signal_300_3 - slope_lin_reg_signal_300_9', 'slope_angle_600_3 - slope_angle_900_6', 'slope_angle_300_3 - slope_angle_600_3', 'slope_lin_reg_signal_900_3 - slope_lin_reg_signal_900_9', '10min_slope_lin_reg_signal_600_3 - slope_lin_reg_signal_900_3', 'slope_lin_reg_signal_900_6 - slope_lin_reg_signal_900_9', '10min_slope_angle_600_9 - slope_angle_900_6', '10min_slope_div_300_6 - slope_div_900_9', '10min_slope_lin_reg_signal_300_6 - slope_lin_reg_signal_600_6', 'slope_lin_reg_signal_600_3 - slope_lin_reg_signal_900_6', 'slope_angle_300_6 - slope_angle_300_9', 'slope_lin_reg_signal_600_6 - slope_lin_reg_signal_900_9', '10min_slope_lin_reg_signal_600_3_diff', 'MFI_7 - MFI_14', '10min_slope_angle_600_3 - slope_angle_900_9', 'slope_angle_300_6 - slope_angle_900_6', '10min_slope_lin_reg_signal_300_6 - slope_lin_reg_signal_900_6', 'MFI_14_diff', '10min_slope_angle_300_3 - slope_angle_900_6', 'slope_signal_600_9 - slope_signal_900_6', 'slope_signal_600_3 - slope_signal_900_3', 'slope_angle_300_9 - slope_angle_900_6', '10min_slope_signal_300_3 - slope_signal_600_9', '10min_slope_lin_reg_signal_600_6 - slope_lin_reg_signal_900_3', 'slope_lin_reg_600_9_diff', 'slope_lin_reg_signal_300_6 - slope_lin_reg_signal_600_6', '10min_slope_angle_600_3 - slope_angle_600_6', 'slope_angle_600_9 - slope_angle_900_9', '10min_slope_lin_reg_signal_300_6 - slope_lin_reg_signal_900_9', '10min_slope_lin_reg_signal_900_3 - slope_lin_reg_signal_900_6', 'slope_lin_reg_signal_300_3 - slope_lin_reg_signal_900_9', 'slope_lin_reg_signal_300_9 - slope_lin_reg_signal_600_3', 'slope_angle_600_9 - slope_angle_900_6', 'slope_signal_300_3 - slope_signal_900_3', 'MFI_3_diff', 'slope_signal_300_6 - slope_signal_900_6', 'slope_lin_reg_signal_300_9 - slope_lin_reg_signal_600_6', 'slope_lin_reg_signal_900_9_diff', 'slope_signal_300_6 - slope_signal_600_6', 'slope_signal_900_3_diff', 'slope_signal_300_6 - slope_signal_600_9', '10min_slope_signal_300_3 - slope_signal_600_6', 'slope_div_300_3 - slope_div_600_6', 'slope_angle_900_6_diff', '10min_slope_angle_300_3 - slope_angle_900_9', '10min_slope_lin_reg_signal_600_9 - slope_lin_reg_signal_900_9', 'slope_angle_600_6 - slope_angle_900_6', 'slope_lin_reg_signal_300_6 - slope_lin_reg_signal_900_3', 'slope_lin_reg_signal_600_6 - slope_lin_reg_signal_600_9', '10min_MFI_3 - MFI_14', 'slope_signal_600_3 - slope_signal_900_6', '10min_slope_signal_600_9 - slope_signal_900_9', '10min_slope_angle_300_6 - slope_angle_900_3', '10min_slope_signal_300_3 - slope_signal_300_6', '10min_slope_lin_reg_signal_600_6_diff', 'slope_signal_900_6 - slope_signal_900_9', 'slope_angle_300_3 - slope_angle_900_6', 'slope_lin_reg_signal_600_9 - slope_lin_reg_signal_900_6', 'slope_signal_600_6 - slope_signal_900_6', 'slope_angle_300_3 - slope_angle_300_9', '10min_slope_lin_reg_signal_300_9_diff', 'slope_signal_600_3 - slope_signal_600_6'] \n",
            "\n",
            "Shape =  (28924, 225) \n",
            "\n",
            "Label_Counts =  label\n",
            "1    14733\n",
            "0    14191\n",
            "Name: count, dtype: int64 \n",
            "\n",
            "Missing values (NaN and Inf) in feat_obj sorted by highest to lowest AFTER DROPPING COLUMNS:\n",
            "label                                                      0\n",
            "10min_RSI_3_diff                                           0\n",
            "10min_RSI_3 - RSI_7                                        0\n",
            "10min_slope_angle_900_3_diff                               0\n",
            "10min_slope_div_600_3_diff                                 0\n",
            "                                                          ..\n",
            "slope_lin_reg_signal_600_9 - slope_lin_reg_signal_900_6    0\n",
            "slope_signal_600_6 - slope_signal_900_6                    0\n",
            "slope_angle_300_3 - slope_angle_300_9                      0\n",
            "10min_slope_lin_reg_signal_300_9_diff                      0\n",
            "slope_signal_600_3 - slope_signal_600_6                    0\n",
            "Length: 225, dtype: int64\n"
          ]
        }
      ],
      "source": [
        "### Merge\n",
        "\n",
        "feat_obj = features_5m.copy()\n",
        "\n",
        "print(list(feat_obj.columns),'\\n')\n",
        "print('Shape = ',feat_obj.shape,'\\n')\n",
        "print('Label_Counts = ', feat_obj['label'].value_counts(),'\\n')\n",
        "\n",
        "feat_obj.dropna(inplace=True)\n",
        "\n",
        "nan_counts = feat_obj.isnull().sum()\n",
        "\n",
        "print(\"Missing values (NaN and Inf) in feat_obj sorted by highest to lowest AFTER DROPPING COLUMNS:\")\n",
        "\n",
        "nan_counts_after = feat_obj.isnull().sum()\n",
        "inf_counts_after = np.isinf(feat_obj.select_dtypes(include=np.number)).sum()\n",
        "total_missing_counts_after = nan_counts_after + inf_counts_after\n",
        "print(total_missing_counts_after.sort_values(ascending=False))\n",
        "\n",
        "\n"
      ]
    },
    {
      "cell_type": "code",
      "execution_count": 219,
      "id": "U1SDwIIeNhhU",
      "metadata": {
        "colab": {
          "base_uri": "https://localhost:8080/"
        },
        "id": "U1SDwIIeNhhU",
        "outputId": "98dde49a-abef-447b-ede7-5adad1bd9b14"
      },
      "outputs": [
        {
          "output_type": "stream",
          "name": "stdout",
          "text": [
            "Shape of train_data: (20246, 225)\n",
            "Shape of test_data: (8678, 225)\n"
          ]
        }
      ],
      "source": [
        "# Split the data into 70% train and 30% test based on index\n",
        "train_size = int(0.7 * len(feat_obj))\n",
        "train = feat_obj.iloc[:train_size]\n",
        "test  = feat_obj.iloc[train_size:]\n",
        "\n",
        "print(\"Shape of train_data:\", train.shape)\n",
        "print(\"Shape of test_data:\", test.shape)"
      ]
    },
    {
      "cell_type": "code",
      "execution_count": 220,
      "id": "5KnO-8hT71wu",
      "metadata": {
        "colab": {
          "base_uri": "https://localhost:8080/"
        },
        "id": "5KnO-8hT71wu",
        "outputId": "80b8996e-f028-4933-8a40-96302eef1ebc"
      },
      "outputs": [
        {
          "output_type": "stream",
          "name": "stdout",
          "text": [
            "Train_Min_Date 2023-08-29 19:10:00\n",
            "Train_Max_Date 2024-12-25 17:40:00 \n",
            "\n",
            "Test_Min_Date 2024-12-25 18:00:00\n",
            "Test_Max_Date 2025-07-26 23:05:00 \n",
            "\n",
            "Train_Columns :  ['label', '10min_RSI_3_diff', '10min_RSI_3 - RSI_7', '10min_slope_angle_900_3_diff', '10min_slope_div_600_3_diff', '10min_slope_angle_600_3_diff', '10min_slope_lin_reg_signal_600_3 - slope_lin_reg_signal_600_9', '10min_slope_lin_reg_300_3_diff', '10min_slope_signal_900_9_diff', '10min_slope_div_300_3_diff', '10min_OBV_diff', '10min_slope_signal_300_3_diff', 'slope_angle_300_6_diff', '10min_slope_lin_reg_signal_300_3 - slope_lin_reg_signal_900_9', '10min_slope_angle_300_9_diff', '10min_slope_signal_300_3 - slope_signal_600_3', '10min_slope_div_300_3 - slope_div_900_6', '10min_slope_lin_reg_signal_300_3_diff', 'RSI_7 - RSI_14', 'slope_div_300_3_diff', 'slope_lin_reg_signal_300_3_diff', '10min_slope_angle_300_6 - slope_angle_600_6', 'slope_div_300_6_diff', 'slope_div_300_9_diff', '10min_slope_signal_300_6_diff', 'slope_lin_reg_signal_600_3_diff', 'Open_Trade', '10min_slope_angle_300_9 - slope_angle_600_3', '10min_slope_signal_900_6_diff', '10min_slope_lin_reg_signal_300_3 - slope_lin_reg_signal_600_9', 'slope_lin_reg_300_3 - slope_lin_reg_600_3', 'slope_lin_reg_signal_300_9 - slope_lin_reg_signal_900_6', '10min_slope_angle_300_6 - slope_angle_600_3', '10min_slope_signal_600_3_diff', 'slope_div_300_3 - slope_div_300_6', 'slope_angle_600_6 - slope_angle_600_9', '10min_slope_angle_300_6_diff', '10min_slope_lin_reg_signal_300_6 - slope_lin_reg_signal_900_3', '10min_slope_lin_reg_signal_600_9 - slope_lin_reg_signal_900_6', '10min_slope_angle_300_3 - slope_angle_600_3', '10min_slope_angle_300_3_diff', '10min_slope_signal_300_9 - slope_signal_600_3', '10min_slope_lin_reg_signal_300_6 - slope_lin_reg_signal_600_9', '10min_slope_lin_reg_signal_300_3 - slope_lin_reg_signal_300_9', '10min_slope_lin_reg_600_3 - slope_lin_reg_900_9', '10min_slope_div_300_3 - slope_div_300_6', '10min_slope_angle_300_3 - slope_angle_300_6', 'slope_div_300_6 - slope_div_600_9', '10min_slope_signal_900_3_diff', '10min_slope_signal_600_3 - slope_signal_900_3', 'slope_signal_600_3 - slope_signal_900_9', '10min_slope_div_600_3 - slope_div_600_6', 'slope_angle_900_3 - slope_angle_900_6', '10min_slope_angle_600_9_diff', 'RSI_3_diff', 'slope_lin_reg_signal_300_3 - slope_lin_reg_signal_900_3', '10min_MFI_3_diff', '10min_slope_signal_300_6 - slope_signal_600_3', '10min_slope_angle_600_3 - slope_angle_600_9', 'slope_lin_reg_300_6_diff', '10min_slope_angle_600_6 - slope_angle_900_3', 'slope_div_300_9 - slope_div_600_9', 'RSI_3 - RSI_7', 'slope_angle_300_3_diff', '10min_slope_lin_reg_signal_600_3 - slope_lin_reg_signal_900_9', '10min_slope_signal_600_9 - slope_signal_900_6', '10min_slope_div_300_6_diff', 'slope_angle_300_6 - slope_angle_600_3', 'slope_div_300_6 - slope_div_900_9', '10min_slope_signal_600_6 - slope_signal_900_6', '10min_slope_angle_600_6_diff', 'slope_angle_600_9_diff', '10min_slope_lin_reg_signal_600_6 - slope_lin_reg_signal_600_9', '10min_slope_signal_600_6 - slope_signal_900_9', '10min_slope_lin_reg_signal_900_3_diff', 'slope_angle_600_3_diff', 'slope_angle_600_3 - slope_angle_600_6', 'slope_lin_reg_signal_300_9 - slope_lin_reg_signal_900_3', '10min_slope_signal_300_6 - slope_signal_900_9', '10min_slope_lin_reg_signal_300_9 - slope_lin_reg_signal_600_3', 'slope_lin_reg_signal_600_6 - slope_lin_reg_signal_900_6', '10min_slope_angle_300_9 - slope_angle_900_6', 'slope_signal_900_6_diff', '10min_slope_lin_reg_signal_300_3 - slope_lin_reg_signal_600_3', '10min_slope_signal_900_6 - slope_signal_900_9', '10min_slope_angle_600_9 - slope_angle_900_9', 'slope_signal_300_6 - slope_signal_600_3', 'slope_angle_300_6 - slope_angle_900_9', 'slope_signal_300_9 - slope_signal_600_9', 'slope_angle_600_6_diff', 'slope_angle_300_9 - slope_angle_900_9', 'slope_lin_reg_signal_300_6 - slope_lin_reg_signal_900_6', '10min_MFI_3 - MFI_7', '10min_slope_signal_300_3 - slope_signal_900_9', 'slope_signal_300_9 - slope_signal_900_9', '10min_slope_angle_300_6 - slope_angle_600_9', 'slope_signal_600_9_diff', '10min_slope_angle_300_6 - slope_angle_900_9', '10min_slope_signal_300_6 - slope_signal_300_9', 'slope_signal_600_3_diff', 'slope_angle_300_3 - slope_angle_600_6', '10min_slope_signal_300_6 - slope_signal_900_6', 'slope_lin_reg_signal_300_3 - slope_lin_reg_signal_600_9', '10min_slope_div_300_3 - slope_div_600_6', 'slope_signal_300_6 - slope_signal_300_9', '10min_slope_div_600_3 - slope_div_900_6', 'slope_signal_600_9 - slope_signal_900_9', 'slope_signal_300_3 - slope_signal_600_9', 'slope_angle_300_3 - slope_angle_300_6', '10min_slope_signal_300_6 - slope_signal_600_9', '10min_slope_angle_300_3 - slope_angle_900_3', 'slope_angle_900_3_diff', 'slope_lin_reg_signal_300_3 - slope_lin_reg_signal_600_3', 'slope_signal_600_6 - slope_signal_900_9', '10min_slope_signal_300_3 - slope_signal_300_9', '10min_slope_signal_300_9 - slope_signal_900_6', '10min_slope_lin_reg_300_3 - slope_lin_reg_600_9', '10min_slope_lin_reg_signal_600_6 - slope_lin_reg_signal_900_6', '10min_slope_lin_reg_signal_900_9_diff', 'slope_signal_600_6_diff', '10min_slope_angle_300_3 - slope_angle_600_9', '10min_slope_signal_300_9 - slope_signal_600_9', 'slope_div_300_6 - slope_div_300_9', '10min_slope_lin_reg_signal_300_9 - slope_lin_reg_signal_900_6', 'slope_signal_300_3 - slope_signal_900_9', '10min_slope_angle_300_9 - slope_angle_900_9', '10min_slope_lin_reg_signal_300_3 - slope_lin_reg_signal_900_6', 'slope_angle_600_6 - slope_angle_900_3', '10min_slope_div_300_6 - slope_div_600_9', '10min_slope_lin_reg_signal_300_3 - slope_lin_reg_signal_300_6', 'slope_lin_reg_signal_300_6 - slope_lin_reg_signal_600_9', '10min_slope_lin_reg_signal_300_9 - slope_lin_reg_signal_900_3', '10min_slope_angle_900_3 - slope_angle_900_6', 'slope_angle_300_6 - slope_angle_600_9', '10min_slope_lin_reg_signal_600_3 - slope_lin_reg_signal_600_6', 'slope_lin_reg_signal_600_6_diff', '10min_slope_lin_reg_signal_900_3 - slope_lin_reg_signal_900_9', '10min_MFI_14_diff', 'slope_angle_300_9 - slope_angle_600_9', '10min_slope_lin_reg_signal_900_6 - slope_lin_reg_signal_900_9', 'slope_signal_300_3 - slope_signal_900_6', 'OBV_diff', 'slope_angle_300_3 - slope_angle_900_9', 'slope_lin_reg_signal_600_3 - slope_lin_reg_signal_600_6', '10min_slope_angle_300_9 - slope_angle_600_9', '10min_slope_lin_reg_signal_600_9 - slope_lin_reg_signal_900_3', '10min_slope_lin_reg_signal_300_3 - slope_lin_reg_signal_900_3', '10min_slope_angle_300_3 - slope_angle_600_6', '10min_slope_angle_300_3 - slope_angle_300_9', 'slope_lin_reg_signal_600_9_diff', '10min_slope_angle_600_3 - slope_angle_900_3', 'slope_lin_reg_signal_600_3 - slope_lin_reg_signal_600_9', 'slope_signal_300_9 - slope_signal_600_6', 'slope_lin_reg_600_6_diff', '10min_slope_signal_600_6_diff', 'slope_angle_300_3 - slope_angle_600_9', '10min_slope_angle_900_9_diff', 'slope_angle_600_6 - slope_angle_900_9', '10min_slope_signal_300_3 - slope_signal_900_6', 'slope_angle_300_9 - slope_angle_600_6', 'slope_signal_600_6 - slope_signal_600_9', '10min_slope_lin_reg_signal_600_3 - slope_lin_reg_signal_900_6', 'slope_signal_300_3 - slope_signal_600_6', 'slope_lin_reg_signal_300_3 - slope_lin_reg_signal_300_9', 'slope_angle_600_3 - slope_angle_900_6', 'slope_angle_300_3 - slope_angle_600_3', 'slope_lin_reg_signal_900_3 - slope_lin_reg_signal_900_9', '10min_slope_lin_reg_signal_600_3 - slope_lin_reg_signal_900_3', 'slope_lin_reg_signal_900_6 - slope_lin_reg_signal_900_9', '10min_slope_angle_600_9 - slope_angle_900_6', '10min_slope_div_300_6 - slope_div_900_9', '10min_slope_lin_reg_signal_300_6 - slope_lin_reg_signal_600_6', 'slope_lin_reg_signal_600_3 - slope_lin_reg_signal_900_6', 'slope_angle_300_6 - slope_angle_300_9', 'slope_lin_reg_signal_600_6 - slope_lin_reg_signal_900_9', '10min_slope_lin_reg_signal_600_3_diff', 'MFI_7 - MFI_14', '10min_slope_angle_600_3 - slope_angle_900_9', 'slope_angle_300_6 - slope_angle_900_6', '10min_slope_lin_reg_signal_300_6 - slope_lin_reg_signal_900_6', 'MFI_14_diff', '10min_slope_angle_300_3 - slope_angle_900_6', 'slope_signal_600_9 - slope_signal_900_6', 'slope_signal_600_3 - slope_signal_900_3', 'slope_angle_300_9 - slope_angle_900_6', '10min_slope_signal_300_3 - slope_signal_600_9', '10min_slope_lin_reg_signal_600_6 - slope_lin_reg_signal_900_3', 'slope_lin_reg_600_9_diff', 'slope_lin_reg_signal_300_6 - slope_lin_reg_signal_600_6', '10min_slope_angle_600_3 - slope_angle_600_6', 'slope_angle_600_9 - slope_angle_900_9', '10min_slope_lin_reg_signal_300_6 - slope_lin_reg_signal_900_9', '10min_slope_lin_reg_signal_900_3 - slope_lin_reg_signal_900_6', 'slope_lin_reg_signal_300_3 - slope_lin_reg_signal_900_9', 'slope_lin_reg_signal_300_9 - slope_lin_reg_signal_600_3', 'slope_angle_600_9 - slope_angle_900_6', 'slope_signal_300_3 - slope_signal_900_3', 'MFI_3_diff', 'slope_signal_300_6 - slope_signal_900_6', 'slope_lin_reg_signal_300_9 - slope_lin_reg_signal_600_6', 'slope_lin_reg_signal_900_9_diff', 'slope_signal_300_6 - slope_signal_600_6', 'slope_signal_900_3_diff', 'slope_signal_300_6 - slope_signal_600_9', '10min_slope_signal_300_3 - slope_signal_600_6', 'slope_div_300_3 - slope_div_600_6', 'slope_angle_900_6_diff', '10min_slope_angle_300_3 - slope_angle_900_9', '10min_slope_lin_reg_signal_600_9 - slope_lin_reg_signal_900_9', 'slope_angle_600_6 - slope_angle_900_6', 'slope_lin_reg_signal_300_6 - slope_lin_reg_signal_900_3', 'slope_lin_reg_signal_600_6 - slope_lin_reg_signal_600_9', '10min_MFI_3 - MFI_14', 'slope_signal_600_3 - slope_signal_900_6', '10min_slope_signal_600_9 - slope_signal_900_9', '10min_slope_angle_300_6 - slope_angle_900_3', '10min_slope_signal_300_3 - slope_signal_300_6', '10min_slope_lin_reg_signal_600_6_diff', 'slope_signal_900_6 - slope_signal_900_9', 'slope_angle_300_3 - slope_angle_900_6', 'slope_lin_reg_signal_600_9 - slope_lin_reg_signal_900_6', 'slope_signal_600_6 - slope_signal_900_6', 'slope_angle_300_3 - slope_angle_300_9', '10min_slope_lin_reg_signal_300_9_diff', 'slope_signal_600_3 - slope_signal_600_6'] \n",
            "\n",
            "Test_Columns :  ['label', '10min_RSI_3_diff', '10min_RSI_3 - RSI_7', '10min_slope_angle_900_3_diff', '10min_slope_div_600_3_diff', '10min_slope_angle_600_3_diff', '10min_slope_lin_reg_signal_600_3 - slope_lin_reg_signal_600_9', '10min_slope_lin_reg_300_3_diff', '10min_slope_signal_900_9_diff', '10min_slope_div_300_3_diff', '10min_OBV_diff', '10min_slope_signal_300_3_diff', 'slope_angle_300_6_diff', '10min_slope_lin_reg_signal_300_3 - slope_lin_reg_signal_900_9', '10min_slope_angle_300_9_diff', '10min_slope_signal_300_3 - slope_signal_600_3', '10min_slope_div_300_3 - slope_div_900_6', '10min_slope_lin_reg_signal_300_3_diff', 'RSI_7 - RSI_14', 'slope_div_300_3_diff', 'slope_lin_reg_signal_300_3_diff', '10min_slope_angle_300_6 - slope_angle_600_6', 'slope_div_300_6_diff', 'slope_div_300_9_diff', '10min_slope_signal_300_6_diff', 'slope_lin_reg_signal_600_3_diff', 'Open_Trade', '10min_slope_angle_300_9 - slope_angle_600_3', '10min_slope_signal_900_6_diff', '10min_slope_lin_reg_signal_300_3 - slope_lin_reg_signal_600_9', 'slope_lin_reg_300_3 - slope_lin_reg_600_3', 'slope_lin_reg_signal_300_9 - slope_lin_reg_signal_900_6', '10min_slope_angle_300_6 - slope_angle_600_3', '10min_slope_signal_600_3_diff', 'slope_div_300_3 - slope_div_300_6', 'slope_angle_600_6 - slope_angle_600_9', '10min_slope_angle_300_6_diff', '10min_slope_lin_reg_signal_300_6 - slope_lin_reg_signal_900_3', '10min_slope_lin_reg_signal_600_9 - slope_lin_reg_signal_900_6', '10min_slope_angle_300_3 - slope_angle_600_3', '10min_slope_angle_300_3_diff', '10min_slope_signal_300_9 - slope_signal_600_3', '10min_slope_lin_reg_signal_300_6 - slope_lin_reg_signal_600_9', '10min_slope_lin_reg_signal_300_3 - slope_lin_reg_signal_300_9', '10min_slope_lin_reg_600_3 - slope_lin_reg_900_9', '10min_slope_div_300_3 - slope_div_300_6', '10min_slope_angle_300_3 - slope_angle_300_6', 'slope_div_300_6 - slope_div_600_9', '10min_slope_signal_900_3_diff', '10min_slope_signal_600_3 - slope_signal_900_3', 'slope_signal_600_3 - slope_signal_900_9', '10min_slope_div_600_3 - slope_div_600_6', 'slope_angle_900_3 - slope_angle_900_6', '10min_slope_angle_600_9_diff', 'RSI_3_diff', 'slope_lin_reg_signal_300_3 - slope_lin_reg_signal_900_3', '10min_MFI_3_diff', '10min_slope_signal_300_6 - slope_signal_600_3', '10min_slope_angle_600_3 - slope_angle_600_9', 'slope_lin_reg_300_6_diff', '10min_slope_angle_600_6 - slope_angle_900_3', 'slope_div_300_9 - slope_div_600_9', 'RSI_3 - RSI_7', 'slope_angle_300_3_diff', '10min_slope_lin_reg_signal_600_3 - slope_lin_reg_signal_900_9', '10min_slope_signal_600_9 - slope_signal_900_6', '10min_slope_div_300_6_diff', 'slope_angle_300_6 - slope_angle_600_3', 'slope_div_300_6 - slope_div_900_9', '10min_slope_signal_600_6 - slope_signal_900_6', '10min_slope_angle_600_6_diff', 'slope_angle_600_9_diff', '10min_slope_lin_reg_signal_600_6 - slope_lin_reg_signal_600_9', '10min_slope_signal_600_6 - slope_signal_900_9', '10min_slope_lin_reg_signal_900_3_diff', 'slope_angle_600_3_diff', 'slope_angle_600_3 - slope_angle_600_6', 'slope_lin_reg_signal_300_9 - slope_lin_reg_signal_900_3', '10min_slope_signal_300_6 - slope_signal_900_9', '10min_slope_lin_reg_signal_300_9 - slope_lin_reg_signal_600_3', 'slope_lin_reg_signal_600_6 - slope_lin_reg_signal_900_6', '10min_slope_angle_300_9 - slope_angle_900_6', 'slope_signal_900_6_diff', '10min_slope_lin_reg_signal_300_3 - slope_lin_reg_signal_600_3', '10min_slope_signal_900_6 - slope_signal_900_9', '10min_slope_angle_600_9 - slope_angle_900_9', 'slope_signal_300_6 - slope_signal_600_3', 'slope_angle_300_6 - slope_angle_900_9', 'slope_signal_300_9 - slope_signal_600_9', 'slope_angle_600_6_diff', 'slope_angle_300_9 - slope_angle_900_9', 'slope_lin_reg_signal_300_6 - slope_lin_reg_signal_900_6', '10min_MFI_3 - MFI_7', '10min_slope_signal_300_3 - slope_signal_900_9', 'slope_signal_300_9 - slope_signal_900_9', '10min_slope_angle_300_6 - slope_angle_600_9', 'slope_signal_600_9_diff', '10min_slope_angle_300_6 - slope_angle_900_9', '10min_slope_signal_300_6 - slope_signal_300_9', 'slope_signal_600_3_diff', 'slope_angle_300_3 - slope_angle_600_6', '10min_slope_signal_300_6 - slope_signal_900_6', 'slope_lin_reg_signal_300_3 - slope_lin_reg_signal_600_9', '10min_slope_div_300_3 - slope_div_600_6', 'slope_signal_300_6 - slope_signal_300_9', '10min_slope_div_600_3 - slope_div_900_6', 'slope_signal_600_9 - slope_signal_900_9', 'slope_signal_300_3 - slope_signal_600_9', 'slope_angle_300_3 - slope_angle_300_6', '10min_slope_signal_300_6 - slope_signal_600_9', '10min_slope_angle_300_3 - slope_angle_900_3', 'slope_angle_900_3_diff', 'slope_lin_reg_signal_300_3 - slope_lin_reg_signal_600_3', 'slope_signal_600_6 - slope_signal_900_9', '10min_slope_signal_300_3 - slope_signal_300_9', '10min_slope_signal_300_9 - slope_signal_900_6', '10min_slope_lin_reg_300_3 - slope_lin_reg_600_9', '10min_slope_lin_reg_signal_600_6 - slope_lin_reg_signal_900_6', '10min_slope_lin_reg_signal_900_9_diff', 'slope_signal_600_6_diff', '10min_slope_angle_300_3 - slope_angle_600_9', '10min_slope_signal_300_9 - slope_signal_600_9', 'slope_div_300_6 - slope_div_300_9', '10min_slope_lin_reg_signal_300_9 - slope_lin_reg_signal_900_6', 'slope_signal_300_3 - slope_signal_900_9', '10min_slope_angle_300_9 - slope_angle_900_9', '10min_slope_lin_reg_signal_300_3 - slope_lin_reg_signal_900_6', 'slope_angle_600_6 - slope_angle_900_3', '10min_slope_div_300_6 - slope_div_600_9', '10min_slope_lin_reg_signal_300_3 - slope_lin_reg_signal_300_6', 'slope_lin_reg_signal_300_6 - slope_lin_reg_signal_600_9', '10min_slope_lin_reg_signal_300_9 - slope_lin_reg_signal_900_3', '10min_slope_angle_900_3 - slope_angle_900_6', 'slope_angle_300_6 - slope_angle_600_9', '10min_slope_lin_reg_signal_600_3 - slope_lin_reg_signal_600_6', 'slope_lin_reg_signal_600_6_diff', '10min_slope_lin_reg_signal_900_3 - slope_lin_reg_signal_900_9', '10min_MFI_14_diff', 'slope_angle_300_9 - slope_angle_600_9', '10min_slope_lin_reg_signal_900_6 - slope_lin_reg_signal_900_9', 'slope_signal_300_3 - slope_signal_900_6', 'OBV_diff', 'slope_angle_300_3 - slope_angle_900_9', 'slope_lin_reg_signal_600_3 - slope_lin_reg_signal_600_6', '10min_slope_angle_300_9 - slope_angle_600_9', '10min_slope_lin_reg_signal_600_9 - slope_lin_reg_signal_900_3', '10min_slope_lin_reg_signal_300_3 - slope_lin_reg_signal_900_3', '10min_slope_angle_300_3 - slope_angle_600_6', '10min_slope_angle_300_3 - slope_angle_300_9', 'slope_lin_reg_signal_600_9_diff', '10min_slope_angle_600_3 - slope_angle_900_3', 'slope_lin_reg_signal_600_3 - slope_lin_reg_signal_600_9', 'slope_signal_300_9 - slope_signal_600_6', 'slope_lin_reg_600_6_diff', '10min_slope_signal_600_6_diff', 'slope_angle_300_3 - slope_angle_600_9', '10min_slope_angle_900_9_diff', 'slope_angle_600_6 - slope_angle_900_9', '10min_slope_signal_300_3 - slope_signal_900_6', 'slope_angle_300_9 - slope_angle_600_6', 'slope_signal_600_6 - slope_signal_600_9', '10min_slope_lin_reg_signal_600_3 - slope_lin_reg_signal_900_6', 'slope_signal_300_3 - slope_signal_600_6', 'slope_lin_reg_signal_300_3 - slope_lin_reg_signal_300_9', 'slope_angle_600_3 - slope_angle_900_6', 'slope_angle_300_3 - slope_angle_600_3', 'slope_lin_reg_signal_900_3 - slope_lin_reg_signal_900_9', '10min_slope_lin_reg_signal_600_3 - slope_lin_reg_signal_900_3', 'slope_lin_reg_signal_900_6 - slope_lin_reg_signal_900_9', '10min_slope_angle_600_9 - slope_angle_900_6', '10min_slope_div_300_6 - slope_div_900_9', '10min_slope_lin_reg_signal_300_6 - slope_lin_reg_signal_600_6', 'slope_lin_reg_signal_600_3 - slope_lin_reg_signal_900_6', 'slope_angle_300_6 - slope_angle_300_9', 'slope_lin_reg_signal_600_6 - slope_lin_reg_signal_900_9', '10min_slope_lin_reg_signal_600_3_diff', 'MFI_7 - MFI_14', '10min_slope_angle_600_3 - slope_angle_900_9', 'slope_angle_300_6 - slope_angle_900_6', '10min_slope_lin_reg_signal_300_6 - slope_lin_reg_signal_900_6', 'MFI_14_diff', '10min_slope_angle_300_3 - slope_angle_900_6', 'slope_signal_600_9 - slope_signal_900_6', 'slope_signal_600_3 - slope_signal_900_3', 'slope_angle_300_9 - slope_angle_900_6', '10min_slope_signal_300_3 - slope_signal_600_9', '10min_slope_lin_reg_signal_600_6 - slope_lin_reg_signal_900_3', 'slope_lin_reg_600_9_diff', 'slope_lin_reg_signal_300_6 - slope_lin_reg_signal_600_6', '10min_slope_angle_600_3 - slope_angle_600_6', 'slope_angle_600_9 - slope_angle_900_9', '10min_slope_lin_reg_signal_300_6 - slope_lin_reg_signal_900_9', '10min_slope_lin_reg_signal_900_3 - slope_lin_reg_signal_900_6', 'slope_lin_reg_signal_300_3 - slope_lin_reg_signal_900_9', 'slope_lin_reg_signal_300_9 - slope_lin_reg_signal_600_3', 'slope_angle_600_9 - slope_angle_900_6', 'slope_signal_300_3 - slope_signal_900_3', 'MFI_3_diff', 'slope_signal_300_6 - slope_signal_900_6', 'slope_lin_reg_signal_300_9 - slope_lin_reg_signal_600_6', 'slope_lin_reg_signal_900_9_diff', 'slope_signal_300_6 - slope_signal_600_6', 'slope_signal_900_3_diff', 'slope_signal_300_6 - slope_signal_600_9', '10min_slope_signal_300_3 - slope_signal_600_6', 'slope_div_300_3 - slope_div_600_6', 'slope_angle_900_6_diff', '10min_slope_angle_300_3 - slope_angle_900_9', '10min_slope_lin_reg_signal_600_9 - slope_lin_reg_signal_900_9', 'slope_angle_600_6 - slope_angle_900_6', 'slope_lin_reg_signal_300_6 - slope_lin_reg_signal_900_3', 'slope_lin_reg_signal_600_6 - slope_lin_reg_signal_600_9', '10min_MFI_3 - MFI_14', 'slope_signal_600_3 - slope_signal_900_6', '10min_slope_signal_600_9 - slope_signal_900_9', '10min_slope_angle_300_6 - slope_angle_900_3', '10min_slope_signal_300_3 - slope_signal_300_6', '10min_slope_lin_reg_signal_600_6_diff', 'slope_signal_900_6 - slope_signal_900_9', 'slope_angle_300_3 - slope_angle_900_6', 'slope_lin_reg_signal_600_9 - slope_lin_reg_signal_900_6', 'slope_signal_600_6 - slope_signal_900_6', 'slope_angle_300_3 - slope_angle_300_9', '10min_slope_lin_reg_signal_300_9_diff', 'slope_signal_600_3 - slope_signal_600_6']\n"
          ]
        }
      ],
      "source": [
        "### Define Train dataframe\n",
        "\n",
        "print('Train_Min_Date', train.index.min())\n",
        "print('Train_Max_Date', train.index.max(),'\\n')\n",
        "\n",
        "print('Test_Min_Date', test.index.min())\n",
        "print('Test_Max_Date', test.index.max(),'\\n')\n",
        "\n",
        "print('Train_Columns : ',list(train.columns), '\\n')\n",
        "print('Test_Columns : ',list(test.columns))"
      ]
    },
    {
      "cell_type": "markdown",
      "id": "61614b7f",
      "metadata": {
        "id": "61614b7f"
      },
      "source": [
        "# Results\n"
      ]
    },
    {
      "cell_type": "code",
      "execution_count": null,
      "id": "JXY2HFrnLIwW",
      "metadata": {
        "id": "JXY2HFrnLIwW"
      },
      "outputs": [],
      "source": [
        "results(train, pnl_column='st_PnL')"
      ]
    },
    {
      "cell_type": "code",
      "execution_count": null,
      "id": "oQLNnk7XLUiJ",
      "metadata": {
        "id": "oQLNnk7XLUiJ"
      },
      "outputs": [],
      "source": [
        "results(test, pnl_column= 'st_PnL')"
      ]
    },
    {
      "cell_type": "markdown",
      "id": "85449914",
      "metadata": {
        "id": "85449914"
      },
      "source": [
        "\n",
        "# ML\n"
      ]
    },
    {
      "cell_type": "markdown",
      "id": "6x4lfhG3E2eq",
      "metadata": {
        "id": "6x4lfhG3E2eq"
      },
      "source": [
        "## Train"
      ]
    },
    {
      "cell_type": "code",
      "execution_count": 221,
      "id": "ceaa6efa",
      "metadata": {
        "colab": {
          "base_uri": "https://localhost:8080/"
        },
        "id": "ceaa6efa",
        "outputId": "0ab664e5-0d6c-4198-8094-3d13fcda1db9"
      },
      "outputs": [
        {
          "output_type": "stream",
          "name": "stdout",
          "text": [
            "Shape of X_train: (14172, 224)\n",
            "Shape of X_test: (6074, 224)\n",
            "Shape of y_train: (14172,)\n",
            "Shape of y_test: (6074,)\n"
          ]
        }
      ],
      "source": [
        "### When using train_test_split it applies the scaler to X_train only\n",
        "start_feature = train.columns.get_loc('10min_RSI_3_diff')\n",
        "train_features = [col for col in train.columns[start_feature:] if col != 'label']\n",
        "\n",
        "X = train.loc[:, train_features]\n",
        "y = train['label']\n",
        "\n",
        "X_train, X_test, y_train, y_test = train_test_split(X, y, test_size=0.3, random_state=42)\n",
        "\n",
        "print(\"Shape of X_train:\", X_train.shape)\n",
        "print(\"Shape of X_test:\",  X_test.shape)\n",
        "print(\"Shape of y_train:\", y_train.shape)\n",
        "print(\"Shape of y_test:\",  y_test.shape)"
      ]
    },
    {
      "cell_type": "code",
      "execution_count": 222,
      "id": "bQ7NohxSqFxk",
      "metadata": {
        "colab": {
          "base_uri": "https://localhost:8080/"
        },
        "id": "bQ7NohxSqFxk",
        "outputId": "eafdb994-25c7-4500-b8d3-1d3265a401d4"
      },
      "outputs": [
        {
          "output_type": "stream",
          "name": "stdout",
          "text": [
            "label\n",
            "0    7113\n",
            "1    7059\n",
            "Name: count, dtype: int64\n",
            "label\n",
            "1    3117\n",
            "0    2957\n",
            "Name: count, dtype: int64\n"
          ]
        }
      ],
      "source": [
        "print(y_train.value_counts())\n",
        "print(y_test.value_counts())"
      ]
    },
    {
      "cell_type": "code",
      "execution_count": 223,
      "id": "G_0TrSpzsRuA",
      "metadata": {
        "colab": {
          "base_uri": "https://localhost:8080/"
        },
        "id": "G_0TrSpzsRuA",
        "outputId": "578244e4-6743-482e-f056-d62552be5d20"
      },
      "outputs": [
        {
          "output_type": "stream",
          "name": "stdout",
          "text": [
            "10min_RSI_3_diff  10min_RSI_3 - RSI_7  10min_slope_angle_900_3_diff  10min_slope_div_600_3_diff  10min_slope_angle_600_3_diff  10min_slope_lin_reg_signal_600_3 - slope_lin_reg_signal_600_9  10min_slope_lin_reg_300_3_diff  10min_slope_signal_900_9_diff  10min_slope_div_300_3_diff  10min_OBV_diff  10min_slope_signal_300_3_diff  slope_angle_300_6_diff  10min_slope_lin_reg_signal_300_3 - slope_lin_reg_signal_900_9  10min_slope_angle_300_9_diff  10min_slope_signal_300_3 - slope_signal_600_3  10min_slope_div_300_3 - slope_div_900_6  10min_slope_lin_reg_signal_300_3_diff  RSI_7 - RSI_14  slope_div_300_3_diff  slope_lin_reg_signal_300_3_diff  10min_slope_angle_300_6 - slope_angle_600_6  slope_div_300_6_diff  slope_div_300_9_diff  10min_slope_signal_300_6_diff  slope_lin_reg_signal_600_3_diff  Open_Trade  10min_slope_angle_300_9 - slope_angle_600_3  10min_slope_signal_900_6_diff  10min_slope_lin_reg_signal_300_3 - slope_lin_reg_signal_600_9  slope_lin_reg_300_3 - slope_lin_reg_600_3  slope_lin_reg_signal_300_9 - slope_lin_reg_signal_900_6  10min_slope_angle_300_6 - slope_angle_600_3  10min_slope_signal_600_3_diff  slope_div_300_3 - slope_div_300_6  slope_angle_600_6 - slope_angle_600_9  10min_slope_angle_300_6_diff  10min_slope_lin_reg_signal_300_6 - slope_lin_reg_signal_900_3  10min_slope_lin_reg_signal_600_9 - slope_lin_reg_signal_900_6  10min_slope_angle_300_3 - slope_angle_600_3  10min_slope_angle_300_3_diff  10min_slope_signal_300_9 - slope_signal_600_3  10min_slope_lin_reg_signal_300_6 - slope_lin_reg_signal_600_9  10min_slope_lin_reg_signal_300_3 - slope_lin_reg_signal_300_9  10min_slope_lin_reg_600_3 - slope_lin_reg_900_9  10min_slope_div_300_3 - slope_div_300_6  10min_slope_angle_300_3 - slope_angle_300_6  slope_div_300_6 - slope_div_600_9  10min_slope_signal_900_3_diff  10min_slope_signal_600_3 - slope_signal_900_3  slope_signal_600_3 - slope_signal_900_9  10min_slope_div_600_3 - slope_div_600_6  slope_angle_900_3 - slope_angle_900_6  10min_slope_angle_600_9_diff  RSI_3_diff  slope_lin_reg_signal_300_3 - slope_lin_reg_signal_900_3  10min_MFI_3_diff  10min_slope_signal_300_6 - slope_signal_600_3  10min_slope_angle_600_3 - slope_angle_600_9  slope_lin_reg_300_6_diff  10min_slope_angle_600_6 - slope_angle_900_3  slope_div_300_9 - slope_div_600_9  RSI_3 - RSI_7  slope_angle_300_3_diff  10min_slope_lin_reg_signal_600_3 - slope_lin_reg_signal_900_9  10min_slope_signal_600_9 - slope_signal_900_6  10min_slope_div_300_6_diff  slope_angle_300_6 - slope_angle_600_3  slope_div_300_6 - slope_div_900_9  10min_slope_signal_600_6 - slope_signal_900_6  10min_slope_angle_600_6_diff  slope_angle_600_9_diff  10min_slope_lin_reg_signal_600_6 - slope_lin_reg_signal_600_9  10min_slope_signal_600_6 - slope_signal_900_9  10min_slope_lin_reg_signal_900_3_diff  slope_angle_600_3_diff  slope_angle_600_3 - slope_angle_600_6  slope_lin_reg_signal_300_9 - slope_lin_reg_signal_900_3  10min_slope_signal_300_6 - slope_signal_900_9  10min_slope_lin_reg_signal_300_9 - slope_lin_reg_signal_600_3  slope_lin_reg_signal_600_6 - slope_lin_reg_signal_900_6  10min_slope_angle_300_9 - slope_angle_900_6  slope_signal_900_6_diff  10min_slope_lin_reg_signal_300_3 - slope_lin_reg_signal_600_3  10min_slope_signal_900_6 - slope_signal_900_9  10min_slope_angle_600_9 - slope_angle_900_9  slope_signal_300_6 - slope_signal_600_3  slope_angle_300_6 - slope_angle_900_9  slope_signal_300_9 - slope_signal_600_9  slope_angle_600_6_diff  slope_angle_300_9 - slope_angle_900_9  slope_lin_reg_signal_300_6 - slope_lin_reg_signal_900_6  10min_MFI_3 - MFI_7  10min_slope_signal_300_3 - slope_signal_900_9  slope_signal_300_9 - slope_signal_900_9  10min_slope_angle_300_6 - slope_angle_600_9  slope_signal_600_9_diff  10min_slope_angle_300_6 - slope_angle_900_9  10min_slope_signal_300_6 - slope_signal_300_9  slope_signal_600_3_diff  slope_angle_300_3 - slope_angle_600_6  10min_slope_signal_300_6 - slope_signal_900_6  slope_lin_reg_signal_300_3 - slope_lin_reg_signal_600_9  10min_slope_div_300_3 - slope_div_600_6  slope_signal_300_6 - slope_signal_300_9  10min_slope_div_600_3 - slope_div_900_6  slope_signal_600_9 - slope_signal_900_9  slope_signal_300_3 - slope_signal_600_9  slope_angle_300_3 - slope_angle_300_6  10min_slope_signal_300_6 - slope_signal_600_9  10min_slope_angle_300_3 - slope_angle_900_3  slope_angle_900_3_diff  slope_lin_reg_signal_300_3 - slope_lin_reg_signal_600_3  slope_signal_600_6 - slope_signal_900_9  10min_slope_signal_300_3 - slope_signal_300_9  10min_slope_signal_300_9 - slope_signal_900_6  10min_slope_lin_reg_300_3 - slope_lin_reg_600_9  10min_slope_lin_reg_signal_600_6 - slope_lin_reg_signal_900_6  10min_slope_lin_reg_signal_900_9_diff  slope_signal_600_6_diff  10min_slope_angle_300_3 - slope_angle_600_9  10min_slope_signal_300_9 - slope_signal_600_9  slope_div_300_6 - slope_div_300_9  10min_slope_lin_reg_signal_300_9 - slope_lin_reg_signal_900_6  slope_signal_300_3 - slope_signal_900_9  10min_slope_angle_300_9 - slope_angle_900_9  10min_slope_lin_reg_signal_300_3 - slope_lin_reg_signal_900_6  slope_angle_600_6 - slope_angle_900_3  10min_slope_div_300_6 - slope_div_600_9  10min_slope_lin_reg_signal_300_3 - slope_lin_reg_signal_300_6  slope_lin_reg_signal_300_6 - slope_lin_reg_signal_600_9  10min_slope_lin_reg_signal_300_9 - slope_lin_reg_signal_900_3  10min_slope_angle_900_3 - slope_angle_900_6  slope_angle_300_6 - slope_angle_600_9  10min_slope_lin_reg_signal_600_3 - slope_lin_reg_signal_600_6  slope_lin_reg_signal_600_6_diff  10min_slope_lin_reg_signal_900_3 - slope_lin_reg_signal_900_9  10min_MFI_14_diff  slope_angle_300_9 - slope_angle_600_9  10min_slope_lin_reg_signal_900_6 - slope_lin_reg_signal_900_9  slope_signal_300_3 - slope_signal_900_6  OBV_diff  slope_angle_300_3 - slope_angle_900_9  slope_lin_reg_signal_600_3 - slope_lin_reg_signal_600_6  10min_slope_angle_300_9 - slope_angle_600_9  10min_slope_lin_reg_signal_600_9 - slope_lin_reg_signal_900_3  10min_slope_lin_reg_signal_300_3 - slope_lin_reg_signal_900_3  10min_slope_angle_300_3 - slope_angle_600_6  10min_slope_angle_300_3 - slope_angle_300_9  slope_lin_reg_signal_600_9_diff  10min_slope_angle_600_3 - slope_angle_900_3  slope_lin_reg_signal_600_3 - slope_lin_reg_signal_600_9  slope_signal_300_9 - slope_signal_600_6  slope_lin_reg_600_6_diff  10min_slope_signal_600_6_diff  slope_angle_300_3 - slope_angle_600_9  10min_slope_angle_900_9_diff  slope_angle_600_6 - slope_angle_900_9  10min_slope_signal_300_3 - slope_signal_900_6  slope_angle_300_9 - slope_angle_600_6  slope_signal_600_6 - slope_signal_600_9  10min_slope_lin_reg_signal_600_3 - slope_lin_reg_signal_900_6  slope_signal_300_3 - slope_signal_600_6  slope_lin_reg_signal_300_3 - slope_lin_reg_signal_300_9  slope_angle_600_3 - slope_angle_900_6  slope_angle_300_3 - slope_angle_600_3  slope_lin_reg_signal_900_3 - slope_lin_reg_signal_900_9  10min_slope_lin_reg_signal_600_3 - slope_lin_reg_signal_900_3  slope_lin_reg_signal_900_6 - slope_lin_reg_signal_900_9  10min_slope_angle_600_9 - slope_angle_900_6  10min_slope_div_300_6 - slope_div_900_9  10min_slope_lin_reg_signal_300_6 - slope_lin_reg_signal_600_6  slope_lin_reg_signal_600_3 - slope_lin_reg_signal_900_6  slope_angle_300_6 - slope_angle_300_9  slope_lin_reg_signal_600_6 - slope_lin_reg_signal_900_9  10min_slope_lin_reg_signal_600_3_diff  MFI_7 - MFI_14  10min_slope_angle_600_3 - slope_angle_900_9  slope_angle_300_6 - slope_angle_900_6  10min_slope_lin_reg_signal_300_6 - slope_lin_reg_signal_900_6  MFI_14_diff  10min_slope_angle_300_3 - slope_angle_900_6  slope_signal_600_9 - slope_signal_900_6  slope_signal_600_3 - slope_signal_900_3  slope_angle_300_9 - slope_angle_900_6  10min_slope_signal_300_3 - slope_signal_600_9  10min_slope_lin_reg_signal_600_6 - slope_lin_reg_signal_900_3  slope_lin_reg_600_9_diff  slope_lin_reg_signal_300_6 - slope_lin_reg_signal_600_6  10min_slope_angle_600_3 - slope_angle_600_6  slope_angle_600_9 - slope_angle_900_9  10min_slope_lin_reg_signal_300_6 - slope_lin_reg_signal_900_9  10min_slope_lin_reg_signal_900_3 - slope_lin_reg_signal_900_6  slope_lin_reg_signal_300_3 - slope_lin_reg_signal_900_9  slope_lin_reg_signal_300_9 - slope_lin_reg_signal_600_3  slope_angle_600_9 - slope_angle_900_6  slope_signal_300_3 - slope_signal_900_3  MFI_3_diff  slope_signal_300_6 - slope_signal_900_6  slope_lin_reg_signal_300_9 - slope_lin_reg_signal_600_6  slope_lin_reg_signal_900_9_diff  slope_signal_300_6 - slope_signal_600_6  slope_signal_900_3_diff  slope_signal_300_6 - slope_signal_600_9  10min_slope_signal_300_3 - slope_signal_600_6  slope_div_300_3 - slope_div_600_6  slope_angle_900_6_diff  10min_slope_angle_300_3 - slope_angle_900_9  10min_slope_lin_reg_signal_600_9 - slope_lin_reg_signal_900_9  slope_angle_600_6 - slope_angle_900_6  slope_lin_reg_signal_300_6 - slope_lin_reg_signal_900_3  slope_lin_reg_signal_600_6 - slope_lin_reg_signal_600_9  10min_MFI_3 - MFI_14  slope_signal_600_3 - slope_signal_900_6  10min_slope_signal_600_9 - slope_signal_900_9  10min_slope_angle_300_6 - slope_angle_900_3  10min_slope_signal_300_3 - slope_signal_300_6  10min_slope_lin_reg_signal_600_6_diff  slope_signal_900_6 - slope_signal_900_9  slope_angle_300_3 - slope_angle_900_6  slope_lin_reg_signal_600_9 - slope_lin_reg_signal_900_6  slope_signal_600_6 - slope_signal_900_6  slope_angle_300_3 - slope_angle_300_9  10min_slope_lin_reg_signal_300_9_diff  slope_signal_600_3 - slope_signal_600_6\n",
            " 3.951614          0.915843             2.756374                      2.253482                    2.869149                      0.111189                                                      -0.419999                        2.351123                       1.979748                    1.871804        2.247735                       0.365326                0.114766                                                       0.025860                     -0.000000                                       0.259481                                 0.013575                               1.443502        3.424109              0.011923                         0.013136                                     2.570617              3.169903              2.701519                       0.012279                        -1.0        -1.693667                                     2.192220                       0.123095                                                       0.343968                                  -0.074297                                                -1.975385                                    2.092510                        1.035619                           0.154576                               0.027314                     -0.058077                                                      -0.086269                                                      -2.855710                                     0.055009                      0.008145                                       0.073737                                                       0.161702                                                       0.149727                                         0.646280                                 0.097160                                    -0.427086                           2.005274                       0.000000                                       0.083415                                 0.896684                                 0.014403                               0.023435                     3.825222    -0.140730                                                 0.543462          0.000000                                       1.944463                                    -0.910947                 -2.028253                                    -1.574033                          0.825932        2.920774                0.118712                                                       0.051389                                       1.189446                   -1.894553                              -1.435955                           0.073737                                       0.026757                      3.395965                0.031559                                                       0.000000                                       0.011596                               2.637705                0.054692                              -0.095219                                                -0.010515                                      -0.137991                                                       0.023518                                                -0.072558                                     2.307693                -0.000000                                                      -0.043785                                      -0.187780                                    -0.008617                                -3.151517                              -0.017109                                 3.159150               -2.712674                              -0.080236                                                 0.508753            -0.010077                                       0.080236                                -0.004256                                    -0.012669                -0.147586                                    -0.012279                                       1.994994                -0.029528                               0.044654                                      -0.104937                                                 0.697709                                 0.030880                                 0.861172                                 0.150553                                 0.025860                                 2.560129                              -0.022890                                      -2.342504                                     2.656353               -0.155830                                                 0.089245                                -0.009183                                       0.041312                                       0.464878                                        -0.098286                                                       0.014108                               2.372721                 0.084195                                    -0.014709                                       0.758297                          -0.109294                                                       0.091440                                -0.156215                                     0.024200                                                      -0.070819                              -0.523566                                 0.070711                                                      -0.103504                                                -0.135614                                                       2.213181                                    -3.242557                               0.128536                                                      -0.000000                         0.118381                                                       0.546789          -3.198762                               0.095454                                                      -0.011295                                1.835673   0.030691                               0.000000                                                -0.063086                                    -0.109490                                                      -0.013099                                                       0.121387                                     0.115682                                     0.000000                        -0.018640                                    -0.000000                                                -0.026255                                -0.764930                  2.443574                       0.118997                               0.023861                      0.067894                               0.039155                                      -2.189941                               0.019566                                 0.033268                                                       0.010077                                 0.000000                                                -0.011378                              -0.110864                               0.042572                                                -0.021272                                                       0.012279                                                -0.036262                                    -0.699000                                 0.046225                                                       0.016184                                                 0.304122                               0.027676                                                 0.012669                               0.629495        1.985129                                    -2.225626                              -0.024945                                                       2.121834     0.047774                                    -0.034749                                 0.023518                                -1.996452                              -0.019954                                      -0.111350                                                      -0.401282                 -0.114008                                                 2.336137                                    -0.183573                               0.065630                                                       0.039324                                                      -0.081440                                                -0.087532                                                -0.194980                               0.014709                                 1.704334   -0.022890                                -0.091063                                                -0.000000                         0.000000                                 1.956252                 0.023518                                -0.009511                                       0.075803                           2.955308               -0.030610                                    -0.000000                                                      -0.124578                              -0.097266                                                -0.000000                                                 0.010788             -0.010289                                 0.018215                                      -1.789667                                    -0.000000                                       0.014108                               0.099836                                -0.122208                               0.010515                                                -0.035289                                 2.211090                               0.018215                               0.009183                                  1\n",
            "-2.649734         -1.571822            -0.092618                     -0.713389                   -0.045762                      0.103575                                                       0.179937                        0.000000                      -0.527312                   -0.949961       -2.247735                      -0.000155               -0.042358                                                       3.108137                     -0.091440                                      -0.916660                                -0.014108                               0.893382       -0.176548             -0.014108                        -0.038668                                     0.011998             -0.531169             -2.606682                      -0.000000                         1.0        -0.371720                                    -2.372721                       0.014709                                                      -0.426406                                   1.831485                                                 0.013687                                    0.011016                       -0.517307                           0.008671                              -0.021284                     -0.062520                                                      -0.038032                                                      -0.059338                                    -0.058319                      1.563770                                       0.017109                                                      -0.000000                                                      -0.130699                                        -0.127983                                -0.075792                                     0.309418                           0.010289                       0.000000                                       0.000000                                -0.362155                                -2.085309                               0.435414                     0.477613     2.493742                                                -0.174461         -0.036448                                      -0.008981                                     0.376514                  0.044785                                     0.641686                          0.659736       -0.041403                0.063214                                                       1.897259                                      -0.068325                    0.518869                               1.155564                          -0.058789                                      -0.021071                     -0.009364                0.077189                                                      -2.287054                                      -0.000000                              -0.204913               -0.658440                               1.848711                                                -2.476614                                      -0.075509                                                       3.007566                                                -0.408080                                     2.192220                -0.099235                                                      -2.078587                                       0.014175                                     1.673323                                -0.035459                               0.090598                                -0.010212               -0.066211                               2.151306                                                -0.597767            -2.124671                                       0.023518                                 0.005760                                     0.000000                 0.019071                                    -2.214253                                       0.000000                -0.153298                              -0.036860                                       2.739947                                                -0.731073                                 2.008910                                -0.596899                                -0.075620                                 0.081549                                -0.102918                              -2.498486                                      -0.048942                                     0.166965                3.007566                                                 2.036132                                -1.728054                                       1.646098                                      -0.197419                                         0.040757                                                      -0.000000                               2.247735                -0.054214                                    -0.077189                                      -0.334734                          -0.020366                                                       0.045962                                -0.549173                                    -0.025764                                                       1.899391                               0.868252                                -0.000000                                                       3.010356                                                -0.056644                                                      -0.005454                                    -0.012143                               0.054717                                                      -0.013099                         0.039324                                                      -0.063829          -0.062447                              -0.018215                                                      -2.188051                                0.980682  -0.114651                              -3.360107                                                -0.715296                                    -0.075509                                                      -0.072771                                                      -0.147863                                     0.431033                                     0.000000                        -0.002048                                    -0.024945                                                -1.773928                                 0.063901                 -2.521180                      -0.090457                               0.021496                     -0.012033                              -0.049937                                      -0.045945                               1.996914                                 0.091440                                                      -2.100531                                 0.057687                                                -0.699973                               0.756286                              -0.010757                                                 0.019566                                                       0.012669                                                 0.005107                                     0.420880                                -0.060261                                                      -0.027676                                                 0.044940                               2.956486                                                -0.000000                              -1.221142       -0.003419                                     0.065546                              -0.024200                                                      -0.229780    -0.072430                                    -1.853237                                -4.029738                                 0.015186                              -2.010181                                      -0.027676                                                      -0.099678                 -0.081175                                                -0.054460                                    -0.032493                              -0.044165                                                       0.066648                                                       2.443574                                                 2.135217                                                 0.061820                              -2.575526                                 1.284413   -0.053395                                -0.072771                                                -0.000000                        -0.048602                                 1.965558                 2.068077                                -0.012669                                       0.118293                           0.296502               -0.054424                                    -0.070711                                                       0.146475                               2.171247                                                 3.007566                                                -0.098799             -1.985312                                -0.019566                                       0.011530                                    -0.010515                                      -0.000000                               1.911750                                -0.038146                              -0.000000                                                -0.023518                                -0.038577                              -0.015394                              -1.885092                                  1\n",
            " 3.419302          0.837597             0.026332                      1.096391                    0.023116                      0.121864                                                      -1.723789                        0.000000                       0.949101                    1.616428        2.126670                       0.028521                0.080236                                                       0.000720                     -0.081175                                      -0.979664                                -0.000000                               1.321487        2.960713              0.014709                         0.134046                                     1.315308              1.212667              2.766559                       0.014108                        -1.0         0.009245                                     2.288415                       0.145500                                                       0.375571                                   0.010515                                                 0.056402                                    2.176717                        0.316989                           0.023730                               0.000830                     -0.089578                                                      -0.148445                                                       0.086631                                     0.004113                     -0.103504                                       0.066648                                                       0.083286                                                       0.058657                                         0.122207                                -0.002972                                    -0.059009                           2.092510                       0.000000                                       0.133126                                 0.232287                                 0.179508                               0.001323                     0.924053     0.114766                                                 0.967352         -0.016863                                      -0.007203                                    -1.130774                 -0.097717                                     0.021364                          1.162510        0.061687                0.077499                                                      -0.078984                                       0.502906                   -0.039839                              -0.031715                          -0.037729                                       0.001814                      0.025886                0.128002                                                       0.102182                                       0.012279                               0.077826                0.061251                              -0.019566                                                 0.111189                                      -0.061199                                                      -0.000000                                                 0.050589                                     0.000000                -0.000000                                                       0.107188                                      -0.063645                                    -0.028038                                 0.039645                              -0.042358                                 0.028057               -0.085852                               0.049937                                                 0.036174             0.054717                                       0.077340                                 0.091283                                     2.879525                 0.028777                                     0.128657                                       1.956252                 0.178685                              -0.023518                                       0.215381                                                -0.399261                                 0.048443                                -0.123848                                 0.179156                                -0.000000                                 0.125353                               0.083750                                      -0.021364                                     0.253716                0.111350                                                 0.197415                                 0.073499                                      -0.111085                                       1.005789                                        -0.075620                                                       0.014108                               2.879525                 0.055618                                    -0.077189                                      -0.047761                          -0.087532                                                       0.118381                                -0.033520                                    -0.035790                                                      -0.158810                              -0.104836                                 0.123095                                                       0.113840                                                -0.071848                                                       0.125081                                     0.066387                               0.018215                                                       0.016184                         0.087402                                                       0.685687          -0.088557                               0.118712                                                      -0.023518                                2.286643   0.142926                               0.075620                                                 0.004304                                    -0.125784                                                      -0.022890                                                       0.137432                                     0.046098                                     0.017109                        -0.154828                                     0.080236                                                -0.069303                                -1.175078                  2.419285                       0.139422                               0.002191                      0.008969                              -0.053860                                      -0.073344                               0.048443                                -0.051389                                                      -0.049937                                 0.157086                                                 0.068509                               0.050537                               0.061508                                                -0.037729                                                       0.033268                                                 0.055770                                    -0.992420                                -0.085851                                                       0.081718                                                 0.123359                               0.037729                                                 0.013099                               0.602657       -0.040480                                     0.006649                              -0.114766                                                       0.579568     0.170015                                    -0.019954                                 0.058789                                -0.069517                               0.034234                                      -0.040757                                                      -0.954346                  0.057687                                                 0.033541                                    -0.029279                              -0.000000                                                      -0.015394                                                       0.197415                                                -0.031559                                                -0.025369                              -0.011295                                 1.304982   -0.012279                                 0.011596                                                 0.014709                        -0.048602                                 0.000000                 0.013575                                -0.031559                                       0.473968                           0.031145                0.018175                                    -0.081718                                                      -0.011488                               0.011923                                                 0.035289                                                 0.018709              0.019954                                 0.031559                                      -0.013187                                    -0.029643                                       0.013575                               0.138624                                 0.163289                              -0.028807                                                 0.035289                                 0.172156                              -0.000000                              -0.000000                                  1\n",
            " 3.402784          1.194677             0.017073                      0.578581                    0.002285                     -0.035790                                                      -0.498875                        2.372721                       0.375081                    0.627921        2.079925                       0.021162               -0.086269                                                      -0.001039                     -0.040757                                       0.370629                                -0.000000                               1.611505        1.504628              0.013575                        -0.055376                                     1.016143              0.688866             -0.000000                       0.013099                         1.0        -0.002114                                     2.419285                      -0.083750                                                       0.431366                                  -0.051511                                                -0.051008                                    2.126670                        0.833903                           0.079917                              -0.000541                     -0.073803                                                       0.039324                                                      -0.128485                                     0.001790                     -1.643559                                      -0.114008                                                       0.012279                                                      -0.227109                                        -0.280716                                -0.053727                                    -0.192023                           2.036132                       0.178871                                      -0.008887                                -0.119541                                 2.459574                              -0.000075                     0.534568    -2.673616                                                 1.495928         -1.939240                                      -0.023393                                    -0.650227                 -0.029117                                    -0.277609                          1.626857        0.036644               -0.039324                                                      -1.910174                                      -0.137763                   -2.059343                              -0.631543                          -0.054717                                       0.000100                      0.019892               -0.030089                                                       0.128657                                       0.011596                               2.852767                2.393571                              -1.871151                                                -2.156211                                      -0.049444                                                      -0.054717                                                -0.005702                                    -0.012279                -0.055416                                                       0.146896                                       0.056769                                     0.018526                                -0.077316                               0.118712                                 0.020193               -0.035492                              -0.095454                                                 0.719038             0.135614                                       0.104937                                -0.126013                                    -0.012279                -0.083589                                     0.063931                                      -0.010515                -0.027462                              -2.546518                                      -0.228426                                                 0.199956                                -0.089578                                -0.025502                                -0.000000                                 0.039155                                 0.076151                               0.128608                                      -0.127776                                     2.757920               -0.121187                                                -0.058077                                 1.738897                                      -1.688678                                      -0.145362                                         0.026669                                                      -0.000000                              -0.012279                -0.124100                                     0.068029                                       0.099772                          -0.051511                                                       0.042572                                 0.000073                                    -0.051579                                                      -2.203223                              -0.113503                                -0.000000                                                      -0.139881                                                -0.073042                                                       0.015014                                    -0.042216                              -0.014709                                                       0.014108                         0.000000                                                       0.561823          -0.022164                              -0.046225                                                       0.129863                                0.751031   0.036058                              -0.057687                                                -0.038253                                     0.000000                                                      -0.089030                                                      -0.104531                                    -0.095526                                     0.014709                        -0.029534                                    -0.104937                                                 0.138247                                -0.337904                  2.493742                       0.049624                               0.000313                      0.074274                              -0.011596                                      -0.076085                              -0.053860                                 0.000000                                                       0.111189                                -0.129863                                                 2.764445                              -3.133197                               2.398823                                                -0.070711                                                      -0.030089                                                 0.023610                                     0.226314                                -0.073737                                                      -0.114008                                                -0.004548                              -0.098286                                                -0.000000                               1.206084        0.002688                                    -0.115092                              -0.053395                                                       0.534221    -0.136606                                     0.058789                                 0.118381                                -0.085150                               1.947561                                      -0.026669                                                      -0.536021                 -0.075620                                                 0.015336                                    -0.032649                              -0.108376                                                       0.044165                                                      -0.237196                                                 0.020366                                                -0.087320                               0.129863                                 1.486878    0.103504                                -0.024945                                                 0.014108                         0.123095                                -0.010289                 0.012279                                 0.020366                                       0.676808                           0.023476               -0.107907                                    -0.000000                                                      -0.040129                              -2.336644                                                -0.085851                                                 0.023943              0.051511                                -4.198137                                      -0.060835                                     1.994994                                      -0.000000                              -0.062520                                -0.064917                               0.024945                                                 0.021272                                 0.053559                              -0.000000                               0.039155                                  1\n",
            " 3.392721          1.135502             0.014696                      3.175224                    0.014940                     -0.079311                                                      -4.453289                        2.372721                       2.633627                    1.843359        2.092510                       0.022500                0.033903                                                       0.020919                      0.037729                                      -0.240112                                 0.012669                               1.435916        6.371104              0.013575                         0.114914                                     5.246713              4.879037              2.575526                       0.012279                        -1.0         0.155101                                     2.176717                       0.048443                                                       0.648756                                  -0.019954                                                 0.152538                                    2.092510                        2.718226                           0.029941                               0.017470                      0.000000                                                       0.011016                                                       0.153811                                     0.013900                      0.096282                                      -0.028807                                                       0.080236                                                      -0.046769                                         0.003214                                -0.066247                                    -2.048874                           1.928112                       0.000000                                       0.000000                                 0.525181                                 2.468026                               0.016373                     0.403503    -0.051579                                                 1.696900          0.073042                                      -0.102837                                    -1.913234                  0.061704                                    -2.751109                          1.106330        0.032292               -0.097230                                                       0.037729                                       1.545041                   -2.313726                              -3.790765                           0.058789                                       0.016181                      0.024097               -0.077499                                                      -0.031559                                       0.011295                               3.190651                2.858338                              -0.078492                                                -0.079311                                       0.052646                                                      -0.000000                                                 0.142440                                     0.000000                 0.163951                                                      -0.058789                                       0.002029                                    -0.044476                                 0.046091                              -0.051389                                 0.022596                0.031770                              -0.024945                                                 0.927764            -0.126967                                      -0.036860                                 0.080621                                     0.000000                 0.072602                                    -0.040757                                      -0.009343                 0.065056                              -0.013575                                       0.013099                                                 0.295205                                -0.020804                                 0.291570                                -0.000000                                -0.082929                                 0.041713                              -0.058077                                       0.114711                                     2.706893               -0.063214                                                -0.040757                                -0.087152                                       0.025120                                       1.564077                                        -0.106943                                                       0.013575                               0.000000                 0.001074                                    -0.017109                                       0.806761                          -0.009511                                                      -0.085914                                 0.090204                                     0.058077                                                      -2.344692                              -0.832667                                 0.106401                                                      -0.048602                                                -0.000000                                                      -0.013757                                     0.059643                              -0.015394                                                       0.013099                        -0.032286                                                       0.814544           0.051328                              -0.026669                                                      -0.087532                                1.996717   0.076361                               0.095060                                                 0.105651                                     0.019566                                                       0.068816                                                       0.040685                                    -0.077649                                     0.015394                        -0.045418                                     0.063469                                                 0.009183                                -1.423310                  2.351123                       0.079167                               0.015757                      0.024607                              -0.081440                                       0.006633                              -0.039155                                -0.090598                                                      -0.048500                                 0.060261                                                 2.982715                              -3.448014                               0.048443                                                -0.091440                                                      -0.028807                                                 0.083777                                    -1.104105                                 0.055416                                                       0.090598                                                 0.004039                              -0.040757                                                 0.011596                               0.549847       -0.107823                                     0.016511                              -0.011923                                                       0.489607     0.115208                                    -0.000000                                 0.035289                                 0.008959                              -0.101532                                      -0.051579                                                      -1.711066                 -0.031559                                                -0.094825                                    -0.017085                              -0.036860                                                      -0.014709                                                      -0.000000                                                -0.087402                                                -0.024224                              -0.099235                                 1.395986   -0.070711                                -0.022890                                                 0.015394                        -0.018215                                -0.009183                -0.056563                                -0.112227                                       1.199944                           0.027175                0.002172                                    -0.017109                                                       0.008318                              -0.087402                                                -0.014709                                                 0.630523             -0.000000                                -0.037729                                       0.126197                                    -0.061199                                       0.013575                              -0.000000                                 0.072544                               0.011923                                                -0.089578                                 0.037859                               0.015394                               0.036448                                  1\n",
            "                                                                                                                                                                                                                                                                                                                                                                                                                                                                                                                                                                                                                                                                                                                                                                                                                                                                                                                                                                                                                                                                                                                                                                                                                                                                                                                                                                                                                                                                                                                                                                                                                                                                                                                                                                                                                                                                                                                                                                                                                                                                                                                                                                                                                                                                                                                                                                                                                                                                                                                                                                                                                                                                                                                                                                                                                                                                                                                                                                                                                                                                                                                                                                                                                                                                                                                                                                                                                                                                                                                                                                                                                                                                                                                                                                                                                                                                                                                                                                                                                                                                                                                                                                                                                                                                                                                                                                                                                                                                                                                                                                                                                                                                                                                                                                                                                                                                                                                                                                                                                                                                                                                                                                                                                                                                                                                                                                                                                                                                                                                                                                                                                                                                                                                                                                                                                                                                                                                                                                                                                                                                                                                                                                                                                                                                                                                                                                                                                                                                                                                                                                                                                                                                                                                                                                                                                                                                                                                                                                                                                                                                                                                                                                                                                                                                                                                                                                                                                                                                                                                                                                                                                                                                                                                                                                                                                                                                                                                                                                                                                                                                                                                                                                                                                                                                                                                                                                                                                                                                                                                                                                                                                                                                                                                                                                                                                                                                                                                                                                                                                                                                                                                                                                                                                                                                                                                                                                                                                                                                                                                                                                                                                                                                                                                                                                                        ..\n",
            "-1.956202         -2.138327            -3.055396                     -0.916298                   -0.757116                      2.245011                                                       0.521646                        0.012669                      -1.440535                   -1.261199       -0.000000                      -0.013860                2.081461                                                      -0.000504                      0.048602                                       3.500314                                -0.000000                              -0.241000       -0.169123             -0.000000                        -0.078101                                    -0.014797              0.222438              0.012669                      -0.000000                         1.0         0.341281                                    -0.000000                       2.135317                                                       1.110210                                   0.144007                                                 0.417825                                    0.000000                        0.098202                           0.129028                              -0.000786                     -0.128657                                                      -2.493742                                                       0.567036                                    -0.003054                      0.032380                                       2.450580                                                      -0.115957                                                       0.436126                                        -1.211047                                 0.039176                                    -1.404227                          -2.079925                       0.000000                                      -1.634550                                -0.606496                                 0.009474                              -0.000882                     0.859132     0.000000                                                -1.715665          0.113840                                      -0.415716                                    -0.374940                  2.163135                                    -0.931082                          0.216059       -0.040664                2.306665                                                       0.018854                                      -1.869248                   -0.074177                              -2.599897                           0.216529                                      -0.006084                      0.008582                3.007566                                                       0.049937                                      -0.000000                              -0.004526               -0.095634                               0.099836                                                 0.123095                                      -0.011295                                                       0.049937                                                 2.102420                                     0.000000                -0.128002                                                      -0.056563                                       0.015950                                     0.042495                                -0.000720                               0.147211                                -0.000032               -0.016774                               0.092074                                                -1.034324             0.000000                                       0.061508                                -0.096276                                    -0.014108                -0.080163                                     0.091924                                       0.000000                -0.192814                               0.189969                                      -0.061508                                                 1.988635                                -2.199007                                 0.289383                                -0.070711                                -1.806974                                 0.047173                               0.156420                                       2.317742                                    -0.005545                0.028807                                                -1.951925                                -0.009343                                       0.052164                                      -0.594308                                         0.000000                                                       0.015394                              -2.351123                -0.047229                                     0.063214                                       0.004593                          -0.046763                                                      -1.841183                                -0.098925                                    -0.137991                                                       0.117122                               0.284858                                -0.019566                                                      -0.018215                                                -0.046763                                                       0.057976                                    -0.097143                              -0.055416                                                      -0.000000                         2.176717                                                      -1.293226          -0.089219                               2.879525                                                       0.087402                                0.544330   0.044381                              -0.015394                                                -0.130532                                    -2.036132                                                      -0.144701                                                      -0.041355                                     0.054744                                     0.000000                         3.115774                                    -0.075509                                                 1.888767                                -0.068279                  0.011596                      -0.023590                              -0.001830                      0.202461                               0.058077                                      -0.166192                              -1.911750                                -0.053395                                                       0.085378                                -0.140730                                                 0.050545                              -0.063245                              -0.055162                                                -0.066648                                                      -0.111350                                                 2.210937                                     3.933485                                -0.162052                                                       0.017109                                                 0.021817                              -0.095060                                                -0.000000                              -0.260317       -0.439483                                    -0.039418                              -0.131737                                                       0.371044     2.807365                                     1.732094                                -0.089578                                -0.045179                               0.029078                                      -0.000000                                                       0.021685                  0.077189                                                -0.578335                                     0.092653                               2.298596                                                      -0.000000                                                      -0.061508                                                 0.124601                                                 0.018830                               0.012279                                -1.339611    0.103575                                 0.135049                                                -0.000000                         0.127196                                 0.000000                -2.132374                                -0.044654                                      -1.029695                          -0.000923               -0.035951                                    -0.000000                                                       0.232535                               0.042572                                                -0.083286                                                -0.224348              0.028544                                -0.051389                                       1.912932                                    -0.102182                                      -0.000000                              -1.884451                                -0.000618                               0.097230                                                -0.000000                                 0.050302                              -0.000000                               0.027559                                  1\n",
            "-2.005019         -1.271798            -0.054567                     -0.289307                   -2.520084                     -0.012669                                                       0.236697                        0.000000                      -0.383169                   -0.471370       -0.000000                       0.032009                2.351123                                                      -0.002225                      0.017109                                       0.665503                                -0.000000                               0.645229        0.481734             -0.000000                         0.040035                                     0.280350             -0.033841             -0.000000                      -0.000000                        -1.0         1.741890                                    -0.000000                       2.420483                                                       0.550216                                   0.072207                                                 2.028962                                    0.000000                        0.079367                           0.045988                              -0.011720                      2.092510                                                       0.077499                                                       2.909695                                    -0.057222                      0.054275                                       3.010356                                                      -0.070711                                                      -0.630827                                        -0.469262                                -0.096029                                     0.288307                           0.000000                       0.000000                                      -0.008887                                -0.428804                                 2.066451                              -0.004882                     0.475702     0.115181                                                 1.657996          0.046763                                      -1.788636                                    -0.262256                  2.103303                                     0.294148                          0.754136        0.135828                0.033268                                                       0.103316                                      -0.669058                   -0.319061                               0.177919                           0.063214                                      -0.055637                      0.010158               -0.066648                                                      -0.107928                                       0.011596                               0.413752                0.361050                               0.055656                                                -0.038032                                       2.123370                                                       0.134502                                                 1.343634                                    -0.011016                 2.978845                                                      -0.126967                                       0.077145                                    -0.017367                                 0.028701                              -2.927069                                 0.049415                0.034074                               0.103575                                                 0.903222            -0.067977                                      -2.546518                                -0.036505                                     2.927069                 0.019536                                    -0.022890                                      -0.010077                 0.165135                               0.125673                                       0.132294                                                 0.148829                                 2.105882                                -0.189506                                -0.049937                                -0.000000                                 0.168812                              -0.012279                                       2.509310                                     2.532815                0.121187                                                -0.033065                                -0.051389                                       0.103189                                      -0.665413                                         0.037729                                                       0.014108                              -0.012279                -0.098214                                     0.015394                                      -0.100782                           2.159599                                                      -0.019954                                 0.065036                                     2.421798                                                      -1.845685                              -0.275835                                 0.033268                                                       0.115957                                                 1.843074                                                      -0.832541                                     0.004260                               0.048602                                                      -0.000000                        -0.012279                                                       0.864442           0.020356                              -0.048602                                                      -0.045817                                0.170561   0.188190                              -0.030089                                                 0.028501                                     0.041635                                                       2.396567                                                      -0.049218                                    -0.114825                                     0.000000                         0.324448                                     0.035790                                                -1.745981                                -0.207268                 -0.000000                       0.174525                              -0.008071                      0.080994                               0.072771                                      -0.017814                              -0.010077                                 0.081175                                                       0.011596                                 0.055416                                                 0.382776                              -0.330707                              -0.011016                                                 0.051389                                                      -0.028807                                                 1.513195                                     0.188662                                 3.220549                                                       0.040757                                                -0.019657                               0.051389                                                 0.011923                              -0.042423       -1.935637                                    -0.032940                               2.546518                                                      -0.317543     2.119907                                    -0.036448                                -0.019566                                -0.017575                              -0.046763                                      -0.000000                                                      -0.261470                  0.044165                                                -2.355242                                     0.031964                               2.739947                                                       0.028807                                                       0.104937                                                 0.043576                                                -0.037032                              -0.026669                                 1.312521   -0.058077                                 0.022310                                                -0.000000                         0.000000                                -0.010289                -0.012669                                 0.023518                                       0.122484                           0.099444               -0.065097                                     0.058789                                                      -0.006296                               0.072207                                                 0.070711                                                 0.064035             -0.030880                                -0.044654                                       1.920031                                    -0.043576                                       0.013575                               0.019566                                 0.128089                              -0.000000                                                -0.085851                                 0.116411                              -0.000000                               0.019954                                  1\n",
            "-2.140621         -1.666775            -0.090038                     -0.994575                   -0.028368                     -0.000000                                                       0.459632                       -2.575526                      -0.970729                   -1.217301       -0.000000                      -2.903878               -0.014709                                                      -0.000517                     -0.091440                                      -0.453880                                -0.015394                               0.667229        0.595105             -0.000000                        -0.084670                                    -0.164585             -0.704382             -2.288415                      -0.000000                         1.0         0.043483                                    -0.000000                      -0.030089                                                       0.776874                                   0.165107                                                -0.043302                                    0.000000                       -0.012915                          -0.104268                              -0.021289                      0.024945                                                      -0.049937                                                      -0.004016                                    -0.021949                      1.451109                                       0.051389                                                      -0.115957                                                      -0.966573                                        -0.829384                                 0.054458                                     0.139692                           0.000000                       0.063931                                       1.785939                                -0.964676                                 0.369682                              -0.020291                     0.693073     0.146719                                                 1.639370         -0.074297                                       0.015970                                    -0.201605                  0.058502                                     1.400175                          0.930639        0.252858                0.014709                                                       1.848711                                      -0.842878                    0.151957                               1.000887                           0.021272                                      -0.018711                     -3.679859               -0.000000                                                       0.081440                                      -0.013099                               0.037276               -0.062485                               0.158463                                                 0.013099                                       0.067065                                                       0.113840                                                 0.003850                                     2.192220                -0.031559                                                       0.062520                                      -0.013485                                    -1.622347                                 0.151931                               0.046225                                 0.002717                2.805488                               0.138624                                                -0.769528             0.038422                                       0.051579                                -0.037660                                     0.000000                -0.051384                                    -2.120098                                      -0.010515                 0.329730                              -0.059719                                       0.030089                                                -0.778014                                -0.000000                                -1.037583                                 0.023518                                 1.848381                                 0.064343                              -2.728669                                       0.052876                                     0.521592                0.133547                                                 2.575526                                -1.637602                                       1.556708                                      -0.921322                                        -0.075620                                                      -0.014709                               2.606682                 0.016446                                    -0.057687                                      -1.113094                           0.021272                                                       1.990856                                 0.089305                                    -0.080236                                                      -0.314928                               0.325448                                -0.118381                                                       0.030089                                                 0.049444                                                      -0.109462                                     0.060276                              -0.000000                                                      -0.000000                         0.024945                                                       1.675945           3.725887                               0.085851                                                      -0.111189                                1.316021   0.161927                              -0.058789                                                 0.110465                                    -0.011016                                                      -0.038032                                                      -0.022512                                    -0.055046                                     0.000000                         0.105643                                    -0.099235                                                -2.040101                                -0.392409                 -0.000000                       0.087801                              -0.017856                     -0.063089                              -0.024945                                       2.256169                               2.521180                                -0.070711                                                      -0.081440                                -0.063214                                                -0.089835                               0.305158                              -0.151337                                                -0.021272                                                      -0.192763                                                -0.068223                                     0.194137                                 0.063931                                                       0.054717                                                -3.048419                              -0.135049                                                -0.013575                              -0.066715        0.011283                                     0.117379                              -0.014709                                                       0.170883    -0.089211                                    -2.025428                                 0.031559                                 1.956422                              -1.834098                                      -0.014108                                                      -0.662197                  0.086712                                                -0.013518                                     0.089516                               0.066648                                                      -0.048602                                                      -0.000000                                                 0.152495                                                 0.078966                              -0.030089                                 0.154807   -2.266127                                 0.121864                                                -0.000000                        -3.265755                                -0.010515                 0.044165                                -0.036860                                       1.409917                           0.003770                0.010879                                     0.018215                                                      -0.009242                               0.131737                                                -0.075620                                                -0.644150             -0.065442                                 3.810608                                       0.002601                                     0.032286                                      -0.014709                               2.056922                                 0.273554                               0.134502                                                -0.031559                                -2.035551                              -0.016184                              -0.038422                                  1\n",
            "-2.153330         -1.292417            -0.341254                     -0.217072                   -0.097160                     -0.038032                                                       0.196791                       -0.011923                      -0.188561                   -0.346026       -0.000000                       0.213068               -0.040757                                                      -0.014022                     -0.035289                                      -0.142620                                -0.016184                               1.465194        0.707298             -3.063315                        -0.033199                                     0.615734              0.037154             -2.665923                      -2.372721                        -1.0         0.110995                                    -0.000000                      -0.033268                                                       0.432613                                  -0.000000                                                 0.111345                                    0.000000                        0.063567                           0.043841                              -0.026854                     -0.032286                                                      -0.013099                                                       0.087395                                    -0.047781                      1.551146                                      -0.100252                                                       0.035289                                                      -0.322572                                        -0.169645                                -0.080648                                     0.849419                           0.000000                      -0.089578                                      -0.067977                                -0.233398                                -0.020761                              -0.017267                     3.074493     0.021772                                                 0.855129          0.016627                                      -0.124257                                     0.009581                  0.330952                                     0.816747                          0.791614        0.909845               -0.051579                                                       1.702723                                      -0.138155                    0.072585                               1.029669                           0.070711                                      -0.031588                      1.181602               -0.085851                                                      -1.900717                                      -0.011923                               2.792554               -0.011189                              -0.044476                                                -2.015630                                      -0.011016                                                       0.019566                                                -0.008664                                     1.994994                 0.014108                                                      -1.759947                                      -0.059768                                    -0.046763                                 0.372624                              -0.099235                                 3.130516                0.298743                               0.048443                                                 0.651339            -1.753006                                      -0.122075                                -0.048175                                     2.493742                -0.090865                                    -2.003709                                       2.079925                -0.030436                               0.033065                                       0.025764                                                -0.249747                                -0.011016                                -0.250419                                -0.070711                                -0.078492                                -0.116913                              -2.186704                                       0.309014                                     2.529047                0.012669                                                -0.058077                                -1.756860                                       1.568695                                      -0.323218                                        -0.123095                                                      -0.013575                               2.176717                -0.097774                                    -0.015394                                      -0.052614                          -0.053860                                                      -0.128657                                -0.010518                                    -0.038032                                                      -0.013948                              -0.061304                                 0.089578                                                      -0.015394                                                -0.009877                                                      -0.396636                                     0.215859                               0.030089                                                      -2.701519                        -0.048443                                                      -0.801923           0.265144                               0.000000                                                      -0.111350                                1.308104   0.112773                               0.077189                                                 0.016266                                     0.033065                                                       0.011923                                                      -0.148552                                    -0.083178                                     0.015394                         0.402949                                     0.011295                                                -0.055656                                -0.084261                 -0.000000                       0.018215                              -0.018756                      0.166949                              -0.010515                                       0.119220                              -0.010289                                -0.057687                                                      -0.089030                                 0.099235                                                -0.063740                              -0.016090                              -0.034808                                                 0.000000                                                      -0.115957                                                -0.025655                                    -0.144292                                -0.014709                                                       0.100252                                                -0.078534                              -0.138247                                                -0.012669                               0.826615       -0.154079                                     0.039302                              -0.083750                                                      -0.180233    -0.201739                                    -0.000000                                 0.033268                                 0.075684                              -1.874387                                      -0.026669                                                      -0.177435                  0.044165                                                -0.160633                                     0.181407                              -0.095454                                                      -0.055416                                                      -0.013099                                                -0.059958                                                -0.069138                              -0.036860                                 0.381335   -0.103575                                -0.011923                                                 0.014709                        -0.114008                                 1.885092                -0.087402                                -0.051511                                       0.357258                           3.167749               -0.138604                                    -0.019566                                                      -0.069065                              -0.010077                                                -0.057687                                                 0.719931             -0.036860                                 0.085851                                       0.269848                                    -0.037729                                      -0.013575                              -0.043576                                -0.089801                               0.058077                                                -0.021272                                -0.135373                              -0.018215                              -0.021772                                  1\n",
            "-2.219215         -1.718583            -0.028987                     -1.187548                   -0.022493                     -0.028807                                                       1.003459                       -2.493742                      -0.890860                   -0.669286       -0.000000                      -0.028142               -0.152117                                                      -0.020050                      0.090598                                      -0.450906                                -0.014709                               0.545945       -0.288593             -0.016184                         0.017529                                    -0.676773             -0.653616             -2.575526                      -0.000000                         1.0         0.022655                                    -0.000000                      -0.139881                                                       0.323829                                   2.395797                                                 0.014459                                    0.000000                       -0.605380                           0.027982                              -0.018282                      0.035790                                                       0.000000                                                      -0.069245                                    -0.020727                      1.732850                                       0.057687                                                      -0.162052                                                      -1.366781                                        -0.436026                                -0.084336                                     0.384743                           0.000000                      -0.040757                                       0.042495                                -0.871516                                -2.130900                              -0.019278                     0.490112     2.826650                                                -1.604027          0.037729                                      -0.057590                                     0.213733                  0.030918                                     1.168306                          0.123986       -0.037698               -0.051389                                                       0.000000                                      -0.290491                    0.511804                               0.748146                          -0.058789                                      -0.017951                     -0.028317                0.037729                                                       0.000000                                      -0.014108                              -0.296413               -0.576318                               2.120098                                                 0.013575                                       0.055162                                                      -0.000000                                                -0.003527                                     0.011016                -0.114008                                                       0.032286                                       0.058080                                    -0.000000                                 0.168972                               0.019566                                -0.034108                0.170156                               2.757716                                                -1.597625             0.036860                                       0.000000                                -0.103817                                     0.000000                -0.042399                                    -2.470579                                       0.000000                -0.022639                              -0.024945                                       3.124381                                                -1.118148                                 0.063469                                -0.774795                                -0.021272                                 0.080236                                -0.067626                              -0.028807                                      -0.027747                                     0.380904                3.893691                                                 0.109490                                -1.976195                                       1.809765                                      -1.354163                                         0.044654                                                      -0.016184                               0.012279                -0.129957                                     3.810608                                      -0.676557                           0.032286                                                       0.074297                                -0.007947                                    -0.133547                                                       1.925138                              -0.836917                                -0.191617                                                       3.705382                                                 0.039932                                                      -0.073533                                     0.133748                              -0.089578                                                      -0.000000                        -0.027676                                                      -0.525684           0.158616                              -0.017109                                                       0.022310                                0.534557   0.039054                              -0.037729                                                -0.055139                                     0.012279                                                      -0.107252                                                      -0.095945                                    -0.071587                                    -3.154362                         0.069576                                    -0.014709                                                -0.104566                                -0.061769                 -0.000000                       0.007736                              -0.018738                      0.067227                               0.000000                                       0.081992                               0.116445                                -0.070711                                                      -0.020804                                -0.014709                                                -0.649781                               0.744514                               0.035790                                                -0.023518                                                       0.028807                                                 0.034189                                    -0.723707                                -0.000000                                                      -0.035289                                                -0.061285                               0.031559                                                -0.014709                              -0.419293       -0.035206                                     0.065362                               0.027676                                                       0.094080    -0.146028                                    -0.066724                                -3.566175                                 0.087381                               0.000000                                       0.048602                                                       0.030809                  3.348184                                                -0.004333                                     0.058554                               0.019566                                                      -0.023518                                                       3.063315                                                 2.493742                                                -0.005157                              -2.485798                                 0.198535   -0.013099                                 2.851919                                                -2.766559                        -0.081175                                 1.928112                 0.070711                                 0.036860                                       0.198114                          -0.043370               -0.110782                                    -0.026669                                                       0.033793                               2.425762                                                 0.016184                                                -1.657931             -0.010289                                 0.054717                                       0.035853                                     0.024200                                      -0.016184                               0.059958                                 0.002657                              -0.013575                                                 0.081718                                -0.096967                              -0.016184                              -0.047608                                  1\n",
            "Name: count, Length: 14226, dtype: int64 \n",
            "\n",
            "label\n",
            "0    7113\n",
            "1    7113\n",
            "Name: count, dtype: int64\n"
          ]
        }
      ],
      "source": [
        "### Rebalance Data frame due to the low number of class 1\n",
        "smote = SMOTE(random_state=42)\n",
        "X_train_resampled, y_train_resampled = smote.fit_resample(X_train, y_train)\n",
        "\n",
        "# Now train your model on the resampled data\n",
        "print(X_train_resampled.value_counts(),'\\n')\n",
        "print(y_train_resampled.value_counts())"
      ]
    },
    {
      "cell_type": "code",
      "execution_count": 224,
      "id": "JQvYaSVZam-a",
      "metadata": {
        "id": "JQvYaSVZam-a"
      },
      "outputs": [],
      "source": [
        "# --------------- Classifier 1: XGBoost ------------------------------------------\n",
        "xgb = XGBClassifier(n_estimators=15, max_depth=3,\n",
        "                    random_state=42, eval_metric='logloss')\n",
        "\n",
        "# --------------- Classifier 2: Logistic Regression Classifier------------------------------------------\n",
        "lr = LogisticRegression(random_state=42)\n",
        "\n",
        "# --------------- Classifier 3: AdaBoost Classifier ------------------------------------------\n",
        "ada = AdaBoostClassifier(n_estimators=15, random_state=42)\n",
        "\n",
        "# --------------- Classifier 4: SVM------------------------------------------\n",
        "svc = svm.SVC(kernel='rbf', probability=True, random_state=42)\n",
        "\n",
        "# Define a list to store the different models\n",
        "estimator = []\n",
        "estimator.append(('LR', lr))\n",
        "estimator.append(('XGB', xgb))\n",
        "estimator.append(('ada', ada))\n",
        "estimator.append(('SVC', svc))"
      ]
    },
    {
      "cell_type": "code",
      "execution_count": 225,
      "id": "9b68d18e",
      "metadata": {
        "id": "9b68d18e"
      },
      "outputs": [],
      "source": [
        "# --------------- Classifier 1: XGBoost ------------------------------------------\n",
        "xgb = XGBClassifier(n_estimators=15, max_depth=3,\n",
        "                    random_state=42, eval_metric='logloss')\n",
        "\n",
        "# --------------- Classifier 2: Logistic Regression Classifier------------------------------------------\n",
        "lr = LogisticRegression(random_state=42)\n",
        "\n",
        "# --------------- Classifier 3: AdaBoost Classifier ------------------------------------------\n",
        "ada = AdaBoostClassifier(n_estimators=15, random_state=42)\n",
        "\n",
        "# --------------- Classifier 4: SVM------------------------------------------\n",
        "svc = svm.SVC(kernel='rbf', probability=True, random_state=42)\n",
        "\n",
        "# Define a list to store the different models\n",
        "estimator = []\n",
        "estimator.append(('LR', lr))\n",
        "estimator.append(('XGB', xgb))\n",
        "estimator.append(('ada', ada))\n",
        "estimator.append(('SVC', svc))"
      ]
    },
    {
      "cell_type": "code",
      "execution_count": 226,
      "id": "606c84c3",
      "metadata": {
        "colab": {
          "base_uri": "https://localhost:8080/",
          "height": 136
        },
        "id": "606c84c3",
        "outputId": "81d8ecff-1273-4571-c4b5-650369fa6989"
      },
      "outputs": [
        {
          "output_type": "execute_result",
          "data": {
            "text/plain": [
              "VotingClassifier(estimators=[('LR', LogisticRegression(random_state=42)),\n",
              "                             ('XGB',\n",
              "                              XGBClassifier(base_score=None, booster=None,\n",
              "                                            callbacks=None,\n",
              "                                            colsample_bylevel=None,\n",
              "                                            colsample_bynode=None,\n",
              "                                            colsample_bytree=None, device=None,\n",
              "                                            early_stopping_rounds=None,\n",
              "                                            enable_categorical=False,\n",
              "                                            eval_metric='logloss',\n",
              "                                            feature_types=None,\n",
              "                                            feature_weights=None, gamma=None,\n",
              "                                            grow_poli...\n",
              "                                            max_cat_threshold=None,\n",
              "                                            max_cat_to_onehot=None,\n",
              "                                            max_delta_step=None, max_depth=3,\n",
              "                                            max_leaves=None,\n",
              "                                            min_child_weight=None, missing=nan,\n",
              "                                            monotone_constraints=None,\n",
              "                                            multi_strategy=None,\n",
              "                                            n_estimators=15, n_jobs=None,\n",
              "                                            num_parallel_tree=None, ...)),\n",
              "                             ('ada',\n",
              "                              AdaBoostClassifier(n_estimators=15,\n",
              "                                                 random_state=42)),\n",
              "                             ('SVC', SVC(probability=True, random_state=42))],\n",
              "                 voting='soft')"
            ],
            "text/html": [
              "<style>#sk-container-id-13 {\n",
              "  /* Definition of color scheme common for light and dark mode */\n",
              "  --sklearn-color-text: #000;\n",
              "  --sklearn-color-text-muted: #666;\n",
              "  --sklearn-color-line: gray;\n",
              "  /* Definition of color scheme for unfitted estimators */\n",
              "  --sklearn-color-unfitted-level-0: #fff5e6;\n",
              "  --sklearn-color-unfitted-level-1: #f6e4d2;\n",
              "  --sklearn-color-unfitted-level-2: #ffe0b3;\n",
              "  --sklearn-color-unfitted-level-3: chocolate;\n",
              "  /* Definition of color scheme for fitted estimators */\n",
              "  --sklearn-color-fitted-level-0: #f0f8ff;\n",
              "  --sklearn-color-fitted-level-1: #d4ebff;\n",
              "  --sklearn-color-fitted-level-2: #b3dbfd;\n",
              "  --sklearn-color-fitted-level-3: cornflowerblue;\n",
              "\n",
              "  /* Specific color for light theme */\n",
              "  --sklearn-color-text-on-default-background: var(--sg-text-color, var(--theme-code-foreground, var(--jp-content-font-color1, black)));\n",
              "  --sklearn-color-background: var(--sg-background-color, var(--theme-background, var(--jp-layout-color0, white)));\n",
              "  --sklearn-color-border-box: var(--sg-text-color, var(--theme-code-foreground, var(--jp-content-font-color1, black)));\n",
              "  --sklearn-color-icon: #696969;\n",
              "\n",
              "  @media (prefers-color-scheme: dark) {\n",
              "    /* Redefinition of color scheme for dark theme */\n",
              "    --sklearn-color-text-on-default-background: var(--sg-text-color, var(--theme-code-foreground, var(--jp-content-font-color1, white)));\n",
              "    --sklearn-color-background: var(--sg-background-color, var(--theme-background, var(--jp-layout-color0, #111)));\n",
              "    --sklearn-color-border-box: var(--sg-text-color, var(--theme-code-foreground, var(--jp-content-font-color1, white)));\n",
              "    --sklearn-color-icon: #878787;\n",
              "  }\n",
              "}\n",
              "\n",
              "#sk-container-id-13 {\n",
              "  color: var(--sklearn-color-text);\n",
              "}\n",
              "\n",
              "#sk-container-id-13 pre {\n",
              "  padding: 0;\n",
              "}\n",
              "\n",
              "#sk-container-id-13 input.sk-hidden--visually {\n",
              "  border: 0;\n",
              "  clip: rect(1px 1px 1px 1px);\n",
              "  clip: rect(1px, 1px, 1px, 1px);\n",
              "  height: 1px;\n",
              "  margin: -1px;\n",
              "  overflow: hidden;\n",
              "  padding: 0;\n",
              "  position: absolute;\n",
              "  width: 1px;\n",
              "}\n",
              "\n",
              "#sk-container-id-13 div.sk-dashed-wrapped {\n",
              "  border: 1px dashed var(--sklearn-color-line);\n",
              "  margin: 0 0.4em 0.5em 0.4em;\n",
              "  box-sizing: border-box;\n",
              "  padding-bottom: 0.4em;\n",
              "  background-color: var(--sklearn-color-background);\n",
              "}\n",
              "\n",
              "#sk-container-id-13 div.sk-container {\n",
              "  /* jupyter's `normalize.less` sets `[hidden] { display: none; }`\n",
              "     but bootstrap.min.css set `[hidden] { display: none !important; }`\n",
              "     so we also need the `!important` here to be able to override the\n",
              "     default hidden behavior on the sphinx rendered scikit-learn.org.\n",
              "     See: https://github.com/scikit-learn/scikit-learn/issues/21755 */\n",
              "  display: inline-block !important;\n",
              "  position: relative;\n",
              "}\n",
              "\n",
              "#sk-container-id-13 div.sk-text-repr-fallback {\n",
              "  display: none;\n",
              "}\n",
              "\n",
              "div.sk-parallel-item,\n",
              "div.sk-serial,\n",
              "div.sk-item {\n",
              "  /* draw centered vertical line to link estimators */\n",
              "  background-image: linear-gradient(var(--sklearn-color-text-on-default-background), var(--sklearn-color-text-on-default-background));\n",
              "  background-size: 2px 100%;\n",
              "  background-repeat: no-repeat;\n",
              "  background-position: center center;\n",
              "}\n",
              "\n",
              "/* Parallel-specific style estimator block */\n",
              "\n",
              "#sk-container-id-13 div.sk-parallel-item::after {\n",
              "  content: \"\";\n",
              "  width: 100%;\n",
              "  border-bottom: 2px solid var(--sklearn-color-text-on-default-background);\n",
              "  flex-grow: 1;\n",
              "}\n",
              "\n",
              "#sk-container-id-13 div.sk-parallel {\n",
              "  display: flex;\n",
              "  align-items: stretch;\n",
              "  justify-content: center;\n",
              "  background-color: var(--sklearn-color-background);\n",
              "  position: relative;\n",
              "}\n",
              "\n",
              "#sk-container-id-13 div.sk-parallel-item {\n",
              "  display: flex;\n",
              "  flex-direction: column;\n",
              "}\n",
              "\n",
              "#sk-container-id-13 div.sk-parallel-item:first-child::after {\n",
              "  align-self: flex-end;\n",
              "  width: 50%;\n",
              "}\n",
              "\n",
              "#sk-container-id-13 div.sk-parallel-item:last-child::after {\n",
              "  align-self: flex-start;\n",
              "  width: 50%;\n",
              "}\n",
              "\n",
              "#sk-container-id-13 div.sk-parallel-item:only-child::after {\n",
              "  width: 0;\n",
              "}\n",
              "\n",
              "/* Serial-specific style estimator block */\n",
              "\n",
              "#sk-container-id-13 div.sk-serial {\n",
              "  display: flex;\n",
              "  flex-direction: column;\n",
              "  align-items: center;\n",
              "  background-color: var(--sklearn-color-background);\n",
              "  padding-right: 1em;\n",
              "  padding-left: 1em;\n",
              "}\n",
              "\n",
              "\n",
              "/* Toggleable style: style used for estimator/Pipeline/ColumnTransformer box that is\n",
              "clickable and can be expanded/collapsed.\n",
              "- Pipeline and ColumnTransformer use this feature and define the default style\n",
              "- Estimators will overwrite some part of the style using the `sk-estimator` class\n",
              "*/\n",
              "\n",
              "/* Pipeline and ColumnTransformer style (default) */\n",
              "\n",
              "#sk-container-id-13 div.sk-toggleable {\n",
              "  /* Default theme specific background. It is overwritten whether we have a\n",
              "  specific estimator or a Pipeline/ColumnTransformer */\n",
              "  background-color: var(--sklearn-color-background);\n",
              "}\n",
              "\n",
              "/* Toggleable label */\n",
              "#sk-container-id-13 label.sk-toggleable__label {\n",
              "  cursor: pointer;\n",
              "  display: flex;\n",
              "  width: 100%;\n",
              "  margin-bottom: 0;\n",
              "  padding: 0.5em;\n",
              "  box-sizing: border-box;\n",
              "  text-align: center;\n",
              "  align-items: start;\n",
              "  justify-content: space-between;\n",
              "  gap: 0.5em;\n",
              "}\n",
              "\n",
              "#sk-container-id-13 label.sk-toggleable__label .caption {\n",
              "  font-size: 0.6rem;\n",
              "  font-weight: lighter;\n",
              "  color: var(--sklearn-color-text-muted);\n",
              "}\n",
              "\n",
              "#sk-container-id-13 label.sk-toggleable__label-arrow:before {\n",
              "  /* Arrow on the left of the label */\n",
              "  content: \"▸\";\n",
              "  float: left;\n",
              "  margin-right: 0.25em;\n",
              "  color: var(--sklearn-color-icon);\n",
              "}\n",
              "\n",
              "#sk-container-id-13 label.sk-toggleable__label-arrow:hover:before {\n",
              "  color: var(--sklearn-color-text);\n",
              "}\n",
              "\n",
              "/* Toggleable content - dropdown */\n",
              "\n",
              "#sk-container-id-13 div.sk-toggleable__content {\n",
              "  max-height: 0;\n",
              "  max-width: 0;\n",
              "  overflow: hidden;\n",
              "  text-align: left;\n",
              "  /* unfitted */\n",
              "  background-color: var(--sklearn-color-unfitted-level-0);\n",
              "}\n",
              "\n",
              "#sk-container-id-13 div.sk-toggleable__content.fitted {\n",
              "  /* fitted */\n",
              "  background-color: var(--sklearn-color-fitted-level-0);\n",
              "}\n",
              "\n",
              "#sk-container-id-13 div.sk-toggleable__content pre {\n",
              "  margin: 0.2em;\n",
              "  border-radius: 0.25em;\n",
              "  color: var(--sklearn-color-text);\n",
              "  /* unfitted */\n",
              "  background-color: var(--sklearn-color-unfitted-level-0);\n",
              "}\n",
              "\n",
              "#sk-container-id-13 div.sk-toggleable__content.fitted pre {\n",
              "  /* unfitted */\n",
              "  background-color: var(--sklearn-color-fitted-level-0);\n",
              "}\n",
              "\n",
              "#sk-container-id-13 input.sk-toggleable__control:checked~div.sk-toggleable__content {\n",
              "  /* Expand drop-down */\n",
              "  max-height: 200px;\n",
              "  max-width: 100%;\n",
              "  overflow: auto;\n",
              "}\n",
              "\n",
              "#sk-container-id-13 input.sk-toggleable__control:checked~label.sk-toggleable__label-arrow:before {\n",
              "  content: \"▾\";\n",
              "}\n",
              "\n",
              "/* Pipeline/ColumnTransformer-specific style */\n",
              "\n",
              "#sk-container-id-13 div.sk-label input.sk-toggleable__control:checked~label.sk-toggleable__label {\n",
              "  color: var(--sklearn-color-text);\n",
              "  background-color: var(--sklearn-color-unfitted-level-2);\n",
              "}\n",
              "\n",
              "#sk-container-id-13 div.sk-label.fitted input.sk-toggleable__control:checked~label.sk-toggleable__label {\n",
              "  background-color: var(--sklearn-color-fitted-level-2);\n",
              "}\n",
              "\n",
              "/* Estimator-specific style */\n",
              "\n",
              "/* Colorize estimator box */\n",
              "#sk-container-id-13 div.sk-estimator input.sk-toggleable__control:checked~label.sk-toggleable__label {\n",
              "  /* unfitted */\n",
              "  background-color: var(--sklearn-color-unfitted-level-2);\n",
              "}\n",
              "\n",
              "#sk-container-id-13 div.sk-estimator.fitted input.sk-toggleable__control:checked~label.sk-toggleable__label {\n",
              "  /* fitted */\n",
              "  background-color: var(--sklearn-color-fitted-level-2);\n",
              "}\n",
              "\n",
              "#sk-container-id-13 div.sk-label label.sk-toggleable__label,\n",
              "#sk-container-id-13 div.sk-label label {\n",
              "  /* The background is the default theme color */\n",
              "  color: var(--sklearn-color-text-on-default-background);\n",
              "}\n",
              "\n",
              "/* On hover, darken the color of the background */\n",
              "#sk-container-id-13 div.sk-label:hover label.sk-toggleable__label {\n",
              "  color: var(--sklearn-color-text);\n",
              "  background-color: var(--sklearn-color-unfitted-level-2);\n",
              "}\n",
              "\n",
              "/* Label box, darken color on hover, fitted */\n",
              "#sk-container-id-13 div.sk-label.fitted:hover label.sk-toggleable__label.fitted {\n",
              "  color: var(--sklearn-color-text);\n",
              "  background-color: var(--sklearn-color-fitted-level-2);\n",
              "}\n",
              "\n",
              "/* Estimator label */\n",
              "\n",
              "#sk-container-id-13 div.sk-label label {\n",
              "  font-family: monospace;\n",
              "  font-weight: bold;\n",
              "  display: inline-block;\n",
              "  line-height: 1.2em;\n",
              "}\n",
              "\n",
              "#sk-container-id-13 div.sk-label-container {\n",
              "  text-align: center;\n",
              "}\n",
              "\n",
              "/* Estimator-specific */\n",
              "#sk-container-id-13 div.sk-estimator {\n",
              "  font-family: monospace;\n",
              "  border: 1px dotted var(--sklearn-color-border-box);\n",
              "  border-radius: 0.25em;\n",
              "  box-sizing: border-box;\n",
              "  margin-bottom: 0.5em;\n",
              "  /* unfitted */\n",
              "  background-color: var(--sklearn-color-unfitted-level-0);\n",
              "}\n",
              "\n",
              "#sk-container-id-13 div.sk-estimator.fitted {\n",
              "  /* fitted */\n",
              "  background-color: var(--sklearn-color-fitted-level-0);\n",
              "}\n",
              "\n",
              "/* on hover */\n",
              "#sk-container-id-13 div.sk-estimator:hover {\n",
              "  /* unfitted */\n",
              "  background-color: var(--sklearn-color-unfitted-level-2);\n",
              "}\n",
              "\n",
              "#sk-container-id-13 div.sk-estimator.fitted:hover {\n",
              "  /* fitted */\n",
              "  background-color: var(--sklearn-color-fitted-level-2);\n",
              "}\n",
              "\n",
              "/* Specification for estimator info (e.g. \"i\" and \"?\") */\n",
              "\n",
              "/* Common style for \"i\" and \"?\" */\n",
              "\n",
              ".sk-estimator-doc-link,\n",
              "a:link.sk-estimator-doc-link,\n",
              "a:visited.sk-estimator-doc-link {\n",
              "  float: right;\n",
              "  font-size: smaller;\n",
              "  line-height: 1em;\n",
              "  font-family: monospace;\n",
              "  background-color: var(--sklearn-color-background);\n",
              "  border-radius: 1em;\n",
              "  height: 1em;\n",
              "  width: 1em;\n",
              "  text-decoration: none !important;\n",
              "  margin-left: 0.5em;\n",
              "  text-align: center;\n",
              "  /* unfitted */\n",
              "  border: var(--sklearn-color-unfitted-level-1) 1pt solid;\n",
              "  color: var(--sklearn-color-unfitted-level-1);\n",
              "}\n",
              "\n",
              ".sk-estimator-doc-link.fitted,\n",
              "a:link.sk-estimator-doc-link.fitted,\n",
              "a:visited.sk-estimator-doc-link.fitted {\n",
              "  /* fitted */\n",
              "  border: var(--sklearn-color-fitted-level-1) 1pt solid;\n",
              "  color: var(--sklearn-color-fitted-level-1);\n",
              "}\n",
              "\n",
              "/* On hover */\n",
              "div.sk-estimator:hover .sk-estimator-doc-link:hover,\n",
              ".sk-estimator-doc-link:hover,\n",
              "div.sk-label-container:hover .sk-estimator-doc-link:hover,\n",
              ".sk-estimator-doc-link:hover {\n",
              "  /* unfitted */\n",
              "  background-color: var(--sklearn-color-unfitted-level-3);\n",
              "  color: var(--sklearn-color-background);\n",
              "  text-decoration: none;\n",
              "}\n",
              "\n",
              "div.sk-estimator.fitted:hover .sk-estimator-doc-link.fitted:hover,\n",
              ".sk-estimator-doc-link.fitted:hover,\n",
              "div.sk-label-container:hover .sk-estimator-doc-link.fitted:hover,\n",
              ".sk-estimator-doc-link.fitted:hover {\n",
              "  /* fitted */\n",
              "  background-color: var(--sklearn-color-fitted-level-3);\n",
              "  color: var(--sklearn-color-background);\n",
              "  text-decoration: none;\n",
              "}\n",
              "\n",
              "/* Span, style for the box shown on hovering the info icon */\n",
              ".sk-estimator-doc-link span {\n",
              "  display: none;\n",
              "  z-index: 9999;\n",
              "  position: relative;\n",
              "  font-weight: normal;\n",
              "  right: .2ex;\n",
              "  padding: .5ex;\n",
              "  margin: .5ex;\n",
              "  width: min-content;\n",
              "  min-width: 20ex;\n",
              "  max-width: 50ex;\n",
              "  color: var(--sklearn-color-text);\n",
              "  box-shadow: 2pt 2pt 4pt #999;\n",
              "  /* unfitted */\n",
              "  background: var(--sklearn-color-unfitted-level-0);\n",
              "  border: .5pt solid var(--sklearn-color-unfitted-level-3);\n",
              "}\n",
              "\n",
              ".sk-estimator-doc-link.fitted span {\n",
              "  /* fitted */\n",
              "  background: var(--sklearn-color-fitted-level-0);\n",
              "  border: var(--sklearn-color-fitted-level-3);\n",
              "}\n",
              "\n",
              ".sk-estimator-doc-link:hover span {\n",
              "  display: block;\n",
              "}\n",
              "\n",
              "/* \"?\"-specific style due to the `<a>` HTML tag */\n",
              "\n",
              "#sk-container-id-13 a.estimator_doc_link {\n",
              "  float: right;\n",
              "  font-size: 1rem;\n",
              "  line-height: 1em;\n",
              "  font-family: monospace;\n",
              "  background-color: var(--sklearn-color-background);\n",
              "  border-radius: 1rem;\n",
              "  height: 1rem;\n",
              "  width: 1rem;\n",
              "  text-decoration: none;\n",
              "  /* unfitted */\n",
              "  color: var(--sklearn-color-unfitted-level-1);\n",
              "  border: var(--sklearn-color-unfitted-level-1) 1pt solid;\n",
              "}\n",
              "\n",
              "#sk-container-id-13 a.estimator_doc_link.fitted {\n",
              "  /* fitted */\n",
              "  border: var(--sklearn-color-fitted-level-1) 1pt solid;\n",
              "  color: var(--sklearn-color-fitted-level-1);\n",
              "}\n",
              "\n",
              "/* On hover */\n",
              "#sk-container-id-13 a.estimator_doc_link:hover {\n",
              "  /* unfitted */\n",
              "  background-color: var(--sklearn-color-unfitted-level-3);\n",
              "  color: var(--sklearn-color-background);\n",
              "  text-decoration: none;\n",
              "}\n",
              "\n",
              "#sk-container-id-13 a.estimator_doc_link.fitted:hover {\n",
              "  /* fitted */\n",
              "  background-color: var(--sklearn-color-fitted-level-3);\n",
              "}\n",
              "</style><div id=\"sk-container-id-13\" class=\"sk-top-container\"><div class=\"sk-text-repr-fallback\"><pre>VotingClassifier(estimators=[(&#x27;LR&#x27;, LogisticRegression(random_state=42)),\n",
              "                             (&#x27;XGB&#x27;,\n",
              "                              XGBClassifier(base_score=None, booster=None,\n",
              "                                            callbacks=None,\n",
              "                                            colsample_bylevel=None,\n",
              "                                            colsample_bynode=None,\n",
              "                                            colsample_bytree=None, device=None,\n",
              "                                            early_stopping_rounds=None,\n",
              "                                            enable_categorical=False,\n",
              "                                            eval_metric=&#x27;logloss&#x27;,\n",
              "                                            feature_types=None,\n",
              "                                            feature_weights=None, gamma=None,\n",
              "                                            grow_poli...\n",
              "                                            max_cat_threshold=None,\n",
              "                                            max_cat_to_onehot=None,\n",
              "                                            max_delta_step=None, max_depth=3,\n",
              "                                            max_leaves=None,\n",
              "                                            min_child_weight=None, missing=nan,\n",
              "                                            monotone_constraints=None,\n",
              "                                            multi_strategy=None,\n",
              "                                            n_estimators=15, n_jobs=None,\n",
              "                                            num_parallel_tree=None, ...)),\n",
              "                             (&#x27;ada&#x27;,\n",
              "                              AdaBoostClassifier(n_estimators=15,\n",
              "                                                 random_state=42)),\n",
              "                             (&#x27;SVC&#x27;, SVC(probability=True, random_state=42))],\n",
              "                 voting=&#x27;soft&#x27;)</pre><b>In a Jupyter environment, please rerun this cell to show the HTML representation or trust the notebook. <br />On GitHub, the HTML representation is unable to render, please try loading this page with nbviewer.org.</b></div><div class=\"sk-container\" hidden><div class=\"sk-item sk-dashed-wrapped\"><div class=\"sk-label-container\"><div class=\"sk-label fitted sk-toggleable\"><input class=\"sk-toggleable__control sk-hidden--visually\" id=\"sk-estimator-id-61\" type=\"checkbox\" ><label for=\"sk-estimator-id-61\" class=\"sk-toggleable__label fitted sk-toggleable__label-arrow\"><div><div>VotingClassifier</div></div><div><a class=\"sk-estimator-doc-link fitted\" rel=\"noreferrer\" target=\"_blank\" href=\"https://scikit-learn.org/1.6/modules/generated/sklearn.ensemble.VotingClassifier.html\">?<span>Documentation for VotingClassifier</span></a><span class=\"sk-estimator-doc-link fitted\">i<span>Fitted</span></span></div></label><div class=\"sk-toggleable__content fitted\"><pre>VotingClassifier(estimators=[(&#x27;LR&#x27;, LogisticRegression(random_state=42)),\n",
              "                             (&#x27;XGB&#x27;,\n",
              "                              XGBClassifier(base_score=None, booster=None,\n",
              "                                            callbacks=None,\n",
              "                                            colsample_bylevel=None,\n",
              "                                            colsample_bynode=None,\n",
              "                                            colsample_bytree=None, device=None,\n",
              "                                            early_stopping_rounds=None,\n",
              "                                            enable_categorical=False,\n",
              "                                            eval_metric=&#x27;logloss&#x27;,\n",
              "                                            feature_types=None,\n",
              "                                            feature_weights=None, gamma=None,\n",
              "                                            grow_poli...\n",
              "                                            max_cat_threshold=None,\n",
              "                                            max_cat_to_onehot=None,\n",
              "                                            max_delta_step=None, max_depth=3,\n",
              "                                            max_leaves=None,\n",
              "                                            min_child_weight=None, missing=nan,\n",
              "                                            monotone_constraints=None,\n",
              "                                            multi_strategy=None,\n",
              "                                            n_estimators=15, n_jobs=None,\n",
              "                                            num_parallel_tree=None, ...)),\n",
              "                             (&#x27;ada&#x27;,\n",
              "                              AdaBoostClassifier(n_estimators=15,\n",
              "                                                 random_state=42)),\n",
              "                             (&#x27;SVC&#x27;, SVC(probability=True, random_state=42))],\n",
              "                 voting=&#x27;soft&#x27;)</pre></div> </div></div><div class=\"sk-parallel\"><div class=\"sk-parallel-item\"><div class=\"sk-item\"><div class=\"sk-label-container\"><div class=\"sk-label fitted sk-toggleable\"><label>LR</label></div></div><div class=\"sk-serial\"><div class=\"sk-item\"><div class=\"sk-estimator fitted sk-toggleable\"><input class=\"sk-toggleable__control sk-hidden--visually\" id=\"sk-estimator-id-62\" type=\"checkbox\" ><label for=\"sk-estimator-id-62\" class=\"sk-toggleable__label fitted sk-toggleable__label-arrow\"><div><div>LogisticRegression</div></div><div><a class=\"sk-estimator-doc-link fitted\" rel=\"noreferrer\" target=\"_blank\" href=\"https://scikit-learn.org/1.6/modules/generated/sklearn.linear_model.LogisticRegression.html\">?<span>Documentation for LogisticRegression</span></a></div></label><div class=\"sk-toggleable__content fitted\"><pre>LogisticRegression(random_state=42)</pre></div> </div></div></div></div></div><div class=\"sk-parallel-item\"><div class=\"sk-item\"><div class=\"sk-label-container\"><div class=\"sk-label fitted sk-toggleable\"><label>XGB</label></div></div><div class=\"sk-serial\"><div class=\"sk-item\"><div class=\"sk-estimator fitted sk-toggleable\"><input class=\"sk-toggleable__control sk-hidden--visually\" id=\"sk-estimator-id-63\" type=\"checkbox\" ><label for=\"sk-estimator-id-63\" class=\"sk-toggleable__label fitted sk-toggleable__label-arrow\"><div><div>XGBClassifier</div></div><div><a class=\"sk-estimator-doc-link fitted\" rel=\"noreferrer\" target=\"_blank\" href=\"https://xgboost.readthedocs.io/en/release_3.0.0/python/python_api.html#xgboost.XGBClassifier\">?<span>Documentation for XGBClassifier</span></a></div></label><div class=\"sk-toggleable__content fitted\"><pre>XGBClassifier(base_score=None, booster=None, callbacks=None,\n",
              "              colsample_bylevel=None, colsample_bynode=None,\n",
              "              colsample_bytree=None, device=None, early_stopping_rounds=None,\n",
              "              enable_categorical=False, eval_metric=&#x27;logloss&#x27;,\n",
              "              feature_types=None, feature_weights=None, gamma=None,\n",
              "              grow_policy=None, importance_type=None,\n",
              "              interaction_constraints=None, learning_rate=None, max_bin=None,\n",
              "              max_cat_threshold=None, max_cat_to_onehot=None,\n",
              "              max_delta_step=None, max_depth=3, max_leaves=None,\n",
              "              min_child_weight=None, missing=nan, monotone_constraints=None,\n",
              "              multi_strategy=None, n_estimators=15, n_jobs=None,\n",
              "              num_parallel_tree=None, ...)</pre></div> </div></div></div></div></div><div class=\"sk-parallel-item\"><div class=\"sk-item\"><div class=\"sk-label-container\"><div class=\"sk-label fitted sk-toggleable\"><label>ada</label></div></div><div class=\"sk-serial\"><div class=\"sk-item\"><div class=\"sk-estimator fitted sk-toggleable\"><input class=\"sk-toggleable__control sk-hidden--visually\" id=\"sk-estimator-id-64\" type=\"checkbox\" ><label for=\"sk-estimator-id-64\" class=\"sk-toggleable__label fitted sk-toggleable__label-arrow\"><div><div>AdaBoostClassifier</div></div><div><a class=\"sk-estimator-doc-link fitted\" rel=\"noreferrer\" target=\"_blank\" href=\"https://scikit-learn.org/1.6/modules/generated/sklearn.ensemble.AdaBoostClassifier.html\">?<span>Documentation for AdaBoostClassifier</span></a></div></label><div class=\"sk-toggleable__content fitted\"><pre>AdaBoostClassifier(n_estimators=15, random_state=42)</pre></div> </div></div></div></div></div><div class=\"sk-parallel-item\"><div class=\"sk-item\"><div class=\"sk-label-container\"><div class=\"sk-label fitted sk-toggleable\"><label>SVC</label></div></div><div class=\"sk-serial\"><div class=\"sk-item\"><div class=\"sk-estimator fitted sk-toggleable\"><input class=\"sk-toggleable__control sk-hidden--visually\" id=\"sk-estimator-id-65\" type=\"checkbox\" ><label for=\"sk-estimator-id-65\" class=\"sk-toggleable__label fitted sk-toggleable__label-arrow\"><div><div>SVC</div></div><div><a class=\"sk-estimator-doc-link fitted\" rel=\"noreferrer\" target=\"_blank\" href=\"https://scikit-learn.org/1.6/modules/generated/sklearn.svm.SVC.html\">?<span>Documentation for SVC</span></a></div></label><div class=\"sk-toggleable__content fitted\"><pre>SVC(probability=True, random_state=42)</pre></div> </div></div></div></div></div></div></div></div></div>"
            ]
          },
          "metadata": {},
          "execution_count": 226
        }
      ],
      "source": [
        "### Implement voting classifier with hard voting\n",
        "\n",
        "ml_model = VotingClassifier(estimators=estimator, voting='soft')\n",
        "ml_model.fit(X_train_resampled, y_train_resampled)"
      ]
    },
    {
      "cell_type": "code",
      "execution_count": 227,
      "id": "0d37141d",
      "metadata": {
        "colab": {
          "base_uri": "https://localhost:8080/"
        },
        "id": "0d37141d",
        "outputId": "da45978e-03f5-4c0e-9b5e-d1d8a4c19b98"
      },
      "outputs": [
        {
          "output_type": "stream",
          "name": "stdout",
          "text": [
            "Confusion Matrix:\n",
            "[[1720 1237]\n",
            " [1274 1843]]\n",
            "\n",
            "Classification Report:\n",
            "              precision    recall  f1-score   support\n",
            "\n",
            "           0       0.57      0.58      0.58      2957\n",
            "           1       0.60      0.59      0.59      3117\n",
            "\n",
            "    accuracy                           0.59      6074\n",
            "   macro avg       0.59      0.59      0.59      6074\n",
            "weighted avg       0.59      0.59      0.59      6074\n",
            "\n",
            "\n",
            "Probability Summary by Confusion Outcome:\n",
            "                Count  Mean Probability  Std Probability\n",
            "Outcome                                                 \n",
            "True Positive    1843          0.591992         0.062095\n",
            "False Positive   1237          0.567730         0.049548\n",
            "True Negative    1720          0.402470         0.082788\n",
            "False Negative   1274          0.438327         0.055391\n"
          ]
        }
      ],
      "source": [
        "y_true = y_test\n",
        "y_pred = ml_model.predict(X_test)\n",
        "y_proba_default = ml_model.predict_proba(X_test)[:, 1]\n",
        "\n",
        "conf_matrix = confusion_matrix(y_true, y_pred)\n",
        "print(\"Confusion Matrix:\")\n",
        "print(conf_matrix)\n",
        "\n",
        "class_report = classification_report(y_true, y_pred)\n",
        "print(\"\\nClassification Report:\")\n",
        "print(class_report)\n",
        "\n",
        "probability_summary = confusion_probability_summary(y_true, y_pred, y_proba_default)\n",
        "print(\"\\nProbability Summary by Confusion Outcome:\")\n",
        "print(probability_summary)\n"
      ]
    },
    {
      "cell_type": "code",
      "execution_count": 228,
      "metadata": {
        "colab": {
          "base_uri": "https://localhost:8080/"
        },
        "id": "qMmwRwNtWz0l",
        "outputId": "532b5e41-c0b2-4c29-e75c-12b9bd5a1e4a"
      },
      "outputs": [
        {
          "output_type": "stream",
          "name": "stdout",
          "text": [
            "Confusion Matrix (Threshold 0.7):\n",
            "[[2942   15]\n",
            " [3015  102]]\n",
            "\n",
            "Classification Report (Threshold 0.7):\n",
            "              precision    recall  f1-score   support\n",
            "\n",
            "           0       0.49      0.99      0.66      2957\n",
            "           1       0.87      0.03      0.06      3117\n",
            "\n",
            "    accuracy                           0.50      6074\n",
            "   macro avg       0.68      0.51      0.36      6074\n",
            "weighted avg       0.69      0.50      0.35      6074\n",
            "\n",
            "\n",
            "Probability Summary by Confusion Outcome (Threshold 0.7):\n",
            "                Count  Mean Probability  Std Probability\n",
            "Outcome                                                 \n",
            "True Positive     102          0.730132         0.021852\n",
            "False Positive     15          0.720027         0.016302\n",
            "True Negative    2942          0.470336         0.106776\n",
            "False Negative   3015          0.522387         0.090136\n"
          ]
        }
      ],
      "source": [
        "# Evaluate ML model using a 0.7 probability threshold for class 1\n",
        "y_proba = ml_model.predict_proba(X_test)[:, 1]\n",
        "y_pred_threshold = (y_proba >= 0.7).astype(int)\n",
        "\n",
        "conf_matrix_threshold = confusion_matrix(y_true, y_pred_threshold)\n",
        "print(\"Confusion Matrix (Threshold 0.7):\")\n",
        "print(conf_matrix_threshold)\n",
        "\n",
        "class_report_threshold = classification_report(y_true, y_pred_threshold)\n",
        "print(\"\\nClassification Report (Threshold 0.7):\")\n",
        "print(class_report_threshold)\n",
        "\n",
        "probability_summary_threshold = confusion_probability_summary(y_true, y_pred_threshold, y_proba)\n",
        "print(\"\\nProbability Summary by Confusion Outcome (Threshold 0.7):\")\n",
        "print(probability_summary_threshold)\n"
      ],
      "id": "qMmwRwNtWz0l"
    },
    {
      "cell_type": "code",
      "execution_count": 229,
      "id": "dCEg0X2E04iQ",
      "metadata": {
        "colab": {
          "base_uri": "https://localhost:8080/"
        },
        "id": "dCEg0X2E04iQ",
        "outputId": "c52265cf-66e4-44f0-a7bb-f2651796d208"
      },
      "outputs": [
        {
          "output_type": "stream",
          "name": "stdout",
          "text": [
            "Model saved successfully at: /content/drive/MyDrive/Course Folder/Forex/XAUUSD/Models/BTCUSD_Short_ml_model.joblib\n"
          ]
        }
      ],
      "source": [
        "### Save ML Model\n",
        "model_path = root_data + 'Models/'+symbol+'_'+direction+'_ml_model.joblib'\n",
        "joblib.dump(ml_model, model_path)\n",
        "print(f\"Model saved successfully at: {model_path}\")"
      ]
    },
    {
      "cell_type": "markdown",
      "id": "rhCVvXKxM2Uk",
      "metadata": {
        "id": "rhCVvXKxM2Uk"
      },
      "source": [
        "## Meta"
      ]
    },
    {
      "cell_type": "code",
      "execution_count": 230,
      "id": "PhMU7vwLPag_",
      "metadata": {
        "colab": {
          "base_uri": "https://localhost:8080/"
        },
        "id": "PhMU7vwLPag_",
        "outputId": "cef0892f-24d8-4583-e73d-7d0fd72e8e03"
      },
      "outputs": [
        {
          "output_type": "stream",
          "name": "stdout",
          "text": [
            "Model loaded successfully from: /content/drive/MyDrive/Course Folder/Forex/XAUUSD/Models/BTCUSD_Short_ml_model.joblib\n"
          ]
        }
      ],
      "source": [
        "### Import ML Model\n",
        "model_path = root_data+'Models/'+symbol+'_'+direction+'_ml_model.joblib'\n",
        "ml_model = joblib.load(model_path)\n",
        "print(f\"Model loaded successfully from: {model_path}\")"
      ]
    },
    {
      "cell_type": "code",
      "execution_count": 231,
      "id": "qszEBUJ-4GCn",
      "metadata": {
        "id": "qszEBUJ-4GCn"
      },
      "outputs": [],
      "source": [
        "#train.head(5)"
      ]
    },
    {
      "cell_type": "code",
      "execution_count": null,
      "id": "yRXiqFivOSNq",
      "metadata": {
        "id": "yRXiqFivOSNq"
      },
      "outputs": [],
      "source": [
        "### Import Data\n",
        "start_feature = train.columns.get_loc('10min_RSI_3_diff')\n",
        "train_features = [col for col in train.columns[start_feature:] if col != 'label']\n",
        "\n",
        "# Select the feature columns from the 'train' DataFrame\n",
        "X_train_features = train[train_features]\n",
        "\n",
        "train['label_ml'] = ml_model.predict(X_train_features)\n",
        "\n",
        "prediction_probabilities = ml_model.predict_proba(X_train_features)\n",
        "train['prob_0'] = prediction_probabilities[:, 0]\n",
        "train['prob_1'] = prediction_probabilities[:, 1]\n",
        "\n",
        "# Additional outputs of the initial model to feed into the meta model.\n",
        "\n",
        "#meta_manual_features = ['label_ml', 'prob_1', 'prob_0']\n",
        "meta_manual_features = ['prob_1']\n",
        "meta_features = train_features + meta_manual_features\n",
        "X_meta_features = train[meta_features]\n",
        "\n",
        "#train.head()"
      ]
    },
    {
      "cell_type": "code",
      "execution_count": null,
      "id": "a7PKPf5CxaRx",
      "metadata": {
        "id": "a7PKPf5CxaRx"
      },
      "outputs": [],
      "source": [
        "train.to_csv(root_data + 'Results/'+symbol+'Meta_Prob_M5+M10_train_l.csv')"
      ]
    },
    {
      "cell_type": "code",
      "execution_count": null,
      "id": "XVlPvtGoxaRy",
      "metadata": {
        "id": "XVlPvtGoxaRy"
      },
      "outputs": [],
      "source": [
        "# Adjust the manual meta features in 'meta_manual_features' if different inputs are required.\n",
        "meta = meta_features.copy()\n",
        "X_meta_features = train[meta]\n",
        "\n",
        "X = train[meta]\n",
        "y = train['label']\n",
        "\n",
        "X_train, X_test, y_train, y_test = train_test_split(X, y, test_size=0.3, random_state=42)\n",
        "\n",
        "print(\"Shape of X_train:\", X_train.shape)\n",
        "print(\"Shape of X_test:\", X_test.shape)\n",
        "print(\"Shape of y_train:\", y_train.shape)\n",
        "print(\"Shape of y_test:\", y_test.shape)"
      ]
    },
    {
      "cell_type": "code",
      "execution_count": null,
      "id": "3rPgnEbGxaRy",
      "metadata": {
        "id": "3rPgnEbGxaRy"
      },
      "outputs": [],
      "source": [
        "print(y_train.value_counts())\n",
        "print(y_test.value_counts())"
      ]
    },
    {
      "cell_type": "code",
      "execution_count": null,
      "id": "VeHU0htFxaRy",
      "metadata": {
        "id": "VeHU0htFxaRy"
      },
      "outputs": [],
      "source": [
        "### Rebalance Data frame due to the low number of class 1\n",
        "\n",
        "smote = SMOTE(random_state=42)\n",
        "X_train_resampled, y_train_resampled = smote.fit_resample(X_train, y_train)"
      ]
    },
    {
      "cell_type": "code",
      "execution_count": null,
      "id": "2XmqHiZBxaRy",
      "metadata": {
        "id": "2XmqHiZBxaRy"
      },
      "outputs": [],
      "source": [
        "# --------------- Classifier 1: XGBoost ------------------------------------------\n",
        "xgb = XGBClassifier(n_estimators=15, max_depth=3,\n",
        "                    random_state=42, eval_metric='logloss')\n",
        "\n",
        "# --------------- Classifier 2: Logistic Regression Classifier------------------------------------------\n",
        "lr = LogisticRegression(random_state=42)\n",
        "\n",
        "# --------------- Classifier 3: AdaBoost Classifier ------------------------------------------\n",
        "ada = AdaBoostClassifier(n_estimators=15, random_state=42)\n",
        "\n",
        "# --------------- Classifier 4: SVM------------------------------------------\n",
        "svc = svm.SVC(kernel='rbf', probability=True, random_state=42)\n",
        "\n",
        "# Define a list to store the different models\n",
        "estimator = []\n",
        "estimator.append(('LR', lr))\n",
        "estimator.append(('XGB', xgb))\n",
        "estimator.append(('ada', ada))\n",
        "estimator.append(('SVC', svc))"
      ]
    },
    {
      "cell_type": "code",
      "execution_count": null,
      "id": "2JHZizlExaRy",
      "metadata": {
        "id": "2JHZizlExaRy"
      },
      "outputs": [],
      "source": [
        "### Implement voting classifier with hard voting\n",
        "\n",
        "meta_ml_model = VotingClassifier(estimators=estimator, voting='soft')\n",
        "meta_ml_model.fit(X_train_resampled, y_train_resampled)"
      ]
    },
    {
      "cell_type": "code",
      "execution_count": null,
      "id": "HU43Cg6jVq6j",
      "metadata": {
        "id": "HU43Cg6jVq6j"
      },
      "outputs": [],
      "source": [
        "y_true = y_test\n",
        "y_pred = meta_ml_model.predict(X_test)\n",
        "meta_y_proba_default = meta_ml_model.predict_proba(X_test)[:, 1]\n",
        "\n",
        "conf_matrix = confusion_matrix(y_true, y_pred)\n",
        "print(\"Confusion Matrix:\")\n",
        "print(conf_matrix)\n",
        "\n",
        "class_report = classification_report(y_true, y_pred)\n",
        "print(\"\\nClassification Report:\")\n",
        "print(class_report)\n",
        "\n",
        "probability_summary = confusion_probability_summary(y_true, y_pred, meta_y_proba_default)\n",
        "print(\"\\nProbability Summary by Confusion Outcome:\")\n",
        "print(probability_summary)\n"
      ]
    },
    {
      "cell_type": "code",
      "execution_count": null,
      "metadata": {
        "id": "pZXiSkdiWz0u"
      },
      "outputs": [],
      "source": [
        "# Evaluate Meta ML model using a 0.7 probability threshold for class 1\n",
        "meta_y_proba = meta_ml_model.predict_proba(X_test)[:, 1]\n",
        "meta_y_pred_threshold = (meta_y_proba >= 0.7).astype(int)\n",
        "\n",
        "meta_conf_matrix_threshold = confusion_matrix(y_true, meta_y_pred_threshold)\n",
        "print(\"Confusion Matrix (Threshold 0.7):\")\n",
        "print(meta_conf_matrix_threshold)\n",
        "\n",
        "meta_class_report_threshold = classification_report(y_true, meta_y_pred_threshold)\n",
        "print(\"\\nClassification Report (Threshold 0.7):\")\n",
        "print(meta_class_report_threshold)\n",
        "\n",
        "meta_probability_summary_threshold = confusion_probability_summary(y_true, meta_y_pred_threshold, meta_y_proba)\n",
        "print(\"\\nProbability Summary by Confusion Outcome (Threshold 0.7):\")\n",
        "print(meta_probability_summary_threshold)\n"
      ],
      "id": "pZXiSkdiWz0u"
    },
    {
      "cell_type": "code",
      "execution_count": null,
      "id": "tAR97BLJu44I",
      "metadata": {
        "id": "tAR97BLJu44I"
      },
      "outputs": [],
      "source": [
        "train['meta_results'] = meta_ml_model.predict(X_meta_features)"
      ]
    },
    {
      "cell_type": "code",
      "execution_count": null,
      "id": "ysM6YjQAj8QR",
      "metadata": {
        "id": "ysM6YjQAj8QR"
      },
      "outputs": [],
      "source": [
        "train.to_csv(root_data + 'Results/'+symbol+'train_l_Signals & Meta_Signals.csv')"
      ]
    },
    {
      "cell_type": "code",
      "execution_count": null,
      "id": "8Y71USlnxaRz",
      "metadata": {
        "id": "8Y71USlnxaRz"
      },
      "outputs": [],
      "source": [
        "### Save ML Model\n",
        "model_path = root_data + 'Models/'+symbol+'_'+direction+'_Meta_ml_model.joblib'\n",
        "joblib.dump(meta_ml_model, model_path)\n",
        "print(f\"Model saved successfully at: {model_path}\")"
      ]
    },
    {
      "cell_type": "markdown",
      "id": "dX1ehVSJJRC9",
      "metadata": {
        "id": "dX1ehVSJJRC9"
      },
      "source": [
        "## PnL Train"
      ]
    },
    {
      "cell_type": "code",
      "execution_count": null,
      "id": "kUfGrpS7kxyW",
      "metadata": {
        "id": "kUfGrpS7kxyW"
      },
      "outputs": [],
      "source": [
        "train['ml_results'] = np.where(train['label_ml']==1, train['st_PnL'],0)\n",
        "results(train, pnl_column='ml_results')"
      ]
    },
    {
      "cell_type": "code",
      "execution_count": null,
      "id": "USsAkHmUYkHT",
      "metadata": {
        "id": "USsAkHmUYkHT"
      },
      "outputs": [],
      "source": [
        "train['meta_ml_results'] = np.where(train['meta_results']==1, train['st_PnL'],0)\n",
        "results(train, pnl_column='meta_ml_results')"
      ]
    },
    {
      "cell_type": "markdown",
      "id": "60f86dad",
      "metadata": {
        "id": "60f86dad"
      },
      "source": [
        "\n",
        "# Test\n"
      ]
    },
    {
      "cell_type": "markdown",
      "id": "q7HA2vsxuup9",
      "metadata": {
        "id": "q7HA2vsxuup9"
      },
      "source": [
        "## Results_ML"
      ]
    },
    {
      "cell_type": "code",
      "execution_count": null,
      "id": "5Y218WrFnt-E",
      "metadata": {
        "id": "5Y218WrFnt-E"
      },
      "outputs": [],
      "source": [
        "### Import ML Model\n",
        "\n",
        "model_path = root_data+'Models/'+symbol+'_'+direction+'_ml_model.joblib'\n",
        "ml_model = joblib.load(model_path)\n",
        "print(f\"Model loaded successfully from: {model_path}\")"
      ]
    },
    {
      "cell_type": "code",
      "execution_count": null,
      "id": "YiE7uKuaDqmf",
      "metadata": {
        "id": "YiE7uKuaDqmf"
      },
      "outputs": [],
      "source": [
        "### Import Meta Model\n",
        "\n",
        "model_path = root_data+'Models/'+symbol+'_'+direction+'_Meta_ml_model.joblib'\n",
        "meta_ml_model = joblib.load(model_path)\n",
        "print(f\"Model loaded successfully from: {model_path}\")"
      ]
    },
    {
      "cell_type": "code",
      "execution_count": null,
      "id": "TGSpa4ZWrC3K",
      "metadata": {
        "id": "TGSpa4ZWrC3K"
      },
      "outputs": [],
      "source": [
        "# Calculate and display Confusion Matrix\n",
        "conf_matrix = confusion_matrix(test['label'], test['label_ml'])\n",
        "print(\"Confusion Matrix:\")\n",
        "print(conf_matrix)\n",
        "\n",
        "# Calculate and display Classification Report\n",
        "class_report = classification_report(test['label'], test['label_ml'])\n",
        "print(\"\\nClassification Report:\")\n",
        "print(class_report)\n",
        "\n",
        "probability_summary_test = confusion_probability_summary(test['label'], test['label_ml'], test['prob_1'])\n",
        "print(\"\\nProbability Summary by Confusion Outcome:\")\n",
        "print(probability_summary_test)\n"
      ]
    },
    {
      "cell_type": "code",
      "execution_count": null,
      "id": "NHV2GIh8s-9b",
      "metadata": {
        "id": "NHV2GIh8s-9b"
      },
      "outputs": [],
      "source": [
        "print(test.columns)"
      ]
    },
    {
      "cell_type": "code",
      "execution_count": null,
      "id": "L5v-IETUsv9j",
      "metadata": {
        "id": "L5v-IETUsv9j"
      },
      "outputs": [],
      "source": [
        "# Calculate and display Confusion Matrix\n",
        "conf_matrix = confusion_matrix(test['label'], test['label_ml'])\n",
        "print(\"Confusion Matrix:\")\n",
        "print(conf_matrix)\n",
        "\n",
        "# Calculate and display Classification Report\n",
        "class_report = classification_report(test['label'], test['label_ml'])\n",
        "print(\"\\nClassification Report:\")\n",
        "print(class_report)\n",
        "\n",
        "probability_summary_test = confusion_probability_summary(test['label'], test['label_ml'], test['prob_1'])\n",
        "print(\"\\nProbability Summary by Confusion Outcome:\")\n",
        "print(probability_summary_test)\n"
      ]
    },
    {
      "cell_type": "code",
      "execution_count": null,
      "metadata": {
        "id": "fU7IXWiGWz0x"
      },
      "outputs": [],
      "source": [
        "# Evaluate ML model on the test set using a 0.7 probability threshold for class 1\n",
        "test['label_ml_prob_70'] = np.where(test['prob_1'] >= 0.7, 1, 0)\n",
        "\n",
        "conf_matrix_prob_70 = confusion_matrix(test['label'], test['label_ml_prob_70'])\n",
        "print(\"Confusion Matrix (Threshold 0.7):\")\n",
        "print(conf_matrix_prob_70)\n",
        "\n",
        "class_report_prob_70 = classification_report(test['label'], test['label_ml_prob_70'])\n",
        "print(\"\\nClassification Report (Threshold 0.7):\")\n",
        "print(class_report_prob_70)\n",
        "\n",
        "probability_summary_prob_70 = confusion_probability_summary(test['label'], test['label_ml_prob_70'], test['prob_1'])\n",
        "print(\"\\nProbability Summary by Confusion Outcome (Threshold 0.7):\")\n",
        "print(probability_summary_prob_70)\n"
      ],
      "id": "fU7IXWiGWz0x"
    },
    {
      "cell_type": "code",
      "execution_count": null,
      "id": "O0tSbMwArC8a",
      "metadata": {
        "id": "O0tSbMwArC8a"
      },
      "outputs": [],
      "source": [
        "# Calculate and display Confusion Matrix\n",
        "conf_matrix = confusion_matrix(test['label'], test['meta_label'])\n",
        "print(\"Confusion Matrix:\")\n",
        "print(conf_matrix)\n",
        "\n",
        "# Calculate and display Classification Report\n",
        "class_report = classification_report(test['label'], test['meta_label'])\n",
        "print(\"\\nClassification Report:\")\n",
        "print(class_report)\n",
        "\n",
        "meta_probability_summary_test = confusion_probability_summary(test['label'], test['meta_label'], test['meta_prob_1'])\n",
        "print(\"\\nProbability Summary by Confusion Outcome:\")\n",
        "print(meta_probability_summary_test)\n"
      ]
    },
    {
      "cell_type": "code",
      "execution_count": null,
      "id": "SgIOg4eErC_H",
      "metadata": {
        "id": "SgIOg4eErC_H"
      },
      "outputs": [],
      "source": [
        "# Calculate and display Confusion Matrix\n",
        "conf_matrix = confusion_matrix(test['label'], test['meta_label'])\n",
        "print(\"Confusion Matrix:\")\n",
        "print(conf_matrix)\n",
        "\n",
        "# Calculate and display Classification Report\n",
        "class_report = classification_report(test['label'], test['meta_label'])\n",
        "print(\"\\nClassification Report:\")\n",
        "print(class_report)\n",
        "\n",
        "meta_probability_summary_test = confusion_probability_summary(test['label'], test['meta_label'], test['meta_prob_1'])\n",
        "print(\"\\nProbability Summary by Confusion Outcome:\")\n",
        "print(meta_probability_summary_test)\n"
      ]
    },
    {
      "cell_type": "code",
      "execution_count": null,
      "metadata": {
        "id": "WcQPv6u2Wz0y"
      },
      "outputs": [],
      "source": [
        "# Evaluate Meta ML model on the test set using a 0.7 probability threshold for class 1\n",
        "test['meta_label_prob_70'] = np.where(test['meta_prob_1'] >= 0.7, 1, 0)\n",
        "\n",
        "meta_conf_matrix_prob_70 = confusion_matrix(test['label'], test['meta_label_prob_70'])\n",
        "print(\"Confusion Matrix (Threshold 0.7):\")\n",
        "print(meta_conf_matrix_prob_70)\n",
        "\n",
        "meta_class_report_prob_70 = classification_report(test['label'], test['meta_label_prob_70'])\n",
        "print(\"\\nClassification Report (Threshold 0.7):\")\n",
        "print(meta_class_report_prob_70)\n",
        "\n",
        "meta_probability_summary_prob_70 = confusion_probability_summary(test['label'], test['meta_label_prob_70'], test['meta_prob_1'])\n",
        "print(\"\\nProbability Summary by Confusion Outcome (Threshold 0.7):\")\n",
        "print(meta_probability_summary_prob_70)\n"
      ],
      "id": "WcQPv6u2Wz0y"
    },
    {
      "cell_type": "markdown",
      "id": "_5BjO-5fvFjb",
      "metadata": {
        "id": "_5BjO-5fvFjb"
      },
      "source": [
        "## Results_PnL"
      ]
    },
    {
      "cell_type": "code",
      "execution_count": null,
      "id": "gj0_nEvuvvjB",
      "metadata": {
        "id": "gj0_nEvuvvjB"
      },
      "outputs": [],
      "source": [
        "# Calculate and display Confusion Matrix\n",
        "conf_matrix = confusion_matrix(test['label'], test['label_ml'])\n",
        "print(\"Confusion Matrix:\")\n",
        "print(conf_matrix)\n",
        "\n",
        "# Calculate and display Classification Report\n",
        "class_report = classification_report(test['label'], test['label_ml'])\n",
        "print(\"\\nClassification Report:\")\n",
        "print(class_report)\n",
        "\n",
        "probability_summary_test = confusion_probability_summary(test['label'], test['label_ml'], test['prob_1'])\n",
        "print(\"\\nProbability Summary by Confusion Outcome:\")\n",
        "print(probability_summary_test)\n"
      ]
    },
    {
      "cell_type": "code",
      "execution_count": null,
      "id": "-iktKy5uvvjC",
      "metadata": {
        "id": "-iktKy5uvvjC"
      },
      "outputs": [],
      "source": [
        "# Calculate and display Confusion Matrix\n",
        "conf_matrix = confusion_matrix(test['label'], test['meta_label'])\n",
        "print(\"Confusion Matrix:\")\n",
        "print(conf_matrix)\n",
        "\n",
        "# Calculate and display Classification Report\n",
        "class_report = classification_report(test['label'], test['meta_label'])\n",
        "print(\"\\nClassification Report:\")\n",
        "print(class_report)\n",
        "\n",
        "meta_probability_summary_test = confusion_probability_summary(test['label'], test['meta_label'], test['meta_prob_1'])\n",
        "print(\"\\nProbability Summary by Confusion Outcome:\")\n",
        "print(meta_probability_summary_test)\n"
      ]
    },
    {
      "cell_type": "markdown",
      "id": "0410fd8b",
      "metadata": {
        "id": "0410fd8b"
      },
      "source": [
        "# Pendientes\n"
      ]
    },
    {
      "cell_type": "code",
      "execution_count": null,
      "id": "CNhE1wXGVTYf",
      "metadata": {
        "id": "CNhE1wXGVTYf"
      },
      "outputs": [],
      "source": []
    }
  ],
  "metadata": {
    "colab": {
      "collapsed_sections": [
        "m8CIB8vltFfH",
        "eaf03429",
        "zhTndYVi1TEV",
        "6x4lfhG3E2eq",
        "rhCVvXKxM2Uk",
        "dX1ehVSJJRC9"
      ],
      "provenance": []
    },
    "kernelspec": {
      "display_name": "Python 3",
      "name": "python3"
    },
    "language_info": {
      "codemirror_mode": {
        "name": "ipython",
        "version": 3
      },
      "file_extension": ".py",
      "mimetype": "text/x-python",
      "name": "python",
      "nbconvert_exporter": "python",
      "pygments_lexer": "ipython3",
      "version": "3.9.5"
    }
  },
  "nbformat": 4,
  "nbformat_minor": 5
}