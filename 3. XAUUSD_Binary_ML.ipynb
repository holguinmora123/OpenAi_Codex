{
  "cells": [
    {
      "cell_type": "markdown",
      "id": "-LNWLq2zhvUz",
      "metadata": {
        "id": "-LNWLq2zhvUz"
      },
      "source": []
    },
    {
      "cell_type": "markdown",
      "metadata": {
        "id": "Ysa-7eLvEMpE"
      },
      "source": [
        "# Gpu"
      ],
      "id": "Ysa-7eLvEMpE"
    },
    {
      "cell_type": "code",
      "execution_count": 1,
      "metadata": {
        "id": "9GJAW8qAEM8f",
        "colab": {
          "base_uri": "https://localhost:8080/"
        },
        "outputId": "22f68795-5b30-469c-c669-fab073558f3a"
      },
      "outputs": [
        {
          "output_type": "stream",
          "name": "stdout",
          "text": [
            "Tue Sep 16 18:42:23 2025       \n",
            "+-----------------------------------------------------------------------------------------+\n",
            "| NVIDIA-SMI 550.54.15              Driver Version: 550.54.15      CUDA Version: 12.4     |\n",
            "|-----------------------------------------+------------------------+----------------------+\n",
            "| GPU  Name                 Persistence-M | Bus-Id          Disp.A | Volatile Uncorr. ECC |\n",
            "| Fan  Temp   Perf          Pwr:Usage/Cap |           Memory-Usage | GPU-Util  Compute M. |\n",
            "|                                         |                        |               MIG M. |\n",
            "|=========================================+========================+======================|\n",
            "|   0  Tesla T4                       Off |   00000000:00:04.0 Off |                    0 |\n",
            "| N/A   63C    P8             11W /   70W |       0MiB /  15360MiB |      0%      Default |\n",
            "|                                         |                        |                  N/A |\n",
            "+-----------------------------------------+------------------------+----------------------+\n",
            "                                                                                         \n",
            "+-----------------------------------------------------------------------------------------+\n",
            "| Processes:                                                                              |\n",
            "|  GPU   GI   CI        PID   Type   Process name                              GPU Memory |\n",
            "|        ID   ID                                                               Usage      |\n",
            "|=========================================================================================|\n",
            "|  No running processes found                                                             |\n",
            "+-----------------------------------------------------------------------------------------+\n"
          ]
        }
      ],
      "source": [
        "!nvidia-smi"
      ],
      "id": "9GJAW8qAEM8f"
    },
    {
      "cell_type": "code",
      "execution_count": 2,
      "metadata": {
        "id": "FcIdAmrNERw-",
        "colab": {
          "base_uri": "https://localhost:8080/"
        },
        "outputId": "86f049cd-3999-4020-e91e-0f38414fe1b4"
      },
      "outputs": [
        {
          "output_type": "execute_result",
          "data": {
            "text/plain": [
              "[PhysicalDevice(name='/physical_device:GPU:0', device_type='GPU')]"
            ]
          },
          "metadata": {},
          "execution_count": 2
        }
      ],
      "source": [
        "import tensorflow as tf\n",
        "tf.config.list_physical_devices('GPU')"
      ],
      "id": "FcIdAmrNERw-"
    },
    {
      "cell_type": "markdown",
      "id": "m8CIB8vltFfH",
      "metadata": {
        "id": "m8CIB8vltFfH"
      },
      "source": [
        "# Set_Up"
      ]
    },
    {
      "cell_type": "code",
      "execution_count": 3,
      "id": "EB5RqjoAtFwl",
      "metadata": {
        "colab": {
          "base_uri": "https://localhost:8080/"
        },
        "id": "EB5RqjoAtFwl",
        "outputId": "b927a0b0-af8b-49a6-b6ec-0c21e7bf027e"
      },
      "outputs": [
        {
          "output_type": "stream",
          "name": "stdout",
          "text": [
            "/content/drive/MyDrive/Course Folder/Forex/XAUUSD/\n"
          ]
        }
      ],
      "source": [
        "strategy   = 'Kalman'\n",
        "process    = 'Train'\n",
        "symbol     = 'BTCUSD'\n",
        "direction  = 'Short'\n",
        "time_frame = 'M5'\n",
        "\n",
        "root_data = f'/content/drive/MyDrive/Course Folder/Forex/XAUUSD/'\n",
        "print(root_data)\n",
        "\n",
        "rolling_window = 100"
      ]
    },
    {
      "cell_type": "markdown",
      "id": "eaf03429",
      "metadata": {
        "id": "eaf03429"
      },
      "source": [
        "# Import_Libraries"
      ]
    },
    {
      "cell_type": "code",
      "execution_count": 4,
      "id": "R9bTNmBwK_Up",
      "metadata": {
        "colab": {
          "base_uri": "https://localhost:8080/"
        },
        "id": "R9bTNmBwK_Up",
        "outputId": "233e461d-0713-4b05-e635-5e6ee271aef4"
      },
      "outputs": [
        {
          "output_type": "stream",
          "name": "stdout",
          "text": [
            "Requirement already satisfied: ta-lib in /usr/local/lib/python3.12/dist-packages (0.6.7)\n",
            "Requirement already satisfied: build in /usr/local/lib/python3.12/dist-packages (from ta-lib) (1.3.0)\n",
            "Requirement already satisfied: cython in /usr/local/lib/python3.12/dist-packages (from ta-lib) (3.0.12)\n",
            "Requirement already satisfied: numpy in /usr/local/lib/python3.12/dist-packages (from ta-lib) (2.0.2)\n",
            "Requirement already satisfied: packaging>=19.1 in /usr/local/lib/python3.12/dist-packages (from build->ta-lib) (25.0)\n",
            "Requirement already satisfied: pyproject_hooks in /usr/local/lib/python3.12/dist-packages (from build->ta-lib) (1.2.0)\n",
            "0.6.7\n"
          ]
        }
      ],
      "source": [
        "!pip install ta-lib\n",
        "import talib as ta\n",
        "print(ta.__version__)"
      ]
    },
    {
      "cell_type": "code",
      "execution_count": 5,
      "id": "bda1a01c",
      "metadata": {
        "id": "bda1a01c"
      },
      "outputs": [],
      "source": [
        "# Import libraries for data manipulation\n",
        "import numpy as np\n",
        "import pandas as pd\n",
        "import os\n",
        "import tensorflow as tf\n",
        "from datetime import timedelta\n",
        "\n",
        "# For machine learning models\n",
        "import xgboost\n",
        "from xgboost import XGBClassifier\n",
        "from sklearn.linear_model import LogisticRegression\n",
        "from sklearn.ensemble import VotingClassifier\n",
        "from sklearn.ensemble import ExtraTreesClassifier\n",
        "from sklearn.ensemble import AdaBoostClassifier\n",
        "from sklearn import svm\n",
        "from sklearn.preprocessing import StandardScaler\n",
        "from sklearn.metrics import classification_report, confusion_matrix\n",
        "from sklearn.model_selection import train_test_split # Import train_test_split\n",
        "\n",
        "from sklearn.model_selection import StratifiedKFold\n",
        "from sklearn.metrics import accuracy_score, precision_score, recall_score, f1_score\n",
        "\n",
        "from tensorflow.keras.models import Sequential\n",
        "from tensorflow.keras.layers import Dense\n",
        "\n",
        "from tensorflow.keras.models import load_model\n",
        "\n",
        "from imblearn.over_sampling import SMOTE\n",
        "from sklearn.model_selection import GridSearchCV\n",
        "\n",
        "# Import matplotlib as an alias plt and set the style\n",
        "import matplotlib.pyplot as plt\n",
        "%matplotlib inline\n",
        "plt.style.use(\"seaborn-v0_8-whitegrid\")\n",
        "\n",
        "# Import sys to append the path for custom function file\n",
        "import sys\n",
        "sys.path.append(\"..\")\n",
        "\n",
        "# Ignore warnings\n",
        "import warnings\n",
        "warnings.filterwarnings('ignore')\n",
        "\n",
        "import joblib"
      ]
    },
    {
      "cell_type": "code",
      "execution_count": 6,
      "id": "DMuFtzf54JN8",
      "metadata": {
        "colab": {
          "base_uri": "https://localhost:8080/"
        },
        "id": "DMuFtzf54JN8",
        "outputId": "80135bfa-2746-45a1-cbe5-ccfaf08584d8"
      },
      "outputs": [
        {
          "output_type": "stream",
          "name": "stdout",
          "text": [
            "Drive already mounted at /content/drive; to attempt to forcibly remount, call drive.mount(\"/content/drive\", force_remount=True).\n"
          ]
        }
      ],
      "source": [
        "from google.colab import drive\n",
        "drive.mount('/content/drive')"
      ]
    },
    {
      "cell_type": "markdown",
      "id": "zhTndYVi1TEV",
      "metadata": {
        "id": "zhTndYVi1TEV"
      },
      "source": [
        "# Support Functions"
      ]
    },
    {
      "cell_type": "code",
      "execution_count": 7,
      "id": "FYEryjzTLPf8",
      "metadata": {
        "id": "FYEryjzTLPf8"
      },
      "outputs": [],
      "source": [
        "def results(data, pnl_column='PnL'):\n",
        "    # Calculate the metrics\n",
        "    time_difference = data.index.max() - data.index.min()\n",
        "    days = time_difference.days\n",
        "    total_trades = data[data['Open_Trade'].notna() & (data['Open_Trade'] != 0)].shape[0]\n",
        "    profit_trades = data[data[pnl_column] > 0].shape[0]\n",
        "    loss_trades = data[data[pnl_column] < 0].shape[0]\n",
        "    profits = data[data[pnl_column] > 0][pnl_column].sum()\n",
        "    losses = data[data[pnl_column] < 0][pnl_column].sum()\n",
        "\n",
        "    # Create a dictionary with the results\n",
        "    results_dict = {\n",
        "        'days': days,\n",
        "        'total_trades': total_trades,\n",
        "        '': '',\n",
        "        'income': profits,\n",
        "        'losses': losses,\n",
        "        'profits': profits + losses,\n",
        "        ' ':' ',\n",
        "        'profit_trades': profit_trades,\n",
        "        'loss_trades': loss_trades,\n",
        "        '  ':'  ',\n",
        "        '% Win_Trades': profit_trades / (profit_trades + loss_trades) * 100 if (profit_trades + loss_trades) > 0 else 0,\n",
        "        '% Loss_Trades': loss_trades / (profit_trades + loss_trades)*100 if (profit_trades + loss_trades) > 0 else 0\n",
        "    }\n",
        "\n",
        "    # Create a DataFrame from the dictionary and transpose it\n",
        "    perf_metrics = pd.DataFrame([results_dict]).T\n",
        "\n",
        "    # Rename the column\n",
        "    perf_metrics.rename(columns={0: 'Results'}, inplace=True)\n",
        "\n",
        "    # Format the DataFrame for display\n",
        "    perf_metrics.loc[['days', 'total_trades', 'profit_trades', 'loss_trades','% Win_Trades','% Loss_Trades'], 'Results'] = perf_metrics.loc[['days', 'total_trades', 'profit_trades', 'loss_trades','% Win_Trades','% Loss_Trades'], 'Results'].apply(lambda x: f\"{x:,.0f}\" if pd.notna(x) else '')\n",
        "    perf_metrics.loc[['income', 'losses', 'profits'], 'Results'] = perf_metrics.loc[['income', 'losses', 'profits'], 'Results'].apply(lambda x: f\"${x:,.2f}\" if pd.notna(x) else '')\n",
        "\n",
        "    return perf_metrics"
      ]
    },
    {
      "cell_type": "code",
      "execution_count": 8,
      "id": "fB8uDm2F1TS1",
      "metadata": {
        "id": "fB8uDm2F1TS1"
      },
      "outputs": [],
      "source": [
        "def create_features(train_data, index):\n",
        "    short_periods = [3, 5, 7, 10, 15, 17]\n",
        "    long_periods = [20, 22, 66, 126, 252]\n",
        "    periods = short_periods + long_periods\n",
        "\n",
        "    features = pd.DataFrame(index=index)\n",
        "\n",
        "    # Indicators that do not depend on the lookback period\n",
        "    features['OBV'] = ta.OBV(train_data['Close'], train_data['Volume'])\n",
        "    features['AD'] = ta.AD(train_data['High'], train_data['Low'],\n",
        "                           train_data['Close'], train_data['Volume'])\n",
        "\n",
        "    # Pre-compute moving averages to avoid repeated calculations\n",
        "    sma = {p: ta.SMA(train_data['Close'], timeperiod=p) for p in periods}\n",
        "    ema = {p: ta.EMA(train_data['Close'], timeperiod=p) for p in periods}\n",
        "\n",
        "    for period in periods:\n",
        "        features[f'RSI_{period}'] = ta.RSI(train_data['Close'], timeperiod=period)\n",
        "        features[f'MFI_{period}'] = ta.MFI(train_data['High'], train_data['Low'],\n",
        "                                           train_data['Close'], train_data['Volume'],\n",
        "                                           timeperiod=period)\n",
        "        features[f'ADX_{period}'] = ta.ADX(train_data['High'], train_data['Low'],\n",
        "                                           train_data['Close'], timeperiod=period)\n",
        "        features[f'ROCP_{period}'] = ta.ROCP(train_data['Close'], timeperiod=period)\n",
        "\n",
        "    for s in short_periods:\n",
        "        for l in long_periods:\n",
        "            features[f'SMA_Crossover_{s}_{l}'] = sma[s] - sma[l]\n",
        "            features[f'EMA_Crossover_{s}_{l}'] = ema[s] - ema[l]\n",
        "\n",
        "    features.dropna(inplace=True)\n",
        "    return features\n"
      ]
    },
    {
      "cell_type": "code",
      "execution_count": 9,
      "id": "196899d1",
      "metadata": {
        "id": "196899d1"
      },
      "outputs": [],
      "source": [
        "def strategy_returns_dynamic_different_thresholds(prices, threshold):\n",
        "    rolling = prices['Rolling Returns'].to_numpy()\n",
        "    yearly_std = prices['Yearly Stdev'].to_numpy()\n",
        "    pct_change = prices['Close'].pct_change().to_numpy()\n",
        "    signals = np.zeros(len(prices), dtype=np.int8)\n",
        "\n",
        "    curr_pos = 0\n",
        "    hold_days = 0\n",
        "    for i in range(len(prices)):\n",
        "        if curr_pos == 0 or hold_days == 20:\n",
        "            thresh_val = threshold * yearly_std[i]\n",
        "            if rolling[i] >= thresh_val:\n",
        "                curr_pos = 1\n",
        "                hold_days = 0\n",
        "            elif rolling[i] < -thresh_val:\n",
        "                curr_pos = -1\n",
        "                hold_days = 0\n",
        "            else:\n",
        "                curr_pos = 0\n",
        "                hold_days = 0\n",
        "        else:\n",
        "            hold_days += 1\n",
        "        signals[i] = curr_pos\n",
        "\n",
        "    prices[f'Signal_{threshold}'] = signals\n",
        "    strategy_returns = pct_change * np.roll(signals, 1)\n",
        "    prices[f'Strategy Returns_{threshold}'] = strategy_returns\n",
        "    return np.cumprod(strategy_returns + 1)\n",
        "\n",
        "\n",
        "def strategy_returns_different_thresholds(prices, threshold):\n",
        "    rolling = prices['Rolling Returns'].to_numpy()\n",
        "    pct_change = prices['Close'].pct_change().to_numpy()\n",
        "    signals = np.zeros(len(prices), dtype=np.int8)\n",
        "\n",
        "    curr_pos = 0\n",
        "    hold_days = 0\n",
        "    for i in range(len(prices)):\n",
        "        if curr_pos == 0 or hold_days == 20:\n",
        "            if rolling[i] >= threshold:\n",
        "                curr_pos = 1\n",
        "                hold_days = 0\n",
        "            elif rolling[i] < threshold:\n",
        "                curr_pos = -1\n",
        "                hold_days = 0\n",
        "        else:\n",
        "            hold_days += 1\n",
        "        signals[i] = curr_pos\n",
        "\n",
        "    prices[f'Signal_{threshold}'] = signals\n",
        "    strategy_returns = pct_change * np.roll(signals, 1)\n",
        "    prices[f'Strategy Returns_{threshold}'] = strategy_returns\n",
        "    return np.cumprod(strategy_returns + 1)\n"
      ]
    },
    {
      "cell_type": "markdown",
      "id": "0ZOg20zC2Gei",
      "metadata": {
        "id": "0ZOg20zC2Gei"
      },
      "source": [
        "# Data"
      ]
    },
    {
      "cell_type": "code",
      "source": [
        "data_type = 'Scale'"
      ],
      "metadata": {
        "id": "dyGl1MUHVebJ"
      },
      "id": "dyGl1MUHVebJ",
      "execution_count": 225,
      "outputs": []
    },
    {
      "cell_type": "code",
      "execution_count": 226,
      "id": "oZ4oncRY2Kv_",
      "metadata": {
        "colab": {
          "base_uri": "https://localhost:8080/"
        },
        "id": "oZ4oncRY2Kv_",
        "outputId": "4b1b0d07-7556-4604-f2b2-34efd53d6e5d"
      },
      "outputs": [
        {
          "output_type": "stream",
          "name": "stdout",
          "text": [
            "The train_data DataFrame covers a period of 937 days.\n"
          ]
        }
      ],
      "source": [
        "### Open OHLC dataframe\n",
        "\n",
        "ohlc = pd.read_csv(root_data + 'Data/'+symbol+'_M5.csv', index_col=0)\n",
        "ohlc.index = pd.to_datetime(ohlc.index)\n",
        "time_difference = ohlc.index.max() - ohlc.index.min()\n",
        "number_of_days = time_difference.days\n",
        "\n",
        "print(f\"The train_data DataFrame covers a period of {number_of_days} days.\")\n",
        "#ohlc.tail(3)"
      ]
    },
    {
      "cell_type": "code",
      "execution_count": 236,
      "id": "vZHp1PgT2L7e",
      "metadata": {
        "colab": {
          "base_uri": "https://localhost:8080/",
          "height": 450
        },
        "id": "vZHp1PgT2L7e",
        "outputId": "9d5231a9-9e92-4c99-ea1d-43a1b3218d0a"
      },
      "outputs": [
        {
          "output_type": "stream",
          "name": "stdout",
          "text": [
            "['label', '10min_RSI_3_diff', '10min_RSI_3', '10min_slope_signal_600_3', '10min_slope_signal_300_3', '10min_slope_div_300_3_diff', '10min_slope_lin_reg_signal_900_6', 'RSI_7', '10min_slope_signal_900_3', '10min_slope_angle_900_3_diff', '10min_slope_signal_900_9_diff', '10min_slope_signal_600_3_diff', '10min_slope_lin_reg_signal_600_3', '10min_slope_div_300_6 - slope_div_600_9', '10min_slope_div_300_9', '10min_slope_signal_300_6 - slope_signal_600_3', '10min_slope_signal_300_6', '10min_slope_signal_300_6 - slope_signal_600_6', '10min_slope_angle_600_3', '10min_slope_angle_600_3_diff', '10min_slope_lin_reg_signal_600_6', '10min_slope_lin_reg_signal_300_6 - slope_lin_reg_signal_900_9', 'Kal_600_minus_Kal_900', '10min_slope_signal_300_9 - slope_signal_900_9', '10min_slope_div_300_3 - slope_div_300_6', '10min_slope_lin_reg_signal_600_9', '10min_slope_signal_600_6', '10min_slope_signal_300_3 - slope_signal_600_3', '10min_slope_signal_300_6 - slope_signal_900_6', '10min_slope_lin_reg_600_3 - slope_lin_reg_900_9', '10min_slope_lin_reg_signal_300_6_diff', '10min_MFI_3_diff', '10min_slope_signal_900_3_diff', 'Close_Kal_300', '10min_slope_lin_reg_signal_600_9 - slope_lin_reg_signal_900_6', '10min_slope_lin_reg_signal_300_6', 'slope_lin_reg_signal_600_6_diff', 'slope_div_600_3', 'slope_div_300_9 - slope_div_600_9', '10min_slope_angle_300_6_diff', '10min_slope_signal_300_6_diff', '10min_slope_angle_600_3 - slope_angle_900_9', 'slope_angle_300_3 - slope_angle_300_9', '10min_slope_lin_reg_signal_600_3 - slope_lin_reg_signal_600_9', '10min_slope_lin_reg_signal_300_3 - slope_lin_reg_signal_300_9', 'slope_angle_600_3', '10min_slope_lin_reg_signal_900_3', '10min_slope_angle_600_6 - slope_angle_900_3', '10min_slope_signal_900_6_diff', 'OBV_diff', '10min_slope_angle_300_3 - slope_angle_300_6', 'slope_angle_300_6_diff', 'RSI_7 - RSI_14', '10min_slope_signal_900_6 - slope_signal_900_9', '10min_slope_div_600_3 - slope_div_600_6', 'RSI_3_diff', '10min_slope_angle_600_9 - slope_angle_900_9', 'slope_angle_300_9 - slope_angle_900_9', '10min_slope_lin_reg_signal_300_9_diff', 'slope_div_300_6 - slope_div_900_9', '10min_slope_signal_600_9 - slope_signal_900_9', '10min_slope_angle_900_6 - slope_angle_900_9', 'RSI_3', '10min_slope_signal_300_3_diff', '10min_slope_lin_reg_signal_300_9 - slope_lin_reg_signal_900_3', '10min_slope_signal_300_6 - slope_signal_600_9', 'slope_signal_600_6 - slope_signal_600_9', 'slope_div_300_6 - slope_div_600_9', '10min_slope_lin_reg_signal_600_6 - slope_lin_reg_signal_900_9', '10min_slope_angle_300_6 - slope_angle_300_9', '10min_slope_lin_reg_signal_300_6 - slope_lin_reg_signal_900_3', 'slope_angle_300_9_diff', '10min_slope_signal_300_6 - slope_signal_900_9', 'slope_signal_600_9_diff', '10min_slope_signal_300_9 - slope_signal_900_6', '10min_slope_angle_300_9 - slope_angle_600_3', '10min_slope_signal_900_6', 'slope_angle_900_9', '10min_slope_signal_900_9', '10min_slope_angle_600_6 - slope_angle_600_9', '10min_slope_angle_300_9', 'slope_lin_reg_signal_900_6 - slope_lin_reg_signal_900_9', '10min_slope_angle_600_6 - slope_angle_900_6', 'slope_lin_reg_signal_300_3', '10min_slope_lin_reg_signal_600_6 - slope_lin_reg_signal_900_6', 'slope_angle_300_6 - slope_angle_900_9', 'slope_div_300_6_diff', 'slope_angle_900_9_diff', 'slope_signal_600_9 - slope_signal_900_6', 'slope_signal_600_6_diff', '10min_slope_lin_reg_signal_900_3 - slope_lin_reg_signal_900_9', '10min_slope_angle_300_6 - slope_angle_600_6', '10min_slope_div_600_3 - slope_div_900_6', '10min_slope_lin_reg_signal_300_3 - slope_lin_reg_signal_600_9', '10min_slope_signal_300_6 - slope_signal_300_9', 'slope_signal_600_3', '10min_slope_angle_300_6 - slope_angle_900_9', 'slope_angle_300_6 - slope_angle_600_9', 'slope_angle_600_3 - slope_angle_900_3', '10min_slope_lin_reg_signal_600_9_diff', 'slope_div_300_3 - slope_div_300_6', 'slope_angle_300_6', 'slope_lin_reg_signal_300_6 - slope_lin_reg_signal_900_6', 'slope_angle_600_6 - slope_angle_900_6', 'slope_lin_reg_signal_600_6 - slope_lin_reg_signal_900_6', '10min_slope_lin_reg_signal_900_3 - slope_lin_reg_signal_900_6', 'slope_angle_600_9 - slope_angle_900_6', '10min_slope_angle_600_6_diff', '10min_slope_lin_reg_signal_300_3 - slope_lin_reg_signal_900_6', '10min_slope_signal_300_9 - slope_signal_600_3', '10min_slope_lin_reg_signal_300_9 - slope_lin_reg_signal_600_6', 'slope_angle_600_3 - slope_angle_600_6', 'slope_angle_900_3', 'MFI_3 - MFI_14', '10min_slope_signal_300_3 - slope_signal_900_9', '10min_slope_lin_reg_signal_600_6 - slope_lin_reg_signal_600_9', 'slope_signal_300_3 - slope_signal_600_6', 'slope_angle_300_6 - slope_angle_300_9', 'slope_angle_300_3', '10min_slope_signal_300_3 - slope_signal_600_6', 'slope_angle_300_9', 'slope_signal_600_9', 'slope_signal_600_6', 'slope_signal_300_9 - slope_signal_900_9', 'Kal_300', '10min_slope_signal_600_3 - slope_signal_900_3', '10min_Kal_300', 'slope_signal_300_6 - slope_signal_600_9', '10min_slope_angle_300_3 - slope_angle_600_6', '10min_OBV_diff', 'RSI_3 - RSI_7', '10min_slope_lin_reg_signal_600_9 - slope_lin_reg_signal_900_3', 'slope_angle_600_3 - slope_angle_900_6', 'slope_lin_reg_signal_300_9 - slope_lin_reg_signal_900_9', '10min_MFI_7 - MFI_14', '10min_slope_signal_600_3 - slope_signal_600_6', 'slope_lin_reg_signal_600_6 - slope_lin_reg_signal_600_9', '10min_slope_angle_300_9 - slope_angle_900_6', '10min_slope_lin_reg_signal_300_6 - slope_lin_reg_signal_300_9', '10min_slope_lin_reg_signal_600_3 - slope_lin_reg_signal_900_3', '10min_slope_lin_reg_signal_300_6 - slope_lin_reg_signal_900_6', 'slope_lin_reg_600_6_diff', 'slope_angle_600_9', 'slope_lin_reg_signal_300_6 - slope_lin_reg_signal_600_6', 'MFI_7 - MFI_14', '10min_OBV', '10min_MFI_14_diff', 'slope_div_300_9_diff', '10min_slope_angle_300_9 - slope_angle_600_9', '10min_slope_lin_reg_signal_300_3 - slope_lin_reg_signal_600_6', 'slope_angle_600_3_diff', 'slope_angle_300_9 - slope_angle_600_6', '10min_slope_lin_reg_signal_300_9 - slope_lin_reg_signal_600_9', '10min_slope_signal_300_9 - slope_signal_600_9', 'slope_angle_600_9_diff', '10min_slope_angle_300_9 - slope_angle_900_9', 'slope_angle_300_3_diff', 'slope_angle_900_6_diff', 'slope_angle_900_3 - slope_angle_900_6', 'slope_angle_300_6 - slope_angle_900_6', 'slope_lin_reg_signal_600_6 - slope_lin_reg_signal_900_3', 'MFI_3_diff', 'slope_signal_600_3 - slope_signal_900_9', '10min_slope_angle_300_3 - slope_angle_900_3', 'slope_lin_reg_signal_900_3 - slope_lin_reg_signal_900_6', '10min_slope_angle_600_9_diff', '10min_slope_lin_reg_300_3 - slope_lin_reg_600_9', 'slope_signal_900_3_diff', '10min_slope_div_300_3 - slope_div_900_6', '10min_slope_signal_300_3 - slope_signal_900_6', 'slope_lin_reg_signal_600_9 - slope_lin_reg_signal_900_9', 'slope_angle_300_9 - slope_angle_900_6', 'slope_angle_300_6 - slope_angle_600_3', '10min_slope_lin_reg_signal_300_3 - slope_lin_reg_signal_300_6', 'slope_div_300_3 - slope_div_900_6', '10min_slope_signal_600_9 - slope_signal_900_6', 'slope_signal_300_3_diff', 'slope_lin_reg_signal_300_3 - slope_lin_reg_signal_900_6', 'slope_angle_600_6 - slope_angle_900_3', 'slope_signal_900_9', 'slope_lin_reg_signal_600_6', 'slope_lin_reg_signal_600_3 - slope_lin_reg_signal_600_6', '10min_slope_lin_reg_signal_300_3 - slope_lin_reg_signal_900_3', 'slope_angle_300_3 - slope_angle_900_9', 'slope_lin_reg_600_3_diff', 'slope_signal_300_6 - slope_signal_900_9', '10min_slope_lin_reg_signal_300_9', 'slope_lin_reg_signal_900_9_diff', 'slope_signal_300_9 - slope_signal_600_9', 'MFI_14_diff', 'MFI_14', '10min_slope_angle_900_6_diff', 'slope_lin_reg_300_6_diff', 'slope_signal_900_6', 'Kal_prev2_minus_now_300', '10min_slope_signal_300_9 - slope_signal_600_6', 'slope_lin_reg_600_9_diff', '10min_slope_angle_300_3 - slope_angle_900_6', 'slope_signal_600_3 - slope_signal_900_3', 'MFI_7_diff', 'slope_signal_600_3 - slope_signal_900_6', 'slope_signal_300_6 - slope_signal_600_3', '10min_slope_lin_reg_signal_900_6 - slope_lin_reg_signal_900_9', 'MFI_7', 'slope_lin_reg_signal_300_6', 'slope_signal_300_9_diff', '10min_slope_lin_reg_signal_300_3 - slope_lin_reg_signal_600_3', 'slope_signal_300_3 - slope_signal_900_6', 'slope_signal_300_6 - slope_signal_300_9', '10min_slope_lin_reg_signal_300_6 - slope_lin_reg_signal_600_3', 'slope_angle_900_3_diff', 'slope_lin_reg_signal_600_6 - slope_lin_reg_signal_900_9', 'slope_signal_300_3 - slope_signal_300_6', '10min_MFI_7_diff', '10min_slope_signal_600_9', '10min_slope_angle_300_6 - slope_angle_900_6', 'slope_lin_reg_signal_300_3 - slope_lin_reg_signal_900_3', '10min_slope_lin_reg_signal_600_3 - slope_lin_reg_signal_900_6', '10min_slope_angle_300_3 - slope_angle_600_3', 'slope_lin_reg_signal_300_6 - slope_lin_reg_signal_900_3', 'Kal_prev2_minus_now_600', 'slope_lin_reg_signal_600_3_diff', 'slope_div_300_3_diff', '10min_MFI_7', 'slope_lin_reg_signal_900_6_diff', '10min_slope_lin_reg_signal_300_3 - slope_lin_reg_signal_900_9', '10min_slope_angle_600_3 - slope_angle_600_9', 'slope_lin_reg_signal_300_3 - slope_lin_reg_signal_600_6', '10min_slope_lin_reg_signal_300_9 - slope_lin_reg_signal_600_3', 'slope_signal_300_3 - slope_signal_600_9', 'slope_lin_reg_signal_300_6 - slope_lin_reg_signal_600_3', '10min_slope_angle_300_3 - slope_angle_900_9', 'slope_angle_600_6 - slope_angle_900_9', '10min_slope_lin_reg_signal_900_3_diff', 'MFI_3 - MFI_7', '10min_slope_angle_300_6 - slope_angle_900_3', 'slope_angle_300_3 - slope_angle_600_3', '10min_slope_lin_reg_signal_300_9 - slope_lin_reg_signal_900_6', 'slope_div_300_6', 'slope_signal_300_3 - slope_signal_600_3', 'slope_lin_reg_signal_600_3', 'slope_lin_reg_signal_300_9 - slope_lin_reg_signal_600_6', '10min_slope_lin_reg_signal_600_3 - slope_lin_reg_signal_600_6', 'slope_signal_900_9_diff', 'slope_signal_600_9 - slope_signal_900_9', 'slope_lin_reg_signal_600_3 - slope_lin_reg_signal_900_6', '10min_slope_lin_reg_signal_300_6 - slope_lin_reg_signal_600_6', 'slope_lin_reg_signal_300_6 - slope_lin_reg_signal_900_9', 'slope_angle_600_6', '10min_slope_signal_600_6_diff', '10min_slope_angle_300_3 - slope_angle_600_9', '10min_slope_angle_600_6 - slope_angle_900_9', '10min_slope_signal_300_9', '10min_slope_lin_reg_signal_900_9_diff', 'slope_angle_300_3 - slope_angle_300_6', 'slope_signal_300_6_diff', '10min_slope_signal_600_6 - slope_signal_600_9', 'slope_angle_600_6 - slope_angle_600_9', '10min_slope_angle_300_6', '10min_slope_angle_600_3 - slope_angle_600_6', '10min_slope_angle_900_3 - slope_angle_900_6', 'slope_signal_300_3 - slope_signal_900_9', '10min_slope_angle_600_9 - slope_angle_900_6', 'slope_signal_600_3 - slope_signal_600_6', 'slope_lin_reg_signal_600_9', 'slope_angle_300_3 - slope_angle_900_6', 'slope_angle_900_6', '10min_slope_angle_300_9 - slope_angle_600_6', '10min_slope_angle_300_6 - slope_angle_600_3', 'slope_signal_300_9', '10min_slope_lin_reg_signal_300_9 - slope_lin_reg_signal_900_9', 'slope_angle_300_3 - slope_angle_900_3'] \n",
            "\n",
            "Shape =  (14438, 272)\n",
            "IsNull =  0\n",
            "IsNull =  0\n"
          ]
        },
        {
          "output_type": "execute_result",
          "data": {
            "text/plain": [
              "                     label  10min_RSI_3_diff  10min_RSI_3  \\\n",
              "Date                                                        \n",
              "2025-07-26 20:30:00      0          0.378237     1.588212   \n",
              "2025-07-26 21:15:00      0          0.378237     1.588212   \n",
              "2025-07-26 23:05:00      1          0.378237     1.588212   \n",
              "\n",
              "                     10min_slope_signal_600_3  10min_slope_signal_300_3  \\\n",
              "Date                                                                      \n",
              "2025-07-26 20:30:00                 -0.977742                  1.059255   \n",
              "2025-07-26 21:15:00                 -0.977742                  1.059255   \n",
              "2025-07-26 23:05:00                 -0.977742                  1.059255   \n",
              "\n",
              "                     10min_slope_div_300_3_diff  \\\n",
              "Date                                              \n",
              "2025-07-26 20:30:00                    0.261028   \n",
              "2025-07-26 21:15:00                    0.261028   \n",
              "2025-07-26 23:05:00                    0.261028   \n",
              "\n",
              "                     10min_slope_lin_reg_signal_900_6     RSI_7  \\\n",
              "Date                                                              \n",
              "2025-07-26 20:30:00                          1.102774 -0.982505   \n",
              "2025-07-26 21:15:00                          1.102774 -1.136307   \n",
              "2025-07-26 23:05:00                          1.102774 -0.655377   \n",
              "\n",
              "                     10min_slope_signal_900_3  10min_slope_angle_900_3_diff  \\\n",
              "Date                                                                          \n",
              "2025-07-26 20:30:00                 -0.987571                     -0.000604   \n",
              "2025-07-26 21:15:00                 -0.987571                     -0.000604   \n",
              "2025-07-26 23:05:00                 -0.987571                     -0.000604   \n",
              "\n",
              "                     ...  10min_slope_angle_600_9 - slope_angle_900_6  \\\n",
              "Date                 ...                                                \n",
              "2025-07-26 20:30:00  ...                                    -0.006334   \n",
              "2025-07-26 21:15:00  ...                                    -0.006334   \n",
              "2025-07-26 23:05:00  ...                                    -0.006334   \n",
              "\n",
              "                     slope_signal_600_3 - slope_signal_600_6  \\\n",
              "Date                                                           \n",
              "2025-07-26 20:30:00                                -0.008887   \n",
              "2025-07-26 21:15:00                                 0.017918   \n",
              "2025-07-26 23:05:00                                 0.008887   \n",
              "\n",
              "                     slope_lin_reg_signal_600_9  \\\n",
              "Date                                              \n",
              "2025-07-26 20:30:00                   -0.920648   \n",
              "2025-07-26 21:15:00                    1.091702   \n",
              "2025-07-26 23:05:00                    0.987571   \n",
              "\n",
              "                     slope_angle_300_3 - slope_angle_900_6  slope_angle_900_6  \\\n",
              "Date                                                                            \n",
              "2025-07-26 20:30:00                               0.019566          -0.935725   \n",
              "2025-07-26 21:15:00                              -0.130668           1.073741   \n",
              "2025-07-26 23:05:00                              -0.032381           0.988749   \n",
              "\n",
              "                     10min_slope_angle_300_9 - slope_angle_600_6  \\\n",
              "Date                                                               \n",
              "2025-07-26 20:30:00                                     0.009094   \n",
              "2025-07-26 21:15:00                                     0.009094   \n",
              "2025-07-26 23:05:00                                     0.009094   \n",
              "\n",
              "                     10min_slope_angle_300_6 - slope_angle_600_3  \\\n",
              "Date                                                               \n",
              "2025-07-26 20:30:00                                    -0.008663   \n",
              "2025-07-26 21:15:00                                    -0.008663   \n",
              "2025-07-26 23:05:00                                    -0.008663   \n",
              "\n",
              "                     slope_signal_300_9  \\\n",
              "Date                                      \n",
              "2025-07-26 20:30:00            1.069946   \n",
              "2025-07-26 21:15:00            0.987571   \n",
              "2025-07-26 23:05:00           -1.059255   \n",
              "\n",
              "                     10min_slope_lin_reg_signal_300_9 - slope_lin_reg_signal_900_9  \\\n",
              "Date                                                                                 \n",
              "2025-07-26 20:30:00                                                0.0               \n",
              "2025-07-26 21:15:00                                                0.0               \n",
              "2025-07-26 23:05:00                                                0.0               \n",
              "\n",
              "                     slope_angle_300_3 - slope_angle_900_3  \n",
              "Date                                                        \n",
              "2025-07-26 20:30:00                              -0.577616  \n",
              "2025-07-26 21:15:00                               0.059524  \n",
              "2025-07-26 23:05:00                               2.504577  \n",
              "\n",
              "[3 rows x 272 columns]"
            ],
            "text/html": [
              "\n",
              "  <div id=\"df-b77cbe39-49db-4c8d-8781-75fd44f2d8fe\" class=\"colab-df-container\">\n",
              "    <div>\n",
              "<style scoped>\n",
              "    .dataframe tbody tr th:only-of-type {\n",
              "        vertical-align: middle;\n",
              "    }\n",
              "\n",
              "    .dataframe tbody tr th {\n",
              "        vertical-align: top;\n",
              "    }\n",
              "\n",
              "    .dataframe thead th {\n",
              "        text-align: right;\n",
              "    }\n",
              "</style>\n",
              "<table border=\"1\" class=\"dataframe\">\n",
              "  <thead>\n",
              "    <tr style=\"text-align: right;\">\n",
              "      <th></th>\n",
              "      <th>label</th>\n",
              "      <th>10min_RSI_3_diff</th>\n",
              "      <th>10min_RSI_3</th>\n",
              "      <th>10min_slope_signal_600_3</th>\n",
              "      <th>10min_slope_signal_300_3</th>\n",
              "      <th>10min_slope_div_300_3_diff</th>\n",
              "      <th>10min_slope_lin_reg_signal_900_6</th>\n",
              "      <th>RSI_7</th>\n",
              "      <th>10min_slope_signal_900_3</th>\n",
              "      <th>10min_slope_angle_900_3_diff</th>\n",
              "      <th>...</th>\n",
              "      <th>10min_slope_angle_600_9 - slope_angle_900_6</th>\n",
              "      <th>slope_signal_600_3 - slope_signal_600_6</th>\n",
              "      <th>slope_lin_reg_signal_600_9</th>\n",
              "      <th>slope_angle_300_3 - slope_angle_900_6</th>\n",
              "      <th>slope_angle_900_6</th>\n",
              "      <th>10min_slope_angle_300_9 - slope_angle_600_6</th>\n",
              "      <th>10min_slope_angle_300_6 - slope_angle_600_3</th>\n",
              "      <th>slope_signal_300_9</th>\n",
              "      <th>10min_slope_lin_reg_signal_300_9 - slope_lin_reg_signal_900_9</th>\n",
              "      <th>slope_angle_300_3 - slope_angle_900_3</th>\n",
              "    </tr>\n",
              "    <tr>\n",
              "      <th>Date</th>\n",
              "      <th></th>\n",
              "      <th></th>\n",
              "      <th></th>\n",
              "      <th></th>\n",
              "      <th></th>\n",
              "      <th></th>\n",
              "      <th></th>\n",
              "      <th></th>\n",
              "      <th></th>\n",
              "      <th></th>\n",
              "      <th></th>\n",
              "      <th></th>\n",
              "      <th></th>\n",
              "      <th></th>\n",
              "      <th></th>\n",
              "      <th></th>\n",
              "      <th></th>\n",
              "      <th></th>\n",
              "      <th></th>\n",
              "      <th></th>\n",
              "      <th></th>\n",
              "    </tr>\n",
              "  </thead>\n",
              "  <tbody>\n",
              "    <tr>\n",
              "      <th>2025-07-26 20:30:00</th>\n",
              "      <td>0</td>\n",
              "      <td>0.378237</td>\n",
              "      <td>1.588212</td>\n",
              "      <td>-0.977742</td>\n",
              "      <td>1.059255</td>\n",
              "      <td>0.261028</td>\n",
              "      <td>1.102774</td>\n",
              "      <td>-0.982505</td>\n",
              "      <td>-0.987571</td>\n",
              "      <td>-0.000604</td>\n",
              "      <td>...</td>\n",
              "      <td>-0.006334</td>\n",
              "      <td>-0.008887</td>\n",
              "      <td>-0.920648</td>\n",
              "      <td>0.019566</td>\n",
              "      <td>-0.935725</td>\n",
              "      <td>0.009094</td>\n",
              "      <td>-0.008663</td>\n",
              "      <td>1.069946</td>\n",
              "      <td>0.0</td>\n",
              "      <td>-0.577616</td>\n",
              "    </tr>\n",
              "    <tr>\n",
              "      <th>2025-07-26 21:15:00</th>\n",
              "      <td>0</td>\n",
              "      <td>0.378237</td>\n",
              "      <td>1.588212</td>\n",
              "      <td>-0.977742</td>\n",
              "      <td>1.059255</td>\n",
              "      <td>0.261028</td>\n",
              "      <td>1.102774</td>\n",
              "      <td>-1.136307</td>\n",
              "      <td>-0.987571</td>\n",
              "      <td>-0.000604</td>\n",
              "      <td>...</td>\n",
              "      <td>-0.006334</td>\n",
              "      <td>0.017918</td>\n",
              "      <td>1.091702</td>\n",
              "      <td>-0.130668</td>\n",
              "      <td>1.073741</td>\n",
              "      <td>0.009094</td>\n",
              "      <td>-0.008663</td>\n",
              "      <td>0.987571</td>\n",
              "      <td>0.0</td>\n",
              "      <td>0.059524</td>\n",
              "    </tr>\n",
              "    <tr>\n",
              "      <th>2025-07-26 23:05:00</th>\n",
              "      <td>1</td>\n",
              "      <td>0.378237</td>\n",
              "      <td>1.588212</td>\n",
              "      <td>-0.977742</td>\n",
              "      <td>1.059255</td>\n",
              "      <td>0.261028</td>\n",
              "      <td>1.102774</td>\n",
              "      <td>-0.655377</td>\n",
              "      <td>-0.987571</td>\n",
              "      <td>-0.000604</td>\n",
              "      <td>...</td>\n",
              "      <td>-0.006334</td>\n",
              "      <td>0.008887</td>\n",
              "      <td>0.987571</td>\n",
              "      <td>-0.032381</td>\n",
              "      <td>0.988749</td>\n",
              "      <td>0.009094</td>\n",
              "      <td>-0.008663</td>\n",
              "      <td>-1.059255</td>\n",
              "      <td>0.0</td>\n",
              "      <td>2.504577</td>\n",
              "    </tr>\n",
              "  </tbody>\n",
              "</table>\n",
              "<p>3 rows × 272 columns</p>\n",
              "</div>\n",
              "    <div class=\"colab-df-buttons\">\n",
              "\n",
              "  <div class=\"colab-df-container\">\n",
              "    <button class=\"colab-df-convert\" onclick=\"convertToInteractive('df-b77cbe39-49db-4c8d-8781-75fd44f2d8fe')\"\n",
              "            title=\"Convert this dataframe to an interactive table.\"\n",
              "            style=\"display:none;\">\n",
              "\n",
              "  <svg xmlns=\"http://www.w3.org/2000/svg\" height=\"24px\" viewBox=\"0 -960 960 960\">\n",
              "    <path d=\"M120-120v-720h720v720H120Zm60-500h600v-160H180v160Zm220 220h160v-160H400v160Zm0 220h160v-160H400v160ZM180-400h160v-160H180v160Zm440 0h160v-160H620v160ZM180-180h160v-160H180v160Zm440 0h160v-160H620v160Z\"/>\n",
              "  </svg>\n",
              "    </button>\n",
              "\n",
              "  <style>\n",
              "    .colab-df-container {\n",
              "      display:flex;\n",
              "      gap: 12px;\n",
              "    }\n",
              "\n",
              "    .colab-df-convert {\n",
              "      background-color: #E8F0FE;\n",
              "      border: none;\n",
              "      border-radius: 50%;\n",
              "      cursor: pointer;\n",
              "      display: none;\n",
              "      fill: #1967D2;\n",
              "      height: 32px;\n",
              "      padding: 0 0 0 0;\n",
              "      width: 32px;\n",
              "    }\n",
              "\n",
              "    .colab-df-convert:hover {\n",
              "      background-color: #E2EBFA;\n",
              "      box-shadow: 0px 1px 2px rgba(60, 64, 67, 0.3), 0px 1px 3px 1px rgba(60, 64, 67, 0.15);\n",
              "      fill: #174EA6;\n",
              "    }\n",
              "\n",
              "    .colab-df-buttons div {\n",
              "      margin-bottom: 4px;\n",
              "    }\n",
              "\n",
              "    [theme=dark] .colab-df-convert {\n",
              "      background-color: #3B4455;\n",
              "      fill: #D2E3FC;\n",
              "    }\n",
              "\n",
              "    [theme=dark] .colab-df-convert:hover {\n",
              "      background-color: #434B5C;\n",
              "      box-shadow: 0px 1px 3px 1px rgba(0, 0, 0, 0.15);\n",
              "      filter: drop-shadow(0px 1px 2px rgba(0, 0, 0, 0.3));\n",
              "      fill: #FFFFFF;\n",
              "    }\n",
              "  </style>\n",
              "\n",
              "    <script>\n",
              "      const buttonEl =\n",
              "        document.querySelector('#df-b77cbe39-49db-4c8d-8781-75fd44f2d8fe button.colab-df-convert');\n",
              "      buttonEl.style.display =\n",
              "        google.colab.kernel.accessAllowed ? 'block' : 'none';\n",
              "\n",
              "      async function convertToInteractive(key) {\n",
              "        const element = document.querySelector('#df-b77cbe39-49db-4c8d-8781-75fd44f2d8fe');\n",
              "        const dataTable =\n",
              "          await google.colab.kernel.invokeFunction('convertToInteractive',\n",
              "                                                    [key], {});\n",
              "        if (!dataTable) return;\n",
              "\n",
              "        const docLinkHtml = 'Like what you see? Visit the ' +\n",
              "          '<a target=\"_blank\" href=https://colab.research.google.com/notebooks/data_table.ipynb>data table notebook</a>'\n",
              "          + ' to learn more about interactive tables.';\n",
              "        element.innerHTML = '';\n",
              "        dataTable['output_type'] = 'display_data';\n",
              "        await google.colab.output.renderOutput(dataTable, element);\n",
              "        const docLink = document.createElement('div');\n",
              "        docLink.innerHTML = docLinkHtml;\n",
              "        element.appendChild(docLink);\n",
              "      }\n",
              "    </script>\n",
              "  </div>\n",
              "\n",
              "\n",
              "    <div id=\"df-a3b56170-c2f8-4498-89ae-9c00d690f663\">\n",
              "      <button class=\"colab-df-quickchart\" onclick=\"quickchart('df-a3b56170-c2f8-4498-89ae-9c00d690f663')\"\n",
              "                title=\"Suggest charts\"\n",
              "                style=\"display:none;\">\n",
              "\n",
              "<svg xmlns=\"http://www.w3.org/2000/svg\" height=\"24px\"viewBox=\"0 0 24 24\"\n",
              "     width=\"24px\">\n",
              "    <g>\n",
              "        <path d=\"M19 3H5c-1.1 0-2 .9-2 2v14c0 1.1.9 2 2 2h14c1.1 0 2-.9 2-2V5c0-1.1-.9-2-2-2zM9 17H7v-7h2v7zm4 0h-2V7h2v10zm4 0h-2v-4h2v4z\"/>\n",
              "    </g>\n",
              "</svg>\n",
              "      </button>\n",
              "\n",
              "<style>\n",
              "  .colab-df-quickchart {\n",
              "      --bg-color: #E8F0FE;\n",
              "      --fill-color: #1967D2;\n",
              "      --hover-bg-color: #E2EBFA;\n",
              "      --hover-fill-color: #174EA6;\n",
              "      --disabled-fill-color: #AAA;\n",
              "      --disabled-bg-color: #DDD;\n",
              "  }\n",
              "\n",
              "  [theme=dark] .colab-df-quickchart {\n",
              "      --bg-color: #3B4455;\n",
              "      --fill-color: #D2E3FC;\n",
              "      --hover-bg-color: #434B5C;\n",
              "      --hover-fill-color: #FFFFFF;\n",
              "      --disabled-bg-color: #3B4455;\n",
              "      --disabled-fill-color: #666;\n",
              "  }\n",
              "\n",
              "  .colab-df-quickchart {\n",
              "    background-color: var(--bg-color);\n",
              "    border: none;\n",
              "    border-radius: 50%;\n",
              "    cursor: pointer;\n",
              "    display: none;\n",
              "    fill: var(--fill-color);\n",
              "    height: 32px;\n",
              "    padding: 0;\n",
              "    width: 32px;\n",
              "  }\n",
              "\n",
              "  .colab-df-quickchart:hover {\n",
              "    background-color: var(--hover-bg-color);\n",
              "    box-shadow: 0 1px 2px rgba(60, 64, 67, 0.3), 0 1px 3px 1px rgba(60, 64, 67, 0.15);\n",
              "    fill: var(--button-hover-fill-color);\n",
              "  }\n",
              "\n",
              "  .colab-df-quickchart-complete:disabled,\n",
              "  .colab-df-quickchart-complete:disabled:hover {\n",
              "    background-color: var(--disabled-bg-color);\n",
              "    fill: var(--disabled-fill-color);\n",
              "    box-shadow: none;\n",
              "  }\n",
              "\n",
              "  .colab-df-spinner {\n",
              "    border: 2px solid var(--fill-color);\n",
              "    border-color: transparent;\n",
              "    border-bottom-color: var(--fill-color);\n",
              "    animation:\n",
              "      spin 1s steps(1) infinite;\n",
              "  }\n",
              "\n",
              "  @keyframes spin {\n",
              "    0% {\n",
              "      border-color: transparent;\n",
              "      border-bottom-color: var(--fill-color);\n",
              "      border-left-color: var(--fill-color);\n",
              "    }\n",
              "    20% {\n",
              "      border-color: transparent;\n",
              "      border-left-color: var(--fill-color);\n",
              "      border-top-color: var(--fill-color);\n",
              "    }\n",
              "    30% {\n",
              "      border-color: transparent;\n",
              "      border-left-color: var(--fill-color);\n",
              "      border-top-color: var(--fill-color);\n",
              "      border-right-color: var(--fill-color);\n",
              "    }\n",
              "    40% {\n",
              "      border-color: transparent;\n",
              "      border-right-color: var(--fill-color);\n",
              "      border-top-color: var(--fill-color);\n",
              "    }\n",
              "    60% {\n",
              "      border-color: transparent;\n",
              "      border-right-color: var(--fill-color);\n",
              "    }\n",
              "    80% {\n",
              "      border-color: transparent;\n",
              "      border-right-color: var(--fill-color);\n",
              "      border-bottom-color: var(--fill-color);\n",
              "    }\n",
              "    90% {\n",
              "      border-color: transparent;\n",
              "      border-bottom-color: var(--fill-color);\n",
              "    }\n",
              "  }\n",
              "</style>\n",
              "\n",
              "      <script>\n",
              "        async function quickchart(key) {\n",
              "          const quickchartButtonEl =\n",
              "            document.querySelector('#' + key + ' button');\n",
              "          quickchartButtonEl.disabled = true;  // To prevent multiple clicks.\n",
              "          quickchartButtonEl.classList.add('colab-df-spinner');\n",
              "          try {\n",
              "            const charts = await google.colab.kernel.invokeFunction(\n",
              "                'suggestCharts', [key], {});\n",
              "          } catch (error) {\n",
              "            console.error('Error during call to suggestCharts:', error);\n",
              "          }\n",
              "          quickchartButtonEl.classList.remove('colab-df-spinner');\n",
              "          quickchartButtonEl.classList.add('colab-df-quickchart-complete');\n",
              "        }\n",
              "        (() => {\n",
              "          let quickchartButtonEl =\n",
              "            document.querySelector('#df-a3b56170-c2f8-4498-89ae-9c00d690f663 button');\n",
              "          quickchartButtonEl.style.display =\n",
              "            google.colab.kernel.accessAllowed ? 'block' : 'none';\n",
              "        })();\n",
              "      </script>\n",
              "    </div>\n",
              "\n",
              "    </div>\n",
              "  </div>\n"
            ],
            "application/vnd.google.colaboratory.intrinsic+json": {
              "type": "dataframe"
            }
          },
          "metadata": {},
          "execution_count": 236
        }
      ],
      "source": [
        "### Features\n",
        "\n",
        "features_5m = pd.read_csv(root_data + 'Results/'+symbol+'_'+direction+'_M5M10_'+data_type+'_Features.csv', index_col=0)\n",
        "features_5m['Date'] = features_5m.index\n",
        "features_5m['Date'] = pd.to_datetime(features_5m['Date'])\n",
        "features_5m.set_index(\"Date\", inplace=True)\n",
        "\n",
        "#features_5m = features_5m.drop('label', axis=1)\n",
        "\n",
        "print(list(features_5m.columns),'\\n')\n",
        "print('Shape = ',features_5m.shape)\n",
        "\n",
        "print('IsNull = ',features_5m['slope_angle_600_9'].isnull().sum())\n",
        "print('IsNull = ',features_5m['10min_RSI_3_diff'].isnull().sum())\n",
        "\n",
        "features_5m.tail(3)"
      ]
    },
    {
      "cell_type": "code",
      "execution_count": 228,
      "id": "XM2K_2T22n2k",
      "metadata": {
        "id": "XM2K_2T22n2k",
        "colab": {
          "base_uri": "https://localhost:8080/"
        },
        "outputId": "4736a813-40fd-4305-a43b-92c73a612bad"
      },
      "outputs": [
        {
          "output_type": "stream",
          "name": "stdout",
          "text": [
            "['Open', 'High', 'Low', 'Close', 'Volume', 'Spread', 'ATR', 'kal_1', 'kal_2', 'kal_3', 'kal_4', 'Open_Trade', 'Entry_Date', 'Type', 'Trade_Number', 'st_Exit_Date', 'trade type', 'st_Duration', 'st_row_PnL_close', 'st_row_PnL_high', 'st_row_PnL_low', 'st_Max', 'st_Min', 'st_PnL', 'st_atr_PnL', 'st_atr_max_PnL'] \n",
            "\n",
            "Shape :  (267395, 26) \n",
            "\n",
            "Missing values (NaN and Inf) in lab sorted by highest to lowest:\n",
            "st_Exit_Date        228204\n",
            "st_Duration         228204\n",
            "st_Max              228204\n",
            "st_Min              228204\n",
            "st_PnL              228204\n",
            "Type                228203\n",
            "Entry_Date          228203\n",
            "Open_Trade          228203\n",
            "st_atr_PnL              15\n",
            "st_atr_max_PnL          15\n",
            "ATR                     14\n",
            "st_row_PnL_high         11\n",
            "st_row_PnL_close        11\n",
            "st_row_PnL_low          11\n",
            "trade type               1\n",
            "Trade_Number             1\n",
            "kal_3                    0\n",
            "High                     0\n",
            "Open                     0\n",
            "kal_2                    0\n",
            "kal_1                    0\n",
            "Spread                   0\n",
            "Close                    0\n",
            "Volume                   0\n",
            "Low                      0\n",
            "kal_4                    0\n",
            "dtype: int64\n",
            "Total missing value count in lab: 1825708\n"
          ]
        }
      ],
      "source": [
        "### Labels\n",
        "\n",
        "lab = pd.read_csv(root_data + 'Results/'+symbol+'_'+strategy+'_'+time_frame+'_Strategy_Gen_Labels.csv', index_col=0)\n",
        "lab['Date'] = pd.to_datetime(lab['Date'])\n",
        "lab.set_index('Date', inplace=True)\n",
        "\n",
        "columns_to_drop = ['st_row_PnL_Low','Close_Trade']\n",
        "lab = lab.drop(columns=columns_to_drop)\n",
        "\n",
        "#lab.dropna(inplace=True)\n",
        "\n",
        "print(list(lab.columns),'\\n')\n",
        "print('Shape : ',lab.shape,'\\n')\n",
        "\n",
        "nan_counts = lab.isnull().sum()\n",
        "total_missing_counts = nan_counts\n",
        "\n",
        "print(\"Missing values (NaN and Inf) in lab sorted by highest to lowest:\")\n",
        "print(total_missing_counts.sort_values(ascending=False))\n",
        "print(\"Total missing value count in lab:\", total_missing_counts.sum())\n"
      ]
    },
    {
      "cell_type": "code",
      "execution_count": 223,
      "id": "_JB4ZFhCalgp",
      "metadata": {
        "colab": {
          "base_uri": "https://localhost:8080/"
        },
        "id": "_JB4ZFhCalgp",
        "outputId": "c882857a-9902-408c-9821-364bf3c5fb12"
      },
      "outputs": [
        {
          "output_type": "stream",
          "name": "stdout",
          "text": [
            "\n",
            "Label counts = \n",
            "label\n",
            "1    10054\n",
            "0     9537\n",
            "Name: count, dtype: int64\n",
            "Open_Trade\n",
            "-1.0    19591\n",
            "Name: count, dtype: int64\n"
          ]
        }
      ],
      "source": [
        "# --- Parámetros / campos\n",
        "result_field = 'st_atr_max_PnL'   # métrica a evaluar\n",
        "\n",
        "# --- Filtro de filas válidas\n",
        "valid = (\n",
        "    (lab['Type'] == direction) &\n",
        "    (lab['Open_Trade'].isin([1, -1])) &\n",
        "    (lab[result_field].notna()))\n",
        "\n",
        "\n",
        "lab['label'] = np.nan\n",
        "lab.loc[valid & (lab[result_field] <= 1), 'label'] = 0\n",
        "lab.loc[valid & (lab[result_field] >= 1), 'label'] = 1\n",
        "\n",
        "# --- Mantener solo filas válidas y con label\n",
        "lab = lab.loc[valid & lab['label'].notna()].copy()\n",
        "lab['label'] = lab['label'].astype('int8')\n",
        "\n",
        "# Check for NaN and infinite values\n",
        "\n",
        "print('\\nLabel counts = ')\n",
        "print(lab['label'].value_counts())\n",
        "print(lab['Open_Trade'].value_counts())"
      ]
    },
    {
      "cell_type": "code",
      "execution_count": 238,
      "id": "IA2-iSWJ9Udm",
      "metadata": {
        "colab": {
          "base_uri": "https://localhost:8080/"
        },
        "id": "IA2-iSWJ9Udm",
        "outputId": "753138b2-53ec-483f-f32f-13f5a5e207b3"
      },
      "outputs": [
        {
          "output_type": "stream",
          "name": "stdout",
          "text": [
            "['label', '10min_RSI_3_diff', '10min_RSI_3', '10min_slope_signal_600_3', '10min_slope_signal_300_3', '10min_slope_div_300_3_diff', '10min_slope_lin_reg_signal_900_6', 'RSI_7', '10min_slope_signal_900_3', '10min_slope_angle_900_3_diff', '10min_slope_signal_900_9_diff', '10min_slope_signal_600_3_diff', '10min_slope_lin_reg_signal_600_3', '10min_slope_div_300_6 - slope_div_600_9', '10min_slope_div_300_9', '10min_slope_signal_300_6 - slope_signal_600_3', '10min_slope_signal_300_6', '10min_slope_signal_300_6 - slope_signal_600_6', '10min_slope_angle_600_3', '10min_slope_angle_600_3_diff', '10min_slope_lin_reg_signal_600_6', '10min_slope_lin_reg_signal_300_6 - slope_lin_reg_signal_900_9', 'Kal_600_minus_Kal_900', '10min_slope_signal_300_9 - slope_signal_900_9', '10min_slope_div_300_3 - slope_div_300_6', '10min_slope_lin_reg_signal_600_9', '10min_slope_signal_600_6', '10min_slope_signal_300_3 - slope_signal_600_3', '10min_slope_signal_300_6 - slope_signal_900_6', '10min_slope_lin_reg_600_3 - slope_lin_reg_900_9', '10min_slope_lin_reg_signal_300_6_diff', '10min_MFI_3_diff', '10min_slope_signal_900_3_diff', 'Close_Kal_300', '10min_slope_lin_reg_signal_600_9 - slope_lin_reg_signal_900_6', '10min_slope_lin_reg_signal_300_6', 'slope_lin_reg_signal_600_6_diff', 'slope_div_600_3', 'slope_div_300_9 - slope_div_600_9', '10min_slope_angle_300_6_diff', '10min_slope_signal_300_6_diff', '10min_slope_angle_600_3 - slope_angle_900_9', 'slope_angle_300_3 - slope_angle_300_9', '10min_slope_lin_reg_signal_600_3 - slope_lin_reg_signal_600_9', '10min_slope_lin_reg_signal_300_3 - slope_lin_reg_signal_300_9', 'slope_angle_600_3', '10min_slope_lin_reg_signal_900_3', '10min_slope_angle_600_6 - slope_angle_900_3', '10min_slope_signal_900_6_diff', 'OBV_diff', '10min_slope_angle_300_3 - slope_angle_300_6', 'slope_angle_300_6_diff', 'RSI_7 - RSI_14', '10min_slope_signal_900_6 - slope_signal_900_9', '10min_slope_div_600_3 - slope_div_600_6', 'RSI_3_diff', '10min_slope_angle_600_9 - slope_angle_900_9', 'slope_angle_300_9 - slope_angle_900_9', '10min_slope_lin_reg_signal_300_9_diff', 'slope_div_300_6 - slope_div_900_9', '10min_slope_signal_600_9 - slope_signal_900_9', '10min_slope_angle_900_6 - slope_angle_900_9', 'RSI_3', '10min_slope_signal_300_3_diff', '10min_slope_lin_reg_signal_300_9 - slope_lin_reg_signal_900_3', '10min_slope_signal_300_6 - slope_signal_600_9', 'slope_signal_600_6 - slope_signal_600_9', 'slope_div_300_6 - slope_div_600_9', '10min_slope_lin_reg_signal_600_6 - slope_lin_reg_signal_900_9', '10min_slope_angle_300_6 - slope_angle_300_9', '10min_slope_lin_reg_signal_300_6 - slope_lin_reg_signal_900_3', 'slope_angle_300_9_diff', '10min_slope_signal_300_6 - slope_signal_900_9', 'slope_signal_600_9_diff', '10min_slope_signal_300_9 - slope_signal_900_6', '10min_slope_angle_300_9 - slope_angle_600_3', '10min_slope_signal_900_6', 'slope_angle_900_9', '10min_slope_signal_900_9', '10min_slope_angle_600_6 - slope_angle_600_9', '10min_slope_angle_300_9', 'slope_lin_reg_signal_900_6 - slope_lin_reg_signal_900_9', '10min_slope_angle_600_6 - slope_angle_900_6', 'slope_lin_reg_signal_300_3', '10min_slope_lin_reg_signal_600_6 - slope_lin_reg_signal_900_6', 'slope_angle_300_6 - slope_angle_900_9', 'slope_div_300_6_diff', 'slope_angle_900_9_diff', 'slope_signal_600_9 - slope_signal_900_6', 'slope_signal_600_6_diff', '10min_slope_lin_reg_signal_900_3 - slope_lin_reg_signal_900_9', '10min_slope_angle_300_6 - slope_angle_600_6', '10min_slope_div_600_3 - slope_div_900_6', '10min_slope_lin_reg_signal_300_3 - slope_lin_reg_signal_600_9', '10min_slope_signal_300_6 - slope_signal_300_9', 'slope_signal_600_3', '10min_slope_angle_300_6 - slope_angle_900_9', 'slope_angle_300_6 - slope_angle_600_9', 'slope_angle_600_3 - slope_angle_900_3', '10min_slope_lin_reg_signal_600_9_diff', 'slope_div_300_3 - slope_div_300_6', 'slope_angle_300_6', 'slope_lin_reg_signal_300_6 - slope_lin_reg_signal_900_6', 'slope_angle_600_6 - slope_angle_900_6', 'slope_lin_reg_signal_600_6 - slope_lin_reg_signal_900_6', '10min_slope_lin_reg_signal_900_3 - slope_lin_reg_signal_900_6', 'slope_angle_600_9 - slope_angle_900_6', '10min_slope_angle_600_6_diff', '10min_slope_lin_reg_signal_300_3 - slope_lin_reg_signal_900_6', '10min_slope_signal_300_9 - slope_signal_600_3', '10min_slope_lin_reg_signal_300_9 - slope_lin_reg_signal_600_6', 'slope_angle_600_3 - slope_angle_600_6', 'slope_angle_900_3', 'MFI_3 - MFI_14', '10min_slope_signal_300_3 - slope_signal_900_9', '10min_slope_lin_reg_signal_600_6 - slope_lin_reg_signal_600_9', 'slope_signal_300_3 - slope_signal_600_6', 'slope_angle_300_6 - slope_angle_300_9', 'slope_angle_300_3', '10min_slope_signal_300_3 - slope_signal_600_6', 'slope_angle_300_9', 'slope_signal_600_9', 'slope_signal_600_6', 'slope_signal_300_9 - slope_signal_900_9', 'Kal_300', '10min_slope_signal_600_3 - slope_signal_900_3', '10min_Kal_300', 'slope_signal_300_6 - slope_signal_600_9', '10min_slope_angle_300_3 - slope_angle_600_6', '10min_OBV_diff', 'RSI_3 - RSI_7', '10min_slope_lin_reg_signal_600_9 - slope_lin_reg_signal_900_3', 'slope_angle_600_3 - slope_angle_900_6', 'slope_lin_reg_signal_300_9 - slope_lin_reg_signal_900_9', '10min_MFI_7 - MFI_14', '10min_slope_signal_600_3 - slope_signal_600_6', 'slope_lin_reg_signal_600_6 - slope_lin_reg_signal_600_9', '10min_slope_angle_300_9 - slope_angle_900_6', '10min_slope_lin_reg_signal_300_6 - slope_lin_reg_signal_300_9', '10min_slope_lin_reg_signal_600_3 - slope_lin_reg_signal_900_3', '10min_slope_lin_reg_signal_300_6 - slope_lin_reg_signal_900_6', 'slope_lin_reg_600_6_diff', 'slope_angle_600_9', 'slope_lin_reg_signal_300_6 - slope_lin_reg_signal_600_6', 'MFI_7 - MFI_14', '10min_OBV', '10min_MFI_14_diff', 'slope_div_300_9_diff', '10min_slope_angle_300_9 - slope_angle_600_9', '10min_slope_lin_reg_signal_300_3 - slope_lin_reg_signal_600_6', 'slope_angle_600_3_diff', 'slope_angle_300_9 - slope_angle_600_6', '10min_slope_lin_reg_signal_300_9 - slope_lin_reg_signal_600_9', '10min_slope_signal_300_9 - slope_signal_600_9', 'slope_angle_600_9_diff', '10min_slope_angle_300_9 - slope_angle_900_9', 'slope_angle_300_3_diff', 'slope_angle_900_6_diff', 'slope_angle_900_3 - slope_angle_900_6', 'slope_angle_300_6 - slope_angle_900_6', 'slope_lin_reg_signal_600_6 - slope_lin_reg_signal_900_3', 'MFI_3_diff', 'slope_signal_600_3 - slope_signal_900_9', '10min_slope_angle_300_3 - slope_angle_900_3', 'slope_lin_reg_signal_900_3 - slope_lin_reg_signal_900_6', '10min_slope_angle_600_9_diff', '10min_slope_lin_reg_300_3 - slope_lin_reg_600_9', 'slope_signal_900_3_diff', '10min_slope_div_300_3 - slope_div_900_6', '10min_slope_signal_300_3 - slope_signal_900_6', 'slope_lin_reg_signal_600_9 - slope_lin_reg_signal_900_9', 'slope_angle_300_9 - slope_angle_900_6', 'slope_angle_300_6 - slope_angle_600_3', '10min_slope_lin_reg_signal_300_3 - slope_lin_reg_signal_300_6', 'slope_div_300_3 - slope_div_900_6', '10min_slope_signal_600_9 - slope_signal_900_6', 'slope_signal_300_3_diff', 'slope_lin_reg_signal_300_3 - slope_lin_reg_signal_900_6', 'slope_angle_600_6 - slope_angle_900_3', 'slope_signal_900_9', 'slope_lin_reg_signal_600_6', 'slope_lin_reg_signal_600_3 - slope_lin_reg_signal_600_6', '10min_slope_lin_reg_signal_300_3 - slope_lin_reg_signal_900_3', 'slope_angle_300_3 - slope_angle_900_9', 'slope_lin_reg_600_3_diff', 'slope_signal_300_6 - slope_signal_900_9', '10min_slope_lin_reg_signal_300_9', 'slope_lin_reg_signal_900_9_diff', 'slope_signal_300_9 - slope_signal_600_9', 'MFI_14_diff', 'MFI_14', '10min_slope_angle_900_6_diff', 'slope_lin_reg_300_6_diff', 'slope_signal_900_6', 'Kal_prev2_minus_now_300', '10min_slope_signal_300_9 - slope_signal_600_6', 'slope_lin_reg_600_9_diff', '10min_slope_angle_300_3 - slope_angle_900_6', 'slope_signal_600_3 - slope_signal_900_3', 'MFI_7_diff', 'slope_signal_600_3 - slope_signal_900_6', 'slope_signal_300_6 - slope_signal_600_3', '10min_slope_lin_reg_signal_900_6 - slope_lin_reg_signal_900_9', 'MFI_7', 'slope_lin_reg_signal_300_6', 'slope_signal_300_9_diff', '10min_slope_lin_reg_signal_300_3 - slope_lin_reg_signal_600_3', 'slope_signal_300_3 - slope_signal_900_6', 'slope_signal_300_6 - slope_signal_300_9', '10min_slope_lin_reg_signal_300_6 - slope_lin_reg_signal_600_3', 'slope_angle_900_3_diff', 'slope_lin_reg_signal_600_6 - slope_lin_reg_signal_900_9', 'slope_signal_300_3 - slope_signal_300_6', '10min_MFI_7_diff', '10min_slope_signal_600_9', '10min_slope_angle_300_6 - slope_angle_900_6', 'slope_lin_reg_signal_300_3 - slope_lin_reg_signal_900_3', '10min_slope_lin_reg_signal_600_3 - slope_lin_reg_signal_900_6', '10min_slope_angle_300_3 - slope_angle_600_3', 'slope_lin_reg_signal_300_6 - slope_lin_reg_signal_900_3', 'Kal_prev2_minus_now_600', 'slope_lin_reg_signal_600_3_diff', 'slope_div_300_3_diff', '10min_MFI_7', 'slope_lin_reg_signal_900_6_diff', '10min_slope_lin_reg_signal_300_3 - slope_lin_reg_signal_900_9', '10min_slope_angle_600_3 - slope_angle_600_9', 'slope_lin_reg_signal_300_3 - slope_lin_reg_signal_600_6', '10min_slope_lin_reg_signal_300_9 - slope_lin_reg_signal_600_3', 'slope_signal_300_3 - slope_signal_600_9', 'slope_lin_reg_signal_300_6 - slope_lin_reg_signal_600_3', '10min_slope_angle_300_3 - slope_angle_900_9', 'slope_angle_600_6 - slope_angle_900_9', '10min_slope_lin_reg_signal_900_3_diff', 'MFI_3 - MFI_7', '10min_slope_angle_300_6 - slope_angle_900_3', 'slope_angle_300_3 - slope_angle_600_3', '10min_slope_lin_reg_signal_300_9 - slope_lin_reg_signal_900_6', 'slope_div_300_6', 'slope_signal_300_3 - slope_signal_600_3', 'slope_lin_reg_signal_600_3', 'slope_lin_reg_signal_300_9 - slope_lin_reg_signal_600_6', '10min_slope_lin_reg_signal_600_3 - slope_lin_reg_signal_600_6', 'slope_signal_900_9_diff', 'slope_signal_600_9 - slope_signal_900_9', 'slope_lin_reg_signal_600_3 - slope_lin_reg_signal_900_6', '10min_slope_lin_reg_signal_300_6 - slope_lin_reg_signal_600_6', 'slope_lin_reg_signal_300_6 - slope_lin_reg_signal_900_9', 'slope_angle_600_6', '10min_slope_signal_600_6_diff', '10min_slope_angle_300_3 - slope_angle_600_9', '10min_slope_angle_600_6 - slope_angle_900_9', '10min_slope_signal_300_9', '10min_slope_lin_reg_signal_900_9_diff', 'slope_angle_300_3 - slope_angle_300_6', 'slope_signal_300_6_diff', '10min_slope_signal_600_6 - slope_signal_600_9', 'slope_angle_600_6 - slope_angle_600_9', '10min_slope_angle_300_6', '10min_slope_angle_600_3 - slope_angle_600_6', '10min_slope_angle_900_3 - slope_angle_900_6', 'slope_signal_300_3 - slope_signal_900_9', '10min_slope_angle_600_9 - slope_angle_900_6', 'slope_signal_600_3 - slope_signal_600_6', 'slope_lin_reg_signal_600_9', 'slope_angle_300_3 - slope_angle_900_6', 'slope_angle_900_6', '10min_slope_angle_300_9 - slope_angle_600_6', '10min_slope_angle_300_6 - slope_angle_600_3', 'slope_signal_300_9', '10min_slope_lin_reg_signal_300_9 - slope_lin_reg_signal_900_9', 'slope_angle_300_3 - slope_angle_900_3'] \n",
            "\n",
            "Shape =  (14438, 272) \n",
            "\n",
            "Label_Counts =  label\n",
            "1    7434\n",
            "0    7004\n",
            "Name: count, dtype: int64 \n",
            "\n",
            "Missing values (NaN and Inf) in feat_obj sorted by highest to lowest AFTER DROPPING COLUMNS:\n",
            "slope_signal_300_6_diff                        0\n",
            "slope_angle_300_3 - slope_angle_300_6          0\n",
            "10min_slope_lin_reg_signal_900_9_diff          0\n",
            "10min_slope_signal_300_9                       0\n",
            "10min_slope_angle_600_6 - slope_angle_900_9    0\n",
            "                                              ..\n",
            "10min_slope_signal_300_3                       0\n",
            "10min_slope_signal_600_3                       0\n",
            "10min_RSI_3                                    0\n",
            "10min_RSI_3_diff                               0\n",
            "label                                          0\n",
            "Length: 272, dtype: int64\n"
          ]
        }
      ],
      "source": [
        "### Merge\n",
        "\n",
        "feat_obj = features_5m.copy()\n",
        "#feat_obj = features_5m.merge(lab, left_index=True, right_index=True, how='left')\n",
        "#feat_obj = feat_obj.loc[feat_obj['Open_Trade']==-1,:] # Commented out filtering\n",
        "\n",
        "\n",
        "print(list(feat_obj.columns),'\\n')\n",
        "print('Shape = ',feat_obj.shape,'\\n')\n",
        "print('Label_Counts = ', feat_obj['label'].value_counts(),'\\n')\n",
        "\n",
        "feat_obj.dropna(inplace=True)\n",
        "\n",
        "nan_counts = feat_obj.isnull().sum()\n",
        "\n",
        "print(\"Missing values (NaN and Inf) in feat_obj sorted by highest to lowest AFTER DROPPING COLUMNS:\")\n",
        "\n",
        "nan_counts_after = feat_obj.isnull().sum()\n",
        "inf_counts_after = np.isinf(feat_obj.select_dtypes(include=np.number)).sum()\n",
        "total_missing_counts_after = nan_counts_after + inf_counts_after\n",
        "print(total_missing_counts_after.sort_values(ascending=False))\n",
        "\n",
        "\n"
      ]
    },
    {
      "cell_type": "code",
      "execution_count": 239,
      "id": "U1SDwIIeNhhU",
      "metadata": {
        "colab": {
          "base_uri": "https://localhost:8080/"
        },
        "id": "U1SDwIIeNhhU",
        "outputId": "742e2ccd-5da3-40ac-e05c-955c1d408bea"
      },
      "outputs": [
        {
          "output_type": "stream",
          "name": "stdout",
          "text": [
            "Shape of train_data: (10106, 272)\n",
            "Shape of test_data: (4332, 272)\n"
          ]
        }
      ],
      "source": [
        "# Split the data into 70% train and 30% test based on index\n",
        "train_size = int(0.7 * len(feat_obj))\n",
        "train = feat_obj.iloc[:train_size]\n",
        "test  = feat_obj.iloc[train_size:]\n",
        "\n",
        "print(\"Shape of train_data:\", train.shape)\n",
        "print(\"Shape of test_data:\", test.shape)"
      ]
    },
    {
      "cell_type": "code",
      "execution_count": 240,
      "id": "5KnO-8hT71wu",
      "metadata": {
        "colab": {
          "base_uri": "https://localhost:8080/"
        },
        "id": "5KnO-8hT71wu",
        "outputId": "6e36d578-44ac-417a-d745-76ab1f65e18c"
      },
      "outputs": [
        {
          "output_type": "stream",
          "name": "stdout",
          "text": [
            "Train_Min_Date 2023-08-29 20:40:00\n",
            "Train_Max_Date 2024-12-25 16:00:00 \n",
            "\n",
            "Test_Min_Date 2024-12-25 17:00:00\n",
            "Test_Max_Date 2025-07-26 23:05:00 \n",
            "\n",
            "Train_Columns :  ['label', '10min_RSI_3_diff', '10min_RSI_3', '10min_slope_signal_600_3', '10min_slope_signal_300_3', '10min_slope_div_300_3_diff', '10min_slope_lin_reg_signal_900_6', 'RSI_7', '10min_slope_signal_900_3', '10min_slope_angle_900_3_diff', '10min_slope_signal_900_9_diff', '10min_slope_signal_600_3_diff', '10min_slope_lin_reg_signal_600_3', '10min_slope_div_300_6 - slope_div_600_9', '10min_slope_div_300_9', '10min_slope_signal_300_6 - slope_signal_600_3', '10min_slope_signal_300_6', '10min_slope_signal_300_6 - slope_signal_600_6', '10min_slope_angle_600_3', '10min_slope_angle_600_3_diff', '10min_slope_lin_reg_signal_600_6', '10min_slope_lin_reg_signal_300_6 - slope_lin_reg_signal_900_9', 'Kal_600_minus_Kal_900', '10min_slope_signal_300_9 - slope_signal_900_9', '10min_slope_div_300_3 - slope_div_300_6', '10min_slope_lin_reg_signal_600_9', '10min_slope_signal_600_6', '10min_slope_signal_300_3 - slope_signal_600_3', '10min_slope_signal_300_6 - slope_signal_900_6', '10min_slope_lin_reg_600_3 - slope_lin_reg_900_9', '10min_slope_lin_reg_signal_300_6_diff', '10min_MFI_3_diff', '10min_slope_signal_900_3_diff', 'Close_Kal_300', '10min_slope_lin_reg_signal_600_9 - slope_lin_reg_signal_900_6', '10min_slope_lin_reg_signal_300_6', 'slope_lin_reg_signal_600_6_diff', 'slope_div_600_3', 'slope_div_300_9 - slope_div_600_9', '10min_slope_angle_300_6_diff', '10min_slope_signal_300_6_diff', '10min_slope_angle_600_3 - slope_angle_900_9', 'slope_angle_300_3 - slope_angle_300_9', '10min_slope_lin_reg_signal_600_3 - slope_lin_reg_signal_600_9', '10min_slope_lin_reg_signal_300_3 - slope_lin_reg_signal_300_9', 'slope_angle_600_3', '10min_slope_lin_reg_signal_900_3', '10min_slope_angle_600_6 - slope_angle_900_3', '10min_slope_signal_900_6_diff', 'OBV_diff', '10min_slope_angle_300_3 - slope_angle_300_6', 'slope_angle_300_6_diff', 'RSI_7 - RSI_14', '10min_slope_signal_900_6 - slope_signal_900_9', '10min_slope_div_600_3 - slope_div_600_6', 'RSI_3_diff', '10min_slope_angle_600_9 - slope_angle_900_9', 'slope_angle_300_9 - slope_angle_900_9', '10min_slope_lin_reg_signal_300_9_diff', 'slope_div_300_6 - slope_div_900_9', '10min_slope_signal_600_9 - slope_signal_900_9', '10min_slope_angle_900_6 - slope_angle_900_9', 'RSI_3', '10min_slope_signal_300_3_diff', '10min_slope_lin_reg_signal_300_9 - slope_lin_reg_signal_900_3', '10min_slope_signal_300_6 - slope_signal_600_9', 'slope_signal_600_6 - slope_signal_600_9', 'slope_div_300_6 - slope_div_600_9', '10min_slope_lin_reg_signal_600_6 - slope_lin_reg_signal_900_9', '10min_slope_angle_300_6 - slope_angle_300_9', '10min_slope_lin_reg_signal_300_6 - slope_lin_reg_signal_900_3', 'slope_angle_300_9_diff', '10min_slope_signal_300_6 - slope_signal_900_9', 'slope_signal_600_9_diff', '10min_slope_signal_300_9 - slope_signal_900_6', '10min_slope_angle_300_9 - slope_angle_600_3', '10min_slope_signal_900_6', 'slope_angle_900_9', '10min_slope_signal_900_9', '10min_slope_angle_600_6 - slope_angle_600_9', '10min_slope_angle_300_9', 'slope_lin_reg_signal_900_6 - slope_lin_reg_signal_900_9', '10min_slope_angle_600_6 - slope_angle_900_6', 'slope_lin_reg_signal_300_3', '10min_slope_lin_reg_signal_600_6 - slope_lin_reg_signal_900_6', 'slope_angle_300_6 - slope_angle_900_9', 'slope_div_300_6_diff', 'slope_angle_900_9_diff', 'slope_signal_600_9 - slope_signal_900_6', 'slope_signal_600_6_diff', '10min_slope_lin_reg_signal_900_3 - slope_lin_reg_signal_900_9', '10min_slope_angle_300_6 - slope_angle_600_6', '10min_slope_div_600_3 - slope_div_900_6', '10min_slope_lin_reg_signal_300_3 - slope_lin_reg_signal_600_9', '10min_slope_signal_300_6 - slope_signal_300_9', 'slope_signal_600_3', '10min_slope_angle_300_6 - slope_angle_900_9', 'slope_angle_300_6 - slope_angle_600_9', 'slope_angle_600_3 - slope_angle_900_3', '10min_slope_lin_reg_signal_600_9_diff', 'slope_div_300_3 - slope_div_300_6', 'slope_angle_300_6', 'slope_lin_reg_signal_300_6 - slope_lin_reg_signal_900_6', 'slope_angle_600_6 - slope_angle_900_6', 'slope_lin_reg_signal_600_6 - slope_lin_reg_signal_900_6', '10min_slope_lin_reg_signal_900_3 - slope_lin_reg_signal_900_6', 'slope_angle_600_9 - slope_angle_900_6', '10min_slope_angle_600_6_diff', '10min_slope_lin_reg_signal_300_3 - slope_lin_reg_signal_900_6', '10min_slope_signal_300_9 - slope_signal_600_3', '10min_slope_lin_reg_signal_300_9 - slope_lin_reg_signal_600_6', 'slope_angle_600_3 - slope_angle_600_6', 'slope_angle_900_3', 'MFI_3 - MFI_14', '10min_slope_signal_300_3 - slope_signal_900_9', '10min_slope_lin_reg_signal_600_6 - slope_lin_reg_signal_600_9', 'slope_signal_300_3 - slope_signal_600_6', 'slope_angle_300_6 - slope_angle_300_9', 'slope_angle_300_3', '10min_slope_signal_300_3 - slope_signal_600_6', 'slope_angle_300_9', 'slope_signal_600_9', 'slope_signal_600_6', 'slope_signal_300_9 - slope_signal_900_9', 'Kal_300', '10min_slope_signal_600_3 - slope_signal_900_3', '10min_Kal_300', 'slope_signal_300_6 - slope_signal_600_9', '10min_slope_angle_300_3 - slope_angle_600_6', '10min_OBV_diff', 'RSI_3 - RSI_7', '10min_slope_lin_reg_signal_600_9 - slope_lin_reg_signal_900_3', 'slope_angle_600_3 - slope_angle_900_6', 'slope_lin_reg_signal_300_9 - slope_lin_reg_signal_900_9', '10min_MFI_7 - MFI_14', '10min_slope_signal_600_3 - slope_signal_600_6', 'slope_lin_reg_signal_600_6 - slope_lin_reg_signal_600_9', '10min_slope_angle_300_9 - slope_angle_900_6', '10min_slope_lin_reg_signal_300_6 - slope_lin_reg_signal_300_9', '10min_slope_lin_reg_signal_600_3 - slope_lin_reg_signal_900_3', '10min_slope_lin_reg_signal_300_6 - slope_lin_reg_signal_900_6', 'slope_lin_reg_600_6_diff', 'slope_angle_600_9', 'slope_lin_reg_signal_300_6 - slope_lin_reg_signal_600_6', 'MFI_7 - MFI_14', '10min_OBV', '10min_MFI_14_diff', 'slope_div_300_9_diff', '10min_slope_angle_300_9 - slope_angle_600_9', '10min_slope_lin_reg_signal_300_3 - slope_lin_reg_signal_600_6', 'slope_angle_600_3_diff', 'slope_angle_300_9 - slope_angle_600_6', '10min_slope_lin_reg_signal_300_9 - slope_lin_reg_signal_600_9', '10min_slope_signal_300_9 - slope_signal_600_9', 'slope_angle_600_9_diff', '10min_slope_angle_300_9 - slope_angle_900_9', 'slope_angle_300_3_diff', 'slope_angle_900_6_diff', 'slope_angle_900_3 - slope_angle_900_6', 'slope_angle_300_6 - slope_angle_900_6', 'slope_lin_reg_signal_600_6 - slope_lin_reg_signal_900_3', 'MFI_3_diff', 'slope_signal_600_3 - slope_signal_900_9', '10min_slope_angle_300_3 - slope_angle_900_3', 'slope_lin_reg_signal_900_3 - slope_lin_reg_signal_900_6', '10min_slope_angle_600_9_diff', '10min_slope_lin_reg_300_3 - slope_lin_reg_600_9', 'slope_signal_900_3_diff', '10min_slope_div_300_3 - slope_div_900_6', '10min_slope_signal_300_3 - slope_signal_900_6', 'slope_lin_reg_signal_600_9 - slope_lin_reg_signal_900_9', 'slope_angle_300_9 - slope_angle_900_6', 'slope_angle_300_6 - slope_angle_600_3', '10min_slope_lin_reg_signal_300_3 - slope_lin_reg_signal_300_6', 'slope_div_300_3 - slope_div_900_6', '10min_slope_signal_600_9 - slope_signal_900_6', 'slope_signal_300_3_diff', 'slope_lin_reg_signal_300_3 - slope_lin_reg_signal_900_6', 'slope_angle_600_6 - slope_angle_900_3', 'slope_signal_900_9', 'slope_lin_reg_signal_600_6', 'slope_lin_reg_signal_600_3 - slope_lin_reg_signal_600_6', '10min_slope_lin_reg_signal_300_3 - slope_lin_reg_signal_900_3', 'slope_angle_300_3 - slope_angle_900_9', 'slope_lin_reg_600_3_diff', 'slope_signal_300_6 - slope_signal_900_9', '10min_slope_lin_reg_signal_300_9', 'slope_lin_reg_signal_900_9_diff', 'slope_signal_300_9 - slope_signal_600_9', 'MFI_14_diff', 'MFI_14', '10min_slope_angle_900_6_diff', 'slope_lin_reg_300_6_diff', 'slope_signal_900_6', 'Kal_prev2_minus_now_300', '10min_slope_signal_300_9 - slope_signal_600_6', 'slope_lin_reg_600_9_diff', '10min_slope_angle_300_3 - slope_angle_900_6', 'slope_signal_600_3 - slope_signal_900_3', 'MFI_7_diff', 'slope_signal_600_3 - slope_signal_900_6', 'slope_signal_300_6 - slope_signal_600_3', '10min_slope_lin_reg_signal_900_6 - slope_lin_reg_signal_900_9', 'MFI_7', 'slope_lin_reg_signal_300_6', 'slope_signal_300_9_diff', '10min_slope_lin_reg_signal_300_3 - slope_lin_reg_signal_600_3', 'slope_signal_300_3 - slope_signal_900_6', 'slope_signal_300_6 - slope_signal_300_9', '10min_slope_lin_reg_signal_300_6 - slope_lin_reg_signal_600_3', 'slope_angle_900_3_diff', 'slope_lin_reg_signal_600_6 - slope_lin_reg_signal_900_9', 'slope_signal_300_3 - slope_signal_300_6', '10min_MFI_7_diff', '10min_slope_signal_600_9', '10min_slope_angle_300_6 - slope_angle_900_6', 'slope_lin_reg_signal_300_3 - slope_lin_reg_signal_900_3', '10min_slope_lin_reg_signal_600_3 - slope_lin_reg_signal_900_6', '10min_slope_angle_300_3 - slope_angle_600_3', 'slope_lin_reg_signal_300_6 - slope_lin_reg_signal_900_3', 'Kal_prev2_minus_now_600', 'slope_lin_reg_signal_600_3_diff', 'slope_div_300_3_diff', '10min_MFI_7', 'slope_lin_reg_signal_900_6_diff', '10min_slope_lin_reg_signal_300_3 - slope_lin_reg_signal_900_9', '10min_slope_angle_600_3 - slope_angle_600_9', 'slope_lin_reg_signal_300_3 - slope_lin_reg_signal_600_6', '10min_slope_lin_reg_signal_300_9 - slope_lin_reg_signal_600_3', 'slope_signal_300_3 - slope_signal_600_9', 'slope_lin_reg_signal_300_6 - slope_lin_reg_signal_600_3', '10min_slope_angle_300_3 - slope_angle_900_9', 'slope_angle_600_6 - slope_angle_900_9', '10min_slope_lin_reg_signal_900_3_diff', 'MFI_3 - MFI_7', '10min_slope_angle_300_6 - slope_angle_900_3', 'slope_angle_300_3 - slope_angle_600_3', '10min_slope_lin_reg_signal_300_9 - slope_lin_reg_signal_900_6', 'slope_div_300_6', 'slope_signal_300_3 - slope_signal_600_3', 'slope_lin_reg_signal_600_3', 'slope_lin_reg_signal_300_9 - slope_lin_reg_signal_600_6', '10min_slope_lin_reg_signal_600_3 - slope_lin_reg_signal_600_6', 'slope_signal_900_9_diff', 'slope_signal_600_9 - slope_signal_900_9', 'slope_lin_reg_signal_600_3 - slope_lin_reg_signal_900_6', '10min_slope_lin_reg_signal_300_6 - slope_lin_reg_signal_600_6', 'slope_lin_reg_signal_300_6 - slope_lin_reg_signal_900_9', 'slope_angle_600_6', '10min_slope_signal_600_6_diff', '10min_slope_angle_300_3 - slope_angle_600_9', '10min_slope_angle_600_6 - slope_angle_900_9', '10min_slope_signal_300_9', '10min_slope_lin_reg_signal_900_9_diff', 'slope_angle_300_3 - slope_angle_300_6', 'slope_signal_300_6_diff', '10min_slope_signal_600_6 - slope_signal_600_9', 'slope_angle_600_6 - slope_angle_600_9', '10min_slope_angle_300_6', '10min_slope_angle_600_3 - slope_angle_600_6', '10min_slope_angle_900_3 - slope_angle_900_6', 'slope_signal_300_3 - slope_signal_900_9', '10min_slope_angle_600_9 - slope_angle_900_6', 'slope_signal_600_3 - slope_signal_600_6', 'slope_lin_reg_signal_600_9', 'slope_angle_300_3 - slope_angle_900_6', 'slope_angle_900_6', '10min_slope_angle_300_9 - slope_angle_600_6', '10min_slope_angle_300_6 - slope_angle_600_3', 'slope_signal_300_9', '10min_slope_lin_reg_signal_300_9 - slope_lin_reg_signal_900_9', 'slope_angle_300_3 - slope_angle_900_3'] \n",
            "\n",
            "Test_Columns :  ['label', '10min_RSI_3_diff', '10min_RSI_3', '10min_slope_signal_600_3', '10min_slope_signal_300_3', '10min_slope_div_300_3_diff', '10min_slope_lin_reg_signal_900_6', 'RSI_7', '10min_slope_signal_900_3', '10min_slope_angle_900_3_diff', '10min_slope_signal_900_9_diff', '10min_slope_signal_600_3_diff', '10min_slope_lin_reg_signal_600_3', '10min_slope_div_300_6 - slope_div_600_9', '10min_slope_div_300_9', '10min_slope_signal_300_6 - slope_signal_600_3', '10min_slope_signal_300_6', '10min_slope_signal_300_6 - slope_signal_600_6', '10min_slope_angle_600_3', '10min_slope_angle_600_3_diff', '10min_slope_lin_reg_signal_600_6', '10min_slope_lin_reg_signal_300_6 - slope_lin_reg_signal_900_9', 'Kal_600_minus_Kal_900', '10min_slope_signal_300_9 - slope_signal_900_9', '10min_slope_div_300_3 - slope_div_300_6', '10min_slope_lin_reg_signal_600_9', '10min_slope_signal_600_6', '10min_slope_signal_300_3 - slope_signal_600_3', '10min_slope_signal_300_6 - slope_signal_900_6', '10min_slope_lin_reg_600_3 - slope_lin_reg_900_9', '10min_slope_lin_reg_signal_300_6_diff', '10min_MFI_3_diff', '10min_slope_signal_900_3_diff', 'Close_Kal_300', '10min_slope_lin_reg_signal_600_9 - slope_lin_reg_signal_900_6', '10min_slope_lin_reg_signal_300_6', 'slope_lin_reg_signal_600_6_diff', 'slope_div_600_3', 'slope_div_300_9 - slope_div_600_9', '10min_slope_angle_300_6_diff', '10min_slope_signal_300_6_diff', '10min_slope_angle_600_3 - slope_angle_900_9', 'slope_angle_300_3 - slope_angle_300_9', '10min_slope_lin_reg_signal_600_3 - slope_lin_reg_signal_600_9', '10min_slope_lin_reg_signal_300_3 - slope_lin_reg_signal_300_9', 'slope_angle_600_3', '10min_slope_lin_reg_signal_900_3', '10min_slope_angle_600_6 - slope_angle_900_3', '10min_slope_signal_900_6_diff', 'OBV_diff', '10min_slope_angle_300_3 - slope_angle_300_6', 'slope_angle_300_6_diff', 'RSI_7 - RSI_14', '10min_slope_signal_900_6 - slope_signal_900_9', '10min_slope_div_600_3 - slope_div_600_6', 'RSI_3_diff', '10min_slope_angle_600_9 - slope_angle_900_9', 'slope_angle_300_9 - slope_angle_900_9', '10min_slope_lin_reg_signal_300_9_diff', 'slope_div_300_6 - slope_div_900_9', '10min_slope_signal_600_9 - slope_signal_900_9', '10min_slope_angle_900_6 - slope_angle_900_9', 'RSI_3', '10min_slope_signal_300_3_diff', '10min_slope_lin_reg_signal_300_9 - slope_lin_reg_signal_900_3', '10min_slope_signal_300_6 - slope_signal_600_9', 'slope_signal_600_6 - slope_signal_600_9', 'slope_div_300_6 - slope_div_600_9', '10min_slope_lin_reg_signal_600_6 - slope_lin_reg_signal_900_9', '10min_slope_angle_300_6 - slope_angle_300_9', '10min_slope_lin_reg_signal_300_6 - slope_lin_reg_signal_900_3', 'slope_angle_300_9_diff', '10min_slope_signal_300_6 - slope_signal_900_9', 'slope_signal_600_9_diff', '10min_slope_signal_300_9 - slope_signal_900_6', '10min_slope_angle_300_9 - slope_angle_600_3', '10min_slope_signal_900_6', 'slope_angle_900_9', '10min_slope_signal_900_9', '10min_slope_angle_600_6 - slope_angle_600_9', '10min_slope_angle_300_9', 'slope_lin_reg_signal_900_6 - slope_lin_reg_signal_900_9', '10min_slope_angle_600_6 - slope_angle_900_6', 'slope_lin_reg_signal_300_3', '10min_slope_lin_reg_signal_600_6 - slope_lin_reg_signal_900_6', 'slope_angle_300_6 - slope_angle_900_9', 'slope_div_300_6_diff', 'slope_angle_900_9_diff', 'slope_signal_600_9 - slope_signal_900_6', 'slope_signal_600_6_diff', '10min_slope_lin_reg_signal_900_3 - slope_lin_reg_signal_900_9', '10min_slope_angle_300_6 - slope_angle_600_6', '10min_slope_div_600_3 - slope_div_900_6', '10min_slope_lin_reg_signal_300_3 - slope_lin_reg_signal_600_9', '10min_slope_signal_300_6 - slope_signal_300_9', 'slope_signal_600_3', '10min_slope_angle_300_6 - slope_angle_900_9', 'slope_angle_300_6 - slope_angle_600_9', 'slope_angle_600_3 - slope_angle_900_3', '10min_slope_lin_reg_signal_600_9_diff', 'slope_div_300_3 - slope_div_300_6', 'slope_angle_300_6', 'slope_lin_reg_signal_300_6 - slope_lin_reg_signal_900_6', 'slope_angle_600_6 - slope_angle_900_6', 'slope_lin_reg_signal_600_6 - slope_lin_reg_signal_900_6', '10min_slope_lin_reg_signal_900_3 - slope_lin_reg_signal_900_6', 'slope_angle_600_9 - slope_angle_900_6', '10min_slope_angle_600_6_diff', '10min_slope_lin_reg_signal_300_3 - slope_lin_reg_signal_900_6', '10min_slope_signal_300_9 - slope_signal_600_3', '10min_slope_lin_reg_signal_300_9 - slope_lin_reg_signal_600_6', 'slope_angle_600_3 - slope_angle_600_6', 'slope_angle_900_3', 'MFI_3 - MFI_14', '10min_slope_signal_300_3 - slope_signal_900_9', '10min_slope_lin_reg_signal_600_6 - slope_lin_reg_signal_600_9', 'slope_signal_300_3 - slope_signal_600_6', 'slope_angle_300_6 - slope_angle_300_9', 'slope_angle_300_3', '10min_slope_signal_300_3 - slope_signal_600_6', 'slope_angle_300_9', 'slope_signal_600_9', 'slope_signal_600_6', 'slope_signal_300_9 - slope_signal_900_9', 'Kal_300', '10min_slope_signal_600_3 - slope_signal_900_3', '10min_Kal_300', 'slope_signal_300_6 - slope_signal_600_9', '10min_slope_angle_300_3 - slope_angle_600_6', '10min_OBV_diff', 'RSI_3 - RSI_7', '10min_slope_lin_reg_signal_600_9 - slope_lin_reg_signal_900_3', 'slope_angle_600_3 - slope_angle_900_6', 'slope_lin_reg_signal_300_9 - slope_lin_reg_signal_900_9', '10min_MFI_7 - MFI_14', '10min_slope_signal_600_3 - slope_signal_600_6', 'slope_lin_reg_signal_600_6 - slope_lin_reg_signal_600_9', '10min_slope_angle_300_9 - slope_angle_900_6', '10min_slope_lin_reg_signal_300_6 - slope_lin_reg_signal_300_9', '10min_slope_lin_reg_signal_600_3 - slope_lin_reg_signal_900_3', '10min_slope_lin_reg_signal_300_6 - slope_lin_reg_signal_900_6', 'slope_lin_reg_600_6_diff', 'slope_angle_600_9', 'slope_lin_reg_signal_300_6 - slope_lin_reg_signal_600_6', 'MFI_7 - MFI_14', '10min_OBV', '10min_MFI_14_diff', 'slope_div_300_9_diff', '10min_slope_angle_300_9 - slope_angle_600_9', '10min_slope_lin_reg_signal_300_3 - slope_lin_reg_signal_600_6', 'slope_angle_600_3_diff', 'slope_angle_300_9 - slope_angle_600_6', '10min_slope_lin_reg_signal_300_9 - slope_lin_reg_signal_600_9', '10min_slope_signal_300_9 - slope_signal_600_9', 'slope_angle_600_9_diff', '10min_slope_angle_300_9 - slope_angle_900_9', 'slope_angle_300_3_diff', 'slope_angle_900_6_diff', 'slope_angle_900_3 - slope_angle_900_6', 'slope_angle_300_6 - slope_angle_900_6', 'slope_lin_reg_signal_600_6 - slope_lin_reg_signal_900_3', 'MFI_3_diff', 'slope_signal_600_3 - slope_signal_900_9', '10min_slope_angle_300_3 - slope_angle_900_3', 'slope_lin_reg_signal_900_3 - slope_lin_reg_signal_900_6', '10min_slope_angle_600_9_diff', '10min_slope_lin_reg_300_3 - slope_lin_reg_600_9', 'slope_signal_900_3_diff', '10min_slope_div_300_3 - slope_div_900_6', '10min_slope_signal_300_3 - slope_signal_900_6', 'slope_lin_reg_signal_600_9 - slope_lin_reg_signal_900_9', 'slope_angle_300_9 - slope_angle_900_6', 'slope_angle_300_6 - slope_angle_600_3', '10min_slope_lin_reg_signal_300_3 - slope_lin_reg_signal_300_6', 'slope_div_300_3 - slope_div_900_6', '10min_slope_signal_600_9 - slope_signal_900_6', 'slope_signal_300_3_diff', 'slope_lin_reg_signal_300_3 - slope_lin_reg_signal_900_6', 'slope_angle_600_6 - slope_angle_900_3', 'slope_signal_900_9', 'slope_lin_reg_signal_600_6', 'slope_lin_reg_signal_600_3 - slope_lin_reg_signal_600_6', '10min_slope_lin_reg_signal_300_3 - slope_lin_reg_signal_900_3', 'slope_angle_300_3 - slope_angle_900_9', 'slope_lin_reg_600_3_diff', 'slope_signal_300_6 - slope_signal_900_9', '10min_slope_lin_reg_signal_300_9', 'slope_lin_reg_signal_900_9_diff', 'slope_signal_300_9 - slope_signal_600_9', 'MFI_14_diff', 'MFI_14', '10min_slope_angle_900_6_diff', 'slope_lin_reg_300_6_diff', 'slope_signal_900_6', 'Kal_prev2_minus_now_300', '10min_slope_signal_300_9 - slope_signal_600_6', 'slope_lin_reg_600_9_diff', '10min_slope_angle_300_3 - slope_angle_900_6', 'slope_signal_600_3 - slope_signal_900_3', 'MFI_7_diff', 'slope_signal_600_3 - slope_signal_900_6', 'slope_signal_300_6 - slope_signal_600_3', '10min_slope_lin_reg_signal_900_6 - slope_lin_reg_signal_900_9', 'MFI_7', 'slope_lin_reg_signal_300_6', 'slope_signal_300_9_diff', '10min_slope_lin_reg_signal_300_3 - slope_lin_reg_signal_600_3', 'slope_signal_300_3 - slope_signal_900_6', 'slope_signal_300_6 - slope_signal_300_9', '10min_slope_lin_reg_signal_300_6 - slope_lin_reg_signal_600_3', 'slope_angle_900_3_diff', 'slope_lin_reg_signal_600_6 - slope_lin_reg_signal_900_9', 'slope_signal_300_3 - slope_signal_300_6', '10min_MFI_7_diff', '10min_slope_signal_600_9', '10min_slope_angle_300_6 - slope_angle_900_6', 'slope_lin_reg_signal_300_3 - slope_lin_reg_signal_900_3', '10min_slope_lin_reg_signal_600_3 - slope_lin_reg_signal_900_6', '10min_slope_angle_300_3 - slope_angle_600_3', 'slope_lin_reg_signal_300_6 - slope_lin_reg_signal_900_3', 'Kal_prev2_minus_now_600', 'slope_lin_reg_signal_600_3_diff', 'slope_div_300_3_diff', '10min_MFI_7', 'slope_lin_reg_signal_900_6_diff', '10min_slope_lin_reg_signal_300_3 - slope_lin_reg_signal_900_9', '10min_slope_angle_600_3 - slope_angle_600_9', 'slope_lin_reg_signal_300_3 - slope_lin_reg_signal_600_6', '10min_slope_lin_reg_signal_300_9 - slope_lin_reg_signal_600_3', 'slope_signal_300_3 - slope_signal_600_9', 'slope_lin_reg_signal_300_6 - slope_lin_reg_signal_600_3', '10min_slope_angle_300_3 - slope_angle_900_9', 'slope_angle_600_6 - slope_angle_900_9', '10min_slope_lin_reg_signal_900_3_diff', 'MFI_3 - MFI_7', '10min_slope_angle_300_6 - slope_angle_900_3', 'slope_angle_300_3 - slope_angle_600_3', '10min_slope_lin_reg_signal_300_9 - slope_lin_reg_signal_900_6', 'slope_div_300_6', 'slope_signal_300_3 - slope_signal_600_3', 'slope_lin_reg_signal_600_3', 'slope_lin_reg_signal_300_9 - slope_lin_reg_signal_600_6', '10min_slope_lin_reg_signal_600_3 - slope_lin_reg_signal_600_6', 'slope_signal_900_9_diff', 'slope_signal_600_9 - slope_signal_900_9', 'slope_lin_reg_signal_600_3 - slope_lin_reg_signal_900_6', '10min_slope_lin_reg_signal_300_6 - slope_lin_reg_signal_600_6', 'slope_lin_reg_signal_300_6 - slope_lin_reg_signal_900_9', 'slope_angle_600_6', '10min_slope_signal_600_6_diff', '10min_slope_angle_300_3 - slope_angle_600_9', '10min_slope_angle_600_6 - slope_angle_900_9', '10min_slope_signal_300_9', '10min_slope_lin_reg_signal_900_9_diff', 'slope_angle_300_3 - slope_angle_300_6', 'slope_signal_300_6_diff', '10min_slope_signal_600_6 - slope_signal_600_9', 'slope_angle_600_6 - slope_angle_600_9', '10min_slope_angle_300_6', '10min_slope_angle_600_3 - slope_angle_600_6', '10min_slope_angle_900_3 - slope_angle_900_6', 'slope_signal_300_3 - slope_signal_900_9', '10min_slope_angle_600_9 - slope_angle_900_6', 'slope_signal_600_3 - slope_signal_600_6', 'slope_lin_reg_signal_600_9', 'slope_angle_300_3 - slope_angle_900_6', 'slope_angle_900_6', '10min_slope_angle_300_9 - slope_angle_600_6', '10min_slope_angle_300_6 - slope_angle_600_3', 'slope_signal_300_9', '10min_slope_lin_reg_signal_300_9 - slope_lin_reg_signal_900_9', 'slope_angle_300_3 - slope_angle_900_3']\n"
          ]
        }
      ],
      "source": [
        "### Define Train dataframe\n",
        "\n",
        "print('Train_Min_Date', train.index.min())\n",
        "print('Train_Max_Date', train.index.max(),'\\n')\n",
        "\n",
        "print('Test_Min_Date', test.index.min())\n",
        "print('Test_Max_Date', test.index.max(),'\\n')\n",
        "\n",
        "print('Train_Columns : ',list(train.columns), '\\n')\n",
        "print('Test_Columns : ',list(test.columns))"
      ]
    },
    {
      "cell_type": "markdown",
      "id": "61614b7f",
      "metadata": {
        "id": "61614b7f"
      },
      "source": [
        "# Results\n"
      ]
    },
    {
      "cell_type": "code",
      "execution_count": 182,
      "id": "JXY2HFrnLIwW",
      "metadata": {
        "colab": {
          "base_uri": "https://localhost:8080/",
          "height": 0
        },
        "id": "JXY2HFrnLIwW",
        "outputId": "8c42f494-fcc8-404f-99ec-ac28c9bfda32"
      },
      "outputs": [
        {
          "output_type": "execute_result",
          "data": {
            "text/plain": [
              "                    Results\n",
              "days                    648\n",
              "total_trades         13,713\n",
              "                           \n",
              "income          $592,962.50\n",
              "losses         $-264,915.05\n",
              "profits         $328,047.45\n",
              "                           \n",
              "profit_trades         5,315\n",
              "loss_trades           6,821\n",
              "                           \n",
              "% Win_Trades             44\n",
              "% Loss_Trades            56"
            ],
            "text/html": [
              "\n",
              "  <div id=\"df-6b819f32-01c8-47e4-ad40-03bfcf9d390f\" class=\"colab-df-container\">\n",
              "    <div>\n",
              "<style scoped>\n",
              "    .dataframe tbody tr th:only-of-type {\n",
              "        vertical-align: middle;\n",
              "    }\n",
              "\n",
              "    .dataframe tbody tr th {\n",
              "        vertical-align: top;\n",
              "    }\n",
              "\n",
              "    .dataframe thead th {\n",
              "        text-align: right;\n",
              "    }\n",
              "</style>\n",
              "<table border=\"1\" class=\"dataframe\">\n",
              "  <thead>\n",
              "    <tr style=\"text-align: right;\">\n",
              "      <th></th>\n",
              "      <th>Results</th>\n",
              "    </tr>\n",
              "  </thead>\n",
              "  <tbody>\n",
              "    <tr>\n",
              "      <th>days</th>\n",
              "      <td>648</td>\n",
              "    </tr>\n",
              "    <tr>\n",
              "      <th>total_trades</th>\n",
              "      <td>13,713</td>\n",
              "    </tr>\n",
              "    <tr>\n",
              "      <th></th>\n",
              "      <td></td>\n",
              "    </tr>\n",
              "    <tr>\n",
              "      <th>income</th>\n",
              "      <td>$592,962.50</td>\n",
              "    </tr>\n",
              "    <tr>\n",
              "      <th>losses</th>\n",
              "      <td>$-264,915.05</td>\n",
              "    </tr>\n",
              "    <tr>\n",
              "      <th>profits</th>\n",
              "      <td>$328,047.45</td>\n",
              "    </tr>\n",
              "    <tr>\n",
              "      <th></th>\n",
              "      <td></td>\n",
              "    </tr>\n",
              "    <tr>\n",
              "      <th>profit_trades</th>\n",
              "      <td>5,315</td>\n",
              "    </tr>\n",
              "    <tr>\n",
              "      <th>loss_trades</th>\n",
              "      <td>6,821</td>\n",
              "    </tr>\n",
              "    <tr>\n",
              "      <th></th>\n",
              "      <td></td>\n",
              "    </tr>\n",
              "    <tr>\n",
              "      <th>% Win_Trades</th>\n",
              "      <td>44</td>\n",
              "    </tr>\n",
              "    <tr>\n",
              "      <th>% Loss_Trades</th>\n",
              "      <td>56</td>\n",
              "    </tr>\n",
              "  </tbody>\n",
              "</table>\n",
              "</div>\n",
              "    <div class=\"colab-df-buttons\">\n",
              "\n",
              "  <div class=\"colab-df-container\">\n",
              "    <button class=\"colab-df-convert\" onclick=\"convertToInteractive('df-6b819f32-01c8-47e4-ad40-03bfcf9d390f')\"\n",
              "            title=\"Convert this dataframe to an interactive table.\"\n",
              "            style=\"display:none;\">\n",
              "\n",
              "  <svg xmlns=\"http://www.w3.org/2000/svg\" height=\"24px\" viewBox=\"0 -960 960 960\">\n",
              "    <path d=\"M120-120v-720h720v720H120Zm60-500h600v-160H180v160Zm220 220h160v-160H400v160Zm0 220h160v-160H400v160ZM180-400h160v-160H180v160Zm440 0h160v-160H620v160ZM180-180h160v-160H180v160Zm440 0h160v-160H620v160Z\"/>\n",
              "  </svg>\n",
              "    </button>\n",
              "\n",
              "  <style>\n",
              "    .colab-df-container {\n",
              "      display:flex;\n",
              "      gap: 12px;\n",
              "    }\n",
              "\n",
              "    .colab-df-convert {\n",
              "      background-color: #E8F0FE;\n",
              "      border: none;\n",
              "      border-radius: 50%;\n",
              "      cursor: pointer;\n",
              "      display: none;\n",
              "      fill: #1967D2;\n",
              "      height: 32px;\n",
              "      padding: 0 0 0 0;\n",
              "      width: 32px;\n",
              "    }\n",
              "\n",
              "    .colab-df-convert:hover {\n",
              "      background-color: #E2EBFA;\n",
              "      box-shadow: 0px 1px 2px rgba(60, 64, 67, 0.3), 0px 1px 3px 1px rgba(60, 64, 67, 0.15);\n",
              "      fill: #174EA6;\n",
              "    }\n",
              "\n",
              "    .colab-df-buttons div {\n",
              "      margin-bottom: 4px;\n",
              "    }\n",
              "\n",
              "    [theme=dark] .colab-df-convert {\n",
              "      background-color: #3B4455;\n",
              "      fill: #D2E3FC;\n",
              "    }\n",
              "\n",
              "    [theme=dark] .colab-df-convert:hover {\n",
              "      background-color: #434B5C;\n",
              "      box-shadow: 0px 1px 3px 1px rgba(0, 0, 0, 0.15);\n",
              "      filter: drop-shadow(0px 1px 2px rgba(0, 0, 0, 0.3));\n",
              "      fill: #FFFFFF;\n",
              "    }\n",
              "  </style>\n",
              "\n",
              "    <script>\n",
              "      const buttonEl =\n",
              "        document.querySelector('#df-6b819f32-01c8-47e4-ad40-03bfcf9d390f button.colab-df-convert');\n",
              "      buttonEl.style.display =\n",
              "        google.colab.kernel.accessAllowed ? 'block' : 'none';\n",
              "\n",
              "      async function convertToInteractive(key) {\n",
              "        const element = document.querySelector('#df-6b819f32-01c8-47e4-ad40-03bfcf9d390f');\n",
              "        const dataTable =\n",
              "          await google.colab.kernel.invokeFunction('convertToInteractive',\n",
              "                                                    [key], {});\n",
              "        if (!dataTable) return;\n",
              "\n",
              "        const docLinkHtml = 'Like what you see? Visit the ' +\n",
              "          '<a target=\"_blank\" href=https://colab.research.google.com/notebooks/data_table.ipynb>data table notebook</a>'\n",
              "          + ' to learn more about interactive tables.';\n",
              "        element.innerHTML = '';\n",
              "        dataTable['output_type'] = 'display_data';\n",
              "        await google.colab.output.renderOutput(dataTable, element);\n",
              "        const docLink = document.createElement('div');\n",
              "        docLink.innerHTML = docLinkHtml;\n",
              "        element.appendChild(docLink);\n",
              "      }\n",
              "    </script>\n",
              "  </div>\n",
              "\n",
              "\n",
              "    <div id=\"df-ff5e86e4-2aef-42db-b577-948a66d841ee\">\n",
              "      <button class=\"colab-df-quickchart\" onclick=\"quickchart('df-ff5e86e4-2aef-42db-b577-948a66d841ee')\"\n",
              "                title=\"Suggest charts\"\n",
              "                style=\"display:none;\">\n",
              "\n",
              "<svg xmlns=\"http://www.w3.org/2000/svg\" height=\"24px\"viewBox=\"0 0 24 24\"\n",
              "     width=\"24px\">\n",
              "    <g>\n",
              "        <path d=\"M19 3H5c-1.1 0-2 .9-2 2v14c0 1.1.9 2 2 2h14c1.1 0 2-.9 2-2V5c0-1.1-.9-2-2-2zM9 17H7v-7h2v7zm4 0h-2V7h2v10zm4 0h-2v-4h2v4z\"/>\n",
              "    </g>\n",
              "</svg>\n",
              "      </button>\n",
              "\n",
              "<style>\n",
              "  .colab-df-quickchart {\n",
              "      --bg-color: #E8F0FE;\n",
              "      --fill-color: #1967D2;\n",
              "      --hover-bg-color: #E2EBFA;\n",
              "      --hover-fill-color: #174EA6;\n",
              "      --disabled-fill-color: #AAA;\n",
              "      --disabled-bg-color: #DDD;\n",
              "  }\n",
              "\n",
              "  [theme=dark] .colab-df-quickchart {\n",
              "      --bg-color: #3B4455;\n",
              "      --fill-color: #D2E3FC;\n",
              "      --hover-bg-color: #434B5C;\n",
              "      --hover-fill-color: #FFFFFF;\n",
              "      --disabled-bg-color: #3B4455;\n",
              "      --disabled-fill-color: #666;\n",
              "  }\n",
              "\n",
              "  .colab-df-quickchart {\n",
              "    background-color: var(--bg-color);\n",
              "    border: none;\n",
              "    border-radius: 50%;\n",
              "    cursor: pointer;\n",
              "    display: none;\n",
              "    fill: var(--fill-color);\n",
              "    height: 32px;\n",
              "    padding: 0;\n",
              "    width: 32px;\n",
              "  }\n",
              "\n",
              "  .colab-df-quickchart:hover {\n",
              "    background-color: var(--hover-bg-color);\n",
              "    box-shadow: 0 1px 2px rgba(60, 64, 67, 0.3), 0 1px 3px 1px rgba(60, 64, 67, 0.15);\n",
              "    fill: var(--button-hover-fill-color);\n",
              "  }\n",
              "\n",
              "  .colab-df-quickchart-complete:disabled,\n",
              "  .colab-df-quickchart-complete:disabled:hover {\n",
              "    background-color: var(--disabled-bg-color);\n",
              "    fill: var(--disabled-fill-color);\n",
              "    box-shadow: none;\n",
              "  }\n",
              "\n",
              "  .colab-df-spinner {\n",
              "    border: 2px solid var(--fill-color);\n",
              "    border-color: transparent;\n",
              "    border-bottom-color: var(--fill-color);\n",
              "    animation:\n",
              "      spin 1s steps(1) infinite;\n",
              "  }\n",
              "\n",
              "  @keyframes spin {\n",
              "    0% {\n",
              "      border-color: transparent;\n",
              "      border-bottom-color: var(--fill-color);\n",
              "      border-left-color: var(--fill-color);\n",
              "    }\n",
              "    20% {\n",
              "      border-color: transparent;\n",
              "      border-left-color: var(--fill-color);\n",
              "      border-top-color: var(--fill-color);\n",
              "    }\n",
              "    30% {\n",
              "      border-color: transparent;\n",
              "      border-left-color: var(--fill-color);\n",
              "      border-top-color: var(--fill-color);\n",
              "      border-right-color: var(--fill-color);\n",
              "    }\n",
              "    40% {\n",
              "      border-color: transparent;\n",
              "      border-right-color: var(--fill-color);\n",
              "      border-top-color: var(--fill-color);\n",
              "    }\n",
              "    60% {\n",
              "      border-color: transparent;\n",
              "      border-right-color: var(--fill-color);\n",
              "    }\n",
              "    80% {\n",
              "      border-color: transparent;\n",
              "      border-right-color: var(--fill-color);\n",
              "      border-bottom-color: var(--fill-color);\n",
              "    }\n",
              "    90% {\n",
              "      border-color: transparent;\n",
              "      border-bottom-color: var(--fill-color);\n",
              "    }\n",
              "  }\n",
              "</style>\n",
              "\n",
              "      <script>\n",
              "        async function quickchart(key) {\n",
              "          const quickchartButtonEl =\n",
              "            document.querySelector('#' + key + ' button');\n",
              "          quickchartButtonEl.disabled = true;  // To prevent multiple clicks.\n",
              "          quickchartButtonEl.classList.add('colab-df-spinner');\n",
              "          try {\n",
              "            const charts = await google.colab.kernel.invokeFunction(\n",
              "                'suggestCharts', [key], {});\n",
              "          } catch (error) {\n",
              "            console.error('Error during call to suggestCharts:', error);\n",
              "          }\n",
              "          quickchartButtonEl.classList.remove('colab-df-spinner');\n",
              "          quickchartButtonEl.classList.add('colab-df-quickchart-complete');\n",
              "        }\n",
              "        (() => {\n",
              "          let quickchartButtonEl =\n",
              "            document.querySelector('#df-ff5e86e4-2aef-42db-b577-948a66d841ee button');\n",
              "          quickchartButtonEl.style.display =\n",
              "            google.colab.kernel.accessAllowed ? 'block' : 'none';\n",
              "        })();\n",
              "      </script>\n",
              "    </div>\n",
              "\n",
              "    </div>\n",
              "  </div>\n"
            ],
            "application/vnd.google.colaboratory.intrinsic+json": {
              "type": "dataframe",
              "summary": "{\n  \"name\": \"results(train, pnl_column='st_PnL')\",\n  \"rows\": 12,\n  \"fields\": [\n    {\n      \"column\": \"Results\",\n      \"properties\": {\n        \"dtype\": \"string\",\n        \"num_unique_values\": 12,\n        \"samples\": [\n          \"44\",\n          \"  \",\n          \"648\"\n        ],\n        \"semantic_type\": \"\",\n        \"description\": \"\"\n      }\n    }\n  ]\n}"
            }
          },
          "metadata": {},
          "execution_count": 182
        }
      ],
      "source": [
        "results(train, pnl_column='st_PnL')"
      ]
    },
    {
      "cell_type": "code",
      "execution_count": 183,
      "id": "oQLNnk7XLUiJ",
      "metadata": {
        "id": "oQLNnk7XLUiJ",
        "colab": {
          "base_uri": "https://localhost:8080/",
          "height": 0
        },
        "outputId": "7b79f9d0-6a72-4b90-b974-ed9d0a1a8b81"
      },
      "outputs": [
        {
          "output_type": "execute_result",
          "data": {
            "text/plain": [
              "                    Results\n",
              "days                    289\n",
              "total_trades          5,878\n",
              "                           \n",
              "income          $615,151.93\n",
              "losses         $-260,051.00\n",
              "profits         $355,100.93\n",
              "                           \n",
              "profit_trades         2,419\n",
              "loss_trades           2,857\n",
              "                           \n",
              "% Win_Trades             46\n",
              "% Loss_Trades            54"
            ],
            "text/html": [
              "\n",
              "  <div id=\"df-6715245c-b994-4aff-9ba1-974188e40b22\" class=\"colab-df-container\">\n",
              "    <div>\n",
              "<style scoped>\n",
              "    .dataframe tbody tr th:only-of-type {\n",
              "        vertical-align: middle;\n",
              "    }\n",
              "\n",
              "    .dataframe tbody tr th {\n",
              "        vertical-align: top;\n",
              "    }\n",
              "\n",
              "    .dataframe thead th {\n",
              "        text-align: right;\n",
              "    }\n",
              "</style>\n",
              "<table border=\"1\" class=\"dataframe\">\n",
              "  <thead>\n",
              "    <tr style=\"text-align: right;\">\n",
              "      <th></th>\n",
              "      <th>Results</th>\n",
              "    </tr>\n",
              "  </thead>\n",
              "  <tbody>\n",
              "    <tr>\n",
              "      <th>days</th>\n",
              "      <td>289</td>\n",
              "    </tr>\n",
              "    <tr>\n",
              "      <th>total_trades</th>\n",
              "      <td>5,878</td>\n",
              "    </tr>\n",
              "    <tr>\n",
              "      <th></th>\n",
              "      <td></td>\n",
              "    </tr>\n",
              "    <tr>\n",
              "      <th>income</th>\n",
              "      <td>$615,151.93</td>\n",
              "    </tr>\n",
              "    <tr>\n",
              "      <th>losses</th>\n",
              "      <td>$-260,051.00</td>\n",
              "    </tr>\n",
              "    <tr>\n",
              "      <th>profits</th>\n",
              "      <td>$355,100.93</td>\n",
              "    </tr>\n",
              "    <tr>\n",
              "      <th></th>\n",
              "      <td></td>\n",
              "    </tr>\n",
              "    <tr>\n",
              "      <th>profit_trades</th>\n",
              "      <td>2,419</td>\n",
              "    </tr>\n",
              "    <tr>\n",
              "      <th>loss_trades</th>\n",
              "      <td>2,857</td>\n",
              "    </tr>\n",
              "    <tr>\n",
              "      <th></th>\n",
              "      <td></td>\n",
              "    </tr>\n",
              "    <tr>\n",
              "      <th>% Win_Trades</th>\n",
              "      <td>46</td>\n",
              "    </tr>\n",
              "    <tr>\n",
              "      <th>% Loss_Trades</th>\n",
              "      <td>54</td>\n",
              "    </tr>\n",
              "  </tbody>\n",
              "</table>\n",
              "</div>\n",
              "    <div class=\"colab-df-buttons\">\n",
              "\n",
              "  <div class=\"colab-df-container\">\n",
              "    <button class=\"colab-df-convert\" onclick=\"convertToInteractive('df-6715245c-b994-4aff-9ba1-974188e40b22')\"\n",
              "            title=\"Convert this dataframe to an interactive table.\"\n",
              "            style=\"display:none;\">\n",
              "\n",
              "  <svg xmlns=\"http://www.w3.org/2000/svg\" height=\"24px\" viewBox=\"0 -960 960 960\">\n",
              "    <path d=\"M120-120v-720h720v720H120Zm60-500h600v-160H180v160Zm220 220h160v-160H400v160Zm0 220h160v-160H400v160ZM180-400h160v-160H180v160Zm440 0h160v-160H620v160ZM180-180h160v-160H180v160Zm440 0h160v-160H620v160Z\"/>\n",
              "  </svg>\n",
              "    </button>\n",
              "\n",
              "  <style>\n",
              "    .colab-df-container {\n",
              "      display:flex;\n",
              "      gap: 12px;\n",
              "    }\n",
              "\n",
              "    .colab-df-convert {\n",
              "      background-color: #E8F0FE;\n",
              "      border: none;\n",
              "      border-radius: 50%;\n",
              "      cursor: pointer;\n",
              "      display: none;\n",
              "      fill: #1967D2;\n",
              "      height: 32px;\n",
              "      padding: 0 0 0 0;\n",
              "      width: 32px;\n",
              "    }\n",
              "\n",
              "    .colab-df-convert:hover {\n",
              "      background-color: #E2EBFA;\n",
              "      box-shadow: 0px 1px 2px rgba(60, 64, 67, 0.3), 0px 1px 3px 1px rgba(60, 64, 67, 0.15);\n",
              "      fill: #174EA6;\n",
              "    }\n",
              "\n",
              "    .colab-df-buttons div {\n",
              "      margin-bottom: 4px;\n",
              "    }\n",
              "\n",
              "    [theme=dark] .colab-df-convert {\n",
              "      background-color: #3B4455;\n",
              "      fill: #D2E3FC;\n",
              "    }\n",
              "\n",
              "    [theme=dark] .colab-df-convert:hover {\n",
              "      background-color: #434B5C;\n",
              "      box-shadow: 0px 1px 3px 1px rgba(0, 0, 0, 0.15);\n",
              "      filter: drop-shadow(0px 1px 2px rgba(0, 0, 0, 0.3));\n",
              "      fill: #FFFFFF;\n",
              "    }\n",
              "  </style>\n",
              "\n",
              "    <script>\n",
              "      const buttonEl =\n",
              "        document.querySelector('#df-6715245c-b994-4aff-9ba1-974188e40b22 button.colab-df-convert');\n",
              "      buttonEl.style.display =\n",
              "        google.colab.kernel.accessAllowed ? 'block' : 'none';\n",
              "\n",
              "      async function convertToInteractive(key) {\n",
              "        const element = document.querySelector('#df-6715245c-b994-4aff-9ba1-974188e40b22');\n",
              "        const dataTable =\n",
              "          await google.colab.kernel.invokeFunction('convertToInteractive',\n",
              "                                                    [key], {});\n",
              "        if (!dataTable) return;\n",
              "\n",
              "        const docLinkHtml = 'Like what you see? Visit the ' +\n",
              "          '<a target=\"_blank\" href=https://colab.research.google.com/notebooks/data_table.ipynb>data table notebook</a>'\n",
              "          + ' to learn more about interactive tables.';\n",
              "        element.innerHTML = '';\n",
              "        dataTable['output_type'] = 'display_data';\n",
              "        await google.colab.output.renderOutput(dataTable, element);\n",
              "        const docLink = document.createElement('div');\n",
              "        docLink.innerHTML = docLinkHtml;\n",
              "        element.appendChild(docLink);\n",
              "      }\n",
              "    </script>\n",
              "  </div>\n",
              "\n",
              "\n",
              "    <div id=\"df-0f207a62-70c2-4a5e-9643-014b04045fa4\">\n",
              "      <button class=\"colab-df-quickchart\" onclick=\"quickchart('df-0f207a62-70c2-4a5e-9643-014b04045fa4')\"\n",
              "                title=\"Suggest charts\"\n",
              "                style=\"display:none;\">\n",
              "\n",
              "<svg xmlns=\"http://www.w3.org/2000/svg\" height=\"24px\"viewBox=\"0 0 24 24\"\n",
              "     width=\"24px\">\n",
              "    <g>\n",
              "        <path d=\"M19 3H5c-1.1 0-2 .9-2 2v14c0 1.1.9 2 2 2h14c1.1 0 2-.9 2-2V5c0-1.1-.9-2-2-2zM9 17H7v-7h2v7zm4 0h-2V7h2v10zm4 0h-2v-4h2v4z\"/>\n",
              "    </g>\n",
              "</svg>\n",
              "      </button>\n",
              "\n",
              "<style>\n",
              "  .colab-df-quickchart {\n",
              "      --bg-color: #E8F0FE;\n",
              "      --fill-color: #1967D2;\n",
              "      --hover-bg-color: #E2EBFA;\n",
              "      --hover-fill-color: #174EA6;\n",
              "      --disabled-fill-color: #AAA;\n",
              "      --disabled-bg-color: #DDD;\n",
              "  }\n",
              "\n",
              "  [theme=dark] .colab-df-quickchart {\n",
              "      --bg-color: #3B4455;\n",
              "      --fill-color: #D2E3FC;\n",
              "      --hover-bg-color: #434B5C;\n",
              "      --hover-fill-color: #FFFFFF;\n",
              "      --disabled-bg-color: #3B4455;\n",
              "      --disabled-fill-color: #666;\n",
              "  }\n",
              "\n",
              "  .colab-df-quickchart {\n",
              "    background-color: var(--bg-color);\n",
              "    border: none;\n",
              "    border-radius: 50%;\n",
              "    cursor: pointer;\n",
              "    display: none;\n",
              "    fill: var(--fill-color);\n",
              "    height: 32px;\n",
              "    padding: 0;\n",
              "    width: 32px;\n",
              "  }\n",
              "\n",
              "  .colab-df-quickchart:hover {\n",
              "    background-color: var(--hover-bg-color);\n",
              "    box-shadow: 0 1px 2px rgba(60, 64, 67, 0.3), 0 1px 3px 1px rgba(60, 64, 67, 0.15);\n",
              "    fill: var(--button-hover-fill-color);\n",
              "  }\n",
              "\n",
              "  .colab-df-quickchart-complete:disabled,\n",
              "  .colab-df-quickchart-complete:disabled:hover {\n",
              "    background-color: var(--disabled-bg-color);\n",
              "    fill: var(--disabled-fill-color);\n",
              "    box-shadow: none;\n",
              "  }\n",
              "\n",
              "  .colab-df-spinner {\n",
              "    border: 2px solid var(--fill-color);\n",
              "    border-color: transparent;\n",
              "    border-bottom-color: var(--fill-color);\n",
              "    animation:\n",
              "      spin 1s steps(1) infinite;\n",
              "  }\n",
              "\n",
              "  @keyframes spin {\n",
              "    0% {\n",
              "      border-color: transparent;\n",
              "      border-bottom-color: var(--fill-color);\n",
              "      border-left-color: var(--fill-color);\n",
              "    }\n",
              "    20% {\n",
              "      border-color: transparent;\n",
              "      border-left-color: var(--fill-color);\n",
              "      border-top-color: var(--fill-color);\n",
              "    }\n",
              "    30% {\n",
              "      border-color: transparent;\n",
              "      border-left-color: var(--fill-color);\n",
              "      border-top-color: var(--fill-color);\n",
              "      border-right-color: var(--fill-color);\n",
              "    }\n",
              "    40% {\n",
              "      border-color: transparent;\n",
              "      border-right-color: var(--fill-color);\n",
              "      border-top-color: var(--fill-color);\n",
              "    }\n",
              "    60% {\n",
              "      border-color: transparent;\n",
              "      border-right-color: var(--fill-color);\n",
              "    }\n",
              "    80% {\n",
              "      border-color: transparent;\n",
              "      border-right-color: var(--fill-color);\n",
              "      border-bottom-color: var(--fill-color);\n",
              "    }\n",
              "    90% {\n",
              "      border-color: transparent;\n",
              "      border-bottom-color: var(--fill-color);\n",
              "    }\n",
              "  }\n",
              "</style>\n",
              "\n",
              "      <script>\n",
              "        async function quickchart(key) {\n",
              "          const quickchartButtonEl =\n",
              "            document.querySelector('#' + key + ' button');\n",
              "          quickchartButtonEl.disabled = true;  // To prevent multiple clicks.\n",
              "          quickchartButtonEl.classList.add('colab-df-spinner');\n",
              "          try {\n",
              "            const charts = await google.colab.kernel.invokeFunction(\n",
              "                'suggestCharts', [key], {});\n",
              "          } catch (error) {\n",
              "            console.error('Error during call to suggestCharts:', error);\n",
              "          }\n",
              "          quickchartButtonEl.classList.remove('colab-df-spinner');\n",
              "          quickchartButtonEl.classList.add('colab-df-quickchart-complete');\n",
              "        }\n",
              "        (() => {\n",
              "          let quickchartButtonEl =\n",
              "            document.querySelector('#df-0f207a62-70c2-4a5e-9643-014b04045fa4 button');\n",
              "          quickchartButtonEl.style.display =\n",
              "            google.colab.kernel.accessAllowed ? 'block' : 'none';\n",
              "        })();\n",
              "      </script>\n",
              "    </div>\n",
              "\n",
              "    </div>\n",
              "  </div>\n"
            ],
            "application/vnd.google.colaboratory.intrinsic+json": {
              "type": "dataframe",
              "summary": "{\n  \"name\": \"results(test, pnl_column= 'st_PnL')\",\n  \"rows\": 12,\n  \"fields\": [\n    {\n      \"column\": \"Results\",\n      \"properties\": {\n        \"dtype\": \"string\",\n        \"num_unique_values\": 12,\n        \"samples\": [\n          \"46\",\n          \"  \",\n          \"289\"\n        ],\n        \"semantic_type\": \"\",\n        \"description\": \"\"\n      }\n    }\n  ]\n}"
            }
          },
          "metadata": {},
          "execution_count": 183
        }
      ],
      "source": [
        "results(test, pnl_column= 'st_PnL')"
      ]
    },
    {
      "cell_type": "markdown",
      "id": "85449914",
      "metadata": {
        "id": "85449914"
      },
      "source": [
        "\n",
        "# ML\n"
      ]
    },
    {
      "cell_type": "markdown",
      "id": "6x4lfhG3E2eq",
      "metadata": {
        "id": "6x4lfhG3E2eq"
      },
      "source": [
        "## Train"
      ]
    },
    {
      "cell_type": "code",
      "execution_count": 279,
      "id": "ceaa6efa",
      "metadata": {
        "id": "ceaa6efa",
        "colab": {
          "base_uri": "https://localhost:8080/"
        },
        "outputId": "c44a86e8-d328-49a1-d0ea-cbaa6dc6f3b7"
      },
      "outputs": [
        {
          "output_type": "stream",
          "name": "stdout",
          "text": [
            "Shape of X_train: (7074, 275)\n",
            "Shape of X_test: (3032, 275)\n",
            "Shape of y_train: (7074,)\n",
            "Shape of y_test: (3032,)\n"
          ]
        }
      ],
      "source": [
        "### When using train_test_split it applies the scaler to X_train only\n",
        "start_feature = train.columns.get_loc('10min_RSI_3_diff')\n",
        "train_features = [col for col in train.columns[start_feature:] if col != 'label']\n",
        "\n",
        "X = train.loc[:, train_features]\n",
        "y = train['label']\n",
        "\n",
        "X_train, X_test, y_train, y_test = train_test_split(X, y, test_size=0.3, random_state=42)\n",
        "\n",
        "print(\"Shape of X_train:\", X_train.shape)\n",
        "print(\"Shape of X_test:\",  X_test.shape)\n",
        "print(\"Shape of y_train:\", y_train.shape)\n",
        "print(\"Shape of y_test:\",  y_test.shape)"
      ]
    },
    {
      "cell_type": "code",
      "execution_count": 280,
      "id": "bQ7NohxSqFxk",
      "metadata": {
        "id": "bQ7NohxSqFxk",
        "colab": {
          "base_uri": "https://localhost:8080/"
        },
        "outputId": "eec73480-2e02-4f29-c331-f4bfa2aaca42"
      },
      "outputs": [
        {
          "output_type": "stream",
          "name": "stdout",
          "text": [
            "label\n",
            "1    3638\n",
            "0    3436\n",
            "Name: count, dtype: int64\n",
            "label\n",
            "1    1542\n",
            "0    1490\n",
            "Name: count, dtype: int64\n"
          ]
        }
      ],
      "source": [
        "print(y_train.value_counts())\n",
        "print(y_test.value_counts())"
      ]
    },
    {
      "cell_type": "code",
      "execution_count": 281,
      "id": "G_0TrSpzsRuA",
      "metadata": {
        "id": "G_0TrSpzsRuA",
        "colab": {
          "base_uri": "https://localhost:8080/"
        },
        "outputId": "4afdab32-17e7-4978-d068-bd65af762944"
      },
      "outputs": [
        {
          "output_type": "stream",
          "name": "stdout",
          "text": [
            "10min_RSI_3_diff  10min_RSI_3  10min_slope_signal_600_3  10min_slope_signal_300_3  10min_slope_div_300_3_diff  10min_slope_lin_reg_signal_900_6  RSI_7      10min_slope_signal_900_3  10min_slope_angle_900_3_diff  10min_slope_signal_900_9_diff  10min_slope_signal_600_3_diff  10min_slope_lin_reg_signal_600_3  10min_slope_div_300_6 - slope_div_600_9  10min_slope_div_300_9  10min_slope_signal_300_6 - slope_signal_600_3  10min_slope_signal_300_6  10min_slope_signal_300_6 - slope_signal_600_6  10min_slope_angle_600_3  10min_slope_angle_600_3_diff  10min_slope_lin_reg_signal_600_6  10min_slope_lin_reg_signal_300_6 - slope_lin_reg_signal_900_9  Kal_600_minus_Kal_900  10min_slope_signal_300_9 - slope_signal_900_9  10min_slope_div_300_3 - slope_div_300_6  10min_slope_lin_reg_signal_600_9  10min_slope_signal_600_6  10min_slope_signal_300_3 - slope_signal_600_3  10min_slope_signal_300_6 - slope_signal_900_6  10min_slope_lin_reg_600_3 - slope_lin_reg_900_9  10min_slope_lin_reg_signal_300_6_diff  10min_MFI_3_diff  10min_slope_signal_900_3_diff  Close_Kal_300  10min_slope_lin_reg_signal_600_9 - slope_lin_reg_signal_900_6  10min_slope_lin_reg_signal_300_6  slope_lin_reg_signal_600_6_diff  slope_div_600_3  slope_div_300_9 - slope_div_600_9  10min_slope_angle_300_6_diff  10min_slope_signal_300_6_diff  10min_slope_angle_600_3 - slope_angle_900_9  slope_angle_300_3 - slope_angle_300_9  10min_slope_lin_reg_signal_600_3 - slope_lin_reg_signal_600_9  10min_slope_lin_reg_signal_300_3 - slope_lin_reg_signal_300_9  slope_angle_600_3  10min_slope_lin_reg_signal_900_3  10min_slope_angle_600_6 - slope_angle_900_3  10min_slope_signal_900_6_diff  OBV_diff   10min_slope_angle_300_3 - slope_angle_300_6  slope_angle_300_6_diff  RSI_7 - RSI_14  10min_slope_signal_900_6 - slope_signal_900_9  10min_slope_div_600_3 - slope_div_600_6  RSI_3_diff  10min_slope_angle_600_9 - slope_angle_900_9  slope_angle_300_9 - slope_angle_900_9  10min_slope_lin_reg_signal_300_9_diff  slope_div_300_6 - slope_div_900_9  10min_slope_signal_600_9 - slope_signal_900_9  10min_slope_angle_900_6 - slope_angle_900_9  RSI_3      10min_slope_signal_300_3_diff  10min_slope_lin_reg_signal_300_9 - slope_lin_reg_signal_900_3  10min_slope_signal_300_6 - slope_signal_600_9  slope_signal_600_6 - slope_signal_600_9  slope_div_300_6 - slope_div_600_9  10min_slope_lin_reg_signal_600_6 - slope_lin_reg_signal_900_9  10min_slope_angle_300_6 - slope_angle_300_9  10min_slope_lin_reg_signal_300_6 - slope_lin_reg_signal_900_3  slope_angle_300_9_diff  10min_slope_signal_300_6 - slope_signal_900_9  slope_signal_600_9_diff  10min_slope_signal_300_9 - slope_signal_900_6  10min_slope_angle_300_9 - slope_angle_600_3  10min_slope_signal_900_6  slope_angle_900_9  10min_slope_signal_900_9  10min_slope_angle_600_6 - slope_angle_600_9  10min_slope_angle_300_9  slope_lin_reg_signal_900_6 - slope_lin_reg_signal_900_9  10min_slope_angle_600_6 - slope_angle_900_6  slope_lin_reg_signal_300_3  10min_slope_lin_reg_signal_600_6 - slope_lin_reg_signal_900_6  slope_angle_300_6 - slope_angle_900_9  slope_div_300_6_diff  slope_angle_900_9_diff  slope_signal_600_9 - slope_signal_900_6  slope_signal_600_6_diff  10min_slope_lin_reg_signal_900_3 - slope_lin_reg_signal_900_9  10min_slope_angle_300_6 - slope_angle_600_6  10min_slope_div_600_3 - slope_div_900_6  10min_slope_lin_reg_signal_300_3 - slope_lin_reg_signal_600_9  10min_slope_signal_300_6 - slope_signal_300_9  slope_signal_600_3  10min_slope_angle_300_6 - slope_angle_900_9  slope_angle_300_6 - slope_angle_600_9  slope_angle_600_3 - slope_angle_900_3  10min_slope_lin_reg_signal_600_9_diff  slope_div_300_3 - slope_div_300_6  slope_angle_300_6  slope_lin_reg_signal_300_6 - slope_lin_reg_signal_900_6  slope_angle_600_6 - slope_angle_900_6  slope_lin_reg_signal_600_6 - slope_lin_reg_signal_900_6  10min_slope_lin_reg_signal_900_3 - slope_lin_reg_signal_900_6  slope_angle_600_9 - slope_angle_900_6  10min_slope_angle_600_6_diff  10min_slope_lin_reg_signal_300_3 - slope_lin_reg_signal_900_6  10min_slope_signal_300_9 - slope_signal_600_3  10min_slope_lin_reg_signal_300_9 - slope_lin_reg_signal_600_6  slope_angle_600_3 - slope_angle_600_6  slope_angle_900_3  MFI_3 - MFI_14  10min_slope_signal_300_3 - slope_signal_900_9  10min_slope_lin_reg_signal_600_6 - slope_lin_reg_signal_600_9  slope_signal_300_3 - slope_signal_600_6  slope_angle_300_6 - slope_angle_300_9  slope_angle_300_3  10min_slope_signal_300_3 - slope_signal_600_6  slope_angle_300_9  slope_signal_600_9  slope_signal_600_6  slope_signal_300_9 - slope_signal_900_9  Kal_300    10min_slope_signal_600_3 - slope_signal_900_3  10min_Kal_300  slope_signal_300_6 - slope_signal_600_9  10min_slope_angle_300_3 - slope_angle_600_6  10min_OBV_diff  RSI_3 - RSI_7  10min_slope_lin_reg_signal_600_9 - slope_lin_reg_signal_900_3  slope_angle_600_3 - slope_angle_900_6  slope_lin_reg_signal_300_9 - slope_lin_reg_signal_900_9  10min_MFI_7 - MFI_14  10min_slope_signal_600_3 - slope_signal_600_6  slope_lin_reg_signal_600_6 - slope_lin_reg_signal_600_9  10min_slope_angle_300_9 - slope_angle_900_6  10min_slope_lin_reg_signal_300_6 - slope_lin_reg_signal_300_9  10min_slope_lin_reg_signal_600_3 - slope_lin_reg_signal_900_3  10min_slope_lin_reg_signal_300_6 - slope_lin_reg_signal_900_6  slope_lin_reg_600_6_diff  slope_angle_600_9  slope_lin_reg_signal_300_6 - slope_lin_reg_signal_600_6  MFI_7 - MFI_14  10min_OBV  10min_MFI_14_diff  slope_div_300_9_diff  10min_slope_angle_300_9 - slope_angle_600_9  10min_slope_lin_reg_signal_300_3 - slope_lin_reg_signal_600_6  slope_angle_600_3_diff  slope_angle_300_9 - slope_angle_600_6  10min_slope_lin_reg_signal_300_9 - slope_lin_reg_signal_600_9  10min_slope_signal_300_9 - slope_signal_600_9  slope_angle_600_9_diff  10min_slope_angle_300_9 - slope_angle_900_9  slope_angle_300_3_diff  slope_angle_900_6_diff  slope_angle_900_3 - slope_angle_900_6  slope_angle_300_6 - slope_angle_900_6  slope_lin_reg_signal_600_6 - slope_lin_reg_signal_900_3  MFI_3_diff  slope_signal_600_3 - slope_signal_900_9  10min_slope_angle_300_3 - slope_angle_900_3  slope_lin_reg_signal_900_3 - slope_lin_reg_signal_900_6  10min_slope_angle_600_9_diff  10min_slope_lin_reg_300_3 - slope_lin_reg_600_9  slope_signal_900_3_diff  10min_slope_div_300_3 - slope_div_900_6  10min_slope_signal_300_3 - slope_signal_900_6  slope_lin_reg_signal_600_9 - slope_lin_reg_signal_900_9  slope_angle_300_9 - slope_angle_900_6  slope_angle_300_6 - slope_angle_600_3  10min_slope_lin_reg_signal_300_3 - slope_lin_reg_signal_300_6  slope_div_300_3 - slope_div_900_6  10min_slope_signal_600_9 - slope_signal_900_6  slope_signal_300_3_diff  slope_lin_reg_signal_300_3 - slope_lin_reg_signal_900_6  slope_angle_600_6 - slope_angle_900_3  slope_signal_900_9  slope_lin_reg_signal_600_6  slope_lin_reg_signal_600_3 - slope_lin_reg_signal_600_6  10min_slope_lin_reg_signal_300_3 - slope_lin_reg_signal_900_3  slope_angle_300_3 - slope_angle_900_9  slope_lin_reg_600_3_diff  slope_signal_300_6 - slope_signal_900_9  10min_slope_lin_reg_signal_300_9  slope_lin_reg_signal_900_9_diff  slope_signal_300_9 - slope_signal_600_9  MFI_14_diff  MFI_14     10min_slope_angle_900_6_diff  slope_lin_reg_300_6_diff  slope_signal_900_6  Kal_prev2_minus_now_300  10min_slope_signal_300_9 - slope_signal_600_6  slope_lin_reg_600_9_diff  10min_slope_angle_300_3 - slope_angle_900_6  slope_signal_600_3 - slope_signal_900_3  MFI_7_diff  slope_signal_600_3 - slope_signal_900_6  slope_signal_300_6 - slope_signal_600_3  10min_slope_lin_reg_signal_900_6 - slope_lin_reg_signal_900_9  MFI_7      slope_lin_reg_signal_300_6  slope_signal_300_9_diff  10min_slope_lin_reg_signal_300_3 - slope_lin_reg_signal_600_3  slope_signal_300_3 - slope_signal_900_6  slope_signal_300_6 - slope_signal_300_9  10min_slope_lin_reg_signal_300_6 - slope_lin_reg_signal_600_3  slope_angle_900_3_diff  slope_lin_reg_signal_600_6 - slope_lin_reg_signal_900_9  slope_signal_300_3 - slope_signal_300_6  10min_MFI_7_diff  10min_slope_signal_600_9  10min_slope_angle_300_6 - slope_angle_900_6  slope_lin_reg_signal_300_3 - slope_lin_reg_signal_900_3  10min_slope_lin_reg_signal_600_3 - slope_lin_reg_signal_900_6  10min_slope_angle_300_3 - slope_angle_600_3  slope_lin_reg_signal_300_6 - slope_lin_reg_signal_900_3  Kal_prev2_minus_now_600  slope_lin_reg_signal_600_3_diff  slope_div_300_3_diff  10min_MFI_7  slope_lin_reg_signal_900_6_diff  10min_slope_lin_reg_signal_300_3 - slope_lin_reg_signal_900_9  10min_slope_angle_600_3 - slope_angle_600_9  slope_lin_reg_signal_300_3 - slope_lin_reg_signal_600_6  10min_slope_lin_reg_signal_300_9 - slope_lin_reg_signal_600_3  slope_signal_300_3 - slope_signal_600_9  slope_lin_reg_signal_300_6 - slope_lin_reg_signal_600_3  10min_slope_angle_300_3 - slope_angle_900_9  slope_angle_600_6 - slope_angle_900_9  10min_slope_lin_reg_signal_900_3_diff  MFI_3 - MFI_7  10min_slope_angle_300_6 - slope_angle_900_3  slope_angle_300_3 - slope_angle_600_3  10min_slope_lin_reg_signal_300_9 - slope_lin_reg_signal_900_6  slope_div_300_6  slope_signal_300_3 - slope_signal_600_3  slope_lin_reg_signal_600_3  slope_lin_reg_signal_300_9 - slope_lin_reg_signal_600_6  10min_slope_lin_reg_signal_600_3 - slope_lin_reg_signal_600_6  slope_signal_900_9_diff  slope_signal_600_9 - slope_signal_900_9  slope_lin_reg_signal_600_3 - slope_lin_reg_signal_900_6  10min_slope_lin_reg_signal_300_6 - slope_lin_reg_signal_600_6  slope_lin_reg_signal_300_6 - slope_lin_reg_signal_900_9  slope_angle_600_6  10min_slope_signal_600_6_diff  10min_slope_angle_300_3 - slope_angle_600_9  10min_slope_angle_600_6 - slope_angle_900_9  10min_slope_signal_300_9  10min_slope_lin_reg_signal_900_9_diff  slope_angle_300_3 - slope_angle_300_6  slope_signal_300_6_diff  10min_slope_signal_600_6 - slope_signal_600_9  slope_angle_600_6 - slope_angle_600_9  10min_slope_angle_300_6  10min_slope_angle_600_3 - slope_angle_600_6  10min_slope_angle_900_3 - slope_angle_900_6  slope_signal_300_3 - slope_signal_900_9  10min_slope_angle_600_9 - slope_angle_900_6  slope_signal_600_3 - slope_signal_600_6  slope_lin_reg_signal_600_9  slope_angle_300_3 - slope_angle_900_6  slope_angle_900_6  10min_slope_angle_300_9 - slope_angle_600_6  10min_slope_angle_300_6 - slope_angle_600_3  slope_signal_300_9  10min_slope_lin_reg_signal_300_9 - slope_lin_reg_signal_900_9  slope_angle_300_3 - slope_angle_900_3  label_ml  prob_0    prob_1    meta_results\n",
            " 2.159437          1.216087     0.958364                  0.958364                  0.529588                   -0.902270                         -0.342541   0.987571                  0.050421                      2.419285                      -0.011016                      -0.893192                          0.388179                                -0.170476               0.008749                                       0.968008                 -0.070711                                      -0.928057                 0.028013                     -0.911421                         -0.152117                                                      -0.415954              -2.406053                                       0.148858                                -0.875250                          1.017650                  0.000000                                      -0.033903                                       0.437948                                         0.015394                               1.345055         -0.010289                      -0.087687       0.036860                                                      -0.948809                         -0.014709                         0.292288        -0.613003                           0.018783                      2.766559                       0.001454                                     1.615143                              -0.027676                                                       0.077189                                                       1.005731          -0.866380                         -0.104469                                     2.230471                      -1.120788   0.015793                                     0.013696               -0.344942        0.074297                                       0.404091                                -0.112894   -0.001192                                    -0.008739                               0.017109                               0.167452                          -5.307082                                       0.010261                                    -0.444611  -0.011596                      -0.113908                                                       2.826241                                       0.043576                                 0.453259                          -0.123095                                                      -0.107040                                    -0.107928                                                       0.000806                0.068029                                       0.000000                -1.662495                                       0.035779                                     0.997497                 -0.800611           0.920648                 -0.062414                                    -0.886598                -0.042358                                                -0.095973                                    1.027884                    -0.016184                                                      -0.107582                               0.540440              0.001476               -0.058789                                 0.000000                -0.014709                                                       0.018662                                     0.504312                                -0.070711                                                       2.350218                                      -1.007522           -0.052707                                    -0.212540                               0.030011                               0.015394                               0.471617                          -0.836637           0.028807                                                 0.021439                              -0.018215                                                 0.070711                                                      -2.092381                               0.019175                     -0.024200                                                      -1.527417                                      -0.077499                                                      -0.062085                               0.996285          -0.274670        0.042572                                      -0.070711                                                      -0.035790                                -0.066902                               0.740944          -0.070711                                      -0.801334           1.007522            1.048683           -0.061508                                -0.639288  -0.063931                                      -1.012646      -0.028807                                 0.051890                                     1.087954       -0.443887      -0.012279                                                      -0.061037                              -0.014108                                                 0.297044             -0.059958                                       0.000000                                                 0.032777                                     0.037729                                                      -0.080236                                                      -0.059719                                                       0.497128                 -0.758732           0.070711                                                 0.234604       -1.598567  -0.090830           0.192495              0.070349                                    -0.017109                                                      -0.022107               -2.017117                              -0.145500                                                       0.099235                                       0.001664                0.057580                                     1.996909                0.054193               -0.065719                              -2.446874                               0.000000                                                -0.025934   -1.742287                                -0.090241                                    -0.014709                                                 0.018668                      0.277360                                         0.010515                 0.775792                                -0.048443                                      -0.089578                                                -1.820252                              -1.923314                               0.058789                                                      -0.583843                          -1.843074                                       0.000000                 0.026669                                                 0.067238                               1.038228            0.997497                   -0.019566                                                -0.080236                                                       2.265212                               0.361679                 -0.070711                                -0.968008                         -0.014108                        -0.031559                                -0.308980    -0.963013   0.016784                      0.271399                  1.069946            0.032798                -1.839690                                       0.329357                 -0.048065                                    -0.021272                                -0.330887   -2.390036                                 1.791557                                -0.073737                                                      -0.483994  1.027884                     0.000000                -0.046225                                                      -0.065630                                 0.000000                                -0.080236                                                      -0.024209               -0.070711                                                 0.030243                                 1.395181         -1.069946                 -0.044999                                     0.038032                                                 0.016184                                                      -0.032692                                     0.036860                                                -0.086388                -0.014108                         0.072432              0.038956    -0.013099                        -0.092074                                                       0.001835                                     0.058789                                                -0.089578                                                       0.009183                                 0.066648                                                -0.029210                                     3.097542                               0.013099                              -0.473642      -0.075111                                    -0.494754                              -0.070711                                                      -0.132888         3.477312                                 0.987571                    0.044165                                                 0.040757                                                       0.000000                -0.058789                                -0.031559                                                -0.070711                                                      -0.016184                                                 1.051558           2.419285                      -0.024992                                    -0.075388                                    -0.997497                  0.015394                               2.121892                               0.000000                 2.114692                                       2.413363                              -0.958112                 0.057270                                     0.054505                                    -0.019566                                -0.009809                                    -2.146526                                 0.997497                   -0.622531                               1.037917           0.093199                                    -0.032704                                     0.987571           -0.146719                                                      -0.392645                              0         0.865026  0.134974  0               1\n",
            "-3.951614         -1.949284    -1.069946                 -1.069946                 -1.979748                    0.884186                         -2.441523  -1.069946                 -2.756374                     -2.351123                      -2.092510                       0.866380                          0.523566                                -0.026219               0.000000                                      -1.069946                  0.015394                                      -1.091121                -2.869149                      0.929953                         -0.065630                                                       1.992368               0.000000                                      -0.646280                                 0.948809                         -1.080761                  0.000000                                      -0.044654                                      -0.149727                                        -0.014108                              -0.543462         -2.005274                      -5.824294       0.086269                                                       0.902270                          0.000000                        -0.860277         1.574033                          -0.027314                     -2.701519                      -1.985129                                    -2.211090                              -0.111189                                                      -0.161702                                                      -1.059236           0.857575                          2.028253                                    -2.192220                      -1.835673  -0.097160                                    -0.365326               -1.443502        0.043785                                      -0.896684                                -3.825222    0.187780                                     2.712674                              -0.018215                               1.435955                          -0.018215                                       0.066405                                    -1.815202  -2.247735                       0.135614                                                       0.022890                                      -0.019566                                 0.427086                          -0.037729                                                      -0.065426                                     0.058077                                                      -0.037011                0.010515                                       0.012669                -0.041312                                       1.693667                                    -1.027884                 -0.942335          -1.080761                  0.014616                                     0.973808                -0.012279                                                 0.094362                                    1.017650                     0.098286                                                       3.151517                              -2.570617             -3.175544                0.034749                                -2.372721                -0.118381                                                      -0.013136                                    -0.861172                                -0.123095                                                       0.012279                                      -1.017650            0.147586                                     3.242557                               0.051513                              -0.014709                              -1.035619                           0.960875           0.080236                                                 0.124578                              -0.023518                                                -0.039324                                                       0.194980                              -0.026757                     -0.024200                                                      -0.008145                                       0.068816                                                      -0.054692                              -1.087417          -0.199032        0.010077                                      -0.031559                                                      -0.010077                                -0.304122                              -0.998259           0.009511                                       1.136010          -0.987571           -1.007522           -0.080236                                -0.424696   0.000000                                       0.696086      -0.023518                                -0.121387                                    -1.871804       -0.825932       0.109490                                                       0.011378                               0.081440                                                 0.878204              0.008887                                       0.000000                                                 0.072558                                    -0.123095                                                       0.021272                                                       0.024945                                                       0.764930                 -0.866230           0.114008                                                -0.629495        1.057890  -0.546789          -3.169903              0.063086                                    -0.099235                                                      -2.637705                2.189941                               0.060261                                                       0.014709                                      -3.395965                0.156215                                    -2.920774               -2.955308               -0.014403                               2.225626                               0.026669                                                -1.704334   -0.083415                                 2.342504                                    -0.042358                                                -0.023435                     -0.464878                                        -1.956252                -0.259481                                -0.039155                                      -0.035289                                                 1.996452                               1.894553                              -0.070711                                                       0.625438                          -0.051389                                      -2.176717                 0.103575                                                 0.070819                              -0.920648            0.929953                    0.000000                                                 0.013099                                                      -0.030691                               0.976721                 -0.099633                                 0.987571                          0.000000                         0.017109                                -2.121834     0.897672  -0.028621                      0.910947                 -1.027884            1.032579                 0.000000                                       0.401282                 -0.047774                                    -0.023518                                -0.596614    0.010289                                 0.008617                                -0.095454                                                       0.053739  0.997497                     0.013575                 0.000000                                                       0.011295                                -0.030880                                 0.055416                                                      -2.656353               -0.027676                                                -0.009689                                -0.521714         -1.091702                  0.042293                                     0.140730                                                -0.033268                                                       2.855710                                     0.097266                                                 1.611167                -0.012279                        -3.424109              0.181499     0.000000                        -0.114766                                                      -1.944463                                     0.133547                                                 0.137991                                                      -0.025860                                 0.092074                                                 0.030610                                    -0.067894                              -0.011596                               0.113778       1.789667                                     0.110864                               0.109294                                                       0.131546         0.000000                                 0.929953                    0.091063                                                -0.128536                                                       0.011596                -0.150553                                -0.016184                                                -0.046225                                                       0.070711                                                -1.002527          -2.443574                      -0.084195                                     0.154223                                    -1.080761                 -0.014108                              -2.560129                              -2.443574                 0.010077                                      -0.154576                               0.934039                -2.336137                                    -2.213181                                    -0.091440                                 0.036262                                    -0.009183                                 0.929953                    0.122208                              -1.054085           0.033820                                     1.975385                                    -0.977742            0.048443                                                       0.121512                              1         0.193602  0.806398  1               1\n",
            "-3.614724         -1.527913    -1.048683                 -1.069946                 -0.912408                    0.920648                         -1.222292  -1.069946                 -0.015272                      0.000000                      -2.047499                       0.866380                          0.377733                                -0.172588               0.008749                                      -1.038228                  0.073737                                       0.922271                -0.012050                      0.902270                          0.068029                                                       0.591456              -0.072771                                       0.163126                                 0.875250                         -1.091702                 -0.037729                                       0.067065                                       0.350878                                         0.000000                              -1.821618         -2.047499                      -2.137846      -0.059719                                                       0.920648                          0.000000                         0.082513         0.207406                          -0.004266                     -2.443574                       0.051305                                     0.037962                              -0.011295                                                      -0.038032                                                       0.883585           0.893192                          0.025807                                    -2.307693                      -1.948465   0.069850                                    -0.003498               -1.734685       -2.025065                                      -0.060079                                -3.472625   -0.042696                                    -0.001093                               0.000000                               1.378727                          -0.085851                                       0.011615                                    -1.634168  -2.047499                       0.009183                                                      -2.372721                                       0.043576                                 0.561573                           0.046225                                                       0.149264                                     0.031559                                                      -0.001522               -2.630546                                       0.000000                 1.630055                                      -0.156396                                    -1.102774                  0.872029           0.997497                  0.110192                                     0.742975                 0.099235                                                 0.110812                                    0.911421                    -0.044654                                                       0.005701                              -1.300635             -0.004881               -0.057687                                 0.013099                 0.021772                                                      -0.138510                                    -0.474569                                 0.000000                                                      -2.208718                                      -1.048683           -0.054858                                    -0.025773                               4.058431                               0.000000                              -0.893128                           0.885808          -0.058077                                                 0.030354                              -0.075620                                                -0.040757                                                      -0.017948                              -0.002597                     -0.059719                                                       1.522485                                       0.000000                                                      -0.063945                              -1.040035          -1.242743       -1.938049                                       0.039324                                                       0.034808                                 0.006222                               0.935318           0.020804                                       0.871297          -1.080761           -1.038228           -0.061508                                 1.625250   0.057687                                       1.431162       0.063469                                -0.074179                                    -1.678781       -1.655441      -0.019954                                                      -0.058997                              -0.012279                                                 0.796786              0.037729                                       0.046225                                                -0.123017                                     0.028807                                                      -0.063931                                                       0.000000                                                       0.653018                  0.895313          -0.014709                                                 0.852258       -0.316589  -0.141316          -0.747592             -0.155052                                    -0.039324                                                      -0.131208               -0.050108                               0.044165                                                      -0.016184                                      -0.002820               -0.147763                                    -0.023740               -0.012973               -2.306985                              -0.040881                               0.000000                                                -3.069674    0.000000                                -0.033782                                    -0.070711                                                 0.031097                      0.811654                                         0.000000                -1.409892                                 0.033903                                       0.000000                                                -0.034447                               0.006000                              -0.081175                                                       0.186524                           1.768148                                       0.000000                -0.081440                                                 2.051923                              -1.048683            0.939339                    0.046225                                                -0.024945                                                       0.042799                               0.577582                  0.026669                                 0.902270                          0.000000                        -0.028807                                -0.078977     0.128433  -0.002853                      1.003214                 -1.017650           -0.238402                 1.804586                                       0.872602                  0.011147                                     0.000000                                -2.286699   -0.033065                                 0.017918                                 0.068029                                                       0.759084  0.929953                    -2.665923                 0.015394                                                       0.012279                                 0.075509                                 0.072771                                                      -2.926041                0.051389                                                 0.022310                                -2.235176          0.948809                 -0.049656                                    -0.035790                                                -0.095060                                                      -0.058262                                    -0.010757                                                 0.310987                 0.000000                        -1.999683              0.693251     0.000000                         0.000000                                                       0.070296                                    -0.038032                                                 0.040757                                                       0.066724                                -0.051579                                                 0.022823                                     0.072638                               0.000000                              -2.029908      -0.069827                                     0.058975                              -0.020366                                                       1.002603         0.060261                                 0.968008                   -0.044654                                                -0.060261                                                       0.000000                -0.070711                                -0.016184                                                 0.031559                                                       0.026669                                                 0.917376          -2.307693                       0.048542                                     0.092201                                     0.939339                  0.000000                               0.041905                              -2.701519                -1.996914                                       0.035623                               0.842226                -0.019571                                     0.038268                                     0.040757                                -0.031377                                    -0.010077                                 0.911421                   -0.002910                               0.902831          -0.196901                                    -0.086076                                    -1.102774            0.035790                                                       2.497950                              1         0.304090  0.695910  1               1\n",
            "-3.577231         -1.593570    -0.939339                 -0.958364                 -0.643124                    0.920648                         -0.955033  -0.920648                 -2.957785                     -2.575526                       0.011016                       0.958364                         -0.280957                                 0.454112              -0.089941                                      -1.038228                  0.000000                                       0.931892                -0.065311                      0.968008                          0.000000                                                       0.244845              -0.024945                                      -0.341837                                 0.948809                         -1.038228                 -0.033268                                       0.000000                                      -0.361730                                        -0.014108                              -1.084870          0.010289                      -0.407721       0.034808                                                       0.958364                          0.012669                        -0.113296         0.226276                          -0.022569                      0.000000                       0.030253                                    -1.355543                               0.012669                                                      -0.048602                                                      -1.140770           0.911421                          2.244386                                     0.000000                      -0.412751   0.033314                                    -0.018170               -2.249826        0.070711                                      -0.413298                                -3.207489   -0.021367                                    -0.057821                              -0.016184                               0.076443                          -0.098286                                       0.099985                                    -1.639392   0.011596                       0.037729                                                       0.162052                                       0.087532                                -0.062971                           0.016184                                                       0.022929                                     0.052646                                                      -0.003096                0.086269                                       0.011016                -0.074505                                      -0.065978                                    -1.038228                  0.943941          -1.113982                  0.079634                                     0.860145                -0.077499                                                -0.058816                                    0.857575                     0.091440                                                      -0.092998                              -0.288668             -0.012004               -0.009031                                 0.000000                -0.061508                                                      -0.101544                                    -0.376552                                -0.038032                                                       0.095060                                      -0.948809           -0.052968                                    -0.058563                              -0.004457                              -0.014108                              -0.196997                           0.896419           2.446928                                                 0.483449                               0.000000                                                -0.015394                                                       2.283866                              -0.019821                      0.000000                                                      -0.143517                                      -0.024945                                                      -0.307788                              -1.116530           0.198493        0.146896                                       0.027676                                                      -0.094678                                -0.020617                              -0.249719           0.091924                                       0.901678          -0.958364           -0.875250           -0.024945                                 0.500510  -0.044654                                       1.133134       0.087402                                -0.094986                                    -0.512916       -1.994531       0.041635                                                      -0.033528                               2.309113                                                -0.464698              0.098286                                      -0.099235                                                -0.117299                                     0.019566                                                       0.081175                                                       0.047075                                                      -0.063806                  0.925088           2.826650                                                -1.089160        1.109920  -0.164528          -0.229904             -0.053143                                    -0.073737                                                      -1.389370                1.859232                               0.000000                                                       0.044165                                      -0.007666               -0.056165                                    -2.031852               -2.928418               -0.025329                               2.467323                              -2.372721                                                -0.613871    0.009183                                 2.453946                                     2.606682                                                -0.018463                     -0.410820                                        -1.763342                -0.070105                                 0.094466                                       0.026669                                                 1.941170                               2.128828                              -0.089578                                                       0.133450                          -0.115957                                       0.000000                 2.120098                                                 0.251998                              -0.958364           -1.125328                    2.420483                                                 0.011016                                                      -2.093012                              -0.026509                  0.087402                                 0.948809                          0.014108                        -0.026669                                -1.759606     0.262048  -0.020868                     -0.015326                 -0.948809            0.073632                -0.080236                                      -0.055901                 -0.139203                                     0.123095                                -0.322326    0.000000                                 0.059545                                -0.060261                                                      -0.670802  0.848833                     0.012669                -0.055416                                                      -0.019200                                 0.102341                                 0.000000                                                      -0.155999               -0.095060                                                -0.082929                                -2.346140         -1.172198                 -0.125003                                    -0.027676                                                 0.066648                                                      -0.058111                                    -0.031559                                                 0.131655                 2.230471                        -0.253713             -0.156333     0.012279                        -0.047075                                                       0.038232                                     2.285737                                                -0.011596                                                      -0.009511                                -0.011295                                                -0.018586                                    -2.453578                              -0.012279                               0.835821       1.849078                                     1.265082                               0.030880                                                       0.021223        -0.040757                                 0.857575                    2.192220                                                -0.019566                                                       0.010757                 0.000000                                 2.582266                                                -0.014709                                                       2.387783                                                -0.865393           0.000000                      -0.003384                                     0.077333                                    -1.136819                 -0.013575                              -1.992234                               0.000000                 0.128657                                      -2.294708                               0.870679                -0.022539                                    -2.727769                                    -0.009689                                -0.097112                                    -0.069626                                -1.048683                    1.272330                              -1.084654          -0.095489                                    -0.063373                                    -0.977742           -0.011016                                                       1.044379                              1         0.201639  0.798361  1               1\n",
            "-3.465695         -1.234023    -0.948809                 -0.958364                 -1.521161                    1.007522                         -1.376817  -0.948809                 -0.035801                     -2.419285                       0.000000                       0.920648                         -0.205532                                 1.535021               0.008617                                      -0.939339                  0.057687                                       0.940639                -0.027947                      1.007522                         -0.228426                                                       0.907927              -0.048443                                      -0.519589                                 1.038228                         -0.977742                 -0.019566                                       0.045817                                      -0.514171                                         0.000000                              -1.385291         -2.126670                      -2.557718       0.035790                                                       0.875250                         -0.013575                        -0.432874         0.519504                          -0.001397                     -2.575526                      -0.040428                                    -2.028203                              -0.162052                                                      -0.030089                                                      -1.231526           0.902270                         -0.097540                                     0.000000                      -1.370283  -0.039814                                    -0.058235               -1.552656       -0.056644                                      -0.688760                                -1.264459   -0.082992                                    -0.032692                               0.000000                               0.018357                          -0.114008                                       0.046497                                    -1.542816  -2.176717                      -0.018854                                                       0.058077                                      -0.078492                                -0.152196                          -0.054717                                                       0.000599                                    -0.033903                                                      -0.011942               -0.022890                                       0.000000                 0.016401                                      -0.049662                                    -0.977742                  0.827180          -0.920648                 -0.034802                                     0.875647                -0.080236                                                -0.165163                                    0.814453                     0.000000                                                      -0.179879                              -1.108550             -0.063959                0.044476                                 0.011295                -0.158081                                                      -0.054142                                    -0.354108                                -0.223116                                                       0.022310                                      -1.048683           -0.207924                                    -0.265567                               0.091126                               0.000000                              -0.414711                           0.775136           0.053395                                                 1.822833                               0.037729                                                -0.157086                                                       2.212013                              -0.002361                     -0.176641                                                      -0.007936                                      -0.166978                                                      -1.284095                              -1.267976          -0.862015       -0.039932                                      -0.048602                                                       0.000000                                -0.089630                              -0.998733           0.020804                                       0.815297          -0.977742           -1.059255            0.070711                                 1.581837   0.000000                                       1.852613      -0.045817                                -0.115704                                    -1.553829       -1.269413       0.158081                                                      -0.079679                               0.068029                                                -0.242946              0.029643                                      -0.083286                                                -0.118634                                    -0.017109                                                       0.035289                                                      -0.166865                                                       0.214363                  0.859562           0.035289                                                -0.848122        2.752544  -1.382951          -1.095407             -0.096314                                    -0.207992                                                      -2.966378                1.112776                              -0.218322                                                       0.051389                                      -0.048877               -0.126461                                    -2.706342               -3.065342               -0.111409                               2.328366                               0.000000                                                -1.484568   -0.008749                                -0.187135                                     0.031559                                                -0.000885                     -1.215065                                         0.010077                 0.665990                                 0.021772                                       0.037729                                                 1.907117                               2.113431                              -0.026669                                                       0.067460                          -0.008749                                       0.011016                 0.075024                                                 1.156509                              -1.038228            0.780922                    0.046225                                                -0.045817                                                      -2.469994                               0.124134                  0.021772                                 0.884186                         -0.014709                         0.012669                                 0.072618     0.001215  -0.004151                      0.185777                 -1.027884            0.688758                 0.017636                                       0.126137                 -0.230253                                    -0.044654                                -1.495631   -0.022890                                 0.027559                                -0.039324                                                      -0.634825  0.797589                     0.000000                -0.090598                                                      -0.034808                                -0.055162                                -0.073737                                                      -2.748102               -0.070711                                                -0.041635                                -1.541427         -0.987571                 -0.146109                                     0.048443                                                -0.139881                                                      -0.132200                                     0.021772                                                 0.873192                 0.000000                        -1.466072              0.785573     0.000000                        -0.223116                                                      -0.001536                                     0.060261                                                -0.044654                                                      -0.074297                                -0.012669                                                -0.183081                                    -1.834890                              -0.011596                              -0.471843      -0.113149                                     0.409769                              -0.129474                                                      -0.156168        -0.017109                                 0.805995                    0.111189                                                -0.139881                                                       0.000000                 0.100252                                 0.085851                                                -0.226422                                                      -0.030089                                                -0.196422           0.000000                      -0.124024                                    -0.103280                                    -0.958364                  0.000000                              -2.494917                               0.000000                 0.009511                                      -1.503091                               0.878898                 0.030216                                    -0.007750                                    -0.018526                                -0.077611                                     0.010289                                 0.831529                    0.296396                              -1.156696          -0.038988                                    -0.059122                                    -0.968008           -0.203613                                                       0.386952                              1         0.300850  0.699150  1               1\n",
            "                                                                                                                                                                                                                                                                                                                                                                                                                                                                                                                                                                                                                                                                                                                                                                                                                                                                                                                                                                                                                                                                                                                                                                                                                                                                                                                                                                                                                                                                                                                                                                                                                                                                                                                                                                                                                                                                                                                                                                                                                                                                                                                                                                                                                                                                                                                                                                                                                                                                                                                                                                                                                                                                                                                                                                                                                                                                                                                                                                                                                                                                                                                                                                                                                                                                                                                                                                                                                                                                                                                                                                                                                                                                                                                                                                                                                                                                                                                                                                                                                                                                                                                                                                                                                                                                                                                                                                                                                                                                                                                                                                                                                                                                                                                                                                                                                                                                                                                                                                                                                                                                                                                                                                                                                                                                                                                                                                                                                                                                                                                                                                                                                                                                                                                                                                                                                                                                                                                                                                                                                                                                                                                                                                                                                                                                                                                                                                                                                                                                                                                                                                                                                                                                                                                                                                                                                                                                                                                                                                                                                                                                                                                                                                                                                                                                                                                                                                                                                                                                                                                                                                                                                                                                                                                                                                                                                                                                                                                                                                                                                                                                                                                                                                                                                                                                                                                                                                                                                                                                                                                                                                                                                                                                                                                                                                                                                                                                                                                                                                                                                                                                                                                                                                                                                                                                                                                                                                                                                                                                                                                                                                                                                                                                                                                                                                                                                                                                                                                                                                                                                                                                                                                                                                                                                                                                                                                                                                                                                                                                                                                                                                                                                                                                                                                                                                                      ..\n",
            "-3.208329         -1.298290    -1.048683                 -1.017650                 -0.892044                    0.840152                         -1.420018  -1.113982                 -0.017782                     -0.013099                      -2.288415                       0.789231                          0.339810                                -0.298729               1.781254                                       0.968008                  0.035289                                       0.795796                -0.014965                      0.797589                         -0.042358                                                       1.449301               0.000000                                       0.289750                                 0.797589                          0.948809                  0.040757                                       2.546518                                       0.537691                                         0.000000                              -0.112254         -2.176717                      -3.009491      -0.070711                                                       0.797589                          0.000000                        -0.648676         0.758538                           0.024141                      0.000000                       0.014967                                    -0.033091                              -0.014709                                                       0.030089                                                      -1.228707           0.822963                         -0.039372                                    -2.493742                      -1.632306   0.061568                                    -0.017500               -1.521092       -2.092510                                      -0.033217                                -0.660790   -0.030430                                    -0.085679                               0.000000                               0.344044                           0.123095                                       0.058904                                    -1.521345  -2.575526                      -0.051511                                                      -0.053395                                       0.010515                                -1.016736                          -0.051389                                                       3.207066                                    -0.034808                                                      -0.003977                0.030089                                       0.012669                 1.714859                                      -1.783712                                    -1.038228                  0.814111           0.948809                  0.005013                                    -1.290841                 2.723134                                                -0.120505                                    0.814453                    -0.106943                                                      -0.100321                              -2.191213             -0.013936               -0.009689                                 0.011596                 0.000000                                                      -0.069893                                    -0.602283                                 0.000000                                                       0.022890                                      -1.038228           -0.107092                                     0.001057                               0.087332                               0.000000                              -1.239548                           0.793806           0.036860                                                 4.951199                              -0.037729                                                -0.033268                                                       2.506449                               0.000523                     -0.063469                                                       1.486981                                      -0.026669                                                      -2.908326                              -1.275638          -0.947457       -2.226287                                       0.000000                                                       0.035790                                 0.041567                               0.755307          -2.582266                                       0.761181          -1.102774           -1.091702            0.025764                                 1.948761   0.151337                                       1.295073      -0.047075                                -0.009021                                    -1.475354       -1.186549      -0.034808                                                       0.055945                               2.722765                                                 0.085719             -1.994994                                       0.000000                                                -1.984360                                     0.037729                                                      -0.070711                                                      -0.063469                                                       0.070413                  0.789664           0.081175                                                -0.167626        2.091451  -0.051482          -1.650423             -3.089860                                     0.000000                                                      -3.506528               -0.009360                              -0.031559                                                      -0.090598                                      -0.008130               -2.696182                                    -0.213610               -3.601302               -0.011985                               2.671356                               2.826650                                                -1.248427    0.075620                                -0.051262                                    -3.493601                                                 0.031872                      0.958596                                         0.000000                -2.012235                                 0.028807                                       4.116418                                                 2.087653                               2.303670                               0.000000                                                       1.560589                           2.027207                                       0.000000                 0.000000                                                 2.384839                              -1.125328            0.797589                   -3.705382                                                -0.036860                                                      -0.144339                              -0.209210                 -0.024200                                 0.780922                         -2.927069                         0.000000                                -1.276206     0.185007  -0.001228                      0.490957                 -1.091702            0.658976                 0.000000                                       0.026905                 -0.121583                                    -0.044654                                 0.007130    0.055162                                -0.087152                                 0.031559                                                       0.019505  0.840152                     0.012669                 0.016184                                                       0.036860                                -0.044654                                 0.014709                                                      -3.522730                3.564179                                                 0.077016                                -1.442741          1.007522                 -0.121742                                     2.469577                                                -0.113840                                                      -0.044393                                     2.270326                                                 1.444997                -2.807521                        -3.019036             -0.128905     0.000000                        -0.039324                                                       0.025409                                     0.030089                                                -0.012669                                                       0.040757                                 2.835738                                                -0.018126                                    -0.080175                               0.000000                              -1.020700      -0.075079                                     3.366520                              -0.079311                                                       0.415186        -0.040757                                -1.196591                    0.061508                                                -0.019566                                                       0.012279                 0.057687                                -3.293570                                                 0.000000                                                       2.934509                                                 0.768047          -0.014108                      -0.001186                                    -0.014598                                     0.948809                  0.000000                              -0.083823                               0.013099                -0.068816                                      -0.019253                               0.735016                 0.032120                                    -0.033038                                     0.062520                                -0.065455                                     0.053860                                 0.797589                    3.537326                              -1.240836          -2.229138                                    -0.070975                                    -1.102774           -0.063469                                                       2.652030                              1         0.325954  0.674046  1               1\n",
            "-3.216537         -0.910065    -0.987571                 -0.987571                 -0.423110                    1.017650                         -1.092177  -0.977742                 -0.004944                     -2.351123                      -2.036132                       0.939339                          0.270311                                 0.394021              -0.088514                                      -1.091702                 -0.086712                                       0.995799                -0.002863                      0.997497                          0.083286                                                      -0.186326               0.036860                                       0.568608                                 0.968008                         -1.027884                  0.000000                                      -0.023518                                       0.598760                                         0.000000                              -1.665164         -2.005274                      -4.396629      -0.065630                                                       1.059255                          0.000000                         1.325949        -0.663748                          -0.000583                     -2.665923                       0.075246                                    -0.013208                              -0.039324                                                       0.070711                                                       1.054759           0.987571                         -0.027411                                    -2.176717                      -2.209920   0.039415                                    -0.001202               -1.031834        0.031559                                       0.489909                                -3.499584    0.026765                                    -0.095443                               0.000000                               0.679746                           0.040757                                       0.104722                                    -1.214025  -2.079925                      -0.009511                                                      -0.013099                                      -0.028544                                 0.825067                           0.000000                                                       0.085273                                     0.075509                                                      -0.000828                0.011923                                      -2.307693                 0.000000                                      -0.014667                                    -1.069946                  0.981760          -1.102774                  0.022981                                     0.961149                -0.013575                                                -0.109897                                    0.929953                    -0.040757                                                      -0.106552                              -0.975958             -0.001844                0.070711                                -2.230471                -0.011923                                                       0.114620                                     0.699646                                 0.083286                                                      -0.022310                                      -1.027884            0.169055                                    -0.135462                              -0.060284                              -0.014709                               0.191196                           0.946715          -0.063469                                                -0.099111                               0.000000                                                -0.048602                                                      -0.081706                              -0.001296                      0.012669                                                      -0.064022                                      -0.024200                                                       0.010608                               1.081948          -0.308744        0.109294                                       0.051389                                                       0.011016                                -0.000841                               0.958260           0.041635                                       0.939283          -0.948809           -0.977742           -0.079311                                 1.880438  -0.021272                                       1.204782      -0.022310                                 0.177471                                    -2.191973       -1.033022      -0.022890                                                      -0.053759                              -0.102182                                                 0.062889              0.039155                                      -0.042358                                                -0.015981                                     0.142500                                                      -0.106943                                                       0.047075                                                       2.622896                  0.989454          -0.073737                                                 0.650009        1.389106  -0.943588          -0.858023              0.057453                                     0.044165                                                      -0.006128               -0.112381                               0.014709                                                       0.014709                                      -0.001300                0.062071                                    -0.005472               -0.001926               -0.018380                              -0.170701                              -0.024945                                                -1.431442   -0.098223                                 0.093277                                     0.025764                                                -0.001101                     -0.071011                                        -2.092510                 0.678175                                 0.087402                                       0.035289                                                -0.144626                              -0.102880                              -0.058789                                                      -0.217634                          -0.009877                                      -2.247735                -0.132294                                                -0.033015                              -0.920648            1.038228                   -0.042358                                                 0.048443                                                      -0.098595                               2.878835                 -0.053860                                 0.977742                          0.000000                        -0.063214                                -1.417437     1.678735  -0.001788                      2.700541                 -1.027884           -1.171016                -0.037072                                       2.414815                  0.105284                                     0.181363                                -1.680633    0.000000                                 0.052975                                 0.028807                                                       1.605783  0.987571                    -2.606682                 0.123095                                                       0.067065                                 0.021272                                 0.142500                                                      -0.008835               -0.016184                                                 0.000000                                -1.684648         -1.080761                  0.044792                                    -0.156896                                                -0.142500                                                       0.084595                                    -0.075509                                                -0.648034                 0.000000                        -2.343180              1.198808    -0.011923                         0.039324                                                       0.056535                                    -0.145602                                                 0.041635                                                      -0.017636                                -0.024945                                                 0.197911                                     0.055170                              -0.011923                              -0.739019       0.046408                                    -0.167937                              -0.041635                                                       1.817952         0.113840                                 1.007522                   -0.089578                                                -0.100252                                                      -2.247735                -0.048602                                -0.040757                                                 0.083286                                                      -0.077499                                                 1.030225          -2.288415                       0.161009                                     0.049842                                    -1.069946                 -0.014709                              -0.015713                              -2.307693                 0.056563                                       0.033295                               1.014293                 0.055446                                    -0.019641                                    -0.049444                                -0.073799                                    -0.049444                                 1.069946                   -0.236641                               1.076372           0.026616                                     0.033345                                    -0.987571           -0.024945                                                      -0.165422                              1         0.275812  0.724188  1               1\n",
            "-3.278931         -0.863833    -0.948809                 -0.987571                 -0.828841                    1.038228                         -1.014303  -0.958364                 -0.001879                      0.000000                      -2.140625                       0.997497                          1.425783                                 1.000409               1.681896                                       0.997497                  0.015394                                       1.095714                -0.016662                      1.017650                          0.027676                                                       2.191642              -0.024945                                       1.240941                                 1.069946                          0.987571                 -0.066648                                       2.378565                                       1.055721                                        -0.016184                              -1.431211         -2.005274                      -3.937984       0.036860                                                       1.038228                         -0.012669                        -0.741466         0.380372                          -0.017358                      0.000000                      -0.062931                                    -0.160759                              -0.099235                                                      -0.134502                                                      -1.051436           0.987571                          0.117138                                    -2.247735                      -1.535702  -0.070148                                    -0.020179               -1.482878       -2.056922                                       0.683254                                -0.530287    0.060094                                     0.030729                              -0.016184                               1.284070                          -0.018215                                      -0.078905                                    -1.572925  -2.140625                       0.135614                                                      -0.094466                                       0.028544                                -0.058642                           0.000000                                                      -0.083578                                     0.056563                                                      -0.022750               -0.107928                                       0.011923                 1.686077                                       0.079951                                    -0.929953                  1.083759           1.091702                 -0.088852                                     1.190553                -2.722765                                                 0.046319                                    0.977742                    -0.033268                                                      -0.088080                              -3.414783             -0.017011               -0.026669                                 0.000000                -0.036860                                                       0.027951                                     0.445296                                -0.053395                                                      -0.077340                                      -1.038228           -0.040033                                    -0.166550                               0.042139                              -0.016184                              -3.920148                           1.034573           2.550621                                                 0.092044                               3.661166                                                -0.073737                                                       0.090239                              -0.016743                     -0.011923                                                       1.593152                                       0.132294                                                      -2.527384                              -1.065061          -2.203558       -2.170685                                      -0.091440                                                       0.021772                                -0.133029                               0.997805          -2.155463                                       1.113054          -1.059255           -1.027884           -0.089030                                 2.576147   0.023518                                      -0.607389       0.065442                                -0.061950                                    -1.243723       -1.765132       0.094466                                                      -2.780872                               0.000000                                                 1.000511             -1.900858                                      -0.053395                                                 0.089410                                    -0.166164                                                       0.019566                                                       0.000000                                                       0.337978                  1.134592          -0.051389                                                -1.310687        2.096201  -1.622276          -1.571695              0.015316                                     0.014709                                                      -2.916633                0.021984                               0.086712                                                      -0.016184                                      -0.017683                0.048431                                    -0.030105               -0.019543               -2.368327                              -0.025053                               2.419285                                                -1.336086   -0.034234                                 0.092481                                     0.014108                                                -0.017542                      0.094095                                         0.010077                -0.711003                                -0.067065                                      -0.035289                                                 0.059924                               2.064370                              -0.018215                                                      -1.724608                           1.911750                                       0.010515                 2.468133                                                 2.143071                              -0.997497            0.977742                   -3.252917                                                 0.051579                                                      -0.141315                              -0.523101                  0.000000                                 1.136819                         -0.014108                        -0.016184                                -1.445714     1.094478  -0.016399                      1.512511                 -1.027884            0.365283                 0.074297                                       1.550734                 -0.016647                                    -0.044654                                -1.449223   -0.010757                                 0.035854                                 0.026669                                                      -0.213110  0.948809                    -2.372721                 0.051389                                                       0.022310                                 0.073803                                 0.055416                                                      -2.823928               -0.086712                                                -0.010515                                -1.681096          1.080761                  0.050126                                     2.419285                                                -0.057687                                                      -0.021484                                     1.985931                                                 1.901423                -2.230471                        -4.950124              1.565908    -2.419285                         0.012279                                                      -0.083449                                     0.000000                                                 0.144701                                                       0.044476                                 2.395797                                                -0.098229                                     0.001375                               0.000000                              -1.750897       0.111470                                     3.001514                               0.089245                                                       2.482366         0.048602                                -1.027884                    0.065442                                                -0.037729                                                       0.011596                -0.123095                                 0.000000                                                 0.031559                                                      -0.123095                                                 1.093404           0.000000                      -0.118188                                    -0.063654                                     1.069946                 -0.013575                              -0.081300                               0.000000                -0.095060                                      -0.055001                               1.131588                -0.031023                                    -0.107466                                    -0.009511                                 0.097276                                    -0.010077                                 1.017650                   -0.117258                               1.044160           0.077821                                     0.041352                                    -1.069946            0.125214                                                       2.566958                              1         0.348809  0.651191  1               1\n",
            "-3.292474         -0.961250    -0.977742                 -1.027884                 -0.442919                    1.059255                         -0.292776  -0.968008                 -0.095597                     -2.192220                      -2.036132                       0.997497                         -0.423591                                 0.910884              -0.034749                                      -1.017650                  0.063931                                       1.029326                -0.053414                      1.048683                          0.025764                                                       0.112736              -0.114766                                      -0.165610                                 1.059255                         -1.048683                 -0.091440                                       0.115957                                      -0.305088                                        -0.016184                              -1.634022         -1.956252                      -0.697021       0.000000                                                       1.017650                          0.000000                         0.215522        -0.311544                          -0.029048                      0.000000                      -0.129947                                    -0.689461                              -0.090598                                                       0.081718                                                      -0.520556           1.048683                          0.115325                                     0.000000                      -0.900371  -0.096697                                    -0.024159               -1.204285       -0.109932                                      -0.183229                                -0.482568    0.047884                                    -0.035837                              -0.018215                              -0.219493                          -0.089578                                      -0.042553                                    -1.182445  -2.126670                      -0.019954                                                       0.000000                                      -0.081440                                 0.068799                           0.098286                                                      -0.104128                                    -0.032286                                                      -0.007501               -0.045817                                      -2.701519                 0.024121                                       0.146588                                    -1.102774                  1.184312          -0.977742                 -0.106729                                     1.166796                -0.028807                                                -0.030378                                    1.048683                    -0.019566                                                      -0.097439                              -0.273116             -0.007838                0.041635                                -2.372721                 0.061508                                                       0.069409                                     0.142870                                 0.017109                                                       0.047608                                      -0.875250           -0.037106                                    -0.090309                               0.795481                              -0.014709                              -0.452017                           1.146165          -0.023518                                                 0.091860                               0.000000                                                -0.017109                                                       0.115192                              -0.032468                      0.011923                                                      -0.070711                                      -0.025764                                                      -2.233089                              -0.854351          -1.193631       -0.047608                                      -0.018215                                                       0.107928                                -0.036061                               0.570283           0.020366                                       1.159560          -0.911421           -0.977742            0.000000                                -0.854711  -0.026669                                      -1.521701       0.000000                                -0.059824                                    -1.004152       -1.760747       0.011295                                                      -2.843384                              -0.051579                                                -0.529992              0.063344                                      -0.033268                                                 0.078852                                    -0.023518                                                      -0.085851                                                      -0.047075                                                       0.479918                  1.169484          -0.030089                                                 0.341487       -0.329435  -1.853632          -0.028866              0.059911                                     0.030089                                                      -2.751851                0.048236                              -0.048602                                                      -0.077189                                      -0.004864                0.073721                                    -1.076269               -0.021795               -2.567731                               0.081207                               2.616344                                                -1.065722    0.084382                                 0.102360                                    -2.952788                                                -0.026913                     -0.697257                                         0.010289                 0.922246                                 0.073803                                       0.000000                                                 0.081517                               1.809012                               0.134502                                                      -0.992208                           0.069626                                       0.011596                -0.024945                                                 2.199265                              -0.958364            1.069946                   -3.526684                                                 0.022310                                                      -0.963637                               0.223595                  0.068029                                 1.027884                          0.000000                        -0.081175                                -0.434542    -0.753105  -0.045320                      0.467746                 -0.948809           -0.116954                -0.017367                                       0.629338                 -0.075703                                     0.058789                                 0.010713    0.091924                                -0.035289                                 0.100252                                                      -0.294359  1.048683                    -3.063315                 0.103504                                                       0.075024                                 0.061508                                 0.027676                                                      -3.093884               -0.040757                                                 0.020804                                -0.732610         -1.017650                  0.025621                                     2.225038                                                -0.100252                                                       0.070995                                     2.067103                                                 0.010269                -2.701519                        -0.938639              0.561794     0.000000                         0.092074                                                      -0.136200                                    -0.030089                                                 0.036860                                                       0.021272                                 2.640206                                                -0.133582                                    -0.108629                              -0.013099                              -1.492057       0.132095                                     1.728139                              -0.032286                                                       0.437489        -0.031559                                -0.929953                   -0.024945                                                -0.085851                                                      -2.443574                 0.098286                                -3.324990                                                -0.044165                                                      -0.060261                                                 1.119146           0.000000                      -0.133989                                    -0.101251                                    -1.069946                 -0.013575                              -1.010286                              -2.701519                -0.029643                                      -0.084593                               1.108415                -0.089509                                    -0.154519                                     0.077340                                 0.057255                                     0.113908                                 1.091702                   -1.066861                               1.074826           0.118517                                     0.110711                                    -0.958364            0.034808                                                       1.785805                              1         0.305831  0.694169  1               1\n",
            "-3.321621         -1.630869    -1.069946                 -0.997497                 -0.501732                    0.866380                         -1.782265  -1.091702                 -0.013247                     -2.419285                      -2.126670                       0.884186                         -0.104432                                -0.924241               1.795195                                       0.977742                  0.077189                                       0.864391                -0.017027                      0.857575                          0.046225                                                       0.280034               2.352943                                       0.693600                                 0.848833                          0.929953                  0.103504                                       2.546803                                       0.775056                                         3.154362                              -1.582377         -2.079925                      -1.532595      -0.024945                                                       0.884186                          0.000000                        -0.327363        -0.304214                           0.027674                     -0.012669                       2.212597                                     0.052259                               0.053395                                                      -0.065630                                                      -1.099661           0.866380                         -2.268062                                    -2.372721                      -1.533995   0.282955                                    -0.003615               -1.114059       -0.097266                                       0.532529                                -0.782059    0.078938                                    -0.082739                               3.154362                               0.082658                           3.404780                                       2.463640                                    -1.771716  -2.126670                      -0.009183                                                      -0.051579                                      -0.073803                                 0.066499                           0.000000                                                       0.038828                                     0.022890                                                      -0.000738                2.559589                                      -2.807521                 1.724288                                      -1.957787                                    -1.059255                  0.888945          -0.968008                  0.059485                                    -1.266671                 0.025764                                                -3.862734                                    0.893192                    -0.017109                                                      -0.033864                              -0.876389             -0.001942                0.037072                                 0.014108                 0.011596                                                      -0.097866                                     0.429047                                -0.051579                                                       0.011596                                      -0.997497            0.014625                                     0.108278                              -0.006302                               0.000000                              -0.690825                           0.879118           0.012279                                                -0.135355                               0.018215                                                 0.000000                                                      -0.114223                               0.034599                     -0.072771                                                       1.534556                                       0.000000                                                      -2.441230                              -1.088091          -0.611984       -0.030243                                       0.017109                                                       0.051579                                 0.079566                               0.886878          -2.245410                                       0.832741          -0.987571           -1.059255            0.049937                                 0.399499   0.049937                                       1.033047      -0.089030                                 0.162505                                    -1.468566       -1.172650      -0.021272                                                      -2.630929                              -0.033065                                                 0.840520             -1.956252                                       0.048602                                                -2.079362                                     0.046225                                                       0.033268                                                       0.026669                                                       0.174629                  0.832727           0.000000                                                 0.398778        1.167005  -0.187455          -0.119914             -0.093695                                    -0.073737                                                      -2.982187               -0.047691                               0.016184                                                      -0.085851                                      -0.001323               -0.019827                                    -0.057109               -0.008074               -2.279658                              -0.067990                               2.757864                                                -1.497956    0.008492                                -2.418536                                    -2.909533                                                 0.024716                      0.707425                                         0.010757                -0.191053                                 0.080236                                       0.000000                                                -0.098003                               1.959730                              -0.142500                                                      -0.545635                           1.931734                                       0.011016                -0.048443                                                 2.096080                              -1.007522            0.939339                   -0.066648                                                -0.068816                                                      -0.022859                              -0.036738                 -0.061508                                 0.857575                          0.000000                         0.033268                                -1.656110    -0.667952  -0.004867                      0.293273                 -1.027884            0.473562                 0.037072                                       0.479553                 -2.824048                                    -0.075620                                -1.497500    0.034808                                -0.054717                                 0.014108                                                      -0.179383  0.939339                    -2.927069                -0.121187                                                       0.013099                                -0.104937                                 0.000000                                                      -3.028316                0.044165                                                 0.042572                                -1.474549          1.017650                 -2.379736                                     2.328258                                                 0.037729                                                      -2.718844                                     2.184669                                                 0.780405                 0.000000                        -1.567986             -0.341127     0.000000                        -0.065630                                                       2.048896                                    -0.068029                                                -0.033065                                                      -0.027103                                 0.049937                                                 0.266521                                    -0.023851                               0.000000                              -0.958270      -2.036063                                     2.792528                              -0.010289                                                       0.167655        -0.035289                                 0.902270                   -0.072771                                                 0.054717                                                      -2.521180                 0.037729                                -0.046225                                                 0.058789                                                       0.034808                                                 0.873341           0.000000                       0.216798                                     0.117099                                     0.968008                  0.000000                               0.002124                              -2.701519                -0.092997                                       0.061223                              -1.249731                 2.683184                                     0.058219                                    -0.009511                                -2.186582                                     0.063931                                 0.911421                   -0.078470                               0.922282          -0.101012                                    -2.182143                                    -0.968008            0.000000                                                       2.415826                              1         0.275394  0.724606  1               1\n",
            "Name: count, Length: 7276, dtype: int64 \n",
            "\n",
            "label\n",
            "1    3638\n",
            "0    3638\n",
            "Name: count, dtype: int64\n"
          ]
        }
      ],
      "source": [
        "### Rebalance Data frame due to the low number of class 1\n",
        "smote = SMOTE(random_state=42)\n",
        "X_train_resampled, y_train_resampled = smote.fit_resample(X_train, y_train)\n",
        "\n",
        "# Now train your model on the resampled data\n",
        "print(X_train_resampled.value_counts(),'\\n')\n",
        "print(y_train_resampled.value_counts())"
      ]
    },
    {
      "cell_type": "code",
      "execution_count": 282,
      "id": "JQvYaSVZam-a",
      "metadata": {
        "id": "JQvYaSVZam-a"
      },
      "outputs": [],
      "source": [
        "# --------------- Classifier 1: XGBoost ------------------------------------------\n",
        "xgb = XGBClassifier(n_estimators=15, max_depth=3,\n",
        "                    random_state=42, eval_metric='logloss')\n",
        "\n",
        "# --------------- Classifier 2: Logistic Regression Classifier------------------------------------------\n",
        "lr = LogisticRegression(random_state=42)\n",
        "\n",
        "# --------------- Classifier 3: AdaBoost Classifier ------------------------------------------\n",
        "ada = AdaBoostClassifier(n_estimators=15, random_state=42)\n",
        "\n",
        "# --------------- Classifier 4: SVM------------------------------------------\n",
        "svc = svm.SVC(kernel='rbf', probability=True, random_state=42)\n",
        "\n",
        "# Define a list to store the different models\n",
        "estimator = []\n",
        "estimator.append(('LR', lr))\n",
        "estimator.append(('XGB', xgb))\n",
        "estimator.append(('ada', ada))\n",
        "estimator.append(('SVC', svc))"
      ]
    },
    {
      "cell_type": "code",
      "execution_count": 283,
      "id": "9b68d18e",
      "metadata": {
        "id": "9b68d18e"
      },
      "outputs": [],
      "source": [
        "# --------------- Classifier 1: XGBoost ------------------------------------------\n",
        "xgb = XGBClassifier(n_estimators=15, max_depth=3,\n",
        "                    random_state=42, eval_metric='logloss')\n",
        "\n",
        "# --------------- Classifier 2: Logistic Regression Classifier------------------------------------------\n",
        "lr = LogisticRegression(random_state=42)\n",
        "\n",
        "# --------------- Classifier 3: AdaBoost Classifier ------------------------------------------\n",
        "ada = AdaBoostClassifier(n_estimators=15, random_state=42)\n",
        "\n",
        "# --------------- Classifier 4: SVM------------------------------------------\n",
        "svc = svm.SVC(kernel='rbf', probability=True, random_state=42)\n",
        "\n",
        "# Define a list to store the different models\n",
        "estimator = []\n",
        "estimator.append(('LR', lr))\n",
        "estimator.append(('XGB', xgb))\n",
        "estimator.append(('ada', ada))\n",
        "estimator.append(('SVC', svc))"
      ]
    },
    {
      "cell_type": "code",
      "execution_count": 284,
      "id": "606c84c3",
      "metadata": {
        "id": "606c84c3",
        "colab": {
          "base_uri": "https://localhost:8080/",
          "height": 136
        },
        "outputId": "6e81a80a-6675-4c33-ff25-79572f1574d6"
      },
      "outputs": [
        {
          "output_type": "execute_result",
          "data": {
            "text/plain": [
              "VotingClassifier(estimators=[('LR', LogisticRegression(random_state=42)),\n",
              "                             ('XGB',\n",
              "                              XGBClassifier(base_score=None, booster=None,\n",
              "                                            callbacks=None,\n",
              "                                            colsample_bylevel=None,\n",
              "                                            colsample_bynode=None,\n",
              "                                            colsample_bytree=None, device=None,\n",
              "                                            early_stopping_rounds=None,\n",
              "                                            enable_categorical=False,\n",
              "                                            eval_metric='logloss',\n",
              "                                            feature_types=None,\n",
              "                                            feature_weights=None, gamma=None,\n",
              "                                            grow_poli...\n",
              "                                            max_cat_threshold=None,\n",
              "                                            max_cat_to_onehot=None,\n",
              "                                            max_delta_step=None, max_depth=3,\n",
              "                                            max_leaves=None,\n",
              "                                            min_child_weight=None, missing=nan,\n",
              "                                            monotone_constraints=None,\n",
              "                                            multi_strategy=None,\n",
              "                                            n_estimators=15, n_jobs=None,\n",
              "                                            num_parallel_tree=None, ...)),\n",
              "                             ('ada',\n",
              "                              AdaBoostClassifier(n_estimators=15,\n",
              "                                                 random_state=42)),\n",
              "                             ('SVC', SVC(probability=True, random_state=42))],\n",
              "                 voting='soft')"
            ],
            "text/html": [
              "<style>#sk-container-id-3 {\n",
              "  /* Definition of color scheme common for light and dark mode */\n",
              "  --sklearn-color-text: #000;\n",
              "  --sklearn-color-text-muted: #666;\n",
              "  --sklearn-color-line: gray;\n",
              "  /* Definition of color scheme for unfitted estimators */\n",
              "  --sklearn-color-unfitted-level-0: #fff5e6;\n",
              "  --sklearn-color-unfitted-level-1: #f6e4d2;\n",
              "  --sklearn-color-unfitted-level-2: #ffe0b3;\n",
              "  --sklearn-color-unfitted-level-3: chocolate;\n",
              "  /* Definition of color scheme for fitted estimators */\n",
              "  --sklearn-color-fitted-level-0: #f0f8ff;\n",
              "  --sklearn-color-fitted-level-1: #d4ebff;\n",
              "  --sklearn-color-fitted-level-2: #b3dbfd;\n",
              "  --sklearn-color-fitted-level-3: cornflowerblue;\n",
              "\n",
              "  /* Specific color for light theme */\n",
              "  --sklearn-color-text-on-default-background: var(--sg-text-color, var(--theme-code-foreground, var(--jp-content-font-color1, black)));\n",
              "  --sklearn-color-background: var(--sg-background-color, var(--theme-background, var(--jp-layout-color0, white)));\n",
              "  --sklearn-color-border-box: var(--sg-text-color, var(--theme-code-foreground, var(--jp-content-font-color1, black)));\n",
              "  --sklearn-color-icon: #696969;\n",
              "\n",
              "  @media (prefers-color-scheme: dark) {\n",
              "    /* Redefinition of color scheme for dark theme */\n",
              "    --sklearn-color-text-on-default-background: var(--sg-text-color, var(--theme-code-foreground, var(--jp-content-font-color1, white)));\n",
              "    --sklearn-color-background: var(--sg-background-color, var(--theme-background, var(--jp-layout-color0, #111)));\n",
              "    --sklearn-color-border-box: var(--sg-text-color, var(--theme-code-foreground, var(--jp-content-font-color1, white)));\n",
              "    --sklearn-color-icon: #878787;\n",
              "  }\n",
              "}\n",
              "\n",
              "#sk-container-id-3 {\n",
              "  color: var(--sklearn-color-text);\n",
              "}\n",
              "\n",
              "#sk-container-id-3 pre {\n",
              "  padding: 0;\n",
              "}\n",
              "\n",
              "#sk-container-id-3 input.sk-hidden--visually {\n",
              "  border: 0;\n",
              "  clip: rect(1px 1px 1px 1px);\n",
              "  clip: rect(1px, 1px, 1px, 1px);\n",
              "  height: 1px;\n",
              "  margin: -1px;\n",
              "  overflow: hidden;\n",
              "  padding: 0;\n",
              "  position: absolute;\n",
              "  width: 1px;\n",
              "}\n",
              "\n",
              "#sk-container-id-3 div.sk-dashed-wrapped {\n",
              "  border: 1px dashed var(--sklearn-color-line);\n",
              "  margin: 0 0.4em 0.5em 0.4em;\n",
              "  box-sizing: border-box;\n",
              "  padding-bottom: 0.4em;\n",
              "  background-color: var(--sklearn-color-background);\n",
              "}\n",
              "\n",
              "#sk-container-id-3 div.sk-container {\n",
              "  /* jupyter's `normalize.less` sets `[hidden] { display: none; }`\n",
              "     but bootstrap.min.css set `[hidden] { display: none !important; }`\n",
              "     so we also need the `!important` here to be able to override the\n",
              "     default hidden behavior on the sphinx rendered scikit-learn.org.\n",
              "     See: https://github.com/scikit-learn/scikit-learn/issues/21755 */\n",
              "  display: inline-block !important;\n",
              "  position: relative;\n",
              "}\n",
              "\n",
              "#sk-container-id-3 div.sk-text-repr-fallback {\n",
              "  display: none;\n",
              "}\n",
              "\n",
              "div.sk-parallel-item,\n",
              "div.sk-serial,\n",
              "div.sk-item {\n",
              "  /* draw centered vertical line to link estimators */\n",
              "  background-image: linear-gradient(var(--sklearn-color-text-on-default-background), var(--sklearn-color-text-on-default-background));\n",
              "  background-size: 2px 100%;\n",
              "  background-repeat: no-repeat;\n",
              "  background-position: center center;\n",
              "}\n",
              "\n",
              "/* Parallel-specific style estimator block */\n",
              "\n",
              "#sk-container-id-3 div.sk-parallel-item::after {\n",
              "  content: \"\";\n",
              "  width: 100%;\n",
              "  border-bottom: 2px solid var(--sklearn-color-text-on-default-background);\n",
              "  flex-grow: 1;\n",
              "}\n",
              "\n",
              "#sk-container-id-3 div.sk-parallel {\n",
              "  display: flex;\n",
              "  align-items: stretch;\n",
              "  justify-content: center;\n",
              "  background-color: var(--sklearn-color-background);\n",
              "  position: relative;\n",
              "}\n",
              "\n",
              "#sk-container-id-3 div.sk-parallel-item {\n",
              "  display: flex;\n",
              "  flex-direction: column;\n",
              "}\n",
              "\n",
              "#sk-container-id-3 div.sk-parallel-item:first-child::after {\n",
              "  align-self: flex-end;\n",
              "  width: 50%;\n",
              "}\n",
              "\n",
              "#sk-container-id-3 div.sk-parallel-item:last-child::after {\n",
              "  align-self: flex-start;\n",
              "  width: 50%;\n",
              "}\n",
              "\n",
              "#sk-container-id-3 div.sk-parallel-item:only-child::after {\n",
              "  width: 0;\n",
              "}\n",
              "\n",
              "/* Serial-specific style estimator block */\n",
              "\n",
              "#sk-container-id-3 div.sk-serial {\n",
              "  display: flex;\n",
              "  flex-direction: column;\n",
              "  align-items: center;\n",
              "  background-color: var(--sklearn-color-background);\n",
              "  padding-right: 1em;\n",
              "  padding-left: 1em;\n",
              "}\n",
              "\n",
              "\n",
              "/* Toggleable style: style used for estimator/Pipeline/ColumnTransformer box that is\n",
              "clickable and can be expanded/collapsed.\n",
              "- Pipeline and ColumnTransformer use this feature and define the default style\n",
              "- Estimators will overwrite some part of the style using the `sk-estimator` class\n",
              "*/\n",
              "\n",
              "/* Pipeline and ColumnTransformer style (default) */\n",
              "\n",
              "#sk-container-id-3 div.sk-toggleable {\n",
              "  /* Default theme specific background. It is overwritten whether we have a\n",
              "  specific estimator or a Pipeline/ColumnTransformer */\n",
              "  background-color: var(--sklearn-color-background);\n",
              "}\n",
              "\n",
              "/* Toggleable label */\n",
              "#sk-container-id-3 label.sk-toggleable__label {\n",
              "  cursor: pointer;\n",
              "  display: flex;\n",
              "  width: 100%;\n",
              "  margin-bottom: 0;\n",
              "  padding: 0.5em;\n",
              "  box-sizing: border-box;\n",
              "  text-align: center;\n",
              "  align-items: start;\n",
              "  justify-content: space-between;\n",
              "  gap: 0.5em;\n",
              "}\n",
              "\n",
              "#sk-container-id-3 label.sk-toggleable__label .caption {\n",
              "  font-size: 0.6rem;\n",
              "  font-weight: lighter;\n",
              "  color: var(--sklearn-color-text-muted);\n",
              "}\n",
              "\n",
              "#sk-container-id-3 label.sk-toggleable__label-arrow:before {\n",
              "  /* Arrow on the left of the label */\n",
              "  content: \"▸\";\n",
              "  float: left;\n",
              "  margin-right: 0.25em;\n",
              "  color: var(--sklearn-color-icon);\n",
              "}\n",
              "\n",
              "#sk-container-id-3 label.sk-toggleable__label-arrow:hover:before {\n",
              "  color: var(--sklearn-color-text);\n",
              "}\n",
              "\n",
              "/* Toggleable content - dropdown */\n",
              "\n",
              "#sk-container-id-3 div.sk-toggleable__content {\n",
              "  max-height: 0;\n",
              "  max-width: 0;\n",
              "  overflow: hidden;\n",
              "  text-align: left;\n",
              "  /* unfitted */\n",
              "  background-color: var(--sklearn-color-unfitted-level-0);\n",
              "}\n",
              "\n",
              "#sk-container-id-3 div.sk-toggleable__content.fitted {\n",
              "  /* fitted */\n",
              "  background-color: var(--sklearn-color-fitted-level-0);\n",
              "}\n",
              "\n",
              "#sk-container-id-3 div.sk-toggleable__content pre {\n",
              "  margin: 0.2em;\n",
              "  border-radius: 0.25em;\n",
              "  color: var(--sklearn-color-text);\n",
              "  /* unfitted */\n",
              "  background-color: var(--sklearn-color-unfitted-level-0);\n",
              "}\n",
              "\n",
              "#sk-container-id-3 div.sk-toggleable__content.fitted pre {\n",
              "  /* unfitted */\n",
              "  background-color: var(--sklearn-color-fitted-level-0);\n",
              "}\n",
              "\n",
              "#sk-container-id-3 input.sk-toggleable__control:checked~div.sk-toggleable__content {\n",
              "  /* Expand drop-down */\n",
              "  max-height: 200px;\n",
              "  max-width: 100%;\n",
              "  overflow: auto;\n",
              "}\n",
              "\n",
              "#sk-container-id-3 input.sk-toggleable__control:checked~label.sk-toggleable__label-arrow:before {\n",
              "  content: \"▾\";\n",
              "}\n",
              "\n",
              "/* Pipeline/ColumnTransformer-specific style */\n",
              "\n",
              "#sk-container-id-3 div.sk-label input.sk-toggleable__control:checked~label.sk-toggleable__label {\n",
              "  color: var(--sklearn-color-text);\n",
              "  background-color: var(--sklearn-color-unfitted-level-2);\n",
              "}\n",
              "\n",
              "#sk-container-id-3 div.sk-label.fitted input.sk-toggleable__control:checked~label.sk-toggleable__label {\n",
              "  background-color: var(--sklearn-color-fitted-level-2);\n",
              "}\n",
              "\n",
              "/* Estimator-specific style */\n",
              "\n",
              "/* Colorize estimator box */\n",
              "#sk-container-id-3 div.sk-estimator input.sk-toggleable__control:checked~label.sk-toggleable__label {\n",
              "  /* unfitted */\n",
              "  background-color: var(--sklearn-color-unfitted-level-2);\n",
              "}\n",
              "\n",
              "#sk-container-id-3 div.sk-estimator.fitted input.sk-toggleable__control:checked~label.sk-toggleable__label {\n",
              "  /* fitted */\n",
              "  background-color: var(--sklearn-color-fitted-level-2);\n",
              "}\n",
              "\n",
              "#sk-container-id-3 div.sk-label label.sk-toggleable__label,\n",
              "#sk-container-id-3 div.sk-label label {\n",
              "  /* The background is the default theme color */\n",
              "  color: var(--sklearn-color-text-on-default-background);\n",
              "}\n",
              "\n",
              "/* On hover, darken the color of the background */\n",
              "#sk-container-id-3 div.sk-label:hover label.sk-toggleable__label {\n",
              "  color: var(--sklearn-color-text);\n",
              "  background-color: var(--sklearn-color-unfitted-level-2);\n",
              "}\n",
              "\n",
              "/* Label box, darken color on hover, fitted */\n",
              "#sk-container-id-3 div.sk-label.fitted:hover label.sk-toggleable__label.fitted {\n",
              "  color: var(--sklearn-color-text);\n",
              "  background-color: var(--sklearn-color-fitted-level-2);\n",
              "}\n",
              "\n",
              "/* Estimator label */\n",
              "\n",
              "#sk-container-id-3 div.sk-label label {\n",
              "  font-family: monospace;\n",
              "  font-weight: bold;\n",
              "  display: inline-block;\n",
              "  line-height: 1.2em;\n",
              "}\n",
              "\n",
              "#sk-container-id-3 div.sk-label-container {\n",
              "  text-align: center;\n",
              "}\n",
              "\n",
              "/* Estimator-specific */\n",
              "#sk-container-id-3 div.sk-estimator {\n",
              "  font-family: monospace;\n",
              "  border: 1px dotted var(--sklearn-color-border-box);\n",
              "  border-radius: 0.25em;\n",
              "  box-sizing: border-box;\n",
              "  margin-bottom: 0.5em;\n",
              "  /* unfitted */\n",
              "  background-color: var(--sklearn-color-unfitted-level-0);\n",
              "}\n",
              "\n",
              "#sk-container-id-3 div.sk-estimator.fitted {\n",
              "  /* fitted */\n",
              "  background-color: var(--sklearn-color-fitted-level-0);\n",
              "}\n",
              "\n",
              "/* on hover */\n",
              "#sk-container-id-3 div.sk-estimator:hover {\n",
              "  /* unfitted */\n",
              "  background-color: var(--sklearn-color-unfitted-level-2);\n",
              "}\n",
              "\n",
              "#sk-container-id-3 div.sk-estimator.fitted:hover {\n",
              "  /* fitted */\n",
              "  background-color: var(--sklearn-color-fitted-level-2);\n",
              "}\n",
              "\n",
              "/* Specification for estimator info (e.g. \"i\" and \"?\") */\n",
              "\n",
              "/* Common style for \"i\" and \"?\" */\n",
              "\n",
              ".sk-estimator-doc-link,\n",
              "a:link.sk-estimator-doc-link,\n",
              "a:visited.sk-estimator-doc-link {\n",
              "  float: right;\n",
              "  font-size: smaller;\n",
              "  line-height: 1em;\n",
              "  font-family: monospace;\n",
              "  background-color: var(--sklearn-color-background);\n",
              "  border-radius: 1em;\n",
              "  height: 1em;\n",
              "  width: 1em;\n",
              "  text-decoration: none !important;\n",
              "  margin-left: 0.5em;\n",
              "  text-align: center;\n",
              "  /* unfitted */\n",
              "  border: var(--sklearn-color-unfitted-level-1) 1pt solid;\n",
              "  color: var(--sklearn-color-unfitted-level-1);\n",
              "}\n",
              "\n",
              ".sk-estimator-doc-link.fitted,\n",
              "a:link.sk-estimator-doc-link.fitted,\n",
              "a:visited.sk-estimator-doc-link.fitted {\n",
              "  /* fitted */\n",
              "  border: var(--sklearn-color-fitted-level-1) 1pt solid;\n",
              "  color: var(--sklearn-color-fitted-level-1);\n",
              "}\n",
              "\n",
              "/* On hover */\n",
              "div.sk-estimator:hover .sk-estimator-doc-link:hover,\n",
              ".sk-estimator-doc-link:hover,\n",
              "div.sk-label-container:hover .sk-estimator-doc-link:hover,\n",
              ".sk-estimator-doc-link:hover {\n",
              "  /* unfitted */\n",
              "  background-color: var(--sklearn-color-unfitted-level-3);\n",
              "  color: var(--sklearn-color-background);\n",
              "  text-decoration: none;\n",
              "}\n",
              "\n",
              "div.sk-estimator.fitted:hover .sk-estimator-doc-link.fitted:hover,\n",
              ".sk-estimator-doc-link.fitted:hover,\n",
              "div.sk-label-container:hover .sk-estimator-doc-link.fitted:hover,\n",
              ".sk-estimator-doc-link.fitted:hover {\n",
              "  /* fitted */\n",
              "  background-color: var(--sklearn-color-fitted-level-3);\n",
              "  color: var(--sklearn-color-background);\n",
              "  text-decoration: none;\n",
              "}\n",
              "\n",
              "/* Span, style for the box shown on hovering the info icon */\n",
              ".sk-estimator-doc-link span {\n",
              "  display: none;\n",
              "  z-index: 9999;\n",
              "  position: relative;\n",
              "  font-weight: normal;\n",
              "  right: .2ex;\n",
              "  padding: .5ex;\n",
              "  margin: .5ex;\n",
              "  width: min-content;\n",
              "  min-width: 20ex;\n",
              "  max-width: 50ex;\n",
              "  color: var(--sklearn-color-text);\n",
              "  box-shadow: 2pt 2pt 4pt #999;\n",
              "  /* unfitted */\n",
              "  background: var(--sklearn-color-unfitted-level-0);\n",
              "  border: .5pt solid var(--sklearn-color-unfitted-level-3);\n",
              "}\n",
              "\n",
              ".sk-estimator-doc-link.fitted span {\n",
              "  /* fitted */\n",
              "  background: var(--sklearn-color-fitted-level-0);\n",
              "  border: var(--sklearn-color-fitted-level-3);\n",
              "}\n",
              "\n",
              ".sk-estimator-doc-link:hover span {\n",
              "  display: block;\n",
              "}\n",
              "\n",
              "/* \"?\"-specific style due to the `<a>` HTML tag */\n",
              "\n",
              "#sk-container-id-3 a.estimator_doc_link {\n",
              "  float: right;\n",
              "  font-size: 1rem;\n",
              "  line-height: 1em;\n",
              "  font-family: monospace;\n",
              "  background-color: var(--sklearn-color-background);\n",
              "  border-radius: 1rem;\n",
              "  height: 1rem;\n",
              "  width: 1rem;\n",
              "  text-decoration: none;\n",
              "  /* unfitted */\n",
              "  color: var(--sklearn-color-unfitted-level-1);\n",
              "  border: var(--sklearn-color-unfitted-level-1) 1pt solid;\n",
              "}\n",
              "\n",
              "#sk-container-id-3 a.estimator_doc_link.fitted {\n",
              "  /* fitted */\n",
              "  border: var(--sklearn-color-fitted-level-1) 1pt solid;\n",
              "  color: var(--sklearn-color-fitted-level-1);\n",
              "}\n",
              "\n",
              "/* On hover */\n",
              "#sk-container-id-3 a.estimator_doc_link:hover {\n",
              "  /* unfitted */\n",
              "  background-color: var(--sklearn-color-unfitted-level-3);\n",
              "  color: var(--sklearn-color-background);\n",
              "  text-decoration: none;\n",
              "}\n",
              "\n",
              "#sk-container-id-3 a.estimator_doc_link.fitted:hover {\n",
              "  /* fitted */\n",
              "  background-color: var(--sklearn-color-fitted-level-3);\n",
              "}\n",
              "</style><div id=\"sk-container-id-3\" class=\"sk-top-container\"><div class=\"sk-text-repr-fallback\"><pre>VotingClassifier(estimators=[(&#x27;LR&#x27;, LogisticRegression(random_state=42)),\n",
              "                             (&#x27;XGB&#x27;,\n",
              "                              XGBClassifier(base_score=None, booster=None,\n",
              "                                            callbacks=None,\n",
              "                                            colsample_bylevel=None,\n",
              "                                            colsample_bynode=None,\n",
              "                                            colsample_bytree=None, device=None,\n",
              "                                            early_stopping_rounds=None,\n",
              "                                            enable_categorical=False,\n",
              "                                            eval_metric=&#x27;logloss&#x27;,\n",
              "                                            feature_types=None,\n",
              "                                            feature_weights=None, gamma=None,\n",
              "                                            grow_poli...\n",
              "                                            max_cat_threshold=None,\n",
              "                                            max_cat_to_onehot=None,\n",
              "                                            max_delta_step=None, max_depth=3,\n",
              "                                            max_leaves=None,\n",
              "                                            min_child_weight=None, missing=nan,\n",
              "                                            monotone_constraints=None,\n",
              "                                            multi_strategy=None,\n",
              "                                            n_estimators=15, n_jobs=None,\n",
              "                                            num_parallel_tree=None, ...)),\n",
              "                             (&#x27;ada&#x27;,\n",
              "                              AdaBoostClassifier(n_estimators=15,\n",
              "                                                 random_state=42)),\n",
              "                             (&#x27;SVC&#x27;, SVC(probability=True, random_state=42))],\n",
              "                 voting=&#x27;soft&#x27;)</pre><b>In a Jupyter environment, please rerun this cell to show the HTML representation or trust the notebook. <br />On GitHub, the HTML representation is unable to render, please try loading this page with nbviewer.org.</b></div><div class=\"sk-container\" hidden><div class=\"sk-item sk-dashed-wrapped\"><div class=\"sk-label-container\"><div class=\"sk-label fitted sk-toggleable\"><input class=\"sk-toggleable__control sk-hidden--visually\" id=\"sk-estimator-id-11\" type=\"checkbox\" ><label for=\"sk-estimator-id-11\" class=\"sk-toggleable__label fitted sk-toggleable__label-arrow\"><div><div>VotingClassifier</div></div><div><a class=\"sk-estimator-doc-link fitted\" rel=\"noreferrer\" target=\"_blank\" href=\"https://scikit-learn.org/1.6/modules/generated/sklearn.ensemble.VotingClassifier.html\">?<span>Documentation for VotingClassifier</span></a><span class=\"sk-estimator-doc-link fitted\">i<span>Fitted</span></span></div></label><div class=\"sk-toggleable__content fitted\"><pre>VotingClassifier(estimators=[(&#x27;LR&#x27;, LogisticRegression(random_state=42)),\n",
              "                             (&#x27;XGB&#x27;,\n",
              "                              XGBClassifier(base_score=None, booster=None,\n",
              "                                            callbacks=None,\n",
              "                                            colsample_bylevel=None,\n",
              "                                            colsample_bynode=None,\n",
              "                                            colsample_bytree=None, device=None,\n",
              "                                            early_stopping_rounds=None,\n",
              "                                            enable_categorical=False,\n",
              "                                            eval_metric=&#x27;logloss&#x27;,\n",
              "                                            feature_types=None,\n",
              "                                            feature_weights=None, gamma=None,\n",
              "                                            grow_poli...\n",
              "                                            max_cat_threshold=None,\n",
              "                                            max_cat_to_onehot=None,\n",
              "                                            max_delta_step=None, max_depth=3,\n",
              "                                            max_leaves=None,\n",
              "                                            min_child_weight=None, missing=nan,\n",
              "                                            monotone_constraints=None,\n",
              "                                            multi_strategy=None,\n",
              "                                            n_estimators=15, n_jobs=None,\n",
              "                                            num_parallel_tree=None, ...)),\n",
              "                             (&#x27;ada&#x27;,\n",
              "                              AdaBoostClassifier(n_estimators=15,\n",
              "                                                 random_state=42)),\n",
              "                             (&#x27;SVC&#x27;, SVC(probability=True, random_state=42))],\n",
              "                 voting=&#x27;soft&#x27;)</pre></div> </div></div><div class=\"sk-parallel\"><div class=\"sk-parallel-item\"><div class=\"sk-item\"><div class=\"sk-label-container\"><div class=\"sk-label fitted sk-toggleable\"><label>LR</label></div></div><div class=\"sk-serial\"><div class=\"sk-item\"><div class=\"sk-estimator fitted sk-toggleable\"><input class=\"sk-toggleable__control sk-hidden--visually\" id=\"sk-estimator-id-12\" type=\"checkbox\" ><label for=\"sk-estimator-id-12\" class=\"sk-toggleable__label fitted sk-toggleable__label-arrow\"><div><div>LogisticRegression</div></div><div><a class=\"sk-estimator-doc-link fitted\" rel=\"noreferrer\" target=\"_blank\" href=\"https://scikit-learn.org/1.6/modules/generated/sklearn.linear_model.LogisticRegression.html\">?<span>Documentation for LogisticRegression</span></a></div></label><div class=\"sk-toggleable__content fitted\"><pre>LogisticRegression(random_state=42)</pre></div> </div></div></div></div></div><div class=\"sk-parallel-item\"><div class=\"sk-item\"><div class=\"sk-label-container\"><div class=\"sk-label fitted sk-toggleable\"><label>XGB</label></div></div><div class=\"sk-serial\"><div class=\"sk-item\"><div class=\"sk-estimator fitted sk-toggleable\"><input class=\"sk-toggleable__control sk-hidden--visually\" id=\"sk-estimator-id-13\" type=\"checkbox\" ><label for=\"sk-estimator-id-13\" class=\"sk-toggleable__label fitted sk-toggleable__label-arrow\"><div><div>XGBClassifier</div></div><div><a class=\"sk-estimator-doc-link fitted\" rel=\"noreferrer\" target=\"_blank\" href=\"https://xgboost.readthedocs.io/en/release_3.0.0/python/python_api.html#xgboost.XGBClassifier\">?<span>Documentation for XGBClassifier</span></a></div></label><div class=\"sk-toggleable__content fitted\"><pre>XGBClassifier(base_score=None, booster=None, callbacks=None,\n",
              "              colsample_bylevel=None, colsample_bynode=None,\n",
              "              colsample_bytree=None, device=None, early_stopping_rounds=None,\n",
              "              enable_categorical=False, eval_metric=&#x27;logloss&#x27;,\n",
              "              feature_types=None, feature_weights=None, gamma=None,\n",
              "              grow_policy=None, importance_type=None,\n",
              "              interaction_constraints=None, learning_rate=None, max_bin=None,\n",
              "              max_cat_threshold=None, max_cat_to_onehot=None,\n",
              "              max_delta_step=None, max_depth=3, max_leaves=None,\n",
              "              min_child_weight=None, missing=nan, monotone_constraints=None,\n",
              "              multi_strategy=None, n_estimators=15, n_jobs=None,\n",
              "              num_parallel_tree=None, ...)</pre></div> </div></div></div></div></div><div class=\"sk-parallel-item\"><div class=\"sk-item\"><div class=\"sk-label-container\"><div class=\"sk-label fitted sk-toggleable\"><label>ada</label></div></div><div class=\"sk-serial\"><div class=\"sk-item\"><div class=\"sk-estimator fitted sk-toggleable\"><input class=\"sk-toggleable__control sk-hidden--visually\" id=\"sk-estimator-id-14\" type=\"checkbox\" ><label for=\"sk-estimator-id-14\" class=\"sk-toggleable__label fitted sk-toggleable__label-arrow\"><div><div>AdaBoostClassifier</div></div><div><a class=\"sk-estimator-doc-link fitted\" rel=\"noreferrer\" target=\"_blank\" href=\"https://scikit-learn.org/1.6/modules/generated/sklearn.ensemble.AdaBoostClassifier.html\">?<span>Documentation for AdaBoostClassifier</span></a></div></label><div class=\"sk-toggleable__content fitted\"><pre>AdaBoostClassifier(n_estimators=15, random_state=42)</pre></div> </div></div></div></div></div><div class=\"sk-parallel-item\"><div class=\"sk-item\"><div class=\"sk-label-container\"><div class=\"sk-label fitted sk-toggleable\"><label>SVC</label></div></div><div class=\"sk-serial\"><div class=\"sk-item\"><div class=\"sk-estimator fitted sk-toggleable\"><input class=\"sk-toggleable__control sk-hidden--visually\" id=\"sk-estimator-id-15\" type=\"checkbox\" ><label for=\"sk-estimator-id-15\" class=\"sk-toggleable__label fitted sk-toggleable__label-arrow\"><div><div>SVC</div></div><div><a class=\"sk-estimator-doc-link fitted\" rel=\"noreferrer\" target=\"_blank\" href=\"https://scikit-learn.org/1.6/modules/generated/sklearn.svm.SVC.html\">?<span>Documentation for SVC</span></a></div></label><div class=\"sk-toggleable__content fitted\"><pre>SVC(probability=True, random_state=42)</pre></div> </div></div></div></div></div></div></div></div></div>"
            ]
          },
          "metadata": {},
          "execution_count": 284
        }
      ],
      "source": [
        "### Implement voting classifier with hard voting\n",
        "\n",
        "ml_model = VotingClassifier(estimators=estimator, voting='soft')\n",
        "ml_model.fit(X_train_resampled, y_train_resampled)\n",
        "#ml_model.fit(X_train, y_train)"
      ]
    },
    {
      "cell_type": "code",
      "execution_count": 285,
      "id": "0d37141d",
      "metadata": {
        "id": "0d37141d",
        "colab": {
          "base_uri": "https://localhost:8080/"
        },
        "outputId": "895b7ede-738d-4368-a841-fa0f6ce737c4"
      },
      "outputs": [
        {
          "output_type": "stream",
          "name": "stdout",
          "text": [
            "Confusion Matrix:\n",
            "[[870 620]\n",
            " [608 934]]\n",
            "\n",
            "Classification Report:\n",
            "              precision    recall  f1-score   support\n",
            "\n",
            "           0       0.59      0.58      0.59      1490\n",
            "           1       0.60      0.61      0.60      1542\n",
            "\n",
            "    accuracy                           0.59      3032\n",
            "   macro avg       0.59      0.59      0.59      3032\n",
            "weighted avg       0.59      0.59      0.59      3032\n",
            "\n"
          ]
        }
      ],
      "source": [
        "y_true = y_test\n",
        "y_pred = ml_model.predict(X_test)\n",
        "\n",
        "conf_matrix = confusion_matrix(y_true, y_pred)\n",
        "print(\"Confusion Matrix:\")\n",
        "print(conf_matrix)\n",
        "\n",
        "class_report = classification_report(y_true, y_pred)\n",
        "print(\"\\nClassification Report:\")\n",
        "print(class_report)"
      ]
    },
    {
      "cell_type": "code",
      "execution_count": 286,
      "id": "dCEg0X2E04iQ",
      "metadata": {
        "id": "dCEg0X2E04iQ",
        "colab": {
          "base_uri": "https://localhost:8080/"
        },
        "outputId": "b56e357d-f001-4b3b-d5a8-5de770edbbda"
      },
      "outputs": [
        {
          "output_type": "stream",
          "name": "stdout",
          "text": [
            "Model saved successfully at: /content/drive/MyDrive/Course Folder/Forex/XAUUSD/Models/BTCUSD_Short_ml_model.joblib\n"
          ]
        }
      ],
      "source": [
        "### Save ML Model\n",
        "model_path = root_data + 'Models/'+symbol+'_'+direction+'_ml_model.joblib'\n",
        "joblib.dump(ml_model, model_path)\n",
        "print(f\"Model saved successfully at: {model_path}\")"
      ]
    },
    {
      "cell_type": "markdown",
      "id": "rhCVvXKxM2Uk",
      "metadata": {
        "id": "rhCVvXKxM2Uk"
      },
      "source": [
        "## Meta"
      ]
    },
    {
      "cell_type": "code",
      "execution_count": 274,
      "id": "PhMU7vwLPag_",
      "metadata": {
        "id": "PhMU7vwLPag_",
        "colab": {
          "base_uri": "https://localhost:8080/"
        },
        "outputId": "7a1bf24c-c0d9-4e90-b1bf-e96e535e3b38"
      },
      "outputs": [
        {
          "output_type": "stream",
          "name": "stdout",
          "text": [
            "Model loaded successfully from: /content/drive/MyDrive/Course Folder/Forex/XAUUSD/Models/BTCUSD_Short_ml_model.joblib\n"
          ]
        }
      ],
      "source": [
        "### Import ML Model\n",
        "model_path = root_data+'Models/'+symbol+'_'+direction+'_ml_model.joblib'\n",
        "ml_model = joblib.load(model_path)\n",
        "print(f\"Model loaded successfully from: {model_path}\")"
      ]
    },
    {
      "cell_type": "code",
      "execution_count": 272,
      "id": "qszEBUJ-4GCn",
      "metadata": {
        "id": "qszEBUJ-4GCn"
      },
      "outputs": [],
      "source": [
        "#train.head(5)"
      ]
    },
    {
      "cell_type": "code",
      "execution_count": 287,
      "id": "yRXiqFivOSNq",
      "metadata": {
        "id": "yRXiqFivOSNq"
      },
      "outputs": [],
      "source": [
        "### Import Data\n",
        "start_feature = train.columns.get_loc('10min_RSI_3_diff')\n",
        "train_features = [col for col in train.columns[start_feature:] if col != 'label']\n",
        "\n",
        "# Select the feature columns from the 'train' DataFrame\n",
        "X_train_features = train[train_features]\n",
        "\n",
        "train['label_ml'] = ml_model.predict(X_train_features)\n",
        "\n",
        "prediction_probabilities = ml_model.predict_proba(X_train_features)\n",
        "train['prob_0'] = prediction_probabilities[:, 0]\n",
        "train['prob_1'] = prediction_probabilities[:, 1]\n",
        "\n",
        "meta_features = ['prob_1']  # use only the base model probability for meta features\n",
        "X_meta_features = train[meta_features]\n",
        "\n",
        "#train.head()"
      ]
    },
    {
      "cell_type": "code",
      "execution_count": 289,
      "id": "a7PKPf5CxaRx",
      "metadata": {
        "id": "a7PKPf5CxaRx"
      },
      "outputs": [],
      "source": [
        "train.to_csv(root_data + 'Results/'+symbol+'Meta_Prob_M5+M10_train_l.csv')"
      ]
    },
    {
      "cell_type": "code",
      "execution_count": 290,
      "id": "XVlPvtGoxaRy",
      "metadata": {
        "id": "XVlPvtGoxaRy",
        "colab": {
          "base_uri": "https://localhost:8080/"
        },
        "outputId": "78ab63ee-e59a-4c40-d336-b8e8bd6f4dae"
      },
      "outputs": [
        {
          "output_type": "stream",
          "name": "stdout",
          "text": [
            "Shape of X_train: (7074, 276)\n",
            "Shape of X_test: (3032, 276)\n",
            "Shape of y_train: (7074,)\n",
            "Shape of y_test: (3032,)\n"
          ]
        }
      ],
      "source": [
        "#meta = train_features + ['label_ml', 'prob_1', 'prob_0']\n",
        "meta = ['prob_1']  # train meta-model using only prob_1\n",
        "X_meta_features = train[meta]\n",
        "\n",
        "X = train[meta]\n",
        "y = train['label']\n",
        "\n",
        "X_train, X_test, y_train, y_test = train_test_split(X, y, test_size=0.3, random_state=42)\n",
        "\n",
        "print(\"Shape of X_train:\", X_train.shape)\n",
        "print(\"Shape of X_test:\", X_test.shape)\n",
        "print(\"Shape of y_train:\", y_train.shape)\n",
        "print(\"Shape of y_test:\", y_test.shape)"
      ]
    },
    {
      "cell_type": "code",
      "execution_count": 291,
      "id": "3rPgnEbGxaRy",
      "metadata": {
        "id": "3rPgnEbGxaRy",
        "colab": {
          "base_uri": "https://localhost:8080/"
        },
        "outputId": "ef60ddc7-a047-4c72-8eb0-578e634f2d89"
      },
      "outputs": [
        {
          "output_type": "stream",
          "name": "stdout",
          "text": [
            "label\n",
            "1    3638\n",
            "0    3436\n",
            "Name: count, dtype: int64\n",
            "label\n",
            "1    1542\n",
            "0    1490\n",
            "Name: count, dtype: int64\n"
          ]
        }
      ],
      "source": [
        "print(y_train.value_counts())\n",
        "print(y_test.value_counts())"
      ]
    },
    {
      "cell_type": "code",
      "execution_count": 292,
      "id": "VeHU0htFxaRy",
      "metadata": {
        "id": "VeHU0htFxaRy"
      },
      "outputs": [],
      "source": [
        "### Rebalance Data frame due to the low number of class 1\n",
        "\n",
        "smote = SMOTE(random_state=42)\n",
        "X_train_resampled, y_train_resampled = smote.fit_resample(X_train, y_train)"
      ]
    },
    {
      "cell_type": "code",
      "execution_count": 293,
      "id": "2XmqHiZBxaRy",
      "metadata": {
        "id": "2XmqHiZBxaRy"
      },
      "outputs": [],
      "source": [
        "# --------------- Classifier 1: XGBoost ------------------------------------------\n",
        "xgb = XGBClassifier(n_estimators=15, max_depth=3,\n",
        "                    random_state=42, eval_metric='logloss')\n",
        "\n",
        "# --------------- Classifier 2: Logistic Regression Classifier------------------------------------------\n",
        "lr = LogisticRegression(random_state=42)\n",
        "\n",
        "# --------------- Classifier 3: AdaBoost Classifier ------------------------------------------\n",
        "ada = AdaBoostClassifier(n_estimators=15, random_state=42)\n",
        "\n",
        "# --------------- Classifier 4: SVM------------------------------------------\n",
        "svc = svm.SVC(kernel='rbf', probability=True, random_state=42)\n",
        "\n",
        "# Define a list to store the different models\n",
        "estimator = []\n",
        "estimator.append(('LR', lr))\n",
        "estimator.append(('XGB', xgb))\n",
        "estimator.append(('ada', ada))\n",
        "estimator.append(('SVC', svc))"
      ]
    },
    {
      "cell_type": "code",
      "execution_count": 294,
      "id": "2JHZizlExaRy",
      "metadata": {
        "id": "2JHZizlExaRy",
        "colab": {
          "base_uri": "https://localhost:8080/",
          "height": 1000
        },
        "outputId": "1d89fb2c-310f-4f04-918f-081625d5d79f"
      },
      "outputs": [
        {
          "output_type": "error",
          "ename": "AttributeError",
          "evalue": "'DataFrame' object has no attribute 'dtype'",
          "traceback": [
            "\u001b[0;31m---------------------------------------------------------------------------\u001b[0m",
            "\u001b[0;31mAttributeError\u001b[0m                            Traceback (most recent call last)",
            "\u001b[0;32m/tmp/ipython-input-966900388.py\u001b[0m in \u001b[0;36m<cell line: 0>\u001b[0;34m()\u001b[0m\n\u001b[1;32m      2\u001b[0m \u001b[0;34m\u001b[0m\u001b[0m\n\u001b[1;32m      3\u001b[0m \u001b[0mmeta_ml_model\u001b[0m \u001b[0;34m=\u001b[0m \u001b[0mVotingClassifier\u001b[0m\u001b[0;34m(\u001b[0m\u001b[0mestimators\u001b[0m\u001b[0;34m=\u001b[0m\u001b[0mestimator\u001b[0m\u001b[0;34m,\u001b[0m \u001b[0mvoting\u001b[0m\u001b[0;34m=\u001b[0m\u001b[0;34m'soft'\u001b[0m\u001b[0;34m)\u001b[0m\u001b[0;34m\u001b[0m\u001b[0;34m\u001b[0m\u001b[0m\n\u001b[0;32m----> 4\u001b[0;31m \u001b[0mmeta_ml_model\u001b[0m\u001b[0;34m.\u001b[0m\u001b[0mfit\u001b[0m\u001b[0;34m(\u001b[0m\u001b[0mX_train_resampled\u001b[0m\u001b[0;34m,\u001b[0m \u001b[0my_train_resampled\u001b[0m\u001b[0;34m)\u001b[0m\u001b[0;34m\u001b[0m\u001b[0;34m\u001b[0m\u001b[0m\n\u001b[0m",
            "\u001b[0;32m/usr/local/lib/python3.12/dist-packages/sklearn/base.py\u001b[0m in \u001b[0;36mwrapper\u001b[0;34m(estimator, *args, **kwargs)\u001b[0m\n\u001b[1;32m   1387\u001b[0m                 )\n\u001b[1;32m   1388\u001b[0m             ):\n\u001b[0;32m-> 1389\u001b[0;31m                 \u001b[0;32mreturn\u001b[0m \u001b[0mfit_method\u001b[0m\u001b[0;34m(\u001b[0m\u001b[0mestimator\u001b[0m\u001b[0;34m,\u001b[0m \u001b[0;34m*\u001b[0m\u001b[0margs\u001b[0m\u001b[0;34m,\u001b[0m \u001b[0;34m**\u001b[0m\u001b[0mkwargs\u001b[0m\u001b[0;34m)\u001b[0m\u001b[0;34m\u001b[0m\u001b[0;34m\u001b[0m\u001b[0m\n\u001b[0m\u001b[1;32m   1390\u001b[0m \u001b[0;34m\u001b[0m\u001b[0m\n\u001b[1;32m   1391\u001b[0m         \u001b[0;32mreturn\u001b[0m \u001b[0mwrapper\u001b[0m\u001b[0;34m\u001b[0m\u001b[0;34m\u001b[0m\u001b[0m\n",
            "\u001b[0;32m/usr/local/lib/python3.12/dist-packages/sklearn/utils/validation.py\u001b[0m in \u001b[0;36minner_f\u001b[0;34m(*args, **kwargs)\u001b[0m\n\u001b[1;32m     61\u001b[0m             \u001b[0mextra_args\u001b[0m \u001b[0;34m=\u001b[0m \u001b[0mlen\u001b[0m\u001b[0;34m(\u001b[0m\u001b[0margs\u001b[0m\u001b[0;34m)\u001b[0m \u001b[0;34m-\u001b[0m \u001b[0mlen\u001b[0m\u001b[0;34m(\u001b[0m\u001b[0mall_args\u001b[0m\u001b[0;34m)\u001b[0m\u001b[0;34m\u001b[0m\u001b[0;34m\u001b[0m\u001b[0m\n\u001b[1;32m     62\u001b[0m             \u001b[0;32mif\u001b[0m \u001b[0mextra_args\u001b[0m \u001b[0;34m<=\u001b[0m \u001b[0;36m0\u001b[0m\u001b[0;34m:\u001b[0m\u001b[0;34m\u001b[0m\u001b[0;34m\u001b[0m\u001b[0m\n\u001b[0;32m---> 63\u001b[0;31m                 \u001b[0;32mreturn\u001b[0m \u001b[0mf\u001b[0m\u001b[0;34m(\u001b[0m\u001b[0;34m*\u001b[0m\u001b[0margs\u001b[0m\u001b[0;34m,\u001b[0m \u001b[0;34m**\u001b[0m\u001b[0mkwargs\u001b[0m\u001b[0;34m)\u001b[0m\u001b[0;34m\u001b[0m\u001b[0;34m\u001b[0m\u001b[0m\n\u001b[0m\u001b[1;32m     64\u001b[0m \u001b[0;34m\u001b[0m\u001b[0m\n\u001b[1;32m     65\u001b[0m             \u001b[0;31m# extra_args > 0\u001b[0m\u001b[0;34m\u001b[0m\u001b[0;34m\u001b[0m\u001b[0m\n",
            "\u001b[0;32m/usr/local/lib/python3.12/dist-packages/sklearn/ensemble/_voting.py\u001b[0m in \u001b[0;36mfit\u001b[0;34m(self, X, y, sample_weight, **fit_params)\u001b[0m\n\u001b[1;32m    417\u001b[0m             \u001b[0mfit_params\u001b[0m\u001b[0;34m[\u001b[0m\u001b[0;34m\"sample_weight\"\u001b[0m\u001b[0;34m]\u001b[0m \u001b[0;34m=\u001b[0m \u001b[0msample_weight\u001b[0m\u001b[0;34m\u001b[0m\u001b[0;34m\u001b[0m\u001b[0m\n\u001b[1;32m    418\u001b[0m \u001b[0;34m\u001b[0m\u001b[0m\n\u001b[0;32m--> 419\u001b[0;31m         \u001b[0;32mreturn\u001b[0m \u001b[0msuper\u001b[0m\u001b[0;34m(\u001b[0m\u001b[0;34m)\u001b[0m\u001b[0;34m.\u001b[0m\u001b[0mfit\u001b[0m\u001b[0;34m(\u001b[0m\u001b[0mX\u001b[0m\u001b[0;34m,\u001b[0m \u001b[0mtransformed_y\u001b[0m\u001b[0;34m,\u001b[0m \u001b[0;34m**\u001b[0m\u001b[0mfit_params\u001b[0m\u001b[0;34m)\u001b[0m\u001b[0;34m\u001b[0m\u001b[0;34m\u001b[0m\u001b[0m\n\u001b[0m\u001b[1;32m    420\u001b[0m \u001b[0;34m\u001b[0m\u001b[0m\n\u001b[1;32m    421\u001b[0m     \u001b[0;32mdef\u001b[0m \u001b[0mpredict\u001b[0m\u001b[0;34m(\u001b[0m\u001b[0mself\u001b[0m\u001b[0;34m,\u001b[0m \u001b[0mX\u001b[0m\u001b[0;34m)\u001b[0m\u001b[0;34m:\u001b[0m\u001b[0;34m\u001b[0m\u001b[0;34m\u001b[0m\u001b[0m\n",
            "\u001b[0;32m/usr/local/lib/python3.12/dist-packages/sklearn/ensemble/_voting.py\u001b[0m in \u001b[0;36mfit\u001b[0;34m(self, X, y, **fit_params)\u001b[0m\n\u001b[1;32m     98\u001b[0m                     ]\n\u001b[1;32m     99\u001b[0m \u001b[0;34m\u001b[0m\u001b[0m\n\u001b[0;32m--> 100\u001b[0;31m         self.estimators_ = Parallel(n_jobs=self.n_jobs)(\n\u001b[0m\u001b[1;32m    101\u001b[0m             delayed(_fit_single_estimator)(\n\u001b[1;32m    102\u001b[0m                 \u001b[0mclone\u001b[0m\u001b[0;34m(\u001b[0m\u001b[0mclf\u001b[0m\u001b[0;34m)\u001b[0m\u001b[0;34m,\u001b[0m\u001b[0;34m\u001b[0m\u001b[0;34m\u001b[0m\u001b[0m\n",
            "\u001b[0;32m/usr/local/lib/python3.12/dist-packages/sklearn/utils/parallel.py\u001b[0m in \u001b[0;36m__call__\u001b[0;34m(self, iterable)\u001b[0m\n\u001b[1;32m     75\u001b[0m             \u001b[0;32mfor\u001b[0m \u001b[0mdelayed_func\u001b[0m\u001b[0;34m,\u001b[0m \u001b[0margs\u001b[0m\u001b[0;34m,\u001b[0m \u001b[0mkwargs\u001b[0m \u001b[0;32min\u001b[0m \u001b[0miterable\u001b[0m\u001b[0;34m\u001b[0m\u001b[0;34m\u001b[0m\u001b[0m\n\u001b[1;32m     76\u001b[0m         )\n\u001b[0;32m---> 77\u001b[0;31m         \u001b[0;32mreturn\u001b[0m \u001b[0msuper\u001b[0m\u001b[0;34m(\u001b[0m\u001b[0;34m)\u001b[0m\u001b[0;34m.\u001b[0m\u001b[0m__call__\u001b[0m\u001b[0;34m(\u001b[0m\u001b[0miterable_with_config\u001b[0m\u001b[0;34m)\u001b[0m\u001b[0;34m\u001b[0m\u001b[0;34m\u001b[0m\u001b[0m\n\u001b[0m\u001b[1;32m     78\u001b[0m \u001b[0;34m\u001b[0m\u001b[0m\n\u001b[1;32m     79\u001b[0m \u001b[0;34m\u001b[0m\u001b[0m\n",
            "\u001b[0;32m/usr/local/lib/python3.12/dist-packages/joblib/parallel.py\u001b[0m in \u001b[0;36m__call__\u001b[0;34m(self, iterable)\u001b[0m\n\u001b[1;32m   1984\u001b[0m             \u001b[0moutput\u001b[0m \u001b[0;34m=\u001b[0m \u001b[0mself\u001b[0m\u001b[0;34m.\u001b[0m\u001b[0m_get_sequential_output\u001b[0m\u001b[0;34m(\u001b[0m\u001b[0miterable\u001b[0m\u001b[0;34m)\u001b[0m\u001b[0;34m\u001b[0m\u001b[0;34m\u001b[0m\u001b[0m\n\u001b[1;32m   1985\u001b[0m             \u001b[0mnext\u001b[0m\u001b[0;34m(\u001b[0m\u001b[0moutput\u001b[0m\u001b[0;34m)\u001b[0m\u001b[0;34m\u001b[0m\u001b[0;34m\u001b[0m\u001b[0m\n\u001b[0;32m-> 1986\u001b[0;31m             \u001b[0;32mreturn\u001b[0m \u001b[0moutput\u001b[0m \u001b[0;32mif\u001b[0m \u001b[0mself\u001b[0m\u001b[0;34m.\u001b[0m\u001b[0mreturn_generator\u001b[0m \u001b[0;32melse\u001b[0m \u001b[0mlist\u001b[0m\u001b[0;34m(\u001b[0m\u001b[0moutput\u001b[0m\u001b[0;34m)\u001b[0m\u001b[0;34m\u001b[0m\u001b[0;34m\u001b[0m\u001b[0m\n\u001b[0m\u001b[1;32m   1987\u001b[0m \u001b[0;34m\u001b[0m\u001b[0m\n\u001b[1;32m   1988\u001b[0m         \u001b[0;31m# Let's create an ID that uniquely identifies the current call. If the\u001b[0m\u001b[0;34m\u001b[0m\u001b[0;34m\u001b[0m\u001b[0m\n",
            "\u001b[0;32m/usr/local/lib/python3.12/dist-packages/joblib/parallel.py\u001b[0m in \u001b[0;36m_get_sequential_output\u001b[0;34m(self, iterable)\u001b[0m\n\u001b[1;32m   1912\u001b[0m                 \u001b[0mself\u001b[0m\u001b[0;34m.\u001b[0m\u001b[0mn_dispatched_batches\u001b[0m \u001b[0;34m+=\u001b[0m \u001b[0;36m1\u001b[0m\u001b[0;34m\u001b[0m\u001b[0;34m\u001b[0m\u001b[0m\n\u001b[1;32m   1913\u001b[0m                 \u001b[0mself\u001b[0m\u001b[0;34m.\u001b[0m\u001b[0mn_dispatched_tasks\u001b[0m \u001b[0;34m+=\u001b[0m \u001b[0;36m1\u001b[0m\u001b[0;34m\u001b[0m\u001b[0;34m\u001b[0m\u001b[0m\n\u001b[0;32m-> 1914\u001b[0;31m                 \u001b[0mres\u001b[0m \u001b[0;34m=\u001b[0m \u001b[0mfunc\u001b[0m\u001b[0;34m(\u001b[0m\u001b[0;34m*\u001b[0m\u001b[0margs\u001b[0m\u001b[0;34m,\u001b[0m \u001b[0;34m**\u001b[0m\u001b[0mkwargs\u001b[0m\u001b[0;34m)\u001b[0m\u001b[0;34m\u001b[0m\u001b[0;34m\u001b[0m\u001b[0m\n\u001b[0m\u001b[1;32m   1915\u001b[0m                 \u001b[0mself\u001b[0m\u001b[0;34m.\u001b[0m\u001b[0mn_completed_tasks\u001b[0m \u001b[0;34m+=\u001b[0m \u001b[0;36m1\u001b[0m\u001b[0;34m\u001b[0m\u001b[0;34m\u001b[0m\u001b[0m\n\u001b[1;32m   1916\u001b[0m                 \u001b[0mself\u001b[0m\u001b[0;34m.\u001b[0m\u001b[0mprint_progress\u001b[0m\u001b[0;34m(\u001b[0m\u001b[0;34m)\u001b[0m\u001b[0;34m\u001b[0m\u001b[0;34m\u001b[0m\u001b[0m\n",
            "\u001b[0;32m/usr/local/lib/python3.12/dist-packages/sklearn/utils/parallel.py\u001b[0m in \u001b[0;36m__call__\u001b[0;34m(self, *args, **kwargs)\u001b[0m\n\u001b[1;32m    137\u001b[0m             \u001b[0mconfig\u001b[0m \u001b[0;34m=\u001b[0m \u001b[0;34m{\u001b[0m\u001b[0;34m}\u001b[0m\u001b[0;34m\u001b[0m\u001b[0;34m\u001b[0m\u001b[0m\n\u001b[1;32m    138\u001b[0m         \u001b[0;32mwith\u001b[0m \u001b[0mconfig_context\u001b[0m\u001b[0;34m(\u001b[0m\u001b[0;34m**\u001b[0m\u001b[0mconfig\u001b[0m\u001b[0;34m)\u001b[0m\u001b[0;34m:\u001b[0m\u001b[0;34m\u001b[0m\u001b[0;34m\u001b[0m\u001b[0m\n\u001b[0;32m--> 139\u001b[0;31m             \u001b[0;32mreturn\u001b[0m \u001b[0mself\u001b[0m\u001b[0;34m.\u001b[0m\u001b[0mfunction\u001b[0m\u001b[0;34m(\u001b[0m\u001b[0;34m*\u001b[0m\u001b[0margs\u001b[0m\u001b[0;34m,\u001b[0m \u001b[0;34m**\u001b[0m\u001b[0mkwargs\u001b[0m\u001b[0;34m)\u001b[0m\u001b[0;34m\u001b[0m\u001b[0;34m\u001b[0m\u001b[0m\n\u001b[0m\u001b[1;32m    140\u001b[0m \u001b[0;34m\u001b[0m\u001b[0m\n\u001b[1;32m    141\u001b[0m \u001b[0;34m\u001b[0m\u001b[0m\n",
            "\u001b[0;32m/usr/local/lib/python3.12/dist-packages/sklearn/ensemble/_base.py\u001b[0m in \u001b[0;36m_fit_single_estimator\u001b[0;34m(estimator, X, y, fit_params, message_clsname, message)\u001b[0m\n\u001b[1;32m     37\u001b[0m     \u001b[0;32melse\u001b[0m\u001b[0;34m:\u001b[0m\u001b[0;34m\u001b[0m\u001b[0;34m\u001b[0m\u001b[0m\n\u001b[1;32m     38\u001b[0m         \u001b[0;32mwith\u001b[0m \u001b[0m_print_elapsed_time\u001b[0m\u001b[0;34m(\u001b[0m\u001b[0mmessage_clsname\u001b[0m\u001b[0;34m,\u001b[0m \u001b[0mmessage\u001b[0m\u001b[0;34m)\u001b[0m\u001b[0;34m:\u001b[0m\u001b[0;34m\u001b[0m\u001b[0;34m\u001b[0m\u001b[0m\n\u001b[0;32m---> 39\u001b[0;31m             \u001b[0mestimator\u001b[0m\u001b[0;34m.\u001b[0m\u001b[0mfit\u001b[0m\u001b[0;34m(\u001b[0m\u001b[0mX\u001b[0m\u001b[0;34m,\u001b[0m \u001b[0my\u001b[0m\u001b[0;34m,\u001b[0m \u001b[0;34m**\u001b[0m\u001b[0mfit_params\u001b[0m\u001b[0;34m)\u001b[0m\u001b[0;34m\u001b[0m\u001b[0;34m\u001b[0m\u001b[0m\n\u001b[0m\u001b[1;32m     40\u001b[0m     \u001b[0;32mreturn\u001b[0m \u001b[0mestimator\u001b[0m\u001b[0;34m\u001b[0m\u001b[0;34m\u001b[0m\u001b[0m\n\u001b[1;32m     41\u001b[0m \u001b[0;34m\u001b[0m\u001b[0m\n",
            "\u001b[0;32m/usr/local/lib/python3.12/dist-packages/xgboost/core.py\u001b[0m in \u001b[0;36minner_f\u001b[0;34m(*args, **kwargs)\u001b[0m\n\u001b[1;32m    727\u001b[0m             \u001b[0;32mfor\u001b[0m \u001b[0mk\u001b[0m\u001b[0;34m,\u001b[0m \u001b[0marg\u001b[0m \u001b[0;32min\u001b[0m \u001b[0mzip\u001b[0m\u001b[0;34m(\u001b[0m\u001b[0msig\u001b[0m\u001b[0;34m.\u001b[0m\u001b[0mparameters\u001b[0m\u001b[0;34m,\u001b[0m \u001b[0margs\u001b[0m\u001b[0;34m)\u001b[0m\u001b[0;34m:\u001b[0m\u001b[0;34m\u001b[0m\u001b[0;34m\u001b[0m\u001b[0m\n\u001b[1;32m    728\u001b[0m                 \u001b[0mkwargs\u001b[0m\u001b[0;34m[\u001b[0m\u001b[0mk\u001b[0m\u001b[0;34m]\u001b[0m \u001b[0;34m=\u001b[0m \u001b[0marg\u001b[0m\u001b[0;34m\u001b[0m\u001b[0;34m\u001b[0m\u001b[0m\n\u001b[0;32m--> 729\u001b[0;31m             \u001b[0;32mreturn\u001b[0m \u001b[0mfunc\u001b[0m\u001b[0;34m(\u001b[0m\u001b[0;34m**\u001b[0m\u001b[0mkwargs\u001b[0m\u001b[0;34m)\u001b[0m\u001b[0;34m\u001b[0m\u001b[0;34m\u001b[0m\u001b[0m\n\u001b[0m\u001b[1;32m    730\u001b[0m \u001b[0;34m\u001b[0m\u001b[0m\n\u001b[1;32m    731\u001b[0m         \u001b[0;32mreturn\u001b[0m \u001b[0minner_f\u001b[0m\u001b[0;34m\u001b[0m\u001b[0;34m\u001b[0m\u001b[0m\n",
            "\u001b[0;32m/usr/local/lib/python3.12/dist-packages/xgboost/sklearn.py\u001b[0m in \u001b[0;36mfit\u001b[0;34m(self, X, y, sample_weight, base_margin, eval_set, verbose, xgb_model, sample_weight_eval_set, base_margin_eval_set, feature_weights)\u001b[0m\n\u001b[1;32m   1662\u001b[0m                 \u001b[0mxgb_model\u001b[0m\u001b[0;34m,\u001b[0m \u001b[0mparams\u001b[0m\u001b[0;34m,\u001b[0m \u001b[0mfeature_weights\u001b[0m\u001b[0;34m\u001b[0m\u001b[0;34m\u001b[0m\u001b[0m\n\u001b[1;32m   1663\u001b[0m             )\n\u001b[0;32m-> 1664\u001b[0;31m             train_dmatrix, evals = _wrap_evaluation_matrices(\n\u001b[0m\u001b[1;32m   1665\u001b[0m                 \u001b[0mmissing\u001b[0m\u001b[0;34m=\u001b[0m\u001b[0mself\u001b[0m\u001b[0;34m.\u001b[0m\u001b[0mmissing\u001b[0m\u001b[0;34m,\u001b[0m\u001b[0;34m\u001b[0m\u001b[0;34m\u001b[0m\u001b[0m\n\u001b[1;32m   1666\u001b[0m                 \u001b[0mX\u001b[0m\u001b[0;34m=\u001b[0m\u001b[0mX\u001b[0m\u001b[0;34m,\u001b[0m\u001b[0;34m\u001b[0m\u001b[0;34m\u001b[0m\u001b[0m\n",
            "\u001b[0;32m/usr/local/lib/python3.12/dist-packages/xgboost/sklearn.py\u001b[0m in \u001b[0;36m_wrap_evaluation_matrices\u001b[0;34m(missing, X, y, group, qid, sample_weight, base_margin, feature_weights, eval_set, sample_weight_eval_set, base_margin_eval_set, eval_group, eval_qid, create_dmatrix, enable_categorical, feature_types)\u001b[0m\n\u001b[1;32m    626\u001b[0m     \"\"\"Convert array_like evaluation matrices into DMatrix.  Perform validation on the\n\u001b[1;32m    627\u001b[0m     way.\"\"\"\n\u001b[0;32m--> 628\u001b[0;31m     train_dmatrix = create_dmatrix(\n\u001b[0m\u001b[1;32m    629\u001b[0m         \u001b[0mdata\u001b[0m\u001b[0;34m=\u001b[0m\u001b[0mX\u001b[0m\u001b[0;34m,\u001b[0m\u001b[0;34m\u001b[0m\u001b[0;34m\u001b[0m\u001b[0m\n\u001b[1;32m    630\u001b[0m         \u001b[0mlabel\u001b[0m\u001b[0;34m=\u001b[0m\u001b[0my\u001b[0m\u001b[0;34m,\u001b[0m\u001b[0;34m\u001b[0m\u001b[0;34m\u001b[0m\u001b[0m\n",
            "\u001b[0;32m/usr/local/lib/python3.12/dist-packages/xgboost/sklearn.py\u001b[0m in \u001b[0;36m_create_dmatrix\u001b[0;34m(self, ref, **kwargs)\u001b[0m\n\u001b[1;32m   1135\u001b[0m         \u001b[0;32mif\u001b[0m \u001b[0m_can_use_qdm\u001b[0m\u001b[0;34m(\u001b[0m\u001b[0mself\u001b[0m\u001b[0;34m.\u001b[0m\u001b[0mtree_method\u001b[0m\u001b[0;34m,\u001b[0m \u001b[0mself\u001b[0m\u001b[0;34m.\u001b[0m\u001b[0mdevice\u001b[0m\u001b[0;34m)\u001b[0m \u001b[0;32mand\u001b[0m \u001b[0mself\u001b[0m\u001b[0;34m.\u001b[0m\u001b[0mbooster\u001b[0m \u001b[0;34m!=\u001b[0m \u001b[0;34m\"gblinear\"\u001b[0m\u001b[0;34m:\u001b[0m\u001b[0;34m\u001b[0m\u001b[0;34m\u001b[0m\u001b[0m\n\u001b[1;32m   1136\u001b[0m             \u001b[0;32mtry\u001b[0m\u001b[0;34m:\u001b[0m\u001b[0;34m\u001b[0m\u001b[0;34m\u001b[0m\u001b[0m\n\u001b[0;32m-> 1137\u001b[0;31m                 return QuantileDMatrix(\n\u001b[0m\u001b[1;32m   1138\u001b[0m                     \u001b[0;34m**\u001b[0m\u001b[0mkwargs\u001b[0m\u001b[0;34m,\u001b[0m \u001b[0mref\u001b[0m\u001b[0;34m=\u001b[0m\u001b[0mref\u001b[0m\u001b[0;34m,\u001b[0m \u001b[0mnthread\u001b[0m\u001b[0;34m=\u001b[0m\u001b[0mself\u001b[0m\u001b[0;34m.\u001b[0m\u001b[0mn_jobs\u001b[0m\u001b[0;34m,\u001b[0m \u001b[0mmax_bin\u001b[0m\u001b[0;34m=\u001b[0m\u001b[0mself\u001b[0m\u001b[0;34m.\u001b[0m\u001b[0mmax_bin\u001b[0m\u001b[0;34m\u001b[0m\u001b[0;34m\u001b[0m\u001b[0m\n\u001b[1;32m   1139\u001b[0m                 )\n",
            "\u001b[0;32m/usr/local/lib/python3.12/dist-packages/xgboost/core.py\u001b[0m in \u001b[0;36minner_f\u001b[0;34m(*args, **kwargs)\u001b[0m\n\u001b[1;32m    727\u001b[0m             \u001b[0;32mfor\u001b[0m \u001b[0mk\u001b[0m\u001b[0;34m,\u001b[0m \u001b[0marg\u001b[0m \u001b[0;32min\u001b[0m \u001b[0mzip\u001b[0m\u001b[0;34m(\u001b[0m\u001b[0msig\u001b[0m\u001b[0;34m.\u001b[0m\u001b[0mparameters\u001b[0m\u001b[0;34m,\u001b[0m \u001b[0margs\u001b[0m\u001b[0;34m)\u001b[0m\u001b[0;34m:\u001b[0m\u001b[0;34m\u001b[0m\u001b[0;34m\u001b[0m\u001b[0m\n\u001b[1;32m    728\u001b[0m                 \u001b[0mkwargs\u001b[0m\u001b[0;34m[\u001b[0m\u001b[0mk\u001b[0m\u001b[0;34m]\u001b[0m \u001b[0;34m=\u001b[0m \u001b[0marg\u001b[0m\u001b[0;34m\u001b[0m\u001b[0;34m\u001b[0m\u001b[0m\n\u001b[0;32m--> 729\u001b[0;31m             \u001b[0;32mreturn\u001b[0m \u001b[0mfunc\u001b[0m\u001b[0;34m(\u001b[0m\u001b[0;34m**\u001b[0m\u001b[0mkwargs\u001b[0m\u001b[0;34m)\u001b[0m\u001b[0;34m\u001b[0m\u001b[0;34m\u001b[0m\u001b[0m\n\u001b[0m\u001b[1;32m    730\u001b[0m \u001b[0;34m\u001b[0m\u001b[0m\n\u001b[1;32m    731\u001b[0m         \u001b[0;32mreturn\u001b[0m \u001b[0minner_f\u001b[0m\u001b[0;34m\u001b[0m\u001b[0;34m\u001b[0m\u001b[0m\n",
            "\u001b[0;32m/usr/local/lib/python3.12/dist-packages/xgboost/core.py\u001b[0m in \u001b[0;36m__init__\u001b[0;34m(self, data, label, weight, base_margin, missing, silent, feature_names, feature_types, nthread, max_bin, ref, group, qid, label_lower_bound, label_upper_bound, feature_weights, enable_categorical, max_quantile_batches, data_split_mode)\u001b[0m\n\u001b[1;32m   1612\u001b[0m                 )\n\u001b[1;32m   1613\u001b[0m \u001b[0;34m\u001b[0m\u001b[0m\n\u001b[0;32m-> 1614\u001b[0;31m         self._init(\n\u001b[0m\u001b[1;32m   1615\u001b[0m             \u001b[0mdata\u001b[0m\u001b[0;34m,\u001b[0m\u001b[0;34m\u001b[0m\u001b[0;34m\u001b[0m\u001b[0m\n\u001b[1;32m   1616\u001b[0m             \u001b[0mref\u001b[0m\u001b[0;34m=\u001b[0m\u001b[0mref\u001b[0m\u001b[0;34m,\u001b[0m\u001b[0;34m\u001b[0m\u001b[0;34m\u001b[0m\u001b[0m\n",
            "\u001b[0;32m/usr/local/lib/python3.12/dist-packages/xgboost/core.py\u001b[0m in \u001b[0;36m_init\u001b[0;34m(self, data, ref, enable_categorical, max_quantile_blocks, **meta)\u001b[0m\n\u001b[1;32m   1676\u001b[0m             \u001b[0mctypes\u001b[0m\u001b[0;34m.\u001b[0m\u001b[0mbyref\u001b[0m\u001b[0;34m(\u001b[0m\u001b[0mhandle\u001b[0m\u001b[0;34m)\u001b[0m\u001b[0;34m,\u001b[0m\u001b[0;34m\u001b[0m\u001b[0;34m\u001b[0m\u001b[0m\n\u001b[1;32m   1677\u001b[0m         )\n\u001b[0;32m-> 1678\u001b[0;31m         \u001b[0mit\u001b[0m\u001b[0;34m.\u001b[0m\u001b[0mreraise\u001b[0m\u001b[0;34m(\u001b[0m\u001b[0;34m)\u001b[0m\u001b[0;34m\u001b[0m\u001b[0;34m\u001b[0m\u001b[0m\n\u001b[0m\u001b[1;32m   1679\u001b[0m         \u001b[0;31m# delay check_call to throw intermediate exception first\u001b[0m\u001b[0;34m\u001b[0m\u001b[0;34m\u001b[0m\u001b[0m\n\u001b[1;32m   1680\u001b[0m         \u001b[0m_check_call\u001b[0m\u001b[0;34m(\u001b[0m\u001b[0mret\u001b[0m\u001b[0;34m)\u001b[0m\u001b[0;34m\u001b[0m\u001b[0;34m\u001b[0m\u001b[0m\n",
            "\u001b[0;32m/usr/local/lib/python3.12/dist-packages/xgboost/core.py\u001b[0m in \u001b[0;36mreraise\u001b[0;34m(self)\u001b[0m\n\u001b[1;32m    570\u001b[0m             \u001b[0mexc\u001b[0m \u001b[0;34m=\u001b[0m \u001b[0mself\u001b[0m\u001b[0;34m.\u001b[0m\u001b[0m_exception\u001b[0m\u001b[0;34m\u001b[0m\u001b[0;34m\u001b[0m\u001b[0m\n\u001b[1;32m    571\u001b[0m             \u001b[0mself\u001b[0m\u001b[0;34m.\u001b[0m\u001b[0m_exception\u001b[0m \u001b[0;34m=\u001b[0m \u001b[0;32mNone\u001b[0m\u001b[0;34m\u001b[0m\u001b[0;34m\u001b[0m\u001b[0m\n\u001b[0;32m--> 572\u001b[0;31m             \u001b[0;32mraise\u001b[0m \u001b[0mexc\u001b[0m  \u001b[0;31m# pylint: disable=raising-bad-type\u001b[0m\u001b[0;34m\u001b[0m\u001b[0;34m\u001b[0m\u001b[0m\n\u001b[0m\u001b[1;32m    573\u001b[0m \u001b[0;34m\u001b[0m\u001b[0m\n\u001b[1;32m    574\u001b[0m     \u001b[0;32mdef\u001b[0m \u001b[0m__del__\u001b[0m\u001b[0;34m(\u001b[0m\u001b[0mself\u001b[0m\u001b[0;34m)\u001b[0m \u001b[0;34m->\u001b[0m \u001b[0;32mNone\u001b[0m\u001b[0;34m:\u001b[0m\u001b[0;34m\u001b[0m\u001b[0;34m\u001b[0m\u001b[0m\n",
            "\u001b[0;32m/usr/local/lib/python3.12/dist-packages/xgboost/core.py\u001b[0m in \u001b[0;36m_handle_exception\u001b[0;34m(self, fn, dft_ret)\u001b[0m\n\u001b[1;32m    551\u001b[0m \u001b[0;34m\u001b[0m\u001b[0m\n\u001b[1;32m    552\u001b[0m         \u001b[0;32mtry\u001b[0m\u001b[0;34m:\u001b[0m\u001b[0;34m\u001b[0m\u001b[0;34m\u001b[0m\u001b[0m\n\u001b[0;32m--> 553\u001b[0;31m             \u001b[0;32mreturn\u001b[0m \u001b[0mfn\u001b[0m\u001b[0;34m(\u001b[0m\u001b[0;34m)\u001b[0m\u001b[0;34m\u001b[0m\u001b[0;34m\u001b[0m\u001b[0m\n\u001b[0m\u001b[1;32m    554\u001b[0m         \u001b[0;32mexcept\u001b[0m \u001b[0mException\u001b[0m \u001b[0;32mas\u001b[0m \u001b[0me\u001b[0m\u001b[0;34m:\u001b[0m  \u001b[0;31m# pylint: disable=broad-except\u001b[0m\u001b[0;34m\u001b[0m\u001b[0;34m\u001b[0m\u001b[0m\n\u001b[1;32m    555\u001b[0m             \u001b[0;31m# Defer the exception in order to return 0 and stop the iteration.\u001b[0m\u001b[0;34m\u001b[0m\u001b[0;34m\u001b[0m\u001b[0m\n",
            "\u001b[0;32m/usr/local/lib/python3.12/dist-packages/xgboost/core.py\u001b[0m in \u001b[0;36m<lambda>\u001b[0;34m()\u001b[0m\n\u001b[1;32m    638\u001b[0m             \u001b[0mself\u001b[0m\u001b[0;34m.\u001b[0m\u001b[0m_temporary_data\u001b[0m \u001b[0;34m=\u001b[0m \u001b[0;32mNone\u001b[0m\u001b[0;34m\u001b[0m\u001b[0;34m\u001b[0m\u001b[0m\n\u001b[1;32m    639\u001b[0m         \u001b[0;31m# pylint: disable=not-callable\u001b[0m\u001b[0;34m\u001b[0m\u001b[0;34m\u001b[0m\u001b[0m\n\u001b[0;32m--> 640\u001b[0;31m         \u001b[0;32mreturn\u001b[0m \u001b[0mself\u001b[0m\u001b[0;34m.\u001b[0m\u001b[0m_handle_exception\u001b[0m\u001b[0;34m(\u001b[0m\u001b[0;32mlambda\u001b[0m\u001b[0;34m:\u001b[0m \u001b[0mint\u001b[0m\u001b[0;34m(\u001b[0m\u001b[0mself\u001b[0m\u001b[0;34m.\u001b[0m\u001b[0mnext\u001b[0m\u001b[0;34m(\u001b[0m\u001b[0minput_data\u001b[0m\u001b[0;34m)\u001b[0m\u001b[0;34m)\u001b[0m\u001b[0;34m,\u001b[0m \u001b[0;36m0\u001b[0m\u001b[0;34m)\u001b[0m\u001b[0;34m\u001b[0m\u001b[0;34m\u001b[0m\u001b[0m\n\u001b[0m\u001b[1;32m    641\u001b[0m \u001b[0;34m\u001b[0m\u001b[0m\n\u001b[1;32m    642\u001b[0m     \u001b[0;34m@\u001b[0m\u001b[0mabstractmethod\u001b[0m\u001b[0;34m\u001b[0m\u001b[0;34m\u001b[0m\u001b[0m\n",
            "\u001b[0;32m/usr/local/lib/python3.12/dist-packages/xgboost/data.py\u001b[0m in \u001b[0;36mnext\u001b[0;34m(self, input_data)\u001b[0m\n\u001b[1;32m   1652\u001b[0m             \u001b[0;32mreturn\u001b[0m \u001b[0;32mFalse\u001b[0m\u001b[0;34m\u001b[0m\u001b[0;34m\u001b[0m\u001b[0m\n\u001b[1;32m   1653\u001b[0m         \u001b[0mself\u001b[0m\u001b[0;34m.\u001b[0m\u001b[0mit\u001b[0m \u001b[0;34m+=\u001b[0m \u001b[0;36m1\u001b[0m\u001b[0;34m\u001b[0m\u001b[0;34m\u001b[0m\u001b[0m\n\u001b[0;32m-> 1654\u001b[0;31m         \u001b[0minput_data\u001b[0m\u001b[0;34m(\u001b[0m\u001b[0;34m**\u001b[0m\u001b[0mself\u001b[0m\u001b[0;34m.\u001b[0m\u001b[0mkwargs\u001b[0m\u001b[0;34m)\u001b[0m\u001b[0;34m\u001b[0m\u001b[0;34m\u001b[0m\u001b[0m\n\u001b[0m\u001b[1;32m   1655\u001b[0m         \u001b[0;32mreturn\u001b[0m \u001b[0;32mTrue\u001b[0m\u001b[0;34m\u001b[0m\u001b[0;34m\u001b[0m\u001b[0m\n\u001b[1;32m   1656\u001b[0m \u001b[0;34m\u001b[0m\u001b[0m\n",
            "\u001b[0;32m/usr/local/lib/python3.12/dist-packages/xgboost/core.py\u001b[0m in \u001b[0;36minner_f\u001b[0;34m(*args, **kwargs)\u001b[0m\n\u001b[1;32m    727\u001b[0m             \u001b[0;32mfor\u001b[0m \u001b[0mk\u001b[0m\u001b[0;34m,\u001b[0m \u001b[0marg\u001b[0m \u001b[0;32min\u001b[0m \u001b[0mzip\u001b[0m\u001b[0;34m(\u001b[0m\u001b[0msig\u001b[0m\u001b[0;34m.\u001b[0m\u001b[0mparameters\u001b[0m\u001b[0;34m,\u001b[0m \u001b[0margs\u001b[0m\u001b[0;34m)\u001b[0m\u001b[0;34m:\u001b[0m\u001b[0;34m\u001b[0m\u001b[0;34m\u001b[0m\u001b[0m\n\u001b[1;32m    728\u001b[0m                 \u001b[0mkwargs\u001b[0m\u001b[0;34m[\u001b[0m\u001b[0mk\u001b[0m\u001b[0;34m]\u001b[0m \u001b[0;34m=\u001b[0m \u001b[0marg\u001b[0m\u001b[0;34m\u001b[0m\u001b[0;34m\u001b[0m\u001b[0m\n\u001b[0;32m--> 729\u001b[0;31m             \u001b[0;32mreturn\u001b[0m \u001b[0mfunc\u001b[0m\u001b[0;34m(\u001b[0m\u001b[0;34m**\u001b[0m\u001b[0mkwargs\u001b[0m\u001b[0;34m)\u001b[0m\u001b[0;34m\u001b[0m\u001b[0;34m\u001b[0m\u001b[0m\n\u001b[0m\u001b[1;32m    730\u001b[0m \u001b[0;34m\u001b[0m\u001b[0m\n\u001b[1;32m    731\u001b[0m         \u001b[0;32mreturn\u001b[0m \u001b[0minner_f\u001b[0m\u001b[0;34m\u001b[0m\u001b[0;34m\u001b[0m\u001b[0m\n",
            "\u001b[0;32m/usr/local/lib/python3.12/dist-packages/xgboost/core.py\u001b[0m in \u001b[0;36minput_data\u001b[0;34m(data, feature_names, feature_types, **kwargs)\u001b[0m\n\u001b[1;32m    618\u001b[0m                 \u001b[0mnew\u001b[0m\u001b[0;34m,\u001b[0m \u001b[0mcat_codes\u001b[0m\u001b[0;34m,\u001b[0m \u001b[0mfeature_names\u001b[0m\u001b[0;34m,\u001b[0m \u001b[0mfeature_types\u001b[0m \u001b[0;34m=\u001b[0m \u001b[0mself\u001b[0m\u001b[0;34m.\u001b[0m\u001b[0m_temporary_data\u001b[0m\u001b[0;34m\u001b[0m\u001b[0;34m\u001b[0m\u001b[0m\n\u001b[1;32m    619\u001b[0m             \u001b[0;32melse\u001b[0m\u001b[0;34m:\u001b[0m\u001b[0;34m\u001b[0m\u001b[0;34m\u001b[0m\u001b[0m\n\u001b[0;32m--> 620\u001b[0;31m                 new, cat_codes, feature_names, feature_types = _proxy_transform(\n\u001b[0m\u001b[1;32m    621\u001b[0m                     \u001b[0mdata\u001b[0m\u001b[0;34m,\u001b[0m\u001b[0;34m\u001b[0m\u001b[0;34m\u001b[0m\u001b[0m\n\u001b[1;32m    622\u001b[0m                     \u001b[0mfeature_names\u001b[0m\u001b[0;34m,\u001b[0m\u001b[0;34m\u001b[0m\u001b[0;34m\u001b[0m\u001b[0m\n",
            "\u001b[0;32m/usr/local/lib/python3.12/dist-packages/xgboost/data.py\u001b[0m in \u001b[0;36m_proxy_transform\u001b[0;34m(data, feature_names, feature_types, enable_categorical)\u001b[0m\n\u001b[1;32m   1705\u001b[0m         \u001b[0;32mreturn\u001b[0m \u001b[0mdf_pa\u001b[0m\u001b[0;34m,\u001b[0m \u001b[0;32mNone\u001b[0m\u001b[0;34m,\u001b[0m \u001b[0mfeature_names\u001b[0m\u001b[0;34m,\u001b[0m \u001b[0mfeature_types\u001b[0m\u001b[0;34m\u001b[0m\u001b[0;34m\u001b[0m\u001b[0m\n\u001b[1;32m   1706\u001b[0m     \u001b[0;32mif\u001b[0m \u001b[0m_is_pandas_df\u001b[0m\u001b[0;34m(\u001b[0m\u001b[0mdata\u001b[0m\u001b[0;34m)\u001b[0m\u001b[0;34m:\u001b[0m\u001b[0;34m\u001b[0m\u001b[0;34m\u001b[0m\u001b[0m\n\u001b[0;32m-> 1707\u001b[0;31m         df, feature_names, feature_types = _transform_pandas_df(\n\u001b[0m\u001b[1;32m   1708\u001b[0m             \u001b[0mdata\u001b[0m\u001b[0;34m,\u001b[0m \u001b[0menable_categorical\u001b[0m\u001b[0;34m,\u001b[0m \u001b[0mfeature_names\u001b[0m\u001b[0;34m,\u001b[0m \u001b[0mfeature_types\u001b[0m\u001b[0;34m\u001b[0m\u001b[0;34m\u001b[0m\u001b[0m\n\u001b[1;32m   1709\u001b[0m         )\n",
            "\u001b[0;32m/usr/local/lib/python3.12/dist-packages/xgboost/data.py\u001b[0m in \u001b[0;36m_transform_pandas_df\u001b[0;34m(data, enable_categorical, feature_names, feature_types, meta)\u001b[0m\n\u001b[1;32m    642\u001b[0m     )\n\u001b[1;32m    643\u001b[0m \u001b[0;34m\u001b[0m\u001b[0m\n\u001b[0;32m--> 644\u001b[0;31m     \u001b[0marrays\u001b[0m \u001b[0;34m=\u001b[0m \u001b[0mpandas_transform_data\u001b[0m\u001b[0;34m(\u001b[0m\u001b[0mdata\u001b[0m\u001b[0;34m)\u001b[0m\u001b[0;34m\u001b[0m\u001b[0;34m\u001b[0m\u001b[0m\n\u001b[0m\u001b[1;32m    645\u001b[0m     \u001b[0;32mreturn\u001b[0m \u001b[0mPandasTransformed\u001b[0m\u001b[0;34m(\u001b[0m\u001b[0marrays\u001b[0m\u001b[0;34m)\u001b[0m\u001b[0;34m,\u001b[0m \u001b[0mfeature_names\u001b[0m\u001b[0;34m,\u001b[0m \u001b[0mfeature_types\u001b[0m\u001b[0;34m\u001b[0m\u001b[0;34m\u001b[0m\u001b[0m\n\u001b[1;32m    646\u001b[0m \u001b[0;34m\u001b[0m\u001b[0m\n",
            "\u001b[0;32m/usr/local/lib/python3.12/dist-packages/xgboost/data.py\u001b[0m in \u001b[0;36mpandas_transform_data\u001b[0;34m(data)\u001b[0m\n\u001b[1;32m    602\u001b[0m             \u001b[0mresult\u001b[0m\u001b[0;34m.\u001b[0m\u001b[0mappend\u001b[0m\u001b[0;34m(\u001b[0m\u001b[0marr\u001b[0m\u001b[0;34m)\u001b[0m\u001b[0;34m\u001b[0m\u001b[0;34m\u001b[0m\u001b[0m\n\u001b[1;32m    603\u001b[0m         \u001b[0;32melse\u001b[0m\u001b[0;34m:\u001b[0m\u001b[0;34m\u001b[0m\u001b[0;34m\u001b[0m\u001b[0m\n\u001b[0;32m--> 604\u001b[0;31m             \u001b[0mresult\u001b[0m\u001b[0;34m.\u001b[0m\u001b[0mappend\u001b[0m\u001b[0;34m(\u001b[0m\u001b[0moth_type\u001b[0m\u001b[0;34m(\u001b[0m\u001b[0mdata\u001b[0m\u001b[0;34m[\u001b[0m\u001b[0mcol\u001b[0m\u001b[0;34m]\u001b[0m\u001b[0;34m)\u001b[0m\u001b[0;34m)\u001b[0m\u001b[0;34m\u001b[0m\u001b[0;34m\u001b[0m\u001b[0m\n\u001b[0m\u001b[1;32m    605\u001b[0m \u001b[0;34m\u001b[0m\u001b[0m\n\u001b[1;32m    606\u001b[0m     \u001b[0;31m# FIXME(jiamingy): Investigate the possibility of using dataframe protocol or arrow\u001b[0m\u001b[0;34m\u001b[0m\u001b[0;34m\u001b[0m\u001b[0m\n",
            "\u001b[0;32m/usr/local/lib/python3.12/dist-packages/xgboost/data.py\u001b[0m in \u001b[0;36moth_type\u001b[0;34m(ser)\u001b[0m\n\u001b[1;32m    567\u001b[0m         \u001b[0;31m# The dtypes module is added in 1.25.\u001b[0m\u001b[0;34m\u001b[0m\u001b[0;34m\u001b[0m\u001b[0m\n\u001b[1;32m    568\u001b[0m         npdtypes = np_dtypes and isinstance(\n\u001b[0;32m--> 569\u001b[0;31m             \u001b[0mser\u001b[0m\u001b[0;34m.\u001b[0m\u001b[0mdtype\u001b[0m\u001b[0;34m,\u001b[0m\u001b[0;34m\u001b[0m\u001b[0;34m\u001b[0m\u001b[0m\n\u001b[0m\u001b[1;32m    570\u001b[0m             (\n\u001b[1;32m    571\u001b[0m                 \u001b[0;31m# pylint: disable=no-member\u001b[0m\u001b[0;34m\u001b[0m\u001b[0;34m\u001b[0m\u001b[0m\n",
            "\u001b[0;32m/usr/local/lib/python3.12/dist-packages/pandas/core/generic.py\u001b[0m in \u001b[0;36m__getattr__\u001b[0;34m(self, name)\u001b[0m\n\u001b[1;32m   6297\u001b[0m         ):\n\u001b[1;32m   6298\u001b[0m             \u001b[0;32mreturn\u001b[0m \u001b[0mself\u001b[0m\u001b[0;34m[\u001b[0m\u001b[0mname\u001b[0m\u001b[0;34m]\u001b[0m\u001b[0;34m\u001b[0m\u001b[0;34m\u001b[0m\u001b[0m\n\u001b[0;32m-> 6299\u001b[0;31m         \u001b[0;32mreturn\u001b[0m \u001b[0mobject\u001b[0m\u001b[0;34m.\u001b[0m\u001b[0m__getattribute__\u001b[0m\u001b[0;34m(\u001b[0m\u001b[0mself\u001b[0m\u001b[0;34m,\u001b[0m \u001b[0mname\u001b[0m\u001b[0;34m)\u001b[0m\u001b[0;34m\u001b[0m\u001b[0;34m\u001b[0m\u001b[0m\n\u001b[0m\u001b[1;32m   6300\u001b[0m \u001b[0;34m\u001b[0m\u001b[0m\n\u001b[1;32m   6301\u001b[0m     \u001b[0;34m@\u001b[0m\u001b[0mfinal\u001b[0m\u001b[0;34m\u001b[0m\u001b[0;34m\u001b[0m\u001b[0m\n",
            "\u001b[0;31mAttributeError\u001b[0m: 'DataFrame' object has no attribute 'dtype'"
          ]
        }
      ],
      "source": [
        "### Implement voting classifier with hard voting\n",
        "\n",
        "meta_ml_model = VotingClassifier(estimators=estimator, voting='soft')\n",
        "meta_ml_model.fit(X_train_resampled, y_train_resampled)"
      ]
    },
    {
      "cell_type": "code",
      "execution_count": null,
      "id": "HU43Cg6jVq6j",
      "metadata": {
        "id": "HU43Cg6jVq6j"
      },
      "outputs": [],
      "source": [
        "y_true = y_test\n",
        "y_pred = meta_ml_model.predict(X_test)\n",
        "\n",
        "conf_matrix = confusion_matrix(y_true, y_pred)\n",
        "print(\"Confusion Matrix:\")\n",
        "print(conf_matrix)\n",
        "\n",
        "class_report = classification_report(y_true, y_pred)\n",
        "print(\"\\nClassification Report:\")\n",
        "print(class_report)"
      ]
    },
    {
      "cell_type": "code",
      "execution_count": null,
      "id": "tAR97BLJu44I",
      "metadata": {
        "id": "tAR97BLJu44I"
      },
      "outputs": [],
      "source": [
        "train['meta_results'] = meta_ml_model.predict(X_meta_features)"
      ]
    },
    {
      "cell_type": "code",
      "execution_count": null,
      "id": "ysM6YjQAj8QR",
      "metadata": {
        "id": "ysM6YjQAj8QR"
      },
      "outputs": [],
      "source": [
        "train.to_csv(root_data + 'Results/'+symbol+'train_l_Signals & Meta_Signals.csv')"
      ]
    },
    {
      "cell_type": "code",
      "execution_count": null,
      "id": "8Y71USlnxaRz",
      "metadata": {
        "id": "8Y71USlnxaRz"
      },
      "outputs": [],
      "source": [
        "### Save ML Model\n",
        "model_path = root_data + 'Models/'+symbol+'_'+direction+'_Meta_ml_model.joblib'\n",
        "joblib.dump(meta_ml_model, model_path)\n",
        "print(f\"Model saved successfully at: {model_path}\")"
      ]
    },
    {
      "cell_type": "markdown",
      "id": "dX1ehVSJJRC9",
      "metadata": {
        "id": "dX1ehVSJJRC9"
      },
      "source": [
        "## PnL Train"
      ]
    },
    {
      "cell_type": "code",
      "execution_count": null,
      "id": "kUfGrpS7kxyW",
      "metadata": {
        "id": "kUfGrpS7kxyW"
      },
      "outputs": [],
      "source": [
        "train['ml_results'] = np.where(train['label_ml']==1, train['st_PnL'],0)\n",
        "results(train, pnl_column='ml_results')"
      ]
    },
    {
      "cell_type": "code",
      "execution_count": null,
      "id": "USsAkHmUYkHT",
      "metadata": {
        "id": "USsAkHmUYkHT"
      },
      "outputs": [],
      "source": [
        "train['meta_ml_results'] = np.where(train['meta_results']==1, train['st_PnL'],0)\n",
        "results(train, pnl_column='meta_ml_results')"
      ]
    },
    {
      "cell_type": "markdown",
      "id": "60f86dad",
      "metadata": {
        "id": "60f86dad"
      },
      "source": [
        "\n",
        "# Test\n"
      ]
    },
    {
      "cell_type": "markdown",
      "id": "q7HA2vsxuup9",
      "metadata": {
        "id": "q7HA2vsxuup9"
      },
      "source": [
        "## Results_ML"
      ]
    },
    {
      "cell_type": "code",
      "execution_count": 263,
      "id": "5Y218WrFnt-E",
      "metadata": {
        "colab": {
          "base_uri": "https://localhost:8080/"
        },
        "id": "5Y218WrFnt-E",
        "outputId": "062cf760-89dc-4dd2-c6c8-23ba498d8e1e"
      },
      "outputs": [
        {
          "output_type": "stream",
          "name": "stdout",
          "text": [
            "Model loaded successfully from: /content/drive/MyDrive/Course Folder/Forex/XAUUSD/Models/BTCUSD_Short_ml_model.joblib\n"
          ]
        }
      ],
      "source": [
        "### Import ML Model\n",
        "\n",
        "model_path = root_data+'Models/'+symbol+'_'+direction+'_ml_model.joblib'\n",
        "ml_model = joblib.load(model_path)\n",
        "print(f\"Model loaded successfully from: {model_path}\")"
      ]
    },
    {
      "cell_type": "code",
      "execution_count": 264,
      "id": "YiE7uKuaDqmf",
      "metadata": {
        "colab": {
          "base_uri": "https://localhost:8080/"
        },
        "id": "YiE7uKuaDqmf",
        "outputId": "6c475790-48d6-4727-de6a-7cc4d10e6bc5"
      },
      "outputs": [
        {
          "output_type": "stream",
          "name": "stdout",
          "text": [
            "Model loaded successfully from: /content/drive/MyDrive/Course Folder/Forex/XAUUSD/Models/BTCUSD_Short_Meta_ml_model.joblib\n"
          ]
        }
      ],
      "source": [
        "### Import Meta Model\n",
        "\n",
        "model_path = root_data+'Models/'+symbol+'_'+direction+'_Meta_ml_model.joblib'\n",
        "meta_ml_model = joblib.load(model_path)\n",
        "print(f\"Model loaded successfully from: {model_path}\")"
      ]
    },
    {
      "cell_type": "code",
      "execution_count": 265,
      "id": "TGSpa4ZWrC3K",
      "metadata": {
        "colab": {
          "base_uri": "https://localhost:8080/"
        },
        "id": "TGSpa4ZWrC3K",
        "outputId": "a6d1ffcd-9f2f-42c6-c32b-e18f062d192d"
      },
      "outputs": [
        {
          "output_type": "stream",
          "name": "stdout",
          "text": [
            "Index(['label', '10min_RSI_3_diff', '10min_RSI_3', '10min_slope_signal_600_3',\n",
            "       '10min_slope_signal_300_3', '10min_slope_div_300_3_diff',\n",
            "       '10min_slope_lin_reg_signal_900_6', 'RSI_7', '10min_slope_signal_900_3',\n",
            "       '10min_slope_angle_900_3_diff',\n",
            "       ...\n",
            "       'slope_angle_300_3 - slope_angle_900_6', 'slope_angle_900_6',\n",
            "       '10min_slope_angle_300_9 - slope_angle_600_6',\n",
            "       '10min_slope_angle_300_6 - slope_angle_600_3', 'slope_signal_300_9',\n",
            "       '10min_slope_lin_reg_signal_300_9 - slope_lin_reg_signal_900_9',\n",
            "       'slope_angle_300_3 - slope_angle_900_3', 'label_ml', 'prob_0',\n",
            "       'prob_1'],\n",
            "      dtype='object', length=275)\n"
          ]
        }
      ],
      "source": [
        "\n",
        "test['label_ml'] = ml_model.predict(test.loc[:,train_features])\n",
        "\n",
        "prediction_probabilities = ml_model.predict_proba(test.loc[:,train_features])\n",
        "test['prob_0'] = prediction_probabilities[:, 0]\n",
        "test['prob_1'] = prediction_probabilities[:, 1]\n",
        "\n",
        "print(test.columns)"
      ]
    },
    {
      "cell_type": "code",
      "execution_count": 266,
      "id": "NHV2GIh8s-9b",
      "metadata": {
        "colab": {
          "base_uri": "https://localhost:8080/"
        },
        "id": "NHV2GIh8s-9b",
        "outputId": "3f1cfdc7-e6d2-43bc-852a-fde73acc7dff"
      },
      "outputs": [
        {
          "output_type": "stream",
          "name": "stdout",
          "text": [
            "Index(['label', '10min_RSI_3_diff', '10min_RSI_3', '10min_slope_signal_600_3',\n",
            "       '10min_slope_signal_300_3', '10min_slope_div_300_3_diff',\n",
            "       '10min_slope_lin_reg_signal_900_6', 'RSI_7', '10min_slope_signal_900_3',\n",
            "       '10min_slope_angle_900_3_diff',\n",
            "       ...\n",
            "       'slope_angle_300_3 - slope_angle_900_6', 'slope_angle_900_6',\n",
            "       '10min_slope_angle_300_9 - slope_angle_600_6',\n",
            "       '10min_slope_angle_300_6 - slope_angle_600_3', 'slope_signal_300_9',\n",
            "       '10min_slope_lin_reg_signal_300_9 - slope_lin_reg_signal_900_9',\n",
            "       'slope_angle_300_3 - slope_angle_900_3', 'label_ml', 'prob_0',\n",
            "       'prob_1'],\n",
            "      dtype='object', length=275)\n"
          ]
        }
      ],
      "source": [
        "print(test.columns)"
      ]
    },
    {
      "cell_type": "code",
      "execution_count": 267,
      "id": "L5v-IETUsv9j",
      "metadata": {
        "colab": {
          "base_uri": "https://localhost:8080/"
        },
        "id": "L5v-IETUsv9j",
        "outputId": "1bc3003b-5193-402d-c5a9-2f52ee56af7a"
      },
      "outputs": [
        {
          "output_type": "stream",
          "name": "stdout",
          "text": [
            "Confusion Matrix:\n",
            "[[1211  867]\n",
            " [1305  949]]\n",
            "\n",
            "Classification Report:\n",
            "              precision    recall  f1-score   support\n",
            "\n",
            "           0       0.48      0.58      0.53      2078\n",
            "           1       0.52      0.42      0.47      2254\n",
            "\n",
            "    accuracy                           0.50      4332\n",
            "   macro avg       0.50      0.50      0.50      4332\n",
            "weighted avg       0.50      0.50      0.50      4332\n",
            "\n"
          ]
        }
      ],
      "source": [
        "# Calculate and display Confusion Matrix\n",
        "conf_matrix = confusion_matrix(test['label'], test['label_ml'])\n",
        "print(\"Confusion Matrix:\")\n",
        "print(conf_matrix)\n",
        "\n",
        "# Calculate and display Classification Report\n",
        "class_report = classification_report(test['label'], test['label_ml'])\n",
        "print(\"\\nClassification Report:\")\n",
        "print(class_report)"
      ]
    },
    {
      "cell_type": "code",
      "execution_count": 268,
      "id": "O0tSbMwArC8a",
      "metadata": {
        "colab": {
          "base_uri": "https://localhost:8080/"
        },
        "id": "O0tSbMwArC8a",
        "outputId": "e2ae6e44-452f-4122-d2e7-c3718e62bfaf"
      },
      "outputs": [
        {
          "output_type": "stream",
          "name": "stdout",
          "text": [
            "Index(['label', '10min_RSI_3_diff', '10min_RSI_3', '10min_slope_signal_600_3',\n",
            "       '10min_slope_signal_300_3', '10min_slope_div_300_3_diff',\n",
            "       '10min_slope_lin_reg_signal_900_6', 'RSI_7', '10min_slope_signal_900_3',\n",
            "       '10min_slope_angle_900_3_diff',\n",
            "       ...\n",
            "       '10min_slope_angle_300_6 - slope_angle_600_3', 'slope_signal_300_9',\n",
            "       '10min_slope_lin_reg_signal_300_9 - slope_lin_reg_signal_900_9',\n",
            "       'slope_angle_300_3 - slope_angle_900_3', 'label_ml', 'prob_0', 'prob_1',\n",
            "       'meta_label', 'meta_prob_0', 'meta_prob_1'],\n",
            "      dtype='object', length=278)\n"
          ]
        }
      ],
      "source": [
        "test['meta_label'] = meta_ml_model.predict(test.loc[:,meta])\n",
        "\n",
        "prediction_probabilities = meta_ml_model.predict_proba(test.loc[:,meta])\n",
        "test['meta_prob_0'] = prediction_probabilities[:, 0]\n",
        "test['meta_prob_1'] = prediction_probabilities[:, 1]\n",
        "\n",
        "print(test.columns)"
      ]
    },
    {
      "cell_type": "code",
      "execution_count": 269,
      "id": "SgIOg4eErC_H",
      "metadata": {
        "colab": {
          "base_uri": "https://localhost:8080/"
        },
        "id": "SgIOg4eErC_H",
        "outputId": "a6364730-3122-4a7a-a9e6-969c5d23e3c2"
      },
      "outputs": [
        {
          "output_type": "stream",
          "name": "stdout",
          "text": [
            "Confusion Matrix:\n",
            "[[1211  867]\n",
            " [1297  957]]\n",
            "\n",
            "Classification Report:\n",
            "              precision    recall  f1-score   support\n",
            "\n",
            "           0       0.48      0.58      0.53      2078\n",
            "           1       0.52      0.42      0.47      2254\n",
            "\n",
            "    accuracy                           0.50      4332\n",
            "   macro avg       0.50      0.50      0.50      4332\n",
            "weighted avg       0.50      0.50      0.50      4332\n",
            "\n"
          ]
        }
      ],
      "source": [
        "# Calculate and display Confusion Matrix\n",
        "conf_matrix = confusion_matrix(test['label'], test['meta_label'])\n",
        "print(\"Confusion Matrix:\")\n",
        "print(conf_matrix)\n",
        "\n",
        "# Calculate and display Classification Report\n",
        "class_report = classification_report(test['label'], test['meta_label'])\n",
        "print(\"\\nClassification Report:\")\n",
        "print(class_report)"
      ]
    },
    {
      "cell_type": "markdown",
      "id": "_5BjO-5fvFjb",
      "metadata": {
        "id": "_5BjO-5fvFjb"
      },
      "source": [
        "## Results_PnL"
      ]
    },
    {
      "cell_type": "code",
      "execution_count": null,
      "id": "gj0_nEvuvvjB",
      "metadata": {
        "id": "gj0_nEvuvvjB"
      },
      "outputs": [],
      "source": [
        "test['ml_results'] = np.where(test['label_ml']==1, test['st_PnL'],0)\n",
        "results(test, pnl_column='ml_results')"
      ]
    },
    {
      "cell_type": "code",
      "execution_count": null,
      "id": "-iktKy5uvvjC",
      "metadata": {
        "id": "-iktKy5uvvjC"
      },
      "outputs": [],
      "source": [
        "test['meta_ml_results'] = np.where(test['meta_label']==1, test['st_PnL'],0)\n",
        "results(test, pnl_column='meta_ml_results')"
      ]
    },
    {
      "cell_type": "markdown",
      "id": "0410fd8b",
      "metadata": {
        "id": "0410fd8b"
      },
      "source": [
        "# Pendientes\n"
      ]
    },
    {
      "cell_type": "code",
      "source": [],
      "metadata": {
        "id": "CNhE1wXGVTYf"
      },
      "id": "CNhE1wXGVTYf",
      "execution_count": null,
      "outputs": []
    }
  ],
  "metadata": {
    "colab": {
      "collapsed_sections": [
        "m8CIB8vltFfH",
        "eaf03429",
        "zhTndYVi1TEV",
        "6x4lfhG3E2eq",
        "rhCVvXKxM2Uk",
        "dX1ehVSJJRC9"
      ],
      "provenance": [],
      "machine_shape": "hm",
      "gpuType": "T4"
    },
    "kernelspec": {
      "display_name": "Python 3",
      "name": "python3"
    },
    "language_info": {
      "codemirror_mode": {
        "name": "ipython",
        "version": 3
      },
      "file_extension": ".py",
      "mimetype": "text/x-python",
      "name": "python",
      "nbconvert_exporter": "python",
      "pygments_lexer": "ipython3",
      "version": "3.9.5"
    },
    "accelerator": "GPU"
  },
  "nbformat": 4,
  "nbformat_minor": 5
}