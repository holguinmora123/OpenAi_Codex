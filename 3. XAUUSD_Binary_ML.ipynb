{
  "cells": [
    {
      "cell_type": "markdown",
      "id": "-LNWLq2zhvUz",
      "metadata": {
        "id": "-LNWLq2zhvUz"
      },
      "source": []
    },
    {
      "cell_type": "markdown",
      "id": "Ysa-7eLvEMpE",
      "metadata": {
        "id": "Ysa-7eLvEMpE"
      },
      "source": [
        "# Gpu"
      ]
    },
    {
      "cell_type": "code",
      "execution_count": null,
      "id": "9GJAW8qAEM8f",
      "metadata": {
        "id": "9GJAW8qAEM8f"
      },
      "outputs": [],
      "source": [
        "!nvidia-smi"
      ]
    },
    {
      "cell_type": "code",
      "execution_count": null,
      "id": "FcIdAmrNERw-",
      "metadata": {
        "id": "FcIdAmrNERw-"
      },
      "outputs": [],
      "source": [
        "import tensorflow as tf\n",
        "tf.config.list_physical_devices('GPU')"
      ]
    },
    {
      "cell_type": "markdown",
      "id": "m8CIB8vltFfH",
      "metadata": {
        "id": "m8CIB8vltFfH"
      },
      "source": [
        "# Set_Up"
      ]
    },
    {
      "cell_type": "code",
      "execution_count": null,
      "id": "EB5RqjoAtFwl",
      "metadata": {
        "id": "EB5RqjoAtFwl"
      },
      "outputs": [],
      "source": [
        "strategy   = 'Kalman'\n",
        "process    = 'Train'\n",
        "symbol     = 'XAUUSD'\n",
        "direction  = 'Short'\n",
        "time_frame = 'M5'\n",
        "\n",
        "root_data = f'/content/drive/MyDrive/Course Folder/Forex/XAUUSD/'\n",
        "print(root_data)\n",
        "\n",
        "rolling_window = 100"
      ]
    },
    {
      "cell_type": "markdown",
      "id": "eaf03429",
      "metadata": {
        "id": "eaf03429"
      },
      "source": [
        "# Import_Libraries"
      ]
    },
    {
      "cell_type": "code",
      "execution_count": null,
      "id": "R9bTNmBwK_Up",
      "metadata": {
        "id": "R9bTNmBwK_Up"
      },
      "outputs": [],
      "source": [
        "!pip install ta-lib\n",
        "import talib as ta\n",
        "print(ta.__version__)"
      ]
    },
    {
      "cell_type": "code",
      "execution_count": null,
      "id": "bda1a01c",
      "metadata": {
        "id": "bda1a01c"
      },
      "outputs": [],
      "source": [
        "# Import libraries for data manipulation\n",
        "import numpy as np\n",
        "import pandas as pd\n",
        "import os\n",
        "import tensorflow as tf\n",
        "from datetime import timedelta\n",
        "\n",
        "# For machine learning models\n",
        "import xgboost\n",
        "from xgboost import XGBClassifier\n",
        "from sklearn.linear_model import LogisticRegression\n",
        "from sklearn.ensemble import VotingClassifier\n",
        "from sklearn.ensemble import ExtraTreesClassifier\n",
        "from sklearn.ensemble import AdaBoostClassifier\n",
        "from sklearn import svm\n",
        "from sklearn.preprocessing import StandardScaler\n",
        "from sklearn.metrics import classification_report, confusion_matrix\n",
        "from sklearn.model_selection import train_test_split # Import train_test_split\n",
        "\n",
        "from sklearn.model_selection import StratifiedKFold\n",
        "from sklearn.metrics import accuracy_score, precision_score, recall_score, f1_score\n",
        "\n",
        "from tensorflow.keras.models import Sequential\n",
        "from tensorflow.keras.layers import Dense\n",
        "\n",
        "from tensorflow.keras.models import load_model\n",
        "\n",
        "from imblearn.over_sampling import SMOTE\n",
        "from sklearn.model_selection import GridSearchCV\n",
        "\n",
        "# Import matplotlib as an alias plt and set the style\n",
        "import matplotlib.pyplot as plt\n",
        "%matplotlib inline\n",
        "plt.style.use(\"seaborn-v0_8-whitegrid\")\n",
        "\n",
        "# Import sys to append the path for custom function file\n",
        "import sys\n",
        "sys.path.append(\"..\")\n",
        "\n",
        "# Ignore warnings\n",
        "import warnings\n",
        "warnings.filterwarnings('ignore')\n",
        "\n",
        "import joblib"
      ]
    },
    {
      "cell_type": "code",
      "execution_count": null,
      "metadata": {
        "id": "7cgMmtFUWz0c"
      },
      "outputs": [],
      "source": [
        "def confusion_probability_summary(y_true, y_pred, positive_class_probabilities, positive_class=1):\n",
        "    \"\"\"\n",
        "    Calculate summary statistics of predicted probabilities for each outcome in a confusion matrix.\n",
        "    \"\"\"\n",
        "    data = pd.DataFrame({\n",
        "        'actual': np.asarray(y_true),\n",
        "        'predicted': np.asarray(y_pred),\n",
        "        'prob_positive': np.asarray(positive_class_probabilities),\n",
        "    })\n",
        "\n",
        "    outcomes = {\n",
        "        'True Positive': (data['actual'] == positive_class) & (data['predicted'] == positive_class),\n",
        "        'False Positive': (data['actual'] != positive_class) & (data['predicted'] == positive_class),\n",
        "        'True Negative': (data['actual'] != positive_class) & (data['predicted'] != positive_class),\n",
        "        'False Negative': (data['actual'] == positive_class) & (data['predicted'] != positive_class),\n",
        "    }\n",
        "\n",
        "    summary_rows = []\n",
        "    for outcome, mask in outcomes.items():\n",
        "        probabilities = data.loc[mask, 'prob_positive']\n",
        "        summary_rows.append({\n",
        "            'Outcome': outcome,\n",
        "            'Count': int(probabilities.count()),\n",
        "            'Mean Probability': probabilities.mean() if not probabilities.empty else np.nan,\n",
        "            'Std Probability': probabilities.std(ddof=0) if probabilities.count() > 1 else np.nan,\n",
        "        })\n",
        "\n",
        "    summary = pd.DataFrame(summary_rows).set_index('Outcome')\n",
        "    return summary\n"
      ],
      "id": "7cgMmtFUWz0c"
    },
    {
      "cell_type": "code",
      "execution_count": null,
      "id": "DMuFtzf54JN8",
      "metadata": {
        "id": "DMuFtzf54JN8"
      },
      "outputs": [],
      "source": [
        "from google.colab import drive\n",
        "drive.mount('/content/drive')"
      ]
    },
    {
      "cell_type": "markdown",
      "id": "zhTndYVi1TEV",
      "metadata": {
        "id": "zhTndYVi1TEV"
      },
      "source": [
        "# Support Functions"
      ]
    },
    {
      "cell_type": "code",
      "execution_count": null,
      "id": "FYEryjzTLPf8",
      "metadata": {
        "id": "FYEryjzTLPf8"
      },
      "outputs": [],
      "source": [
        "def results(data, pnl_column='PnL'):\n",
        "    # Calculate the metrics\n",
        "    time_difference = data.index.max() - data.index.min()\n",
        "    days = time_difference.days\n",
        "    total_trades = data[data['Open_Trade'].notna() & (data['Open_Trade'] != 0)].shape[0]\n",
        "    profit_trades = data[data[pnl_column] > 0].shape[0]\n",
        "    loss_trades = data[data[pnl_column] < 0].shape[0]\n",
        "    profits = data[data[pnl_column] > 0][pnl_column].sum()\n",
        "    losses = data[data[pnl_column] < 0][pnl_column].sum()\n",
        "\n",
        "    # Create a dictionary with the results\n",
        "    results_dict = {\n",
        "        'days': days,\n",
        "        'total_trades': total_trades,\n",
        "        '': '',\n",
        "        'income': profits,\n",
        "        'losses': losses,\n",
        "        'profits': profits + losses,\n",
        "        ' ':' ',\n",
        "        'profit_trades': profit_trades,\n",
        "        'loss_trades': loss_trades,\n",
        "        '  ':'  ',\n",
        "        '% Win_Trades': profit_trades / (profit_trades + loss_trades) * 100 if (profit_trades + loss_trades) > 0 else 0,\n",
        "        '% Loss_Trades': loss_trades / (profit_trades + loss_trades)*100 if (profit_trades + loss_trades) > 0 else 0\n",
        "    }\n",
        "\n",
        "    # Create a DataFrame from the dictionary and transpose it\n",
        "    perf_metrics = pd.DataFrame([results_dict]).T\n",
        "\n",
        "    # Rename the column\n",
        "    perf_metrics.rename(columns={0: 'Results'}, inplace=True)\n",
        "\n",
        "    # Format the DataFrame for display\n",
        "    perf_metrics.loc[['days', 'total_trades', 'profit_trades', 'loss_trades','% Win_Trades','% Loss_Trades'], 'Results'] = perf_metrics.loc[['days', 'total_trades', 'profit_trades', 'loss_trades','% Win_Trades','% Loss_Trades'], 'Results'].apply(lambda x: f\"{x:,.0f}\" if pd.notna(x) else '')\n",
        "    perf_metrics.loc[['income', 'losses', 'profits'], 'Results'] = perf_metrics.loc[['income', 'losses', 'profits'], 'Results'].apply(lambda x: f\"${x:,.2f}\" if pd.notna(x) else '')\n",
        "\n",
        "    return perf_metrics"
      ]
    },
    {
      "cell_type": "code",
      "execution_count": null,
      "id": "fB8uDm2F1TS1",
      "metadata": {
        "id": "fB8uDm2F1TS1"
      },
      "outputs": [],
      "source": [
        "def create_features(train_data, index):\n",
        "    short_periods = [3, 5, 7, 10, 15, 17]\n",
        "    long_periods = [20, 22, 66, 126, 252]\n",
        "    periods = short_periods + long_periods\n",
        "\n",
        "    features = pd.DataFrame(index=index)\n",
        "\n",
        "    # Indicators that do not depend on the lookback period\n",
        "    features['OBV'] = ta.OBV(train_data['Close'], train_data['Volume'])\n",
        "    features['AD'] = ta.AD(train_data['High'], train_data['Low'],\n",
        "                           train_data['Close'], train_data['Volume'])\n",
        "\n",
        "    # Pre-compute moving averages to avoid repeated calculations\n",
        "    sma = {p: ta.SMA(train_data['Close'], timeperiod=p) for p in periods}\n",
        "    ema = {p: ta.EMA(train_data['Close'], timeperiod=p) for p in periods}\n",
        "\n",
        "    for period in periods:\n",
        "        features[f'RSI_{period}'] = ta.RSI(train_data['Close'], timeperiod=period)\n",
        "        features[f'MFI_{period}'] = ta.MFI(train_data['High'], train_data['Low'],\n",
        "                                           train_data['Close'], train_data['Volume'],\n",
        "                                           timeperiod=period)\n",
        "        features[f'ADX_{period}'] = ta.ADX(train_data['High'], train_data['Low'],\n",
        "                                           train_data['Close'], timeperiod=period)\n",
        "        features[f'ROCP_{period}'] = ta.ROCP(train_data['Close'], timeperiod=period)\n",
        "\n",
        "    for s in short_periods:\n",
        "        for l in long_periods:\n",
        "            features[f'SMA_Crossover_{s}_{l}'] = sma[s] - sma[l]\n",
        "            features[f'EMA_Crossover_{s}_{l}'] = ema[s] - ema[l]\n",
        "\n",
        "    features.dropna(inplace=True)\n",
        "    return features\n"
      ]
    },
    {
      "cell_type": "code",
      "execution_count": null,
      "id": "196899d1",
      "metadata": {
        "id": "196899d1"
      },
      "outputs": [],
      "source": [
        "def strategy_returns_dynamic_different_thresholds(prices, threshold):\n",
        "    rolling = prices['Rolling Returns'].to_numpy()\n",
        "    yearly_std = prices['Yearly Stdev'].to_numpy()\n",
        "    pct_change = prices['Close'].pct_change().to_numpy()\n",
        "    signals = np.zeros(len(prices), dtype=np.int8)\n",
        "\n",
        "    curr_pos = 0\n",
        "    hold_days = 0\n",
        "    for i in range(len(prices)):\n",
        "        if curr_pos == 0 or hold_days == 20:\n",
        "            thresh_val = threshold * yearly_std[i]\n",
        "            if rolling[i] >= thresh_val:\n",
        "                curr_pos = 1\n",
        "                hold_days = 0\n",
        "            elif rolling[i] < -thresh_val:\n",
        "                curr_pos = -1\n",
        "                hold_days = 0\n",
        "            else:\n",
        "                curr_pos = 0\n",
        "                hold_days = 0\n",
        "        else:\n",
        "            hold_days += 1\n",
        "        signals[i] = curr_pos\n",
        "\n",
        "    prices[f'Signal_{threshold}'] = signals\n",
        "    strategy_returns = pct_change * np.roll(signals, 1)\n",
        "    prices[f'Strategy Returns_{threshold}'] = strategy_returns\n",
        "    return np.cumprod(strategy_returns + 1)\n",
        "\n",
        "\n",
        "def strategy_returns_different_thresholds(prices, threshold):\n",
        "    rolling = prices['Rolling Returns'].to_numpy()\n",
        "    pct_change = prices['Close'].pct_change().to_numpy()\n",
        "    signals = np.zeros(len(prices), dtype=np.int8)\n",
        "\n",
        "    curr_pos = 0\n",
        "    hold_days = 0\n",
        "    for i in range(len(prices)):\n",
        "        if curr_pos == 0 or hold_days == 20:\n",
        "            if rolling[i] >= threshold:\n",
        "                curr_pos = 1\n",
        "                hold_days = 0\n",
        "            elif rolling[i] < threshold:\n",
        "                curr_pos = -1\n",
        "                hold_days = 0\n",
        "        else:\n",
        "            hold_days += 1\n",
        "        signals[i] = curr_pos\n",
        "\n",
        "    prices[f'Signal_{threshold}'] = signals\n",
        "    strategy_returns = pct_change * np.roll(signals, 1)\n",
        "    prices[f'Strategy Returns_{threshold}'] = strategy_returns\n",
        "    return np.cumprod(strategy_returns + 1)\n"
      ]
    },
    {
      "cell_type": "markdown",
      "id": "0ZOg20zC2Gei",
      "metadata": {
        "id": "0ZOg20zC2Gei"
      },
      "source": [
        "# Data"
      ]
    },
    {
      "cell_type": "code",
      "execution_count": 15,
      "id": "dyGl1MUHVebJ",
      "metadata": {
        "id": "dyGl1MUHVebJ"
      },
      "outputs": [],
      "source": [
        "data_type = 'Scale'"
      ]
    },
    {
      "cell_type": "code",
      "execution_count": 16,
      "id": "oZ4oncRY2Kv_",
      "metadata": {
        "colab": {
          "base_uri": "https://localhost:8080/"
        },
        "id": "oZ4oncRY2Kv_",
        "outputId": "2f184c14-58db-4294-8e79-ac5f9838f518"
      },
      "outputs": [
        {
          "output_type": "stream",
          "name": "stdout",
          "text": [
            "The train_data DataFrame covers a period of 2396 days.\n"
          ]
        }
      ],
      "source": [
        "### Open OHLC dataframe\n",
        "\n",
        "ohlc = pd.read_csv(root_data + 'Data/'+symbol+'_M5.csv', index_col=0)\n",
        "ohlc.index = pd.to_datetime(ohlc.index)\n",
        "time_difference = ohlc.index.max() - ohlc.index.min()\n",
        "number_of_days = time_difference.days\n",
        "\n",
        "print(f\"The train_data DataFrame covers a period of {number_of_days} days.\")"
      ]
    },
    {
      "cell_type": "code",
      "execution_count": 17,
      "id": "vZHp1PgT2L7e",
      "metadata": {
        "id": "vZHp1PgT2L7e",
        "colab": {
          "base_uri": "https://localhost:8080/",
          "height": 398
        },
        "outputId": "1abd605e-0b2b-4c0d-ca92-b8ffdb8a87b1"
      },
      "outputs": [
        {
          "output_type": "stream",
          "name": "stdout",
          "text": [
            "['label', 'M10_raw_10min_RSI_basic_14_diff', 'M10_scale_10min_ATR_14_diff', 'Open_Trade', 'M5_scale_MACD_12_26_9_diff', 'M10_raw_10min_RSI_3', 'M5_raw_Kal_change_300', 'M10_raw_10min_slope_lin_reg_signal_900_3', 'M10_raw_10min_CCI_20_diff', 'M5_raw_MACD_12_26_9_diff', 'M10_raw_10min_slope_signal_900_3', 'M10_raw_10min_slope_lin_reg_signal_900_6', 'M10_raw_10min_slope_lin_reg_signal_600_6', 'M5_raw_slope_signal_900_9', 'M5_scale_ATR_14_diff', 'M5_raw_RSI_basic_14_diff', 'M10_raw_10min_RSI_3 - RSI_7', 'M10_raw_10min_TMF_diff', 'M5_raw_Stoch_K_14_3_3_diff', 'M5_raw_EMA_15_diff', 'M10_raw_10min_KO_diff', 'M5_raw_CCI_20_diff', 'M10_raw_10min_slope_signal_300_3 - slope_signal_600_3', 'M5_raw_slope_lin_reg_signal_300_9', 'M10_raw_10min_slope_lin_reg_signal_900_9', 'M10_raw_10min_ATR_14_diff', 'M10_raw_10min_slope_lin_reg_signal_600_3 - slope_lin_reg_signal_900_9', 'M10_raw_10min_slope_lin_reg_signal_600_9 - slope_lin_reg_signal_900_9', 'M5_raw_RSI_7', 'M5_scale_WAD_diff', 'M5_scale_Kal_600_minus_Kal_900', 'M10_raw_10min_slope_lin_reg_signal_300_3 - slope_lin_reg_signal_900_3', 'M10_raw_10min_EMA_100_above_EMA_200', 'M10_raw_10min_WAD_diff', 'M10_raw_10min_slope_lin_reg_signal_600_6_diff', 'M10_raw_10min_AD_Line_diff', 'M10_raw_10min_slope_lin_reg_signal_300_6 - slope_lin_reg_signal_300_9', 'M10_raw_10min_slope_lin_reg_signal_300_3 - slope_lin_reg_signal_900_9', 'M10_raw_10min_MACD_hist_12_26_9_diff', 'M10_raw_10min_slope_lin_reg_signal_600_3', 'M5_raw_slope_signal_300_3', 'M10_raw_10min_slope_lin_reg_signal_300_6_diff', 'M5_raw_slope_div_300_6', 'M5_raw_ATR_14_diff', 'M10_raw_10min_slope_signal_300_3 - slope_signal_900_9', 'M10_raw_10min_Stoch_K_14_3_3_diff', 'M5_raw_AD_Line_diff', 'M10_raw_10min_slope_lin_reg_signal_600_3 - slope_lin_reg_signal_600_6', 'M10_scale_10min_PVI_diff', 'M10_raw_10min_RSI_basic_14', 'M10_raw_10min_WilliamsR_14', 'M5_raw_slope_lin_reg_signal_300_3', 'M10_raw_10min_EFI_diff', 'M10_scale_10min_Kal_change_600', 'M5_raw_slope_lin_reg_signal_300_6 - slope_lin_reg_signal_900_3', 'M10_raw_10min_slope_lin_reg_signal_300_6 - slope_lin_reg_signal_600_3', 'M10_scale_10min_EMA_15_diff', 'M10_raw_10min_slope_angle_300_3_diff', 'M10_raw_10min_Kal_change_600', 'M10_raw_10min_slope_lin_reg_signal_300_3 - slope_lin_reg_signal_300_6', 'M10_raw_10min_slope_lin_reg_signal_300_9 - slope_lin_reg_signal_600_3', 'M5_raw_TMF_diff', 'M10_raw_10min_slope_signal_600_9 - slope_signal_900_6', 'M10_raw_10min_EMA_15_diff', 'M10_raw_10min_slope_angle_300_3', 'M5_raw_KO_diff', 'M10_raw_10min_slope_signal_300_3 - slope_signal_600_9', 'M10_raw_10min_slope_lin_reg_signal_900_3 - slope_lin_reg_signal_900_9', 'M5_raw_slope_signal_300_3 - slope_signal_600_9', 'M5_scale_slope_div_300_6', 'M10_raw_10min_CCI_20', 'M10_raw_10min_slope_lin_reg_signal_600_9', 'M5_raw_slope_signal_300_3 - slope_signal_900_3', 'M10_scale_10min_EFI_diff', 'M5_raw_CCI_20', 'M10_raw_10min_slope_lin_reg_signal_900_3 - slope_lin_reg_signal_900_6', 'M5_raw_slope_lin_reg_signal_600_6 - slope_lin_reg_signal_900_3', 'M10_scale_10min_EOM_diff', 'M10_raw_10min_slope_signal_300_9 - slope_signal_900_9', 'M10_raw_10min_OBV_basic_diff', 'M10_raw_10min_slope_signal_300_6 - slope_signal_900_9', 'M10_scale_10min_ATR_14', 'M5_scale_EOM_diff', 'M10_raw_10min_EFI', 'M10_raw_10min_MACD_12_26_9', 'M10_raw_10min_slope_lin_reg_signal_600_3 - slope_lin_reg_signal_900_3', 'M5_raw_RSI_basic_14', 'M5_raw_slope_signal_300_6', 'M10_raw_10min_slope_div_300_3_diff', 'M10_raw_10min_slope_lin_reg_signal_600_3_diff', 'M5_raw_PVI_diff', 'M10_scale_10min_VWAP_basic', 'M10_raw_10min_BB_upper_20_diff', 'M10_raw_10min_PVI_diff', 'M5_raw_slope_lin_reg_signal_300_6_diff', 'M10_raw_10min_VWAP_basic_diff', 'M10_scale_10min_BB_upper_20', 'M10_raw_10min_BB_middle_20_diff', 'M5_raw_BB_middle_20_diff', 'M10_raw_10min_slope_signal_600_3 - slope_signal_900_6', 'M5_raw_slope_signal_300_3 - slope_signal_300_6', 'M5_raw_slope_lin_reg_signal_600_3 - slope_lin_reg_signal_900_6', 'M5_raw_slope_signal_600_3_diff', 'M10_raw_10min_slope_angle_900_6_diff', 'M10_raw_10min_slope_signal_300_6 - slope_signal_600_6', 'M10_raw_10min_slope_lin_reg_signal_600_6 - slope_lin_reg_signal_900_9', 'M5_raw_slope_lin_reg_signal_300_3_diff', 'M10_scale_10min_BB_upper_20_diff', 'M5_raw_WilliamsR_14', 'M10_raw_10min_CMF_diff', 'M5_raw_slope_signal_900_6_diff', 'M10_raw_10min_slope_div_300_6 - slope_div_300_9', 'M5_raw_EFI_diff', 'M5_scale_PVI_diff', 'M5_scale_EMA_15_diff', 'M10_scale_10min_VWAP_basic_diff', 'M10_raw_10min_slope_signal_600_6_diff', 'M10_scale_10min_BB_middle_20_diff', 'M10_raw_10min_slope_lin_reg_signal_300_9 - slope_lin_reg_signal_600_9', 'M5_raw_slope_signal_300_3 - slope_signal_600_3', 'M10_raw_10min_MACD_signal_12_26_9_diff', 'M10_raw_10min_slope_angle_300_3 - slope_angle_600_6', 'M5_scale_VWAP_basic', 'M5_scale_EMA_100_above_EMA_200', 'M10_scale_10min_EMA_15_above_EMA_100', 'M10_raw_10min_TMF', 'M10_raw_10min_slope_lin_reg_signal_600_9_diff', 'M10_scale_10min_MACD_signal_12_26_9_diff', 'M5_scale_EFI_diff', 'M10_raw_10min_slope_signal_600_3_diff', 'M10_raw_10min_slope_signal_300_3 - slope_signal_300_9', 'M10_raw_10min_slope_lin_reg_signal_600_6 - slope_lin_reg_signal_600_9', 'M5_raw_slope_signal_600_3 - slope_signal_600_6', 'M5_raw_WAD_diff', 'M5_raw_MFI_3', 'M10_raw_10min_slope_signal_900_9', 'M10_scale_10min_Market_Facilitation_Index_diff', 'M5_raw_slope_angle_300_6_diff', 'M10_raw_10min_EOM', 'M10_raw_10min_slope_lin_reg_signal_900_3_diff', 'M10_raw_10min_slope_signal_900_3_diff', 'M5_raw_slope_lin_reg_signal_900_3_diff', 'M5_raw_slope_lin_reg_signal_900_9', 'M10_raw_10min_slope_signal_900_9_diff', 'M10_raw_10min_RSI_7 - RSI_14', 'M10_raw_10min_slope_div_300_3 - slope_div_600_6', 'M5_scale_slope_lin_reg_300_3_diff', 'M10_raw_10min_slope_lin_reg_signal_300_6 - slope_lin_reg_signal_600_9', 'M10_raw_10min_slope_signal_600_3 - slope_signal_600_6', 'M5_raw_slope_angle_300_6 - slope_angle_600_6', 'M5_raw_OBV_basic_diff', 'M10_scale_10min_EMA_50_above_EMA_100', 'M5_raw_slope_angle_300_6', 'M10_raw_10min_slope_signal_600_6', 'M10_raw_10min_MACD_12_26_9_diff', 'M10_raw_10min_slope_div_300_6_diff', 'M5_raw_slope_lin_reg_signal_600_6 - slope_lin_reg_signal_600_9', 'M5_raw_slope_signal_300_3 - slope_signal_600_6', 'M10_scale_10min_WAD', 'M10_scale_10min_Market_Facilitation_Index', 'M10_scale_10min_AD_Line', 'M10_raw_10min_MFI_3 - MFI_14', 'M10_scale_10min_BB_lower_20_diff', 'M10_raw_10min_Kal_300_minus_Kal_600', 'M10_raw_10min_slope_angle_600_6_diff', 'M5_scale_slope_div_300_3', 'M10_raw_10min_slope_angle_300_6 - slope_angle_300_9', 'M5_scale_ADX_14', 'M5_raw_slope_lin_reg_signal_600_3 - slope_lin_reg_signal_600_9', 'M5_raw_slope_lin_reg_signal_300_9 - slope_lin_reg_signal_900_9', 'M5_raw_Kal_600_minus_Kal_900', 'M5_raw_Momentum_10', 'M10_raw_10min_slope_div_300_3 - slope_div_900_6', 'M10_raw_10min_slope_angle_300_3 - slope_angle_300_9', 'M5_raw_MACD_12_26_9', 'M10_scale_10min_Momentum_10', 'M5_raw_BB_lower_20_diff', 'M5_scale_VWAP_basic_diff', 'M10_scale_10min_EMA_21_above_EMA_50', 'M10_raw_10min_slope_angle_300_3 - slope_angle_600_3', 'M5_raw_slope_lin_reg_signal_900_6 - slope_lin_reg_signal_900_9', 'M5_raw_Stoch_D_14_3_3_diff', 'M10_raw_10min_MFI_3 - MFI_7', 'M10_raw_10min_slope_angle_300_6_diff', 'M10_raw_10min_slope_angle_600_9_diff', 'M10_raw_10min_slope_lin_reg_300_3 - slope_lin_reg_600_9', 'M5_scale_ATR_14', 'M10_raw_10min_slope_angle_300_9_diff', 'M5_raw_CMF', 'M5_raw_slope_signal_600_3 - slope_signal_900_3', 'M10_raw_10min_slope_angle_600_6 - slope_angle_900_6', 'M10_raw_10min_slope_lin_reg_signal_600_6 - slope_lin_reg_signal_900_3', 'M10_raw_10min_NVI_diff', 'M10_raw_10min_BB_lower_20_diff', 'M10_raw_10min_slope_signal_600_9 - slope_signal_900_9', 'M5_raw_EOM_diff', 'M5_scale_BB_upper_20', 'M10_raw_10min_slope_angle_300_3 - slope_angle_300_6', 'M5_raw_slope_signal_300_6 - slope_signal_900_9', 'M5_scale_VPT', 'M5_raw_ADX_14', 'M5_scale_slope_div_300_9 - slope_div_600_9', 'M10_raw_10min_Momentum_10', 'M10_raw_10min_MFI_3_diff', 'M5_scale_Kal_change_300', 'M10_raw_10min_Market_Facilitation_Index_diff', 'M10_raw_10min_slope_angle_300_6 - slope_angle_600_6', 'M10_raw_10min_slope_lin_reg_signal_300_3 - slope_lin_reg_signal_300_9', 'M5_raw_slope_lin_reg_signal_300_6 - slope_lin_reg_signal_600_9', 'M5_scale_slope_lin_reg_600_9_diff', 'M10_raw_10min_slope_lin_reg_signal_600_9 - slope_lin_reg_signal_900_6', 'M10_raw_10min_slope_angle_600_3 - slope_angle_900_3', 'M5_scale_BB_middle_20_diff', 'M10_raw_10min_slope_lin_reg_signal_600_9 - slope_lin_reg_signal_900_3', 'M5_raw_slope_angle_300_6 - slope_angle_300_9', 'M5_raw_slope_lin_reg_300_3_diff', 'M10_raw_10min_slope_signal_900_6 - slope_signal_900_9', 'M5_scale_slope_lin_reg_600_6_diff', 'M10_raw_10min_slope_signal_300_3 - slope_signal_600_6', 'M5_scale_EMA_50_above_EMA_200', 'M10_scale_10min_VPT', 'M10_raw_10min_MFI_3', 'M10_scale_10min_EMA_100_above_EMA_200', 'M5_raw_slope_signal_300_3 - slope_signal_900_9', 'M5_raw_slope_lin_reg_signal_300_9_diff', 'M5_raw_slope_signal_300_9 - slope_signal_600_9', 'M10_raw_10min_slope_angle_300_3 - slope_angle_900_6', 'M5_raw_slope_lin_reg_300_6_diff', 'M5_scale_slope_lin_reg_300_6_diff', 'M5_raw_ATR_14', 'M10_scale_10min_EFI', 'M5_raw_EOM', 'M5_raw_VFI_diff', 'M10_raw_10min_slope_div_300_9 - slope_div_600_9', 'M10_raw_10min_slope_signal_300_9_diff', 'M5_raw_slope_div_300_3', 'M5_scale_EMA_21_above_EMA_100', 'M5_raw_CMF_diff', 'M5_raw_slope_signal_300_6 - slope_signal_900_6', 'M10_raw_10min_slope_lin_reg_signal_600_6 - slope_lin_reg_signal_900_6', 'M5_raw_Market_Facilitation_Index_diff', 'M5_raw_VFI', 'M10_raw_10min_MFI_basic_14_diff', 'M10_scale_10min_ADX_14', 'M5_raw_NVI_diff', 'M5_scale_Market_Facilitation_Index_diff', 'M10_raw_10min_slope_angle_300_3 - slope_angle_600_9', 'M10_scale_10min_EMA_21_above_EMA_100', 'M5_raw_slope_lin_reg_300_3 - slope_lin_reg_600_9', 'M5_raw_TMF', 'M5_raw_slope_angle_300_9 - slope_angle_600_9', 'M5_raw_slope_div_900_3', 'M5_scale_slope_div_300_3 - slope_div_600_6', 'M10_raw_10min_slope_div_300_3 - slope_div_600_9', 'M5_raw_slope_signal_300_3 - slope_signal_900_6', 'M5_raw_MFI_3 - MFI_7', 'M5_scale_Momentum_10', 'M10_raw_10min_VFI', 'M5_scale_slope_div_300_6 - slope_div_900_9', 'M5_scale_Market_Facilitation_Index', 'M10_raw_10min_slope_angle_600_6 - slope_angle_600_9', 'M10_raw_10min_MFI_7 - MFI_14', 'M10_raw_10min_slope_angle_300_6 - slope_angle_600_9', 'M5_raw_slope_lin_reg_300_3 - slope_lin_reg_600_3', 'M10_scale_10min_VFI', 'M10_raw_10min_MFI_7', 'M10_raw_10min_Kal_600_minus_Kal_900', 'M5_scale_EMA_50_above_EMA_100', 'M5_scale_EMA_21_above_EMA_50', 'M5_raw_slope_signal_300_9 - slope_signal_900_9', 'M5_raw_Stoch_D_14_3_3', 'M5_raw_MACD_signal_12_26_9_diff', 'M10_scale_10min_OBV_basic', 'M5_raw_Kal_prev2_minus_now_300', 'M5_raw_slope_lin_reg_signal_300_9 - slope_lin_reg_signal_600_3', 'M5_scale_slope_div_300_3 - slope_div_300_6', 'M10_raw_10min_slope_lin_reg_signal_300_3 - slope_lin_reg_signal_900_6', 'M10_raw_10min_slope_lin_reg_signal_300_9_diff', 'M5_raw_slope_angle_600_9 - slope_angle_900_9', 'M10_raw_10min_Stoch_D_14_3_3_diff', 'M10_raw_10min_KO', 'M5_raw_slope_lin_reg_900_3_diff', 'M10_raw_10min_slope_div_300_6 - slope_div_900_9', 'M5_raw_MFI_basic_14_diff', 'M10_raw_10min_slope_div_300_6 - slope_div_600_9', 'M5_raw_slope_angle_300_3 - slope_angle_900_6', 'M5_scale_EFI', 'M5_raw_slope_lin_reg_signal_300_3 - slope_lin_reg_signal_300_9', 'M10_raw_10min_MFI_7_diff', 'M5_raw_slope_signal_300_9_diff', 'M10_raw_10min_slope_div_300_3 - slope_div_300_6', 'M10_raw_10min_slope_angle_900_9_diff', 'M5_scale_slope_div_300_6 - slope_div_600_9', 'M10_raw_10min_Momentum_10_diff', 'M5_raw_MFI_7 - MFI_14', 'M10_raw_10min_slope_signal_300_6 - slope_signal_600_9', 'M10_raw_10min_VFI_diff', 'M5_scale_slope_div_600_3', 'M5_raw_slope_signal_600_6_diff', 'M10_raw_10min_slope_angle_600_3 - slope_angle_600_6', 'M5_raw_slope_angle_600_6_diff', 'M5_raw_ADX_14_diff', 'M5_raw_slope_lin_reg_600_3_diff', 'M10_raw_10min_slope_angle_300_9 - slope_angle_600_9', 'M10_raw_10min_ADX_14_diff', 'M10_raw_10min_CMF', 'M5_raw_VWAP_basic_diff', 'M10_raw_10min_slope_angle_600_9 - slope_angle_900_9', 'M10_scale_10min_NVI', 'M5_raw_slope_angle_300_6 - slope_angle_900_9', 'M5_raw_slope_signal_300_9 - slope_signal_600_6', 'M5_raw_slope_lin_reg_signal_300_3 - slope_lin_reg_signal_300_6', 'M5_scale_AD_Line', 'M5_raw_BB_upper_20_diff', 'M5_raw_KO', 'M5_scale_KO', 'M5_raw_OBV_basic', 'M5_raw_slope_signal_300_3 - slope_signal_300_9', 'M10_raw_10min_slope_signal_300_9 - slope_signal_600_6', 'M5_raw_MFI_basic_14', 'M5_raw_slope_lin_reg_signal_900_3 - slope_lin_reg_signal_900_6', 'M5_raw_slope_signal_600_6 - slope_signal_600_9', 'M10_raw_10min_Market_Facilitation_Index', 'M10_raw_10min_Stoch_K_14_3_3', 'M5_raw_slope_lin_reg_signal_900_3 - slope_lin_reg_signal_900_9', 'M5_scale_MACD_12_26_9', 'M5_raw_slope_lin_reg_signal_600_3', 'M5_raw_MFI_7', 'M5_raw_BB_upper_20', 'M10_raw_10min_ADX_14', 'M5_raw_Kal_300_minus_Kal_600', 'M10_scale_10min_PVI', 'M10_raw_10min_MFI_basic_14', 'M10_scale_10min_EMA_15_above_EMA_200', 'M10_raw_10min_slope_lin_reg_signal_300_9 - slope_lin_reg_signal_900_9', 'M5_raw_slope_lin_reg_signal_300_6 - slope_lin_reg_signal_900_9', 'M5_scale_EMA_15_above_EMA_200', 'M5_scale_NVI', 'M10_scale_10min_EMA_15_above_EMA_50', 'M5_scale_slope_lin_reg_300_3 - slope_lin_reg_600_9', 'M5_scale_BB_upper_20_diff'] \n",
            "\n",
            "Shape =  (67666, 341)\n"
          ]
        },
        {
          "output_type": "execute_result",
          "data": {
            "text/plain": [
              "                     label  M10_raw_10min_RSI_basic_14_diff  \\\n",
              "Date                                                          \n",
              "2025-07-25 22:30:00      1                        -1.345116   \n",
              "2025-07-25 23:30:00      0                         6.612851   \n",
              "2025-07-25 23:45:00      0                         6.612851   \n",
              "\n",
              "                     M10_scale_10min_ATR_14_diff  Open_Trade  \\\n",
              "Date                                                           \n",
              "2025-07-25 22:30:00                    -0.879775        -1.0   \n",
              "2025-07-25 23:30:00                     0.154830         1.0   \n",
              "2025-07-25 23:45:00                     0.154830        -1.0   \n",
              "\n",
              "                     M5_scale_MACD_12_26_9_diff  M10_raw_10min_RSI_3  \\\n",
              "Date                                                                   \n",
              "2025-07-25 22:30:00                   -0.708960            65.226955   \n",
              "2025-07-25 23:30:00                    0.256442            71.770505   \n",
              "2025-07-25 23:45:00                   -0.954115            71.770505   \n",
              "\n",
              "                     M5_raw_Kal_change_300  \\\n",
              "Date                                         \n",
              "2025-07-25 22:30:00              -0.057750   \n",
              "2025-07-25 23:30:00               0.008206   \n",
              "2025-07-25 23:45:00              -0.086783   \n",
              "\n",
              "                     M10_raw_10min_slope_lin_reg_signal_900_3  \\\n",
              "Date                                                            \n",
              "2025-07-25 22:30:00                                       1.0   \n",
              "2025-07-25 23:30:00                                       0.0   \n",
              "2025-07-25 23:45:00                                       0.0   \n",
              "\n",
              "                     M10_raw_10min_CCI_20_diff  M5_raw_MACD_12_26_9_diff  ...  \\\n",
              "Date                                                                      ...   \n",
              "2025-07-25 22:30:00                  -9.428726                 -0.090988  ...   \n",
              "2025-07-25 23:30:00                  41.890796                  0.048871  ...   \n",
              "2025-07-25 23:45:00                  41.890796                 -0.135943  ...   \n",
              "\n",
              "                     M10_scale_10min_PVI  M10_raw_10min_MFI_basic_14  \\\n",
              "Date                                                                   \n",
              "2025-07-25 22:30:00             0.239228                   84.714599   \n",
              "2025-07-25 23:30:00             0.074453                   47.901027   \n",
              "2025-07-25 23:45:00             0.074453                   47.901027   \n",
              "\n",
              "                     M10_scale_10min_EMA_15_above_EMA_200  \\\n",
              "Date                                                        \n",
              "2025-07-25 22:30:00                             -0.159727   \n",
              "2025-07-25 23:30:00                             -0.159727   \n",
              "2025-07-25 23:45:00                             -0.159727   \n",
              "\n",
              "                     M10_raw_10min_slope_lin_reg_signal_300_9 - slope_lin_reg_signal_900_9  \\\n",
              "Date                                                                                         \n",
              "2025-07-25 22:30:00                                                1.0                       \n",
              "2025-07-25 23:30:00                                                0.0                       \n",
              "2025-07-25 23:45:00                                                0.0                       \n",
              "\n",
              "                     M5_raw_slope_lin_reg_signal_300_6 - slope_lin_reg_signal_900_9  \\\n",
              "Date                                                                                  \n",
              "2025-07-25 22:30:00                                                0.0                \n",
              "2025-07-25 23:30:00                                                0.0                \n",
              "2025-07-25 23:45:00                                                0.0                \n",
              "\n",
              "                     M5_scale_EMA_15_above_EMA_200  M5_scale_NVI  \\\n",
              "Date                                                               \n",
              "2025-07-25 22:30:00                      -0.189969     -1.224465   \n",
              "2025-07-25 23:30:00                      -0.189969     -0.804286   \n",
              "2025-07-25 23:45:00                      -0.189969     -0.810368   \n",
              "\n",
              "                     M10_scale_10min_EMA_15_above_EMA_50  \\\n",
              "Date                                                       \n",
              "2025-07-25 22:30:00                            -0.498748   \n",
              "2025-07-25 23:30:00                            -0.498748   \n",
              "2025-07-25 23:45:00                            -0.498748   \n",
              "\n",
              "                     M5_scale_slope_lin_reg_300_3 - slope_lin_reg_600_9  \\\n",
              "Date                                                                      \n",
              "2025-07-25 22:30:00                                           0.520700    \n",
              "2025-07-25 23:30:00                                           0.851948    \n",
              "2025-07-25 23:45:00                                           0.604017    \n",
              "\n",
              "                     M5_scale_BB_upper_20_diff  \n",
              "Date                                            \n",
              "2025-07-25 22:30:00                  -0.123374  \n",
              "2025-07-25 23:30:00                   0.201666  \n",
              "2025-07-25 23:45:00                   0.283175  \n",
              "\n",
              "[3 rows x 341 columns]"
            ],
            "text/html": [
              "\n",
              "  <div id=\"df-3613923b-6368-4c92-b292-1434b59fc0be\" class=\"colab-df-container\">\n",
              "    <div>\n",
              "<style scoped>\n",
              "    .dataframe tbody tr th:only-of-type {\n",
              "        vertical-align: middle;\n",
              "    }\n",
              "\n",
              "    .dataframe tbody tr th {\n",
              "        vertical-align: top;\n",
              "    }\n",
              "\n",
              "    .dataframe thead th {\n",
              "        text-align: right;\n",
              "    }\n",
              "</style>\n",
              "<table border=\"1\" class=\"dataframe\">\n",
              "  <thead>\n",
              "    <tr style=\"text-align: right;\">\n",
              "      <th></th>\n",
              "      <th>label</th>\n",
              "      <th>M10_raw_10min_RSI_basic_14_diff</th>\n",
              "      <th>M10_scale_10min_ATR_14_diff</th>\n",
              "      <th>Open_Trade</th>\n",
              "      <th>M5_scale_MACD_12_26_9_diff</th>\n",
              "      <th>M10_raw_10min_RSI_3</th>\n",
              "      <th>M5_raw_Kal_change_300</th>\n",
              "      <th>M10_raw_10min_slope_lin_reg_signal_900_3</th>\n",
              "      <th>M10_raw_10min_CCI_20_diff</th>\n",
              "      <th>M5_raw_MACD_12_26_9_diff</th>\n",
              "      <th>...</th>\n",
              "      <th>M10_scale_10min_PVI</th>\n",
              "      <th>M10_raw_10min_MFI_basic_14</th>\n",
              "      <th>M10_scale_10min_EMA_15_above_EMA_200</th>\n",
              "      <th>M10_raw_10min_slope_lin_reg_signal_300_9 - slope_lin_reg_signal_900_9</th>\n",
              "      <th>M5_raw_slope_lin_reg_signal_300_6 - slope_lin_reg_signal_900_9</th>\n",
              "      <th>M5_scale_EMA_15_above_EMA_200</th>\n",
              "      <th>M5_scale_NVI</th>\n",
              "      <th>M10_scale_10min_EMA_15_above_EMA_50</th>\n",
              "      <th>M5_scale_slope_lin_reg_300_3 - slope_lin_reg_600_9</th>\n",
              "      <th>M5_scale_BB_upper_20_diff</th>\n",
              "    </tr>\n",
              "    <tr>\n",
              "      <th>Date</th>\n",
              "      <th></th>\n",
              "      <th></th>\n",
              "      <th></th>\n",
              "      <th></th>\n",
              "      <th></th>\n",
              "      <th></th>\n",
              "      <th></th>\n",
              "      <th></th>\n",
              "      <th></th>\n",
              "      <th></th>\n",
              "      <th></th>\n",
              "      <th></th>\n",
              "      <th></th>\n",
              "      <th></th>\n",
              "      <th></th>\n",
              "      <th></th>\n",
              "      <th></th>\n",
              "      <th></th>\n",
              "      <th></th>\n",
              "      <th></th>\n",
              "      <th></th>\n",
              "    </tr>\n",
              "  </thead>\n",
              "  <tbody>\n",
              "    <tr>\n",
              "      <th>2025-07-25 22:30:00</th>\n",
              "      <td>1</td>\n",
              "      <td>-1.345116</td>\n",
              "      <td>-0.879775</td>\n",
              "      <td>-1.0</td>\n",
              "      <td>-0.708960</td>\n",
              "      <td>65.226955</td>\n",
              "      <td>-0.057750</td>\n",
              "      <td>1.0</td>\n",
              "      <td>-9.428726</td>\n",
              "      <td>-0.090988</td>\n",
              "      <td>...</td>\n",
              "      <td>0.239228</td>\n",
              "      <td>84.714599</td>\n",
              "      <td>-0.159727</td>\n",
              "      <td>1.0</td>\n",
              "      <td>0.0</td>\n",
              "      <td>-0.189969</td>\n",
              "      <td>-1.224465</td>\n",
              "      <td>-0.498748</td>\n",
              "      <td>0.520700</td>\n",
              "      <td>-0.123374</td>\n",
              "    </tr>\n",
              "    <tr>\n",
              "      <th>2025-07-25 23:30:00</th>\n",
              "      <td>0</td>\n",
              "      <td>6.612851</td>\n",
              "      <td>0.154830</td>\n",
              "      <td>1.0</td>\n",
              "      <td>0.256442</td>\n",
              "      <td>71.770505</td>\n",
              "      <td>0.008206</td>\n",
              "      <td>0.0</td>\n",
              "      <td>41.890796</td>\n",
              "      <td>0.048871</td>\n",
              "      <td>...</td>\n",
              "      <td>0.074453</td>\n",
              "      <td>47.901027</td>\n",
              "      <td>-0.159727</td>\n",
              "      <td>0.0</td>\n",
              "      <td>0.0</td>\n",
              "      <td>-0.189969</td>\n",
              "      <td>-0.804286</td>\n",
              "      <td>-0.498748</td>\n",
              "      <td>0.851948</td>\n",
              "      <td>0.201666</td>\n",
              "    </tr>\n",
              "    <tr>\n",
              "      <th>2025-07-25 23:45:00</th>\n",
              "      <td>0</td>\n",
              "      <td>6.612851</td>\n",
              "      <td>0.154830</td>\n",
              "      <td>-1.0</td>\n",
              "      <td>-0.954115</td>\n",
              "      <td>71.770505</td>\n",
              "      <td>-0.086783</td>\n",
              "      <td>0.0</td>\n",
              "      <td>41.890796</td>\n",
              "      <td>-0.135943</td>\n",
              "      <td>...</td>\n",
              "      <td>0.074453</td>\n",
              "      <td>47.901027</td>\n",
              "      <td>-0.159727</td>\n",
              "      <td>0.0</td>\n",
              "      <td>0.0</td>\n",
              "      <td>-0.189969</td>\n",
              "      <td>-0.810368</td>\n",
              "      <td>-0.498748</td>\n",
              "      <td>0.604017</td>\n",
              "      <td>0.283175</td>\n",
              "    </tr>\n",
              "  </tbody>\n",
              "</table>\n",
              "<p>3 rows × 341 columns</p>\n",
              "</div>\n",
              "    <div class=\"colab-df-buttons\">\n",
              "\n",
              "  <div class=\"colab-df-container\">\n",
              "    <button class=\"colab-df-convert\" onclick=\"convertToInteractive('df-3613923b-6368-4c92-b292-1434b59fc0be')\"\n",
              "            title=\"Convert this dataframe to an interactive table.\"\n",
              "            style=\"display:none;\">\n",
              "\n",
              "  <svg xmlns=\"http://www.w3.org/2000/svg\" height=\"24px\" viewBox=\"0 -960 960 960\">\n",
              "    <path d=\"M120-120v-720h720v720H120Zm60-500h600v-160H180v160Zm220 220h160v-160H400v160Zm0 220h160v-160H400v160ZM180-400h160v-160H180v160Zm440 0h160v-160H620v160ZM180-180h160v-160H180v160Zm440 0h160v-160H620v160Z\"/>\n",
              "  </svg>\n",
              "    </button>\n",
              "\n",
              "  <style>\n",
              "    .colab-df-container {\n",
              "      display:flex;\n",
              "      gap: 12px;\n",
              "    }\n",
              "\n",
              "    .colab-df-convert {\n",
              "      background-color: #E8F0FE;\n",
              "      border: none;\n",
              "      border-radius: 50%;\n",
              "      cursor: pointer;\n",
              "      display: none;\n",
              "      fill: #1967D2;\n",
              "      height: 32px;\n",
              "      padding: 0 0 0 0;\n",
              "      width: 32px;\n",
              "    }\n",
              "\n",
              "    .colab-df-convert:hover {\n",
              "      background-color: #E2EBFA;\n",
              "      box-shadow: 0px 1px 2px rgba(60, 64, 67, 0.3), 0px 1px 3px 1px rgba(60, 64, 67, 0.15);\n",
              "      fill: #174EA6;\n",
              "    }\n",
              "\n",
              "    .colab-df-buttons div {\n",
              "      margin-bottom: 4px;\n",
              "    }\n",
              "\n",
              "    [theme=dark] .colab-df-convert {\n",
              "      background-color: #3B4455;\n",
              "      fill: #D2E3FC;\n",
              "    }\n",
              "\n",
              "    [theme=dark] .colab-df-convert:hover {\n",
              "      background-color: #434B5C;\n",
              "      box-shadow: 0px 1px 3px 1px rgba(0, 0, 0, 0.15);\n",
              "      filter: drop-shadow(0px 1px 2px rgba(0, 0, 0, 0.3));\n",
              "      fill: #FFFFFF;\n",
              "    }\n",
              "  </style>\n",
              "\n",
              "    <script>\n",
              "      const buttonEl =\n",
              "        document.querySelector('#df-3613923b-6368-4c92-b292-1434b59fc0be button.colab-df-convert');\n",
              "      buttonEl.style.display =\n",
              "        google.colab.kernel.accessAllowed ? 'block' : 'none';\n",
              "\n",
              "      async function convertToInteractive(key) {\n",
              "        const element = document.querySelector('#df-3613923b-6368-4c92-b292-1434b59fc0be');\n",
              "        const dataTable =\n",
              "          await google.colab.kernel.invokeFunction('convertToInteractive',\n",
              "                                                    [key], {});\n",
              "        if (!dataTable) return;\n",
              "\n",
              "        const docLinkHtml = 'Like what you see? Visit the ' +\n",
              "          '<a target=\"_blank\" href=https://colab.research.google.com/notebooks/data_table.ipynb>data table notebook</a>'\n",
              "          + ' to learn more about interactive tables.';\n",
              "        element.innerHTML = '';\n",
              "        dataTable['output_type'] = 'display_data';\n",
              "        await google.colab.output.renderOutput(dataTable, element);\n",
              "        const docLink = document.createElement('div');\n",
              "        docLink.innerHTML = docLinkHtml;\n",
              "        element.appendChild(docLink);\n",
              "      }\n",
              "    </script>\n",
              "  </div>\n",
              "\n",
              "\n",
              "    <div id=\"df-9c093501-d353-403a-8f34-45890ad07e4c\">\n",
              "      <button class=\"colab-df-quickchart\" onclick=\"quickchart('df-9c093501-d353-403a-8f34-45890ad07e4c')\"\n",
              "                title=\"Suggest charts\"\n",
              "                style=\"display:none;\">\n",
              "\n",
              "<svg xmlns=\"http://www.w3.org/2000/svg\" height=\"24px\"viewBox=\"0 0 24 24\"\n",
              "     width=\"24px\">\n",
              "    <g>\n",
              "        <path d=\"M19 3H5c-1.1 0-2 .9-2 2v14c0 1.1.9 2 2 2h14c1.1 0 2-.9 2-2V5c0-1.1-.9-2-2-2zM9 17H7v-7h2v7zm4 0h-2V7h2v10zm4 0h-2v-4h2v4z\"/>\n",
              "    </g>\n",
              "</svg>\n",
              "      </button>\n",
              "\n",
              "<style>\n",
              "  .colab-df-quickchart {\n",
              "      --bg-color: #E8F0FE;\n",
              "      --fill-color: #1967D2;\n",
              "      --hover-bg-color: #E2EBFA;\n",
              "      --hover-fill-color: #174EA6;\n",
              "      --disabled-fill-color: #AAA;\n",
              "      --disabled-bg-color: #DDD;\n",
              "  }\n",
              "\n",
              "  [theme=dark] .colab-df-quickchart {\n",
              "      --bg-color: #3B4455;\n",
              "      --fill-color: #D2E3FC;\n",
              "      --hover-bg-color: #434B5C;\n",
              "      --hover-fill-color: #FFFFFF;\n",
              "      --disabled-bg-color: #3B4455;\n",
              "      --disabled-fill-color: #666;\n",
              "  }\n",
              "\n",
              "  .colab-df-quickchart {\n",
              "    background-color: var(--bg-color);\n",
              "    border: none;\n",
              "    border-radius: 50%;\n",
              "    cursor: pointer;\n",
              "    display: none;\n",
              "    fill: var(--fill-color);\n",
              "    height: 32px;\n",
              "    padding: 0;\n",
              "    width: 32px;\n",
              "  }\n",
              "\n",
              "  .colab-df-quickchart:hover {\n",
              "    background-color: var(--hover-bg-color);\n",
              "    box-shadow: 0 1px 2px rgba(60, 64, 67, 0.3), 0 1px 3px 1px rgba(60, 64, 67, 0.15);\n",
              "    fill: var(--button-hover-fill-color);\n",
              "  }\n",
              "\n",
              "  .colab-df-quickchart-complete:disabled,\n",
              "  .colab-df-quickchart-complete:disabled:hover {\n",
              "    background-color: var(--disabled-bg-color);\n",
              "    fill: var(--disabled-fill-color);\n",
              "    box-shadow: none;\n",
              "  }\n",
              "\n",
              "  .colab-df-spinner {\n",
              "    border: 2px solid var(--fill-color);\n",
              "    border-color: transparent;\n",
              "    border-bottom-color: var(--fill-color);\n",
              "    animation:\n",
              "      spin 1s steps(1) infinite;\n",
              "  }\n",
              "\n",
              "  @keyframes spin {\n",
              "    0% {\n",
              "      border-color: transparent;\n",
              "      border-bottom-color: var(--fill-color);\n",
              "      border-left-color: var(--fill-color);\n",
              "    }\n",
              "    20% {\n",
              "      border-color: transparent;\n",
              "      border-left-color: var(--fill-color);\n",
              "      border-top-color: var(--fill-color);\n",
              "    }\n",
              "    30% {\n",
              "      border-color: transparent;\n",
              "      border-left-color: var(--fill-color);\n",
              "      border-top-color: var(--fill-color);\n",
              "      border-right-color: var(--fill-color);\n",
              "    }\n",
              "    40% {\n",
              "      border-color: transparent;\n",
              "      border-right-color: var(--fill-color);\n",
              "      border-top-color: var(--fill-color);\n",
              "    }\n",
              "    60% {\n",
              "      border-color: transparent;\n",
              "      border-right-color: var(--fill-color);\n",
              "    }\n",
              "    80% {\n",
              "      border-color: transparent;\n",
              "      border-right-color: var(--fill-color);\n",
              "      border-bottom-color: var(--fill-color);\n",
              "    }\n",
              "    90% {\n",
              "      border-color: transparent;\n",
              "      border-bottom-color: var(--fill-color);\n",
              "    }\n",
              "  }\n",
              "</style>\n",
              "\n",
              "      <script>\n",
              "        async function quickchart(key) {\n",
              "          const quickchartButtonEl =\n",
              "            document.querySelector('#' + key + ' button');\n",
              "          quickchartButtonEl.disabled = true;  // To prevent multiple clicks.\n",
              "          quickchartButtonEl.classList.add('colab-df-spinner');\n",
              "          try {\n",
              "            const charts = await google.colab.kernel.invokeFunction(\n",
              "                'suggestCharts', [key], {});\n",
              "          } catch (error) {\n",
              "            console.error('Error during call to suggestCharts:', error);\n",
              "          }\n",
              "          quickchartButtonEl.classList.remove('colab-df-spinner');\n",
              "          quickchartButtonEl.classList.add('colab-df-quickchart-complete');\n",
              "        }\n",
              "        (() => {\n",
              "          let quickchartButtonEl =\n",
              "            document.querySelector('#df-9c093501-d353-403a-8f34-45890ad07e4c button');\n",
              "          quickchartButtonEl.style.display =\n",
              "            google.colab.kernel.accessAllowed ? 'block' : 'none';\n",
              "        })();\n",
              "      </script>\n",
              "    </div>\n",
              "\n",
              "    </div>\n",
              "  </div>\n"
            ],
            "application/vnd.google.colaboratory.intrinsic+json": {
              "type": "dataframe"
            }
          },
          "metadata": {},
          "execution_count": 17
        }
      ],
      "source": [
        "### Features\n",
        "\n",
        "features_5m = pd.read_csv(root_data + 'Results/'+symbol+'_'+direction+'_M5M10_'+data_type+'_Features.csv', index_col=0)\n",
        "features_5m['Date'] = features_5m.index\n",
        "features_5m['Date'] = pd.to_datetime(features_5m['Date'])\n",
        "features_5m.set_index(\"Date\", inplace=True)\n",
        "\n",
        "print(list(features_5m.columns),'\\n')\n",
        "print('Shape = ',features_5m.shape)\n",
        "\n",
        "features_5m.tail(3)"
      ]
    },
    {
      "cell_type": "code",
      "execution_count": 18,
      "id": "XM2K_2T22n2k",
      "metadata": {
        "colab": {
          "base_uri": "https://localhost:8080/"
        },
        "id": "XM2K_2T22n2k",
        "outputId": "e04dbff2-ec65-483d-8ebf-da13a1a1f497"
      },
      "outputs": [
        {
          "output_type": "stream",
          "name": "stdout",
          "text": [
            "['Open', 'High', 'Low', 'Close', 'Volume', 'Spread', 'ATR', 'kal_1', 'kal_2', 'kal_3', 'kal_4', 'Open_Trade', 'Entry_Date', 'Type', 'Trade_Number', 'st_Exit_Date', 'trade type', 'st_Duration', 'st_row_PnL_close', 'st_row_PnL_high', 'st_row_PnL_low', 'st_Max', 'st_Min', 'st_PnL', 'st_atr_PnL', 'st_atr_max_PnL'] \n",
            "\n",
            "Shape :  (465718, 26) \n",
            "\n",
            "Missing values (NaN and Inf) in lab sorted by highest to lowest:\n",
            "st_Exit_Date        397946\n",
            "st_Duration         397946\n",
            "st_Max              397946\n",
            "st_Min              397946\n",
            "st_PnL              397946\n",
            "Type                397945\n",
            "Entry_Date          397945\n",
            "Open_Trade          397945\n",
            "st_atr_PnL              18\n",
            "st_atr_max_PnL          18\n",
            "ATR                     14\n",
            "st_row_PnL_high          3\n",
            "st_row_PnL_close         3\n",
            "st_row_PnL_low           3\n",
            "trade type               1\n",
            "Trade_Number             1\n",
            "kal_3                    0\n",
            "High                     0\n",
            "Open                     0\n",
            "kal_2                    0\n",
            "kal_1                    0\n",
            "Spread                   0\n",
            "Close                    0\n",
            "Volume                   0\n",
            "Low                      0\n",
            "kal_4                    0\n",
            "dtype: int64\n",
            "Total missing value count in lab: 3183626\n"
          ]
        }
      ],
      "source": [
        "### Labels\n",
        "\n",
        "lab = pd.read_csv(root_data + 'Results/'+symbol+'_'+strategy+'_'+time_frame+'_Strategy_Gen_Labels.csv', index_col=0)\n",
        "lab['Date'] = pd.to_datetime(lab['Date'])\n",
        "lab.set_index('Date', inplace=True)\n",
        "\n",
        "columns_to_drop = ['st_row_PnL_Low','Close_Trade']\n",
        "lab = lab.drop(columns=columns_to_drop)\n",
        "\n",
        "print(list(lab.columns),'\\n')\n",
        "print('Shape : ',lab.shape,'\\n')\n",
        "\n",
        "nan_counts = lab.isnull().sum()\n",
        "total_missing_counts = nan_counts\n",
        "\n",
        "print(\"Missing values (NaN and Inf) in lab sorted by highest to lowest:\")\n",
        "print(total_missing_counts.sort_values(ascending=False))\n",
        "print(\"Total missing value count in lab:\", total_missing_counts.sum())\n"
      ]
    },
    {
      "cell_type": "code",
      "execution_count": 19,
      "id": "IA2-iSWJ9Udm",
      "metadata": {
        "colab": {
          "base_uri": "https://localhost:8080/"
        },
        "id": "IA2-iSWJ9Udm",
        "outputId": "6efb7ad6-bc22-4a39-fbaa-d88d3741f56b"
      },
      "outputs": [
        {
          "output_type": "stream",
          "name": "stdout",
          "text": [
            "['label', 'M10_raw_10min_RSI_basic_14_diff', 'M10_scale_10min_ATR_14_diff', 'Open_Trade', 'M5_scale_MACD_12_26_9_diff', 'M10_raw_10min_RSI_3', 'M5_raw_Kal_change_300', 'M10_raw_10min_slope_lin_reg_signal_900_3', 'M10_raw_10min_CCI_20_diff', 'M5_raw_MACD_12_26_9_diff', 'M10_raw_10min_slope_signal_900_3', 'M10_raw_10min_slope_lin_reg_signal_900_6', 'M10_raw_10min_slope_lin_reg_signal_600_6', 'M5_raw_slope_signal_900_9', 'M5_scale_ATR_14_diff', 'M5_raw_RSI_basic_14_diff', 'M10_raw_10min_RSI_3 - RSI_7', 'M10_raw_10min_TMF_diff', 'M5_raw_Stoch_K_14_3_3_diff', 'M5_raw_EMA_15_diff', 'M10_raw_10min_KO_diff', 'M5_raw_CCI_20_diff', 'M10_raw_10min_slope_signal_300_3 - slope_signal_600_3', 'M5_raw_slope_lin_reg_signal_300_9', 'M10_raw_10min_slope_lin_reg_signal_900_9', 'M10_raw_10min_ATR_14_diff', 'M10_raw_10min_slope_lin_reg_signal_600_3 - slope_lin_reg_signal_900_9', 'M10_raw_10min_slope_lin_reg_signal_600_9 - slope_lin_reg_signal_900_9', 'M5_raw_RSI_7', 'M5_scale_WAD_diff', 'M5_scale_Kal_600_minus_Kal_900', 'M10_raw_10min_slope_lin_reg_signal_300_3 - slope_lin_reg_signal_900_3', 'M10_raw_10min_EMA_100_above_EMA_200', 'M10_raw_10min_WAD_diff', 'M10_raw_10min_slope_lin_reg_signal_600_6_diff', 'M10_raw_10min_AD_Line_diff', 'M10_raw_10min_slope_lin_reg_signal_300_6 - slope_lin_reg_signal_300_9', 'M10_raw_10min_slope_lin_reg_signal_300_3 - slope_lin_reg_signal_900_9', 'M10_raw_10min_MACD_hist_12_26_9_diff', 'M10_raw_10min_slope_lin_reg_signal_600_3', 'M5_raw_slope_signal_300_3', 'M10_raw_10min_slope_lin_reg_signal_300_6_diff', 'M5_raw_slope_div_300_6', 'M5_raw_ATR_14_diff', 'M10_raw_10min_slope_signal_300_3 - slope_signal_900_9', 'M10_raw_10min_Stoch_K_14_3_3_diff', 'M5_raw_AD_Line_diff', 'M10_raw_10min_slope_lin_reg_signal_600_3 - slope_lin_reg_signal_600_6', 'M10_scale_10min_PVI_diff', 'M10_raw_10min_RSI_basic_14', 'M10_raw_10min_WilliamsR_14', 'M5_raw_slope_lin_reg_signal_300_3', 'M10_raw_10min_EFI_diff', 'M10_scale_10min_Kal_change_600', 'M5_raw_slope_lin_reg_signal_300_6 - slope_lin_reg_signal_900_3', 'M10_raw_10min_slope_lin_reg_signal_300_6 - slope_lin_reg_signal_600_3', 'M10_scale_10min_EMA_15_diff', 'M10_raw_10min_slope_angle_300_3_diff', 'M10_raw_10min_Kal_change_600', 'M10_raw_10min_slope_lin_reg_signal_300_3 - slope_lin_reg_signal_300_6', 'M10_raw_10min_slope_lin_reg_signal_300_9 - slope_lin_reg_signal_600_3', 'M5_raw_TMF_diff', 'M10_raw_10min_slope_signal_600_9 - slope_signal_900_6', 'M10_raw_10min_EMA_15_diff', 'M10_raw_10min_slope_angle_300_3', 'M5_raw_KO_diff', 'M10_raw_10min_slope_signal_300_3 - slope_signal_600_9', 'M10_raw_10min_slope_lin_reg_signal_900_3 - slope_lin_reg_signal_900_9', 'M5_raw_slope_signal_300_3 - slope_signal_600_9', 'M5_scale_slope_div_300_6', 'M10_raw_10min_CCI_20', 'M10_raw_10min_slope_lin_reg_signal_600_9', 'M5_raw_slope_signal_300_3 - slope_signal_900_3', 'M10_scale_10min_EFI_diff', 'M5_raw_CCI_20', 'M10_raw_10min_slope_lin_reg_signal_900_3 - slope_lin_reg_signal_900_6', 'M5_raw_slope_lin_reg_signal_600_6 - slope_lin_reg_signal_900_3', 'M10_scale_10min_EOM_diff', 'M10_raw_10min_slope_signal_300_9 - slope_signal_900_9', 'M10_raw_10min_OBV_basic_diff', 'M10_raw_10min_slope_signal_300_6 - slope_signal_900_9', 'M10_scale_10min_ATR_14', 'M5_scale_EOM_diff', 'M10_raw_10min_EFI', 'M10_raw_10min_MACD_12_26_9', 'M10_raw_10min_slope_lin_reg_signal_600_3 - slope_lin_reg_signal_900_3', 'M5_raw_RSI_basic_14', 'M5_raw_slope_signal_300_6', 'M10_raw_10min_slope_div_300_3_diff', 'M10_raw_10min_slope_lin_reg_signal_600_3_diff', 'M5_raw_PVI_diff', 'M10_scale_10min_VWAP_basic', 'M10_raw_10min_BB_upper_20_diff', 'M10_raw_10min_PVI_diff', 'M5_raw_slope_lin_reg_signal_300_6_diff', 'M10_raw_10min_VWAP_basic_diff', 'M10_scale_10min_BB_upper_20', 'M10_raw_10min_BB_middle_20_diff', 'M5_raw_BB_middle_20_diff', 'M10_raw_10min_slope_signal_600_3 - slope_signal_900_6', 'M5_raw_slope_signal_300_3 - slope_signal_300_6', 'M5_raw_slope_lin_reg_signal_600_3 - slope_lin_reg_signal_900_6', 'M5_raw_slope_signal_600_3_diff', 'M10_raw_10min_slope_angle_900_6_diff', 'M10_raw_10min_slope_signal_300_6 - slope_signal_600_6', 'M10_raw_10min_slope_lin_reg_signal_600_6 - slope_lin_reg_signal_900_9', 'M5_raw_slope_lin_reg_signal_300_3_diff', 'M10_scale_10min_BB_upper_20_diff', 'M5_raw_WilliamsR_14', 'M10_raw_10min_CMF_diff', 'M5_raw_slope_signal_900_6_diff', 'M10_raw_10min_slope_div_300_6 - slope_div_300_9', 'M5_raw_EFI_diff', 'M5_scale_PVI_diff', 'M5_scale_EMA_15_diff', 'M10_scale_10min_VWAP_basic_diff', 'M10_raw_10min_slope_signal_600_6_diff', 'M10_scale_10min_BB_middle_20_diff', 'M10_raw_10min_slope_lin_reg_signal_300_9 - slope_lin_reg_signal_600_9', 'M5_raw_slope_signal_300_3 - slope_signal_600_3', 'M10_raw_10min_MACD_signal_12_26_9_diff', 'M10_raw_10min_slope_angle_300_3 - slope_angle_600_6', 'M5_scale_VWAP_basic', 'M5_scale_EMA_100_above_EMA_200', 'M10_scale_10min_EMA_15_above_EMA_100', 'M10_raw_10min_TMF', 'M10_raw_10min_slope_lin_reg_signal_600_9_diff', 'M10_scale_10min_MACD_signal_12_26_9_diff', 'M5_scale_EFI_diff', 'M10_raw_10min_slope_signal_600_3_diff', 'M10_raw_10min_slope_signal_300_3 - slope_signal_300_9', 'M10_raw_10min_slope_lin_reg_signal_600_6 - slope_lin_reg_signal_600_9', 'M5_raw_slope_signal_600_3 - slope_signal_600_6', 'M5_raw_WAD_diff', 'M5_raw_MFI_3', 'M10_raw_10min_slope_signal_900_9', 'M10_scale_10min_Market_Facilitation_Index_diff', 'M5_raw_slope_angle_300_6_diff', 'M10_raw_10min_EOM', 'M10_raw_10min_slope_lin_reg_signal_900_3_diff', 'M10_raw_10min_slope_signal_900_3_diff', 'M5_raw_slope_lin_reg_signal_900_3_diff', 'M5_raw_slope_lin_reg_signal_900_9', 'M10_raw_10min_slope_signal_900_9_diff', 'M10_raw_10min_RSI_7 - RSI_14', 'M10_raw_10min_slope_div_300_3 - slope_div_600_6', 'M5_scale_slope_lin_reg_300_3_diff', 'M10_raw_10min_slope_lin_reg_signal_300_6 - slope_lin_reg_signal_600_9', 'M10_raw_10min_slope_signal_600_3 - slope_signal_600_6', 'M5_raw_slope_angle_300_6 - slope_angle_600_6', 'M5_raw_OBV_basic_diff', 'M10_scale_10min_EMA_50_above_EMA_100', 'M5_raw_slope_angle_300_6', 'M10_raw_10min_slope_signal_600_6', 'M10_raw_10min_MACD_12_26_9_diff', 'M10_raw_10min_slope_div_300_6_diff', 'M5_raw_slope_lin_reg_signal_600_6 - slope_lin_reg_signal_600_9', 'M5_raw_slope_signal_300_3 - slope_signal_600_6', 'M10_scale_10min_WAD', 'M10_scale_10min_Market_Facilitation_Index', 'M10_scale_10min_AD_Line', 'M10_raw_10min_MFI_3 - MFI_14', 'M10_scale_10min_BB_lower_20_diff', 'M10_raw_10min_Kal_300_minus_Kal_600', 'M10_raw_10min_slope_angle_600_6_diff', 'M5_scale_slope_div_300_3', 'M10_raw_10min_slope_angle_300_6 - slope_angle_300_9', 'M5_scale_ADX_14', 'M5_raw_slope_lin_reg_signal_600_3 - slope_lin_reg_signal_600_9', 'M5_raw_slope_lin_reg_signal_300_9 - slope_lin_reg_signal_900_9', 'M5_raw_Kal_600_minus_Kal_900', 'M5_raw_Momentum_10', 'M10_raw_10min_slope_div_300_3 - slope_div_900_6', 'M10_raw_10min_slope_angle_300_3 - slope_angle_300_9', 'M5_raw_MACD_12_26_9', 'M10_scale_10min_Momentum_10', 'M5_raw_BB_lower_20_diff', 'M5_scale_VWAP_basic_diff', 'M10_scale_10min_EMA_21_above_EMA_50', 'M10_raw_10min_slope_angle_300_3 - slope_angle_600_3', 'M5_raw_slope_lin_reg_signal_900_6 - slope_lin_reg_signal_900_9', 'M5_raw_Stoch_D_14_3_3_diff', 'M10_raw_10min_MFI_3 - MFI_7', 'M10_raw_10min_slope_angle_300_6_diff', 'M10_raw_10min_slope_angle_600_9_diff', 'M10_raw_10min_slope_lin_reg_300_3 - slope_lin_reg_600_9', 'M5_scale_ATR_14', 'M10_raw_10min_slope_angle_300_9_diff', 'M5_raw_CMF', 'M5_raw_slope_signal_600_3 - slope_signal_900_3', 'M10_raw_10min_slope_angle_600_6 - slope_angle_900_6', 'M10_raw_10min_slope_lin_reg_signal_600_6 - slope_lin_reg_signal_900_3', 'M10_raw_10min_NVI_diff', 'M10_raw_10min_BB_lower_20_diff', 'M10_raw_10min_slope_signal_600_9 - slope_signal_900_9', 'M5_raw_EOM_diff', 'M5_scale_BB_upper_20', 'M10_raw_10min_slope_angle_300_3 - slope_angle_300_6', 'M5_raw_slope_signal_300_6 - slope_signal_900_9', 'M5_scale_VPT', 'M5_raw_ADX_14', 'M5_scale_slope_div_300_9 - slope_div_600_9', 'M10_raw_10min_Momentum_10', 'M10_raw_10min_MFI_3_diff', 'M5_scale_Kal_change_300', 'M10_raw_10min_Market_Facilitation_Index_diff', 'M10_raw_10min_slope_angle_300_6 - slope_angle_600_6', 'M10_raw_10min_slope_lin_reg_signal_300_3 - slope_lin_reg_signal_300_9', 'M5_raw_slope_lin_reg_signal_300_6 - slope_lin_reg_signal_600_9', 'M5_scale_slope_lin_reg_600_9_diff', 'M10_raw_10min_slope_lin_reg_signal_600_9 - slope_lin_reg_signal_900_6', 'M10_raw_10min_slope_angle_600_3 - slope_angle_900_3', 'M5_scale_BB_middle_20_diff', 'M10_raw_10min_slope_lin_reg_signal_600_9 - slope_lin_reg_signal_900_3', 'M5_raw_slope_angle_300_6 - slope_angle_300_9', 'M5_raw_slope_lin_reg_300_3_diff', 'M10_raw_10min_slope_signal_900_6 - slope_signal_900_9', 'M5_scale_slope_lin_reg_600_6_diff', 'M10_raw_10min_slope_signal_300_3 - slope_signal_600_6', 'M5_scale_EMA_50_above_EMA_200', 'M10_scale_10min_VPT', 'M10_raw_10min_MFI_3', 'M10_scale_10min_EMA_100_above_EMA_200', 'M5_raw_slope_signal_300_3 - slope_signal_900_9', 'M5_raw_slope_lin_reg_signal_300_9_diff', 'M5_raw_slope_signal_300_9 - slope_signal_600_9', 'M10_raw_10min_slope_angle_300_3 - slope_angle_900_6', 'M5_raw_slope_lin_reg_300_6_diff', 'M5_scale_slope_lin_reg_300_6_diff', 'M5_raw_ATR_14', 'M10_scale_10min_EFI', 'M5_raw_EOM', 'M5_raw_VFI_diff', 'M10_raw_10min_slope_div_300_9 - slope_div_600_9', 'M10_raw_10min_slope_signal_300_9_diff', 'M5_raw_slope_div_300_3', 'M5_scale_EMA_21_above_EMA_100', 'M5_raw_CMF_diff', 'M5_raw_slope_signal_300_6 - slope_signal_900_6', 'M10_raw_10min_slope_lin_reg_signal_600_6 - slope_lin_reg_signal_900_6', 'M5_raw_Market_Facilitation_Index_diff', 'M5_raw_VFI', 'M10_raw_10min_MFI_basic_14_diff', 'M10_scale_10min_ADX_14', 'M5_raw_NVI_diff', 'M5_scale_Market_Facilitation_Index_diff', 'M10_raw_10min_slope_angle_300_3 - slope_angle_600_9', 'M10_scale_10min_EMA_21_above_EMA_100', 'M5_raw_slope_lin_reg_300_3 - slope_lin_reg_600_9', 'M5_raw_TMF', 'M5_raw_slope_angle_300_9 - slope_angle_600_9', 'M5_raw_slope_div_900_3', 'M5_scale_slope_div_300_3 - slope_div_600_6', 'M10_raw_10min_slope_div_300_3 - slope_div_600_9', 'M5_raw_slope_signal_300_3 - slope_signal_900_6', 'M5_raw_MFI_3 - MFI_7', 'M5_scale_Momentum_10', 'M10_raw_10min_VFI', 'M5_scale_slope_div_300_6 - slope_div_900_9', 'M5_scale_Market_Facilitation_Index', 'M10_raw_10min_slope_angle_600_6 - slope_angle_600_9', 'M10_raw_10min_MFI_7 - MFI_14', 'M10_raw_10min_slope_angle_300_6 - slope_angle_600_9', 'M5_raw_slope_lin_reg_300_3 - slope_lin_reg_600_3', 'M10_scale_10min_VFI', 'M10_raw_10min_MFI_7', 'M10_raw_10min_Kal_600_minus_Kal_900', 'M5_scale_EMA_50_above_EMA_100', 'M5_scale_EMA_21_above_EMA_50', 'M5_raw_slope_signal_300_9 - slope_signal_900_9', 'M5_raw_Stoch_D_14_3_3', 'M5_raw_MACD_signal_12_26_9_diff', 'M10_scale_10min_OBV_basic', 'M5_raw_Kal_prev2_minus_now_300', 'M5_raw_slope_lin_reg_signal_300_9 - slope_lin_reg_signal_600_3', 'M5_scale_slope_div_300_3 - slope_div_300_6', 'M10_raw_10min_slope_lin_reg_signal_300_3 - slope_lin_reg_signal_900_6', 'M10_raw_10min_slope_lin_reg_signal_300_9_diff', 'M5_raw_slope_angle_600_9 - slope_angle_900_9', 'M10_raw_10min_Stoch_D_14_3_3_diff', 'M10_raw_10min_KO', 'M5_raw_slope_lin_reg_900_3_diff', 'M10_raw_10min_slope_div_300_6 - slope_div_900_9', 'M5_raw_MFI_basic_14_diff', 'M10_raw_10min_slope_div_300_6 - slope_div_600_9', 'M5_raw_slope_angle_300_3 - slope_angle_900_6', 'M5_scale_EFI', 'M5_raw_slope_lin_reg_signal_300_3 - slope_lin_reg_signal_300_9', 'M10_raw_10min_MFI_7_diff', 'M5_raw_slope_signal_300_9_diff', 'M10_raw_10min_slope_div_300_3 - slope_div_300_6', 'M10_raw_10min_slope_angle_900_9_diff', 'M5_scale_slope_div_300_6 - slope_div_600_9', 'M10_raw_10min_Momentum_10_diff', 'M5_raw_MFI_7 - MFI_14', 'M10_raw_10min_slope_signal_300_6 - slope_signal_600_9', 'M10_raw_10min_VFI_diff', 'M5_scale_slope_div_600_3', 'M5_raw_slope_signal_600_6_diff', 'M10_raw_10min_slope_angle_600_3 - slope_angle_600_6', 'M5_raw_slope_angle_600_6_diff', 'M5_raw_ADX_14_diff', 'M5_raw_slope_lin_reg_600_3_diff', 'M10_raw_10min_slope_angle_300_9 - slope_angle_600_9', 'M10_raw_10min_ADX_14_diff', 'M10_raw_10min_CMF', 'M5_raw_VWAP_basic_diff', 'M10_raw_10min_slope_angle_600_9 - slope_angle_900_9', 'M10_scale_10min_NVI', 'M5_raw_slope_angle_300_6 - slope_angle_900_9', 'M5_raw_slope_signal_300_9 - slope_signal_600_6', 'M5_raw_slope_lin_reg_signal_300_3 - slope_lin_reg_signal_300_6', 'M5_scale_AD_Line', 'M5_raw_BB_upper_20_diff', 'M5_raw_KO', 'M5_scale_KO', 'M5_raw_OBV_basic', 'M5_raw_slope_signal_300_3 - slope_signal_300_9', 'M10_raw_10min_slope_signal_300_9 - slope_signal_600_6', 'M5_raw_MFI_basic_14', 'M5_raw_slope_lin_reg_signal_900_3 - slope_lin_reg_signal_900_6', 'M5_raw_slope_signal_600_6 - slope_signal_600_9', 'M10_raw_10min_Market_Facilitation_Index', 'M10_raw_10min_Stoch_K_14_3_3', 'M5_raw_slope_lin_reg_signal_900_3 - slope_lin_reg_signal_900_9', 'M5_scale_MACD_12_26_9', 'M5_raw_slope_lin_reg_signal_600_3', 'M5_raw_MFI_7', 'M5_raw_BB_upper_20', 'M10_raw_10min_ADX_14', 'M5_raw_Kal_300_minus_Kal_600', 'M10_scale_10min_PVI', 'M10_raw_10min_MFI_basic_14', 'M10_scale_10min_EMA_15_above_EMA_200', 'M10_raw_10min_slope_lin_reg_signal_300_9 - slope_lin_reg_signal_900_9', 'M5_raw_slope_lin_reg_signal_300_6 - slope_lin_reg_signal_900_9', 'M5_scale_EMA_15_above_EMA_200', 'M5_scale_NVI', 'M10_scale_10min_EMA_15_above_EMA_50', 'M5_scale_slope_lin_reg_300_3 - slope_lin_reg_600_9', 'M5_scale_BB_upper_20_diff'] \n",
            "\n",
            "Shape =  (67666, 341) \n",
            "\n",
            "Label_Counts =  label\n",
            "1    34174\n",
            "0    33492\n",
            "Name: count, dtype: int64 \n",
            "\n",
            "Missing values (NaN and Inf) in feat_obj sorted by highest to lowest AFTER DROPPING COLUMNS:\n",
            "M5_scale_BB_upper_20_diff                   0\n",
            "label                                       0\n",
            "M10_raw_10min_RSI_basic_14_diff             0\n",
            "M10_scale_10min_ATR_14_diff                 0\n",
            "Open_Trade                                  0\n",
            "                                           ..\n",
            "M5_raw_MACD_12_26_9_diff                    0\n",
            "M10_raw_10min_CCI_20_diff                   0\n",
            "M10_raw_10min_slope_lin_reg_signal_900_3    0\n",
            "M5_raw_Kal_change_300                       0\n",
            "M10_raw_10min_RSI_3                         0\n",
            "Length: 341, dtype: int64\n"
          ]
        }
      ],
      "source": [
        "### Merge\n",
        "\n",
        "feat_obj = features_5m.copy()\n",
        "\n",
        "print(list(feat_obj.columns),'\\n')\n",
        "print('Shape = ',feat_obj.shape,'\\n')\n",
        "print('Label_Counts = ', feat_obj['label'].value_counts(),'\\n')\n",
        "\n",
        "feat_obj.dropna(inplace=True)\n",
        "\n",
        "nan_counts = feat_obj.isnull().sum()\n",
        "\n",
        "print(\"Missing values (NaN and Inf) in feat_obj sorted by highest to lowest AFTER DROPPING COLUMNS:\")\n",
        "\n",
        "nan_counts_after = feat_obj.isnull().sum()\n",
        "inf_counts_after = np.isinf(feat_obj.select_dtypes(include=np.number)).sum()\n",
        "total_missing_counts_after = nan_counts_after + inf_counts_after\n",
        "print(total_missing_counts_after.sort_values(ascending=False))\n",
        "\n",
        "\n"
      ]
    },
    {
      "cell_type": "code",
      "execution_count": 20,
      "id": "U1SDwIIeNhhU",
      "metadata": {
        "colab": {
          "base_uri": "https://localhost:8080/"
        },
        "id": "U1SDwIIeNhhU",
        "outputId": "151f0a20-f189-4f78-d077-35a4f5074901"
      },
      "outputs": [
        {
          "output_type": "stream",
          "name": "stdout",
          "text": [
            "Shape of train_data: (47366, 341)\n",
            "Shape of test_data: (20300, 341)\n"
          ]
        }
      ],
      "source": [
        "# Split the data into 70% train and 30% test based on index\n",
        "train_size = int(0.7 * len(feat_obj))\n",
        "train = feat_obj.iloc[:train_size]\n",
        "test  = feat_obj.iloc[train_size:]\n",
        "\n",
        "print(\"Shape of train_data:\", train.shape)\n",
        "print(\"Shape of test_data:\", test.shape)"
      ]
    },
    {
      "cell_type": "code",
      "execution_count": 21,
      "id": "5KnO-8hT71wu",
      "metadata": {
        "colab": {
          "base_uri": "https://localhost:8080/"
        },
        "id": "5KnO-8hT71wu",
        "outputId": "26783525-ecbc-4fdd-e385-72f2e0c6ecee"
      },
      "outputs": [
        {
          "output_type": "stream",
          "name": "stdout",
          "text": [
            "Train_Min_Date 2019-01-04 21:50:00\n",
            "Train_Max_Date 2023-08-01 14:05:00 \n",
            "\n",
            "Test_Min_Date 2023-08-01 14:25:00\n",
            "Test_Max_Date 2025-07-25 23:45:00 \n",
            "\n",
            "Train_Columns :  ['label', 'M10_raw_10min_RSI_basic_14_diff', 'M10_scale_10min_ATR_14_diff', 'Open_Trade', 'M5_scale_MACD_12_26_9_diff', 'M10_raw_10min_RSI_3', 'M5_raw_Kal_change_300', 'M10_raw_10min_slope_lin_reg_signal_900_3', 'M10_raw_10min_CCI_20_diff', 'M5_raw_MACD_12_26_9_diff', 'M10_raw_10min_slope_signal_900_3', 'M10_raw_10min_slope_lin_reg_signal_900_6', 'M10_raw_10min_slope_lin_reg_signal_600_6', 'M5_raw_slope_signal_900_9', 'M5_scale_ATR_14_diff', 'M5_raw_RSI_basic_14_diff', 'M10_raw_10min_RSI_3 - RSI_7', 'M10_raw_10min_TMF_diff', 'M5_raw_Stoch_K_14_3_3_diff', 'M5_raw_EMA_15_diff', 'M10_raw_10min_KO_diff', 'M5_raw_CCI_20_diff', 'M10_raw_10min_slope_signal_300_3 - slope_signal_600_3', 'M5_raw_slope_lin_reg_signal_300_9', 'M10_raw_10min_slope_lin_reg_signal_900_9', 'M10_raw_10min_ATR_14_diff', 'M10_raw_10min_slope_lin_reg_signal_600_3 - slope_lin_reg_signal_900_9', 'M10_raw_10min_slope_lin_reg_signal_600_9 - slope_lin_reg_signal_900_9', 'M5_raw_RSI_7', 'M5_scale_WAD_diff', 'M5_scale_Kal_600_minus_Kal_900', 'M10_raw_10min_slope_lin_reg_signal_300_3 - slope_lin_reg_signal_900_3', 'M10_raw_10min_EMA_100_above_EMA_200', 'M10_raw_10min_WAD_diff', 'M10_raw_10min_slope_lin_reg_signal_600_6_diff', 'M10_raw_10min_AD_Line_diff', 'M10_raw_10min_slope_lin_reg_signal_300_6 - slope_lin_reg_signal_300_9', 'M10_raw_10min_slope_lin_reg_signal_300_3 - slope_lin_reg_signal_900_9', 'M10_raw_10min_MACD_hist_12_26_9_diff', 'M10_raw_10min_slope_lin_reg_signal_600_3', 'M5_raw_slope_signal_300_3', 'M10_raw_10min_slope_lin_reg_signal_300_6_diff', 'M5_raw_slope_div_300_6', 'M5_raw_ATR_14_diff', 'M10_raw_10min_slope_signal_300_3 - slope_signal_900_9', 'M10_raw_10min_Stoch_K_14_3_3_diff', 'M5_raw_AD_Line_diff', 'M10_raw_10min_slope_lin_reg_signal_600_3 - slope_lin_reg_signal_600_6', 'M10_scale_10min_PVI_diff', 'M10_raw_10min_RSI_basic_14', 'M10_raw_10min_WilliamsR_14', 'M5_raw_slope_lin_reg_signal_300_3', 'M10_raw_10min_EFI_diff', 'M10_scale_10min_Kal_change_600', 'M5_raw_slope_lin_reg_signal_300_6 - slope_lin_reg_signal_900_3', 'M10_raw_10min_slope_lin_reg_signal_300_6 - slope_lin_reg_signal_600_3', 'M10_scale_10min_EMA_15_diff', 'M10_raw_10min_slope_angle_300_3_diff', 'M10_raw_10min_Kal_change_600', 'M10_raw_10min_slope_lin_reg_signal_300_3 - slope_lin_reg_signal_300_6', 'M10_raw_10min_slope_lin_reg_signal_300_9 - slope_lin_reg_signal_600_3', 'M5_raw_TMF_diff', 'M10_raw_10min_slope_signal_600_9 - slope_signal_900_6', 'M10_raw_10min_EMA_15_diff', 'M10_raw_10min_slope_angle_300_3', 'M5_raw_KO_diff', 'M10_raw_10min_slope_signal_300_3 - slope_signal_600_9', 'M10_raw_10min_slope_lin_reg_signal_900_3 - slope_lin_reg_signal_900_9', 'M5_raw_slope_signal_300_3 - slope_signal_600_9', 'M5_scale_slope_div_300_6', 'M10_raw_10min_CCI_20', 'M10_raw_10min_slope_lin_reg_signal_600_9', 'M5_raw_slope_signal_300_3 - slope_signal_900_3', 'M10_scale_10min_EFI_diff', 'M5_raw_CCI_20', 'M10_raw_10min_slope_lin_reg_signal_900_3 - slope_lin_reg_signal_900_6', 'M5_raw_slope_lin_reg_signal_600_6 - slope_lin_reg_signal_900_3', 'M10_scale_10min_EOM_diff', 'M10_raw_10min_slope_signal_300_9 - slope_signal_900_9', 'M10_raw_10min_OBV_basic_diff', 'M10_raw_10min_slope_signal_300_6 - slope_signal_900_9', 'M10_scale_10min_ATR_14', 'M5_scale_EOM_diff', 'M10_raw_10min_EFI', 'M10_raw_10min_MACD_12_26_9', 'M10_raw_10min_slope_lin_reg_signal_600_3 - slope_lin_reg_signal_900_3', 'M5_raw_RSI_basic_14', 'M5_raw_slope_signal_300_6', 'M10_raw_10min_slope_div_300_3_diff', 'M10_raw_10min_slope_lin_reg_signal_600_3_diff', 'M5_raw_PVI_diff', 'M10_scale_10min_VWAP_basic', 'M10_raw_10min_BB_upper_20_diff', 'M10_raw_10min_PVI_diff', 'M5_raw_slope_lin_reg_signal_300_6_diff', 'M10_raw_10min_VWAP_basic_diff', 'M10_scale_10min_BB_upper_20', 'M10_raw_10min_BB_middle_20_diff', 'M5_raw_BB_middle_20_diff', 'M10_raw_10min_slope_signal_600_3 - slope_signal_900_6', 'M5_raw_slope_signal_300_3 - slope_signal_300_6', 'M5_raw_slope_lin_reg_signal_600_3 - slope_lin_reg_signal_900_6', 'M5_raw_slope_signal_600_3_diff', 'M10_raw_10min_slope_angle_900_6_diff', 'M10_raw_10min_slope_signal_300_6 - slope_signal_600_6', 'M10_raw_10min_slope_lin_reg_signal_600_6 - slope_lin_reg_signal_900_9', 'M5_raw_slope_lin_reg_signal_300_3_diff', 'M10_scale_10min_BB_upper_20_diff', 'M5_raw_WilliamsR_14', 'M10_raw_10min_CMF_diff', 'M5_raw_slope_signal_900_6_diff', 'M10_raw_10min_slope_div_300_6 - slope_div_300_9', 'M5_raw_EFI_diff', 'M5_scale_PVI_diff', 'M5_scale_EMA_15_diff', 'M10_scale_10min_VWAP_basic_diff', 'M10_raw_10min_slope_signal_600_6_diff', 'M10_scale_10min_BB_middle_20_diff', 'M10_raw_10min_slope_lin_reg_signal_300_9 - slope_lin_reg_signal_600_9', 'M5_raw_slope_signal_300_3 - slope_signal_600_3', 'M10_raw_10min_MACD_signal_12_26_9_diff', 'M10_raw_10min_slope_angle_300_3 - slope_angle_600_6', 'M5_scale_VWAP_basic', 'M5_scale_EMA_100_above_EMA_200', 'M10_scale_10min_EMA_15_above_EMA_100', 'M10_raw_10min_TMF', 'M10_raw_10min_slope_lin_reg_signal_600_9_diff', 'M10_scale_10min_MACD_signal_12_26_9_diff', 'M5_scale_EFI_diff', 'M10_raw_10min_slope_signal_600_3_diff', 'M10_raw_10min_slope_signal_300_3 - slope_signal_300_9', 'M10_raw_10min_slope_lin_reg_signal_600_6 - slope_lin_reg_signal_600_9', 'M5_raw_slope_signal_600_3 - slope_signal_600_6', 'M5_raw_WAD_diff', 'M5_raw_MFI_3', 'M10_raw_10min_slope_signal_900_9', 'M10_scale_10min_Market_Facilitation_Index_diff', 'M5_raw_slope_angle_300_6_diff', 'M10_raw_10min_EOM', 'M10_raw_10min_slope_lin_reg_signal_900_3_diff', 'M10_raw_10min_slope_signal_900_3_diff', 'M5_raw_slope_lin_reg_signal_900_3_diff', 'M5_raw_slope_lin_reg_signal_900_9', 'M10_raw_10min_slope_signal_900_9_diff', 'M10_raw_10min_RSI_7 - RSI_14', 'M10_raw_10min_slope_div_300_3 - slope_div_600_6', 'M5_scale_slope_lin_reg_300_3_diff', 'M10_raw_10min_slope_lin_reg_signal_300_6 - slope_lin_reg_signal_600_9', 'M10_raw_10min_slope_signal_600_3 - slope_signal_600_6', 'M5_raw_slope_angle_300_6 - slope_angle_600_6', 'M5_raw_OBV_basic_diff', 'M10_scale_10min_EMA_50_above_EMA_100', 'M5_raw_slope_angle_300_6', 'M10_raw_10min_slope_signal_600_6', 'M10_raw_10min_MACD_12_26_9_diff', 'M10_raw_10min_slope_div_300_6_diff', 'M5_raw_slope_lin_reg_signal_600_6 - slope_lin_reg_signal_600_9', 'M5_raw_slope_signal_300_3 - slope_signal_600_6', 'M10_scale_10min_WAD', 'M10_scale_10min_Market_Facilitation_Index', 'M10_scale_10min_AD_Line', 'M10_raw_10min_MFI_3 - MFI_14', 'M10_scale_10min_BB_lower_20_diff', 'M10_raw_10min_Kal_300_minus_Kal_600', 'M10_raw_10min_slope_angle_600_6_diff', 'M5_scale_slope_div_300_3', 'M10_raw_10min_slope_angle_300_6 - slope_angle_300_9', 'M5_scale_ADX_14', 'M5_raw_slope_lin_reg_signal_600_3 - slope_lin_reg_signal_600_9', 'M5_raw_slope_lin_reg_signal_300_9 - slope_lin_reg_signal_900_9', 'M5_raw_Kal_600_minus_Kal_900', 'M5_raw_Momentum_10', 'M10_raw_10min_slope_div_300_3 - slope_div_900_6', 'M10_raw_10min_slope_angle_300_3 - slope_angle_300_9', 'M5_raw_MACD_12_26_9', 'M10_scale_10min_Momentum_10', 'M5_raw_BB_lower_20_diff', 'M5_scale_VWAP_basic_diff', 'M10_scale_10min_EMA_21_above_EMA_50', 'M10_raw_10min_slope_angle_300_3 - slope_angle_600_3', 'M5_raw_slope_lin_reg_signal_900_6 - slope_lin_reg_signal_900_9', 'M5_raw_Stoch_D_14_3_3_diff', 'M10_raw_10min_MFI_3 - MFI_7', 'M10_raw_10min_slope_angle_300_6_diff', 'M10_raw_10min_slope_angle_600_9_diff', 'M10_raw_10min_slope_lin_reg_300_3 - slope_lin_reg_600_9', 'M5_scale_ATR_14', 'M10_raw_10min_slope_angle_300_9_diff', 'M5_raw_CMF', 'M5_raw_slope_signal_600_3 - slope_signal_900_3', 'M10_raw_10min_slope_angle_600_6 - slope_angle_900_6', 'M10_raw_10min_slope_lin_reg_signal_600_6 - slope_lin_reg_signal_900_3', 'M10_raw_10min_NVI_diff', 'M10_raw_10min_BB_lower_20_diff', 'M10_raw_10min_slope_signal_600_9 - slope_signal_900_9', 'M5_raw_EOM_diff', 'M5_scale_BB_upper_20', 'M10_raw_10min_slope_angle_300_3 - slope_angle_300_6', 'M5_raw_slope_signal_300_6 - slope_signal_900_9', 'M5_scale_VPT', 'M5_raw_ADX_14', 'M5_scale_slope_div_300_9 - slope_div_600_9', 'M10_raw_10min_Momentum_10', 'M10_raw_10min_MFI_3_diff', 'M5_scale_Kal_change_300', 'M10_raw_10min_Market_Facilitation_Index_diff', 'M10_raw_10min_slope_angle_300_6 - slope_angle_600_6', 'M10_raw_10min_slope_lin_reg_signal_300_3 - slope_lin_reg_signal_300_9', 'M5_raw_slope_lin_reg_signal_300_6 - slope_lin_reg_signal_600_9', 'M5_scale_slope_lin_reg_600_9_diff', 'M10_raw_10min_slope_lin_reg_signal_600_9 - slope_lin_reg_signal_900_6', 'M10_raw_10min_slope_angle_600_3 - slope_angle_900_3', 'M5_scale_BB_middle_20_diff', 'M10_raw_10min_slope_lin_reg_signal_600_9 - slope_lin_reg_signal_900_3', 'M5_raw_slope_angle_300_6 - slope_angle_300_9', 'M5_raw_slope_lin_reg_300_3_diff', 'M10_raw_10min_slope_signal_900_6 - slope_signal_900_9', 'M5_scale_slope_lin_reg_600_6_diff', 'M10_raw_10min_slope_signal_300_3 - slope_signal_600_6', 'M5_scale_EMA_50_above_EMA_200', 'M10_scale_10min_VPT', 'M10_raw_10min_MFI_3', 'M10_scale_10min_EMA_100_above_EMA_200', 'M5_raw_slope_signal_300_3 - slope_signal_900_9', 'M5_raw_slope_lin_reg_signal_300_9_diff', 'M5_raw_slope_signal_300_9 - slope_signal_600_9', 'M10_raw_10min_slope_angle_300_3 - slope_angle_900_6', 'M5_raw_slope_lin_reg_300_6_diff', 'M5_scale_slope_lin_reg_300_6_diff', 'M5_raw_ATR_14', 'M10_scale_10min_EFI', 'M5_raw_EOM', 'M5_raw_VFI_diff', 'M10_raw_10min_slope_div_300_9 - slope_div_600_9', 'M10_raw_10min_slope_signal_300_9_diff', 'M5_raw_slope_div_300_3', 'M5_scale_EMA_21_above_EMA_100', 'M5_raw_CMF_diff', 'M5_raw_slope_signal_300_6 - slope_signal_900_6', 'M10_raw_10min_slope_lin_reg_signal_600_6 - slope_lin_reg_signal_900_6', 'M5_raw_Market_Facilitation_Index_diff', 'M5_raw_VFI', 'M10_raw_10min_MFI_basic_14_diff', 'M10_scale_10min_ADX_14', 'M5_raw_NVI_diff', 'M5_scale_Market_Facilitation_Index_diff', 'M10_raw_10min_slope_angle_300_3 - slope_angle_600_9', 'M10_scale_10min_EMA_21_above_EMA_100', 'M5_raw_slope_lin_reg_300_3 - slope_lin_reg_600_9', 'M5_raw_TMF', 'M5_raw_slope_angle_300_9 - slope_angle_600_9', 'M5_raw_slope_div_900_3', 'M5_scale_slope_div_300_3 - slope_div_600_6', 'M10_raw_10min_slope_div_300_3 - slope_div_600_9', 'M5_raw_slope_signal_300_3 - slope_signal_900_6', 'M5_raw_MFI_3 - MFI_7', 'M5_scale_Momentum_10', 'M10_raw_10min_VFI', 'M5_scale_slope_div_300_6 - slope_div_900_9', 'M5_scale_Market_Facilitation_Index', 'M10_raw_10min_slope_angle_600_6 - slope_angle_600_9', 'M10_raw_10min_MFI_7 - MFI_14', 'M10_raw_10min_slope_angle_300_6 - slope_angle_600_9', 'M5_raw_slope_lin_reg_300_3 - slope_lin_reg_600_3', 'M10_scale_10min_VFI', 'M10_raw_10min_MFI_7', 'M10_raw_10min_Kal_600_minus_Kal_900', 'M5_scale_EMA_50_above_EMA_100', 'M5_scale_EMA_21_above_EMA_50', 'M5_raw_slope_signal_300_9 - slope_signal_900_9', 'M5_raw_Stoch_D_14_3_3', 'M5_raw_MACD_signal_12_26_9_diff', 'M10_scale_10min_OBV_basic', 'M5_raw_Kal_prev2_minus_now_300', 'M5_raw_slope_lin_reg_signal_300_9 - slope_lin_reg_signal_600_3', 'M5_scale_slope_div_300_3 - slope_div_300_6', 'M10_raw_10min_slope_lin_reg_signal_300_3 - slope_lin_reg_signal_900_6', 'M10_raw_10min_slope_lin_reg_signal_300_9_diff', 'M5_raw_slope_angle_600_9 - slope_angle_900_9', 'M10_raw_10min_Stoch_D_14_3_3_diff', 'M10_raw_10min_KO', 'M5_raw_slope_lin_reg_900_3_diff', 'M10_raw_10min_slope_div_300_6 - slope_div_900_9', 'M5_raw_MFI_basic_14_diff', 'M10_raw_10min_slope_div_300_6 - slope_div_600_9', 'M5_raw_slope_angle_300_3 - slope_angle_900_6', 'M5_scale_EFI', 'M5_raw_slope_lin_reg_signal_300_3 - slope_lin_reg_signal_300_9', 'M10_raw_10min_MFI_7_diff', 'M5_raw_slope_signal_300_9_diff', 'M10_raw_10min_slope_div_300_3 - slope_div_300_6', 'M10_raw_10min_slope_angle_900_9_diff', 'M5_scale_slope_div_300_6 - slope_div_600_9', 'M10_raw_10min_Momentum_10_diff', 'M5_raw_MFI_7 - MFI_14', 'M10_raw_10min_slope_signal_300_6 - slope_signal_600_9', 'M10_raw_10min_VFI_diff', 'M5_scale_slope_div_600_3', 'M5_raw_slope_signal_600_6_diff', 'M10_raw_10min_slope_angle_600_3 - slope_angle_600_6', 'M5_raw_slope_angle_600_6_diff', 'M5_raw_ADX_14_diff', 'M5_raw_slope_lin_reg_600_3_diff', 'M10_raw_10min_slope_angle_300_9 - slope_angle_600_9', 'M10_raw_10min_ADX_14_diff', 'M10_raw_10min_CMF', 'M5_raw_VWAP_basic_diff', 'M10_raw_10min_slope_angle_600_9 - slope_angle_900_9', 'M10_scale_10min_NVI', 'M5_raw_slope_angle_300_6 - slope_angle_900_9', 'M5_raw_slope_signal_300_9 - slope_signal_600_6', 'M5_raw_slope_lin_reg_signal_300_3 - slope_lin_reg_signal_300_6', 'M5_scale_AD_Line', 'M5_raw_BB_upper_20_diff', 'M5_raw_KO', 'M5_scale_KO', 'M5_raw_OBV_basic', 'M5_raw_slope_signal_300_3 - slope_signal_300_9', 'M10_raw_10min_slope_signal_300_9 - slope_signal_600_6', 'M5_raw_MFI_basic_14', 'M5_raw_slope_lin_reg_signal_900_3 - slope_lin_reg_signal_900_6', 'M5_raw_slope_signal_600_6 - slope_signal_600_9', 'M10_raw_10min_Market_Facilitation_Index', 'M10_raw_10min_Stoch_K_14_3_3', 'M5_raw_slope_lin_reg_signal_900_3 - slope_lin_reg_signal_900_9', 'M5_scale_MACD_12_26_9', 'M5_raw_slope_lin_reg_signal_600_3', 'M5_raw_MFI_7', 'M5_raw_BB_upper_20', 'M10_raw_10min_ADX_14', 'M5_raw_Kal_300_minus_Kal_600', 'M10_scale_10min_PVI', 'M10_raw_10min_MFI_basic_14', 'M10_scale_10min_EMA_15_above_EMA_200', 'M10_raw_10min_slope_lin_reg_signal_300_9 - slope_lin_reg_signal_900_9', 'M5_raw_slope_lin_reg_signal_300_6 - slope_lin_reg_signal_900_9', 'M5_scale_EMA_15_above_EMA_200', 'M5_scale_NVI', 'M10_scale_10min_EMA_15_above_EMA_50', 'M5_scale_slope_lin_reg_300_3 - slope_lin_reg_600_9', 'M5_scale_BB_upper_20_diff'] \n",
            "\n",
            "Test_Columns :  ['label', 'M10_raw_10min_RSI_basic_14_diff', 'M10_scale_10min_ATR_14_diff', 'Open_Trade', 'M5_scale_MACD_12_26_9_diff', 'M10_raw_10min_RSI_3', 'M5_raw_Kal_change_300', 'M10_raw_10min_slope_lin_reg_signal_900_3', 'M10_raw_10min_CCI_20_diff', 'M5_raw_MACD_12_26_9_diff', 'M10_raw_10min_slope_signal_900_3', 'M10_raw_10min_slope_lin_reg_signal_900_6', 'M10_raw_10min_slope_lin_reg_signal_600_6', 'M5_raw_slope_signal_900_9', 'M5_scale_ATR_14_diff', 'M5_raw_RSI_basic_14_diff', 'M10_raw_10min_RSI_3 - RSI_7', 'M10_raw_10min_TMF_diff', 'M5_raw_Stoch_K_14_3_3_diff', 'M5_raw_EMA_15_diff', 'M10_raw_10min_KO_diff', 'M5_raw_CCI_20_diff', 'M10_raw_10min_slope_signal_300_3 - slope_signal_600_3', 'M5_raw_slope_lin_reg_signal_300_9', 'M10_raw_10min_slope_lin_reg_signal_900_9', 'M10_raw_10min_ATR_14_diff', 'M10_raw_10min_slope_lin_reg_signal_600_3 - slope_lin_reg_signal_900_9', 'M10_raw_10min_slope_lin_reg_signal_600_9 - slope_lin_reg_signal_900_9', 'M5_raw_RSI_7', 'M5_scale_WAD_diff', 'M5_scale_Kal_600_minus_Kal_900', 'M10_raw_10min_slope_lin_reg_signal_300_3 - slope_lin_reg_signal_900_3', 'M10_raw_10min_EMA_100_above_EMA_200', 'M10_raw_10min_WAD_diff', 'M10_raw_10min_slope_lin_reg_signal_600_6_diff', 'M10_raw_10min_AD_Line_diff', 'M10_raw_10min_slope_lin_reg_signal_300_6 - slope_lin_reg_signal_300_9', 'M10_raw_10min_slope_lin_reg_signal_300_3 - slope_lin_reg_signal_900_9', 'M10_raw_10min_MACD_hist_12_26_9_diff', 'M10_raw_10min_slope_lin_reg_signal_600_3', 'M5_raw_slope_signal_300_3', 'M10_raw_10min_slope_lin_reg_signal_300_6_diff', 'M5_raw_slope_div_300_6', 'M5_raw_ATR_14_diff', 'M10_raw_10min_slope_signal_300_3 - slope_signal_900_9', 'M10_raw_10min_Stoch_K_14_3_3_diff', 'M5_raw_AD_Line_diff', 'M10_raw_10min_slope_lin_reg_signal_600_3 - slope_lin_reg_signal_600_6', 'M10_scale_10min_PVI_diff', 'M10_raw_10min_RSI_basic_14', 'M10_raw_10min_WilliamsR_14', 'M5_raw_slope_lin_reg_signal_300_3', 'M10_raw_10min_EFI_diff', 'M10_scale_10min_Kal_change_600', 'M5_raw_slope_lin_reg_signal_300_6 - slope_lin_reg_signal_900_3', 'M10_raw_10min_slope_lin_reg_signal_300_6 - slope_lin_reg_signal_600_3', 'M10_scale_10min_EMA_15_diff', 'M10_raw_10min_slope_angle_300_3_diff', 'M10_raw_10min_Kal_change_600', 'M10_raw_10min_slope_lin_reg_signal_300_3 - slope_lin_reg_signal_300_6', 'M10_raw_10min_slope_lin_reg_signal_300_9 - slope_lin_reg_signal_600_3', 'M5_raw_TMF_diff', 'M10_raw_10min_slope_signal_600_9 - slope_signal_900_6', 'M10_raw_10min_EMA_15_diff', 'M10_raw_10min_slope_angle_300_3', 'M5_raw_KO_diff', 'M10_raw_10min_slope_signal_300_3 - slope_signal_600_9', 'M10_raw_10min_slope_lin_reg_signal_900_3 - slope_lin_reg_signal_900_9', 'M5_raw_slope_signal_300_3 - slope_signal_600_9', 'M5_scale_slope_div_300_6', 'M10_raw_10min_CCI_20', 'M10_raw_10min_slope_lin_reg_signal_600_9', 'M5_raw_slope_signal_300_3 - slope_signal_900_3', 'M10_scale_10min_EFI_diff', 'M5_raw_CCI_20', 'M10_raw_10min_slope_lin_reg_signal_900_3 - slope_lin_reg_signal_900_6', 'M5_raw_slope_lin_reg_signal_600_6 - slope_lin_reg_signal_900_3', 'M10_scale_10min_EOM_diff', 'M10_raw_10min_slope_signal_300_9 - slope_signal_900_9', 'M10_raw_10min_OBV_basic_diff', 'M10_raw_10min_slope_signal_300_6 - slope_signal_900_9', 'M10_scale_10min_ATR_14', 'M5_scale_EOM_diff', 'M10_raw_10min_EFI', 'M10_raw_10min_MACD_12_26_9', 'M10_raw_10min_slope_lin_reg_signal_600_3 - slope_lin_reg_signal_900_3', 'M5_raw_RSI_basic_14', 'M5_raw_slope_signal_300_6', 'M10_raw_10min_slope_div_300_3_diff', 'M10_raw_10min_slope_lin_reg_signal_600_3_diff', 'M5_raw_PVI_diff', 'M10_scale_10min_VWAP_basic', 'M10_raw_10min_BB_upper_20_diff', 'M10_raw_10min_PVI_diff', 'M5_raw_slope_lin_reg_signal_300_6_diff', 'M10_raw_10min_VWAP_basic_diff', 'M10_scale_10min_BB_upper_20', 'M10_raw_10min_BB_middle_20_diff', 'M5_raw_BB_middle_20_diff', 'M10_raw_10min_slope_signal_600_3 - slope_signal_900_6', 'M5_raw_slope_signal_300_3 - slope_signal_300_6', 'M5_raw_slope_lin_reg_signal_600_3 - slope_lin_reg_signal_900_6', 'M5_raw_slope_signal_600_3_diff', 'M10_raw_10min_slope_angle_900_6_diff', 'M10_raw_10min_slope_signal_300_6 - slope_signal_600_6', 'M10_raw_10min_slope_lin_reg_signal_600_6 - slope_lin_reg_signal_900_9', 'M5_raw_slope_lin_reg_signal_300_3_diff', 'M10_scale_10min_BB_upper_20_diff', 'M5_raw_WilliamsR_14', 'M10_raw_10min_CMF_diff', 'M5_raw_slope_signal_900_6_diff', 'M10_raw_10min_slope_div_300_6 - slope_div_300_9', 'M5_raw_EFI_diff', 'M5_scale_PVI_diff', 'M5_scale_EMA_15_diff', 'M10_scale_10min_VWAP_basic_diff', 'M10_raw_10min_slope_signal_600_6_diff', 'M10_scale_10min_BB_middle_20_diff', 'M10_raw_10min_slope_lin_reg_signal_300_9 - slope_lin_reg_signal_600_9', 'M5_raw_slope_signal_300_3 - slope_signal_600_3', 'M10_raw_10min_MACD_signal_12_26_9_diff', 'M10_raw_10min_slope_angle_300_3 - slope_angle_600_6', 'M5_scale_VWAP_basic', 'M5_scale_EMA_100_above_EMA_200', 'M10_scale_10min_EMA_15_above_EMA_100', 'M10_raw_10min_TMF', 'M10_raw_10min_slope_lin_reg_signal_600_9_diff', 'M10_scale_10min_MACD_signal_12_26_9_diff', 'M5_scale_EFI_diff', 'M10_raw_10min_slope_signal_600_3_diff', 'M10_raw_10min_slope_signal_300_3 - slope_signal_300_9', 'M10_raw_10min_slope_lin_reg_signal_600_6 - slope_lin_reg_signal_600_9', 'M5_raw_slope_signal_600_3 - slope_signal_600_6', 'M5_raw_WAD_diff', 'M5_raw_MFI_3', 'M10_raw_10min_slope_signal_900_9', 'M10_scale_10min_Market_Facilitation_Index_diff', 'M5_raw_slope_angle_300_6_diff', 'M10_raw_10min_EOM', 'M10_raw_10min_slope_lin_reg_signal_900_3_diff', 'M10_raw_10min_slope_signal_900_3_diff', 'M5_raw_slope_lin_reg_signal_900_3_diff', 'M5_raw_slope_lin_reg_signal_900_9', 'M10_raw_10min_slope_signal_900_9_diff', 'M10_raw_10min_RSI_7 - RSI_14', 'M10_raw_10min_slope_div_300_3 - slope_div_600_6', 'M5_scale_slope_lin_reg_300_3_diff', 'M10_raw_10min_slope_lin_reg_signal_300_6 - slope_lin_reg_signal_600_9', 'M10_raw_10min_slope_signal_600_3 - slope_signal_600_6', 'M5_raw_slope_angle_300_6 - slope_angle_600_6', 'M5_raw_OBV_basic_diff', 'M10_scale_10min_EMA_50_above_EMA_100', 'M5_raw_slope_angle_300_6', 'M10_raw_10min_slope_signal_600_6', 'M10_raw_10min_MACD_12_26_9_diff', 'M10_raw_10min_slope_div_300_6_diff', 'M5_raw_slope_lin_reg_signal_600_6 - slope_lin_reg_signal_600_9', 'M5_raw_slope_signal_300_3 - slope_signal_600_6', 'M10_scale_10min_WAD', 'M10_scale_10min_Market_Facilitation_Index', 'M10_scale_10min_AD_Line', 'M10_raw_10min_MFI_3 - MFI_14', 'M10_scale_10min_BB_lower_20_diff', 'M10_raw_10min_Kal_300_minus_Kal_600', 'M10_raw_10min_slope_angle_600_6_diff', 'M5_scale_slope_div_300_3', 'M10_raw_10min_slope_angle_300_6 - slope_angle_300_9', 'M5_scale_ADX_14', 'M5_raw_slope_lin_reg_signal_600_3 - slope_lin_reg_signal_600_9', 'M5_raw_slope_lin_reg_signal_300_9 - slope_lin_reg_signal_900_9', 'M5_raw_Kal_600_minus_Kal_900', 'M5_raw_Momentum_10', 'M10_raw_10min_slope_div_300_3 - slope_div_900_6', 'M10_raw_10min_slope_angle_300_3 - slope_angle_300_9', 'M5_raw_MACD_12_26_9', 'M10_scale_10min_Momentum_10', 'M5_raw_BB_lower_20_diff', 'M5_scale_VWAP_basic_diff', 'M10_scale_10min_EMA_21_above_EMA_50', 'M10_raw_10min_slope_angle_300_3 - slope_angle_600_3', 'M5_raw_slope_lin_reg_signal_900_6 - slope_lin_reg_signal_900_9', 'M5_raw_Stoch_D_14_3_3_diff', 'M10_raw_10min_MFI_3 - MFI_7', 'M10_raw_10min_slope_angle_300_6_diff', 'M10_raw_10min_slope_angle_600_9_diff', 'M10_raw_10min_slope_lin_reg_300_3 - slope_lin_reg_600_9', 'M5_scale_ATR_14', 'M10_raw_10min_slope_angle_300_9_diff', 'M5_raw_CMF', 'M5_raw_slope_signal_600_3 - slope_signal_900_3', 'M10_raw_10min_slope_angle_600_6 - slope_angle_900_6', 'M10_raw_10min_slope_lin_reg_signal_600_6 - slope_lin_reg_signal_900_3', 'M10_raw_10min_NVI_diff', 'M10_raw_10min_BB_lower_20_diff', 'M10_raw_10min_slope_signal_600_9 - slope_signal_900_9', 'M5_raw_EOM_diff', 'M5_scale_BB_upper_20', 'M10_raw_10min_slope_angle_300_3 - slope_angle_300_6', 'M5_raw_slope_signal_300_6 - slope_signal_900_9', 'M5_scale_VPT', 'M5_raw_ADX_14', 'M5_scale_slope_div_300_9 - slope_div_600_9', 'M10_raw_10min_Momentum_10', 'M10_raw_10min_MFI_3_diff', 'M5_scale_Kal_change_300', 'M10_raw_10min_Market_Facilitation_Index_diff', 'M10_raw_10min_slope_angle_300_6 - slope_angle_600_6', 'M10_raw_10min_slope_lin_reg_signal_300_3 - slope_lin_reg_signal_300_9', 'M5_raw_slope_lin_reg_signal_300_6 - slope_lin_reg_signal_600_9', 'M5_scale_slope_lin_reg_600_9_diff', 'M10_raw_10min_slope_lin_reg_signal_600_9 - slope_lin_reg_signal_900_6', 'M10_raw_10min_slope_angle_600_3 - slope_angle_900_3', 'M5_scale_BB_middle_20_diff', 'M10_raw_10min_slope_lin_reg_signal_600_9 - slope_lin_reg_signal_900_3', 'M5_raw_slope_angle_300_6 - slope_angle_300_9', 'M5_raw_slope_lin_reg_300_3_diff', 'M10_raw_10min_slope_signal_900_6 - slope_signal_900_9', 'M5_scale_slope_lin_reg_600_6_diff', 'M10_raw_10min_slope_signal_300_3 - slope_signal_600_6', 'M5_scale_EMA_50_above_EMA_200', 'M10_scale_10min_VPT', 'M10_raw_10min_MFI_3', 'M10_scale_10min_EMA_100_above_EMA_200', 'M5_raw_slope_signal_300_3 - slope_signal_900_9', 'M5_raw_slope_lin_reg_signal_300_9_diff', 'M5_raw_slope_signal_300_9 - slope_signal_600_9', 'M10_raw_10min_slope_angle_300_3 - slope_angle_900_6', 'M5_raw_slope_lin_reg_300_6_diff', 'M5_scale_slope_lin_reg_300_6_diff', 'M5_raw_ATR_14', 'M10_scale_10min_EFI', 'M5_raw_EOM', 'M5_raw_VFI_diff', 'M10_raw_10min_slope_div_300_9 - slope_div_600_9', 'M10_raw_10min_slope_signal_300_9_diff', 'M5_raw_slope_div_300_3', 'M5_scale_EMA_21_above_EMA_100', 'M5_raw_CMF_diff', 'M5_raw_slope_signal_300_6 - slope_signal_900_6', 'M10_raw_10min_slope_lin_reg_signal_600_6 - slope_lin_reg_signal_900_6', 'M5_raw_Market_Facilitation_Index_diff', 'M5_raw_VFI', 'M10_raw_10min_MFI_basic_14_diff', 'M10_scale_10min_ADX_14', 'M5_raw_NVI_diff', 'M5_scale_Market_Facilitation_Index_diff', 'M10_raw_10min_slope_angle_300_3 - slope_angle_600_9', 'M10_scale_10min_EMA_21_above_EMA_100', 'M5_raw_slope_lin_reg_300_3 - slope_lin_reg_600_9', 'M5_raw_TMF', 'M5_raw_slope_angle_300_9 - slope_angle_600_9', 'M5_raw_slope_div_900_3', 'M5_scale_slope_div_300_3 - slope_div_600_6', 'M10_raw_10min_slope_div_300_3 - slope_div_600_9', 'M5_raw_slope_signal_300_3 - slope_signal_900_6', 'M5_raw_MFI_3 - MFI_7', 'M5_scale_Momentum_10', 'M10_raw_10min_VFI', 'M5_scale_slope_div_300_6 - slope_div_900_9', 'M5_scale_Market_Facilitation_Index', 'M10_raw_10min_slope_angle_600_6 - slope_angle_600_9', 'M10_raw_10min_MFI_7 - MFI_14', 'M10_raw_10min_slope_angle_300_6 - slope_angle_600_9', 'M5_raw_slope_lin_reg_300_3 - slope_lin_reg_600_3', 'M10_scale_10min_VFI', 'M10_raw_10min_MFI_7', 'M10_raw_10min_Kal_600_minus_Kal_900', 'M5_scale_EMA_50_above_EMA_100', 'M5_scale_EMA_21_above_EMA_50', 'M5_raw_slope_signal_300_9 - slope_signal_900_9', 'M5_raw_Stoch_D_14_3_3', 'M5_raw_MACD_signal_12_26_9_diff', 'M10_scale_10min_OBV_basic', 'M5_raw_Kal_prev2_minus_now_300', 'M5_raw_slope_lin_reg_signal_300_9 - slope_lin_reg_signal_600_3', 'M5_scale_slope_div_300_3 - slope_div_300_6', 'M10_raw_10min_slope_lin_reg_signal_300_3 - slope_lin_reg_signal_900_6', 'M10_raw_10min_slope_lin_reg_signal_300_9_diff', 'M5_raw_slope_angle_600_9 - slope_angle_900_9', 'M10_raw_10min_Stoch_D_14_3_3_diff', 'M10_raw_10min_KO', 'M5_raw_slope_lin_reg_900_3_diff', 'M10_raw_10min_slope_div_300_6 - slope_div_900_9', 'M5_raw_MFI_basic_14_diff', 'M10_raw_10min_slope_div_300_6 - slope_div_600_9', 'M5_raw_slope_angle_300_3 - slope_angle_900_6', 'M5_scale_EFI', 'M5_raw_slope_lin_reg_signal_300_3 - slope_lin_reg_signal_300_9', 'M10_raw_10min_MFI_7_diff', 'M5_raw_slope_signal_300_9_diff', 'M10_raw_10min_slope_div_300_3 - slope_div_300_6', 'M10_raw_10min_slope_angle_900_9_diff', 'M5_scale_slope_div_300_6 - slope_div_600_9', 'M10_raw_10min_Momentum_10_diff', 'M5_raw_MFI_7 - MFI_14', 'M10_raw_10min_slope_signal_300_6 - slope_signal_600_9', 'M10_raw_10min_VFI_diff', 'M5_scale_slope_div_600_3', 'M5_raw_slope_signal_600_6_diff', 'M10_raw_10min_slope_angle_600_3 - slope_angle_600_6', 'M5_raw_slope_angle_600_6_diff', 'M5_raw_ADX_14_diff', 'M5_raw_slope_lin_reg_600_3_diff', 'M10_raw_10min_slope_angle_300_9 - slope_angle_600_9', 'M10_raw_10min_ADX_14_diff', 'M10_raw_10min_CMF', 'M5_raw_VWAP_basic_diff', 'M10_raw_10min_slope_angle_600_9 - slope_angle_900_9', 'M10_scale_10min_NVI', 'M5_raw_slope_angle_300_6 - slope_angle_900_9', 'M5_raw_slope_signal_300_9 - slope_signal_600_6', 'M5_raw_slope_lin_reg_signal_300_3 - slope_lin_reg_signal_300_6', 'M5_scale_AD_Line', 'M5_raw_BB_upper_20_diff', 'M5_raw_KO', 'M5_scale_KO', 'M5_raw_OBV_basic', 'M5_raw_slope_signal_300_3 - slope_signal_300_9', 'M10_raw_10min_slope_signal_300_9 - slope_signal_600_6', 'M5_raw_MFI_basic_14', 'M5_raw_slope_lin_reg_signal_900_3 - slope_lin_reg_signal_900_6', 'M5_raw_slope_signal_600_6 - slope_signal_600_9', 'M10_raw_10min_Market_Facilitation_Index', 'M10_raw_10min_Stoch_K_14_3_3', 'M5_raw_slope_lin_reg_signal_900_3 - slope_lin_reg_signal_900_9', 'M5_scale_MACD_12_26_9', 'M5_raw_slope_lin_reg_signal_600_3', 'M5_raw_MFI_7', 'M5_raw_BB_upper_20', 'M10_raw_10min_ADX_14', 'M5_raw_Kal_300_minus_Kal_600', 'M10_scale_10min_PVI', 'M10_raw_10min_MFI_basic_14', 'M10_scale_10min_EMA_15_above_EMA_200', 'M10_raw_10min_slope_lin_reg_signal_300_9 - slope_lin_reg_signal_900_9', 'M5_raw_slope_lin_reg_signal_300_6 - slope_lin_reg_signal_900_9', 'M5_scale_EMA_15_above_EMA_200', 'M5_scale_NVI', 'M10_scale_10min_EMA_15_above_EMA_50', 'M5_scale_slope_lin_reg_300_3 - slope_lin_reg_600_9', 'M5_scale_BB_upper_20_diff']\n"
          ]
        }
      ],
      "source": [
        "### Define Train dataframe\n",
        "\n",
        "print('Train_Min_Date', train.index.min())\n",
        "print('Train_Max_Date', train.index.max(),'\\n')\n",
        "\n",
        "print('Test_Min_Date', test.index.min())\n",
        "print('Test_Max_Date', test.index.max(),'\\n')\n",
        "\n",
        "print('Train_Columns : ',list(train.columns), '\\n')\n",
        "print('Test_Columns : ',list(test.columns))"
      ]
    },
    {
      "cell_type": "markdown",
      "id": "61614b7f",
      "metadata": {
        "id": "61614b7f"
      },
      "source": [
        "# Results\n"
      ]
    },
    {
      "cell_type": "code",
      "execution_count": null,
      "id": "JXY2HFrnLIwW",
      "metadata": {
        "id": "JXY2HFrnLIwW"
      },
      "outputs": [],
      "source": [
        "results(train, pnl_column='st_PnL')"
      ]
    },
    {
      "cell_type": "code",
      "execution_count": null,
      "id": "oQLNnk7XLUiJ",
      "metadata": {
        "id": "oQLNnk7XLUiJ"
      },
      "outputs": [],
      "source": [
        "results(test, pnl_column= 'st_PnL')"
      ]
    },
    {
      "cell_type": "markdown",
      "id": "85449914",
      "metadata": {
        "id": "85449914"
      },
      "source": [
        "\n",
        "# ML\n"
      ]
    },
    {
      "cell_type": "markdown",
      "id": "6x4lfhG3E2eq",
      "metadata": {
        "id": "6x4lfhG3E2eq"
      },
      "source": [
        "## Train"
      ]
    },
    {
      "cell_type": "code",
      "execution_count": 23,
      "id": "ceaa6efa",
      "metadata": {
        "colab": {
          "base_uri": "https://localhost:8080/"
        },
        "id": "ceaa6efa",
        "outputId": "2e60d967-4fd9-4d47-eb2a-b7630836f3aa"
      },
      "outputs": [
        {
          "output_type": "stream",
          "name": "stdout",
          "text": [
            "Shape of X_train: (33156, 340)\n",
            "Shape of X_test: (14210, 340)\n",
            "Shape of y_train: (33156,)\n",
            "Shape of y_test: (14210,)\n"
          ]
        }
      ],
      "source": [
        "### When using train_test_split it applies the scaler to X_train only\n",
        "start_feature = train.columns.get_loc('M10_raw_10min_RSI_basic_14_diff')\n",
        "train_features = [col for col in train.columns[start_feature:] if col != 'label']\n",
        "\n",
        "X = train.loc[:, train_features]\n",
        "y = train['label']\n",
        "\n",
        "X_train, X_test, y_train, y_test = train_test_split(X, y, test_size=0.3, random_state=42)\n",
        "\n",
        "print(\"Shape of X_train:\", X_train.shape)\n",
        "print(\"Shape of X_test:\",  X_test.shape)\n",
        "print(\"Shape of y_train:\", y_train.shape)\n",
        "print(\"Shape of y_test:\",  y_test.shape)"
      ]
    },
    {
      "cell_type": "code",
      "execution_count": 24,
      "id": "bQ7NohxSqFxk",
      "metadata": {
        "colab": {
          "base_uri": "https://localhost:8080/"
        },
        "id": "bQ7NohxSqFxk",
        "outputId": "0720ffea-809d-4c8c-acaf-76409536253d"
      },
      "outputs": [
        {
          "output_type": "stream",
          "name": "stdout",
          "text": [
            "label\n",
            "1    16642\n",
            "0    16514\n",
            "Name: count, dtype: int64\n",
            "label\n",
            "1    7106\n",
            "0    7104\n",
            "Name: count, dtype: int64\n"
          ]
        }
      ],
      "source": [
        "print(y_train.value_counts())\n",
        "print(y_test.value_counts())"
      ]
    },
    {
      "cell_type": "code",
      "execution_count": 25,
      "id": "G_0TrSpzsRuA",
      "metadata": {
        "colab": {
          "base_uri": "https://localhost:8080/"
        },
        "id": "G_0TrSpzsRuA",
        "outputId": "76342a9e-b3e1-4487-eede-881cd9601e48"
      },
      "outputs": [
        {
          "output_type": "stream",
          "name": "stdout",
          "text": [
            "M10_raw_10min_RSI_basic_14_diff  M10_scale_10min_ATR_14_diff  Open_Trade  M5_scale_MACD_12_26_9_diff  M10_raw_10min_RSI_3  M5_raw_Kal_change_300  M10_raw_10min_slope_lin_reg_signal_900_3  M10_raw_10min_CCI_20_diff  M5_raw_MACD_12_26_9_diff  M10_raw_10min_slope_signal_900_3  M10_raw_10min_slope_lin_reg_signal_900_6  M10_raw_10min_slope_lin_reg_signal_600_6  M5_raw_slope_signal_900_9  M5_scale_ATR_14_diff  M5_raw_RSI_basic_14_diff  M10_raw_10min_RSI_3 - RSI_7  M10_raw_10min_TMF_diff  M5_raw_Stoch_K_14_3_3_diff  M5_raw_EMA_15_diff  M10_raw_10min_KO_diff  M5_raw_CCI_20_diff  M10_raw_10min_slope_signal_300_3 - slope_signal_600_3  M5_raw_slope_lin_reg_signal_300_9  M10_raw_10min_slope_lin_reg_signal_900_9  M10_raw_10min_ATR_14_diff  M10_raw_10min_slope_lin_reg_signal_600_3 - slope_lin_reg_signal_900_9  M10_raw_10min_slope_lin_reg_signal_600_9 - slope_lin_reg_signal_900_9  M5_raw_RSI_7  M5_scale_WAD_diff  M5_scale_Kal_600_minus_Kal_900  M10_raw_10min_slope_lin_reg_signal_300_3 - slope_lin_reg_signal_900_3  M10_raw_10min_EMA_100_above_EMA_200  M10_raw_10min_WAD_diff  M10_raw_10min_slope_lin_reg_signal_600_6_diff  M10_raw_10min_AD_Line_diff  M10_raw_10min_slope_lin_reg_signal_300_6 - slope_lin_reg_signal_300_9  M10_raw_10min_slope_lin_reg_signal_300_3 - slope_lin_reg_signal_900_9  M10_raw_10min_MACD_hist_12_26_9_diff  M10_raw_10min_slope_lin_reg_signal_600_3  M5_raw_slope_signal_300_3  M10_raw_10min_slope_lin_reg_signal_300_6_diff  M5_raw_slope_div_300_6  M5_raw_ATR_14_diff  M10_raw_10min_slope_signal_300_3 - slope_signal_900_9  M10_raw_10min_Stoch_K_14_3_3_diff  M5_raw_AD_Line_diff  M10_raw_10min_slope_lin_reg_signal_600_3 - slope_lin_reg_signal_600_6  M10_scale_10min_PVI_diff  M10_raw_10min_RSI_basic_14  M10_raw_10min_WilliamsR_14  M5_raw_slope_lin_reg_signal_300_3  M10_raw_10min_EFI_diff  M10_scale_10min_Kal_change_600  M5_raw_slope_lin_reg_signal_300_6 - slope_lin_reg_signal_900_3  M10_raw_10min_slope_lin_reg_signal_300_6 - slope_lin_reg_signal_600_3  M10_scale_10min_EMA_15_diff  M10_raw_10min_slope_angle_300_3_diff  M10_raw_10min_Kal_change_600  M10_raw_10min_slope_lin_reg_signal_300_3 - slope_lin_reg_signal_300_6  M10_raw_10min_slope_lin_reg_signal_300_9 - slope_lin_reg_signal_600_3  M5_raw_TMF_diff  M10_raw_10min_slope_signal_600_9 - slope_signal_900_6  M10_raw_10min_EMA_15_diff  M10_raw_10min_slope_angle_300_3  M5_raw_KO_diff  M10_raw_10min_slope_signal_300_3 - slope_signal_600_9  M10_raw_10min_slope_lin_reg_signal_900_3 - slope_lin_reg_signal_900_9  M5_raw_slope_signal_300_3 - slope_signal_600_9  M5_scale_slope_div_300_6  M10_raw_10min_CCI_20  M10_raw_10min_slope_lin_reg_signal_600_9  M5_raw_slope_signal_300_3 - slope_signal_900_3  M10_scale_10min_EFI_diff  M5_raw_CCI_20  M10_raw_10min_slope_lin_reg_signal_900_3 - slope_lin_reg_signal_900_6  M5_raw_slope_lin_reg_signal_600_6 - slope_lin_reg_signal_900_3  M10_scale_10min_EOM_diff  M10_raw_10min_slope_signal_300_9 - slope_signal_900_9  M10_raw_10min_OBV_basic_diff  M10_raw_10min_slope_signal_300_6 - slope_signal_900_9  M10_scale_10min_ATR_14  M5_scale_EOM_diff  M10_raw_10min_EFI  M10_raw_10min_MACD_12_26_9  M10_raw_10min_slope_lin_reg_signal_600_3 - slope_lin_reg_signal_900_3  M5_raw_RSI_basic_14  M5_raw_slope_signal_300_6  M10_raw_10min_slope_div_300_3_diff  M10_raw_10min_slope_lin_reg_signal_600_3_diff  M5_raw_PVI_diff  M10_scale_10min_VWAP_basic  M10_raw_10min_BB_upper_20_diff  M10_raw_10min_PVI_diff  M5_raw_slope_lin_reg_signal_300_6_diff  M10_raw_10min_VWAP_basic_diff  M10_scale_10min_BB_upper_20  M10_raw_10min_BB_middle_20_diff  M5_raw_BB_middle_20_diff  M10_raw_10min_slope_signal_600_3 - slope_signal_900_6  M5_raw_slope_signal_300_3 - slope_signal_300_6  M5_raw_slope_lin_reg_signal_600_3 - slope_lin_reg_signal_900_6  M5_raw_slope_signal_600_3_diff  M10_raw_10min_slope_angle_900_6_diff  M10_raw_10min_slope_signal_300_6 - slope_signal_600_6  M10_raw_10min_slope_lin_reg_signal_600_6 - slope_lin_reg_signal_900_9  M5_raw_slope_lin_reg_signal_300_3_diff  M10_scale_10min_BB_upper_20_diff  M5_raw_WilliamsR_14  M10_raw_10min_CMF_diff  M5_raw_slope_signal_900_6_diff  M10_raw_10min_slope_div_300_6 - slope_div_300_9  M5_raw_EFI_diff  M5_scale_PVI_diff  M5_scale_EMA_15_diff  M10_scale_10min_VWAP_basic_diff  M10_raw_10min_slope_signal_600_6_diff  M10_scale_10min_BB_middle_20_diff  M10_raw_10min_slope_lin_reg_signal_300_9 - slope_lin_reg_signal_600_9  M5_raw_slope_signal_300_3 - slope_signal_600_3  M10_raw_10min_MACD_signal_12_26_9_diff  M10_raw_10min_slope_angle_300_3 - slope_angle_600_6  M5_scale_VWAP_basic  M5_scale_EMA_100_above_EMA_200  M10_scale_10min_EMA_15_above_EMA_100  M10_raw_10min_TMF  M10_raw_10min_slope_lin_reg_signal_600_9_diff  M10_scale_10min_MACD_signal_12_26_9_diff  M5_scale_EFI_diff  M10_raw_10min_slope_signal_600_3_diff  M10_raw_10min_slope_signal_300_3 - slope_signal_300_9  M10_raw_10min_slope_lin_reg_signal_600_6 - slope_lin_reg_signal_600_9  M5_raw_slope_signal_600_3 - slope_signal_600_6  M5_raw_WAD_diff  M5_raw_MFI_3   M10_raw_10min_slope_signal_900_9  M10_scale_10min_Market_Facilitation_Index_diff  M5_raw_slope_angle_300_6_diff  M10_raw_10min_EOM  M10_raw_10min_slope_lin_reg_signal_900_3_diff  M10_raw_10min_slope_signal_900_3_diff  M5_raw_slope_lin_reg_signal_900_3_diff  M5_raw_slope_lin_reg_signal_900_9  M10_raw_10min_slope_signal_900_9_diff  M10_raw_10min_RSI_7 - RSI_14  M10_raw_10min_slope_div_300_3 - slope_div_600_6  M5_scale_slope_lin_reg_300_3_diff  M10_raw_10min_slope_lin_reg_signal_300_6 - slope_lin_reg_signal_600_9  M10_raw_10min_slope_signal_600_3 - slope_signal_600_6  M5_raw_slope_angle_300_6 - slope_angle_600_6  M5_raw_OBV_basic_diff  M10_scale_10min_EMA_50_above_EMA_100  M5_raw_slope_angle_300_6  M10_raw_10min_slope_signal_600_6  M10_raw_10min_MACD_12_26_9_diff  M10_raw_10min_slope_div_300_6_diff  M5_raw_slope_lin_reg_signal_600_6 - slope_lin_reg_signal_600_9  M5_raw_slope_signal_300_3 - slope_signal_600_6  M10_scale_10min_WAD  M10_scale_10min_Market_Facilitation_Index  M10_scale_10min_AD_Line  M10_raw_10min_MFI_3 - MFI_14  M10_scale_10min_BB_lower_20_diff  M10_raw_10min_Kal_300_minus_Kal_600  M10_raw_10min_slope_angle_600_6_diff  M5_scale_slope_div_300_3  M10_raw_10min_slope_angle_300_6 - slope_angle_300_9  M5_scale_ADX_14  M5_raw_slope_lin_reg_signal_600_3 - slope_lin_reg_signal_600_9  M5_raw_slope_lin_reg_signal_300_9 - slope_lin_reg_signal_900_9  M5_raw_Kal_600_minus_Kal_900  M5_raw_Momentum_10  M10_raw_10min_slope_div_300_3 - slope_div_900_6  M10_raw_10min_slope_angle_300_3 - slope_angle_300_9  M5_raw_MACD_12_26_9  M10_scale_10min_Momentum_10  M5_raw_BB_lower_20_diff  M5_scale_VWAP_basic_diff  M10_scale_10min_EMA_21_above_EMA_50  M10_raw_10min_slope_angle_300_3 - slope_angle_600_3  M5_raw_slope_lin_reg_signal_900_6 - slope_lin_reg_signal_900_9  M5_raw_Stoch_D_14_3_3_diff  M10_raw_10min_MFI_3 - MFI_7  M10_raw_10min_slope_angle_300_6_diff  M10_raw_10min_slope_angle_600_9_diff  M10_raw_10min_slope_lin_reg_300_3 - slope_lin_reg_600_9  M5_scale_ATR_14  M10_raw_10min_slope_angle_300_9_diff  M5_raw_CMF  M5_raw_slope_signal_600_3 - slope_signal_900_3  M10_raw_10min_slope_angle_600_6 - slope_angle_900_6  M10_raw_10min_slope_lin_reg_signal_600_6 - slope_lin_reg_signal_900_3  M10_raw_10min_NVI_diff  M10_raw_10min_BB_lower_20_diff  M10_raw_10min_slope_signal_600_9 - slope_signal_900_9  M5_raw_EOM_diff  M5_scale_BB_upper_20  M10_raw_10min_slope_angle_300_3 - slope_angle_300_6  M5_raw_slope_signal_300_6 - slope_signal_900_9  M5_scale_VPT  M5_raw_ADX_14  M5_scale_slope_div_300_9 - slope_div_600_9  M10_raw_10min_Momentum_10  M10_raw_10min_MFI_3_diff  M5_scale_Kal_change_300  M10_raw_10min_Market_Facilitation_Index_diff  M10_raw_10min_slope_angle_300_6 - slope_angle_600_6  M10_raw_10min_slope_lin_reg_signal_300_3 - slope_lin_reg_signal_300_9  M5_raw_slope_lin_reg_signal_300_6 - slope_lin_reg_signal_600_9  M5_scale_slope_lin_reg_600_9_diff  M10_raw_10min_slope_lin_reg_signal_600_9 - slope_lin_reg_signal_900_6  M10_raw_10min_slope_angle_600_3 - slope_angle_900_3  M5_scale_BB_middle_20_diff  M10_raw_10min_slope_lin_reg_signal_600_9 - slope_lin_reg_signal_900_3  M5_raw_slope_angle_300_6 - slope_angle_300_9  M5_raw_slope_lin_reg_300_3_diff  M10_raw_10min_slope_signal_900_6 - slope_signal_900_9  M5_scale_slope_lin_reg_600_6_diff  M10_raw_10min_slope_signal_300_3 - slope_signal_600_6  M5_scale_EMA_50_above_EMA_200  M10_scale_10min_VPT  M10_raw_10min_MFI_3  M10_scale_10min_EMA_100_above_EMA_200  M5_raw_slope_signal_300_3 - slope_signal_900_9  M5_raw_slope_lin_reg_signal_300_9_diff  M5_raw_slope_signal_300_9 - slope_signal_600_9  M10_raw_10min_slope_angle_300_3 - slope_angle_900_6  M5_raw_slope_lin_reg_300_6_diff  M5_scale_slope_lin_reg_300_6_diff  M5_raw_ATR_14  M10_scale_10min_EFI  M5_raw_EOM  M5_raw_VFI_diff  M10_raw_10min_slope_div_300_9 - slope_div_600_9  M10_raw_10min_slope_signal_300_9_diff  M5_raw_slope_div_300_3  M5_scale_EMA_21_above_EMA_100  M5_raw_CMF_diff  M5_raw_slope_signal_300_6 - slope_signal_900_6  M10_raw_10min_slope_lin_reg_signal_600_6 - slope_lin_reg_signal_900_6  M5_raw_Market_Facilitation_Index_diff  M5_raw_VFI  M10_raw_10min_MFI_basic_14_diff  M10_scale_10min_ADX_14  M5_raw_NVI_diff  M5_scale_Market_Facilitation_Index_diff  M10_raw_10min_slope_angle_300_3 - slope_angle_600_9  M10_scale_10min_EMA_21_above_EMA_100  M5_raw_slope_lin_reg_300_3 - slope_lin_reg_600_9  M5_raw_TMF  M5_raw_slope_angle_300_9 - slope_angle_600_9  M5_raw_slope_div_900_3  M5_scale_slope_div_300_3 - slope_div_600_6  M10_raw_10min_slope_div_300_3 - slope_div_600_9  M5_raw_slope_signal_300_3 - slope_signal_900_6  M5_raw_MFI_3 - MFI_7  M5_scale_Momentum_10  M10_raw_10min_VFI  M5_scale_slope_div_300_6 - slope_div_900_9  M5_scale_Market_Facilitation_Index  M10_raw_10min_slope_angle_600_6 - slope_angle_600_9  M10_raw_10min_MFI_7 - MFI_14  M10_raw_10min_slope_angle_300_6 - slope_angle_600_9  M5_raw_slope_lin_reg_300_3 - slope_lin_reg_600_3  M10_scale_10min_VFI  M10_raw_10min_MFI_7  M10_raw_10min_Kal_600_minus_Kal_900  M5_scale_EMA_50_above_EMA_100  M5_scale_EMA_21_above_EMA_50  M5_raw_slope_signal_300_9 - slope_signal_900_9  M5_raw_Stoch_D_14_3_3  M5_raw_MACD_signal_12_26_9_diff  M10_scale_10min_OBV_basic  M5_raw_Kal_prev2_minus_now_300  M5_raw_slope_lin_reg_signal_300_9 - slope_lin_reg_signal_600_3  M5_scale_slope_div_300_3 - slope_div_300_6  M10_raw_10min_slope_lin_reg_signal_300_3 - slope_lin_reg_signal_900_6  M10_raw_10min_slope_lin_reg_signal_300_9_diff  M5_raw_slope_angle_600_9 - slope_angle_900_9  M10_raw_10min_Stoch_D_14_3_3_diff  M10_raw_10min_KO  M5_raw_slope_lin_reg_900_3_diff  M10_raw_10min_slope_div_300_6 - slope_div_900_9  M5_raw_MFI_basic_14_diff  M10_raw_10min_slope_div_300_6 - slope_div_600_9  M5_raw_slope_angle_300_3 - slope_angle_900_6  M5_scale_EFI  M5_raw_slope_lin_reg_signal_300_3 - slope_lin_reg_signal_300_9  M10_raw_10min_MFI_7_diff  M5_raw_slope_signal_300_9_diff  M10_raw_10min_slope_div_300_3 - slope_div_300_6  M10_raw_10min_slope_angle_900_9_diff  M5_scale_slope_div_300_6 - slope_div_600_9  M10_raw_10min_Momentum_10_diff  M5_raw_MFI_7 - MFI_14  M10_raw_10min_slope_signal_300_6 - slope_signal_600_9  M10_raw_10min_VFI_diff  M5_scale_slope_div_600_3  M5_raw_slope_signal_600_6_diff  M10_raw_10min_slope_angle_600_3 - slope_angle_600_6  M5_raw_slope_angle_600_6_diff  M5_raw_ADX_14_diff  M5_raw_slope_lin_reg_600_3_diff  M10_raw_10min_slope_angle_300_9 - slope_angle_600_9  M10_raw_10min_ADX_14_diff  M10_raw_10min_CMF  M5_raw_VWAP_basic_diff  M10_raw_10min_slope_angle_600_9 - slope_angle_900_9  M10_scale_10min_NVI  M5_raw_slope_angle_300_6 - slope_angle_900_9  M5_raw_slope_signal_300_9 - slope_signal_600_6  M5_raw_slope_lin_reg_signal_300_3 - slope_lin_reg_signal_300_6  M5_scale_AD_Line  M5_raw_BB_upper_20_diff  M5_raw_KO   M5_scale_KO  M5_raw_OBV_basic  M5_raw_slope_signal_300_3 - slope_signal_300_9  M10_raw_10min_slope_signal_300_9 - slope_signal_600_6  M5_raw_MFI_basic_14  M5_raw_slope_lin_reg_signal_900_3 - slope_lin_reg_signal_900_6  M5_raw_slope_signal_600_6 - slope_signal_600_9  M10_raw_10min_Market_Facilitation_Index  M10_raw_10min_Stoch_K_14_3_3  M5_raw_slope_lin_reg_signal_900_3 - slope_lin_reg_signal_900_9  M5_scale_MACD_12_26_9  M5_raw_slope_lin_reg_signal_600_3  M5_raw_MFI_7  M5_raw_BB_upper_20  M10_raw_10min_ADX_14  M5_raw_Kal_300_minus_Kal_600  M10_scale_10min_PVI  M10_raw_10min_MFI_basic_14  M10_scale_10min_EMA_15_above_EMA_200  M10_raw_10min_slope_lin_reg_signal_300_9 - slope_lin_reg_signal_900_9  M5_raw_slope_lin_reg_signal_300_6 - slope_lin_reg_signal_900_9  M5_scale_EMA_15_above_EMA_200  M5_scale_NVI  M10_scale_10min_EMA_15_above_EMA_50  M5_scale_slope_lin_reg_300_3 - slope_lin_reg_600_9  M5_scale_BB_upper_20_diff\n",
            " 46.100519                       11.699327                     1.0         11.552587                  90.679190             1.664523              0.0                                        826.258887                 1.129276                 1.0                               0.0                                       0.0                                       1.0                         13.236292             54.591970                 5.930339                     0.275098                26.217387                   1.686839            135.311359             686.810781         0.0                                                    0.0                                0.0                                       1.072155                   0.0                                                                    0.0                                                                    87.700264      12.382945         -4.298481                       0.0                                                                    0.0                                   13.78                  0.0                                             3442.857143                0.0                                                                    0.0                                                                     0.818767                             0.0                                       1.0                        0.0                                            -0.029148                1.072616           0.0                                                     23.165390                          2397.712834         0.0                                                                     11.574224                79.823966                   -13.321699                  0.0                                 9567.149275             5.530472                        0.0                                                            0.0                                                                     6.844535                     70.914823                             2.119485                     0.0                                                                    0.0                                                                     0.307799        0.0                                                     1.458310                   21.245156                        79.761369      0.0                                                    0.0                                                                     0.0                                            -0.072701                  528.072310           0.0                                       0.0                                              13.448201                 466.707851    0.0                                                                    0.0                                                              10.782825                0.0                                                     4820.0                       0.0                                                    3.227621                 13.425772          9016.704351        1.009175                   0.0                                                                    82.684467            1.0                         0.522225                           0.0                                             9.753178        1.712161                    3.942130                         7.805355               0.0                                      0.007040                       2.318054                     0.5925                           0.6360                   0.0                                                    0.0                                             0.0                                                              1.0                             105.298262                           0.0                                                    0.0                                                                    0.0                                     10.197226                         -2.781065             0.143146                1.0                             0.004142                                         5615.648542      13.349708          10.684775             7.753781                         1.0                                    3.554896                          0.0                                                                    0.0                                              0.110038                               -7.553530                                             2.006376             1.125328                        1.389774                              0.200894          0.0                                             1.609478                                  14.014153          1.0                                   0.0                                                    0.0                                                                    0.0                                              15.31            5.849443e+01  1.0                               3.046276                                         52.510989                      0.001697          0.0                                             1.0                                   0.0                                     0.0                                 1.0                                    4.924884                      0.037973                                        -2.890878                          0.0                                                                    0.0                                                    -27.972438                                     2550.0                 1.579946                             -9.919969                 1.0                                0.928806                         0.216519                           0.0                                                             0.0                                              3.689831            3.344769                                    2.955194                 10.129500                    -7.723824                         -0.157318                             85.544255                             1.492849                  0.530512                                             0.046474        0.0                                                              0.0                                                            -0.563580                      12.04              -0.042950                                         18.570638                                            0.628410             4.528338                    -3.260002                 9.342883                  1.344551                            -22.072963                                           0.0                                                              10.254385                   12.656880                    54.390784                             88.205534                             0.067681                                                7.607799          55.337020                             0.215190   0.0                                             -17.193863                                           0.0                                                                    0.0                     -2.757130                       0.0                                                     0.003622         3.054751              18.040126                                           0.0                                              12.930034    29.915587      -0.886457                                    11.11                      59.397621                 8.037530                0.002004                                      -25.593656                                           0.0                                                                     0.0                                                            -2.567605                          0.0                                                                    -12.359274                                            6.911544                   0.0                                                                     13.488548                                    -0.527263                        0.0                                                    -2.726832                          0.0                                                     1.102774                       9.527884            59.397621            -0.159727                              0.0                                             0.0                                     0.0                                             -24.747393                                           -0.533966                        -2.780071                          1.835994        12.214146            0.003190    7.018928        -0.056927                                         1.0                                    0.220833                1.160248                       0.243024        0.0                                             0.0                                                                     0.005423                               5.673194    26.668554                       -0.269138                0.000000         4.826631                                -7.962513                                             1.405400                              0.168104                                          0.317622   -16.626389                                     0.743918                3.386639                                    0.067476                                        0.0                                              16.417699             7.967667              2.831385          -2.307772                                    4.297165                           -0.408983                                            -2.527380                     -26.002639                                            0.554739                                          1.040768            46.740742            -0.387425                             1.091702                       1.172198                     0.0                                             26.880245               0.147528                         0.348095                  -1.168915                        0.0                                                             3.576417                                   0.0                                                                    0.0                                            -29.036760                                     5.475870                           41.210455        -0.651047                        -0.123499                                         22.476655                -0.052785                                        -11.038796                                     13.857967    0.0                                                              39.555748                 1.0                             0.120261                                         109.702977                           -0.461764                                    13.67                           5.159622              0.0                                                     5.937456                2.567790                  1.0                             14.519433                                            85.828650                      2.515902           -0.624227                        -26.533151                                            2.460732                   0.131037           0.013141               -20.880612                                            0.985429            -32.174601                                    0.0                                             0.0                                                              4.289387          4.532002                 7.236241    0.407431    -93675.0           0.0                                            0.0                                                    36.917112            0.0                                                              0.0                                            0.003326                                 42.875708                     0.0                                                              1.764992              0.0                                42.076734     1401.646477         23.423562             -0.448008                      2.914385            49.268121                    1.825127                             0.0                                                                     0.0                                                             1.113982                       2.347635      1.148457                             0.642405                                            12.862242                   1\n",
            "-42.825703                       9.955324                     -1.0        -2.299914                   7.849631             -0.069822              1.0                                       -161.171836                -0.147295                 0.0                               1.0                                       1.0                                       0.0                         2.378857             -15.396326                -13.974749                   -0.240649               -12.737676                   0.016944           -45.229467             -83.107508          0.0                                                    1.0                                1.0                                       0.780244                   0.0                                                                    0.0                                                                    48.410794     -2.521669           0.738497                       0.0                                                                    0.0                                  -11.87                  0.0                                            -1327.774167                0.0                                                                    0.0                                                                    -0.818220                             1.0                                       0.0                        0.0                                             0.161467                0.060686           0.0                                                    -29.640703                         -337.789189          0.0                                                                    -10.625600                33.453775                   -96.521739                  1.0                                -2447.847212            -4.043437                        0.0                                                            0.0                                                                    -4.129240                    -52.647981                            -2.052812                     0.0                                                                    0.0                                                                    -0.121080        0.0                                                    -1.062452                   11.022376                       -14.236170      0.0                                                    0.0                                                                     0.0                                             0.546059                 -56.539646            1.0                                       0.0                                             -10.269440                 58.117556     0.0                                                                    0.0                                                             -9.097057                 0.0                                                    -1430.0                       0.0                                                    1.878753                -1.479355          -2172.616731        1.174370                   0.0                                                                    60.100311            0.0                        -0.608643                           0.0                                            -0.308384        1.589790                    0.248912                        -2.279911               0.0                                      0.002567                       0.965309                    -0.1350                           0.1545                   0.0                                                    0.0                                             0.0                                                              0.0                            -107.295423                           0.0                                                    0.0                                                                    0.0                                     0.642457                          -61.875000           -0.104481               -1.0                            -0.218882                                        -107.546970      -3.642064          -0.119423              3.298786                         0.0                                   -0.639692                          0.0                                                                    0.0                                             -0.059322                               -18.204550                                            1.968741             4.347988                        1.661240                             -0.084552          0.0                                            -0.883616                                 -5.315936           0.0                                   0.0                                                    0.0                                                                    0.0                                             -1.64             6.181119e+01  0.0                               4.273659                                        -8.679261                      -0.000873          0.0                                            -1.0                                   0.0                                     1.0                                 0.0                                   -11.629394                    -0.028321                                         0.491962                          0.0                                                                    0.0                                                    -1.279022                                     -437.0                  1.775059                              44.092175                0.0                               -0.877542                        -0.333919                           0.0                                                             0.0                                             -1.402304            4.013011                                   -1.042946                -32.263557                    -1.454895                          0.438894                            -44.602953                             0.173196                 -12.387100                                            3.533348        0.0                                                              0.0                                                             0.111404                      0.30                0.195483                                        -68.824777                                            1.559190            -2.389949                     0.414056                 2.936665                  1.374430                             59.216599                                           0.0                                                             -4.036086                   -14.994621                   -9.772088                             -6.459086                             -0.971460                                                1.803439         -2.825479                             -0.008288   0.0                                              67.299531                                           0.0                                                                    0.0                     -0.518912                       0.0                                                    -0.000347         2.863499             -56.437677                                           0.0                                              2.165456     56.540880       0.319469                                   -7.41                      -55.028970                -0.528371                0.006600                                       38.233127                                           0.0                                                                     0.0                                                             0.759347                          0.0                                                                     14.914117                                            0.935449                   0.0                                                                    -8.930580                                      0.166452                        0.0                                                     0.373952                          0.0                                                     3.272748                      -2.884965            44.971030            -0.987571                              0.0                                             0.0                                     0.0                                              49.094981                                            0.152736                         0.410552                          1.061076       -6.992673             0.000651   -1.196284         0.177879                                         0.0                                    0.088522                1.315685                      -0.053413        0.0                                             0.0                                                                     0.001906                               10.623933  -11.933884                        3.804742                0.000000         0.785973                                -64.884603                                            1.851276                              0.294878                                         -0.041900    4.021930                                      0.042480               -1.422989                                   -0.377651                                        0.0                                             -18.447177            -0.048476             -9.324444           0.163805                                   -0.027379                           -46.680053                                           -17.268936                    -8.446926                                             0.270409                                         -1.000003            59.965650             0.794482                             1.505754                       1.027884                     0.0                                             76.882721              -0.020757                        -0.645845                  -0.100809                        0.0                                                            -0.909146                                   0.0                                                                    0.0                                            -4.291480                                     -9.850216                           16.232329         0.189393                         0.125893                                        -10.473156                -0.041003                                        -33.023669                                    -1.038915     0.0                                                             -28.604194                 0.0                            -0.336648                                        -13.611773                             0.685225                                   -12.55                           10.678482             0.0                                                     0.369341                0.072768                 -1.0                            -77.421149                                           -11.015998                     -1.368710            0.184071                         3.940174                                            -0.215122                   0.037424           0.000737                7.858329                                             1.089172            -9.200131                                     0.0                                             0.0                                                             -0.253764         -0.105056                 5.984862   -0.003258     457124.0          0.0                                            0.0                                                    69.579885            0.0                                                              0.0                                            0.008608                                 63.951384                     0.0                                                              2.137567              1.0                                80.258367     1927.785498         35.354313              0.360830                     -3.220182            77.234586                    1.247510                             0.0                                                                     0.0                                                             1.994994                       2.950742      1.389774                             0.894029                                           -0.585404                    1\n",
            "                                                                          -0.785179                   7.849631             -0.310476              1.0                                       -161.171836                -0.158226                 0.0                               1.0                                       1.0                                       0.0                         1.660636             -5.039453                 -13.974749                   -0.240649               -12.034913                  -0.483721           -45.229467             -17.266404          0.0                                                    1.0                                1.0                                       0.780244                   0.0                                                                    0.0                                                                    33.070141     -2.813343           1.183086                       0.0                                                                    0.0                                  -11.87                  0.0                                            -1327.774167                0.0                                                                    0.0                                                                    -0.818220                             1.0                                       0.0                        0.0                                             0.508093                0.123928           0.0                                                    -29.640703                         -516.086768          0.0                                                                    -10.625600                33.453775                   -96.521739                  1.0                                -2447.847212            -4.043437                        1.0                                                            0.0                                                                    -4.129240                    -52.647981                            -2.052812                     0.0                                                                    0.0                                                                    -0.067602        0.0                                                    -1.062452                   11.022376                       -2.969371       0.0                                                    0.0                                                                     0.0                                             0.937833                 -56.539646            1.0                                       0.0                                             -10.269440                -18.151241     0.0                                                                    0.0                                                             -9.097057                 0.0                                                    -1430.0                       0.0                                                    1.878753                -0.299897          -2172.616731        1.174370                   0.0                                                                    37.278424            0.0                        -0.608643                           0.0                                             0.000000        1.589790                    0.248912                        -2.279911               0.0                                      0.002567                       0.965309                    -0.1350                          -0.1845                   0.0                                                    0.0                                             0.0                                                              0.0                            -107.295423                           0.0                                                    0.0                                                                    0.0                                     0.642457                          -77.109602           -0.104481                0.0                            -0.218882                                        -269.924989       0.056027          -1.277169              3.298786                         0.0                                   -0.639692                          0.0                                                                    0.0                                             -0.059322                               -18.204550                                            2.482841            -0.273665                        1.661240                             -0.084552          0.0                                            -0.883616                                 -1.926488           0.0                                   0.0                                                    0.0                                                                    0.0                                             -3.77            -6.591487e-13  0.0                               4.273659                                        -5.992527                      -0.000873          0.0                                            -1.0                                   0.0                                     0.0                                 0.0                                   -11.629394                    -0.028321                                         0.329470                          0.0                                                                    0.0                                                     34.876273                                    -812.0                  1.775059                              71.839283                0.0                               -0.877542                        -0.333919                           0.0                                                             0.0                                             -1.402304            4.013011                                   -1.042946                -32.263557                    -1.454895                          0.438894                            -44.602953                             0.190491                 -12.387100                                            0.415827        0.0                                                              1.0                                                             0.560576                     -2.41                0.195483                                        -68.824777                                           -1.915944            -2.389949                    -0.170526                 2.539775                  1.374430                             59.216599                                           0.0                                                             -8.349413                   -14.994621                   -9.772088                             -6.459086                             -0.971460                                                3.255620         -2.825479                              0.010990   0.0                                              67.299531                                           0.0                                                                    0.0                     -0.518912                       0.0                                                    -0.000201        -1.556005             -56.437677                                           0.0                                             -3.103233     31.653757       0.755477                                   -7.41                      -55.028970                -0.433133                0.006600                                       38.233127                                           0.0                                                                     1.0                                                            -0.213770                          0.0                                                                     14.914117                                           -0.504732                   0.0                                                                    -9.296841                                      0.183762                        0.0                                                    -0.605151                          0.0                                                    -0.350682                      -2.884965            44.971030            -0.987571                              0.0                                             0.0                                     0.0                                              49.094981                                            0.160191                         0.273696                          2.998941       -6.992673             0.001112   -2.354190         0.177879                                         0.0                                    0.087367               -0.789231                      -0.083756        0.0                                             0.0                                                                     0.000651                              -10.647765  -11.933884                        3.804742               -5.211691         0.266582                                -64.884603                                            1.851276                             -3.302235                                         -0.051478    1.515160                                     -0.845686               -0.227498                                   -0.377651                                        0.0                                             -27.447875            -0.450298             -9.324444           1.852888                                    0.591801                           -46.680053                                           -17.268936                    -8.446926                                            -1.665266                                         -1.000003            59.965650             0.794482                            -0.700053                      -0.997497                     0.0                                             57.320016               0.094373                        -0.645845                   0.145001                        1.0                                                            -1.844527                                   0.0                                                                    0.0                                             6.955018                                     -9.850216                           16.232329        -0.685551                         0.125893                                        -7.262230                 -0.041003                                         68.676506                                    -1.141254     0.0                                                             -28.604194                 0.0                            -0.336648                                        -13.611773                            -1.099811                                   -12.55                          -14.750838             0.0                                                     0.369341               -0.656742                  0.0                            -77.421149                                           -36.235363                     -0.560968           -0.364106                         3.940174                                            -0.215122                   0.037424           0.001259                7.858329                                             1.089172            -0.826663                                     0.0                                             0.0                                                             -1.406296         -0.198474                -19.476732  -0.857938     453884.0          0.0                                            0.0                                                    42.198713            0.0                                                              0.0                                            0.008608                                 63.951384                     0.0                                                             -1.427240              0.0                                27.447875     1914.171129         35.354313             -0.973205                     -3.220182            77.234586                    1.247510                             0.0                                                                     1.0                                                            -0.522031                       0.177525      1.389774                            -3.274361                                           -0.288488                    1\n",
            "                                                               1.0         2.023654                   7.849631              0.202915              1.0                                       -161.171836                 0.346896                 0.0                               1.0                                       1.0                                       1.0                         2.135876              11.685319                -13.974749                   -0.240649                0.951673                   -0.155098           -45.229467              22.823213          0.0                                                    0.0                                1.0                                       0.780244                   0.0                                                                    0.0                                                                    48.750270      3.429793          -3.896678                       0.0                                                                    0.0                                  -11.87                  0.0                                            -1327.774167                0.0                                                                    0.0                                                                    -0.818220                             1.0                                       1.0                        0.0                                            -0.862918                0.151510           0.0                                                    -29.640703                          569.882474          0.0                                                                    -10.625600                33.453775                   -96.521739                  0.0                                -2447.847212            -4.043437                       -1.0                                                            0.0                                                                    -4.129240                    -52.647981                            -2.052812                     0.0                                                                    0.0                                                                     0.082182        0.0                                                    -1.062452                   11.022376                        23.309937      0.0                                                    0.0                                                                     0.0                                            -1.448167                 -56.539646            1.0                                       0.0                                             -10.269440                -46.952551     0.0                                                                    0.0                                                             -9.097057                 0.0                                                    -1430.0                       0.0                                                    1.878753                 1.461851          -2172.616731        1.174370                   0.0                                                                    40.633108            1.0                        -0.608643                           0.0                                             0.828165        1.589790                    0.248912                        -2.279911               0.0                                      0.002567                       0.965309                    -0.1350                          -0.7940                   0.0                                                    0.0                                             0.0                                                              0.0                            -107.295423                           0.0                                                    0.0                                                                    0.0                                     0.642457                          -72.424980           -0.104481                0.0                            -0.218882                                         535.059336       4.200443          -0.347350              3.298786                         0.0                                   -0.639692                          0.0                                                                    0.0                                             -0.059322                               -18.204550                                            2.383415            -0.273665                        1.661240                             -0.084552          0.0                                            -0.883616                                  3.983922           0.0                                   0.0                                                    0.0                                                                    0.0                                              4.29             3.701408e+01  0.0                               4.273659                                         3.944781                      -0.000873          0.0                                            -1.0                                   0.0                                     1.0                                 0.0                                   -11.629394                    -0.028321                                        -0.565486                          0.0                                                                    0.0                                                    -68.570417                                     741.0                  1.775059                             -79.068315                0.0                               -0.877542                        -0.333919                           0.0                                                             0.0                                             -1.402304            4.013011                                   -1.042946                -32.263557                    -1.454895                          0.438894                            -44.602953                            -0.279137                 -12.387100                                            2.201054        0.0                                                             -1.0                                                            -1.523774                     -1.28                0.195483                                        -68.824777                                           -4.270123            -2.389949                    -0.361384                 2.737357                  1.374430                             59.216599                                           0.0                                                              0.823891                   -14.994621                   -9.772088                             -6.459086                             -0.971460                                                4.326933         -2.825479                              0.012300   0.0                                              67.299531                                           0.0                                                                    0.0                     -0.518912                       0.0                                                     0.000707         2.664806             -56.437677                                           0.0                                             -3.361415     53.540425      -5.640479                                   -7.41                      -55.028970                 0.443015                0.006600                                       38.233127                                           0.0                                                                    -1.0                                                             1.274012                          0.0                                                                     14.914117                                           -3.081677                   0.0                                                                     6.863082                                     -0.417320                        0.0                                                     1.332016                          0.0                                                    -0.350682                      -2.884965            44.971030            -0.987571                              0.0                                             0.0                                     0.0                                              49.094981                                           -0.086293                        -0.023795                          2.880374       -6.992673            -0.009570    2.385091         0.177879                                         0.0                                   -0.232589               -0.789231                       0.035762        0.0                                             0.0                                                                     0.002588                              -13.175936  -11.933884                        3.804742                0.000000         1.038905                                -64.884603                                            1.851276                              2.358001                                          0.071147   -2.196233                                      0.886417               -1.667317                                   -0.377651                                        0.0                                             -9.174920             -0.169756             -9.324444          -4.468408                                    0.941972                           -46.680053                                           -17.268936                    -8.446926                                            -0.410133                                         -1.000003            59.965650             0.794482                            -0.700053                      -0.997497                     0.0                                             18.410558              -0.105390                        -0.645845                   0.262505                       -1.0                                                             3.013206                                   0.0                                                                    0.0                                            -4.194663                                     -9.850216                           16.232329         0.480645                         0.125893                                         3.095050                 -0.041003                                        -104.249620                                   -0.116781     0.0                                                             -28.604194                 0.0                            -0.336648                                        -13.611773                             1.855069                                   -12.55                           25.337765             0.0                                                     0.369341                0.997633                  0.0                            -77.421149                                            64.548347                     -2.666560            0.308134                         3.940174                                            -0.215122                   0.037424           0.001150                7.858329                                             1.089172             0.472186                                     0.0                                             0.0                                                              0.323038         -1.226616                -42.037531  -1.781341     455978.0          0.0                                            0.0                                                    20.851238            0.0                                                              0.0                                            0.008608                                 63.951384                     0.0                                                             -3.755205              1.0                                46.189004     1933.099888         35.354313             -1.171523                     -3.220182            77.234586                    1.247510                             0.0                                                                    -1.0                                                            -0.522031                       0.008571      1.389774                             2.729455                                           -3.440004                    1\n",
            " 30.518004                       8.944664                      1.0         5.294253                   89.056870             0.733318              0.0                                        380.063688                 0.609090                 1.0                               0.0                                       0.0                                       1.0                         11.089198             39.882458                 10.599473                    0.075858                19.350134                   0.875499            112.703905             654.762901         0.0                                                    0.0                                0.0                                       0.829748                   0.0                                                                    0.0                                                                    80.159313      7.391464          -0.994752                       0.0                                                                    0.0                                   11.74                  0.0                                             624.480287                 0.0                                                                    0.0                                                                     0.675966                             0.0                                       1.0                        0.0                                            -0.205809                0.828020           0.0                                                     14.735807                         -254.236253          0.0                                                                     9.364215                 69.046363                   -10.755814                  0.0                                 2246.747182             2.687090                        0.0                                                            0.0                                                                     3.962511                     49.387061                             1.594295                     0.0                                                                    0.0                                                                    -0.068680        0.0                                                     1.190957                   2.821743                         48.737678      0.0                                                    0.0                                                                     0.0                                            -0.643222                  308.958403           0.0                                       0.0                                              6.613718                  434.515988    0.0                                                                    0.0                                                              10.535420                0.0                                                     1330.0                       0.0                                                    1.419868                 13.233383          2133.716909        0.209636                   0.0                                                                    71.780434            1.0                         0.368493                           0.0                                             5.092655        1.724956                    2.212973                         6.244572               0.0                                      0.003624                      -0.680953                     0.6915                           0.2830                   0.0                                                    0.0                                             0.0                                                              1.0                             45.085011                            0.0                                                    0.0                                                                    0.0                                     4.834086                          -27.119939            0.053730                1.0                            -0.096258                                         744.163137       9.626442           4.163741              0.168443                         1.0                                    2.861327                          0.0                                                                    0.0                                              0.139347                                34.492120                                            1.585794            -0.159727                       -0.284035                              0.019692          0.0                                             1.183375                                  6.304157           1.0                                   0.0                                                    0.0                                                                    0.0                                              9.00             6.190427e+01  1.0                               1.135673                                         13.100418                      0.001923          0.0                                             1.0                                   0.0                                     0.0                                 1.0                                    9.411033                      0.119246                                        -1.632563                          0.0                                                                    0.0                                                    -8.254750                                      570.0                 -0.350682                             -50.998965                1.0                                0.815313                         0.140675                           0.0                                                             0.0                                             -0.564216            2.885268                                   -1.742237                 0.478684                     -1.612789                          0.018854                             34.843928                            -0.352558                 -37.849551                                           -0.191890        0.0                                                              0.0                                                            -0.218545                      5.95                0.098963                                        -47.009853                                            0.129879             2.258252                    -0.946482                -0.061975                 -0.475246                             5.742433                                            0.0                                                              7.811129                    8.444757                     44.267642                             34.365477                            -0.206463                                                1.757763          11.486059                            -0.095441   0.0                                             -5.325818                                            0.0                                                                    0.0                     -0.829973                       0.0                                                     0.006308        -0.510984             -9.160302                                            0.0                                              0.242983     23.366998      -0.790825                                    8.18                       64.408514                 2.173517                0.001051                                       43.652422                                           0.0                                                                     0.0                                                            -1.508218                          0.0                                                                    -20.874309                                            1.598846                   0.0                                                                     6.148407                                     -0.572884                        0.0                                                    -1.798925                          0.0                                                    -0.273665                       0.154901            64.408514            -0.467349                              0.0                                             0.0                                     0.0                                              29.166303                                           -0.609946                        -1.680710                          1.785734        3.398139             0.004563    0.930704         0.171235                                         1.0                                   -0.127743               -0.756260                      -0.067761        0.0                                             0.0                                                                     0.004905                              -6.983156    0.729925                        -0.609929                0.000000         4.136714                                 22.440553                                           -0.203613                              0.035012                                         -0.138818   -11.148254                                     0.129343                0.376925                                    0.056036                                        0.0                                              24.998936             2.326245              2.504076          -2.238647                                    5.449317                           -12.051567                                           -7.966073                      31.600856                                            0.602282                                          1.319920            55.963757            -0.035210                            -0.715944                      -0.814453                     0.0                                             21.002588               0.038175                        -1.687077                  -0.173443                        0.0                                                             0.741620                                   0.0                                                                    0.0                                            -10.378381                                    -8.469179                           110.248496       -0.694809                         0.123644                                         18.690866                 0.074978                                         14.457182                                     3.392558     0.0                                                              40.090846                 1.0                            -0.018942                                         30.343161                            -1.866458                                    10.88                          -6.107542              0.0                                                     1.173808                0.056482                  1.0                             28.749687                                            23.426322                      2.236526           -0.651199                         69.450407                                            1.863005                   0.178879           0.004380                18.846524                                           -1.632326            -15.378228                                    0.0                                             0.0                                                             -1.206154          1.512482                 47.692001   1.170892    -9503.0            0.0                                            0.0                                                    43.012872            0.0                                                              0.0                                            0.004195                                 37.129838                     0.0                                                              0.240066              0.0                                36.905329     1527.216735         18.503559              0.011078                      2.001149            63.929830                   -0.263004                             0.0                                                                     0.0                                                            -0.514289                      -1.695661     -0.506530                             0.070285                                            5.048864                    1\n",
            "                                                                                                                                                                                                                                                                                                                                                                                                                                                                                                                                                                                                                                                                                                                                                                                                                                                                                                                                                                                                                                                                                                                                                                                                                                                                                                                                                                                                                                                                                                                                                                                                                                                                                                                                                                                                                                                                                                                                                                                                                                                                                                                                                                                                                                                                                                                                                                                                                                                                                                                                                                                                                                                                                                                                                                                                                                                                                                                                                                                                                                                                                                                                                                                                                                                                                                                                                                                                                                                                                                                                                                                                                                                                                                                                                                                                                                                                                                                                                                                                                                                                                                                                                                                                                                                                                                                                                                                                                                                                                                                                                                                                                                                                                                                                                                                                                                                                                                                                                                                                                                                                                                                                                                                                                                                                                                                                                                                                                                                                                                                                                                                                                                                                                                                                                                                                                                                                                                                                                                                                                                                                                                                                                                                                                                                                                                                                                                                                                                                                                                                                                                                                                                                                                                                                                                                                                                                                                                                                                                                                                                                                                                                                                                                                                                                                                                                                                                                                                                                                                                                                                                                                                                                                                                                                                                                                                                                                                                                                                                                                                                                                                                                                                                                                                                                                                                                                                                                                                                                                                                                                                                                                                                                                                                                                                                                                                                                                                                                                                                                                                                                                                                                                                                                                                                                                                                                                                                                                                                                                                                                                                                                                                                                                                                                                                                                                                                                                                                                                                                                                                                                                                                                                                                                                                                                                                                                                                                                                                                                                                                                                                                                                                                                                                                                                                                                                                                                                                                                                                                                                                                                                                                                                                                                                                                                                                                                                                                                                                                                                                                                                                                                                                                                                                                                                                                                                                                                                                                                                                                                                                                                                                                                                                                                                                                                                                                                                                                                                                                                                                                                                                                                                                                                                                                                                                                                                                                                                                                                                                                                                                                                                                                                                                                  ..\n",
            "-39.243366                       12.617859                     1.0         2.101054                   6.625754              0.432886              1.0                                       -514.123180                 0.430809                 0.0                               0.0                                       1.0                                       1.0                        -0.251246              1.660593                 -8.219870                    -0.206394                2.084770                   -0.393941           -69.832987              5.464396           0.0                                                    0.0                                1.0                                       1.502332                   0.0                                                                    0.0                                                                    42.954764      1.939274          -4.700146                       0.0                                                                    1.0                                  -20.35                  0.0                                            -1896.549383                0.0                                                                    0.0                                                                    -1.306811                             1.0                                       1.0                        0.0                                            -1.223088               -0.013632           0.0                                                    -26.259373                          794.918919          0.0                                                                    -12.308696                23.656234                   -90.093537                  0.0                                -6956.102058            -6.753891                       -1.0                                                            0.0                                                                    -7.196115                    -98.671291                            -3.947488                     0.0                                                                    0.0                                                                     0.095214        0.0                                                    -2.298214                  -66.127908                        10.928172      0.0                                                    0.0                                                                     0.0                                            -1.534314                 -401.706342           1.0                                       0.0                                             -13.427863                -51.991817     1.0                                                                    0.0                                                             -12.759092                0.0                                                    -2387.0                       0.0                                                    3.594612                 0.015571          -6695.617650       -0.080584                   0.0                                                                    32.657918            1.0                        -0.965911                           0.0                                             0.000000        1.667905                    4.345032                        -4.096001               0.0                                      0.002406                       1.634960                    -0.7680                          -1.2635                   0.0                                                    0.0                                             0.0                                                              0.0                            -135.755649                           0.0                                                    0.0                                                                    0.0                                     7.765196                          -78.095519           -0.145104                0.0                            -0.185710                                         157.358256       0.054754          -0.648460              4.742788                         0.0                                   -3.277158                          0.0                                                                    0.0                                             -0.302268                                3.535129                                             2.220959            -1.059255                        0.840152                             -0.125063          0.0                                            -3.241014                                  0.734818           0.0                                   0.0                                                    0.0                                                                    0.0                                              2.92             1.000000e+02  0.0                               5.578929                                         2.581853                      -0.007146          1.0                                             0.0                                   0.0                                     1.0                                 0.0                                   -8.810610                     -0.303533                                         0.069319                          0.0                                                                    0.0                                                    -30.784809                                     817.0                  0.780922                             -82.240263                0.0                               -1.609079                        -0.512420                           0.0                                                             0.0                                             -2.321852            5.663002                                   -0.839394                -30.450156                    -10.005126                         1.385027                            -131.312929                           -0.000189                 -46.231909                                            3.731597        0.0                                                             -1.0                                                            -2.158412                     -3.25               -0.083206                                        -63.494413                                           -6.743742            -4.933189                    -0.411240                 1.100508                  1.017650                             9.164029                                            0.0                                                              3.800370                   -20.622621                   -111.470246                           -126.979839                           -0.337080                                                3.669230         -73.932251                            -0.078363   0.0                                              6.367678                                            0.0                                                                    0.0                     -5.881032                       0.0                                                    -0.000067         2.164389             -17.262504                                           0.0                                             -3.628160     50.816353      -6.221878                                   -17.54                     -41.890419                 0.748057                0.007400                                       20.797633                                           0.0                                                                    -1.0                                                             1.149458                          1.0                                                                     3.515603                                            -3.422418                   0.0                                                                     4.540683                                     -0.093646                        0.0                                                     1.512368                          0.0                                                    -0.939339                      -8.685809            25.190313             0.284035                              0.0                                             0.0                                     0.0                                              9.902807                                            -0.140877                         0.015130                          3.137216       -12.234965           -0.016170    0.578726         0.154257                                         0.0                                   -0.145999               -0.676428                       0.066138        0.0                                             1.0                                                                    -0.000475                               0.619264   -14.696714                        0.029942                1.403042        -0.195206                                -11.012161                                            0.797589                              2.696353                                          0.018439   -1.968503                                      1.521165                0.490418                                   -0.593832                                        0.0                                              45.481176            -0.346345              0.625024          -6.057395                                   -0.272115                           -14.547290                                           -9.827535                      6.250343                                            -0.864173                                         -0.276608            45.812934             1.177716                            -0.545168                      -0.756260                     0.0                                             14.941823              -0.072864                         0.493202                  -0.367765                       -1.0                                                             4.497747                                   1.0                                                                    0.0                                            -3.678819                                     -9.187500                          -21.053641         1.647840                         0.101093                                         1.548962                 -0.031454                                        -87.058984                                    -0.540932     0.0                                                             -24.486988                 0.0                            -0.562379                                        -141.243732                            0.059860                                   -20.70                           30.232318             0.0                                                    -6.212863                1.433327                  0.0                            -5.628900                                             28.432352                     -0.397615            1.131790                         52.482251                                            3.298970                  -0.037551           0.000195                14.045967                                            1.819869            -1.106639                                     0.0                                             0.0                                                              0.140859         -2.115760                -62.931883  -1.673927     478857.0          0.0                                            0.0                                                    24.286507            0.0                                                              0.0                                            0.009501                                 56.501621                     0.0                                                             -3.907902              1.0                                54.518824     1737.312788         25.118894             -1.969826                     -4.680328            55.640469                    0.629769                             0.0                                                                    -1.0                                                            -0.756260                      -2.731558      0.987571                             2.750491                                           -4.223954                    1\n",
            "                                                              -1.0        -11.566722                  6.625754             -2.089717              1.0                                       -514.123180                -1.273169                 0.0                               0.0                                       1.0                                       0.0                         13.309096            -40.542408                -8.219870                    -0.206394               -7.756523                   -1.869389           -69.832987             -623.855599         0.0                                                    0.0                                1.0                                       1.502332                   0.0                                                                    0.0                                                                    12.055528     -11.471605          5.680894                       0.0                                                                    1.0                                  -20.35                  0.0                                            -1896.549383                0.0                                                                    0.0                                                                    -1.306811                             1.0                                       0.0                        0.0                                            -0.360758                1.268010           0.0                                                    -26.259373                         -829.467088          0.0                                                                    -12.308696                23.656234                   -90.093537                  1.0                                -6956.102058            -6.753891                        0.0                                                            0.0                                                                    -7.196115                    -98.671291                            -3.947488                     0.0                                                                    0.0                                                                    -0.172518        0.0                                                    -2.298214                  -66.127908                       -33.907083      0.0                                                    0.0                                                                     0.0                                            -2.412103                 -401.706342           1.0                                       0.0                                             -13.427863                -525.984252    1.0                                                                    0.0                                                             -12.759092                0.0                                                    -2387.0                       0.0                                                    3.594612                -13.498131         -6695.617650       -0.080584                   0.0                                                                    20.171668            0.0                        -0.965911                           0.0                                            -3.076165        1.667905                    4.345032                        -4.096001               1.0                                      0.002406                       1.634960                    -0.7680                          -0.6570                   0.0                                                    0.0                                             0.0                                                             -1.0                            -135.755649                           0.0                                                    0.0                                                                    0.0                                     7.765196                          -84.619264           -0.145104               -1.0                            -0.185710                                        -2783.975744     -12.990608         -10.246285             4.742788                         0.0                                   -3.277158                          0.0                                                                    0.0                                             -0.302268                                3.535129                                             2.205192             0.857575                        0.840152                             -0.125063          0.0                                            -3.241014                                 -13.882142          0.0                                   0.0                                                    0.0                                                                    0.0                                             -15.94            4.816663e+01  0.0                               5.578929                                        -61.225542                     -0.007146          1.0                                             0.0                                   0.0                                     0.0                                 0.0                                   -8.810610                     -0.303533                                         0.508350                          0.0                                                                    0.0                                                     8.095767                                     -1222.0                 0.780922                             -65.203534                0.0                               -1.609079                        -0.512420                           1.0                                                             0.0                                             -2.321852            5.663002                                   -0.839394                -30.450156                    -10.005126                         1.385027                            -131.312929                           -3.725095                 -46.231909                                            0.069666        1.0                                                              0.0                                                             0.877393                     -15.89              -0.083206                                        -63.494413                                           -0.386437            -4.933189                    -5.516900                 5.709381                  1.017650                             9.164029                                            1.0                                                              2.768882                   -20.622621                   -111.470246                           -126.979839                           -0.337080                                                7.487099         -73.932251                            -0.035826   0.0                                              6.367678                                            0.0                                                                    0.0                     -5.881032                       0.0                                                    -0.010338         3.808405             -17.262504                                           0.0                                             -11.349439    22.534128       3.508110                                   -17.54                     -41.890419                -8.832991                0.007400                                       20.797633                                           0.0                                                                     1.0                                                            -0.417081                          1.0                                                                     3.515603                                            -5.616409                   0.0                                                                    -3.012707                                      0.127349                        0.0                                                     0.109665                          0.0                                                     0.958364                      -8.685809            25.190313             0.284035                              0.0                                             0.0                                     0.0                                              9.902807                                             0.017500                        -0.072610                          2.505865       -12.234965           -0.009890   -5.743841         0.154257                                         0.0                                   -0.645014                1.488179                      -0.120973        0.0                                             1.0                                                                     0.011859                               20.968066  -14.696714                        0.029942                0.000000         5.015324                                -11.012161                                            0.797589                              0.441255                                         -0.078395    11.451369                                    -1.143547               -1.531903                                   -0.593832                                        0.0                                              0.482751             -8.654135              0.625024           2.868287                                    5.281140                           -14.547290                                           -9.827535                      6.250343                                             0.274894                                         -0.276608            45.812934             1.177716                             1.640178                       1.315685                     0.0                                             61.347912              -0.265876                         0.493202                   1.996491                       -1.0                                                            -3.454726                                   1.0                                                                    0.0                                             3.325748                                     -9.187500                          -21.053641         0.321734                         0.101093                                        -13.161129                -0.031454                                         13.419372                                    -13.685772    1.0                                                             -24.486988                 0.0                            -0.562379                                        -141.243732                            0.379362                                   -20.70                          -3.846887              0.0                                                    -6.212863               -4.367540                 -1.0                            -5.628900                                            -52.678123                      3.553353            0.213603                         52.482251                                            3.298970                  -0.037551           0.000458                14.045967                                            1.819869             11.764410                                    0.0                                             0.0                                                              1.354467          4.202900                -28.262832  -2.547611     484528.0          0.0                                            0.0                                                    51.530768            0.0                                                              0.0                                            0.009501                                 56.501621                     1.0                                                             -0.614403              1.0                                47.683881     1735.928783         25.118894              1.258923                     -4.680328            55.640469                    0.629769                             0.0                                                                     1.0                                                             1.172198                       0.759183      0.987571                             1.550975                                            11.694194                   1\n",
            "-39.405286                       10.340797                    -1.0        -6.084762                   12.518292            -0.199340              1.0                                       -380.862771                -0.356730                 0.0                               1.0                                       1.0                                       0.0                         8.129400             -37.966234                -12.170804                   -0.361314               -27.889487                  -0.379769           -109.098394            -207.200001         0.0                                                    1.0                                1.0                                       0.665399                   0.0                                                                    0.0                                                                    32.280804     -7.923290           0.643249                       0.0                                                                    0.0                                  -10.66                  0.0                                            -3247.000000                0.0                                                                    0.0                                                                    -0.672946                             1.0                                       0.0                        0.0                                             0.398790                0.357545           0.0                                                    -27.416799                         -1070.942652         0.0                                                                    -11.195456                32.475395                   -100.000000                 1.0                                -5067.762006            -4.666789                        0.0                                                            0.0                                                                    -6.253603                    -20.315055                            -1.353169                     0.0                                                                    0.0                                                                    -0.218791        0.0                                                    -0.935730                   46.449862                       -46.081071      0.0                                                    0.0                                                                     0.0                                             3.038895                 -142.674909           1.0                                       0.0                                             -12.559086                -9.359943      0.0                                                                    0.0                                                             -11.114217                0.0                                                    -3247.0                       0.0                                                    3.842137                -9.646802          -4206.447962        0.265535                   0.0                                                                    40.783679            0.0                        -0.425767                           0.0                                            -4.150365        0.842829                    0.683051                        -6.425891               0.0                                     -0.000101                       1.662285                    -0.2660                          -0.0075                   0.0                                                    0.0                                             0.0                                                             -1.0                            -14.015621                            0.0                                                    0.0                                                                    0.0                                     3.410271                          -96.018377           -0.203603               -1.0                             0.061365                                        -1052.962186     -9.984485          -3.616557             -5.158051                        -1.0                                   -2.688707                          0.0                                                                    0.0                                             -0.021293                               -20.881807                                           -2.105591             2.374517                        0.866380                              0.074063          0.0                                            -0.520210                                 -9.509652          -1.0                                   0.0                                                    0.0                                                                    0.0                                             -5.79             5.564407e+01  0.0                               0.315989                                        -2.991710                      -0.000483          0.0                                            -1.0                                   0.0                                     1.0                                -1.0                                   -7.786299                     -0.048404                                         4.257700                          0.0                                                                    0.0                                                     0.761709                                     -1181.0                 0.840152                              67.318418                0.0                               -0.694239                        -0.159280                           0.0                                                             0.0                                             -0.551740            2.706342                                    2.855674                -16.269828                    -5.610103                         -0.338841                            -9.169826                              2.617498                 -4.459090                                            -0.033346        0.0                                                              0.0                                                             0.052133                     -1.73                0.018812                                        -24.875323                                            0.791156            -2.992679                    -0.022371                -2.893109                  0.948809                             9.888188                                            0.0                                                             -6.314648                   -10.907608                   -6.257706                             -4.466353                             -0.405972                                                3.686574         -3.127434                              0.262950   0.0                                              4.000280                                            0.0                                                                    0.0                     -1.215051                       0.0                                                    -0.001098         3.054041             -20.416233                                           0.0                                              0.492865     29.267041       0.883721                                   -4.91                      -54.430262                -1.328443                0.000237                                      -0.465574                                            0.0                                                                     0.0                                                             3.938660                          0.0                                                                     22.651950                                           -0.107944                   0.0                                                                    -4.995667                                      0.717025                        0.0                                                     4.438383                          0.0                                                     1.329996                      -7.524214            45.569738            -1.091702                              0.0                                             0.0                                     0.0                                             -16.881527                                            0.770149                         4.552073                          1.401909       -10.853064           -0.000351   -2.439449        -0.058353                                        -1.0                                    0.403695                1.038228                      -0.140954        0.0                                             0.0                                                                     0.001823                               4.020282   -12.742642                       -0.510282                0.000000         1.480157                                -27.534532                                            0.805995                             -0.044094                                          0.163255    1.143551                                      0.265267                0.364238                                   -0.036448                                        0.0                                             -11.268250            -1.506532             -11.768500          3.241180                                    2.462002                           -6.652725                                            -5.362219                     -7.118298                                            -0.634289                                         -2.039496            56.477346             0.116299                             1.048683                       1.038228                     0.0                                             81.435998               0.033299                         0.187544                  -0.487614                        0.0                                                            -0.000583                                   0.0                                                                    0.0                                             1.293346                                     -7.913673                           8.025786          0.840887                         0.018355                                        -12.346991                 0.003012                                        -15.197321                                    -4.106024     0.0                                                             -31.004523                -1.0                            -0.039460                                        -6.283652                              2.572747                                   -10.68                          -9.256082              0.0                                                    -6.214762                1.878586                 -1.0                            -30.769995                                           -5.200986                      -1.099916            0.801576                        -2.659208                                             1.332873                   0.270509          -0.001726                0.625129                                            -1.334401            -2.558771                                     0.0                                             0.0                                                              3.333179          0.007371                 53.793915   2.077252    -133436.0          0.0                                            0.0                                                    76.168397            0.0                                                              0.0                                            0.003138                                 63.219940                     0.0                                                              2.320186              1.0                                66.912316     1286.623921         20.097661             -0.229293                     -2.876334            61.839566                    0.822963                             0.0                                                                     0.0                                                             1.234499                       1.616140      0.948809                            -0.162587                                           -0.045019                    1\n",
            "-39.683091                       11.970334                     1.0         1.810974                   11.498655             0.155702              1.0                                       -515.617832                 0.327644                 0.0                               1.0                                       1.0                                       1.0                        -1.262518              1.562344                 -6.581691                    -0.268562                1.495745                   -0.375469           -61.054342              13.704923          0.0                                                    0.0                                1.0                                       1.308274                   0.0                                                                    0.0                                                                    44.590610      0.825173          -3.594214                       0.0                                                                    0.0                                  -18.07                  1.0                                            -1843.129388                0.0                                                                    0.0                                                                    -1.057041                             1.0                                       1.0                        1.0                                            -0.987757               -0.110678           0.0                                                    -20.474686                          105.480000          0.0                                                                    -11.549851                25.337184                   -90.510597                  0.0                                -5970.161910            -5.817189                       -1.0                                                            0.0                                                                    -7.025468                    -80.405753                            -2.930988                     0.0                                                                    0.0                                                                     0.029810        0.0                                                    -1.893677                  -57.304359                        26.670072      0.0                                                    0.0                                                                     0.0                                            -1.532948                 -360.656742           1.0                                       0.0                                             -13.391167                -51.432144     0.0                                                                    0.0                                                             -11.636756                0.0                                                    -2297.0                       0.0                                                    3.311899                -1.242088          -5685.818542       -0.566989                   0.0                                                                    38.107415            1.0                        -0.661495                           0.0                                             0.000000        1.856785                    3.308915                        -3.415112               0.0                                      0.005557                       0.768654                    -0.5870                          -1.0635                   0.0                                                    0.0                                             0.0                                                              0.0                            -78.627509                            0.0                                                    0.0                                                                    0.0                                     8.828509                          -76.451819           -0.127293                0.0                            -0.121929                                         176.043310       0.014890          -0.751206              5.463000                        -1.0                                   -2.800922                          0.0                                                                    0.0                                             -0.219777                                13.151128                                            2.247163            -0.123095                       -0.707983                             -0.175698          1.0                                            -2.609828                                  0.701468          -1.0                                   0.0                                                    0.0                                                                    0.0                                              1.40             1.000000e+02  0.0                               0.794168                                         2.382727                      -0.004772          0.0                                            -1.0                                   0.0                                     1.0                                -1.0                                   -7.256838                     -0.049814                                        -0.372703                          0.0                                                                    0.0                                                    -17.732410                                     879.0                 -0.490943                             -80.422551                0.0                               -1.276818                        -0.323681                           0.0                                                             0.0                                             -3.298795            5.017362                                    0.643296                -24.578714                    -9.602626                          1.033276                            -67.848590                            -0.381961                 -3.094467                                             1.582636        0.0                                                             -1.0                                                            -1.431839                      2.96                0.047849                                         0.310919                                            -5.651622            -5.051341                    -0.367538                 2.125516                 -0.731963                             9.494671                                            0.0                                                              3.225217                   -17.444476                   -69.766393                            -70.168635                             0.519508                                                3.988202         -86.623582                            -0.227021   0.0                                              3.168367                                            0.0                                                                    0.0                     -4.482915                       0.0                                                    -0.000989         1.780288              3.405386                                            0.0                                             -3.568860     37.320506      -5.765943                                   -15.63                     -58.996363                 0.412975                0.001127                                       9.745742                                            0.0                                                                    -1.0                                                             0.563029                          0.0                                                                     4.130372                                            -3.404028                   0.0                                                                     4.989135                                     -0.358154                        0.0                                                     0.347194                          0.0                                                    -0.692152                      -8.885915            16.260983            -0.123095                              0.0                                             0.0                                     0.0                                              16.319495                                           -0.548357                        -0.628256                          3.938818       -12.467844           -0.015198    2.842457         0.158947                                        -1.0                                   -0.350522               -1.038228                       0.012176        0.0                                             0.0                                                                    -0.000879                              -5.727467   -18.051724                       -0.629326                2.277027        -0.375383                                 14.301841                                           -0.731963                              0.881234                                         -0.168393   -3.717050                                      0.662576               -0.142481                                   -0.185174                                        0.0                                              47.278478             0.748768             -4.737805          -6.658420                                   -0.752010                            1.150713                                            -7.134237                      10.896455                                           -0.611680                                          0.006672            33.705460             0.757570                            -0.958364                      -1.148457                     0.0                                             15.905640              -0.068313                        -0.123171                   0.150850                       -1.0                                                             2.786971                                   0.0                                                                    1.0                                            -9.546155                                     -3.958903                          -32.588135         0.678987                         0.136279                                         2.001418                  0.037018                                        -35.381033                                    -0.520085     0.0                                                             -34.511935                 0.0                            -0.222192                                        -60.483723                            -2.177315                                   -17.75                           3.794078              0.0                                                    -5.565790                0.710058                  0.0                             3.656457                                             13.308581                     -0.162882            0.398409                         13.990922                                            2.570939                  -0.024834           0.002065                4.014317                                            -0.274407            -8.274070                                     0.0                                             0.0                                                             -4.142736         -1.759462                -21.194531  -0.817613     318764.0          0.0                                            0.0                                                    48.927444            0.0                                                              0.0                                            0.008681                                 51.566841                     0.0                                                             -3.853452              1.0                                52.721522     1865.723587         16.326542             -1.389530                     -3.175171            40.839697                   -0.273665                             0.0                                                                    -1.0                                                            -0.902270                      -3.794980     -0.723936                             0.915589                                           -3.960189                    1\n",
            "                                                              -1.0         0.074872                   11.498655            -0.025848              1.0                                       -515.617832                -0.005706                 0.0                               1.0                                       1.0                                       0.0                        -1.289854             -2.087893                 -6.581691                    -0.268562               -12.666124                  -0.609391           -61.054342             -48.261500          0.0                                                    1.0                                1.0                                       1.308274                   0.0                                                                    0.0                                                                    34.106145     -0.757459          -1.062815                       0.0                                                                    0.0                                  -18.07                  1.0                                            -1843.129388                0.0                                                                    0.0                                                                    -1.057041                             1.0                                       0.0                        1.0                                             0.420955               -0.120137           0.0                                                    -20.474686                         -341.565714          0.0                                                                    -11.549851                25.337184                   -90.510597                  1.0                                -5970.161910            -5.817189                        0.0                                                            0.0                                                                    -7.025468                    -80.405753                            -2.930988                     0.0                                                                    0.0                                                                    -0.034198        0.0                                                    -1.893677                  -57.304359                       -19.828703      0.0                                                    0.0                                                                    -1.0                                             0.911453                 -360.656742           1.0                                       0.0                                             -13.391167                -96.606316     0.0                                                                    0.0                                                             -11.636756                0.0                                                    -2297.0                       0.0                                                    3.311899                -1.343487          -5685.818542       -0.566989                   0.0                                                                    34.759657            0.0                        -0.661495                           0.0                                             0.000000        1.856785                    3.308915                        -3.415112               0.0                                      0.005557                       0.768654                    -0.5870                          -1.3885                   0.0                                                    0.0                                             0.0                                                              0.0                            -78.627509                            0.0                                                    0.0                                                                    0.0                                     8.828509                          -70.138324           -0.127293                0.0                            -0.121929                                        -44.668127        0.014736          -1.286504              5.463000                        -1.0                                   -2.800922                          0.0                                                                    0.0                                             -0.219777                                13.151128                                            2.215780            -0.123095                       -0.707983                             -0.175698          1.0                                            -2.609828                                 -0.166794          -1.0                                   0.0                                                    0.0                                                                    0.0                                             -1.59             3.822171e+01  0.0                               0.794168                                        -1.326921                      -0.004772          0.0                                            -1.0                                   0.0                                     1.0                                -1.0                                   -7.256838                     -0.049814                                         0.850698                          0.0                                                                    0.0                                                    -5.512776                                     -418.0                 -0.490943                              68.400135                0.0                               -1.276818                        -0.323681                           0.0                                                             0.0                                             -3.298795            5.017362                                    0.643296                -24.578714                    -9.602626                          1.033276                            -67.848590                             0.773711                 -3.094467                                             1.503137        0.0                                                              0.0                                                            -0.487295                      2.81                0.047849                                         0.310919                                            -4.258640            -5.051341                     4.621244                 0.194476                 -0.731963                             9.494671                                            0.0                                                             -1.171190                   -17.444476                   -69.766393                            -70.168635                             0.519508                                                2.564151         -86.623582                            -0.259506   0.0                                              3.168367                                            0.0                                                                    0.0                     -4.482915                       0.0                                                    -0.001365        -5.484485              3.405386                                            0.0                                             -3.199311     35.866395      -2.371509                                   -15.63                     -58.996363                 0.120017                0.001127                                       9.745742                                            0.0                                                                     0.0                                                             1.326658                          0.0                                                                     4.130372                                            -3.705166                   0.0                                                                     12.551201                                     0.462721                        0.0                                                     0.863040                          0.0                                                    -0.692152                      -8.885915            16.260983            -0.123095                              0.0                                             0.0                                     0.0                                              16.319495                                            0.675023                         1.114118                          3.311781       -12.467844           -0.002070   -1.441130         0.158947                                        -1.0                                    0.383670               -1.038228                      -0.025491        0.0                                             0.0                                                                    -0.002251                              -6.593379   -18.051724                       -0.629326               -4.522488        -0.967131                                 14.301841                                           -0.731963                             -2.737551                                         -0.192998   -21.984327                                    -0.044953               -1.121346                                   -0.185174                                        0.0                                             -23.668572             0.728023             -4.737805          -0.623738                                   -0.003373                            1.150713                                            -7.134237                      10.896455                                           -2.797771                                          0.006672            33.705460             0.757570                            -0.958364                      -1.148457                     1.0                                             56.030196               0.124465                        -0.123171                  -0.352261                        0.0                                                            -0.166343                                   0.0                                                                    1.0                                             0.333291                                     -3.958903                          -32.588135         0.015521                         0.136279                                        -5.064342                  0.037018                                        -19.362864                                    -0.591146     0.0                                                             -34.511935                 0.0                            -0.222192                                        -60.483723                            -0.841385                                   -17.75                           4.270457              0.0                                                    -5.565790                0.492934                  0.0                             3.656457                                            -4.360749                       0.241292            0.340097                         13.990922                                            2.570939                  -0.024834           0.000967                4.014317                                            -0.274407            -9.099835                                     1.0                                             0.0                                                             -3.981230         -7.398244                -21.957360  -0.827332     317695.0         -1.0                                            0.0                                                    57.619825            0.0                                                             -1.0                                            0.008681                                 51.566841                     0.0                                                             -2.434635              1.0                                61.890283     1843.990343         16.326542             -2.331314                     -3.175171            40.839697                   -0.273665                             0.0                                                                     0.0                                                            -0.902270                      -4.076299     -0.723936                            -3.181654                                           -8.764365                    1\n",
            "Name: count, Length: 33284, dtype: int64 \n",
            "\n",
            "label\n",
            "1    16642\n",
            "0    16642\n",
            "Name: count, dtype: int64\n"
          ]
        }
      ],
      "source": [
        "### Rebalance Data frame due to the low number of class 1\n",
        "smote = SMOTE(random_state=42)\n",
        "X_train_resampled, y_train_resampled = smote.fit_resample(X_train, y_train)\n",
        "\n",
        "# Now train your model on the resampled data\n",
        "print(X_train_resampled.value_counts(),'\\n')\n",
        "print(y_train_resampled.value_counts())"
      ]
    },
    {
      "cell_type": "code",
      "execution_count": 26,
      "id": "JQvYaSVZam-a",
      "metadata": {
        "id": "JQvYaSVZam-a"
      },
      "outputs": [],
      "source": [
        "# --------------- Classifier 1: XGBoost ------------------------------------------\n",
        "xgb = XGBClassifier(n_estimators=15, max_depth=3,\n",
        "                    random_state=42, eval_metric='logloss')\n",
        "\n",
        "# --------------- Classifier 2: Logistic Regression Classifier------------------------------------------\n",
        "lr = LogisticRegression(random_state=42)\n",
        "\n",
        "# --------------- Classifier 3: AdaBoost Classifier ------------------------------------------\n",
        "ada = AdaBoostClassifier(n_estimators=15, random_state=42)\n",
        "\n",
        "# --------------- Classifier 4: SVM------------------------------------------\n",
        "svc = svm.SVC(kernel='rbf', probability=True, random_state=42)\n",
        "\n",
        "# Define a list to store the different models\n",
        "estimator = []\n",
        "estimator.append(('LR', lr))\n",
        "estimator.append(('XGB', xgb))\n",
        "estimator.append(('ada', ada))\n",
        "estimator.append(('SVC', svc))"
      ]
    },
    {
      "cell_type": "code",
      "execution_count": 27,
      "id": "9b68d18e",
      "metadata": {
        "id": "9b68d18e"
      },
      "outputs": [],
      "source": [
        "# --------------- Classifier 1: XGBoost ------------------------------------------\n",
        "xgb = XGBClassifier(n_estimators=15, max_depth=3,\n",
        "                    random_state=42, eval_metric='logloss')\n",
        "\n",
        "# --------------- Classifier 2: Logistic Regression Classifier------------------------------------------\n",
        "lr = LogisticRegression(random_state=42)\n",
        "\n",
        "# --------------- Classifier 3: AdaBoost Classifier ------------------------------------------\n",
        "ada = AdaBoostClassifier(n_estimators=15, random_state=42)\n",
        "\n",
        "# --------------- Classifier 4: SVM------------------------------------------\n",
        "svc = svm.SVC(kernel='rbf', probability=True, random_state=42)\n",
        "\n",
        "# Define a list to store the different models\n",
        "estimator = []\n",
        "estimator.append(('LR', lr))\n",
        "estimator.append(('XGB', xgb))\n",
        "estimator.append(('ada', ada))\n",
        "estimator.append(('SVC', svc))"
      ]
    },
    {
      "cell_type": "code",
      "execution_count": 28,
      "id": "606c84c3",
      "metadata": {
        "colab": {
          "base_uri": "https://localhost:8080/",
          "height": 136
        },
        "id": "606c84c3",
        "outputId": "08d7b3df-7d4d-4f93-b6a0-008cb2b6dd54"
      },
      "outputs": [
        {
          "output_type": "execute_result",
          "data": {
            "text/plain": [
              "VotingClassifier(estimators=[('LR', LogisticRegression(random_state=42)),\n",
              "                             ('XGB',\n",
              "                              XGBClassifier(base_score=None, booster=None,\n",
              "                                            callbacks=None,\n",
              "                                            colsample_bylevel=None,\n",
              "                                            colsample_bynode=None,\n",
              "                                            colsample_bytree=None, device=None,\n",
              "                                            early_stopping_rounds=None,\n",
              "                                            enable_categorical=False,\n",
              "                                            eval_metric='logloss',\n",
              "                                            feature_types=None,\n",
              "                                            feature_weights=None, gamma=None,\n",
              "                                            grow_poli...\n",
              "                                            max_cat_threshold=None,\n",
              "                                            max_cat_to_onehot=None,\n",
              "                                            max_delta_step=None, max_depth=3,\n",
              "                                            max_leaves=None,\n",
              "                                            min_child_weight=None, missing=nan,\n",
              "                                            monotone_constraints=None,\n",
              "                                            multi_strategy=None,\n",
              "                                            n_estimators=15, n_jobs=None,\n",
              "                                            num_parallel_tree=None, ...)),\n",
              "                             ('ada',\n",
              "                              AdaBoostClassifier(n_estimators=15,\n",
              "                                                 random_state=42)),\n",
              "                             ('SVC', SVC(probability=True, random_state=42))],\n",
              "                 voting='soft')"
            ],
            "text/html": [
              "<style>#sk-container-id-1 {\n",
              "  /* Definition of color scheme common for light and dark mode */\n",
              "  --sklearn-color-text: #000;\n",
              "  --sklearn-color-text-muted: #666;\n",
              "  --sklearn-color-line: gray;\n",
              "  /* Definition of color scheme for unfitted estimators */\n",
              "  --sklearn-color-unfitted-level-0: #fff5e6;\n",
              "  --sklearn-color-unfitted-level-1: #f6e4d2;\n",
              "  --sklearn-color-unfitted-level-2: #ffe0b3;\n",
              "  --sklearn-color-unfitted-level-3: chocolate;\n",
              "  /* Definition of color scheme for fitted estimators */\n",
              "  --sklearn-color-fitted-level-0: #f0f8ff;\n",
              "  --sklearn-color-fitted-level-1: #d4ebff;\n",
              "  --sklearn-color-fitted-level-2: #b3dbfd;\n",
              "  --sklearn-color-fitted-level-3: cornflowerblue;\n",
              "\n",
              "  /* Specific color for light theme */\n",
              "  --sklearn-color-text-on-default-background: var(--sg-text-color, var(--theme-code-foreground, var(--jp-content-font-color1, black)));\n",
              "  --sklearn-color-background: var(--sg-background-color, var(--theme-background, var(--jp-layout-color0, white)));\n",
              "  --sklearn-color-border-box: var(--sg-text-color, var(--theme-code-foreground, var(--jp-content-font-color1, black)));\n",
              "  --sklearn-color-icon: #696969;\n",
              "\n",
              "  @media (prefers-color-scheme: dark) {\n",
              "    /* Redefinition of color scheme for dark theme */\n",
              "    --sklearn-color-text-on-default-background: var(--sg-text-color, var(--theme-code-foreground, var(--jp-content-font-color1, white)));\n",
              "    --sklearn-color-background: var(--sg-background-color, var(--theme-background, var(--jp-layout-color0, #111)));\n",
              "    --sklearn-color-border-box: var(--sg-text-color, var(--theme-code-foreground, var(--jp-content-font-color1, white)));\n",
              "    --sklearn-color-icon: #878787;\n",
              "  }\n",
              "}\n",
              "\n",
              "#sk-container-id-1 {\n",
              "  color: var(--sklearn-color-text);\n",
              "}\n",
              "\n",
              "#sk-container-id-1 pre {\n",
              "  padding: 0;\n",
              "}\n",
              "\n",
              "#sk-container-id-1 input.sk-hidden--visually {\n",
              "  border: 0;\n",
              "  clip: rect(1px 1px 1px 1px);\n",
              "  clip: rect(1px, 1px, 1px, 1px);\n",
              "  height: 1px;\n",
              "  margin: -1px;\n",
              "  overflow: hidden;\n",
              "  padding: 0;\n",
              "  position: absolute;\n",
              "  width: 1px;\n",
              "}\n",
              "\n",
              "#sk-container-id-1 div.sk-dashed-wrapped {\n",
              "  border: 1px dashed var(--sklearn-color-line);\n",
              "  margin: 0 0.4em 0.5em 0.4em;\n",
              "  box-sizing: border-box;\n",
              "  padding-bottom: 0.4em;\n",
              "  background-color: var(--sklearn-color-background);\n",
              "}\n",
              "\n",
              "#sk-container-id-1 div.sk-container {\n",
              "  /* jupyter's `normalize.less` sets `[hidden] { display: none; }`\n",
              "     but bootstrap.min.css set `[hidden] { display: none !important; }`\n",
              "     so we also need the `!important` here to be able to override the\n",
              "     default hidden behavior on the sphinx rendered scikit-learn.org.\n",
              "     See: https://github.com/scikit-learn/scikit-learn/issues/21755 */\n",
              "  display: inline-block !important;\n",
              "  position: relative;\n",
              "}\n",
              "\n",
              "#sk-container-id-1 div.sk-text-repr-fallback {\n",
              "  display: none;\n",
              "}\n",
              "\n",
              "div.sk-parallel-item,\n",
              "div.sk-serial,\n",
              "div.sk-item {\n",
              "  /* draw centered vertical line to link estimators */\n",
              "  background-image: linear-gradient(var(--sklearn-color-text-on-default-background), var(--sklearn-color-text-on-default-background));\n",
              "  background-size: 2px 100%;\n",
              "  background-repeat: no-repeat;\n",
              "  background-position: center center;\n",
              "}\n",
              "\n",
              "/* Parallel-specific style estimator block */\n",
              "\n",
              "#sk-container-id-1 div.sk-parallel-item::after {\n",
              "  content: \"\";\n",
              "  width: 100%;\n",
              "  border-bottom: 2px solid var(--sklearn-color-text-on-default-background);\n",
              "  flex-grow: 1;\n",
              "}\n",
              "\n",
              "#sk-container-id-1 div.sk-parallel {\n",
              "  display: flex;\n",
              "  align-items: stretch;\n",
              "  justify-content: center;\n",
              "  background-color: var(--sklearn-color-background);\n",
              "  position: relative;\n",
              "}\n",
              "\n",
              "#sk-container-id-1 div.sk-parallel-item {\n",
              "  display: flex;\n",
              "  flex-direction: column;\n",
              "}\n",
              "\n",
              "#sk-container-id-1 div.sk-parallel-item:first-child::after {\n",
              "  align-self: flex-end;\n",
              "  width: 50%;\n",
              "}\n",
              "\n",
              "#sk-container-id-1 div.sk-parallel-item:last-child::after {\n",
              "  align-self: flex-start;\n",
              "  width: 50%;\n",
              "}\n",
              "\n",
              "#sk-container-id-1 div.sk-parallel-item:only-child::after {\n",
              "  width: 0;\n",
              "}\n",
              "\n",
              "/* Serial-specific style estimator block */\n",
              "\n",
              "#sk-container-id-1 div.sk-serial {\n",
              "  display: flex;\n",
              "  flex-direction: column;\n",
              "  align-items: center;\n",
              "  background-color: var(--sklearn-color-background);\n",
              "  padding-right: 1em;\n",
              "  padding-left: 1em;\n",
              "}\n",
              "\n",
              "\n",
              "/* Toggleable style: style used for estimator/Pipeline/ColumnTransformer box that is\n",
              "clickable and can be expanded/collapsed.\n",
              "- Pipeline and ColumnTransformer use this feature and define the default style\n",
              "- Estimators will overwrite some part of the style using the `sk-estimator` class\n",
              "*/\n",
              "\n",
              "/* Pipeline and ColumnTransformer style (default) */\n",
              "\n",
              "#sk-container-id-1 div.sk-toggleable {\n",
              "  /* Default theme specific background. It is overwritten whether we have a\n",
              "  specific estimator or a Pipeline/ColumnTransformer */\n",
              "  background-color: var(--sklearn-color-background);\n",
              "}\n",
              "\n",
              "/* Toggleable label */\n",
              "#sk-container-id-1 label.sk-toggleable__label {\n",
              "  cursor: pointer;\n",
              "  display: flex;\n",
              "  width: 100%;\n",
              "  margin-bottom: 0;\n",
              "  padding: 0.5em;\n",
              "  box-sizing: border-box;\n",
              "  text-align: center;\n",
              "  align-items: start;\n",
              "  justify-content: space-between;\n",
              "  gap: 0.5em;\n",
              "}\n",
              "\n",
              "#sk-container-id-1 label.sk-toggleable__label .caption {\n",
              "  font-size: 0.6rem;\n",
              "  font-weight: lighter;\n",
              "  color: var(--sklearn-color-text-muted);\n",
              "}\n",
              "\n",
              "#sk-container-id-1 label.sk-toggleable__label-arrow:before {\n",
              "  /* Arrow on the left of the label */\n",
              "  content: \"▸\";\n",
              "  float: left;\n",
              "  margin-right: 0.25em;\n",
              "  color: var(--sklearn-color-icon);\n",
              "}\n",
              "\n",
              "#sk-container-id-1 label.sk-toggleable__label-arrow:hover:before {\n",
              "  color: var(--sklearn-color-text);\n",
              "}\n",
              "\n",
              "/* Toggleable content - dropdown */\n",
              "\n",
              "#sk-container-id-1 div.sk-toggleable__content {\n",
              "  max-height: 0;\n",
              "  max-width: 0;\n",
              "  overflow: hidden;\n",
              "  text-align: left;\n",
              "  /* unfitted */\n",
              "  background-color: var(--sklearn-color-unfitted-level-0);\n",
              "}\n",
              "\n",
              "#sk-container-id-1 div.sk-toggleable__content.fitted {\n",
              "  /* fitted */\n",
              "  background-color: var(--sklearn-color-fitted-level-0);\n",
              "}\n",
              "\n",
              "#sk-container-id-1 div.sk-toggleable__content pre {\n",
              "  margin: 0.2em;\n",
              "  border-radius: 0.25em;\n",
              "  color: var(--sklearn-color-text);\n",
              "  /* unfitted */\n",
              "  background-color: var(--sklearn-color-unfitted-level-0);\n",
              "}\n",
              "\n",
              "#sk-container-id-1 div.sk-toggleable__content.fitted pre {\n",
              "  /* unfitted */\n",
              "  background-color: var(--sklearn-color-fitted-level-0);\n",
              "}\n",
              "\n",
              "#sk-container-id-1 input.sk-toggleable__control:checked~div.sk-toggleable__content {\n",
              "  /* Expand drop-down */\n",
              "  max-height: 200px;\n",
              "  max-width: 100%;\n",
              "  overflow: auto;\n",
              "}\n",
              "\n",
              "#sk-container-id-1 input.sk-toggleable__control:checked~label.sk-toggleable__label-arrow:before {\n",
              "  content: \"▾\";\n",
              "}\n",
              "\n",
              "/* Pipeline/ColumnTransformer-specific style */\n",
              "\n",
              "#sk-container-id-1 div.sk-label input.sk-toggleable__control:checked~label.sk-toggleable__label {\n",
              "  color: var(--sklearn-color-text);\n",
              "  background-color: var(--sklearn-color-unfitted-level-2);\n",
              "}\n",
              "\n",
              "#sk-container-id-1 div.sk-label.fitted input.sk-toggleable__control:checked~label.sk-toggleable__label {\n",
              "  background-color: var(--sklearn-color-fitted-level-2);\n",
              "}\n",
              "\n",
              "/* Estimator-specific style */\n",
              "\n",
              "/* Colorize estimator box */\n",
              "#sk-container-id-1 div.sk-estimator input.sk-toggleable__control:checked~label.sk-toggleable__label {\n",
              "  /* unfitted */\n",
              "  background-color: var(--sklearn-color-unfitted-level-2);\n",
              "}\n",
              "\n",
              "#sk-container-id-1 div.sk-estimator.fitted input.sk-toggleable__control:checked~label.sk-toggleable__label {\n",
              "  /* fitted */\n",
              "  background-color: var(--sklearn-color-fitted-level-2);\n",
              "}\n",
              "\n",
              "#sk-container-id-1 div.sk-label label.sk-toggleable__label,\n",
              "#sk-container-id-1 div.sk-label label {\n",
              "  /* The background is the default theme color */\n",
              "  color: var(--sklearn-color-text-on-default-background);\n",
              "}\n",
              "\n",
              "/* On hover, darken the color of the background */\n",
              "#sk-container-id-1 div.sk-label:hover label.sk-toggleable__label {\n",
              "  color: var(--sklearn-color-text);\n",
              "  background-color: var(--sklearn-color-unfitted-level-2);\n",
              "}\n",
              "\n",
              "/* Label box, darken color on hover, fitted */\n",
              "#sk-container-id-1 div.sk-label.fitted:hover label.sk-toggleable__label.fitted {\n",
              "  color: var(--sklearn-color-text);\n",
              "  background-color: var(--sklearn-color-fitted-level-2);\n",
              "}\n",
              "\n",
              "/* Estimator label */\n",
              "\n",
              "#sk-container-id-1 div.sk-label label {\n",
              "  font-family: monospace;\n",
              "  font-weight: bold;\n",
              "  display: inline-block;\n",
              "  line-height: 1.2em;\n",
              "}\n",
              "\n",
              "#sk-container-id-1 div.sk-label-container {\n",
              "  text-align: center;\n",
              "}\n",
              "\n",
              "/* Estimator-specific */\n",
              "#sk-container-id-1 div.sk-estimator {\n",
              "  font-family: monospace;\n",
              "  border: 1px dotted var(--sklearn-color-border-box);\n",
              "  border-radius: 0.25em;\n",
              "  box-sizing: border-box;\n",
              "  margin-bottom: 0.5em;\n",
              "  /* unfitted */\n",
              "  background-color: var(--sklearn-color-unfitted-level-0);\n",
              "}\n",
              "\n",
              "#sk-container-id-1 div.sk-estimator.fitted {\n",
              "  /* fitted */\n",
              "  background-color: var(--sklearn-color-fitted-level-0);\n",
              "}\n",
              "\n",
              "/* on hover */\n",
              "#sk-container-id-1 div.sk-estimator:hover {\n",
              "  /* unfitted */\n",
              "  background-color: var(--sklearn-color-unfitted-level-2);\n",
              "}\n",
              "\n",
              "#sk-container-id-1 div.sk-estimator.fitted:hover {\n",
              "  /* fitted */\n",
              "  background-color: var(--sklearn-color-fitted-level-2);\n",
              "}\n",
              "\n",
              "/* Specification for estimator info (e.g. \"i\" and \"?\") */\n",
              "\n",
              "/* Common style for \"i\" and \"?\" */\n",
              "\n",
              ".sk-estimator-doc-link,\n",
              "a:link.sk-estimator-doc-link,\n",
              "a:visited.sk-estimator-doc-link {\n",
              "  float: right;\n",
              "  font-size: smaller;\n",
              "  line-height: 1em;\n",
              "  font-family: monospace;\n",
              "  background-color: var(--sklearn-color-background);\n",
              "  border-radius: 1em;\n",
              "  height: 1em;\n",
              "  width: 1em;\n",
              "  text-decoration: none !important;\n",
              "  margin-left: 0.5em;\n",
              "  text-align: center;\n",
              "  /* unfitted */\n",
              "  border: var(--sklearn-color-unfitted-level-1) 1pt solid;\n",
              "  color: var(--sklearn-color-unfitted-level-1);\n",
              "}\n",
              "\n",
              ".sk-estimator-doc-link.fitted,\n",
              "a:link.sk-estimator-doc-link.fitted,\n",
              "a:visited.sk-estimator-doc-link.fitted {\n",
              "  /* fitted */\n",
              "  border: var(--sklearn-color-fitted-level-1) 1pt solid;\n",
              "  color: var(--sklearn-color-fitted-level-1);\n",
              "}\n",
              "\n",
              "/* On hover */\n",
              "div.sk-estimator:hover .sk-estimator-doc-link:hover,\n",
              ".sk-estimator-doc-link:hover,\n",
              "div.sk-label-container:hover .sk-estimator-doc-link:hover,\n",
              ".sk-estimator-doc-link:hover {\n",
              "  /* unfitted */\n",
              "  background-color: var(--sklearn-color-unfitted-level-3);\n",
              "  color: var(--sklearn-color-background);\n",
              "  text-decoration: none;\n",
              "}\n",
              "\n",
              "div.sk-estimator.fitted:hover .sk-estimator-doc-link.fitted:hover,\n",
              ".sk-estimator-doc-link.fitted:hover,\n",
              "div.sk-label-container:hover .sk-estimator-doc-link.fitted:hover,\n",
              ".sk-estimator-doc-link.fitted:hover {\n",
              "  /* fitted */\n",
              "  background-color: var(--sklearn-color-fitted-level-3);\n",
              "  color: var(--sklearn-color-background);\n",
              "  text-decoration: none;\n",
              "}\n",
              "\n",
              "/* Span, style for the box shown on hovering the info icon */\n",
              ".sk-estimator-doc-link span {\n",
              "  display: none;\n",
              "  z-index: 9999;\n",
              "  position: relative;\n",
              "  font-weight: normal;\n",
              "  right: .2ex;\n",
              "  padding: .5ex;\n",
              "  margin: .5ex;\n",
              "  width: min-content;\n",
              "  min-width: 20ex;\n",
              "  max-width: 50ex;\n",
              "  color: var(--sklearn-color-text);\n",
              "  box-shadow: 2pt 2pt 4pt #999;\n",
              "  /* unfitted */\n",
              "  background: var(--sklearn-color-unfitted-level-0);\n",
              "  border: .5pt solid var(--sklearn-color-unfitted-level-3);\n",
              "}\n",
              "\n",
              ".sk-estimator-doc-link.fitted span {\n",
              "  /* fitted */\n",
              "  background: var(--sklearn-color-fitted-level-0);\n",
              "  border: var(--sklearn-color-fitted-level-3);\n",
              "}\n",
              "\n",
              ".sk-estimator-doc-link:hover span {\n",
              "  display: block;\n",
              "}\n",
              "\n",
              "/* \"?\"-specific style due to the `<a>` HTML tag */\n",
              "\n",
              "#sk-container-id-1 a.estimator_doc_link {\n",
              "  float: right;\n",
              "  font-size: 1rem;\n",
              "  line-height: 1em;\n",
              "  font-family: monospace;\n",
              "  background-color: var(--sklearn-color-background);\n",
              "  border-radius: 1rem;\n",
              "  height: 1rem;\n",
              "  width: 1rem;\n",
              "  text-decoration: none;\n",
              "  /* unfitted */\n",
              "  color: var(--sklearn-color-unfitted-level-1);\n",
              "  border: var(--sklearn-color-unfitted-level-1) 1pt solid;\n",
              "}\n",
              "\n",
              "#sk-container-id-1 a.estimator_doc_link.fitted {\n",
              "  /* fitted */\n",
              "  border: var(--sklearn-color-fitted-level-1) 1pt solid;\n",
              "  color: var(--sklearn-color-fitted-level-1);\n",
              "}\n",
              "\n",
              "/* On hover */\n",
              "#sk-container-id-1 a.estimator_doc_link:hover {\n",
              "  /* unfitted */\n",
              "  background-color: var(--sklearn-color-unfitted-level-3);\n",
              "  color: var(--sklearn-color-background);\n",
              "  text-decoration: none;\n",
              "}\n",
              "\n",
              "#sk-container-id-1 a.estimator_doc_link.fitted:hover {\n",
              "  /* fitted */\n",
              "  background-color: var(--sklearn-color-fitted-level-3);\n",
              "}\n",
              "</style><div id=\"sk-container-id-1\" class=\"sk-top-container\"><div class=\"sk-text-repr-fallback\"><pre>VotingClassifier(estimators=[(&#x27;LR&#x27;, LogisticRegression(random_state=42)),\n",
              "                             (&#x27;XGB&#x27;,\n",
              "                              XGBClassifier(base_score=None, booster=None,\n",
              "                                            callbacks=None,\n",
              "                                            colsample_bylevel=None,\n",
              "                                            colsample_bynode=None,\n",
              "                                            colsample_bytree=None, device=None,\n",
              "                                            early_stopping_rounds=None,\n",
              "                                            enable_categorical=False,\n",
              "                                            eval_metric=&#x27;logloss&#x27;,\n",
              "                                            feature_types=None,\n",
              "                                            feature_weights=None, gamma=None,\n",
              "                                            grow_poli...\n",
              "                                            max_cat_threshold=None,\n",
              "                                            max_cat_to_onehot=None,\n",
              "                                            max_delta_step=None, max_depth=3,\n",
              "                                            max_leaves=None,\n",
              "                                            min_child_weight=None, missing=nan,\n",
              "                                            monotone_constraints=None,\n",
              "                                            multi_strategy=None,\n",
              "                                            n_estimators=15, n_jobs=None,\n",
              "                                            num_parallel_tree=None, ...)),\n",
              "                             (&#x27;ada&#x27;,\n",
              "                              AdaBoostClassifier(n_estimators=15,\n",
              "                                                 random_state=42)),\n",
              "                             (&#x27;SVC&#x27;, SVC(probability=True, random_state=42))],\n",
              "                 voting=&#x27;soft&#x27;)</pre><b>In a Jupyter environment, please rerun this cell to show the HTML representation or trust the notebook. <br />On GitHub, the HTML representation is unable to render, please try loading this page with nbviewer.org.</b></div><div class=\"sk-container\" hidden><div class=\"sk-item sk-dashed-wrapped\"><div class=\"sk-label-container\"><div class=\"sk-label fitted sk-toggleable\"><input class=\"sk-toggleable__control sk-hidden--visually\" id=\"sk-estimator-id-1\" type=\"checkbox\" ><label for=\"sk-estimator-id-1\" class=\"sk-toggleable__label fitted sk-toggleable__label-arrow\"><div><div>VotingClassifier</div></div><div><a class=\"sk-estimator-doc-link fitted\" rel=\"noreferrer\" target=\"_blank\" href=\"https://scikit-learn.org/1.6/modules/generated/sklearn.ensemble.VotingClassifier.html\">?<span>Documentation for VotingClassifier</span></a><span class=\"sk-estimator-doc-link fitted\">i<span>Fitted</span></span></div></label><div class=\"sk-toggleable__content fitted\"><pre>VotingClassifier(estimators=[(&#x27;LR&#x27;, LogisticRegression(random_state=42)),\n",
              "                             (&#x27;XGB&#x27;,\n",
              "                              XGBClassifier(base_score=None, booster=None,\n",
              "                                            callbacks=None,\n",
              "                                            colsample_bylevel=None,\n",
              "                                            colsample_bynode=None,\n",
              "                                            colsample_bytree=None, device=None,\n",
              "                                            early_stopping_rounds=None,\n",
              "                                            enable_categorical=False,\n",
              "                                            eval_metric=&#x27;logloss&#x27;,\n",
              "                                            feature_types=None,\n",
              "                                            feature_weights=None, gamma=None,\n",
              "                                            grow_poli...\n",
              "                                            max_cat_threshold=None,\n",
              "                                            max_cat_to_onehot=None,\n",
              "                                            max_delta_step=None, max_depth=3,\n",
              "                                            max_leaves=None,\n",
              "                                            min_child_weight=None, missing=nan,\n",
              "                                            monotone_constraints=None,\n",
              "                                            multi_strategy=None,\n",
              "                                            n_estimators=15, n_jobs=None,\n",
              "                                            num_parallel_tree=None, ...)),\n",
              "                             (&#x27;ada&#x27;,\n",
              "                              AdaBoostClassifier(n_estimators=15,\n",
              "                                                 random_state=42)),\n",
              "                             (&#x27;SVC&#x27;, SVC(probability=True, random_state=42))],\n",
              "                 voting=&#x27;soft&#x27;)</pre></div> </div></div><div class=\"sk-parallel\"><div class=\"sk-parallel-item\"><div class=\"sk-item\"><div class=\"sk-label-container\"><div class=\"sk-label fitted sk-toggleable\"><label>LR</label></div></div><div class=\"sk-serial\"><div class=\"sk-item\"><div class=\"sk-estimator fitted sk-toggleable\"><input class=\"sk-toggleable__control sk-hidden--visually\" id=\"sk-estimator-id-2\" type=\"checkbox\" ><label for=\"sk-estimator-id-2\" class=\"sk-toggleable__label fitted sk-toggleable__label-arrow\"><div><div>LogisticRegression</div></div><div><a class=\"sk-estimator-doc-link fitted\" rel=\"noreferrer\" target=\"_blank\" href=\"https://scikit-learn.org/1.6/modules/generated/sklearn.linear_model.LogisticRegression.html\">?<span>Documentation for LogisticRegression</span></a></div></label><div class=\"sk-toggleable__content fitted\"><pre>LogisticRegression(random_state=42)</pre></div> </div></div></div></div></div><div class=\"sk-parallel-item\"><div class=\"sk-item\"><div class=\"sk-label-container\"><div class=\"sk-label fitted sk-toggleable\"><label>XGB</label></div></div><div class=\"sk-serial\"><div class=\"sk-item\"><div class=\"sk-estimator fitted sk-toggleable\"><input class=\"sk-toggleable__control sk-hidden--visually\" id=\"sk-estimator-id-3\" type=\"checkbox\" ><label for=\"sk-estimator-id-3\" class=\"sk-toggleable__label fitted sk-toggleable__label-arrow\"><div><div>XGBClassifier</div></div><div><a class=\"sk-estimator-doc-link fitted\" rel=\"noreferrer\" target=\"_blank\" href=\"https://xgboost.readthedocs.io/en/release_3.0.0/python/python_api.html#xgboost.XGBClassifier\">?<span>Documentation for XGBClassifier</span></a></div></label><div class=\"sk-toggleable__content fitted\"><pre>XGBClassifier(base_score=None, booster=None, callbacks=None,\n",
              "              colsample_bylevel=None, colsample_bynode=None,\n",
              "              colsample_bytree=None, device=None, early_stopping_rounds=None,\n",
              "              enable_categorical=False, eval_metric=&#x27;logloss&#x27;,\n",
              "              feature_types=None, feature_weights=None, gamma=None,\n",
              "              grow_policy=None, importance_type=None,\n",
              "              interaction_constraints=None, learning_rate=None, max_bin=None,\n",
              "              max_cat_threshold=None, max_cat_to_onehot=None,\n",
              "              max_delta_step=None, max_depth=3, max_leaves=None,\n",
              "              min_child_weight=None, missing=nan, monotone_constraints=None,\n",
              "              multi_strategy=None, n_estimators=15, n_jobs=None,\n",
              "              num_parallel_tree=None, ...)</pre></div> </div></div></div></div></div><div class=\"sk-parallel-item\"><div class=\"sk-item\"><div class=\"sk-label-container\"><div class=\"sk-label fitted sk-toggleable\"><label>ada</label></div></div><div class=\"sk-serial\"><div class=\"sk-item\"><div class=\"sk-estimator fitted sk-toggleable\"><input class=\"sk-toggleable__control sk-hidden--visually\" id=\"sk-estimator-id-4\" type=\"checkbox\" ><label for=\"sk-estimator-id-4\" class=\"sk-toggleable__label fitted sk-toggleable__label-arrow\"><div><div>AdaBoostClassifier</div></div><div><a class=\"sk-estimator-doc-link fitted\" rel=\"noreferrer\" target=\"_blank\" href=\"https://scikit-learn.org/1.6/modules/generated/sklearn.ensemble.AdaBoostClassifier.html\">?<span>Documentation for AdaBoostClassifier</span></a></div></label><div class=\"sk-toggleable__content fitted\"><pre>AdaBoostClassifier(n_estimators=15, random_state=42)</pre></div> </div></div></div></div></div><div class=\"sk-parallel-item\"><div class=\"sk-item\"><div class=\"sk-label-container\"><div class=\"sk-label fitted sk-toggleable\"><label>SVC</label></div></div><div class=\"sk-serial\"><div class=\"sk-item\"><div class=\"sk-estimator fitted sk-toggleable\"><input class=\"sk-toggleable__control sk-hidden--visually\" id=\"sk-estimator-id-5\" type=\"checkbox\" ><label for=\"sk-estimator-id-5\" class=\"sk-toggleable__label fitted sk-toggleable__label-arrow\"><div><div>SVC</div></div><div><a class=\"sk-estimator-doc-link fitted\" rel=\"noreferrer\" target=\"_blank\" href=\"https://scikit-learn.org/1.6/modules/generated/sklearn.svm.SVC.html\">?<span>Documentation for SVC</span></a></div></label><div class=\"sk-toggleable__content fitted\"><pre>SVC(probability=True, random_state=42)</pre></div> </div></div></div></div></div></div></div></div></div>"
            ]
          },
          "metadata": {},
          "execution_count": 28
        }
      ],
      "source": [
        "### Implement voting classifier with hard voting\n",
        "\n",
        "ml_model = VotingClassifier(estimators=estimator, voting='soft')\n",
        "ml_model.fit(X_train_resampled, y_train_resampled)"
      ]
    },
    {
      "cell_type": "code",
      "execution_count": 29,
      "id": "0d37141d",
      "metadata": {
        "colab": {
          "base_uri": "https://localhost:8080/"
        },
        "id": "0d37141d",
        "outputId": "598e77f4-5003-407e-88bc-386cef2c273f"
      },
      "outputs": [
        {
          "output_type": "stream",
          "name": "stdout",
          "text": [
            "Confusion Matrix:\n",
            "[[4611 2493]\n",
            " [3352 3754]]\n",
            "\n",
            "Classification Report:\n",
            "              precision    recall  f1-score   support\n",
            "\n",
            "           0       0.58      0.65      0.61      7104\n",
            "           1       0.60      0.53      0.56      7106\n",
            "\n",
            "    accuracy                           0.59     14210\n",
            "   macro avg       0.59      0.59      0.59     14210\n",
            "weighted avg       0.59      0.59      0.59     14210\n",
            "\n",
            "\n",
            "Probability Summary by Confusion Outcome:\n",
            "                Count  Mean Probability  Std Probability\n",
            "Outcome                                                 \n",
            "True Positive    3754          0.558759         0.035838\n",
            "False Positive   2493          0.545533         0.031063\n",
            "True Negative    4611          0.454676         0.023470\n",
            "False Negative   3352          0.459370         0.023133\n"
          ]
        }
      ],
      "source": [
        "y_true = y_test\n",
        "y_pred = ml_model.predict(X_test)\n",
        "y_proba_default = ml_model.predict_proba(X_test)[:, 1]\n",
        "\n",
        "conf_matrix = confusion_matrix(y_true, y_pred)\n",
        "print(\"Confusion Matrix:\")\n",
        "print(conf_matrix)\n",
        "\n",
        "class_report = classification_report(y_true, y_pred)\n",
        "print(\"\\nClassification Report:\")\n",
        "print(class_report)\n",
        "\n",
        "probability_summary = confusion_probability_summary(y_true, y_pred, y_proba_default)\n",
        "print(\"\\nProbability Summary by Confusion Outcome:\")\n",
        "print(probability_summary)\n"
      ]
    },
    {
      "cell_type": "code",
      "execution_count": 30,
      "metadata": {
        "colab": {
          "base_uri": "https://localhost:8080/"
        },
        "id": "qMmwRwNtWz0l",
        "outputId": "31b5eb6b-7c23-40c2-bfd3-c56891b8450c"
      },
      "outputs": [
        {
          "output_type": "stream",
          "name": "stdout",
          "text": [
            "Confusion Matrix (Threshold 0.7):\n",
            "[[7104    0]\n",
            " [7106    0]]\n",
            "\n",
            "Classification Report (Threshold 0.7):\n",
            "              precision    recall  f1-score   support\n",
            "\n",
            "           0       0.50      1.00      0.67      7104\n",
            "           1       0.00      0.00      0.00      7106\n",
            "\n",
            "    accuracy                           0.50     14210\n",
            "   macro avg       0.25      0.50      0.33     14210\n",
            "weighted avg       0.25      0.50      0.33     14210\n",
            "\n",
            "\n",
            "Probability Summary by Confusion Outcome (Threshold 0.7):\n",
            "                Count  Mean Probability  Std Probability\n",
            "Outcome                                                 \n",
            "True Positive       0               NaN              NaN\n",
            "False Positive      0               NaN              NaN\n",
            "True Negative    7104          0.486561         0.050759\n",
            "False Negative   7106          0.511876         0.058246\n"
          ]
        }
      ],
      "source": [
        "# Evaluate ML model using a 0.7 probability threshold for class 1\n",
        "y_proba = ml_model.predict_proba(X_test)[:, 1]\n",
        "y_pred_threshold = (y_proba >= 0.7).astype(int)\n",
        "\n",
        "conf_matrix_threshold = confusion_matrix(y_true, y_pred_threshold)\n",
        "print(\"Confusion Matrix (Threshold 0.7):\")\n",
        "print(conf_matrix_threshold)\n",
        "\n",
        "class_report_threshold = classification_report(y_true, y_pred_threshold)\n",
        "print(\"\\nClassification Report (Threshold 0.7):\")\n",
        "print(class_report_threshold)\n",
        "\n",
        "probability_summary_threshold = confusion_probability_summary(y_true, y_pred_threshold, y_proba)\n",
        "print(\"\\nProbability Summary by Confusion Outcome (Threshold 0.7):\")\n",
        "print(probability_summary_threshold)\n"
      ],
      "id": "qMmwRwNtWz0l"
    },
    {
      "cell_type": "code",
      "execution_count": 31,
      "id": "dCEg0X2E04iQ",
      "metadata": {
        "colab": {
          "base_uri": "https://localhost:8080/"
        },
        "id": "dCEg0X2E04iQ",
        "outputId": "d0d5a8aa-a387-4cd3-ceb2-9103f1289828"
      },
      "outputs": [
        {
          "output_type": "stream",
          "name": "stdout",
          "text": [
            "Model saved successfully at: /content/drive/MyDrive/Course Folder/Forex/XAUUSD/Models/XAUUSD_Short_ml_model.joblib\n"
          ]
        }
      ],
      "source": [
        "### Save ML Model\n",
        "model_path = root_data + 'Models/'+symbol+'_'+direction+'_ml_model.joblib'\n",
        "joblib.dump(ml_model, model_path)\n",
        "print(f\"Model saved successfully at: {model_path}\")"
      ]
    },
    {
      "cell_type": "markdown",
      "id": "rhCVvXKxM2Uk",
      "metadata": {
        "id": "rhCVvXKxM2Uk"
      },
      "source": [
        "## Meta"
      ]
    },
    {
      "cell_type": "code",
      "execution_count": 32,
      "id": "PhMU7vwLPag_",
      "metadata": {
        "colab": {
          "base_uri": "https://localhost:8080/"
        },
        "id": "PhMU7vwLPag_",
        "outputId": "bd9f3d00-72cc-4daf-e127-ae843f9c3504"
      },
      "outputs": [
        {
          "output_type": "stream",
          "name": "stdout",
          "text": [
            "Model loaded successfully from: /content/drive/MyDrive/Course Folder/Forex/XAUUSD/Models/XAUUSD_Short_ml_model.joblib\n"
          ]
        }
      ],
      "source": [
        "### Import ML Model\n",
        "model_path = root_data+'Models/'+symbol+'_'+direction+'_ml_model.joblib'\n",
        "ml_model = joblib.load(model_path)\n",
        "print(f\"Model loaded successfully from: {model_path}\")"
      ]
    },
    {
      "cell_type": "code",
      "execution_count": 33,
      "id": "qszEBUJ-4GCn",
      "metadata": {
        "id": "qszEBUJ-4GCn"
      },
      "outputs": [],
      "source": [
        "#train.head(5)"
      ]
    },
    {
      "cell_type": "code",
      "execution_count": null,
      "id": "yRXiqFivOSNq",
      "metadata": {
        "id": "yRXiqFivOSNq"
      },
      "outputs": [],
      "source": [
        "### Import Data\n",
        "start_feature = train.columns.get_loc('M10_raw_10min_RSI_basic_14_diff')\n",
        "train_features = [col for col in train.columns[start_feature:] if col != 'label']\n",
        "\n",
        "# Select the feature columns from the 'train' DataFrame\n",
        "X_train_features = train[train_features]\n",
        "\n",
        "train['label_ml'] = ml_model.predict(X_train_features)\n",
        "\n",
        "prediction_probabilities = ml_model.predict_proba(X_train_features)\n",
        "train['prob_0'] = prediction_probabilities[:, 0]\n",
        "train['prob_1'] = prediction_probabilities[:, 1]\n",
        "\n",
        "# Additional outputs of the initial model to feed into the meta model.\n",
        "\n",
        "#meta_manual_features = ['label_ml', 'prob_1', 'prob_0']\n",
        "meta_manual_features = ['prob_1']\n",
        "meta_features = train_features + meta_manual_features\n",
        "X_meta_features = train[meta_features]\n",
        "\n",
        "#train.head()"
      ]
    },
    {
      "cell_type": "code",
      "execution_count": null,
      "id": "a7PKPf5CxaRx",
      "metadata": {
        "id": "a7PKPf5CxaRx"
      },
      "outputs": [],
      "source": [
        "train.to_csv(root_data + 'Results/'+symbol+'Meta_Prob_M5+M10_train_l.csv')"
      ]
    },
    {
      "cell_type": "code",
      "execution_count": null,
      "id": "XVlPvtGoxaRy",
      "metadata": {
        "id": "XVlPvtGoxaRy"
      },
      "outputs": [],
      "source": [
        "# Adjust the manual meta features in 'meta_manual_features' if different inputs are required.\n",
        "meta = meta_features.copy()\n",
        "X_meta_features = train[meta]\n",
        "\n",
        "X = train[meta]\n",
        "y = train['label']\n",
        "\n",
        "X_train, X_test, y_train, y_test = train_test_split(X, y, test_size=0.3, random_state=42)\n",
        "\n",
        "print(\"Shape of X_train:\", X_train.shape)\n",
        "print(\"Shape of X_test:\", X_test.shape)\n",
        "print(\"Shape of y_train:\", y_train.shape)\n",
        "print(\"Shape of y_test:\", y_test.shape)"
      ]
    },
    {
      "cell_type": "code",
      "execution_count": null,
      "id": "3rPgnEbGxaRy",
      "metadata": {
        "id": "3rPgnEbGxaRy"
      },
      "outputs": [],
      "source": [
        "print(y_train.value_counts())\n",
        "print(y_test.value_counts())"
      ]
    },
    {
      "cell_type": "code",
      "execution_count": null,
      "id": "VeHU0htFxaRy",
      "metadata": {
        "id": "VeHU0htFxaRy"
      },
      "outputs": [],
      "source": [
        "### Rebalance Data frame due to the low number of class 1\n",
        "\n",
        "smote = SMOTE(random_state=42)\n",
        "X_train_resampled, y_train_resampled = smote.fit_resample(X_train, y_train)"
      ]
    },
    {
      "cell_type": "code",
      "execution_count": null,
      "id": "2XmqHiZBxaRy",
      "metadata": {
        "id": "2XmqHiZBxaRy"
      },
      "outputs": [],
      "source": [
        "# --------------- Classifier 1: XGBoost ------------------------------------------\n",
        "xgb = XGBClassifier(n_estimators=15, max_depth=3,\n",
        "                    random_state=42, eval_metric='logloss')\n",
        "\n",
        "# --------------- Classifier 2: Logistic Regression Classifier------------------------------------------\n",
        "lr = LogisticRegression(random_state=42)\n",
        "\n",
        "# --------------- Classifier 3: AdaBoost Classifier ------------------------------------------\n",
        "ada = AdaBoostClassifier(n_estimators=15, random_state=42)\n",
        "\n",
        "# --------------- Classifier 4: SVM------------------------------------------\n",
        "svc = svm.SVC(kernel='rbf', probability=True, random_state=42)\n",
        "\n",
        "# Define a list to store the different models\n",
        "estimator = []\n",
        "estimator.append(('LR', lr))\n",
        "estimator.append(('XGB', xgb))\n",
        "estimator.append(('ada', ada))\n",
        "estimator.append(('SVC', svc))"
      ]
    },
    {
      "cell_type": "code",
      "execution_count": null,
      "id": "2JHZizlExaRy",
      "metadata": {
        "id": "2JHZizlExaRy"
      },
      "outputs": [],
      "source": [
        "### Implement voting classifier with hard voting\n",
        "\n",
        "meta_ml_model = VotingClassifier(estimators=estimator, voting='soft')\n",
        "meta_ml_model.fit(X_train_resampled, y_train_resampled)"
      ]
    },
    {
      "cell_type": "code",
      "execution_count": null,
      "id": "HU43Cg6jVq6j",
      "metadata": {
        "id": "HU43Cg6jVq6j"
      },
      "outputs": [],
      "source": [
        "y_true = y_test\n",
        "y_pred = meta_ml_model.predict(X_test)\n",
        "meta_y_proba_default = meta_ml_model.predict_proba(X_test)[:, 1]\n",
        "\n",
        "conf_matrix = confusion_matrix(y_true, y_pred)\n",
        "print(\"Confusion Matrix:\")\n",
        "print(conf_matrix)\n",
        "\n",
        "class_report = classification_report(y_true, y_pred)\n",
        "print(\"\\nClassification Report:\")\n",
        "print(class_report)\n",
        "\n",
        "probability_summary = confusion_probability_summary(y_true, y_pred, meta_y_proba_default)\n",
        "print(\"\\nProbability Summary by Confusion Outcome:\")\n",
        "print(probability_summary)\n"
      ]
    },
    {
      "cell_type": "code",
      "execution_count": null,
      "metadata": {
        "id": "pZXiSkdiWz0u"
      },
      "outputs": [],
      "source": [
        "# Evaluate Meta ML model using a 0.7 probability threshold for class 1\n",
        "meta_y_proba = meta_ml_model.predict_proba(X_test)[:, 1]\n",
        "meta_y_pred_threshold = (meta_y_proba >= 0.7).astype(int)\n",
        "\n",
        "meta_conf_matrix_threshold = confusion_matrix(y_true, meta_y_pred_threshold)\n",
        "print(\"Confusion Matrix (Threshold 0.7):\")\n",
        "print(meta_conf_matrix_threshold)\n",
        "\n",
        "meta_class_report_threshold = classification_report(y_true, meta_y_pred_threshold)\n",
        "print(\"\\nClassification Report (Threshold 0.7):\")\n",
        "print(meta_class_report_threshold)\n",
        "\n",
        "meta_probability_summary_threshold = confusion_probability_summary(y_true, meta_y_pred_threshold, meta_y_proba)\n",
        "print(\"\\nProbability Summary by Confusion Outcome (Threshold 0.7):\")\n",
        "print(meta_probability_summary_threshold)\n"
      ],
      "id": "pZXiSkdiWz0u"
    },
    {
      "cell_type": "code",
      "execution_count": null,
      "id": "tAR97BLJu44I",
      "metadata": {
        "id": "tAR97BLJu44I"
      },
      "outputs": [],
      "source": [
        "train['meta_results'] = meta_ml_model.predict(X_meta_features)"
      ]
    },
    {
      "cell_type": "code",
      "execution_count": null,
      "id": "ysM6YjQAj8QR",
      "metadata": {
        "id": "ysM6YjQAj8QR"
      },
      "outputs": [],
      "source": [
        "train.to_csv(root_data + 'Results/'+symbol+'train_l_Signals & Meta_Signals.csv')"
      ]
    },
    {
      "cell_type": "code",
      "execution_count": null,
      "id": "8Y71USlnxaRz",
      "metadata": {
        "id": "8Y71USlnxaRz"
      },
      "outputs": [],
      "source": [
        "### Save ML Model\n",
        "model_path = root_data + 'Models/'+symbol+'_'+direction+'_Meta_ml_model.joblib'\n",
        "joblib.dump(meta_ml_model, model_path)\n",
        "print(f\"Model saved successfully at: {model_path}\")"
      ]
    },
    {
      "cell_type": "markdown",
      "id": "dX1ehVSJJRC9",
      "metadata": {
        "id": "dX1ehVSJJRC9"
      },
      "source": [
        "## PnL Train"
      ]
    },
    {
      "cell_type": "code",
      "execution_count": null,
      "id": "kUfGrpS7kxyW",
      "metadata": {
        "id": "kUfGrpS7kxyW"
      },
      "outputs": [],
      "source": [
        "train['ml_results'] = np.where(train['label_ml']==1, train['st_PnL'],0)\n",
        "results(train, pnl_column='ml_results')"
      ]
    },
    {
      "cell_type": "code",
      "execution_count": null,
      "id": "USsAkHmUYkHT",
      "metadata": {
        "id": "USsAkHmUYkHT"
      },
      "outputs": [],
      "source": [
        "train['meta_ml_results'] = np.where(train['meta_results']==1, train['st_PnL'],0)\n",
        "results(train, pnl_column='meta_ml_results')"
      ]
    },
    {
      "cell_type": "markdown",
      "id": "60f86dad",
      "metadata": {
        "id": "60f86dad"
      },
      "source": [
        "\n",
        "# Test\n"
      ]
    },
    {
      "cell_type": "markdown",
      "id": "q7HA2vsxuup9",
      "metadata": {
        "id": "q7HA2vsxuup9"
      },
      "source": [
        "## Results_ML"
      ]
    },
    {
      "cell_type": "code",
      "execution_count": null,
      "id": "5Y218WrFnt-E",
      "metadata": {
        "id": "5Y218WrFnt-E"
      },
      "outputs": [],
      "source": [
        "### Import ML Model\n",
        "\n",
        "model_path = root_data+'Models/'+symbol+'_'+direction+'_ml_model.joblib'\n",
        "ml_model = joblib.load(model_path)\n",
        "print(f\"Model loaded successfully from: {model_path}\")"
      ]
    },
    {
      "cell_type": "code",
      "execution_count": null,
      "id": "YiE7uKuaDqmf",
      "metadata": {
        "id": "YiE7uKuaDqmf"
      },
      "outputs": [],
      "source": [
        "### Import Meta Model\n",
        "\n",
        "model_path = root_data+'Models/'+symbol+'_'+direction+'_Meta_ml_model.joblib'\n",
        "meta_ml_model = joblib.load(model_path)\n",
        "print(f\"Model loaded successfully from: {model_path}\")"
      ]
    },
    {
      "cell_type": "code",
      "execution_count": null,
      "id": "TGSpa4ZWrC3K",
      "metadata": {
        "id": "TGSpa4ZWrC3K"
      },
      "outputs": [],
      "source": [
        "# Select the feature columns from the 'test' DataFrame\n",
        "X_test_features = test[train_features]\n",
        "\n",
        "test['label_ml'] = ml_model.predict(X_test_features)\n",
        "\n",
        "prediction_probabilities_test = ml_model.predict_proba(X_test_features)\n",
        "test['prob_0'] = prediction_probabilities_test[:, 0]\n",
        "test['prob_1'] = prediction_probabilities_test[:, 1]\n",
        "\n",
        "# Calculate and display Confusion Matrix\n",
        "conf_matrix = confusion_matrix(test['label'], test['label_ml'])\n",
        "print(\"Confusion Matrix:\")\n",
        "print(conf_matrix)\n",
        "\n",
        "# Calculate and display Classification Report\n",
        "class_report = classification_report(test['label'], test['label_ml'])\n",
        "print(\"\\nClassification Report:\")\n",
        "print(class_report)\n",
        "\n",
        "probability_summary_test = confusion_probability_summary(test['label'], test['label_ml'], test['prob_1'])\n",
        "print(\"\\nProbability Summary by Confusion Outcome:\")\n",
        "print(probability_summary_test)"
      ]
    },
    {
      "cell_type": "code",
      "execution_count": null,
      "id": "L5v-IETUsv9j",
      "metadata": {
        "id": "L5v-IETUsv9j"
      },
      "outputs": [],
      "source": [
        "# Calculate and display Confusion Matrix\n",
        "conf_matrix = confusion_matrix(test['label'], test['label_ml'])\n",
        "print(\"Confusion Matrix:\")\n",
        "print(conf_matrix)\n",
        "\n",
        "# Calculate and display Classification Report\n",
        "class_report = classification_report(test['label'], test['label_ml'])\n",
        "print(\"\\nClassification Report:\")\n",
        "print(class_report)\n",
        "\n",
        "probability_summary_test = confusion_probability_summary(test['label'], test['label_ml'], test['prob_1'])\n",
        "print(\"\\nProbability Summary by Confusion Outcome:\")\n",
        "print(probability_summary_test)\n"
      ]
    },
    {
      "cell_type": "code",
      "execution_count": null,
      "metadata": {
        "id": "fU7IXWiGWz0x"
      },
      "outputs": [],
      "source": [
        "# Evaluate ML model on the test set using a 0.7 probability threshold for class 1\n",
        "test['label_ml_prob_70'] = np.where(test['prob_1'] >= 0.7, 1, 0)\n",
        "\n",
        "conf_matrix_prob_70 = confusion_matrix(test['label'], test['label_ml_prob_70'])\n",
        "print(\"Confusion Matrix (Threshold 0.7):\")\n",
        "print(conf_matrix_prob_70)\n",
        "\n",
        "class_report_prob_70 = classification_report(test['label'], test['label_ml_prob_70'])\n",
        "print(\"\\nClassification Report (Threshold 0.7):\")\n",
        "print(class_report_prob_70)\n",
        "\n",
        "probability_summary_prob_70 = confusion_probability_summary(test['label'], test['label_ml_prob_70'], test['prob_1'])\n",
        "print(\"\\nProbability Summary by Confusion Outcome (Threshold 0.7):\")\n",
        "print(probability_summary_prob_70)\n"
      ],
      "id": "fU7IXWiGWz0x"
    },
    {
      "cell_type": "code",
      "execution_count": null,
      "id": "O0tSbMwArC8a",
      "metadata": {
        "id": "O0tSbMwArC8a"
      },
      "outputs": [],
      "source": [
        "# Select the feature columns for the meta model from the 'test' DataFrame\n",
        "X_meta_features_test = test[meta]\n",
        "\n",
        "# Predict using the meta model on the test set\n",
        "test['meta_label'] = meta_ml_model.predict(X_meta_features_test)\n",
        "meta_prediction_probabilities_test = meta_ml_model.predict_proba(X_meta_features_test)\n",
        "test['meta_prob_0'] = meta_prediction_probabilities_test[:, 0]\n",
        "test['meta_prob_1'] = meta_prediction_probabilities_test[:, 1]\n",
        "\n",
        "\n",
        "# Calculate and display Confusion Matrix\n",
        "conf_matrix = confusion_matrix(test['label'], test['meta_label'])\n",
        "print(\"Confusion Matrix:\")\n",
        "print(conf_matrix)\n",
        "\n",
        "# Calculate and display Classification Report\n",
        "class_report = classification_report(test['label'], test['meta_label'])\n",
        "print(\"\\nClassification Report:\")\n",
        "print(class_report)\n",
        "\n",
        "meta_probability_summary_test = confusion_probability_summary(test['label'], test['meta_label'], test['meta_prob_1'])\n",
        "print(\"\\nProbability Summary by Confusion Outcome:\")\n",
        "print(meta_probability_summary_test)"
      ]
    },
    {
      "cell_type": "code",
      "execution_count": null,
      "id": "SgIOg4eErC_H",
      "metadata": {
        "id": "SgIOg4eErC_H"
      },
      "outputs": [],
      "source": [
        "# Calculate and display Confusion Matrix\n",
        "conf_matrix = confusion_matrix(test['label'], test['meta_label'])\n",
        "print(\"Confusion Matrix:\")\n",
        "print(conf_matrix)\n",
        "\n",
        "# Calculate and display Classification Report\n",
        "class_report = classification_report(test['label'], test['meta_label'])\n",
        "print(\"\\nClassification Report:\")\n",
        "print(class_report)\n",
        "\n",
        "meta_probability_summary_test = confusion_probability_summary(test['label'], test['meta_label'], test['meta_prob_1'])\n",
        "print(\"\\nProbability Summary by Confusion Outcome:\")\n",
        "print(meta_probability_summary_test)\n"
      ]
    },
    {
      "cell_type": "code",
      "execution_count": null,
      "metadata": {
        "id": "WcQPv6u2Wz0y"
      },
      "outputs": [],
      "source": [
        "# Evaluate Meta ML model on the test set using a 0.7 probability threshold for class 1\n",
        "test['meta_label_prob_70'] = np.where(test['meta_prob_1'] >= 0.7, 1, 0)\n",
        "\n",
        "meta_conf_matrix_prob_70 = confusion_matrix(test['label'], test['meta_label_prob_70'])\n",
        "print(\"Confusion Matrix (Threshold 0.7):\")\n",
        "print(meta_conf_matrix_prob_70)\n",
        "\n",
        "meta_class_report_prob_70 = classification_report(test['label'], test['meta_label_prob_70'])\n",
        "print(\"\\nClassification Report (Threshold 0.7):\")\n",
        "print(meta_class_report_prob_70)\n",
        "\n",
        "meta_probability_summary_prob_70 = confusion_probability_summary(test['label'], test['meta_label_prob_70'], test['meta_prob_1'])\n",
        "print(\"\\nProbability Summary by Confusion Outcome (Threshold 0.7):\")\n",
        "print(meta_probability_summary_prob_70)\n"
      ],
      "id": "WcQPv6u2Wz0y"
    },
    {
      "cell_type": "markdown",
      "id": "_5BjO-5fvFjb",
      "metadata": {
        "id": "_5BjO-5fvFjb"
      },
      "source": [
        "## Results_PnL"
      ]
    },
    {
      "cell_type": "code",
      "execution_count": null,
      "id": "gj0_nEvuvvjB",
      "metadata": {
        "id": "gj0_nEvuvvjB"
      },
      "outputs": [],
      "source": [
        "# Calculate and display Confusion Matrix\n",
        "conf_matrix = confusion_matrix(test['label'], test['label_ml'])\n",
        "print(\"Confusion Matrix:\")\n",
        "print(conf_matrix)\n",
        "\n",
        "# Calculate and display Classification Report\n",
        "class_report = classification_report(test['label'], test['label_ml'])\n",
        "print(\"\\nClassification Report:\")\n",
        "print(class_report)\n",
        "\n",
        "probability_summary_test = confusion_probability_summary(test['label'], test['label_ml'], test['prob_1'])\n",
        "print(\"\\nProbability Summary by Confusion Outcome:\")\n",
        "print(probability_summary_test)\n"
      ]
    },
    {
      "cell_type": "code",
      "execution_count": null,
      "id": "-iktKy5uvvjC",
      "metadata": {
        "id": "-iktKy5uvvjC"
      },
      "outputs": [],
      "source": [
        "# Calculate and display Confusion Matrix\n",
        "conf_matrix = confusion_matrix(test['label'], test['meta_label'])\n",
        "print(\"Confusion Matrix:\")\n",
        "print(conf_matrix)\n",
        "\n",
        "# Calculate and display Classification Report\n",
        "class_report = classification_report(test['label'], test['meta_label'])\n",
        "print(\"\\nClassification Report:\")\n",
        "print(class_report)\n",
        "\n",
        "meta_probability_summary_test = confusion_probability_summary(test['label'], test['meta_label'], test['meta_prob_1'])\n",
        "print(\"\\nProbability Summary by Confusion Outcome:\")\n",
        "print(meta_probability_summary_test)\n"
      ]
    },
    {
      "cell_type": "markdown",
      "id": "0410fd8b",
      "metadata": {
        "id": "0410fd8b"
      },
      "source": [
        "# Pendientes\n"
      ]
    },
    {
      "cell_type": "code",
      "execution_count": null,
      "id": "CNhE1wXGVTYf",
      "metadata": {
        "id": "CNhE1wXGVTYf"
      },
      "outputs": [],
      "source": []
    }
  ],
  "metadata": {
    "colab": {
      "collapsed_sections": [
        "m8CIB8vltFfH",
        "eaf03429",
        "zhTndYVi1TEV",
        "6x4lfhG3E2eq",
        "rhCVvXKxM2Uk",
        "dX1ehVSJJRC9"
      ],
      "provenance": []
    },
    "kernelspec": {
      "display_name": "Python 3",
      "name": "python3"
    },
    "language_info": {
      "codemirror_mode": {
        "name": "ipython",
        "version": 3
      },
      "file_extension": ".py",
      "mimetype": "text/x-python",
      "name": "python",
      "nbconvert_exporter": "python",
      "pygments_lexer": "ipython3",
      "version": "3.9.5"
    }
  },
  "nbformat": 4,
  "nbformat_minor": 5
}