{
  "cells": [
    {
      "cell_type": "markdown",
      "id": "bf83164c",
      "metadata": {
        "id": "bf83164c"
      },
      "source": [
        "# Pendientes\n",
        "\n",
        "Nada"
      ]
    },
    {
      "cell_type": "markdown",
      "id": "Ysa-7eLvEMpE",
      "metadata": {
        "id": "Ysa-7eLvEMpE"
      },
      "source": [
        "# Gpu"
      ]
    },
    {
      "cell_type": "code",
      "execution_count": null,
      "id": "9GJAW8qAEM8f",
      "metadata": {
        "id": "9GJAW8qAEM8f"
      },
      "outputs": [],
      "source": [
        "!nvidia-smi"
      ]
    },
    {
      "cell_type": "code",
      "execution_count": null,
      "id": "FcIdAmrNERw-",
      "metadata": {
        "id": "FcIdAmrNERw-"
      },
      "outputs": [],
      "source": [
        "import tensorflow as tf\n",
        "tf.config.list_physical_devices('GPU')"
      ]
    },
    {
      "cell_type": "markdown",
      "id": "m8CIB8vltFfH",
      "metadata": {
        "id": "m8CIB8vltFfH"
      },
      "source": [
        "# Set_Up"
      ]
    },
    {
      "cell_type": "code",
      "execution_count": null,
      "id": "EB5RqjoAtFwl",
      "metadata": {
        "id": "EB5RqjoAtFwl"
      },
      "outputs": [],
      "source": [
        "symbol = \"BTCUSD\"\n",
        "root_data = f'/content/drive/MyDrive/Course Folder/Forex/XAUUSD/'\n",
        "print(root_data)\n",
        "\n",
        "direction = 'Short'\n",
        "direction_number = -1\n",
        "\n",
        "symbol = 'BTCUSD'\n",
        "strategy = 'Kalman'\n",
        "time_frame = 'M5'\n",
        "\n",
        "trade_evolution = 'st_Max'\n",
        "result_field = 'st_PnL'\n"
      ]
    },
    {
      "cell_type": "markdown",
      "id": "y6QRdBKwrX98",
      "metadata": {
        "id": "y6QRdBKwrX98"
      },
      "source": [
        "# Libraries"
      ]
    },
    {
      "cell_type": "code",
      "execution_count": null,
      "id": "R9bTNmBwK_Up",
      "metadata": {
        "id": "R9bTNmBwK_Up"
      },
      "outputs": [],
      "source": [
        "!pip install ta-lib\n",
        "import talib as ta\n",
        "print(ta.__version__)"
      ]
    },
    {
      "cell_type": "code",
      "execution_count": null,
      "id": "bda1a01c",
      "metadata": {
        "id": "bda1a01c"
      },
      "outputs": [],
      "source": [
        "import numpy as np\n",
        "import pandas as pd\n",
        "import os\n",
        "import joblib\n",
        "import math\n",
        "\n",
        "from tqdm.auto import tqdm\n",
        "\n",
        "from tensorflow.keras.models import Sequential\n",
        "from tensorflow.keras.layers import Dense\n",
        "\n",
        "from sklearn.cluster import KMeans\n",
        "from sklearn.preprocessing import StandardScaler\n",
        "from sklearn.ensemble import RandomForestClassifier\n",
        "from sklearn.feature_selection import RFECV\n",
        "from sklearn.model_selection import StratifiedKFold\n",
        "from sklearn.feature_selection import SelectFromModel\n",
        "from sklearn.metrics import roc_auc_score, r2_score\n",
        "from sklearn.model_selection import TimeSeriesSplit\n",
        "from sklearn.linear_model import LogisticRegression\n",
        "from sklearn.model_selection import cross_val_score\n",
        "\n",
        "from scipy.cluster.hierarchy import linkage, fcluster\n",
        "from scipy.spatial.distance import squareform\n",
        "\n",
        "from xgboost import XGBClassifier, XGBRegressor\n",
        "\n",
        "import tensorflow as tf\n",
        "\n",
        "import sys\n",
        "sys.path.append(\"..\")\n",
        "\n",
        "from __future__ import annotations\n",
        "from typing import Tuple, List, Optional, Dict, Any\n",
        "\n",
        "from xgboost import XGBClassifier, XGBRegressor\n",
        "from sklearn.metrics import (roc_auc_score, f1_score, accuracy_score, log_loss, r2_score)\n",
        "\n",
        "from sklearn.preprocessing import LabelEncoder\n",
        "\n",
        "import warnings\n",
        "warnings.filterwarnings('ignore')"
      ]
    },
    {
      "cell_type": "code",
      "execution_count": null,
      "id": "7JweuZy755ym",
      "metadata": {
        "id": "7JweuZy755ym"
      },
      "outputs": [],
      "source": [
        "import matplotlib.pyplot as plt\n",
        "%matplotlib inline\n",
        "plt.style.use(\"seaborn-v0_8-darkgrid\")"
      ]
    },
    {
      "cell_type": "code",
      "execution_count": null,
      "id": "KFfn45ty82qv",
      "metadata": {
        "id": "KFfn45ty82qv"
      },
      "outputs": [],
      "source": [
        "from google.colab import drive\n",
        "drive.mount('/content/drive')"
      ]
    },
    {
      "cell_type": "markdown",
      "id": "9aa65d54",
      "metadata": {
        "id": "9aa65d54"
      },
      "source": [
        "# Data\n",
        "\n"
      ]
    },
    {
      "cell_type": "markdown",
      "id": "I23127P7lBq_",
      "metadata": {
        "id": "I23127P7lBq_"
      },
      "source": [
        "## Features"
      ]
    },
    {
      "cell_type": "code",
      "execution_count": null,
      "metadata": {
        "id": "kp4yJdGAjoeA"
      },
      "outputs": [],
      "source": [
        "def kalman_line(source, kalman_length: int, smooth: int):\n",
        "\n",
        "    n = len(source)\n",
        "    kf_c = np.empty(n)            # núcleo del filtro\n",
        "    velo_c = np.zeros(n)          # componente de velocidad\n",
        "\n",
        "    sqrt_term   = np.sqrt(kalman_length / 10000.0 * 2.0)\n",
        "    length_term = kalman_length / 10000.0\n",
        "\n",
        "    # --------- inicialización (mismo efecto que `var` en Pine) ----------\n",
        "    kf_c[0]   = source.iloc[0]    # nz(kf_c[1], source) para la primera barra\n",
        "    velo_c[0] = 0.0\n",
        "\n",
        "    # ------------------- bucle recursivo -------------------------------\n",
        "    for i in range(1, n):\n",
        "        prev_kf = kf_c[i-1] if not np.isnan(kf_c[i-1]) else source.iloc[i]\n",
        "        dk      = source.iloc[i] - prev_kf\n",
        "        smooth_c = prev_kf + dk * sqrt_term          # parte \"suave\"\n",
        "        velo_c[i] = velo_c[i-1] + length_term * dk   # acumulamos velocidad\n",
        "        kf_c[i]   = smooth_c + velo_c[i]             # estimación final\n",
        "\n",
        "    # -------------------- EMA final (ta.ema) ----------------------------\n",
        "    kf_c_series = pd.Series(kf_c, index=source.index)\n",
        "    kalman_line = kf_c_series.ewm(span=smooth, adjust=False).mean()\n",
        "    return kalman_line"
      ],
      "id": "kp4yJdGAjoeA"
    },
    {
      "cell_type": "code",
      "source": [
        "def kalman_line(source: pd.Series, kalman_length: int, smooth: int) -> pd.Series:\n",
        "    \"\"\"\n",
        "    Kalman 1D con término de velocidad + EMA final, robusto a NaN.\n",
        "    - Empieza en el primer valor no-NaN (no backfill).\n",
        "    - Si hay NaN intermedios, mantiene el último estado (sin look-ahead).\n",
        "    \"\"\"\n",
        "    s = pd.to_numeric(source, errors='coerce')\n",
        "    idx = s.index\n",
        "    n = len(s)\n",
        "\n",
        "    # parámetros\n",
        "    sqrt_term   = np.sqrt(kalman_length / 10000.0 * 2.0)\n",
        "    length_term = kalman_length / 10000.0\n",
        "\n",
        "    # buffers\n",
        "    kf_c  = np.full(n, np.nan, dtype=float)\n",
        "    velo  = np.zeros(n, dtype=float)\n",
        "\n",
        "    # primer índice válido\n",
        "    first_valid = s.first_valid_index()\n",
        "    if first_valid is None:\n",
        "        return pd.Series(np.nan, index=idx)\n",
        "\n",
        "    start = idx.get_loc(first_valid)\n",
        "    kf_c[start] = float(s.iloc[start])\n",
        "    velo[start] = 0.0\n",
        "\n",
        "    for i in range(start + 1, n):\n",
        "        x = s.iloc[i]\n",
        "        if np.isnan(x):\n",
        "            # sin dato nuevo: sostener estado anterior\n",
        "            kf_c[i] = kf_c[i-1]\n",
        "            velo[i] = velo[i-1]\n",
        "            continue\n",
        "\n",
        "        prev_state = kf_c[i-1]\n",
        "        if np.isnan(prev_state):\n",
        "            # reinicio local si el estado previo es NaN\n",
        "            prev_state = float(x)\n",
        "            velo[i-1] = 0.0\n",
        "\n",
        "        dk        = float(x) - prev_state\n",
        "        smooth_c  = prev_state + dk * sqrt_term\n",
        "        velo[i]   = velo[i-1] + length_term * dk\n",
        "        kf_c[i]   = smooth_c + velo[i]\n",
        "\n",
        "    out = pd.Series(kf_c, index=idx)\n",
        "    out.iloc[:start] = np.nan  # mantener NaN antes del primer dato real\n",
        "    return out.ewm(span=smooth, adjust=False).mean()\n"
      ],
      "metadata": {
        "id": "r2oH_jZ64yCd"
      },
      "id": "r2oH_jZ64yCd",
      "execution_count": null,
      "outputs": []
    },
    {
      "cell_type": "code",
      "execution_count": null,
      "metadata": {
        "id": "HahbLzEkjoeB"
      },
      "outputs": [],
      "source": [
        "def slope(src: pd.Series,\n",
        "          length_kal: int,\n",
        "          smooth_kal: int,\n",
        "          slopeLen: int,\n",
        "          offset: int) -> pd.DataFrame:\n",
        "\n",
        "    n = len(src)\n",
        "    kf_state = np.full(n, np.nan)\n",
        "    kf_velo  = np.zeros(n)\n",
        "    sqrt_factor = np.sqrt(length_kal / 10000.0 * 2.0)\n",
        "    vel_factor  = length_kal / 10000.0\n",
        "\n",
        "    for i in range(n):\n",
        "        if i == 0:\n",
        "            prev_state = src.iloc[0]\n",
        "            prev_velo  = 0.0\n",
        "        else:\n",
        "            prev_state = kf_state[i-1] if not np.isnan(kf_state[i-1]) else src.iloc[i]\n",
        "            prev_velo  = kf_velo[i-1]\n",
        "\n",
        "        dk = src.iloc[i] - prev_state\n",
        "        smooth = prev_state + dk * sqrt_factor\n",
        "        kf_velo[i]  = prev_velo + vel_factor * dk\n",
        "        kf_state[i] = smooth + kf_velo[i]\n",
        "\n",
        "    # 2) EMA smoothing --------------------------------------------------\n",
        "    kal = pd.Series(kf_state, index=src.index).ewm(span=smooth_kal, adjust=False).mean()\n",
        "\n",
        "    # 3) Slope/divergence -----------------------------------------------\n",
        "    validLen = max(slopeLen, 1)\n",
        "    slope_div = kal.diff(validLen) / validLen\n",
        "    slope_signal = (slope_div > slope_div.shift(1)).astype(int)\n",
        "\n",
        "    # 4) Angle in degrees -----------------------------------------------\n",
        "    price_change = kal - kal.shift(validLen)\n",
        "    slope_angle = np.degrees(np.arctan(price_change))\n",
        "    slope_angle_signal = (slope_angle > slope_angle.shift(1)).astype(int)\n",
        "\n",
        "    # 5) Linear regression prediction ----------------------------------\n",
        "    def _linreg(y):\n",
        "        x = np.arange(len(y))\n",
        "        m, b = np.polyfit(x, y, 1)\n",
        "        return b + m * (len(y)-1)\n",
        "\n",
        "    slope_lin_reg = kal.rolling(window=slopeLen).apply(_linreg, raw=False)\n",
        "    slope_lin_reg = slope_lin_reg.shift(-offset)  # apply Pine-style offset\n",
        "    slope_lin_reg_signal = (slope_lin_reg > slope_lin_reg.shift(1)).astype(int)\n",
        "\n",
        "    # 6) Pack results ---------------------------------------------------\n",
        "    return pd.DataFrame({\n",
        "        'slope_div':            slope_div,\n",
        "        'slope_signal':         slope_signal,\n",
        "        'slope_angle':          slope_angle,\n",
        "        'slope_angle_signal':   slope_angle_signal,\n",
        "        'slope_lin_reg':        slope_lin_reg,\n",
        "        'slope_lin_reg_signal': slope_lin_reg_signal\n",
        "    })"
      ],
      "id": "HahbLzEkjoeB"
    },
    {
      "cell_type": "code",
      "execution_count": null,
      "id": "Dunlv-TDqxB8",
      "metadata": {
        "id": "Dunlv-TDqxB8"
      },
      "outputs": [],
      "source": [
        "def get_parkinson(price_data, window=10, trading_periods=50, clean=True):\n",
        "    rs = (1.0 / (4.0 * math.log(2.0))) * ((price_data['High'] / price_data['Low']).apply(np.log))**2.0\n",
        "\n",
        "    def f(v):\n",
        "        return (trading_periods * v.mean())**0.5\n",
        "\n",
        "    result = rs.rolling(\n",
        "        window=window,\n",
        "        center=False\n",
        "    ).apply(func=f)\n",
        "\n",
        "    if clean:\n",
        "        return result.dropna()\n",
        "    else:\n",
        "        return result"
      ]
    },
    {
      "cell_type": "code",
      "execution_count": null,
      "id": "RLxsuLKaqxE3",
      "metadata": {
        "id": "RLxsuLKaqxE3"
      },
      "outputs": [],
      "source": [
        "def get_HodgesTompkins(price_data, window=30, trading_periods=50, clean=True):\n",
        "\n",
        "    log_return = (price_data['Close'] / price_data['Close'].shift(1)).apply(np.log)\n",
        "\n",
        "    vol = log_return.rolling(\n",
        "        window=window,\n",
        "        center=False\n",
        "    ).std() * math.sqrt(trading_periods)\n",
        "\n",
        "    h = window\n",
        "    n = (log_return.count() - h) + 1\n",
        "\n",
        "    adj_factor = 1.0 / (1.0 - (h / n) + ((h**2 - 1) / (3 * n**2)))\n",
        "\n",
        "    result = vol * adj_factor\n",
        "\n",
        "    if clean:\n",
        "        return result.dropna()\n",
        "    else:\n",
        "        return result"
      ]
    },
    {
      "cell_type": "code",
      "execution_count": null,
      "id": "qFCu8J7hqxHi",
      "metadata": {
        "id": "qFCu8J7hqxHi"
      },
      "outputs": [],
      "source": [
        "def get_skew(price_data, window=30, clean=True):\n",
        "\n",
        "    log_return = (price_data['Close'] / price_data['Close'].shift(1)).apply(np.log)\n",
        "\n",
        "    result = log_return.rolling(\n",
        "        window=window,\n",
        "        center=False\n",
        "    ).skew()\n",
        "\n",
        "    if clean:\n",
        "        return result.dropna()\n",
        "    else:\n",
        "        return"
      ]
    },
    {
      "cell_type": "code",
      "execution_count": null,
      "id": "YnVDjmtDqxKU",
      "metadata": {
        "id": "YnVDjmtDqxKU"
      },
      "outputs": [],
      "source": [
        "def get_kurtosis(price_data, window=30, clean=True):\n",
        "\n",
        "    log_return = (price_data['Close'] / price_data['Close'].shift(1)).apply(np.log)\n",
        "\n",
        "    result = log_return.rolling(\n",
        "        window=window,\n",
        "        center=False\n",
        "    ).kurt()\n",
        "\n",
        "    if clean:\n",
        "        return result.dropna()\n",
        "    else:\n",
        "        return result"
      ]
    },
    {
      "cell_type": "code",
      "execution_count": null,
      "id": "WJvLEk7EqxM6",
      "metadata": {
        "id": "WJvLEk7EqxM6"
      },
      "outputs": [],
      "source": [
        "def get_YangZhang(price_data, window=30, trading_periods=50, clean=True):\n",
        "\n",
        "    log_ho = (price_data['High'] / price_data['Open']).apply(np.log)\n",
        "    log_lo = (price_data['Low'] / price_data['Open']).apply(np.log)\n",
        "    log_co = (price_data['Close'] / price_data['Open']).apply(np.log)\n",
        "\n",
        "    log_oc = (price_data['Open'] / price_data['Close'].shift(1)).apply(np.log)\n",
        "    log_oc_sq = log_oc**2\n",
        "\n",
        "    log_cc = (price_data['Close'] / price_data['Close'].shift(1)).apply(np.log)\n",
        "    log_cc_sq = log_cc**2\n",
        "\n",
        "    rs = log_ho * (log_ho - log_co) + log_lo * (log_lo - log_co)\n",
        "\n",
        "    close_vol = log_cc_sq.rolling(\n",
        "        window=window,\n",
        "        center=False\n",
        "    ).sum() * (1.0 / (window - 1.0))\n",
        "    open_vol = log_oc_sq.rolling(\n",
        "        window=window,\n",
        "        center=False\n",
        "    ).sum() * (1.0 / (window - 1.0))\n",
        "    window_rs = rs.rolling(\n",
        "        window=window,\n",
        "        center=False\n",
        "    ).sum() * (1.0 / (window - 1.0))\n",
        "\n",
        "    k = 0.34 / (1.34 + (window + 1) / (window - 1))\n",
        "    result = (open_vol + k * close_vol + (1 - k) * window_rs).apply(np.sqrt) * math.sqrt(trading_periods)\n",
        "\n",
        "    if clean:\n",
        "        return result.dropna()\n",
        "    else:\n",
        "        return result"
      ]
    },
    {
      "cell_type": "code",
      "execution_count": null,
      "id": "OHmFUyfGqxPL",
      "metadata": {
        "id": "OHmFUyfGqxPL"
      },
      "outputs": [],
      "source": [
        "def get_RogersSatchell(price_data, window=30, trading_periods=50, clean=True):\n",
        "\n",
        "    log_ho = (price_data['High']  / price_data['Open']).apply(np.log)\n",
        "    log_lo = (price_data['Low']   / price_data['Open']).apply(np.log)\n",
        "    log_co = (price_data['Close'] / price_data['Open']).apply(np.log)\n",
        "\n",
        "    rs = log_ho * (log_ho - log_co) + log_lo * (log_lo - log_co)\n",
        "\n",
        "    def f(v):\n",
        "        return (trading_periods * v.mean())**0.5\n",
        "\n",
        "    result = rs.rolling(\n",
        "        window=window,\n",
        "        center=False\n",
        "    ).apply(func=f)\n",
        "\n",
        "    if clean:\n",
        "        return result.dropna()\n",
        "    else:\n",
        "        return result"
      ]
    },
    {
      "cell_type": "code",
      "execution_count": null,
      "id": "cSq3oNjkrdhT",
      "metadata": {
        "id": "cSq3oNjkrdhT"
      },
      "outputs": [],
      "source": [
        "def get_GermanKlass(price_data, window=22, trading_periods=50, clean=True):\n",
        "\n",
        "    log_hl = (price_data['High'] / price_data['Low']).apply(np.log)\n",
        "    log_co = (price_data['Close'] / price_data['Open']).apply(np.log)\n",
        "\n",
        "    rs = 0.5 * log_hl**2 - (2*math.log(2)-1) * log_co**2\n",
        "\n",
        "    def f(v):\n",
        "        return (trading_periods * v.mean())**0.5\n",
        "\n",
        "    result = rs.rolling(window=window, center=False).apply(func=f)\n",
        "\n",
        "    if clean:\n",
        "        return result.dropna()\n",
        "    else:\n",
        "        return result"
      ]
    },
    {
      "cell_type": "code",
      "execution_count": null,
      "id": "ZnVB7nObuG_e",
      "metadata": {
        "id": "ZnVB7nObuG_e"
      },
      "outputs": [],
      "source": [
        "def create_features(stock_data: pd.DataFrame) -> pd.DataFrame:\n",
        "    periods        = [5, 10, 15, 20, 25, 30, 35, 40, 45, 50, 55, 60 , 65, 70]\n",
        "    kalman_periods = [100, 300, 500, 700, 900]\n",
        "    slope_length   = [3, 6, 9, 12, 15, 18, 21]\n",
        "\n",
        "    features = pd.DataFrame(index=stock_data.index)\n",
        "    from tqdm.auto import tqdm\n",
        "    from itertools import combinations\n",
        "\n",
        "    indicator_columns = {'RSI': [], 'MFI': [], 'OBV': []}\n",
        "\n",
        "    # ── Indicadores por período ─────────────────────────────────────────\n",
        "    for period in tqdm(periods, desc=\"Calculating Period Indicators\"):\n",
        "        rsi_col = f'RSI_{period}'\n",
        "        features[rsi_col] = ta.RSI(stock_data['Close'], timeperiod=period)\n",
        "        indicator_columns['RSI'].append(rsi_col)\n",
        "\n",
        "        mfi_col = f'MFI_{period}'\n",
        "        features[mfi_col] = ta.MFI(\n",
        "            stock_data['High'], stock_data['Low'], stock_data['Close'],\n",
        "            stock_data['Volume'], timeperiod=period\n",
        "        )\n",
        "        indicator_columns['MFI'].append(mfi_col)\n",
        "\n",
        "        obv_col = f'OBV_{period}'\n",
        "        features[obv_col] = ta.OBV(stock_data['Close'], stock_data['Volume'])\n",
        "        indicator_columns['OBV'].append(obv_col)\n",
        "\n",
        "    for indicator, cols in indicator_columns.items():\n",
        "        for col in cols:\n",
        "            features[f'{col}_diff'] = features[col].diff()\n",
        "        for col1, col2 in combinations(cols, 2):\n",
        "            features[f'{col1} - {col2}'] = features[col1] - features[col2]\n",
        "\n",
        "    # ── Cruces SMA / EMA ───────────────────────────────────────────────\n",
        "    for short_period in tqdm(periods, desc=\"Calculating SMA/EMA Crossovers\"):\n",
        "        for long_period in periods:\n",
        "            features[f'SMA_Crossover_{short_period}_{long_period}'] = (\n",
        "                ta.SMA(stock_data['Close'], timeperiod=short_period)\n",
        "                - ta.SMA(stock_data['Close'], timeperiod=long_period)\n",
        "            )\n",
        "            features[f'EMA_Crossover_{short_period}_{long_period}'] = (\n",
        "                ta.EMA(stock_data['Close'], timeperiod=short_period)\n",
        "                - ta.EMA(stock_data['Close'], timeperiod=long_period)\n",
        "            )\n",
        "\n",
        "    # ── Kalman y derivados ─────────────────────────────────────────────\n",
        "    kal_cols = []\n",
        "    for period in tqdm(kalman_periods, desc=\"Calculating Kalman and Derivatives\"):\n",
        "        kal = pd.Series(\n",
        "            kalman_line(stock_data['Close'], kalman_length=period, smooth=3),\n",
        "            index=stock_data.index\n",
        "        )\n",
        "        kname = f'Kal_{period}'\n",
        "        kal_cols.append(kname)\n",
        "\n",
        "        features[kname]                         = kal\n",
        "        features[f'Close_Kal_{period}']         = stock_data['Close'] - kal\n",
        "        features[f'Kal_change_{period}']        = kal.diff(1)          # t - (t-1) (ya lo tenías)\n",
        "        # === NUEVOS ===\n",
        "        features[f'Kal_prev_minus_now_{period}']  = kal.shift(1) - kal  # (t-1) - t\n",
        "        features[f'Kal_prev2_minus_now_{period}'] = kal.shift(2) - kal  # (t-2) - t\n",
        "        features[f'Kal_change2_{period}']         = kal.diff(2)         # t - (t-2)\n",
        "\n",
        "    # Diferencias entre Kalman de distintos periodos (p1 - p2)\n",
        "    for i in range(len(kal_cols)):\n",
        "        for j in range(i + 1, len(kal_cols)):\n",
        "            c1, c2 = kal_cols[i], kal_cols[j]\n",
        "            features[f'{c1}_minus_{c2}'] = features[c1] - features[c2]\n",
        "            # Si prefieres exactamente \"kal_100 - kal_300\", puedes renombrar después.\n",
        "\n",
        "    # ── Slopes ─────────────────────────────────────────────────────────\n",
        "    slope_indicator_columns = {\n",
        "        'slope_div': [],\n",
        "        'slope_signal': [],\n",
        "        'slope_angle': [],\n",
        "        'slope_angle_signal': [],\n",
        "        'slope_lin_reg': [],\n",
        "        'slope_lin_reg_signal': []\n",
        "    }\n",
        "\n",
        "    for period in tqdm(kalman_periods, desc=\"Calculating Slopes\"):\n",
        "        for sLen in slope_length:\n",
        "            df_s = slope(stock_data['Close'], length_kal=period, smooth_kal=3,\n",
        "                         slopeLen=sLen, offset=-1)\n",
        "\n",
        "            column_mapping = {\n",
        "                'slope_div':            f'slope_div_{period}_{sLen}',\n",
        "                'slope_signal':         f'slope_signal_{period}_{sLen}',\n",
        "                'slope_angle':          f'slope_angle_{period}_{sLen}',\n",
        "                'slope_angle_signal':   f'slope_angle_signal_{period}_{sLen}',\n",
        "                'slope_lin_reg':        f'slope_lin_reg_{period}_{sLen}',\n",
        "                'slope_lin_reg_signal': f'slope_lin_reg_signal_{period}_{sLen}'\n",
        "            }\n",
        "\n",
        "            for indicator, col_name in column_mapping.items():\n",
        "                series = df_s[indicator]\n",
        "                features[col_name] = series\n",
        "                features[f'{col_name}_diff'] = series.diff()\n",
        "                slope_indicator_columns[indicator].append(col_name)\n",
        "\n",
        "    for indicator, cols in slope_indicator_columns.items():\n",
        "        for col1, col2 in combinations(cols, 2):\n",
        "            features[f'{col1} - {col2}'] = features[col1] - features[col2]\n",
        "\n",
        "    return features\n"
      ]
    },
    {
      "cell_type": "markdown",
      "id": "dexDJat0XWBi",
      "metadata": {
        "id": "dexDJat0XWBi"
      },
      "source": [
        "## 1_min"
      ]
    },
    {
      "cell_type": "code",
      "execution_count": null,
      "id": "KiPN3qSWXWBj",
      "metadata": {
        "id": "KiPN3qSWXWBj"
      },
      "outputs": [],
      "source": [
        "# Read the CSV file\n",
        "df_1min = pd.read_csv(root_data + 'Data/'+symbol+'_M1.csv', index_col=0)\n",
        "df_1min.index = pd.to_datetime(df_1min.index)\n",
        "#df_1min = df_1min.iloc[-500000:,]\n",
        "df_1min = df_1min.iloc[-5000:,]\n",
        "\n",
        "print('Min_Date : ', df_1min.index.min())\n",
        "print('Min_Date : ', df_1min.index.max())\n",
        "print('Number_Rows = ',len(df_1min.index))\n",
        "print('\\n')\n",
        "\n",
        "df_1min.tail()"
      ]
    },
    {
      "cell_type": "markdown",
      "id": "V4zWjMGtXWBk",
      "metadata": {
        "id": "V4zWjMGtXWBk"
      },
      "source": [
        "**Features**"
      ]
    },
    {
      "cell_type": "code",
      "execution_count": null,
      "id": "DmkzrcRjXWBm",
      "metadata": {
        "id": "DmkzrcRjXWBm"
      },
      "outputs": [],
      "source": [
        "features = create_features(df_1min)\n",
        "\n",
        "features = features.fillna(0) # Fill missing values with 0 instead of dropping rows\n",
        "print(\"Number of features are:\", features.shape[1])\n",
        "print(features.shape)\n",
        "features.to_csv(root_data+'Results/'+symbol+'_'+direction+'_M1_Raw_Features.csv')\n",
        "features.tail(5)"
      ]
    },
    {
      "cell_type": "code",
      "execution_count": null,
      "id": "S3Iv9f1ZXWBm",
      "metadata": {
        "id": "S3Iv9f1ZXWBm"
      },
      "outputs": [],
      "source": [
        "#for col in features.columns:\n",
        " # print(col)"
      ]
    },
    {
      "cell_type": "code",
      "execution_count": null,
      "id": "yGHSgJnYXWBn",
      "metadata": {
        "id": "yGHSgJnYXWBn"
      },
      "outputs": [],
      "source": [
        "features = pd.read_csv(root_data+'Results/'+symbol+'_M1_Raw_Features.csv')\n",
        "features[\"Date\"] = pd.to_datetime(features[\"Date\"])\n",
        "print(features.shape)\n",
        "features.head(5)"
      ]
    },
    {
      "cell_type": "markdown",
      "id": "VRhYUP2RXWBn",
      "metadata": {
        "id": "VRhYUP2RXWBn"
      },
      "source": [
        "**Scale_features**"
      ]
    },
    {
      "cell_type": "code",
      "execution_count": null,
      "id": "kqXbXgJWXWBn",
      "metadata": {
        "id": "kqXbXgJWXWBn"
      },
      "outputs": [],
      "source": [
        "cols_to_scale = features.columns[1:]\n",
        "cols_to_scale"
      ]
    },
    {
      "cell_type": "code",
      "execution_count": null,
      "id": "j6kGfSpyXWBo",
      "metadata": {
        "id": "j6kGfSpyXWBo"
      },
      "outputs": [],
      "source": [
        "### Scale Features with Rolling Window\n",
        "window = 200\n",
        "rolling = features[cols_to_scale].rolling(window)\n",
        "features[cols_to_scale] = (features[cols_to_scale] - rolling.mean()) / rolling.std()\n",
        "\n",
        "print(\"DataFrame with rolling-scaled features:\")\n",
        "print(features.shape)\n",
        "features.head()\n"
      ]
    },
    {
      "cell_type": "code",
      "execution_count": null,
      "id": "IXiZG3OpXWBo",
      "metadata": {
        "id": "IXiZG3OpXWBo"
      },
      "outputs": [],
      "source": [
        "features.to_csv(root_data+'Results/'+symbol+'_M1_Scale_Features.csv')"
      ]
    },
    {
      "cell_type": "markdown",
      "source": [
        "**Plots**"
      ],
      "metadata": {
        "id": "W1Pk4Hkfjhvt"
      },
      "id": "W1Pk4Hkfjhvt"
    },
    {
      "cell_type": "code",
      "metadata": {
        "id": "67453c9e"
      },
      "source": [
        "import matplotlib.pyplot as plt\n",
        "\n",
        "last_500_features = features.tail(500)\n",
        "last_500_df = df_1min.tail(500)\n",
        "\n",
        "indicators_to_plot = ['autocorr_1', 'ADX_3', 'OBV_3', 'AD_3', 'ROCP_3']\n",
        "\n",
        "indicator_columns = [col for col in last_500_features.columns if any(ind in col for ind in indicators_to_plot)]\n",
        "\n",
        "# Plotting\n",
        "fig, axes = plt.subplots(nrows=len(indicator_columns) + 1, ncols=1, figsize=(15, 5 * (len(indicator_columns) + 1)), sharex=True)\n",
        "\n",
        "# Plot Close price\n",
        "axes[0].plot(last_500_df.index, last_500_df['Close'])\n",
        "axes[0].set_title('Close Price')\n",
        "axes[0].grid(True)\n",
        "\n",
        "# Plot each indicator\n",
        "for i, col in enumerate(indicator_columns):\n",
        "    axes[i+1].plot(last_500_features.index, last_500_features[col])\n",
        "    axes[i+1].set_title(col)\n",
        "    axes[i+1].grid(True)\n",
        "\n",
        "plt.tight_layout()\n",
        "plt.show()"
      ],
      "id": "67453c9e",
      "execution_count": null,
      "outputs": []
    },
    {
      "cell_type": "markdown",
      "id": "DoqqPJxPxnBF",
      "metadata": {
        "id": "DoqqPJxPxnBF"
      },
      "source": [
        "## 5_min"
      ]
    },
    {
      "cell_type": "code",
      "execution_count": 129,
      "id": "d7l7vt7QxvyC",
      "metadata": {
        "colab": {
          "base_uri": "https://localhost:8080/",
          "height": 324
        },
        "id": "d7l7vt7QxvyC",
        "outputId": "ea6e858e-9a2c-4e6b-9c45-9aad1cb2f463"
      },
      "outputs": [
        {
          "output_type": "stream",
          "name": "stdout",
          "text": [
            "Min_Date :  2023-01-01 00:05:00\n",
            "Min_Date :  2025-07-26 23:55:00\n",
            "Number_Rows =  267395\n",
            "\n",
            "\n"
          ]
        },
        {
          "output_type": "execute_result",
          "data": {
            "text/plain": [
              "                          Open       High        Low      Close  Volume  \\\n",
              "Date                                                                      \n",
              "2025-07-26 23:35:00  117978.63  118045.75  117977.63  117993.00     679   \n",
              "2025-07-26 23:40:00  117992.38  118045.38  117980.63  118006.75     518   \n",
              "2025-07-26 23:45:00  118007.00  118100.13  117967.50  118023.88     757   \n",
              "2025-07-26 23:50:00  118023.63  118052.38  117951.88  118005.75     547   \n",
              "2025-07-26 23:55:00  118008.75  118049.38  118008.50  118042.63     485   \n",
              "\n",
              "                     Spread  \n",
              "Date                         \n",
              "2025-07-26 23:35:00     362  \n",
              "2025-07-26 23:40:00     275  \n",
              "2025-07-26 23:45:00     100  \n",
              "2025-07-26 23:50:00       0  \n",
              "2025-07-26 23:55:00     587  "
            ],
            "text/html": [
              "\n",
              "  <div id=\"df-1b8ea5ee-85f7-446e-80ca-713a3332e254\" class=\"colab-df-container\">\n",
              "    <div>\n",
              "<style scoped>\n",
              "    .dataframe tbody tr th:only-of-type {\n",
              "        vertical-align: middle;\n",
              "    }\n",
              "\n",
              "    .dataframe tbody tr th {\n",
              "        vertical-align: top;\n",
              "    }\n",
              "\n",
              "    .dataframe thead th {\n",
              "        text-align: right;\n",
              "    }\n",
              "</style>\n",
              "<table border=\"1\" class=\"dataframe\">\n",
              "  <thead>\n",
              "    <tr style=\"text-align: right;\">\n",
              "      <th></th>\n",
              "      <th>Open</th>\n",
              "      <th>High</th>\n",
              "      <th>Low</th>\n",
              "      <th>Close</th>\n",
              "      <th>Volume</th>\n",
              "      <th>Spread</th>\n",
              "    </tr>\n",
              "    <tr>\n",
              "      <th>Date</th>\n",
              "      <th></th>\n",
              "      <th></th>\n",
              "      <th></th>\n",
              "      <th></th>\n",
              "      <th></th>\n",
              "      <th></th>\n",
              "    </tr>\n",
              "  </thead>\n",
              "  <tbody>\n",
              "    <tr>\n",
              "      <th>2025-07-26 23:35:00</th>\n",
              "      <td>117978.63</td>\n",
              "      <td>118045.75</td>\n",
              "      <td>117977.63</td>\n",
              "      <td>117993.00</td>\n",
              "      <td>679</td>\n",
              "      <td>362</td>\n",
              "    </tr>\n",
              "    <tr>\n",
              "      <th>2025-07-26 23:40:00</th>\n",
              "      <td>117992.38</td>\n",
              "      <td>118045.38</td>\n",
              "      <td>117980.63</td>\n",
              "      <td>118006.75</td>\n",
              "      <td>518</td>\n",
              "      <td>275</td>\n",
              "    </tr>\n",
              "    <tr>\n",
              "      <th>2025-07-26 23:45:00</th>\n",
              "      <td>118007.00</td>\n",
              "      <td>118100.13</td>\n",
              "      <td>117967.50</td>\n",
              "      <td>118023.88</td>\n",
              "      <td>757</td>\n",
              "      <td>100</td>\n",
              "    </tr>\n",
              "    <tr>\n",
              "      <th>2025-07-26 23:50:00</th>\n",
              "      <td>118023.63</td>\n",
              "      <td>118052.38</td>\n",
              "      <td>117951.88</td>\n",
              "      <td>118005.75</td>\n",
              "      <td>547</td>\n",
              "      <td>0</td>\n",
              "    </tr>\n",
              "    <tr>\n",
              "      <th>2025-07-26 23:55:00</th>\n",
              "      <td>118008.75</td>\n",
              "      <td>118049.38</td>\n",
              "      <td>118008.50</td>\n",
              "      <td>118042.63</td>\n",
              "      <td>485</td>\n",
              "      <td>587</td>\n",
              "    </tr>\n",
              "  </tbody>\n",
              "</table>\n",
              "</div>\n",
              "    <div class=\"colab-df-buttons\">\n",
              "\n",
              "  <div class=\"colab-df-container\">\n",
              "    <button class=\"colab-df-convert\" onclick=\"convertToInteractive('df-1b8ea5ee-85f7-446e-80ca-713a3332e254')\"\n",
              "            title=\"Convert this dataframe to an interactive table.\"\n",
              "            style=\"display:none;\">\n",
              "\n",
              "  <svg xmlns=\"http://www.w3.org/2000/svg\" height=\"24px\" viewBox=\"0 -960 960 960\">\n",
              "    <path d=\"M120-120v-720h720v720H120Zm60-500h600v-160H180v160Zm220 220h160v-160H400v160Zm0 220h160v-160H400v160ZM180-400h160v-160H180v160Zm440 0h160v-160H620v160ZM180-180h160v-160H180v160Zm440 0h160v-160H620v160Z\"/>\n",
              "  </svg>\n",
              "    </button>\n",
              "\n",
              "  <style>\n",
              "    .colab-df-container {\n",
              "      display:flex;\n",
              "      gap: 12px;\n",
              "    }\n",
              "\n",
              "    .colab-df-convert {\n",
              "      background-color: #E8F0FE;\n",
              "      border: none;\n",
              "      border-radius: 50%;\n",
              "      cursor: pointer;\n",
              "      display: none;\n",
              "      fill: #1967D2;\n",
              "      height: 32px;\n",
              "      padding: 0 0 0 0;\n",
              "      width: 32px;\n",
              "    }\n",
              "\n",
              "    .colab-df-convert:hover {\n",
              "      background-color: #E2EBFA;\n",
              "      box-shadow: 0px 1px 2px rgba(60, 64, 67, 0.3), 0px 1px 3px 1px rgba(60, 64, 67, 0.15);\n",
              "      fill: #174EA6;\n",
              "    }\n",
              "\n",
              "    .colab-df-buttons div {\n",
              "      margin-bottom: 4px;\n",
              "    }\n",
              "\n",
              "    [theme=dark] .colab-df-convert {\n",
              "      background-color: #3B4455;\n",
              "      fill: #D2E3FC;\n",
              "    }\n",
              "\n",
              "    [theme=dark] .colab-df-convert:hover {\n",
              "      background-color: #434B5C;\n",
              "      box-shadow: 0px 1px 3px 1px rgba(0, 0, 0, 0.15);\n",
              "      filter: drop-shadow(0px 1px 2px rgba(0, 0, 0, 0.3));\n",
              "      fill: #FFFFFF;\n",
              "    }\n",
              "  </style>\n",
              "\n",
              "    <script>\n",
              "      const buttonEl =\n",
              "        document.querySelector('#df-1b8ea5ee-85f7-446e-80ca-713a3332e254 button.colab-df-convert');\n",
              "      buttonEl.style.display =\n",
              "        google.colab.kernel.accessAllowed ? 'block' : 'none';\n",
              "\n",
              "      async function convertToInteractive(key) {\n",
              "        const element = document.querySelector('#df-1b8ea5ee-85f7-446e-80ca-713a3332e254');\n",
              "        const dataTable =\n",
              "          await google.colab.kernel.invokeFunction('convertToInteractive',\n",
              "                                                    [key], {});\n",
              "        if (!dataTable) return;\n",
              "\n",
              "        const docLinkHtml = 'Like what you see? Visit the ' +\n",
              "          '<a target=\"_blank\" href=https://colab.research.google.com/notebooks/data_table.ipynb>data table notebook</a>'\n",
              "          + ' to learn more about interactive tables.';\n",
              "        element.innerHTML = '';\n",
              "        dataTable['output_type'] = 'display_data';\n",
              "        await google.colab.output.renderOutput(dataTable, element);\n",
              "        const docLink = document.createElement('div');\n",
              "        docLink.innerHTML = docLinkHtml;\n",
              "        element.appendChild(docLink);\n",
              "      }\n",
              "    </script>\n",
              "  </div>\n",
              "\n",
              "\n",
              "    <div id=\"df-83f8d9a8-c5b9-4be5-ae7e-c38fdc765fe3\">\n",
              "      <button class=\"colab-df-quickchart\" onclick=\"quickchart('df-83f8d9a8-c5b9-4be5-ae7e-c38fdc765fe3')\"\n",
              "                title=\"Suggest charts\"\n",
              "                style=\"display:none;\">\n",
              "\n",
              "<svg xmlns=\"http://www.w3.org/2000/svg\" height=\"24px\"viewBox=\"0 0 24 24\"\n",
              "     width=\"24px\">\n",
              "    <g>\n",
              "        <path d=\"M19 3H5c-1.1 0-2 .9-2 2v14c0 1.1.9 2 2 2h14c1.1 0 2-.9 2-2V5c0-1.1-.9-2-2-2zM9 17H7v-7h2v7zm4 0h-2V7h2v10zm4 0h-2v-4h2v4z\"/>\n",
              "    </g>\n",
              "</svg>\n",
              "      </button>\n",
              "\n",
              "<style>\n",
              "  .colab-df-quickchart {\n",
              "      --bg-color: #E8F0FE;\n",
              "      --fill-color: #1967D2;\n",
              "      --hover-bg-color: #E2EBFA;\n",
              "      --hover-fill-color: #174EA6;\n",
              "      --disabled-fill-color: #AAA;\n",
              "      --disabled-bg-color: #DDD;\n",
              "  }\n",
              "\n",
              "  [theme=dark] .colab-df-quickchart {\n",
              "      --bg-color: #3B4455;\n",
              "      --fill-color: #D2E3FC;\n",
              "      --hover-bg-color: #434B5C;\n",
              "      --hover-fill-color: #FFFFFF;\n",
              "      --disabled-bg-color: #3B4455;\n",
              "      --disabled-fill-color: #666;\n",
              "  }\n",
              "\n",
              "  .colab-df-quickchart {\n",
              "    background-color: var(--bg-color);\n",
              "    border: none;\n",
              "    border-radius: 50%;\n",
              "    cursor: pointer;\n",
              "    display: none;\n",
              "    fill: var(--fill-color);\n",
              "    height: 32px;\n",
              "    padding: 0;\n",
              "    width: 32px;\n",
              "  }\n",
              "\n",
              "  .colab-df-quickchart:hover {\n",
              "    background-color: var(--hover-bg-color);\n",
              "    box-shadow: 0 1px 2px rgba(60, 64, 67, 0.3), 0 1px 3px 1px rgba(60, 64, 67, 0.15);\n",
              "    fill: var(--button-hover-fill-color);\n",
              "  }\n",
              "\n",
              "  .colab-df-quickchart-complete:disabled,\n",
              "  .colab-df-quickchart-complete:disabled:hover {\n",
              "    background-color: var(--disabled-bg-color);\n",
              "    fill: var(--disabled-fill-color);\n",
              "    box-shadow: none;\n",
              "  }\n",
              "\n",
              "  .colab-df-spinner {\n",
              "    border: 2px solid var(--fill-color);\n",
              "    border-color: transparent;\n",
              "    border-bottom-color: var(--fill-color);\n",
              "    animation:\n",
              "      spin 1s steps(1) infinite;\n",
              "  }\n",
              "\n",
              "  @keyframes spin {\n",
              "    0% {\n",
              "      border-color: transparent;\n",
              "      border-bottom-color: var(--fill-color);\n",
              "      border-left-color: var(--fill-color);\n",
              "    }\n",
              "    20% {\n",
              "      border-color: transparent;\n",
              "      border-left-color: var(--fill-color);\n",
              "      border-top-color: var(--fill-color);\n",
              "    }\n",
              "    30% {\n",
              "      border-color: transparent;\n",
              "      border-left-color: var(--fill-color);\n",
              "      border-top-color: var(--fill-color);\n",
              "      border-right-color: var(--fill-color);\n",
              "    }\n",
              "    40% {\n",
              "      border-color: transparent;\n",
              "      border-right-color: var(--fill-color);\n",
              "      border-top-color: var(--fill-color);\n",
              "    }\n",
              "    60% {\n",
              "      border-color: transparent;\n",
              "      border-right-color: var(--fill-color);\n",
              "    }\n",
              "    80% {\n",
              "      border-color: transparent;\n",
              "      border-right-color: var(--fill-color);\n",
              "      border-bottom-color: var(--fill-color);\n",
              "    }\n",
              "    90% {\n",
              "      border-color: transparent;\n",
              "      border-bottom-color: var(--fill-color);\n",
              "    }\n",
              "  }\n",
              "</style>\n",
              "\n",
              "      <script>\n",
              "        async function quickchart(key) {\n",
              "          const quickchartButtonEl =\n",
              "            document.querySelector('#' + key + ' button');\n",
              "          quickchartButtonEl.disabled = true;  // To prevent multiple clicks.\n",
              "          quickchartButtonEl.classList.add('colab-df-spinner');\n",
              "          try {\n",
              "            const charts = await google.colab.kernel.invokeFunction(\n",
              "                'suggestCharts', [key], {});\n",
              "          } catch (error) {\n",
              "            console.error('Error during call to suggestCharts:', error);\n",
              "          }\n",
              "          quickchartButtonEl.classList.remove('colab-df-spinner');\n",
              "          quickchartButtonEl.classList.add('colab-df-quickchart-complete');\n",
              "        }\n",
              "        (() => {\n",
              "          let quickchartButtonEl =\n",
              "            document.querySelector('#df-83f8d9a8-c5b9-4be5-ae7e-c38fdc765fe3 button');\n",
              "          quickchartButtonEl.style.display =\n",
              "            google.colab.kernel.accessAllowed ? 'block' : 'none';\n",
              "        })();\n",
              "      </script>\n",
              "    </div>\n",
              "\n",
              "    </div>\n",
              "  </div>\n"
            ],
            "application/vnd.google.colaboratory.intrinsic+json": {
              "type": "dataframe",
              "summary": "{\n  \"name\": \"df_5min\",\n  \"rows\": 5,\n  \"fields\": [\n    {\n      \"column\": \"Date\",\n      \"properties\": {\n        \"dtype\": \"date\",\n        \"min\": \"2025-07-26 23:35:00\",\n        \"max\": \"2025-07-26 23:55:00\",\n        \"num_unique_values\": 5,\n        \"samples\": [\n          \"2025-07-26 23:40:00\",\n          \"2025-07-26 23:55:00\",\n          \"2025-07-26 23:45:00\"\n        ],\n        \"semantic_type\": \"\",\n        \"description\": \"\"\n      }\n    },\n    {\n      \"column\": \"Open\",\n      \"properties\": {\n        \"dtype\": \"number\",\n        \"std\": 17.15437466070894,\n        \"min\": 117978.63,\n        \"max\": 118023.63,\n        \"num_unique_values\": 5,\n        \"samples\": [\n          117992.38,\n          118008.75,\n          118007.0\n        ],\n        \"semantic_type\": \"\",\n        \"description\": \"\"\n      }\n    },\n    {\n      \"column\": \"High\",\n      \"properties\": {\n        \"dtype\": \"number\",\n        \"std\": 23.389786873762446,\n        \"min\": 118045.38,\n        \"max\": 118100.13,\n        \"num_unique_values\": 5,\n        \"samples\": [\n          118045.38,\n          118049.38,\n          118100.13\n        ],\n        \"semantic_type\": \"\",\n        \"description\": \"\"\n      }\n    },\n    {\n      \"column\": \"Low\",\n      \"properties\": {\n        \"dtype\": \"number\",\n        \"std\": 20.777561695250718,\n        \"min\": 117951.88,\n        \"max\": 118008.5,\n        \"num_unique_values\": 5,\n        \"samples\": [\n          117980.63,\n          118008.5,\n          117967.5\n        ],\n        \"semantic_type\": \"\",\n        \"description\": \"\"\n      }\n    },\n    {\n      \"column\": \"Close\",\n      \"properties\": {\n        \"dtype\": \"number\",\n        \"std\": 19.223086900913906,\n        \"min\": 117993.0,\n        \"max\": 118042.63,\n        \"num_unique_values\": 5,\n        \"samples\": [\n          118006.75,\n          118042.63,\n          118023.88\n        ],\n        \"semantic_type\": \"\",\n        \"description\": \"\"\n      }\n    },\n    {\n      \"column\": \"Volume\",\n      \"properties\": {\n        \"dtype\": \"number\",\n        \"std\": 115,\n        \"min\": 485,\n        \"max\": 757,\n        \"num_unique_values\": 5,\n        \"samples\": [\n          518,\n          485,\n          757\n        ],\n        \"semantic_type\": \"\",\n        \"description\": \"\"\n      }\n    },\n    {\n      \"column\": \"Spread\",\n      \"properties\": {\n        \"dtype\": \"number\",\n        \"std\": 229,\n        \"min\": 0,\n        \"max\": 587,\n        \"num_unique_values\": 5,\n        \"samples\": [\n          275,\n          587,\n          100\n        ],\n        \"semantic_type\": \"\",\n        \"description\": \"\"\n      }\n    }\n  ]\n}"
            }
          },
          "metadata": {},
          "execution_count": 129
        }
      ],
      "source": [
        "# Read the CSV file\n",
        "df_5min = pd.read_csv(root_data + 'Data/'+symbol+'_M5.csv', index_col=0)\n",
        "df_5min.index = pd.to_datetime(df_5min.index)\n",
        "df_5min = df_5min.iloc[-1000000:,]\n",
        "\n",
        "print('Min_Date : ', df_5min.index.min())\n",
        "print('Min_Date : ', df_5min.index.max())\n",
        "print('Number_Rows = ',len(df_5min.index))\n",
        "print('\\n')\n",
        "\n",
        "df_5min.tail()"
      ]
    },
    {
      "cell_type": "markdown",
      "id": "HBicVZcDx2CF",
      "metadata": {
        "id": "HBicVZcDx2CF"
      },
      "source": [
        "**Features**"
      ]
    },
    {
      "cell_type": "code",
      "execution_count": null,
      "id": "XxU4wllsEUcN",
      "metadata": {
        "colab": {
          "base_uri": "https://localhost:8080/",
          "height": 145,
          "referenced_widgets": [
            "bd79bf72f90f4f7f91fe7500705bbc55",
            "389b6839560b43df82a0bcdb7224815c",
            "fb67f4b9c05749caa0939c5415719abe",
            "c66523b75e2d4b44962c22408338bb4e",
            "60706de89e994217918338623cc5836b",
            "470a8c37066241acb6c61d0c95fe6fb0",
            "1085e8c8a95942aeaee51ba7eeeaca76",
            "448973479c4d4d4581b880dc1fe3be14",
            "6fa0d7d766554571adaf830da2b0769f",
            "8db02bda7872486dac7149eaf7eacdc1",
            "650c7ec7685c45169151a34081113249",
            "93dfaa643346467da50aa52f0de231eb",
            "2718eeb3b1a44518b20d58bd6fc6e9fd",
            "96fabcbb3e7a425ca8802fb3c863812c",
            "9a6fe07caa214dbfa9e64bd1b89d426e",
            "df6d93091af048f0bf18e472d22dff53",
            "ee920f47c2a743b2808007aafedb6be9",
            "4d376082afea47febe3912fe57b37050",
            "dfd93715d33941f693ec4ced80bb3faf",
            "0678ad313c4c41df879c98d0e798c74b",
            "32ae5fbc3ff54b9584c484f1b244fb2f",
            "0268c6d687844fcab308a8864bc77d05",
            "e5d44b768c764616bcdcdc7e979fd982",
            "ac9c66f3097b432ab6a2c4036806ccab",
            "585bf3f7940e4023bb94517677b3e240",
            "34dad961d3be462799d995a70cbf7c49",
            "013073d5841c440ab8e0b58786bca48a",
            "8d04cb0d07f64a49bf77454226c1f0b8",
            "210c606bcfca4fa48f345da0b7491a46",
            "bcf771f204284660bb5e3d2677dffb7b",
            "722663fb5ed246ed8096a0a0b5d1d5cd",
            "40476e5796124a59804e0843247a270a",
            "3d862cedda7f4af09c495540540c08c3",
            "180a7307bf10457e9ff5c8c1a5bf5fca",
            "edfc67f7a0f74b2c8426faf585a6678b",
            "20c716b33dc34d4ea8177cdbb2b33fb1",
            "d5c3116b21fa4e6990cc5af4d86fd0de",
            "3833c01ceec9448fb66526be0ca0aea4",
            "5dea014b2be24d3e85be931bad0e99b1",
            "47e0e5db49304ebcb493a59831632ff5",
            "730fe3134946412caa42e2ced90126d2",
            "1b32b00300464f30a4122d3ac66277f7",
            "4f74ff4c243a47dd9dd6381cba3d679a",
            "64d021a4117743e4b9ce612a0eeef777"
          ]
        },
        "id": "XxU4wllsEUcN",
        "outputId": "4a871d83-3412-432e-c1be-bfad911b7ef8"
      },
      "outputs": [
        {
          "output_type": "display_data",
          "data": {
            "text/plain": [
              "Calculating Period Indicators:   0%|          | 0/14 [00:00<?, ?it/s]"
            ],
            "application/vnd.jupyter.widget-view+json": {
              "version_major": 2,
              "version_minor": 0,
              "model_id": "bd79bf72f90f4f7f91fe7500705bbc55"
            }
          },
          "metadata": {}
        },
        {
          "output_type": "display_data",
          "data": {
            "text/plain": [
              "Calculating SMA/EMA Crossovers:   0%|          | 0/14 [00:00<?, ?it/s]"
            ],
            "application/vnd.jupyter.widget-view+json": {
              "version_major": 2,
              "version_minor": 0,
              "model_id": "93dfaa643346467da50aa52f0de231eb"
            }
          },
          "metadata": {}
        },
        {
          "output_type": "display_data",
          "data": {
            "text/plain": [
              "Calculating Kalman and Derivatives:   0%|          | 0/5 [00:00<?, ?it/s]"
            ],
            "application/vnd.jupyter.widget-view+json": {
              "version_major": 2,
              "version_minor": 0,
              "model_id": "e5d44b768c764616bcdcdc7e979fd982"
            }
          },
          "metadata": {}
        },
        {
          "output_type": "display_data",
          "data": {
            "text/plain": [
              "Calculating Slopes:   0%|          | 0/5 [00:00<?, ?it/s]"
            ],
            "application/vnd.jupyter.widget-view+json": {
              "version_major": 2,
              "version_minor": 0,
              "model_id": "180a7307bf10457e9ff5c8c1a5bf5fca"
            }
          },
          "metadata": {}
        }
      ],
      "source": [
        "\n",
        "### Create the Features Set\n",
        "import time\n",
        "start_time = time.time()\n",
        "\n",
        "features = create_features(df_5min)\n",
        "features = features.dropna()\n",
        "\n",
        "end_time = time.time()\n",
        "execution_time = end_time - start_time\n",
        "\n",
        "print(\"Number of features are:\", features.shape[1])\n",
        "print(features.shape)\n",
        "features.to_csv(root_data+'Results/'+symbol+'_M5_Raw_Features.csv')\n",
        "print(f\"Execution time: {execution_time:.2f} seconds\")\n",
        "features.tail(5)"
      ]
    },
    {
      "cell_type": "code",
      "execution_count": null,
      "id": "NqrNWh5O9-1P",
      "metadata": {
        "id": "NqrNWh5O9-1P"
      },
      "outputs": [],
      "source": [
        "for col in features.columns:\n",
        "  print(col)"
      ]
    },
    {
      "cell_type": "code",
      "execution_count": null,
      "id": "j4AwNJic6icv",
      "metadata": {
        "id": "j4AwNJic6icv"
      },
      "outputs": [],
      "source": [
        "features = pd.read_csv(root_data+'Results/'+symbol+'_M5_Raw_Features.csv')\n",
        "features[\"Date\"] = pd.to_datetime(features[\"Date\"])\n",
        "print(features.shape)\n",
        "features.head(5)"
      ]
    },
    {
      "cell_type": "markdown",
      "id": "QX4cSq3Ftqhm",
      "metadata": {
        "id": "QX4cSq3Ftqhm"
      },
      "source": [
        "**Scale_features**"
      ]
    },
    {
      "cell_type": "code",
      "execution_count": null,
      "id": "1qEb1Cz1vzj6",
      "metadata": {
        "id": "1qEb1Cz1vzj6"
      },
      "outputs": [],
      "source": [
        "cols_to_scale = features.columns[1:]\n",
        "cols_to_scale"
      ]
    },
    {
      "cell_type": "code",
      "execution_count": null,
      "id": "eJcGUESttqhm",
      "metadata": {
        "id": "eJcGUESttqhm"
      },
      "outputs": [],
      "source": [
        "### Scale Features with Rolling Window\n",
        "start_time = time.time()\n",
        "\n",
        "window = 200\n",
        "rolling = features[cols_to_scale].rolling(window)\n",
        "features[cols_to_scale] = (features[cols_to_scale] - rolling.mean()) / rolling.std()\n",
        "\n",
        "print(\"DataFrame with rolling-scaled features:\")\n",
        "print(features.shape)\n",
        "features.head()\n",
        "end_time = time.time()\n",
        "execution_time = end_time - start_time\n",
        "print(f\"Execution time: {execution_time:.2f} seconds\")\n"
      ]
    },
    {
      "cell_type": "code",
      "execution_count": null,
      "id": "aXMGezVftqhn",
      "metadata": {
        "id": "aXMGezVftqhn"
      },
      "outputs": [],
      "source": [
        "features.to_csv(root_data+'Results/'+symbol+'_M5_Scale_Features.csv')"
      ]
    },
    {
      "cell_type": "markdown",
      "id": "jh9-mi26wsya",
      "metadata": {
        "id": "jh9-mi26wsya"
      },
      "source": [
        "## 10_min"
      ]
    },
    {
      "cell_type": "code",
      "execution_count": null,
      "id": "bgh3Xz5ux75A",
      "metadata": {
        "id": "bgh3Xz5ux75A"
      },
      "outputs": [],
      "source": [
        "# Read the CSV file\n",
        "df_10min = pd.read_csv(root_data + 'Data/'+symbol+'_M10.csv', index_col=0)\n",
        "df_10min.index = pd.to_datetime(df_10min.index)\n",
        "df_10min = df_10min.iloc[-100000:,]\n",
        "\n",
        "print('Min_Date : ', df_10min.index.min())\n",
        "print('Min_Date : ', df_10min.index.max())\n",
        "print('Number_Rows = ',len(df_10min.index))\n",
        "print('\\n')\n",
        "\n",
        "df_10min.tail()"
      ]
    },
    {
      "cell_type": "markdown",
      "id": "WZRt7qxmx75A",
      "metadata": {
        "id": "WZRt7qxmx75A"
      },
      "source": [
        "**Features**"
      ]
    },
    {
      "cell_type": "code",
      "execution_count": null,
      "id": "Enk8RNZ3x75B",
      "metadata": {
        "id": "Enk8RNZ3x75B"
      },
      "outputs": [],
      "source": [
        "### Create the Features Set\n",
        "features_10min = create_features(df_10min)\n",
        "features_10min = features_10min.dropna()\n",
        "\n",
        "# Add \"10min_\" prefix to all column names except 'Date'\n",
        "features_10min = features_10min.add_prefix('10min_')\n",
        "features_10min.rename(columns={'10min_Date': 'Date'}, inplace=True)\n",
        "\n",
        "print(\"Number of features are:\", features.shape[1])\n",
        "print(features_10min.shape)\n",
        "features_10min.to_csv(root_data+'Results/'+symbol+'_M10_Raw_Features.csv')\n",
        "features_10min.tail(5)"
      ]
    },
    {
      "cell_type": "code",
      "execution_count": null,
      "id": "ZREQYp1Px75B",
      "metadata": {
        "id": "ZREQYp1Px75B"
      },
      "outputs": [],
      "source": [
        "for col in features_10min.columns:\n",
        "  #print(col)"
      ]
    },
    {
      "cell_type": "code",
      "execution_count": null,
      "id": "F7wu9XEqx75B",
      "metadata": {
        "id": "F7wu9XEqx75B"
      },
      "outputs": [],
      "source": [
        "features_10min = pd.read_csv(root_data+'Results/'+symbol+'_M10_Raw_Features.csv')\n",
        "features_10min[\"Date\"] = pd.to_datetime(features_10min[\"Date\"])\n",
        "print(features_10min.shape)\n",
        "features_10min.head(5)"
      ]
    },
    {
      "cell_type": "markdown",
      "id": "OM1OXL0tx75B",
      "metadata": {
        "id": "OM1OXL0tx75B"
      },
      "source": [
        "**Scale_features**"
      ]
    },
    {
      "cell_type": "code",
      "execution_count": null,
      "id": "D_ktgzyhx75C",
      "metadata": {
        "id": "D_ktgzyhx75C"
      },
      "outputs": [],
      "source": [
        "cols_to_scale = features_10min.columns[1:]\n",
        "cols_to_scale"
      ]
    },
    {
      "cell_type": "code",
      "execution_count": null,
      "id": "qeSWEQdTx75D",
      "metadata": {
        "id": "qeSWEQdTx75D"
      },
      "outputs": [],
      "source": [
        "### Scale Features with Rolling Window\n",
        "window = 200\n",
        "rolling = features_10min[cols_to_scale].rolling(window)\n",
        "features_10min[cols_to_scale] = (features_10min[cols_to_scale] - rolling.mean()) / rolling.std()\n",
        "\n",
        "print(\"DataFrame with rolling-scaled features:\")\n",
        "print(features_10min.shape)\n",
        "features_10min.tail()\n"
      ]
    },
    {
      "cell_type": "code",
      "execution_count": null,
      "id": "RAYGNhPex75E",
      "metadata": {
        "id": "RAYGNhPex75E"
      },
      "outputs": [],
      "source": [
        "features_10min.to_csv(root_data+'Results/'+symbol+'_M10_Scale_Features.csv')"
      ]
    },
    {
      "cell_type": "markdown",
      "id": "A5c__w6s_dtY",
      "metadata": {
        "id": "A5c__w6s_dtY"
      },
      "source": [
        "# Feature Importance"
      ]
    },
    {
      "cell_type": "markdown",
      "id": "4j7J8tk_f3o-",
      "metadata": {
        "id": "4j7J8tk_f3o-"
      },
      "source": [
        "## Labels"
      ]
    },
    {
      "cell_type": "code",
      "execution_count": null,
      "id": "6XOsumPycYz3",
      "metadata": {
        "id": "6XOsumPycYz3"
      },
      "outputs": [],
      "source": [
        "lab = pd.read_csv(root_data + 'Results/'+symbol+'_'+strategy+'_'+time_frame+'_Strategy_Gen_Labels.csv', index_col=0)\n",
        "lab['Date'] = pd.to_datetime(lab['Date'])\n",
        "\n",
        "print('Min_Date    : ',lab['Date'].min())\n",
        "print('Min_Date    : ',lab['Date'].max(),'\\n')\n",
        "print('Number_Rows : ',lab.shape,'\\n')\n",
        "print('Columns     : ',lab.columns)\n",
        "\n",
        "lab['Open_Trade'].value_counts()"
      ]
    },
    {
      "cell_type": "code",
      "execution_count": null,
      "id": "apV2tezPsbux",
      "metadata": {
        "id": "apV2tezPsbux"
      },
      "outputs": [],
      "source": [
        "#analyse_column = 'st_atr_max_PnL'\n",
        "analyse_column = 'st_Max'\n",
        "\n",
        "st_max_0  = lab.loc[((lab['Open_Trade']==1) |(lab['Open_Trade']==-1)),:]['Open_Trade'].count()\n",
        "st_max_1  = lab.loc[((lab['Open_Trade']==1) |(lab['Open_Trade']==-1)),analyse_column].mean()\n",
        "st_max_2  = lab.loc[((lab['Open_Trade']==1) |(lab['Open_Trade']==-1)) & (lab['st_atr_max_PnL'] >= 1.93),analyse_column].sum()\n",
        "st_max_25 = lab.loc[((lab['Open_Trade']==1) |(lab['Open_Trade']==-1)) & (lab['st_atr_max_PnL'] <= 1.93),analyse_column].sum()\n",
        "\n",
        "\n",
        "st_max_3 = lab.loc[(((lab['Open_Trade']==1) |(lab['Open_Trade']==-1)) & (lab['st_atr_max_PnL'] <= 0)),analyse_column].sum()\n",
        "\n",
        "st_max_4 = lab.loc[(((lab['Open_Trade']==1) |(lab['Open_Trade']==-1)) &\n",
        "                   (lab['st_atr_max_PnL'] > 0.7) & (lab['st_atr_max_PnL'] <= 1)),analyse_column].sum()\n",
        "\n",
        "st_max_5 = lab.loc[(((lab['Open_Trade']==1) |(lab['Open_Trade']==-1)) &\n",
        "                   (lab['st_atr_max_PnL'] > 1) &\n",
        "                   (lab['st_atr_max_PnL'] <= 1.5)),analyse_column].sum()\n",
        "\n",
        "st_max_6 = lab.loc[(((lab['Open_Trade']==1) |(lab['Open_Trade']==-1)) &\n",
        "                   (lab['st_atr_max_PnL'] > 1.5) &\n",
        "                   (lab['st_atr_max_PnL'] <= 2)),analyse_column].sum()\n",
        "\n",
        "st_max_7 = lab.loc[(((lab['Open_Trade']==1) |(lab['Open_Trade']==-1)) &\n",
        "                   (lab['st_atr_max_PnL'] > 2)),analyse_column].sum()\n",
        "\n",
        "\n",
        "print(f'Total_Trades = {st_max_0:,.0f}\\n')\n",
        "print(f'Mean st_atr_max_PnL = {st_max_1:,.2f}\\n')\n",
        "print(f'Above_Mean = {st_max_2:,.2f}')\n",
        "print(f'Below_Mean = {st_max_25:,.2f}\\n')\n",
        "\n",
        "print(f'<= 0.5 = {st_max_3:,.2f}')\n",
        "print(f'> 0.5 & <= 1 = {st_max_4:,.2f}')\n",
        "print(f'> 1 & <= 1.5 = {st_max_5:,.2f}')\n",
        "print(f'> 1.5 & <= 2 = {st_max_6:,.2f}')\n",
        "print(f'> 2 = {st_max_7:,.2f}')"
      ]
    },
    {
      "cell_type": "code",
      "execution_count": null,
      "id": "p2fjs4Si792v",
      "metadata": {
        "id": "p2fjs4Si792v"
      },
      "outputs": [],
      "source": [
        "analyse_column = 'st_atr_max_PnL'\n",
        "\n",
        "st_max_0 = lab.loc[((lab['Open_Trade']==1) |(lab['Open_Trade']==-1)),:]['Open_Trade'].count()\n",
        "st_max_1 = lab.loc[((lab['Open_Trade']==1) |(lab['Open_Trade']==-1)),analyse_column].mean()\n",
        "st_max_2 = lab.loc[((lab['Open_Trade']==1) |(lab['Open_Trade']==-1)) & (lab['st_atr_max_PnL'] >= 1.93),analyse_column].count()\n",
        "st_max_25 = lab.loc[((lab['Open_Trade']==1) |(lab['Open_Trade']==-1)) & (lab['st_atr_max_PnL'] <= 1.93),analyse_column].count()\n",
        "\n",
        "st_max_3 = lab.loc[(((lab['Open_Trade']==1) |(lab['Open_Trade']==-1)) &\n",
        "                    (lab['st_atr_max_PnL'] <= 0.5)),analyse_column].count()\n",
        "\n",
        "st_max_4 = lab.loc[(((lab['Open_Trade']==1) |(lab['Open_Trade']==-1)) &\n",
        "                     (lab['st_atr_max_PnL'] >= 0.5) & (lab['st_atr_max_PnL'] <= 1)),analyse_column].count()\n",
        "\n",
        "st_max_5 = lab.loc[((lab['Open_Trade']==1) |(lab['Open_Trade']==-1)) &\n",
        "                   (lab['st_atr_max_PnL'] >= 1), analyse_column].count()\n",
        "\n",
        "print(f'Total_Trades = {st_max_0:,.0f}\\n')\n",
        "print(f'Mean st_atr_max_PnL = {st_max_1:,.2f}\\n')\n",
        "print(f'Above_Mean = {st_max_2:,.2f}')\n",
        "print(f'Below_Mean = {st_max_25:,.2f}\\n')\n",
        "\n",
        "print(f'<= 0.5 = {st_max_3:,.2f}')\n",
        "print(f'> 0.5 & <= 1 = {st_max_4:,.2f}')\n",
        "print(f'> 1 = {st_max_5:,.2f}')\n"
      ]
    },
    {
      "cell_type": "code",
      "execution_count": null,
      "id": "85DATjQqZd66",
      "metadata": {
        "id": "85DATjQqZd66"
      },
      "outputs": [],
      "source": [
        "# --- Parámetros / campos\n",
        "result_field = 'st_atr_max_PnL'\n",
        "\n",
        "valid = (\n",
        "    (lab['Type'] == direction) &\n",
        "    (lab['Open_Trade'].isin([1, -1])) &\n",
        "    (lab[result_field].notna())\n",
        ")\n",
        "\n",
        "# --- Conteos por rango (st_max_4..6)\n",
        "st_max_4 = (valid & (lab[result_field] <= 0.5)).sum()\n",
        "st_max_5 = (valid & (lab[result_field] >= 0.5) & (lab[result_field] <= 1.0)).sum()\n",
        "st_max_6 = (valid & (lab[result_field] > 1.0)).sum()\n",
        "\n",
        "print(f'<= 0.5          = {st_max_4:,d}')\n",
        "print(f'> 0.5 & <= 1.0  = {st_max_5:,d}')\n",
        "print(f'> 1.0           = {st_max_6:,d}')\n",
        "\n",
        "# --- Etiquetado en la columna \"label\" con valores 4/5/6\n",
        "lab['label'] = np.nan\n",
        "#lab.loc[valid & (lab[result_field] <= 0.5), 'label'] = 0\n",
        "#lab.loc[valid & (lab[result_field] > 0.5) & (lab[result_field] <= 1.0), 'label'] = 1\n",
        "#lab.loc[valid & (lab[result_field] > 1.0), 'label'] = 2\n",
        "\n",
        "lab['label'] = np.nan\n",
        "lab.loc[valid & (lab[result_field] <= 1), 'label'] = 0\n",
        "lab.loc[valid & (lab[result_field] >= 1), 'label'] = 1\n",
        "\n",
        "\n",
        "# --- Mantener solo filas válidas y con label\n",
        "lab = lab.loc[valid & lab['label'].notna()].copy()\n",
        "lab['label'] = lab['label'].astype('int8')\n",
        "\n",
        "# --- Ver distribución de labels 4/5/6\n",
        "print('\\nValue counts de label 4/5/6:')\n",
        "print(lab['label'].value_counts(dropna=False).sort_index())\n"
      ]
    },
    {
      "cell_type": "markdown",
      "id": "_BCdqt3Y0Fjm",
      "metadata": {
        "id": "_BCdqt3Y0Fjm"
      },
      "source": [
        "## Features"
      ]
    },
    {
      "cell_type": "code",
      "execution_count": null,
      "id": "u1I6_IHtGgbE",
      "metadata": {
        "id": "u1I6_IHtGgbE"
      },
      "outputs": [],
      "source": [
        "raw_feat_1min = pd.read_csv(root_data+'Results/'+symbol+'_M1_Raw_Features.csv')\n",
        "raw_feat_1min[\"Date\"] = pd.to_datetime(raw_feat_1min[\"Date\"])\n",
        "print(raw_feat_1min.shape)\n",
        "#raw_feat_1min.head(5)"
      ]
    },
    {
      "cell_type": "code",
      "execution_count": null,
      "id": "8jK6LavOGgbF",
      "metadata": {
        "id": "8jK6LavOGgbF"
      },
      "outputs": [],
      "source": [
        "scale_feat_1min = pd.read_csv(root_data+'Results/'+symbol+'_M1_Scale_Features.csv')\n",
        "scale_feat_1min = scale_feat_1min.drop('Unnamed: 0', axis=1)\n",
        "scale_feat_1min[\"Date\"] = pd.to_datetime(scale_feat_1min[\"Date\"])\n",
        "print(scale_feat_1min.shape)\n",
        "#scale_feat_5min.head(5)"
      ]
    },
    {
      "cell_type": "code",
      "execution_count": null,
      "id": "gX04ZTmfz-pK",
      "metadata": {
        "id": "gX04ZTmfz-pK"
      },
      "outputs": [],
      "source": [
        "raw_feat_5min = pd.read_csv(root_data+'Results/'+symbol+'_M5_Raw_Features.csv')\n",
        "raw_feat_5min[\"Date\"] = pd.to_datetime(raw_feat_5min[\"Date\"])\n",
        "print(raw_feat_5min.shape)\n",
        "#raw_feat_5min.head(5)"
      ]
    },
    {
      "cell_type": "code",
      "execution_count": null,
      "id": "D5gxf0ke0KUx",
      "metadata": {
        "id": "D5gxf0ke0KUx"
      },
      "outputs": [],
      "source": [
        "scale_feat_5min = pd.read_csv(root_data+'Results/'+symbol+'_M5_Scale_Features.csv')\n",
        "scale_feat_5min = scale_feat_5min.drop('Unnamed: 0', axis=1)\n",
        "scale_feat_5min[\"Date\"] = pd.to_datetime(scale_feat_5min[\"Date\"])\n",
        "print(scale_feat_5min.shape)\n",
        "#scale_feat_5min.head(5)"
      ]
    },
    {
      "cell_type": "code",
      "execution_count": null,
      "id": "cHlD0eRb0scj",
      "metadata": {
        "id": "cHlD0eRb0scj"
      },
      "outputs": [],
      "source": [
        "raw_feat_10min = pd.read_csv(root_data+'Results/'+symbol+'_M10_Raw_Features.csv')\n",
        "raw_feat_10min[\"Date\"] = pd.to_datetime(raw_feat_10min[\"Date\"])\n",
        "\n",
        "# Add \"10min_\" prefix to all column names except 'Date'\n",
        "cols_to_prefix = [col for col in raw_feat_10min.columns if col != 'Date']\n",
        "raw_feat_10min.rename(columns={col: col for col in cols_to_prefix}, inplace=True)\n",
        "\n",
        "print(raw_feat_10min.shape)\n",
        "#raw_feat_10min.head(5)"
      ]
    },
    {
      "cell_type": "code",
      "execution_count": null,
      "id": "O7xrmOA90sck",
      "metadata": {
        "id": "O7xrmOA90sck"
      },
      "outputs": [],
      "source": [
        "scale_feat_10min = pd.read_csv(root_data+'Results/'+symbol+'_M10_Scale_Features.csv')\n",
        "scale_feat_10min = scale_feat_10min.drop('Unnamed: 0', axis=1)\n",
        "scale_feat_10min[\"Date\"] = pd.to_datetime(scale_feat_10min[\"Date\"])\n",
        "\n",
        "# Add \"10min_\" prefix to all column names except 'Date'\n",
        "cols_to_prefix = [col for col in scale_feat_10min.columns if col != 'Date']\n",
        "scale_feat_10min.rename(columns={col:col for col in cols_to_prefix}, inplace=True)\n",
        "\n",
        "print(scale_feat_10min.shape)\n",
        "#scale_feat_10min.head(5)"
      ]
    },
    {
      "cell_type": "markdown",
      "id": "Hv5bsrpc03z7",
      "metadata": {
        "id": "Hv5bsrpc03z7"
      },
      "source": [
        "## Merge"
      ]
    },
    {
      "cell_type": "code",
      "execution_count": null,
      "id": "Mc1y2NbRM_f1",
      "metadata": {
        "id": "Mc1y2NbRM_f1"
      },
      "outputs": [],
      "source": [
        "data_type = 'Scale'"
      ]
    },
    {
      "cell_type": "code",
      "execution_count": null,
      "id": "I0gkNVT60Ka5",
      "metadata": {
        "id": "I0gkNVT60Ka5"
      },
      "outputs": [],
      "source": [
        "# First merge scale_feat_5min with scale_feat_10min and apply forward fill\n",
        "merged_features = scale_feat_5min.merge(scale_feat_10min, on='Date', how='left').ffill()\n",
        "#merged_features = raw_feat_5min.merge(raw_feat_10min, on='Date', how='left').ffill()\n",
        "\n",
        "df = pd.merge(lab[['Date', 'label']], merged_features, on='Date', how='left')\n",
        "\n",
        "cols = df.columns.tolist()\n",
        "cols.remove('label')\n",
        "cols.insert(1, 'label')\n",
        "df = df[cols]"
      ]
    },
    {
      "cell_type": "code",
      "execution_count": null,
      "id": "jXcXWty506Ur",
      "metadata": {
        "id": "jXcXWty506Ur"
      },
      "outputs": [],
      "source": [
        "print(df.columns, '\\n')\n",
        "print(df.shape,'\\n')\n",
        "print('Label_Counts : ',df.label.value_counts(),'\\n')\n",
        "#df.head(5)"
      ]
    },
    {
      "cell_type": "markdown",
      "id": "lBtQecOO08zB",
      "metadata": {
        "id": "lBtQecOO08zB"
      },
      "source": [
        "## ML"
      ]
    },
    {
      "cell_type": "code",
      "execution_count": null,
      "id": "8rlkmypd9DJj",
      "metadata": {
        "id": "8rlkmypd9DJj"
      },
      "outputs": [],
      "source": [
        "# ===================== 1. ENTRENAR Y OBTENER IMPORTANCIAS =====================\n",
        "def compute_xgb_importance(\n",
        "    X: pd.DataFrame,\n",
        "    y: pd.Series,\n",
        "    task: str = \"classification\",\n",
        "    random_state: int = 42,\n",
        "    **xgb_params: Any\n",
        ") -> Tuple[pd.DataFrame, Any]:\n",
        "    \"\"\"\n",
        "    Entrena un modelo XGBoost y devuelve:\n",
        "      - imp_df: DataFrame con 'feature', 'importance' y 'cum_importance'.\n",
        "      - model : modelo ya entrenado.\n",
        "\n",
        "    Soporta:\n",
        "      • Clasificación binaria o multiclase (detecta nº de clases).\n",
        "      • Regresión (si task != 'classification').\n",
        "\n",
        "    Parámetros\n",
        "    ----------\n",
        "    X : pd.DataFrame\n",
        "        Matriz de características (sin la columna objetivo).\n",
        "    y : pd.Series\n",
        "        Etiquetas objetivo. Puede ser binaria (0/1) o multiclase (0..K-1).\n",
        "    task : str, opcional\n",
        "        \"classification\" (default) o \"regression\".\n",
        "    random_state : int, opcional\n",
        "        Semilla para reproducibilidad.\n",
        "    **xgb_params : dict\n",
        "        Parámetros adicionales para el estimador de XGBoost.\n",
        "\n",
        "    Returns\n",
        "    -------\n",
        "    (imp_df, model)\n",
        "        imp_df : DataFrame con importancias y su acumulado.\n",
        "        model  : instancia entrenada de XGBClassifier / XGBRegressor.\n",
        "    \"\"\"\n",
        "    default_params: Dict[str, Any] = dict(\n",
        "        n_estimators=500,\n",
        "        max_depth=6,\n",
        "        learning_rate=0.05,\n",
        "        subsample=0.8,\n",
        "        colsample_bytree=0.8,\n",
        "        random_state=random_state,\n",
        "        n_jobs=-1,\n",
        "        tree_method=\"hist\",\n",
        "    )\n",
        "    default_params.update(xgb_params)\n",
        "\n",
        "    if task == \"classification\":\n",
        "        # Detectar nº de clases\n",
        "        classes = np.unique(y)\n",
        "        n_classes = len(classes)\n",
        "\n",
        "        # XGBClassifier ajusta objetivo automáticamente, pero lo explicitamos:\n",
        "        if n_classes > 2:\n",
        "            default_params.setdefault(\"objective\", \"multi:softprob\")\n",
        "            default_params.setdefault(\"num_class\", n_classes)\n",
        "            eval_metric = \"mlogloss\"\n",
        "        else:\n",
        "            default_params.setdefault(\"objective\", \"binary:logistic\")\n",
        "            eval_metric = \"logloss\"\n",
        "\n",
        "        model = XGBClassifier(eval_metric=eval_metric, **default_params)\n",
        "\n",
        "    else:\n",
        "        model = XGBRegressor(**default_params)\n",
        "\n",
        "    model.fit(X, y)\n",
        "\n",
        "    imp_df = (\n",
        "        pd.DataFrame({\n",
        "            \"feature\": X.columns,\n",
        "            \"importance\": model.feature_importances_\n",
        "        })\n",
        "        .sort_values(\"importance\", ascending=False)\n",
        "        .reset_index(drop=True)\n",
        "    )\n",
        "    total_imp = imp_df[\"importance\"].sum()\n",
        "    if total_imp == 0:\n",
        "        # Evitar división por cero si el modelo devuelve todo cero (raro, pero posible)\n",
        "        imp_df[\"cum_importance\"] = 0.0\n",
        "    else:\n",
        "        imp_df[\"cum_importance\"] = imp_df[\"importance\"].cumsum() / total_imp\n",
        "\n",
        "    return imp_df, model"
      ]
    },
    {
      "cell_type": "code",
      "execution_count": null,
      "id": "3r9Di4Xx9DOU",
      "metadata": {
        "id": "3r9Di4Xx9DOU"
      },
      "outputs": [],
      "source": [
        "# ===================== 2. SELECCIÓN DE FEATURES =====================\n",
        "def select_features_with_importance(\n",
        "    X: pd.DataFrame,\n",
        "    imp_df: pd.DataFrame,\n",
        "    top_n: Optional[int] = None,\n",
        "    threshold: Optional[str | float] = None,\n",
        "    cum_threshold: Optional[float] = 0.8\n",
        ") -> Tuple[pd.DataFrame, List[str]]:\n",
        "    \"\"\"\n",
        "    Selección flexible de variables a partir de importancias de XGBoost.\n",
        "\n",
        "    Reglas:\n",
        "      - Si top_n no es None           => usa el top_n.\n",
        "      - Else si cum_threshold no None => usa importancia acumulada (p.ej. 0.8 = 80%).\n",
        "      - Else usa threshold ('median', 'mean' o valor numérico).\n",
        "\n",
        "    Devuelve (X_reducido, lista_de_features).\n",
        "\n",
        "    Parámetros\n",
        "    ----------\n",
        "    X : pd.DataFrame\n",
        "        Matriz de características original.\n",
        "    imp_df : pd.DataFrame\n",
        "        DataFrame devuelto por compute_xgb_importance.\n",
        "    top_n : int | None\n",
        "        Número fijo de variables a conservar.\n",
        "    threshold : str | float | None\n",
        "        Umbral de importancia. Si str, usar 'median' o 'mean'.\n",
        "    cum_threshold : float | None\n",
        "        Porcentaje acumulado de importancia (0-1). Si None, se ignora.\n",
        "\n",
        "    Returns\n",
        "    -------\n",
        "    (X_sel, keep)\n",
        "        X_sel : subset de X con columnas seleccionadas.\n",
        "        keep  : lista de nombres de columnas seleccionadas.\n",
        "    \"\"\"\n",
        "    if top_n is not None:\n",
        "        keep = imp_df.head(top_n)[\"feature\"].tolist()\n",
        "\n",
        "    elif cum_threshold is not None:\n",
        "        keep_mask = imp_df[\"cum_importance\"] <= float(cum_threshold)\n",
        "        keep = imp_df.loc[keep_mask, \"feature\"].tolist()\n",
        "        # asegurar que haya al menos una más para no quedarnos exactamente en el corte\n",
        "        if len(keep) < len(imp_df):\n",
        "            keep.append(imp_df.iloc[len(keep)][\"feature\"])\n",
        "\n",
        "    else:\n",
        "        if threshold is None:\n",
        "            threshold = \"median\"\n",
        "        if isinstance(threshold, str):\n",
        "            thr_val = imp_df[\"importance\"].agg(threshold)\n",
        "        else:\n",
        "            thr_val = float(threshold)\n",
        "        keep = imp_df.loc[imp_df[\"importance\"] >= thr_val, \"feature\"].tolist()\n",
        "\n",
        "    return X[keep], keep"
      ]
    },
    {
      "cell_type": "code",
      "execution_count": null,
      "id": "tCDZCTz2_v9z",
      "metadata": {
        "id": "tCDZCTz2_v9z"
      },
      "outputs": [],
      "source": [
        "# ===================== 3. BÚSQUEDA DEL MEJOR UMBRAL ACUMULADO =====================\n",
        "def find_best_cum_threshold(\n",
        "    X_train: pd.DataFrame,\n",
        "    y_train: pd.Series,\n",
        "    X_valid: pd.DataFrame,\n",
        "    y_valid: pd.Series,\n",
        "    task: str = \"classification\",\n",
        "    thresholds: Tuple[float, ...] = (0.6, 0.7, 0.8, 0.9),\n",
        "    random_state: int = 42,\n",
        "    metric: str = \"auto\",\n",
        "    **xgb_params: Any\n",
        ") -> Tuple[float, pd.DataFrame, pd.DataFrame]:\n",
        "    \"\"\"\n",
        "    Entrena un XGB en train, calcula importancias y prueba varios umbrales\n",
        "    acumulados para ver cuál da la mejor métrica en valid.\n",
        "\n",
        "    Para CLASIFICACIÓN:\n",
        "        - Detecta nº de clases.\n",
        "        - Métrica por defecto (metric=\"auto\"):\n",
        "            • Binaria: ROC-AUC (probabilidades de la clase positiva).\n",
        "            • Multiclase: ROC-AUC macro OVR (usa predict_proba).\n",
        "          Alternativas: metric=\"f1_macro\", \"accuracy\", \"logloss\" (se MINIMIZA).\n",
        "    Para REGRESIÓN:\n",
        "        - Usa R^2.\n",
        "\n",
        "    Devuelve:\n",
        "        best_thr, res_df_ordenado_por_score_desc, imp_df\n",
        "\n",
        "    Parámetros\n",
        "    ----------\n",
        "    X_train, y_train, X_valid, y_valid : pd.DataFrame / pd.Series\n",
        "        Particiones de entrenamiento y validación.\n",
        "    task : str\n",
        "        \"classification\" (default) o \"regression\".\n",
        "    thresholds : tuple[float, ...]\n",
        "        Valores de umbral de importancia acumulada a evaluar (0-1).\n",
        "    random_state : int\n",
        "        Semilla para reproducibilidad.\n",
        "    metric : str\n",
        "        \"auto\" (default), \"roc_auc\", \"f1_macro\", \"accuracy\", \"logloss\" (clasif) o \"r2\" (regresión).\n",
        "    **xgb_params : dict\n",
        "        Parámetros extra para el estimador de XGBoost (pasan a compute y a los modelos internos).\n",
        "\n",
        "    Returns\n",
        "    -------\n",
        "    (best_thr, res_df, imp_df)\n",
        "        best_thr : float\n",
        "            Umbral con mejor score (o menor logloss si metric='logloss').\n",
        "        res_df : pd.DataFrame\n",
        "            Tabla con resultados por umbral (n_features, score).\n",
        "        imp_df : pd.DataFrame\n",
        "            Importancias calculadas en X_train / y_train.\n",
        "    \"\"\"\n",
        "    imp_df, _ = compute_xgb_importance(\n",
        "        X_train, y_train, task=task, random_state=random_state, **xgb_params\n",
        "    )\n",
        "\n",
        "    results = []\n",
        "\n",
        "    # Detectar nº de clases si es clasificación\n",
        "    if task == \"classification\":\n",
        "        classes = np.unique(y_train)\n",
        "        n_classes = len(classes)\n",
        "        if metric == \"auto\":\n",
        "            metric_to_use = \"roc_auc\" if n_classes == 2 else \"roc_auc\"\n",
        "        else:\n",
        "            metric_to_use = metric\n",
        "    else:\n",
        "        metric_to_use = \"r2\" if metric == \"auto\" else metric\n",
        "\n",
        "    for thr in thresholds:\n",
        "        X_tr_sel, cols = select_features_with_importance(\n",
        "            X_train, imp_df, cum_threshold=thr, top_n=None, threshold=None\n",
        "        )\n",
        "        X_va_sel = X_valid[cols]\n",
        "\n",
        "        if task == \"classification\":\n",
        "            params = dict(random_state=random_state, n_jobs=-1, tree_method=\"hist\")\n",
        "            params.update(xgb_params)\n",
        "\n",
        "            if n_classes > 2:\n",
        "                params.setdefault(\"objective\", \"multi:softprob\")\n",
        "                params.setdefault(\"num_class\", n_classes)\n",
        "                eval_metric = \"mlogloss\"\n",
        "            else:\n",
        "                params.setdefault(\"objective\", \"binary:logistic\")\n",
        "                eval_metric = \"logloss\"\n",
        "\n",
        "            model_sel = XGBClassifier(eval_metric=eval_metric, **params)\n",
        "            model_sel.fit(X_tr_sel, y_train)\n",
        "\n",
        "            # Probabilidades y predicciones\n",
        "            proba = model_sel.predict_proba(X_va_sel)\n",
        "            pred  = np.argmax(proba, axis=1) if n_classes > 2 else (proba[:, 1] >= 0.5).astype(int)\n",
        "\n",
        "            # Calcular métrica\n",
        "            if metric_to_use == \"roc_auc\":\n",
        "                if n_classes == 2:\n",
        "                    score = roc_auc_score(y_valid, proba[:, 1])\n",
        "                else:\n",
        "                    # AUC macro One-vs-Rest\n",
        "                    score = roc_auc_score(y_valid, proba, multi_class=\"ovr\", average=\"macro\")\n",
        "            elif metric_to_use == \"f1_macro\":\n",
        "                score = f1_score(y_valid, pred, average=\"macro\")\n",
        "            elif metric_to_use == \"accuracy\":\n",
        "                score = accuracy_score(y_valid, pred)\n",
        "            elif metric_to_use == \"logloss\":\n",
        "                # En este caso, menor es mejor. Guardamos negativo para mantener criterio \"mayor mejor\".\n",
        "                score = -log_loss(y_valid, proba, labels=np.unique(y_train))\n",
        "            else:\n",
        "                raise ValueError(f\"Métrica no soportada: {metric_to_use}\")\n",
        "\n",
        "        else:\n",
        "            # REGRESIÓN\n",
        "            params = dict(random_state=random_state, n_jobs=-1, tree_method=\"hist\")\n",
        "            params.update(xgb_params)\n",
        "            model_sel = XGBRegressor(**params)\n",
        "            model_sel.fit(X_tr_sel, y_train)\n",
        "            pred = model_sel.predict(X_va_sel)\n",
        "\n",
        "            if metric_to_use == \"r2\":\n",
        "                score = r2_score(y_valid, pred)\n",
        "            else:\n",
        "                raise ValueError(f\"Métrica de regresión no soportada: {metric_to_use}\")\n",
        "\n",
        "        results.append({\"cum_threshold\": thr, \"n_features\": len(cols), \"score\": score})\n",
        "\n",
        "    # Ordenar (si usamos logloss negado, mayor sigue siendo mejor)\n",
        "    res_df = pd.DataFrame(results).sort_values(\"score\", ascending=False).reset_index(drop=True)\n",
        "    best_thr = float(res_df.iloc[0][\"cum_threshold\"])\n",
        "    return best_thr, res_df, imp_df"
      ]
    },
    {
      "cell_type": "code",
      "metadata": {
        "id": "R0Dm8ZPGcBr7"
      },
      "source": [
        "def remove_highly_correlated_features(df, threshold=0.9):\n",
        "    corr_matrix = df.corr().abs()\n",
        "    upper = corr_matrix.where(np.triu(np.ones(corr_matrix.shape), k=1).astype(bool))\n",
        "    to_drop = [col for col in upper.columns if any(upper[col] > threshold)]\n",
        "    return df.drop(columns=to_drop), to_drop\n"
      ],
      "outputs": [],
      "execution_count": null,
      "id": "R0Dm8ZPGcBr7"
    },
    {
      "cell_type": "code",
      "execution_count": null,
      "id": "WodcQEBJ_wAW",
      "metadata": {
        "id": "WodcQEBJ_wAW"
      },
      "outputs": [],
      "source": [
        "# ===================== 3. PIPELINE PRINCIPAL =====================\n",
        "df = df.dropna()\n",
        "y = df['label']\n",
        "X = df.iloc[:, 2:]\n",
        "\n",
        "# --- 3.3 Split temporal (ejemplo simple 80/20) ---\n",
        "split_idx = int(len(X) * 0.8)\n",
        "X_train, X_test = X.iloc[:split_idx], X.iloc[split_idx:]\n",
        "y_train, y_test = y.iloc[:split_idx], y.iloc[split_idx:]\n",
        "\n",
        "# --- 3.4 Remove correlated features ---\n",
        "X_train_filtered, dropped_features = remove_highly_correlated_features(X_train, threshold=0.9)\n",
        "X_test_filtered = X_test.drop(columns=dropped_features)\n",
        "\n",
        "# Baseline logistic regression with time-series CV\n",
        "scaler = StandardScaler()\n",
        "X_scaled = scaler.fit_transform(X_train_filtered)\n",
        "tscv = TimeSeriesSplit(n_splits=5)\n",
        "baseline = cross_val_score(LogisticRegression(max_iter=1000), X_scaled, y_train, cv=tscv).mean()\n",
        "print('Logistic regression CV accuracy:', baseline)\n",
        "\n",
        "# --- 3.5 Importancias con XGBoost ---\n",
        "imp_df, xgb_model = compute_xgb_importance(X_train_filtered, y_train, task='classification')\n",
        "\n",
        "print('=== Importancias XGBoost ===')\n",
        "print(imp_df.head(20))\n",
        "print(f'Total features: {len(imp_df)}')\n",
        "\n",
        "# --- 3.6 Selección (elige una opción) ---\n",
        "X_train_sel, keep_cols = select_features_with_importance(X_train_filtered, imp_df, cum_threshold=0.8)\n",
        "X_test_sel = X_test_filtered[keep_cols]\n",
        "\n",
        "print(f'Features seleccionadas: {len(keep_cols)}')\n",
        "pd.Series(keep_cols).to_csv(root_data+'Results/'+symbol+'_'+direction+'_M5M10_'+data_type+'_ImportantCols.csv', index=False)\n",
        "\n",
        "# Save dataset with selected features\n",
        "df_selected = df[['Date', 'label'] + keep_cols]\n",
        "df_selected.to_csv(root_data+'Results/'+symbol+'_'+direction+'_M5M10_'+data_type+'_Features.csv', index=False)\n",
        "\n",
        "# Time-series cross-validation with XGBoost\n",
        "xgb_cv = XGBClassifier(eval_metric='logloss', n_estimators=500, max_depth=6, learning_rate=0.05, subsample=0.8, colsample_bytree=0.8, random_state=42, n_jobs=-1, tree_method='hist')\n",
        "xgb_scores = cross_val_score(xgb_cv, X_train_sel, y_train, cv=tscv, scoring='accuracy')\n",
        "print('XGBoost CV accuracy:', xgb_scores.mean())\n"
      ]
    },
    {
      "cell_type": "markdown",
      "id": "2RFfhHT2AwAJ",
      "metadata": {
        "id": "2RFfhHT2AwAJ"
      },
      "source": [
        "# Encode_Features"
      ]
    },
    {
      "cell_type": "code",
      "execution_count": null,
      "id": "jRl6BZWUZ-WI",
      "metadata": {
        "id": "jRl6BZWUZ-WI"
      },
      "outputs": [],
      "source": [
        "### Encode Features\n",
        "\n",
        "cols_to_scale = df.columns[1:]\n",
        "model = Sequential()\n",
        "model.add(Dense(64, activation='relu', input_shape=(len(cols_to_scale),)))\n",
        "model.add(Dense(32, activation='relu'))\n",
        "model.add(Dense(8, activation='relu'))\n",
        "model.add(Dense(32, activation='relu'))\n",
        "model.add(Dense(64, activation='relu'))\n",
        "model.add(Dense(len(cols_to_scale), activation='linear'))"
      ]
    },
    {
      "cell_type": "code",
      "execution_count": null,
      "id": "3hmEdGGclTxU",
      "metadata": {
        "id": "3hmEdGGclTxU"
      },
      "outputs": [],
      "source": [
        "# Compile the model\n",
        "model.compile(optimizer='adam', loss='mean_squared_error')\n",
        "\n",
        "# Train the autoencoder using the scaled features\n",
        "cols_to_scale = df.columns[1:]\n",
        "autoencoder = model.fit(df[cols_to_scale], df[cols_to_scale], epochs=100, batch_size=32)"
      ]
    },
    {
      "cell_type": "code",
      "execution_count": null,
      "id": "gfyyEElYwPQ_",
      "metadata": {
        "id": "gfyyEElYwPQ_"
      },
      "outputs": [],
      "source": [
        "# Plot the graph of Loss versus Epoch\n",
        "plt.plot(autoencoder.history[\"loss\"])\n",
        "plt.plot(figsize=(15, 7))\n",
        "plt.title('Loss vs. Epoch', fontsize=16)\n",
        "plt.xlabel('Epoch', fontsize=14)\n",
        "plt.ylabel('Loss', fontsize=14)\n",
        "plt.show()"
      ]
    },
    {
      "cell_type": "code",
      "execution_count": null,
      "id": "DmJ8a4TuwPRA",
      "metadata": {
        "id": "DmJ8a4TuwPRA"
      },
      "outputs": [],
      "source": [
        "# Select the columns to be scaled (from index 6 onwards)\n",
        "cols_to_scale = df.columns[1:]\n",
        "\n",
        "reconstruction_error = np.square(df[cols_to_scale] - model.predict(df[cols_to_scale]))\n",
        "feature_reconstruction_error = np.mean(reconstruction_error, axis=0)\n",
        "feature_reconstruction_error_df = pd.DataFrame(feature_reconstruction_error, index=cols_to_scale).T\n",
        "\n",
        "overall_reconstruction_error = feature_reconstruction_error_df.mean().mean()\n",
        "print('\\n','\\n', f\"\\033[1mOverall Reconstruction Error: {overall_reconstruction_error:.4f}\\033[0m\", '\\n','\\n')\n",
        "\n",
        "# Print the individual features error in a horizontal format\n",
        "display(feature_reconstruction_error_df)"
      ]
    },
    {
      "cell_type": "markdown",
      "id": "Nr2MdqXlwPRA",
      "metadata": {
        "id": "Nr2MdqXlwPRA"
      },
      "source": [
        "You can see that certain features have very low error, but some might have an error as high as 0.2. However, overall the error rate is 0.04 and thus, we can move forward.\n",
        "\n",
        "Let us now move towards finding the reduced features. This is done in the following steps.\n",
        "\n",
        "**Extract the encoder part of the autoencoder**:\n",
        "You will extract the encoder part of the autoencoder, which compresses the data into a reduced-dimensional representation. This part includes the first three layers of the model.\n",
        "\n",
        "Use the encoder to obtain the reduced-dimensional representation:\n",
        "We use the encoder to transform the input test data `(X_test)` into a reduced-dimensional representation `(X_encoded_test)`. This represents an encoded version of the input data."
      ]
    },
    {
      "cell_type": "code",
      "execution_count": null,
      "id": "pvDj7316wPRA",
      "metadata": {
        "id": "pvDj7316wPRA",
        "scrolled": true
      },
      "outputs": [],
      "source": [
        "# Re-create the encoder from the layers of the successfully trained model\n",
        "encoder = Sequential(model.layers[:3])\n",
        "X_encoded_test = encoder.predict(X[cols_to_scale]) # Use the scaled features for prediction"
      ]
    },
    {
      "cell_type": "code",
      "execution_count": null,
      "id": "bmIW_EmxwPRB",
      "metadata": {
        "id": "bmIW_EmxwPRB"
      },
      "outputs": [],
      "source": [
        "\n",
        "# ── NUEVO: añade la columna Date al DataFrame codificado ──\n",
        "dates = df['Date'].reset_index(drop=True)                 # 1) copia la fecha\n",
        "features_enc = pd.DataFrame(                              # 2) crea el DF codificado\n",
        "    X_encoded_test,\n",
        "    columns=[f'Encoded_{i}' for i in range(X_encoded_test.shape[1])]\n",
        ")\n",
        "features_enc.insert(0, 'Date', dates)\n",
        "features_enc.head(5)"
      ]
    },
    {
      "cell_type": "code",
      "execution_count": null,
      "id": "B-uYkk3_e3wF",
      "metadata": {
        "id": "B-uYkk3_e3wF"
      },
      "outputs": [],
      "source": [
        "features_enc.shape"
      ]
    },
    {
      "cell_type": "code",
      "execution_count": null,
      "id": "d3614702",
      "metadata": {
        "id": "d3614702"
      },
      "outputs": [],
      "source": [
        "### Save the encoder model\n",
        "\n",
        "encoder_save_path = root_data+'Models/'+symbol+'_'+direction+'_'+data_type+'_ahm_encoder_model.keras'\n",
        "os.makedirs(os.path.dirname(encoder_save_path), exist_ok=True)\n",
        "encoder.save(encoder_save_path)\n",
        "print(f\"Encoder model saved successfully at: {encoder_save_path}\")"
      ]
    },
    {
      "cell_type": "code",
      "execution_count": null,
      "id": "lHzi4304z00U",
      "metadata": {
        "id": "lHzi4304z00U"
      },
      "outputs": [],
      "source": [
        "features_enc.to_csv(root_data+'Results/'+symbol+'_'+direction+'_M5M10_Enc_Features.csv')"
      ]
    },
    {
      "cell_type": "markdown",
      "id": "kEzuAKPE3KBb",
      "metadata": {
        "id": "kEzuAKPE3KBb"
      },
      "source": [
        "# Varios"
      ]
    }
  ],
  "metadata": {
    "accelerator": "GPU",
    "colab": {
      "collapsed_sections": [
        "Ysa-7eLvEMpE",
        "m8CIB8vltFfH",
        "y6QRdBKwrX98",
        "zhTndYVi1TEV",
        "jh9-mi26wsya",
        "Hv5bsrpc03z7",
        "2RFfhHT2AwAJ"
      ],
      "gpuType": "T4",
      "machine_shape": "hm",
      "provenance": []
    },
    "kernelspec": {
      "display_name": "Python 3",
      "name": "python3"
    },
    "language_info": {
      "codemirror_mode": {
        "name": "ipython",
        "version": 3
      },
      "file_extension": ".py",
      "mimetype": "text/x-python",
      "name": "python",
      "nbconvert_exporter": "python",
      "pygments_lexer": "ipython3",
      "version": "3.9.5"
    },
    "widgets": {
      "application/vnd.jupyter.widget-state+json": {
        "bd79bf72f90f4f7f91fe7500705bbc55": {
          "model_module": "@jupyter-widgets/controls",
          "model_name": "HBoxModel",
          "model_module_version": "1.5.0",
          "state": {
            "_dom_classes": [],
            "_model_module": "@jupyter-widgets/controls",
            "_model_module_version": "1.5.0",
            "_model_name": "HBoxModel",
            "_view_count": null,
            "_view_module": "@jupyter-widgets/controls",
            "_view_module_version": "1.5.0",
            "_view_name": "HBoxView",
            "box_style": "",
            "children": [
              "IPY_MODEL_389b6839560b43df82a0bcdb7224815c",
              "IPY_MODEL_fb67f4b9c05749caa0939c5415719abe",
              "IPY_MODEL_c66523b75e2d4b44962c22408338bb4e"
            ],
            "layout": "IPY_MODEL_60706de89e994217918338623cc5836b"
          }
        },
        "389b6839560b43df82a0bcdb7224815c": {
          "model_module": "@jupyter-widgets/controls",
          "model_name": "HTMLModel",
          "model_module_version": "1.5.0",
          "state": {
            "_dom_classes": [],
            "_model_module": "@jupyter-widgets/controls",
            "_model_module_version": "1.5.0",
            "_model_name": "HTMLModel",
            "_view_count": null,
            "_view_module": "@jupyter-widgets/controls",
            "_view_module_version": "1.5.0",
            "_view_name": "HTMLView",
            "description": "",
            "description_tooltip": null,
            "layout": "IPY_MODEL_470a8c37066241acb6c61d0c95fe6fb0",
            "placeholder": "​",
            "style": "IPY_MODEL_1085e8c8a95942aeaee51ba7eeeaca76",
            "value": "Calculating Period Indicators: 100%"
          }
        },
        "fb67f4b9c05749caa0939c5415719abe": {
          "model_module": "@jupyter-widgets/controls",
          "model_name": "FloatProgressModel",
          "model_module_version": "1.5.0",
          "state": {
            "_dom_classes": [],
            "_model_module": "@jupyter-widgets/controls",
            "_model_module_version": "1.5.0",
            "_model_name": "FloatProgressModel",
            "_view_count": null,
            "_view_module": "@jupyter-widgets/controls",
            "_view_module_version": "1.5.0",
            "_view_name": "ProgressView",
            "bar_style": "success",
            "description": "",
            "description_tooltip": null,
            "layout": "IPY_MODEL_448973479c4d4d4581b880dc1fe3be14",
            "max": 14,
            "min": 0,
            "orientation": "horizontal",
            "style": "IPY_MODEL_6fa0d7d766554571adaf830da2b0769f",
            "value": 14
          }
        },
        "c66523b75e2d4b44962c22408338bb4e": {
          "model_module": "@jupyter-widgets/controls",
          "model_name": "HTMLModel",
          "model_module_version": "1.5.0",
          "state": {
            "_dom_classes": [],
            "_model_module": "@jupyter-widgets/controls",
            "_model_module_version": "1.5.0",
            "_model_name": "HTMLModel",
            "_view_count": null,
            "_view_module": "@jupyter-widgets/controls",
            "_view_module_version": "1.5.0",
            "_view_name": "HTMLView",
            "description": "",
            "description_tooltip": null,
            "layout": "IPY_MODEL_8db02bda7872486dac7149eaf7eacdc1",
            "placeholder": "​",
            "style": "IPY_MODEL_650c7ec7685c45169151a34081113249",
            "value": " 14/14 [00:00&lt;00:00, 77.98it/s]"
          }
        },
        "60706de89e994217918338623cc5836b": {
          "model_module": "@jupyter-widgets/base",
          "model_name": "LayoutModel",
          "model_module_version": "1.2.0",
          "state": {
            "_model_module": "@jupyter-widgets/base",
            "_model_module_version": "1.2.0",
            "_model_name": "LayoutModel",
            "_view_count": null,
            "_view_module": "@jupyter-widgets/base",
            "_view_module_version": "1.2.0",
            "_view_name": "LayoutView",
            "align_content": null,
            "align_items": null,
            "align_self": null,
            "border": null,
            "bottom": null,
            "display": null,
            "flex": null,
            "flex_flow": null,
            "grid_area": null,
            "grid_auto_columns": null,
            "grid_auto_flow": null,
            "grid_auto_rows": null,
            "grid_column": null,
            "grid_gap": null,
            "grid_row": null,
            "grid_template_areas": null,
            "grid_template_columns": null,
            "grid_template_rows": null,
            "height": null,
            "justify_content": null,
            "justify_items": null,
            "left": null,
            "margin": null,
            "max_height": null,
            "max_width": null,
            "min_height": null,
            "min_width": null,
            "object_fit": null,
            "object_position": null,
            "order": null,
            "overflow": null,
            "overflow_x": null,
            "overflow_y": null,
            "padding": null,
            "right": null,
            "top": null,
            "visibility": null,
            "width": null
          }
        },
        "470a8c37066241acb6c61d0c95fe6fb0": {
          "model_module": "@jupyter-widgets/base",
          "model_name": "LayoutModel",
          "model_module_version": "1.2.0",
          "state": {
            "_model_module": "@jupyter-widgets/base",
            "_model_module_version": "1.2.0",
            "_model_name": "LayoutModel",
            "_view_count": null,
            "_view_module": "@jupyter-widgets/base",
            "_view_module_version": "1.2.0",
            "_view_name": "LayoutView",
            "align_content": null,
            "align_items": null,
            "align_self": null,
            "border": null,
            "bottom": null,
            "display": null,
            "flex": null,
            "flex_flow": null,
            "grid_area": null,
            "grid_auto_columns": null,
            "grid_auto_flow": null,
            "grid_auto_rows": null,
            "grid_column": null,
            "grid_gap": null,
            "grid_row": null,
            "grid_template_areas": null,
            "grid_template_columns": null,
            "grid_template_rows": null,
            "height": null,
            "justify_content": null,
            "justify_items": null,
            "left": null,
            "margin": null,
            "max_height": null,
            "max_width": null,
            "min_height": null,
            "min_width": null,
            "object_fit": null,
            "object_position": null,
            "order": null,
            "overflow": null,
            "overflow_x": null,
            "overflow_y": null,
            "padding": null,
            "right": null,
            "top": null,
            "visibility": null,
            "width": null
          }
        },
        "1085e8c8a95942aeaee51ba7eeeaca76": {
          "model_module": "@jupyter-widgets/controls",
          "model_name": "DescriptionStyleModel",
          "model_module_version": "1.5.0",
          "state": {
            "_model_module": "@jupyter-widgets/controls",
            "_model_module_version": "1.5.0",
            "_model_name": "DescriptionStyleModel",
            "_view_count": null,
            "_view_module": "@jupyter-widgets/base",
            "_view_module_version": "1.2.0",
            "_view_name": "StyleView",
            "description_width": ""
          }
        },
        "448973479c4d4d4581b880dc1fe3be14": {
          "model_module": "@jupyter-widgets/base",
          "model_name": "LayoutModel",
          "model_module_version": "1.2.0",
          "state": {
            "_model_module": "@jupyter-widgets/base",
            "_model_module_version": "1.2.0",
            "_model_name": "LayoutModel",
            "_view_count": null,
            "_view_module": "@jupyter-widgets/base",
            "_view_module_version": "1.2.0",
            "_view_name": "LayoutView",
            "align_content": null,
            "align_items": null,
            "align_self": null,
            "border": null,
            "bottom": null,
            "display": null,
            "flex": null,
            "flex_flow": null,
            "grid_area": null,
            "grid_auto_columns": null,
            "grid_auto_flow": null,
            "grid_auto_rows": null,
            "grid_column": null,
            "grid_gap": null,
            "grid_row": null,
            "grid_template_areas": null,
            "grid_template_columns": null,
            "grid_template_rows": null,
            "height": null,
            "justify_content": null,
            "justify_items": null,
            "left": null,
            "margin": null,
            "max_height": null,
            "max_width": null,
            "min_height": null,
            "min_width": null,
            "object_fit": null,
            "object_position": null,
            "order": null,
            "overflow": null,
            "overflow_x": null,
            "overflow_y": null,
            "padding": null,
            "right": null,
            "top": null,
            "visibility": null,
            "width": null
          }
        },
        "6fa0d7d766554571adaf830da2b0769f": {
          "model_module": "@jupyter-widgets/controls",
          "model_name": "ProgressStyleModel",
          "model_module_version": "1.5.0",
          "state": {
            "_model_module": "@jupyter-widgets/controls",
            "_model_module_version": "1.5.0",
            "_model_name": "ProgressStyleModel",
            "_view_count": null,
            "_view_module": "@jupyter-widgets/base",
            "_view_module_version": "1.2.0",
            "_view_name": "StyleView",
            "bar_color": null,
            "description_width": ""
          }
        },
        "8db02bda7872486dac7149eaf7eacdc1": {
          "model_module": "@jupyter-widgets/base",
          "model_name": "LayoutModel",
          "model_module_version": "1.2.0",
          "state": {
            "_model_module": "@jupyter-widgets/base",
            "_model_module_version": "1.2.0",
            "_model_name": "LayoutModel",
            "_view_count": null,
            "_view_module": "@jupyter-widgets/base",
            "_view_module_version": "1.2.0",
            "_view_name": "LayoutView",
            "align_content": null,
            "align_items": null,
            "align_self": null,
            "border": null,
            "bottom": null,
            "display": null,
            "flex": null,
            "flex_flow": null,
            "grid_area": null,
            "grid_auto_columns": null,
            "grid_auto_flow": null,
            "grid_auto_rows": null,
            "grid_column": null,
            "grid_gap": null,
            "grid_row": null,
            "grid_template_areas": null,
            "grid_template_columns": null,
            "grid_template_rows": null,
            "height": null,
            "justify_content": null,
            "justify_items": null,
            "left": null,
            "margin": null,
            "max_height": null,
            "max_width": null,
            "min_height": null,
            "min_width": null,
            "object_fit": null,
            "object_position": null,
            "order": null,
            "overflow": null,
            "overflow_x": null,
            "overflow_y": null,
            "padding": null,
            "right": null,
            "top": null,
            "visibility": null,
            "width": null
          }
        },
        "650c7ec7685c45169151a34081113249": {
          "model_module": "@jupyter-widgets/controls",
          "model_name": "DescriptionStyleModel",
          "model_module_version": "1.5.0",
          "state": {
            "_model_module": "@jupyter-widgets/controls",
            "_model_module_version": "1.5.0",
            "_model_name": "DescriptionStyleModel",
            "_view_count": null,
            "_view_module": "@jupyter-widgets/base",
            "_view_module_version": "1.2.0",
            "_view_name": "StyleView",
            "description_width": ""
          }
        },
        "93dfaa643346467da50aa52f0de231eb": {
          "model_module": "@jupyter-widgets/controls",
          "model_name": "HBoxModel",
          "model_module_version": "1.5.0",
          "state": {
            "_dom_classes": [],
            "_model_module": "@jupyter-widgets/controls",
            "_model_module_version": "1.5.0",
            "_model_name": "HBoxModel",
            "_view_count": null,
            "_view_module": "@jupyter-widgets/controls",
            "_view_module_version": "1.5.0",
            "_view_name": "HBoxView",
            "box_style": "",
            "children": [
              "IPY_MODEL_2718eeb3b1a44518b20d58bd6fc6e9fd",
              "IPY_MODEL_96fabcbb3e7a425ca8802fb3c863812c",
              "IPY_MODEL_9a6fe07caa214dbfa9e64bd1b89d426e"
            ],
            "layout": "IPY_MODEL_df6d93091af048f0bf18e472d22dff53"
          }
        },
        "2718eeb3b1a44518b20d58bd6fc6e9fd": {
          "model_module": "@jupyter-widgets/controls",
          "model_name": "HTMLModel",
          "model_module_version": "1.5.0",
          "state": {
            "_dom_classes": [],
            "_model_module": "@jupyter-widgets/controls",
            "_model_module_version": "1.5.0",
            "_model_name": "HTMLModel",
            "_view_count": null,
            "_view_module": "@jupyter-widgets/controls",
            "_view_module_version": "1.5.0",
            "_view_name": "HTMLView",
            "description": "",
            "description_tooltip": null,
            "layout": "IPY_MODEL_ee920f47c2a743b2808007aafedb6be9",
            "placeholder": "​",
            "style": "IPY_MODEL_4d376082afea47febe3912fe57b37050",
            "value": "Calculating SMA/EMA Crossovers: 100%"
          }
        },
        "96fabcbb3e7a425ca8802fb3c863812c": {
          "model_module": "@jupyter-widgets/controls",
          "model_name": "FloatProgressModel",
          "model_module_version": "1.5.0",
          "state": {
            "_dom_classes": [],
            "_model_module": "@jupyter-widgets/controls",
            "_model_module_version": "1.5.0",
            "_model_name": "FloatProgressModel",
            "_view_count": null,
            "_view_module": "@jupyter-widgets/controls",
            "_view_module_version": "1.5.0",
            "_view_name": "ProgressView",
            "bar_style": "success",
            "description": "",
            "description_tooltip": null,
            "layout": "IPY_MODEL_dfd93715d33941f693ec4ced80bb3faf",
            "max": 14,
            "min": 0,
            "orientation": "horizontal",
            "style": "IPY_MODEL_0678ad313c4c41df879c98d0e798c74b",
            "value": 14
          }
        },
        "9a6fe07caa214dbfa9e64bd1b89d426e": {
          "model_module": "@jupyter-widgets/controls",
          "model_name": "HTMLModel",
          "model_module_version": "1.5.0",
          "state": {
            "_dom_classes": [],
            "_model_module": "@jupyter-widgets/controls",
            "_model_module_version": "1.5.0",
            "_model_name": "HTMLModel",
            "_view_count": null,
            "_view_module": "@jupyter-widgets/controls",
            "_view_module_version": "1.5.0",
            "_view_name": "HTMLView",
            "description": "",
            "description_tooltip": null,
            "layout": "IPY_MODEL_32ae5fbc3ff54b9584c484f1b244fb2f",
            "placeholder": "​",
            "style": "IPY_MODEL_0268c6d687844fcab308a8864bc77d05",
            "value": " 14/14 [00:01&lt;00:00,  7.85it/s]"
          }
        },
        "df6d93091af048f0bf18e472d22dff53": {
          "model_module": "@jupyter-widgets/base",
          "model_name": "LayoutModel",
          "model_module_version": "1.2.0",
          "state": {
            "_model_module": "@jupyter-widgets/base",
            "_model_module_version": "1.2.0",
            "_model_name": "LayoutModel",
            "_view_count": null,
            "_view_module": "@jupyter-widgets/base",
            "_view_module_version": "1.2.0",
            "_view_name": "LayoutView",
            "align_content": null,
            "align_items": null,
            "align_self": null,
            "border": null,
            "bottom": null,
            "display": null,
            "flex": null,
            "flex_flow": null,
            "grid_area": null,
            "grid_auto_columns": null,
            "grid_auto_flow": null,
            "grid_auto_rows": null,
            "grid_column": null,
            "grid_gap": null,
            "grid_row": null,
            "grid_template_areas": null,
            "grid_template_columns": null,
            "grid_template_rows": null,
            "height": null,
            "justify_content": null,
            "justify_items": null,
            "left": null,
            "margin": null,
            "max_height": null,
            "max_width": null,
            "min_height": null,
            "min_width": null,
            "object_fit": null,
            "object_position": null,
            "order": null,
            "overflow": null,
            "overflow_x": null,
            "overflow_y": null,
            "padding": null,
            "right": null,
            "top": null,
            "visibility": null,
            "width": null
          }
        },
        "ee920f47c2a743b2808007aafedb6be9": {
          "model_module": "@jupyter-widgets/base",
          "model_name": "LayoutModel",
          "model_module_version": "1.2.0",
          "state": {
            "_model_module": "@jupyter-widgets/base",
            "_model_module_version": "1.2.0",
            "_model_name": "LayoutModel",
            "_view_count": null,
            "_view_module": "@jupyter-widgets/base",
            "_view_module_version": "1.2.0",
            "_view_name": "LayoutView",
            "align_content": null,
            "align_items": null,
            "align_self": null,
            "border": null,
            "bottom": null,
            "display": null,
            "flex": null,
            "flex_flow": null,
            "grid_area": null,
            "grid_auto_columns": null,
            "grid_auto_flow": null,
            "grid_auto_rows": null,
            "grid_column": null,
            "grid_gap": null,
            "grid_row": null,
            "grid_template_areas": null,
            "grid_template_columns": null,
            "grid_template_rows": null,
            "height": null,
            "justify_content": null,
            "justify_items": null,
            "left": null,
            "margin": null,
            "max_height": null,
            "max_width": null,
            "min_height": null,
            "min_width": null,
            "object_fit": null,
            "object_position": null,
            "order": null,
            "overflow": null,
            "overflow_x": null,
            "overflow_y": null,
            "padding": null,
            "right": null,
            "top": null,
            "visibility": null,
            "width": null
          }
        },
        "4d376082afea47febe3912fe57b37050": {
          "model_module": "@jupyter-widgets/controls",
          "model_name": "DescriptionStyleModel",
          "model_module_version": "1.5.0",
          "state": {
            "_model_module": "@jupyter-widgets/controls",
            "_model_module_version": "1.5.0",
            "_model_name": "DescriptionStyleModel",
            "_view_count": null,
            "_view_module": "@jupyter-widgets/base",
            "_view_module_version": "1.2.0",
            "_view_name": "StyleView",
            "description_width": ""
          }
        },
        "dfd93715d33941f693ec4ced80bb3faf": {
          "model_module": "@jupyter-widgets/base",
          "model_name": "LayoutModel",
          "model_module_version": "1.2.0",
          "state": {
            "_model_module": "@jupyter-widgets/base",
            "_model_module_version": "1.2.0",
            "_model_name": "LayoutModel",
            "_view_count": null,
            "_view_module": "@jupyter-widgets/base",
            "_view_module_version": "1.2.0",
            "_view_name": "LayoutView",
            "align_content": null,
            "align_items": null,
            "align_self": null,
            "border": null,
            "bottom": null,
            "display": null,
            "flex": null,
            "flex_flow": null,
            "grid_area": null,
            "grid_auto_columns": null,
            "grid_auto_flow": null,
            "grid_auto_rows": null,
            "grid_column": null,
            "grid_gap": null,
            "grid_row": null,
            "grid_template_areas": null,
            "grid_template_columns": null,
            "grid_template_rows": null,
            "height": null,
            "justify_content": null,
            "justify_items": null,
            "left": null,
            "margin": null,
            "max_height": null,
            "max_width": null,
            "min_height": null,
            "min_width": null,
            "object_fit": null,
            "object_position": null,
            "order": null,
            "overflow": null,
            "overflow_x": null,
            "overflow_y": null,
            "padding": null,
            "right": null,
            "top": null,
            "visibility": null,
            "width": null
          }
        },
        "0678ad313c4c41df879c98d0e798c74b": {
          "model_module": "@jupyter-widgets/controls",
          "model_name": "ProgressStyleModel",
          "model_module_version": "1.5.0",
          "state": {
            "_model_module": "@jupyter-widgets/controls",
            "_model_module_version": "1.5.0",
            "_model_name": "ProgressStyleModel",
            "_view_count": null,
            "_view_module": "@jupyter-widgets/base",
            "_view_module_version": "1.2.0",
            "_view_name": "StyleView",
            "bar_color": null,
            "description_width": ""
          }
        },
        "32ae5fbc3ff54b9584c484f1b244fb2f": {
          "model_module": "@jupyter-widgets/base",
          "model_name": "LayoutModel",
          "model_module_version": "1.2.0",
          "state": {
            "_model_module": "@jupyter-widgets/base",
            "_model_module_version": "1.2.0",
            "_model_name": "LayoutModel",
            "_view_count": null,
            "_view_module": "@jupyter-widgets/base",
            "_view_module_version": "1.2.0",
            "_view_name": "LayoutView",
            "align_content": null,
            "align_items": null,
            "align_self": null,
            "border": null,
            "bottom": null,
            "display": null,
            "flex": null,
            "flex_flow": null,
            "grid_area": null,
            "grid_auto_columns": null,
            "grid_auto_flow": null,
            "grid_auto_rows": null,
            "grid_column": null,
            "grid_gap": null,
            "grid_row": null,
            "grid_template_areas": null,
            "grid_template_columns": null,
            "grid_template_rows": null,
            "height": null,
            "justify_content": null,
            "justify_items": null,
            "left": null,
            "margin": null,
            "max_height": null,
            "max_width": null,
            "min_height": null,
            "min_width": null,
            "object_fit": null,
            "object_position": null,
            "order": null,
            "overflow": null,
            "overflow_x": null,
            "overflow_y": null,
            "padding": null,
            "right": null,
            "top": null,
            "visibility": null,
            "width": null
          }
        },
        "0268c6d687844fcab308a8864bc77d05": {
          "model_module": "@jupyter-widgets/controls",
          "model_name": "DescriptionStyleModel",
          "model_module_version": "1.5.0",
          "state": {
            "_model_module": "@jupyter-widgets/controls",
            "_model_module_version": "1.5.0",
            "_model_name": "DescriptionStyleModel",
            "_view_count": null,
            "_view_module": "@jupyter-widgets/base",
            "_view_module_version": "1.2.0",
            "_view_name": "StyleView",
            "description_width": ""
          }
        },
        "e5d44b768c764616bcdcdc7e979fd982": {
          "model_module": "@jupyter-widgets/controls",
          "model_name": "HBoxModel",
          "model_module_version": "1.5.0",
          "state": {
            "_dom_classes": [],
            "_model_module": "@jupyter-widgets/controls",
            "_model_module_version": "1.5.0",
            "_model_name": "HBoxModel",
            "_view_count": null,
            "_view_module": "@jupyter-widgets/controls",
            "_view_module_version": "1.5.0",
            "_view_name": "HBoxView",
            "box_style": "",
            "children": [
              "IPY_MODEL_ac9c66f3097b432ab6a2c4036806ccab",
              "IPY_MODEL_585bf3f7940e4023bb94517677b3e240",
              "IPY_MODEL_34dad961d3be462799d995a70cbf7c49"
            ],
            "layout": "IPY_MODEL_013073d5841c440ab8e0b58786bca48a"
          }
        },
        "ac9c66f3097b432ab6a2c4036806ccab": {
          "model_module": "@jupyter-widgets/controls",
          "model_name": "HTMLModel",
          "model_module_version": "1.5.0",
          "state": {
            "_dom_classes": [],
            "_model_module": "@jupyter-widgets/controls",
            "_model_module_version": "1.5.0",
            "_model_name": "HTMLModel",
            "_view_count": null,
            "_view_module": "@jupyter-widgets/controls",
            "_view_module_version": "1.5.0",
            "_view_name": "HTMLView",
            "description": "",
            "description_tooltip": null,
            "layout": "IPY_MODEL_8d04cb0d07f64a49bf77454226c1f0b8",
            "placeholder": "​",
            "style": "IPY_MODEL_210c606bcfca4fa48f345da0b7491a46",
            "value": "Calculating Kalman and Derivatives: 100%"
          }
        },
        "585bf3f7940e4023bb94517677b3e240": {
          "model_module": "@jupyter-widgets/controls",
          "model_name": "FloatProgressModel",
          "model_module_version": "1.5.0",
          "state": {
            "_dom_classes": [],
            "_model_module": "@jupyter-widgets/controls",
            "_model_module_version": "1.5.0",
            "_model_name": "FloatProgressModel",
            "_view_count": null,
            "_view_module": "@jupyter-widgets/controls",
            "_view_module_version": "1.5.0",
            "_view_name": "ProgressView",
            "bar_style": "success",
            "description": "",
            "description_tooltip": null,
            "layout": "IPY_MODEL_bcf771f204284660bb5e3d2677dffb7b",
            "max": 5,
            "min": 0,
            "orientation": "horizontal",
            "style": "IPY_MODEL_722663fb5ed246ed8096a0a0b5d1d5cd",
            "value": 5
          }
        },
        "34dad961d3be462799d995a70cbf7c49": {
          "model_module": "@jupyter-widgets/controls",
          "model_name": "HTMLModel",
          "model_module_version": "1.5.0",
          "state": {
            "_dom_classes": [],
            "_model_module": "@jupyter-widgets/controls",
            "_model_module_version": "1.5.0",
            "_model_name": "HTMLModel",
            "_view_count": null,
            "_view_module": "@jupyter-widgets/controls",
            "_view_module_version": "1.5.0",
            "_view_name": "HTMLView",
            "description": "",
            "description_tooltip": null,
            "layout": "IPY_MODEL_40476e5796124a59804e0843247a270a",
            "placeholder": "​",
            "style": "IPY_MODEL_3d862cedda7f4af09c495540540c08c3",
            "value": " 5/5 [00:09&lt;00:00,  1.93s/it]"
          }
        },
        "013073d5841c440ab8e0b58786bca48a": {
          "model_module": "@jupyter-widgets/base",
          "model_name": "LayoutModel",
          "model_module_version": "1.2.0",
          "state": {
            "_model_module": "@jupyter-widgets/base",
            "_model_module_version": "1.2.0",
            "_model_name": "LayoutModel",
            "_view_count": null,
            "_view_module": "@jupyter-widgets/base",
            "_view_module_version": "1.2.0",
            "_view_name": "LayoutView",
            "align_content": null,
            "align_items": null,
            "align_self": null,
            "border": null,
            "bottom": null,
            "display": null,
            "flex": null,
            "flex_flow": null,
            "grid_area": null,
            "grid_auto_columns": null,
            "grid_auto_flow": null,
            "grid_auto_rows": null,
            "grid_column": null,
            "grid_gap": null,
            "grid_row": null,
            "grid_template_areas": null,
            "grid_template_columns": null,
            "grid_template_rows": null,
            "height": null,
            "justify_content": null,
            "justify_items": null,
            "left": null,
            "margin": null,
            "max_height": null,
            "max_width": null,
            "min_height": null,
            "min_width": null,
            "object_fit": null,
            "object_position": null,
            "order": null,
            "overflow": null,
            "overflow_x": null,
            "overflow_y": null,
            "padding": null,
            "right": null,
            "top": null,
            "visibility": null,
            "width": null
          }
        },
        "8d04cb0d07f64a49bf77454226c1f0b8": {
          "model_module": "@jupyter-widgets/base",
          "model_name": "LayoutModel",
          "model_module_version": "1.2.0",
          "state": {
            "_model_module": "@jupyter-widgets/base",
            "_model_module_version": "1.2.0",
            "_model_name": "LayoutModel",
            "_view_count": null,
            "_view_module": "@jupyter-widgets/base",
            "_view_module_version": "1.2.0",
            "_view_name": "LayoutView",
            "align_content": null,
            "align_items": null,
            "align_self": null,
            "border": null,
            "bottom": null,
            "display": null,
            "flex": null,
            "flex_flow": null,
            "grid_area": null,
            "grid_auto_columns": null,
            "grid_auto_flow": null,
            "grid_auto_rows": null,
            "grid_column": null,
            "grid_gap": null,
            "grid_row": null,
            "grid_template_areas": null,
            "grid_template_columns": null,
            "grid_template_rows": null,
            "height": null,
            "justify_content": null,
            "justify_items": null,
            "left": null,
            "margin": null,
            "max_height": null,
            "max_width": null,
            "min_height": null,
            "min_width": null,
            "object_fit": null,
            "object_position": null,
            "order": null,
            "overflow": null,
            "overflow_x": null,
            "overflow_y": null,
            "padding": null,
            "right": null,
            "top": null,
            "visibility": null,
            "width": null
          }
        },
        "210c606bcfca4fa48f345da0b7491a46": {
          "model_module": "@jupyter-widgets/controls",
          "model_name": "DescriptionStyleModel",
          "model_module_version": "1.5.0",
          "state": {
            "_model_module": "@jupyter-widgets/controls",
            "_model_module_version": "1.5.0",
            "_model_name": "DescriptionStyleModel",
            "_view_count": null,
            "_view_module": "@jupyter-widgets/base",
            "_view_module_version": "1.2.0",
            "_view_name": "StyleView",
            "description_width": ""
          }
        },
        "bcf771f204284660bb5e3d2677dffb7b": {
          "model_module": "@jupyter-widgets/base",
          "model_name": "LayoutModel",
          "model_module_version": "1.2.0",
          "state": {
            "_model_module": "@jupyter-widgets/base",
            "_model_module_version": "1.2.0",
            "_model_name": "LayoutModel",
            "_view_count": null,
            "_view_module": "@jupyter-widgets/base",
            "_view_module_version": "1.2.0",
            "_view_name": "LayoutView",
            "align_content": null,
            "align_items": null,
            "align_self": null,
            "border": null,
            "bottom": null,
            "display": null,
            "flex": null,
            "flex_flow": null,
            "grid_area": null,
            "grid_auto_columns": null,
            "grid_auto_flow": null,
            "grid_auto_rows": null,
            "grid_column": null,
            "grid_gap": null,
            "grid_row": null,
            "grid_template_areas": null,
            "grid_template_columns": null,
            "grid_template_rows": null,
            "height": null,
            "justify_content": null,
            "justify_items": null,
            "left": null,
            "margin": null,
            "max_height": null,
            "max_width": null,
            "min_height": null,
            "min_width": null,
            "object_fit": null,
            "object_position": null,
            "order": null,
            "overflow": null,
            "overflow_x": null,
            "overflow_y": null,
            "padding": null,
            "right": null,
            "top": null,
            "visibility": null,
            "width": null
          }
        },
        "722663fb5ed246ed8096a0a0b5d1d5cd": {
          "model_module": "@jupyter-widgets/controls",
          "model_name": "ProgressStyleModel",
          "model_module_version": "1.5.0",
          "state": {
            "_model_module": "@jupyter-widgets/controls",
            "_model_module_version": "1.5.0",
            "_model_name": "ProgressStyleModel",
            "_view_count": null,
            "_view_module": "@jupyter-widgets/base",
            "_view_module_version": "1.2.0",
            "_view_name": "StyleView",
            "bar_color": null,
            "description_width": ""
          }
        },
        "40476e5796124a59804e0843247a270a": {
          "model_module": "@jupyter-widgets/base",
          "model_name": "LayoutModel",
          "model_module_version": "1.2.0",
          "state": {
            "_model_module": "@jupyter-widgets/base",
            "_model_module_version": "1.2.0",
            "_model_name": "LayoutModel",
            "_view_count": null,
            "_view_module": "@jupyter-widgets/base",
            "_view_module_version": "1.2.0",
            "_view_name": "LayoutView",
            "align_content": null,
            "align_items": null,
            "align_self": null,
            "border": null,
            "bottom": null,
            "display": null,
            "flex": null,
            "flex_flow": null,
            "grid_area": null,
            "grid_auto_columns": null,
            "grid_auto_flow": null,
            "grid_auto_rows": null,
            "grid_column": null,
            "grid_gap": null,
            "grid_row": null,
            "grid_template_areas": null,
            "grid_template_columns": null,
            "grid_template_rows": null,
            "height": null,
            "justify_content": null,
            "justify_items": null,
            "left": null,
            "margin": null,
            "max_height": null,
            "max_width": null,
            "min_height": null,
            "min_width": null,
            "object_fit": null,
            "object_position": null,
            "order": null,
            "overflow": null,
            "overflow_x": null,
            "overflow_y": null,
            "padding": null,
            "right": null,
            "top": null,
            "visibility": null,
            "width": null
          }
        },
        "3d862cedda7f4af09c495540540c08c3": {
          "model_module": "@jupyter-widgets/controls",
          "model_name": "DescriptionStyleModel",
          "model_module_version": "1.5.0",
          "state": {
            "_model_module": "@jupyter-widgets/controls",
            "_model_module_version": "1.5.0",
            "_model_name": "DescriptionStyleModel",
            "_view_count": null,
            "_view_module": "@jupyter-widgets/base",
            "_view_module_version": "1.2.0",
            "_view_name": "StyleView",
            "description_width": ""
          }
        },
        "180a7307bf10457e9ff5c8c1a5bf5fca": {
          "model_module": "@jupyter-widgets/controls",
          "model_name": "HBoxModel",
          "model_module_version": "1.5.0",
          "state": {
            "_dom_classes": [],
            "_model_module": "@jupyter-widgets/controls",
            "_model_module_version": "1.5.0",
            "_model_name": "HBoxModel",
            "_view_count": null,
            "_view_module": "@jupyter-widgets/controls",
            "_view_module_version": "1.5.0",
            "_view_name": "HBoxView",
            "box_style": "",
            "children": [
              "IPY_MODEL_edfc67f7a0f74b2c8426faf585a6678b",
              "IPY_MODEL_20c716b33dc34d4ea8177cdbb2b33fb1",
              "IPY_MODEL_d5c3116b21fa4e6990cc5af4d86fd0de"
            ],
            "layout": "IPY_MODEL_3833c01ceec9448fb66526be0ca0aea4"
          }
        },
        "edfc67f7a0f74b2c8426faf585a6678b": {
          "model_module": "@jupyter-widgets/controls",
          "model_name": "HTMLModel",
          "model_module_version": "1.5.0",
          "state": {
            "_dom_classes": [],
            "_model_module": "@jupyter-widgets/controls",
            "_model_module_version": "1.5.0",
            "_model_name": "HTMLModel",
            "_view_count": null,
            "_view_module": "@jupyter-widgets/controls",
            "_view_module_version": "1.5.0",
            "_view_name": "HTMLView",
            "description": "",
            "description_tooltip": null,
            "layout": "IPY_MODEL_5dea014b2be24d3e85be931bad0e99b1",
            "placeholder": "​",
            "style": "IPY_MODEL_47e0e5db49304ebcb493a59831632ff5",
            "value": "Calculating Slopes:  60%"
          }
        },
        "20c716b33dc34d4ea8177cdbb2b33fb1": {
          "model_module": "@jupyter-widgets/controls",
          "model_name": "FloatProgressModel",
          "model_module_version": "1.5.0",
          "state": {
            "_dom_classes": [],
            "_model_module": "@jupyter-widgets/controls",
            "_model_module_version": "1.5.0",
            "_model_name": "FloatProgressModel",
            "_view_count": null,
            "_view_module": "@jupyter-widgets/controls",
            "_view_module_version": "1.5.0",
            "_view_name": "ProgressView",
            "bar_style": "",
            "description": "",
            "description_tooltip": null,
            "layout": "IPY_MODEL_730fe3134946412caa42e2ced90126d2",
            "max": 5,
            "min": 0,
            "orientation": "horizontal",
            "style": "IPY_MODEL_1b32b00300464f30a4122d3ac66277f7",
            "value": 3
          }
        },
        "d5c3116b21fa4e6990cc5af4d86fd0de": {
          "model_module": "@jupyter-widgets/controls",
          "model_name": "HTMLModel",
          "model_module_version": "1.5.0",
          "state": {
            "_dom_classes": [],
            "_model_module": "@jupyter-widgets/controls",
            "_model_module_version": "1.5.0",
            "_model_name": "HTMLModel",
            "_view_count": null,
            "_view_module": "@jupyter-widgets/controls",
            "_view_module_version": "1.5.0",
            "_view_name": "HTMLView",
            "description": "",
            "description_tooltip": null,
            "layout": "IPY_MODEL_4f74ff4c243a47dd9dd6381cba3d679a",
            "placeholder": "​",
            "style": "IPY_MODEL_64d021a4117743e4b9ce612a0eeef777",
            "value": " 3/5 [15:28&lt;10:19, 309.90s/it]"
          }
        },
        "3833c01ceec9448fb66526be0ca0aea4": {
          "model_module": "@jupyter-widgets/base",
          "model_name": "LayoutModel",
          "model_module_version": "1.2.0",
          "state": {
            "_model_module": "@jupyter-widgets/base",
            "_model_module_version": "1.2.0",
            "_model_name": "LayoutModel",
            "_view_count": null,
            "_view_module": "@jupyter-widgets/base",
            "_view_module_version": "1.2.0",
            "_view_name": "LayoutView",
            "align_content": null,
            "align_items": null,
            "align_self": null,
            "border": null,
            "bottom": null,
            "display": null,
            "flex": null,
            "flex_flow": null,
            "grid_area": null,
            "grid_auto_columns": null,
            "grid_auto_flow": null,
            "grid_auto_rows": null,
            "grid_column": null,
            "grid_gap": null,
            "grid_row": null,
            "grid_template_areas": null,
            "grid_template_columns": null,
            "grid_template_rows": null,
            "height": null,
            "justify_content": null,
            "justify_items": null,
            "left": null,
            "margin": null,
            "max_height": null,
            "max_width": null,
            "min_height": null,
            "min_width": null,
            "object_fit": null,
            "object_position": null,
            "order": null,
            "overflow": null,
            "overflow_x": null,
            "overflow_y": null,
            "padding": null,
            "right": null,
            "top": null,
            "visibility": null,
            "width": null
          }
        },
        "5dea014b2be24d3e85be931bad0e99b1": {
          "model_module": "@jupyter-widgets/base",
          "model_name": "LayoutModel",
          "model_module_version": "1.2.0",
          "state": {
            "_model_module": "@jupyter-widgets/base",
            "_model_module_version": "1.2.0",
            "_model_name": "LayoutModel",
            "_view_count": null,
            "_view_module": "@jupyter-widgets/base",
            "_view_module_version": "1.2.0",
            "_view_name": "LayoutView",
            "align_content": null,
            "align_items": null,
            "align_self": null,
            "border": null,
            "bottom": null,
            "display": null,
            "flex": null,
            "flex_flow": null,
            "grid_area": null,
            "grid_auto_columns": null,
            "grid_auto_flow": null,
            "grid_auto_rows": null,
            "grid_column": null,
            "grid_gap": null,
            "grid_row": null,
            "grid_template_areas": null,
            "grid_template_columns": null,
            "grid_template_rows": null,
            "height": null,
            "justify_content": null,
            "justify_items": null,
            "left": null,
            "margin": null,
            "max_height": null,
            "max_width": null,
            "min_height": null,
            "min_width": null,
            "object_fit": null,
            "object_position": null,
            "order": null,
            "overflow": null,
            "overflow_x": null,
            "overflow_y": null,
            "padding": null,
            "right": null,
            "top": null,
            "visibility": null,
            "width": null
          }
        },
        "47e0e5db49304ebcb493a59831632ff5": {
          "model_module": "@jupyter-widgets/controls",
          "model_name": "DescriptionStyleModel",
          "model_module_version": "1.5.0",
          "state": {
            "_model_module": "@jupyter-widgets/controls",
            "_model_module_version": "1.5.0",
            "_model_name": "DescriptionStyleModel",
            "_view_count": null,
            "_view_module": "@jupyter-widgets/base",
            "_view_module_version": "1.2.0",
            "_view_name": "StyleView",
            "description_width": ""
          }
        },
        "730fe3134946412caa42e2ced90126d2": {
          "model_module": "@jupyter-widgets/base",
          "model_name": "LayoutModel",
          "model_module_version": "1.2.0",
          "state": {
            "_model_module": "@jupyter-widgets/base",
            "_model_module_version": "1.2.0",
            "_model_name": "LayoutModel",
            "_view_count": null,
            "_view_module": "@jupyter-widgets/base",
            "_view_module_version": "1.2.0",
            "_view_name": "LayoutView",
            "align_content": null,
            "align_items": null,
            "align_self": null,
            "border": null,
            "bottom": null,
            "display": null,
            "flex": null,
            "flex_flow": null,
            "grid_area": null,
            "grid_auto_columns": null,
            "grid_auto_flow": null,
            "grid_auto_rows": null,
            "grid_column": null,
            "grid_gap": null,
            "grid_row": null,
            "grid_template_areas": null,
            "grid_template_columns": null,
            "grid_template_rows": null,
            "height": null,
            "justify_content": null,
            "justify_items": null,
            "left": null,
            "margin": null,
            "max_height": null,
            "max_width": null,
            "min_height": null,
            "min_width": null,
            "object_fit": null,
            "object_position": null,
            "order": null,
            "overflow": null,
            "overflow_x": null,
            "overflow_y": null,
            "padding": null,
            "right": null,
            "top": null,
            "visibility": null,
            "width": null
          }
        },
        "1b32b00300464f30a4122d3ac66277f7": {
          "model_module": "@jupyter-widgets/controls",
          "model_name": "ProgressStyleModel",
          "model_module_version": "1.5.0",
          "state": {
            "_model_module": "@jupyter-widgets/controls",
            "_model_module_version": "1.5.0",
            "_model_name": "ProgressStyleModel",
            "_view_count": null,
            "_view_module": "@jupyter-widgets/base",
            "_view_module_version": "1.2.0",
            "_view_name": "StyleView",
            "bar_color": null,
            "description_width": ""
          }
        },
        "4f74ff4c243a47dd9dd6381cba3d679a": {
          "model_module": "@jupyter-widgets/base",
          "model_name": "LayoutModel",
          "model_module_version": "1.2.0",
          "state": {
            "_model_module": "@jupyter-widgets/base",
            "_model_module_version": "1.2.0",
            "_model_name": "LayoutModel",
            "_view_count": null,
            "_view_module": "@jupyter-widgets/base",
            "_view_module_version": "1.2.0",
            "_view_name": "LayoutView",
            "align_content": null,
            "align_items": null,
            "align_self": null,
            "border": null,
            "bottom": null,
            "display": null,
            "flex": null,
            "flex_flow": null,
            "grid_area": null,
            "grid_auto_columns": null,
            "grid_auto_flow": null,
            "grid_auto_rows": null,
            "grid_column": null,
            "grid_gap": null,
            "grid_row": null,
            "grid_template_areas": null,
            "grid_template_columns": null,
            "grid_template_rows": null,
            "height": null,
            "justify_content": null,
            "justify_items": null,
            "left": null,
            "margin": null,
            "max_height": null,
            "max_width": null,
            "min_height": null,
            "min_width": null,
            "object_fit": null,
            "object_position": null,
            "order": null,
            "overflow": null,
            "overflow_x": null,
            "overflow_y": null,
            "padding": null,
            "right": null,
            "top": null,
            "visibility": null,
            "width": null
          }
        },
        "64d021a4117743e4b9ce612a0eeef777": {
          "model_module": "@jupyter-widgets/controls",
          "model_name": "DescriptionStyleModel",
          "model_module_version": "1.5.0",
          "state": {
            "_model_module": "@jupyter-widgets/controls",
            "_model_module_version": "1.5.0",
            "_model_name": "DescriptionStyleModel",
            "_view_count": null,
            "_view_module": "@jupyter-widgets/base",
            "_view_module_version": "1.2.0",
            "_view_name": "StyleView",
            "description_width": ""
          }
        }
      }
    }
  },
  "nbformat": 4,
  "nbformat_minor": 5
}