{
  "cells": [
    {
      "cell_type": "markdown",
      "id": "bf83164c",
      "metadata": {
        "id": "bf83164c"
      },
      "source": [
        "# Pendientes\n",
        "\n",
        "Nada"
      ]
    },
    {
      "cell_type": "markdown",
      "id": "Ysa-7eLvEMpE",
      "metadata": {
        "id": "Ysa-7eLvEMpE"
      },
      "source": [
        "# Gpu"
      ]
    },
    {
      "cell_type": "code",
      "execution_count": null,
      "id": "9GJAW8qAEM8f",
      "metadata": {
        "id": "9GJAW8qAEM8f"
      },
      "outputs": [],
      "source": [
        "!nvidia-smi"
      ]
    },
    {
      "cell_type": "code",
      "execution_count": null,
      "id": "FcIdAmrNERw-",
      "metadata": {
        "id": "FcIdAmrNERw-"
      },
      "outputs": [],
      "source": [
        "import tensorflow as tf\n",
        "tf.config.list_physical_devices('GPU')"
      ]
    },
    {
      "cell_type": "markdown",
      "id": "m8CIB8vltFfH",
      "metadata": {
        "id": "m8CIB8vltFfH"
      },
      "source": [
        "# Set_Up"
      ]
    },
    {
      "cell_type": "code",
      "execution_count": null,
      "id": "EB5RqjoAtFwl",
      "metadata": {
        "id": "EB5RqjoAtFwl"
      },
      "outputs": [],
      "source": [
        "\n",
        "root_data = f'/content/drive/MyDrive/Course Folder/Forex/XAUUSD/'\n",
        "print(root_data)\n",
        "\n",
        "direction = 'Short'\n",
        "direction_number = -1\n",
        "\n",
        "symbol = 'XAUUSD'\n",
        "strategy = 'Kalman'\n",
        "time_frame = 'M5'\n",
        "\n",
        "trade_evolution = 'st_Max'\n",
        "result_field = 'st_PnL'\n"
      ]
    },
    {
      "cell_type": "markdown",
      "id": "y6QRdBKwrX98",
      "metadata": {
        "id": "y6QRdBKwrX98"
      },
      "source": [
        "# Libraries"
      ]
    },
    {
      "cell_type": "code",
      "execution_count": null,
      "id": "R9bTNmBwK_Up",
      "metadata": {
        "id": "R9bTNmBwK_Up"
      },
      "outputs": [],
      "source": [
        "!pip install ta-lib\n",
        "import talib as ta\n",
        "print(ta.__version__)"
      ]
    },
    {
      "cell_type": "code",
      "execution_count": null,
      "id": "bda1a01c",
      "metadata": {
        "id": "bda1a01c"
      },
      "outputs": [],
      "source": [
        "import numpy as np\n",
        "import pandas as pd\n",
        "import os\n",
        "import joblib\n",
        "import math\n",
        "import time\n",
        "\n",
        "from itertools import combinations, product\n",
        "\n",
        "from tqdm.auto import tqdm\n",
        "\n",
        "from tensorflow.keras.models import Sequential\n",
        "from tensorflow.keras.layers import Dense\n",
        "\n",
        "from sklearn.cluster import KMeans\n",
        "from sklearn.preprocessing import StandardScaler\n",
        "from sklearn.ensemble import RandomForestClassifier\n",
        "from sklearn.feature_selection import RFECV\n",
        "from sklearn.model_selection import StratifiedKFold\n",
        "from sklearn.feature_selection import SelectFromModel\n",
        "from sklearn.metrics import roc_auc_score, r2_score\n",
        "from sklearn.model_selection import TimeSeriesSplit\n",
        "from sklearn.linear_model import LogisticRegression\n",
        "from sklearn.model_selection import cross_val_score\n",
        "\n",
        "from scipy.cluster.hierarchy import linkage, fcluster\n",
        "from scipy.spatial.distance import squareform\n",
        "\n",
        "from xgboost import XGBClassifier, XGBRegressor\n",
        "\n",
        "import tensorflow as tf\n",
        "\n",
        "import sys\n",
        "sys.path.append(\"..\")\n",
        "\n",
        "from __future__ import annotations\n",
        "from typing import Tuple, List, Optional, Dict, Any\n",
        "\n",
        "from xgboost import XGBClassifier, XGBRegressor\n",
        "from sklearn.metrics import (roc_auc_score, f1_score, accuracy_score, log_loss, r2_score)\n",
        "\n",
        "from sklearn.preprocessing import LabelEncoder\n",
        "\n",
        "import warnings\n",
        "warnings.filterwarnings('ignore')"
      ]
    },
    {
      "cell_type": "code",
      "execution_count": null,
      "id": "7JweuZy755ym",
      "metadata": {
        "id": "7JweuZy755ym"
      },
      "outputs": [],
      "source": [
        "import matplotlib.pyplot as plt\n",
        "%matplotlib inline\n",
        "plt.style.use(\"seaborn-v0_8-darkgrid\")"
      ]
    },
    {
      "cell_type": "code",
      "execution_count": null,
      "id": "KFfn45ty82qv",
      "metadata": {
        "id": "KFfn45ty82qv"
      },
      "outputs": [],
      "source": [
        "from google.colab import drive\n",
        "drive.mount('/content/drive')"
      ]
    },
    {
      "cell_type": "markdown",
      "id": "9aa65d54",
      "metadata": {
        "id": "9aa65d54"
      },
      "source": [
        "# Calculate_Features\n",
        "\n"
      ]
    },
    {
      "cell_type": "markdown",
      "id": "I23127P7lBq_",
      "metadata": {
        "id": "I23127P7lBq_"
      },
      "source": [
        "## Features"
      ]
    },
    {
      "cell_type": "code",
      "execution_count": null,
      "id": "kp4yJdGAjoeA",
      "metadata": {
        "id": "kp4yJdGAjoeA"
      },
      "outputs": [],
      "source": [
        "def kalman_line(source, kalman_length: int, smooth: int):\n",
        "    \"\"\"\n",
        "    Pine -> Python (solo 'kalman_line'), replicando la EMA de TradingView con\n",
        "    *semilla SMA* (como ta.ema) sobre el núcleo Kalman kf_c.\n",
        "\n",
        "    Parámetros\n",
        "    ----------\n",
        "    source : pd.Series o array-like de floats (precio crudo, sin diff/returns)\n",
        "    kalman_length : int   (equivale a length_kal en Pine)\n",
        "    smooth : int          (equivale a smooth_kal en Pine -> ta.ema(kf_c, smooth))\n",
        "\n",
        "    Retorna\n",
        "    -------\n",
        "    Mismo tipo que `source`: pd.Series o np.ndarray con la línea Kalman suavizada.\n",
        "    \"\"\"\n",
        "    import numpy as np\n",
        "    import pandas as pd\n",
        "\n",
        "    # normalizamos tipos\n",
        "    is_series = hasattr(source, \"index\")\n",
        "    idx = source.index if is_series else None\n",
        "    x = np.asarray(source, dtype=np.float64)\n",
        "    n = x.shape[0]\n",
        "    if n == 0:\n",
        "        return source\n",
        "\n",
        "    # ---------- núcleo Kalman idéntico al Pine ----------\n",
        "    sqrt_term   = np.sqrt((kalman_length / 10000.0) * 2.0)\n",
        "    length_term = kalman_length / 10000.0\n",
        "\n",
        "    kf_c   = np.empty(n, dtype=np.float64)\n",
        "    velo_c = np.empty(n, dtype=np.float64)\n",
        "\n",
        "    # bar 0 (nz(kf_c[1], source) y nz(velo_c[1], 0))\n",
        "    kf_c[0] = x[0]\n",
        "    velo_c[0] = 0.0\n",
        "\n",
        "    for i in range(1, n):\n",
        "        prev_kf = kf_c[i - 1]\n",
        "        dk_c = x[i] - prev_kf\n",
        "        smooth_c = prev_kf + dk_c * sqrt_term\n",
        "        velo_c[i] = velo_c[i - 1] + length_term * dk_c\n",
        "        kf_c[i] = smooth_c + velo_c[i]\n",
        "\n",
        "    # ---------- EMA con semilla SMA (comportamiento ta.ema de TV) ----------\n",
        "    L = int(max(1, smooth))\n",
        "    alpha = 2.0 / (L + 1.0)\n",
        "    ema = np.full(n, np.nan, dtype=np.float64)\n",
        "\n",
        "    if n < L:\n",
        "        # con pocas barras, igualamos al promedio simple disponible\n",
        "        ema[-1] = np.nanmean(kf_c)\n",
        "    else:\n",
        "        # seed = SMA de las primeras L barras\n",
        "        seed = np.mean(kf_c[:L])\n",
        "        ema[L - 1] = seed\n",
        "        for i in range(L, n):\n",
        "            ema[i] = alpha * kf_c[i] + (1.0 - alpha) * ema[i - 1]\n",
        "\n",
        "    return (pd.Series(ema, index=idx) if is_series else ema)\n"
      ]
    },
    {
      "cell_type": "code",
      "execution_count": null,
      "id": "HahbLzEkjoeB",
      "metadata": {
        "id": "HahbLzEkjoeB"
      },
      "outputs": [],
      "source": [
        "def slope(src: pd.Series,\n",
        "          length_kal: int,\n",
        "          smooth_kal: int,\n",
        "          slopeLen: int,\n",
        "          offset: int) -> pd.DataFrame:\n",
        "\n",
        "    n = len(src)\n",
        "    kf_state = np.full(n, np.nan)\n",
        "    kf_velo  = np.zeros(n)\n",
        "    sqrt_factor = np.sqrt(length_kal / 10000.0 * 2.0)\n",
        "    vel_factor  = length_kal / 10000.0\n",
        "\n",
        "    for i in range(n):\n",
        "        if i == 0:\n",
        "            prev_state = src.iloc[0]\n",
        "            prev_velo  = 0.0\n",
        "        else:\n",
        "            prev_state = kf_state[i-1] if not np.isnan(kf_state[i-1]) else src.iloc[i]\n",
        "            prev_velo  = kf_velo[i-1]\n",
        "\n",
        "        dk = src.iloc[i] - prev_state\n",
        "        smooth = prev_state + dk * sqrt_factor\n",
        "        kf_velo[i]  = prev_velo + vel_factor * dk\n",
        "        kf_state[i] = smooth + kf_velo[i]\n",
        "\n",
        "    # 2) EMA smoothing --------------------------------------------------\n",
        "    kal = pd.Series(kf_state, index=src.index).ewm(span=smooth_kal, adjust=False).mean()\n",
        "\n",
        "    # 3) Slope/divergence -----------------------------------------------\n",
        "    validLen = max(slopeLen, 1)\n",
        "    slope_div = kal.diff(validLen) / validLen\n",
        "    slope_signal = (slope_div > slope_div.shift(1)).astype(int)\n",
        "\n",
        "    # 4) Angle in degrees -----------------------------------------------\n",
        "    price_change = kal - kal.shift(validLen)\n",
        "    slope_angle = np.degrees(np.arctan(price_change))\n",
        "    slope_angle_signal = (slope_angle > slope_angle.shift(1)).astype(int)\n",
        "\n",
        "    # 5) Linear regression prediction ----------------------------------\n",
        "    def _linreg(y):\n",
        "        x = np.arange(len(y))\n",
        "        m, b = np.polyfit(x, y, 1)\n",
        "        return b + m * (len(y)-1)\n",
        "\n",
        "    slope_lin_reg = kal.rolling(window=slopeLen).apply(_linreg, raw=False)\n",
        "    slope_lin_reg = slope_lin_reg.shift(-offset)  # apply Pine-style offset\n",
        "    slope_lin_reg_signal = (slope_lin_reg > slope_lin_reg.shift(1)).astype(int)\n",
        "\n",
        "    # 6) Pack results ---------------------------------------------------\n",
        "    return pd.DataFrame({\n",
        "        'slope_div':            slope_div,\n",
        "        'slope_signal':         slope_signal,\n",
        "        'slope_angle':          slope_angle,\n",
        "        'slope_angle_signal':   slope_angle_signal,\n",
        "        'slope_lin_reg':        slope_lin_reg,\n",
        "        'slope_lin_reg_signal': slope_lin_reg_signal\n",
        "    })"
      ]
    },
    {
      "cell_type": "code",
      "execution_count": null,
      "id": "skEh7rkDQZba",
      "metadata": {
        "id": "skEh7rkDQZba"
      },
      "outputs": [],
      "source": [
        "help(ta.OBV)"
      ]
    },
    {
      "cell_type": "code",
      "execution_count": null,
      "id": "ZnVB7nObuG_e",
      "metadata": {
        "id": "ZnVB7nObuG_e"
      },
      "outputs": [],
      "source": [
        "def create_features(stock_data: pd.DataFrame) -> pd.DataFrame:\n",
        "\n",
        "    periods        = [3, 7, 14]\n",
        "    ema_periods    = [10, 21, 50, 100, 200]\n",
        "    kalman_periods = [300, 600, 900]\n",
        "    slope_length   = [3, 6, 9]\n",
        "\n",
        "    features = pd.DataFrame(index=stock_data.index)\n",
        "\n",
        "\n",
        "    def _unique_pairwise(columns: List[str]) -> List[Tuple[str, str]]:\n",
        "        \"\"\"Return ordered unique column pairs without self-pairings.\"\"\"\n",
        "        unique_columns = list(dict.fromkeys(columns))\n",
        "        return list(combinations(unique_columns, 2))\n",
        "\n",
        "    # ───────────────────────── Indicadores por período ─────────────────────────\n",
        "    t0 = time.time()\n",
        "    indicator_columns = {'RSI': [], 'MFI': [], 'OBV': []}\n",
        "\n",
        "    # >>> Cambio: OBV sin períodos (una sola serie)\n",
        "    obv_col = 'OBV'\n",
        "    features[obv_col] = ta.OBV(stock_data['Close'], stock_data['Volume'])\n",
        "    indicator_columns['OBV'].append(obv_col)\n",
        "\n",
        "    for period in tqdm(periods, desc=\"Indicators (RSI/MFI/OBV)\"):\n",
        "        rsi_col = f'RSI_{period}'\n",
        "        features[rsi_col] = ta.RSI(stock_data['Close'], timeperiod=period)\n",
        "        indicator_columns['RSI'].append(rsi_col)\n",
        "\n",
        "        mfi_col = f'MFI_{period}'\n",
        "        features[mfi_col] = ta.MFI(\n",
        "            stock_data['High'], stock_data['Low'], stock_data['Close'],\n",
        "            stock_data['Volume'], timeperiod=period\n",
        "        )\n",
        "        indicator_columns['MFI'].append(mfi_col)\n",
        "\n",
        "    # diffs y combinaciones dentro de cada familia\n",
        "    for indicator, cols in indicator_columns.items():\n",
        "        for col in tqdm(cols, desc=f\"{indicator}: diffs\", leave=False):\n",
        "            features[f'{col}_diff'] = features[col].diff()\n",
        "        pairs = _unique_pairwise(cols)  # para OBV (1 col) no habrá pares\n",
        "        for col1, col2 in tqdm(pairs, desc=f\"{indicator}: pairwise\", leave=False):\n",
        "            features[f'{col1} - {col2}'] = features[col1] - features[col2]\n",
        "    tqdm.write(f\"[Timing] Indicators block: {time.time()-t0:.2f}s\")\n",
        "\n",
        "    # ───────────────────────── Kalman y derivados ───────────────────────\n",
        "    t0 = time.time()\n",
        "    kal_cols = []\n",
        "    for period in tqdm(kalman_periods, desc=\"Kalman & Derivatives\"):\n",
        "        kal = pd.Series(\n",
        "            kalman_line(stock_data['Close'], kalman_length=period, smooth=3),\n",
        "            index=stock_data.index\n",
        "        )\n",
        "        kname = f'Kal_{period}'\n",
        "        kal_cols.append(kname)\n",
        "\n",
        "        features[kname]                           = kal\n",
        "        features[f'Close_Kal_{period}']           = stock_data['Close'] - kal\n",
        "        features[f'Kal_change_{period}']          = kal.diff(1)\n",
        "        features[f'Kal_prev_minus_now_{period}']  = kal.shift(1) - kal\n",
        "        features[f'Kal_prev2_minus_now_{period}'] = kal.shift(2) - kal\n",
        "        features[f'Kal_change2_{period}']         = kal.diff(2)\n",
        "\n",
        "    kal_pairs = _unique_pairwise(kal_cols)\n",
        "    for c1, c2 in tqdm(kal_pairs, desc=\"Kalman pairwise\"):\n",
        "        features[f'{c1}_minus_{c2}'] = features[c1] - features[c2]\n",
        "    tqdm.write(f\"[Timing] Kalman block: {time.time()-t0:.2f}s\")\n",
        "\n",
        "    # ───────────────────────── Slopes ───────────────────────────────────\n",
        "    t0 = time.time()\n",
        "    slope_indicator_columns = {\n",
        "        'slope_div': [],\n",
        "        'slope_signal': [],\n",
        "        'slope_angle': [],\n",
        "        'slope_angle_signal': [],\n",
        "        'slope_lin_reg': [],\n",
        "        'slope_lin_reg_signal': []\n",
        "    }\n",
        "\n",
        "    slope_jobs = list(product(kalman_periods, slope_length))\n",
        "    for period, sLen in tqdm(slope_jobs, desc=\"Slopes (kal_len × slope_len)\"):\n",
        "        df_s = slope(stock_data['Close'], length_kal=period, smooth_kal=3,\n",
        "                     slopeLen=sLen, offset=-1)\n",
        "\n",
        "        column_mapping = {\n",
        "            'slope_div':            f'slope_div_{period}_{sLen}',\n",
        "            'slope_signal':         f'slope_signal_{period}_{sLen}',\n",
        "            'slope_angle':          f'slope_angle_{period}_{sLen}',\n",
        "            'slope_angle_signal':   f'slope_angle_signal_{period}_{sLen}',\n",
        "            'slope_lin_reg':        f'slope_lin_reg_{period}_{sLen}',\n",
        "            'slope_lin_reg_signal': f'slope_lin_reg_signal_{period}_{sLen}'\n",
        "        }\n",
        "\n",
        "        for indicator, col_name in column_mapping.items():\n",
        "            series = df_s[indicator]\n",
        "            features[col_name] = series\n",
        "            features[f'{col_name}_diff'] = series.diff()\n",
        "            slope_indicator_columns[indicator].append(col_name)\n",
        "\n",
        "    for indicator, cols in slope_indicator_columns.items():\n",
        "        pairs = _unique_pairwise(cols)\n",
        "        for c1, c2 in tqdm(pairs, desc=f\"{indicator}: pairwise\", leave=False):\n",
        "            features[f'{c1} - {c2}'] = features[c1] - features[c2]\n",
        "    tqdm.write(f\"[Timing] Slopes block: {time.time()-t0:.2f}s\")\n",
        "\n",
        "    return features\n"
      ]
    },
    {
      "cell_type": "markdown",
      "id": "DoqqPJxPxnBF",
      "metadata": {
        "id": "DoqqPJxPxnBF"
      },
      "source": [
        "## 5_min"
      ]
    },
    {
      "cell_type": "code",
      "execution_count": null,
      "id": "d7l7vt7QxvyC",
      "metadata": {
        "id": "d7l7vt7QxvyC"
      },
      "outputs": [],
      "source": [
        "# Read the CSV file\n",
        "df_5min = pd.read_csv(root_data + 'Data/'+symbol+'_M5.csv', index_col=0)\n",
        "df_5min.index = pd.to_datetime(df_5min.index)\n",
        "#df_5min = df_5min.iloc[-1000000:,]\n",
        "\n",
        "print('Min_Date : ', df_5min.index.min())\n",
        "print('Min_Date : ', df_5min.index.max())\n",
        "print('Number_Rows = ',len(df_5min.index))\n",
        "print('\\n')\n",
        "\n",
        "df_5min.tail()"
      ]
    },
    {
      "cell_type": "markdown",
      "id": "HBicVZcDx2CF",
      "metadata": {
        "id": "HBicVZcDx2CF"
      },
      "source": [
        "**Features**"
      ]
    },
    {
      "cell_type": "code",
      "execution_count": null,
      "id": "XxU4wllsEUcN",
      "metadata": {
        "id": "XxU4wllsEUcN"
      },
      "outputs": [],
      "source": [
        "start_time = time.time()\n",
        "\n",
        "features = create_features(df_5min)\n",
        "features = features.dropna()\n",
        "\n",
        "end_time = time.time()\n",
        "execution_time = end_time - start_time\n",
        "\n",
        "print(\"Number of features are:\", features.shape[1])\n",
        "print(features.shape)\n",
        "features.to_csv(root_data+'Results/'+symbol+'_M5_Raw_Features.csv')\n",
        "print(f\"Execution time: {execution_time:.2f} seconds\")\n",
        "features.tail(5)"
      ]
    },
    {
      "cell_type": "code",
      "execution_count": null,
      "id": "7Vw_2C-ZEO57",
      "metadata": {
        "id": "7Vw_2C-ZEO57"
      },
      "outputs": [],
      "source": [
        "print(\"NaN counts per column (sorted):\")\n",
        "print(features.isnull().sum().sort_values(ascending=False), '\\n')"
      ]
    },
    {
      "cell_type": "code",
      "execution_count": null,
      "id": "j4AwNJic6icv",
      "metadata": {
        "id": "j4AwNJic6icv"
      },
      "outputs": [],
      "source": [
        "features = pd.read_csv(root_data+'Results/'+symbol+'_M5_Raw_Features.csv')\n",
        "features[\"Date\"] = pd.to_datetime(features[\"Date\"])\n",
        "print(features.shape)\n",
        "features.head(5)"
      ]
    },
    {
      "cell_type": "markdown",
      "id": "QX4cSq3Ftqhm",
      "metadata": {
        "id": "QX4cSq3Ftqhm"
      },
      "source": [
        "**Scale_features**"
      ]
    },
    {
      "cell_type": "code",
      "execution_count": null,
      "id": "1qEb1Cz1vzj6",
      "metadata": {
        "id": "1qEb1Cz1vzj6"
      },
      "outputs": [],
      "source": [
        "cols_to_scale = features.columns[1:]\n",
        "cols_to_scale"
      ]
    },
    {
      "cell_type": "code",
      "execution_count": null,
      "id": "eJcGUESttqhm",
      "metadata": {
        "id": "eJcGUESttqhm"
      },
      "outputs": [],
      "source": [
        "### Scale Features with Rolling Window\n",
        "start_time = time.time()\n",
        "\n",
        "window = 200\n",
        "rolling = features[cols_to_scale].rolling(window)\n",
        "features[cols_to_scale] = (features[cols_to_scale] - rolling.mean()) / rolling.std()\n",
        "\n",
        "print(\"DataFrame with rolling-scaled features:\")\n",
        "print(features.shape)\n",
        "features.head()\n",
        "end_time = time.time()\n",
        "execution_time = end_time - start_time\n",
        "print(f\"Execution time: {execution_time:.2f} seconds\")\n"
      ]
    },
    {
      "cell_type": "code",
      "execution_count": null,
      "id": "BFVUCAe3GWFy",
      "metadata": {
        "id": "BFVUCAe3GWFy"
      },
      "outputs": [],
      "source": [
        "print(\"NaN counts per column (sorted):\")\n",
        "print(features.isnull().sum().sort_values(ascending=False), '\\n')"
      ]
    },
    {
      "cell_type": "code",
      "execution_count": null,
      "id": "aXMGezVftqhn",
      "metadata": {
        "id": "aXMGezVftqhn"
      },
      "outputs": [],
      "source": [
        "features.to_csv(root_data+'Results/'+symbol+'_M5_Scale_Features.csv')"
      ]
    },
    {
      "cell_type": "markdown",
      "id": "jh9-mi26wsya",
      "metadata": {
        "id": "jh9-mi26wsya"
      },
      "source": [
        "## 10_min"
      ]
    },
    {
      "cell_type": "code",
      "execution_count": null,
      "id": "bgh3Xz5ux75A",
      "metadata": {
        "id": "bgh3Xz5ux75A"
      },
      "outputs": [],
      "source": [
        "# Read the CSV file\n",
        "df_10min = pd.read_csv(root_data + 'Data/'+symbol+'_M10.csv', index_col=0)\n",
        "df_10min.index = pd.to_datetime(df_10min.index)\n",
        "#df_10min = df_10min.iloc[-100000:,]\n",
        "\n",
        "print('Min_Date : ', df_10min.index.min())\n",
        "print('Min_Date : ', df_10min.index.max())\n",
        "print('Number_Rows = ',len(df_10min.index))\n",
        "print('\\n')\n",
        "\n",
        "df_10min.tail()"
      ]
    },
    {
      "cell_type": "markdown",
      "id": "WZRt7qxmx75A",
      "metadata": {
        "id": "WZRt7qxmx75A"
      },
      "source": [
        "**Features**"
      ]
    },
    {
      "cell_type": "code",
      "execution_count": null,
      "id": "Enk8RNZ3x75B",
      "metadata": {
        "id": "Enk8RNZ3x75B"
      },
      "outputs": [],
      "source": [
        "### Create the Features Set\n",
        "features_10min = create_features(df_10min)\n",
        "features_10min = features_10min.dropna()\n",
        "\n",
        "# Add \"10min_\" prefix to all column names except 'Date'\n",
        "features_10min = features_10min.add_prefix('10min_')\n",
        "features_10min.rename(columns={'10min_Date': 'Date'}, inplace=True)\n",
        "\n",
        "print(\"Number of features are:\", features_10min.shape[1])\n",
        "print(features_10min.shape)\n",
        "features_10min.to_csv(root_data+'Results/'+symbol+'_M10_Raw_Features.csv')\n",
        "features_10min.tail(5)"
      ]
    },
    {
      "cell_type": "code",
      "execution_count": null,
      "id": "ZREQYp1Px75B",
      "metadata": {
        "id": "ZREQYp1Px75B"
      },
      "outputs": [],
      "source": [
        "print(\"NaN counts per column (sorted):\",'\\n')\n",
        "print(features_10min.isnull().sum().sort_values(ascending=False), '\\n')"
      ]
    },
    {
      "cell_type": "code",
      "execution_count": null,
      "id": "F7wu9XEqx75B",
      "metadata": {
        "id": "F7wu9XEqx75B"
      },
      "outputs": [],
      "source": [
        "features_10min = pd.read_csv(root_data+'Results/'+symbol+'_M10_Raw_Features.csv')\n",
        "features_10min[\"Date\"] = pd.to_datetime(features_10min[\"Date\"])\n",
        "print(features_10min.shape)\n",
        "features_10min.head(5)"
      ]
    },
    {
      "cell_type": "markdown",
      "id": "OM1OXL0tx75B",
      "metadata": {
        "id": "OM1OXL0tx75B"
      },
      "source": [
        "**Scale_features**"
      ]
    },
    {
      "cell_type": "code",
      "execution_count": null,
      "id": "D_ktgzyhx75C",
      "metadata": {
        "id": "D_ktgzyhx75C"
      },
      "outputs": [],
      "source": [
        "cols_to_scale = features_10min.columns[1:]\n",
        "cols_to_scale"
      ]
    },
    {
      "cell_type": "code",
      "execution_count": null,
      "id": "qeSWEQdTx75D",
      "metadata": {
        "id": "qeSWEQdTx75D"
      },
      "outputs": [],
      "source": [
        "### Scale Features with Rolling Window\n",
        "window = 200\n",
        "rolling = features_10min[cols_to_scale].rolling(window)\n",
        "features_10min[cols_to_scale] = (features_10min[cols_to_scale] - rolling.mean()) / rolling.std()\n",
        "\n",
        "print(\"DataFrame with rolling-scaled features:\")\n",
        "print(features_10min.shape)\n",
        "features_10min.tail()\n"
      ]
    },
    {
      "cell_type": "code",
      "execution_count": null,
      "id": "g5XpLxmSeP53",
      "metadata": {
        "id": "g5XpLxmSeP53"
      },
      "outputs": [],
      "source": [
        "print(\"NaN counts per column (sorted):\",'\\n')\n",
        "print(features_10min.isnull().sum().sort_values(ascending=False), '\\n')"
      ]
    },
    {
      "cell_type": "code",
      "execution_count": null,
      "id": "RAYGNhPex75E",
      "metadata": {
        "id": "RAYGNhPex75E"
      },
      "outputs": [],
      "source": [
        "features_10min.to_csv(root_data+'Results/'+symbol+'_M10_Scale_Features.csv')"
      ]
    },
    {
      "cell_type": "markdown",
      "id": "dexDJat0XWBi",
      "metadata": {
        "id": "dexDJat0XWBi"
      },
      "source": [
        "## 15_min"
      ]
    },
    {
      "cell_type": "code",
      "execution_count": null,
      "id": "KiPN3qSWXWBj",
      "metadata": {
        "id": "KiPN3qSWXWBj"
      },
      "outputs": [],
      "source": [
        "# Read the CSV file\n",
        "df_15min = pd.read_csv(root_data + 'Data/'+symbol+'_M15.csv', index_col=0)\n",
        "df_15min.index = pd.to_datetime(df_15min.index)\n",
        "#df_15min = df_15min.iloc[-500000:,]\n",
        "#df_15min = df_15min.iloc[-5000:,]\n",
        "\n",
        "print('Min_Date : ', df_15min.index.min())\n",
        "print('Min_Date : ', df_15min.index.max())\n",
        "print('Number_Rows = ',len(df_15min.index))\n",
        "print('\\n')\n",
        "\n",
        "df_15min.tail()"
      ]
    },
    {
      "cell_type": "markdown",
      "id": "V4zWjMGtXWBk",
      "metadata": {
        "id": "V4zWjMGtXWBk"
      },
      "source": [
        "**Features**"
      ]
    },
    {
      "cell_type": "code",
      "execution_count": null,
      "id": "DmkzrcRjXWBm",
      "metadata": {
        "id": "DmkzrcRjXWBm"
      },
      "outputs": [],
      "source": [
        "features_15min = create_features(df_15min)\n",
        "\n",
        "print(\"Number of features are:\", features_15min.shape[1])\n",
        "print(features_15min.shape)\n",
        "features_15min.to_csv(root_data+'Results/'+symbol+'_M15_Raw_Features.csv')\n",
        "features_15min.tail(5)"
      ]
    },
    {
      "cell_type": "code",
      "execution_count": null,
      "id": "AVfc4FqyJ5d0",
      "metadata": {
        "id": "AVfc4FqyJ5d0"
      },
      "outputs": [],
      "source": [
        "print(\"NaN counts per column (sorted):\")\n",
        "print(features_15min.isnull().sum().sort_values(ascending=False), '\\n')"
      ]
    },
    {
      "cell_type": "code",
      "execution_count": null,
      "id": "yGHSgJnYXWBn",
      "metadata": {
        "id": "yGHSgJnYXWBn"
      },
      "outputs": [],
      "source": [
        "features_15min = pd.read_csv(root_data+'Results/'+symbol+'_M15_Raw_Features.csv')\n",
        "features_15min[\"Date\"] = pd.to_datetime(features_15min[\"Date\"])\n",
        "print(features_15min.shape)\n",
        "features_15min.head(5)"
      ]
    },
    {
      "cell_type": "markdown",
      "id": "VRhYUP2RXWBn",
      "metadata": {
        "id": "VRhYUP2RXWBn"
      },
      "source": [
        "**Scale_features**"
      ]
    },
    {
      "cell_type": "code",
      "execution_count": null,
      "id": "kqXbXgJWXWBn",
      "metadata": {
        "id": "kqXbXgJWXWBn"
      },
      "outputs": [],
      "source": [
        "cols_to_scale = features_15min.columns[1:]\n",
        "cols_to_scale"
      ]
    },
    {
      "cell_type": "code",
      "execution_count": null,
      "id": "j6kGfSpyXWBo",
      "metadata": {
        "id": "j6kGfSpyXWBo"
      },
      "outputs": [],
      "source": [
        "### Scale Features with Rolling Window\n",
        "window = 200\n",
        "rolling = features_15min[cols_to_scale].rolling(window)\n",
        "features_15min[cols_to_scale] = (features_15min[cols_to_scale] - rolling.mean()) / rolling.std()\n",
        "\n",
        "print(\"DataFrame with rolling-scaled features:\")\n",
        "print(features_15min.shape)\n",
        "#features.head()"
      ]
    },
    {
      "cell_type": "code",
      "execution_count": null,
      "id": "ZmwG_RFHJyji",
      "metadata": {
        "id": "ZmwG_RFHJyji"
      },
      "outputs": [],
      "source": [
        "print(\"NaN counts per column (sorted):\")\n",
        "print(features_15min.isnull().sum().sort_values(ascending=False), '\\n')"
      ]
    },
    {
      "cell_type": "code",
      "execution_count": null,
      "id": "IXiZG3OpXWBo",
      "metadata": {
        "id": "IXiZG3OpXWBo"
      },
      "outputs": [],
      "source": [
        "features_15min = features_15min.add_prefix('15min_')\n",
        "features_15min.to_csv(root_data+'Results/'+symbol+'_M15_Scale_Features.csv')"
      ]
    },
    {
      "cell_type": "markdown",
      "id": "W1Pk4Hkfjhvt",
      "metadata": {
        "id": "W1Pk4Hkfjhvt"
      },
      "source": [
        "**Plots**"
      ]
    },
    {
      "cell_type": "code",
      "execution_count": null,
      "id": "67453c9e",
      "metadata": {
        "id": "67453c9e"
      },
      "outputs": [],
      "source": [
        "import matplotlib.pyplot as plt\n",
        "\n",
        "last_500_features = features_15min.tail(200)\n",
        "last_500_df = df_15min.tail(200)\n",
        "\n",
        "indicators_to_plot = ['Close','Kal_300','Kal_600',]\n",
        "\n",
        "# Separate Close from other indicators\n",
        "close_to_plot = 'Close' if 'Close' in indicators_to_plot else None\n",
        "other_indicators_to_plot = [col for col in indicators_to_plot if col != 'Close' and col in last_500_features.columns]\n",
        "\n",
        "num_plots = len(other_indicators_to_plot) + (1 if close_to_plot else 0)\n",
        "\n",
        "# Plotting\n",
        "fig, axes = plt.subplots(nrows=num_plots, ncols=1, figsize=(15, 2.5 * num_plots), sharex=True)\n",
        "\n",
        "# Ensure axes is an array even if only one plot\n",
        "if not isinstance(axes, np.ndarray):\n",
        "    axes = np.array([axes])\n",
        "\n",
        "current_plot_index = 0\n",
        "\n",
        "# Plot Close price if requested\n",
        "if close_to_plot:\n",
        "    axes[current_plot_index].plot(last_500_df.index, last_500_df['Close'])\n",
        "    axes[current_plot_index].set_title('Close Price')\n",
        "    axes[current_plot_index].grid(True)\n",
        "    current_plot_index += 1\n",
        "\n",
        "# Plot each selected indicator (excluding 'Close')\n",
        "for col in other_indicators_to_plot:\n",
        "    axes[current_plot_index].plot(last_500_features.index, last_500_features[col])\n",
        "    axes[current_plot_index].set_title(col)\n",
        "    axes[current_plot_index].grid(True)\n",
        "    current_plot_index += 1\n",
        "\n",
        "\n",
        "#plt.tight_layout()\n",
        "#plt.show()"
      ]
    },
    {
      "cell_type": "markdown",
      "id": "A5c__w6s_dtY",
      "metadata": {
        "id": "A5c__w6s_dtY"
      },
      "source": [
        "# Feature Importance"
      ]
    },
    {
      "cell_type": "markdown",
      "id": "4j7J8tk_f3o-",
      "metadata": {
        "id": "4j7J8tk_f3o-"
      },
      "source": [
        "## Labels"
      ]
    },
    {
      "cell_type": "code",
      "execution_count": 50,
      "id": "6XOsumPycYz3",
      "metadata": {
        "colab": {
          "base_uri": "https://localhost:8080/",
          "height": 439
        },
        "id": "6XOsumPycYz3",
        "outputId": "d910c365-38e1-4b6c-e143-9e94cb0fb442"
      },
      "outputs": [
        {
          "output_type": "stream",
          "name": "stdout",
          "text": [
            "Min_Date    :  2025-04-15 04:20:00\n",
            "Min_Date    :  2025-07-25 23:55:00 \n",
            "\n",
            "Number_Rows :  (20000, 42) \n",
            "\n",
            "Columns     :  Index(['Date', 'Open', 'High', 'Low', 'Close', 'Volume', 'Spread', 'ATR',\n",
            "       'kal_1', 'kal_2', 'kal_3', 'kal_4', 'Open_Trade', 'Close_Trade',\n",
            "       'Entry_Date', 'Type', 'Trade_Number', 'st_Exit_Date', 'trade type',\n",
            "       'st_Duration', 'st_row_PnL_close', 'st_row_PnL_high', 'st_row_PnL_Low',\n",
            "       'st_row_PnL_low', 'st_Max', 'st_Min', 'st_PnL', 'st_atr_PnL',\n",
            "       'st_atr_max_PnL', 'atr_mult_close', 'atr_mult_high', 'atr_mult_low',\n",
            "       'atr_dyn', 'atr_PnL', 'atr_Exit_Date', 'atr_Duration', 'atr_PnL_dollar',\n",
            "       'atr_H_dyn', 'atr_H_PnL', 'atr_H_Exit_Date', 'atr_H_Duration',\n",
            "       'atr_H_PnL_dollar'],\n",
            "      dtype='object')\n"
          ]
        },
        {
          "output_type": "execute_result",
          "data": {
            "text/plain": [
              "Open_Trade\n",
              " 1.0    1410\n",
              "-1.0    1398\n",
              "Name: count, dtype: int64"
            ],
            "text/html": [
              "<div>\n",
              "<style scoped>\n",
              "    .dataframe tbody tr th:only-of-type {\n",
              "        vertical-align: middle;\n",
              "    }\n",
              "\n",
              "    .dataframe tbody tr th {\n",
              "        vertical-align: top;\n",
              "    }\n",
              "\n",
              "    .dataframe thead th {\n",
              "        text-align: right;\n",
              "    }\n",
              "</style>\n",
              "<table border=\"1\" class=\"dataframe\">\n",
              "  <thead>\n",
              "    <tr style=\"text-align: right;\">\n",
              "      <th></th>\n",
              "      <th>count</th>\n",
              "    </tr>\n",
              "    <tr>\n",
              "      <th>Open_Trade</th>\n",
              "      <th></th>\n",
              "    </tr>\n",
              "  </thead>\n",
              "  <tbody>\n",
              "    <tr>\n",
              "      <th>1.0</th>\n",
              "      <td>1410</td>\n",
              "    </tr>\n",
              "    <tr>\n",
              "      <th>-1.0</th>\n",
              "      <td>1398</td>\n",
              "    </tr>\n",
              "  </tbody>\n",
              "</table>\n",
              "</div><br><label><b>dtype:</b> int64</label>"
            ]
          },
          "metadata": {},
          "execution_count": 50
        }
      ],
      "source": [
        "lab = pd.read_csv(root_data + 'Results/'+symbol+'_'+strategy+'_'+time_frame+'_Strategy_Gen_Labels.csv', index_col=0)\n",
        "lab['Date'] = pd.to_datetime(lab['Date'])\n",
        "\n",
        "print('Min_Date    : ',lab['Date'].min())\n",
        "print('Min_Date    : ',lab['Date'].max(),'\\n')\n",
        "print('Number_Rows : ',lab.shape,'\\n')\n",
        "print('Columns     : ',lab.columns)\n",
        "\n",
        "lab['Open_Trade'].value_counts()"
      ]
    },
    {
      "cell_type": "code",
      "execution_count": 51,
      "id": "apV2tezPsbux",
      "metadata": {
        "colab": {
          "base_uri": "https://localhost:8080/"
        },
        "id": "apV2tezPsbux",
        "outputId": "eec53f17-1416-44fc-dd7a-63f1b7a69964"
      },
      "outputs": [
        {
          "output_type": "stream",
          "name": "stdout",
          "text": [
            "Total_Trades = 2,808\n",
            "\n",
            "Mean st_atr_max_PnL = 558.03\n",
            "\n",
            "Above_Mean = 1,157,726.00\n",
            "Below_Mean = 408,653.00\n",
            "\n",
            "<= 0.5 = 0.00\n",
            "> 0.5 & <= 1 = 65,504.00\n",
            "> 1 & <= 1.5 = 117,528.00\n",
            "> 1.5 & <= 2 = 136,948.00\n",
            "> 2 = 1,139,475.00\n"
          ]
        }
      ],
      "source": [
        "#analyse_column = 'st_atr_max_PnL'\n",
        "analyse_column = 'st_Max'\n",
        "\n",
        "st_max_0  = lab.loc[((lab['Open_Trade']==1) |(lab['Open_Trade']==-1)),:]['Open_Trade'].count()\n",
        "st_max_1  = lab.loc[((lab['Open_Trade']==1) |(lab['Open_Trade']==-1)),analyse_column].mean()\n",
        "st_max_2  = lab.loc[((lab['Open_Trade']==1) |(lab['Open_Trade']==-1)) & (lab['st_atr_max_PnL'] >= 1.93),analyse_column].sum()\n",
        "st_max_25 = lab.loc[((lab['Open_Trade']==1) |(lab['Open_Trade']==-1)) & (lab['st_atr_max_PnL'] <= 1.93),analyse_column].sum()\n",
        "\n",
        "\n",
        "st_max_3 = lab.loc[(((lab['Open_Trade']==1) |(lab['Open_Trade']==-1)) & (lab['st_atr_max_PnL'] <= 0)),analyse_column].sum()\n",
        "\n",
        "st_max_4 = lab.loc[(((lab['Open_Trade']==1) |(lab['Open_Trade']==-1)) &\n",
        "                   (lab['st_atr_max_PnL'] > 0.7) & (lab['st_atr_max_PnL'] <= 1)),analyse_column].sum()\n",
        "\n",
        "st_max_5 = lab.loc[(((lab['Open_Trade']==1) |(lab['Open_Trade']==-1)) &\n",
        "                   (lab['st_atr_max_PnL'] > 1) &\n",
        "                   (lab['st_atr_max_PnL'] <= 1.5)),analyse_column].sum()\n",
        "\n",
        "st_max_6 = lab.loc[(((lab['Open_Trade']==1) |(lab['Open_Trade']==-1)) &\n",
        "                   (lab['st_atr_max_PnL'] > 1.5) &\n",
        "                   (lab['st_atr_max_PnL'] <= 2)),analyse_column].sum()\n",
        "\n",
        "st_max_7 = lab.loc[(((lab['Open_Trade']==1) |(lab['Open_Trade']==-1)) &\n",
        "                   (lab['st_atr_max_PnL'] > 2)),analyse_column].sum()\n",
        "\n",
        "\n",
        "print(f'Total_Trades = {st_max_0:,.0f}\\n')\n",
        "print(f'Mean st_atr_max_PnL = {st_max_1:,.2f}\\n')\n",
        "print(f'Above_Mean = {st_max_2:,.2f}')\n",
        "print(f'Below_Mean = {st_max_25:,.2f}\\n')\n",
        "\n",
        "print(f'<= 0.5 = {st_max_3:,.2f}')\n",
        "print(f'> 0.5 & <= 1 = {st_max_4:,.2f}')\n",
        "print(f'> 1 & <= 1.5 = {st_max_5:,.2f}')\n",
        "print(f'> 1.5 & <= 2 = {st_max_6:,.2f}')\n",
        "print(f'> 2 = {st_max_7:,.2f}')"
      ]
    },
    {
      "cell_type": "code",
      "execution_count": 52,
      "id": "p2fjs4Si792v",
      "metadata": {
        "colab": {
          "base_uri": "https://localhost:8080/"
        },
        "id": "p2fjs4Si792v",
        "outputId": "f1ffd476-69a4-42f8-96c6-2f3731b1af79"
      },
      "outputs": [
        {
          "output_type": "stream",
          "name": "stdout",
          "text": [
            "Total_Trades = 2,808\n",
            "\n",
            "Mean st_atr_max_PnL = 2.05\n",
            "\n",
            "Above_Mean = 986.00\n",
            "Below_Mean = 1,822.00\n",
            "\n",
            "<= 0.5 = 777.00\n",
            "> 0.5 & <= 1 = 511.00\n",
            "> 1 = 1,520.00\n"
          ]
        }
      ],
      "source": [
        "analyse_column = 'st_atr_max_PnL'\n",
        "\n",
        "st_max_0 = lab.loc[((lab['Open_Trade']==1) |(lab['Open_Trade']==-1)),:]['Open_Trade'].count()\n",
        "st_max_1 = lab.loc[((lab['Open_Trade']==1) |(lab['Open_Trade']==-1)),analyse_column].mean()\n",
        "st_max_2 = lab.loc[((lab['Open_Trade']==1) |(lab['Open_Trade']==-1)) & (lab['st_atr_max_PnL'] >= 1.93),analyse_column].count()\n",
        "st_max_25 = lab.loc[((lab['Open_Trade']==1) |(lab['Open_Trade']==-1)) & (lab['st_atr_max_PnL'] <= 1.93),analyse_column].count()\n",
        "\n",
        "st_max_3 = lab.loc[(((lab['Open_Trade']==1) |(lab['Open_Trade']==-1)) &\n",
        "                    (lab['st_atr_max_PnL'] <= 0.5)),analyse_column].count()\n",
        "\n",
        "st_max_4 = lab.loc[(((lab['Open_Trade']==1) |(lab['Open_Trade']==-1)) &\n",
        "                     (lab['st_atr_max_PnL'] >= 0.5) & (lab['st_atr_max_PnL'] <= 1)),analyse_column].count()\n",
        "\n",
        "st_max_5 = lab.loc[((lab['Open_Trade']==1) |(lab['Open_Trade']==-1)) &\n",
        "                   (lab['st_atr_max_PnL'] >= 1), analyse_column].count()\n",
        "\n",
        "print(f'Total_Trades = {st_max_0:,.0f}\\n')\n",
        "print(f'Mean st_atr_max_PnL = {st_max_1:,.2f}\\n')\n",
        "print(f'Above_Mean = {st_max_2:,.2f}')\n",
        "print(f'Below_Mean = {st_max_25:,.2f}\\n')\n",
        "\n",
        "print(f'<= 0.5 = {st_max_3:,.2f}')\n",
        "print(f'> 0.5 & <= 1 = {st_max_4:,.2f}')\n",
        "print(f'> 1 = {st_max_5:,.2f}')\n"
      ]
    },
    {
      "cell_type": "code",
      "execution_count": 53,
      "id": "85DATjQqZd66",
      "metadata": {
        "colab": {
          "base_uri": "https://localhost:8080/"
        },
        "id": "85DATjQqZd66",
        "outputId": "ac30a8df-910a-457d-9f67-3bbfab264459"
      },
      "outputs": [
        {
          "output_type": "stream",
          "name": "stdout",
          "text": [
            "\n",
            "Value counts de label 4/5/6:\n",
            "label\n",
            "0    1288\n",
            "1    1520\n",
            "Name: count, dtype: int64\n"
          ]
        }
      ],
      "source": [
        "# --- Parámetros / campos\n",
        "result_field = 'st_atr_max_PnL'\n",
        "\n",
        "#valid = (\n",
        "#    (lab['Type'] == direction) &\n",
        "#    (lab['Open_Trade'].isin([1, -1])) &\n",
        "#    (lab[result_field].notna()))\n",
        "\n",
        "valid = (\n",
        "    (lab['Open_Trade'].isin([1, -1])) &\n",
        "    (lab[result_field].notna()))\n",
        "\n",
        "\n",
        "# --- Etiquetado en la columna \"label\" con valores 4/5/6\n",
        "lab['label'] = np.nan\n",
        "lab.loc[valid & (lab[result_field] <= 1), 'label'] = 0\n",
        "lab.loc[valid & (lab[result_field] >= 1), 'label'] = 1\n",
        "\n",
        "\n",
        "# --- Mantener solo filas válidas y con label\n",
        "lab = lab.loc[valid & lab['label'].notna()].copy()\n",
        "lab['label'] = lab['label'].astype('int8')\n",
        "\n",
        "# --- Ver distribución de labels 4/5/6\n",
        "print('\\nValue counts de label 4/5/6:')\n",
        "print(lab['label'].value_counts(dropna=False).sort_index())\n"
      ]
    },
    {
      "cell_type": "markdown",
      "id": "_BCdqt3Y0Fjm",
      "metadata": {
        "id": "_BCdqt3Y0Fjm"
      },
      "source": [
        "## Features"
      ]
    },
    {
      "cell_type": "code",
      "execution_count": 54,
      "id": "u1I6_IHtGgbE",
      "metadata": {
        "colab": {
          "base_uri": "https://localhost:8080/"
        },
        "id": "u1I6_IHtGgbE",
        "outputId": "9126c7b8-4067-4bf3-b022-9755da673890"
      },
      "outputs": [
        {
          "output_type": "stream",
          "name": "stdout",
          "text": [
            "(268296, 366)\n"
          ]
        }
      ],
      "source": [
        "raw_feat_15min = pd.read_csv(root_data+'Results/'+symbol+'_M15_Raw_Features.csv')\n",
        "raw_feat_15min[\"Date\"] = pd.to_datetime(raw_feat_15min[\"Date\"])\n",
        "print(raw_feat_15min.shape)\n",
        "#raw_feat_15min.head(5)"
      ]
    },
    {
      "cell_type": "code",
      "execution_count": 55,
      "id": "8jK6LavOGgbF",
      "metadata": {
        "colab": {
          "base_uri": "https://localhost:8080/",
          "height": 464
        },
        "id": "8jK6LavOGgbF",
        "outputId": "075c2124-b7c9-444f-a7b2-ed9630f92163"
      },
      "outputs": [
        {
          "output_type": "stream",
          "name": "stdout",
          "text": [
            "(268296, 366)\n"
          ]
        },
        {
          "output_type": "execute_result",
          "data": {
            "text/plain": [
              "                      Date  15min_OBV  15min_RSI_3  15min_MFI_3  15min_RSI_7  \\\n",
              "268291 2025-07-25 23:10:00  -0.678811    -0.876084    -1.302567     0.119717   \n",
              "268292 2025-07-25 23:20:00  -0.713760    -1.108173    -1.292210    -0.149088   \n",
              "268293 2025-07-25 23:30:00  -0.649067     1.064528    -0.311180     1.102293   \n",
              "268294 2025-07-25 23:40:00  -0.707530    -0.566703    -0.264287    -0.315545   \n",
              "268295 2025-07-25 23:50:00  -0.652857    -0.487742    -0.286408    -0.265147   \n",
              "\n",
              "        15min_MFI_7  15min_RSI_14  15min_MFI_14  15min_RSI_3_diff  \\\n",
              "268291    -0.719882      0.897443      0.911516         -0.368162   \n",
              "268292    -1.438063      0.732902      0.520889         -0.289632   \n",
              "268293    -1.572824      1.394754      0.325417          2.685337   \n",
              "268294    -1.524675      0.396390      0.554163         -2.004983   \n",
              "268295    -1.447693      0.422128      0.223350          0.097241   \n",
              "\n",
              "        15min_RSI_7_diff  ...  \\\n",
              "268291         -0.506248  ...   \n",
              "268292         -0.461977  ...   \n",
              "268293          2.126853  ...   \n",
              "268294         -2.380777  ...   \n",
              "268295          0.085239  ...   \n",
              "\n",
              "        15min_slope_lin_reg_signal_600_6 - slope_lin_reg_signal_600_9  \\\n",
              "268291                                           0.081175               \n",
              "268292                                           0.081175               \n",
              "268293                                           0.081175               \n",
              "268294                                           0.081175               \n",
              "268295                                           0.081175               \n",
              "\n",
              "        15min_slope_lin_reg_signal_600_6 - slope_lin_reg_signal_900_3  \\\n",
              "268291                                           0.044165               \n",
              "268292                                           0.044165               \n",
              "268293                                           0.044165               \n",
              "268294                                           0.044165               \n",
              "268295                                           0.030089               \n",
              "\n",
              "        15min_slope_lin_reg_signal_600_6 - slope_lin_reg_signal_900_6  \\\n",
              "268291                                          -0.063931               \n",
              "268292                                          -0.063931               \n",
              "268293                                          -0.063931               \n",
              "268294                                          -0.063931               \n",
              "268295                                          -0.089578               \n",
              "\n",
              "        15min_slope_lin_reg_signal_600_6 - slope_lin_reg_signal_900_9  \\\n",
              "268291                                            0.07562               \n",
              "268292                                            0.07562               \n",
              "268293                                            0.07562               \n",
              "268294                                            0.07562               \n",
              "268295                                            0.07562               \n",
              "\n",
              "        15min_slope_lin_reg_signal_600_9 - slope_lin_reg_signal_900_3  \\\n",
              "268291                                           -0.02420               \n",
              "268292                                           -0.02420               \n",
              "268293                                           -0.02420               \n",
              "268294                                           -0.02420               \n",
              "268295                                           -0.03686               \n",
              "\n",
              "        15min_slope_lin_reg_signal_600_9 - slope_lin_reg_signal_900_6  \\\n",
              "268291                                          -0.103575               \n",
              "268292                                          -0.103575               \n",
              "268293                                          -0.103575               \n",
              "268294                                          -0.103575               \n",
              "268295                                          -0.118712               \n",
              "\n",
              "        15min_slope_lin_reg_signal_600_9 - slope_lin_reg_signal_900_9  \\\n",
              "268291                                          -0.026669               \n",
              "268292                                          -0.026669               \n",
              "268293                                          -0.026669               \n",
              "268294                                          -0.026669               \n",
              "268295                                          -0.026669               \n",
              "\n",
              "        15min_slope_lin_reg_signal_900_3 - slope_lin_reg_signal_900_6  \\\n",
              "268291                                          -0.090598               \n",
              "268292                                          -0.090598               \n",
              "268293                                          -0.090598               \n",
              "268294                                          -0.090598               \n",
              "268295                                          -0.090598               \n",
              "\n",
              "        15min_slope_lin_reg_signal_900_3 - slope_lin_reg_signal_900_9  \\\n",
              "268291                                           0.013099               \n",
              "268292                                           0.013099               \n",
              "268293                                           0.013099               \n",
              "268294                                           0.013099               \n",
              "268295                                           0.026669               \n",
              "\n",
              "        15min_slope_lin_reg_signal_900_6 - slope_lin_reg_signal_900_9  \n",
              "268291                                           0.099235              \n",
              "268292                                           0.099235              \n",
              "268293                                           0.099235              \n",
              "268294                                           0.099235              \n",
              "268295                                           0.115957              \n",
              "\n",
              "[5 rows x 366 columns]"
            ],
            "text/html": [
              "\n",
              "  <div id=\"df-1c1327c4-729e-47c1-aaf7-e2f039217304\" class=\"colab-df-container\">\n",
              "    <div>\n",
              "<style scoped>\n",
              "    .dataframe tbody tr th:only-of-type {\n",
              "        vertical-align: middle;\n",
              "    }\n",
              "\n",
              "    .dataframe tbody tr th {\n",
              "        vertical-align: top;\n",
              "    }\n",
              "\n",
              "    .dataframe thead th {\n",
              "        text-align: right;\n",
              "    }\n",
              "</style>\n",
              "<table border=\"1\" class=\"dataframe\">\n",
              "  <thead>\n",
              "    <tr style=\"text-align: right;\">\n",
              "      <th></th>\n",
              "      <th>Date</th>\n",
              "      <th>15min_OBV</th>\n",
              "      <th>15min_RSI_3</th>\n",
              "      <th>15min_MFI_3</th>\n",
              "      <th>15min_RSI_7</th>\n",
              "      <th>15min_MFI_7</th>\n",
              "      <th>15min_RSI_14</th>\n",
              "      <th>15min_MFI_14</th>\n",
              "      <th>15min_RSI_3_diff</th>\n",
              "      <th>15min_RSI_7_diff</th>\n",
              "      <th>...</th>\n",
              "      <th>15min_slope_lin_reg_signal_600_6 - slope_lin_reg_signal_600_9</th>\n",
              "      <th>15min_slope_lin_reg_signal_600_6 - slope_lin_reg_signal_900_3</th>\n",
              "      <th>15min_slope_lin_reg_signal_600_6 - slope_lin_reg_signal_900_6</th>\n",
              "      <th>15min_slope_lin_reg_signal_600_6 - slope_lin_reg_signal_900_9</th>\n",
              "      <th>15min_slope_lin_reg_signal_600_9 - slope_lin_reg_signal_900_3</th>\n",
              "      <th>15min_slope_lin_reg_signal_600_9 - slope_lin_reg_signal_900_6</th>\n",
              "      <th>15min_slope_lin_reg_signal_600_9 - slope_lin_reg_signal_900_9</th>\n",
              "      <th>15min_slope_lin_reg_signal_900_3 - slope_lin_reg_signal_900_6</th>\n",
              "      <th>15min_slope_lin_reg_signal_900_3 - slope_lin_reg_signal_900_9</th>\n",
              "      <th>15min_slope_lin_reg_signal_900_6 - slope_lin_reg_signal_900_9</th>\n",
              "    </tr>\n",
              "  </thead>\n",
              "  <tbody>\n",
              "    <tr>\n",
              "      <th>268291</th>\n",
              "      <td>2025-07-25 23:10:00</td>\n",
              "      <td>-0.678811</td>\n",
              "      <td>-0.876084</td>\n",
              "      <td>-1.302567</td>\n",
              "      <td>0.119717</td>\n",
              "      <td>-0.719882</td>\n",
              "      <td>0.897443</td>\n",
              "      <td>0.911516</td>\n",
              "      <td>-0.368162</td>\n",
              "      <td>-0.506248</td>\n",
              "      <td>...</td>\n",
              "      <td>0.081175</td>\n",
              "      <td>0.044165</td>\n",
              "      <td>-0.063931</td>\n",
              "      <td>0.07562</td>\n",
              "      <td>-0.02420</td>\n",
              "      <td>-0.103575</td>\n",
              "      <td>-0.026669</td>\n",
              "      <td>-0.090598</td>\n",
              "      <td>0.013099</td>\n",
              "      <td>0.099235</td>\n",
              "    </tr>\n",
              "    <tr>\n",
              "      <th>268292</th>\n",
              "      <td>2025-07-25 23:20:00</td>\n",
              "      <td>-0.713760</td>\n",
              "      <td>-1.108173</td>\n",
              "      <td>-1.292210</td>\n",
              "      <td>-0.149088</td>\n",
              "      <td>-1.438063</td>\n",
              "      <td>0.732902</td>\n",
              "      <td>0.520889</td>\n",
              "      <td>-0.289632</td>\n",
              "      <td>-0.461977</td>\n",
              "      <td>...</td>\n",
              "      <td>0.081175</td>\n",
              "      <td>0.044165</td>\n",
              "      <td>-0.063931</td>\n",
              "      <td>0.07562</td>\n",
              "      <td>-0.02420</td>\n",
              "      <td>-0.103575</td>\n",
              "      <td>-0.026669</td>\n",
              "      <td>-0.090598</td>\n",
              "      <td>0.013099</td>\n",
              "      <td>0.099235</td>\n",
              "    </tr>\n",
              "    <tr>\n",
              "      <th>268293</th>\n",
              "      <td>2025-07-25 23:30:00</td>\n",
              "      <td>-0.649067</td>\n",
              "      <td>1.064528</td>\n",
              "      <td>-0.311180</td>\n",
              "      <td>1.102293</td>\n",
              "      <td>-1.572824</td>\n",
              "      <td>1.394754</td>\n",
              "      <td>0.325417</td>\n",
              "      <td>2.685337</td>\n",
              "      <td>2.126853</td>\n",
              "      <td>...</td>\n",
              "      <td>0.081175</td>\n",
              "      <td>0.044165</td>\n",
              "      <td>-0.063931</td>\n",
              "      <td>0.07562</td>\n",
              "      <td>-0.02420</td>\n",
              "      <td>-0.103575</td>\n",
              "      <td>-0.026669</td>\n",
              "      <td>-0.090598</td>\n",
              "      <td>0.013099</td>\n",
              "      <td>0.099235</td>\n",
              "    </tr>\n",
              "    <tr>\n",
              "      <th>268294</th>\n",
              "      <td>2025-07-25 23:40:00</td>\n",
              "      <td>-0.707530</td>\n",
              "      <td>-0.566703</td>\n",
              "      <td>-0.264287</td>\n",
              "      <td>-0.315545</td>\n",
              "      <td>-1.524675</td>\n",
              "      <td>0.396390</td>\n",
              "      <td>0.554163</td>\n",
              "      <td>-2.004983</td>\n",
              "      <td>-2.380777</td>\n",
              "      <td>...</td>\n",
              "      <td>0.081175</td>\n",
              "      <td>0.044165</td>\n",
              "      <td>-0.063931</td>\n",
              "      <td>0.07562</td>\n",
              "      <td>-0.02420</td>\n",
              "      <td>-0.103575</td>\n",
              "      <td>-0.026669</td>\n",
              "      <td>-0.090598</td>\n",
              "      <td>0.013099</td>\n",
              "      <td>0.099235</td>\n",
              "    </tr>\n",
              "    <tr>\n",
              "      <th>268295</th>\n",
              "      <td>2025-07-25 23:50:00</td>\n",
              "      <td>-0.652857</td>\n",
              "      <td>-0.487742</td>\n",
              "      <td>-0.286408</td>\n",
              "      <td>-0.265147</td>\n",
              "      <td>-1.447693</td>\n",
              "      <td>0.422128</td>\n",
              "      <td>0.223350</td>\n",
              "      <td>0.097241</td>\n",
              "      <td>0.085239</td>\n",
              "      <td>...</td>\n",
              "      <td>0.081175</td>\n",
              "      <td>0.030089</td>\n",
              "      <td>-0.089578</td>\n",
              "      <td>0.07562</td>\n",
              "      <td>-0.03686</td>\n",
              "      <td>-0.118712</td>\n",
              "      <td>-0.026669</td>\n",
              "      <td>-0.090598</td>\n",
              "      <td>0.026669</td>\n",
              "      <td>0.115957</td>\n",
              "    </tr>\n",
              "  </tbody>\n",
              "</table>\n",
              "<p>5 rows × 366 columns</p>\n",
              "</div>\n",
              "    <div class=\"colab-df-buttons\">\n",
              "\n",
              "  <div class=\"colab-df-container\">\n",
              "    <button class=\"colab-df-convert\" onclick=\"convertToInteractive('df-1c1327c4-729e-47c1-aaf7-e2f039217304')\"\n",
              "            title=\"Convert this dataframe to an interactive table.\"\n",
              "            style=\"display:none;\">\n",
              "\n",
              "  <svg xmlns=\"http://www.w3.org/2000/svg\" height=\"24px\" viewBox=\"0 -960 960 960\">\n",
              "    <path d=\"M120-120v-720h720v720H120Zm60-500h600v-160H180v160Zm220 220h160v-160H400v160Zm0 220h160v-160H400v160ZM180-400h160v-160H180v160Zm440 0h160v-160H620v160ZM180-180h160v-160H180v160Zm440 0h160v-160H620v160Z\"/>\n",
              "  </svg>\n",
              "    </button>\n",
              "\n",
              "  <style>\n",
              "    .colab-df-container {\n",
              "      display:flex;\n",
              "      gap: 12px;\n",
              "    }\n",
              "\n",
              "    .colab-df-convert {\n",
              "      background-color: #E8F0FE;\n",
              "      border: none;\n",
              "      border-radius: 50%;\n",
              "      cursor: pointer;\n",
              "      display: none;\n",
              "      fill: #1967D2;\n",
              "      height: 32px;\n",
              "      padding: 0 0 0 0;\n",
              "      width: 32px;\n",
              "    }\n",
              "\n",
              "    .colab-df-convert:hover {\n",
              "      background-color: #E2EBFA;\n",
              "      box-shadow: 0px 1px 2px rgba(60, 64, 67, 0.3), 0px 1px 3px 1px rgba(60, 64, 67, 0.15);\n",
              "      fill: #174EA6;\n",
              "    }\n",
              "\n",
              "    .colab-df-buttons div {\n",
              "      margin-bottom: 4px;\n",
              "    }\n",
              "\n",
              "    [theme=dark] .colab-df-convert {\n",
              "      background-color: #3B4455;\n",
              "      fill: #D2E3FC;\n",
              "    }\n",
              "\n",
              "    [theme=dark] .colab-df-convert:hover {\n",
              "      background-color: #434B5C;\n",
              "      box-shadow: 0px 1px 3px 1px rgba(0, 0, 0, 0.15);\n",
              "      filter: drop-shadow(0px 1px 2px rgba(0, 0, 0, 0.3));\n",
              "      fill: #FFFFFF;\n",
              "    }\n",
              "  </style>\n",
              "\n",
              "    <script>\n",
              "      const buttonEl =\n",
              "        document.querySelector('#df-1c1327c4-729e-47c1-aaf7-e2f039217304 button.colab-df-convert');\n",
              "      buttonEl.style.display =\n",
              "        google.colab.kernel.accessAllowed ? 'block' : 'none';\n",
              "\n",
              "      async function convertToInteractive(key) {\n",
              "        const element = document.querySelector('#df-1c1327c4-729e-47c1-aaf7-e2f039217304');\n",
              "        const dataTable =\n",
              "          await google.colab.kernel.invokeFunction('convertToInteractive',\n",
              "                                                    [key], {});\n",
              "        if (!dataTable) return;\n",
              "\n",
              "        const docLinkHtml = 'Like what you see? Visit the ' +\n",
              "          '<a target=\"_blank\" href=https://colab.research.google.com/notebooks/data_table.ipynb>data table notebook</a>'\n",
              "          + ' to learn more about interactive tables.';\n",
              "        element.innerHTML = '';\n",
              "        dataTable['output_type'] = 'display_data';\n",
              "        await google.colab.output.renderOutput(dataTable, element);\n",
              "        const docLink = document.createElement('div');\n",
              "        docLink.innerHTML = docLinkHtml;\n",
              "        element.appendChild(docLink);\n",
              "      }\n",
              "    </script>\n",
              "  </div>\n",
              "\n",
              "\n",
              "    <div id=\"df-33cc1b5f-edca-41a5-9af8-09e663f7ccee\">\n",
              "      <button class=\"colab-df-quickchart\" onclick=\"quickchart('df-33cc1b5f-edca-41a5-9af8-09e663f7ccee')\"\n",
              "                title=\"Suggest charts\"\n",
              "                style=\"display:none;\">\n",
              "\n",
              "<svg xmlns=\"http://www.w3.org/2000/svg\" height=\"24px\"viewBox=\"0 0 24 24\"\n",
              "     width=\"24px\">\n",
              "    <g>\n",
              "        <path d=\"M19 3H5c-1.1 0-2 .9-2 2v14c0 1.1.9 2 2 2h14c1.1 0 2-.9 2-2V5c0-1.1-.9-2-2-2zM9 17H7v-7h2v7zm4 0h-2V7h2v10zm4 0h-2v-4h2v4z\"/>\n",
              "    </g>\n",
              "</svg>\n",
              "      </button>\n",
              "\n",
              "<style>\n",
              "  .colab-df-quickchart {\n",
              "      --bg-color: #E8F0FE;\n",
              "      --fill-color: #1967D2;\n",
              "      --hover-bg-color: #E2EBFA;\n",
              "      --hover-fill-color: #174EA6;\n",
              "      --disabled-fill-color: #AAA;\n",
              "      --disabled-bg-color: #DDD;\n",
              "  }\n",
              "\n",
              "  [theme=dark] .colab-df-quickchart {\n",
              "      --bg-color: #3B4455;\n",
              "      --fill-color: #D2E3FC;\n",
              "      --hover-bg-color: #434B5C;\n",
              "      --hover-fill-color: #FFFFFF;\n",
              "      --disabled-bg-color: #3B4455;\n",
              "      --disabled-fill-color: #666;\n",
              "  }\n",
              "\n",
              "  .colab-df-quickchart {\n",
              "    background-color: var(--bg-color);\n",
              "    border: none;\n",
              "    border-radius: 50%;\n",
              "    cursor: pointer;\n",
              "    display: none;\n",
              "    fill: var(--fill-color);\n",
              "    height: 32px;\n",
              "    padding: 0;\n",
              "    width: 32px;\n",
              "  }\n",
              "\n",
              "  .colab-df-quickchart:hover {\n",
              "    background-color: var(--hover-bg-color);\n",
              "    box-shadow: 0 1px 2px rgba(60, 64, 67, 0.3), 0 1px 3px 1px rgba(60, 64, 67, 0.15);\n",
              "    fill: var(--button-hover-fill-color);\n",
              "  }\n",
              "\n",
              "  .colab-df-quickchart-complete:disabled,\n",
              "  .colab-df-quickchart-complete:disabled:hover {\n",
              "    background-color: var(--disabled-bg-color);\n",
              "    fill: var(--disabled-fill-color);\n",
              "    box-shadow: none;\n",
              "  }\n",
              "\n",
              "  .colab-df-spinner {\n",
              "    border: 2px solid var(--fill-color);\n",
              "    border-color: transparent;\n",
              "    border-bottom-color: var(--fill-color);\n",
              "    animation:\n",
              "      spin 1s steps(1) infinite;\n",
              "  }\n",
              "\n",
              "  @keyframes spin {\n",
              "    0% {\n",
              "      border-color: transparent;\n",
              "      border-bottom-color: var(--fill-color);\n",
              "      border-left-color: var(--fill-color);\n",
              "    }\n",
              "    20% {\n",
              "      border-color: transparent;\n",
              "      border-left-color: var(--fill-color);\n",
              "      border-top-color: var(--fill-color);\n",
              "    }\n",
              "    30% {\n",
              "      border-color: transparent;\n",
              "      border-left-color: var(--fill-color);\n",
              "      border-top-color: var(--fill-color);\n",
              "      border-right-color: var(--fill-color);\n",
              "    }\n",
              "    40% {\n",
              "      border-color: transparent;\n",
              "      border-right-color: var(--fill-color);\n",
              "      border-top-color: var(--fill-color);\n",
              "    }\n",
              "    60% {\n",
              "      border-color: transparent;\n",
              "      border-right-color: var(--fill-color);\n",
              "    }\n",
              "    80% {\n",
              "      border-color: transparent;\n",
              "      border-right-color: var(--fill-color);\n",
              "      border-bottom-color: var(--fill-color);\n",
              "    }\n",
              "    90% {\n",
              "      border-color: transparent;\n",
              "      border-bottom-color: var(--fill-color);\n",
              "    }\n",
              "  }\n",
              "</style>\n",
              "\n",
              "      <script>\n",
              "        async function quickchart(key) {\n",
              "          const quickchartButtonEl =\n",
              "            document.querySelector('#' + key + ' button');\n",
              "          quickchartButtonEl.disabled = true;  // To prevent multiple clicks.\n",
              "          quickchartButtonEl.classList.add('colab-df-spinner');\n",
              "          try {\n",
              "            const charts = await google.colab.kernel.invokeFunction(\n",
              "                'suggestCharts', [key], {});\n",
              "          } catch (error) {\n",
              "            console.error('Error during call to suggestCharts:', error);\n",
              "          }\n",
              "          quickchartButtonEl.classList.remove('colab-df-spinner');\n",
              "          quickchartButtonEl.classList.add('colab-df-quickchart-complete');\n",
              "        }\n",
              "        (() => {\n",
              "          let quickchartButtonEl =\n",
              "            document.querySelector('#df-33cc1b5f-edca-41a5-9af8-09e663f7ccee button');\n",
              "          quickchartButtonEl.style.display =\n",
              "            google.colab.kernel.accessAllowed ? 'block' : 'none';\n",
              "        })();\n",
              "      </script>\n",
              "    </div>\n",
              "\n",
              "    </div>\n",
              "  </div>\n"
            ],
            "application/vnd.google.colaboratory.intrinsic+json": {
              "type": "dataframe"
            }
          },
          "metadata": {},
          "execution_count": 55
        }
      ],
      "source": [
        "scale_feat_15min = pd.read_csv(root_data+'Results/'+symbol+'_M15_Scale_Features.csv')\n",
        "scale_feat_15min = scale_feat_15min.drop('Unnamed: 0', axis=1)\n",
        "scale_feat_15min.rename(columns={'15min_Date': 'Date'}, inplace=True)\n",
        "scale_feat_15min[\"Date\"] = pd.to_datetime(scale_feat_15min[\"Date\"])\n",
        "print(scale_feat_15min.shape)\n",
        "scale_feat_15min.tail(5)\n"
      ]
    },
    {
      "cell_type": "code",
      "execution_count": 57,
      "id": "gX04ZTmfz-pK",
      "metadata": {
        "colab": {
          "base_uri": "https://localhost:8080/"
        },
        "id": "gX04ZTmfz-pK",
        "outputId": "181cf99f-78ce-485d-e364-211b1118f490"
      },
      "outputs": [
        {
          "output_type": "stream",
          "name": "stdout",
          "text": [
            "(465703, 366)\n"
          ]
        }
      ],
      "source": [
        "raw_feat_5min = pd.read_csv(root_data+'Results/'+symbol+'_M5_Raw_Features.csv')\n",
        "raw_feat_5min[\"Date\"] = pd.to_datetime(raw_feat_5min[\"Date\"])\n",
        "print(raw_feat_5min.shape)\n",
        "#raw_feat_5min.head(5)"
      ]
    },
    {
      "cell_type": "code",
      "execution_count": 58,
      "id": "D5gxf0ke0KUx",
      "metadata": {
        "colab": {
          "base_uri": "https://localhost:8080/"
        },
        "id": "D5gxf0ke0KUx",
        "outputId": "4624c454-c4a7-40d7-ae93-c9b373c60da8"
      },
      "outputs": [
        {
          "output_type": "stream",
          "name": "stdout",
          "text": [
            "(465703, 366)\n"
          ]
        }
      ],
      "source": [
        "scale_feat_5min = pd.read_csv(root_data+'Results/'+symbol+'_M5_Scale_Features.csv')\n",
        "scale_feat_5min = scale_feat_5min.drop('Unnamed: 0', axis=1)\n",
        "scale_feat_5min[\"Date\"] = pd.to_datetime(scale_feat_5min[\"Date\"])\n",
        "print(scale_feat_5min.shape)\n",
        "#scale_feat_5min.head(5)"
      ]
    },
    {
      "cell_type": "code",
      "execution_count": 59,
      "id": "hwsOt0mbFWeo",
      "metadata": {
        "colab": {
          "base_uri": "https://localhost:8080/"
        },
        "id": "hwsOt0mbFWeo",
        "outputId": "61f7273a-efb6-4a13-c739-7d470a06d3eb"
      },
      "outputs": [
        {
          "output_type": "stream",
          "name": "stdout",
          "text": [
            "NaN counts per column (sorted): \n",
            "\n",
            "slope_lin_reg_signal_900_6 - slope_lin_reg_signal_900_9    199\n",
            "slope_lin_reg_signal_900_3 - slope_lin_reg_signal_900_9    199\n",
            "OBV                                                        199\n",
            "RSI_3                                                      199\n",
            "MFI_3                                                      199\n",
            "                                                          ... \n",
            "MFI_3 - MFI_7                                              199\n",
            "MFI_3 - MFI_14                                             199\n",
            "MFI_7 - MFI_14                                             199\n",
            "OBV_diff                                                   199\n",
            "Date                                                         0\n",
            "Length: 366, dtype: int64 \n",
            "\n"
          ]
        }
      ],
      "source": [
        "print(\"NaN counts per column (sorted):\",'\\n')\n",
        "print(scale_feat_5min.isnull().sum().sort_values(ascending=False), '\\n')"
      ]
    },
    {
      "cell_type": "code",
      "execution_count": 60,
      "id": "cHlD0eRb0scj",
      "metadata": {
        "colab": {
          "base_uri": "https://localhost:8080/"
        },
        "id": "cHlD0eRb0scj",
        "outputId": "29848b8b-41b5-4ba0-dbb8-90ee21f046f2"
      },
      "outputs": [
        {
          "output_type": "stream",
          "name": "stdout",
          "text": [
            "(268281, 366)\n"
          ]
        }
      ],
      "source": [
        "raw_feat_10min = pd.read_csv(root_data+'Results/'+symbol+'_M10_Raw_Features.csv')\n",
        "raw_feat_10min[\"Date\"] = pd.to_datetime(raw_feat_10min[\"Date\"])\n",
        "\n",
        "# Add \"10min_\" prefix to all column names except 'Date'\n",
        "cols_to_prefix = [col for col in raw_feat_10min.columns if col != 'Date']\n",
        "raw_feat_10min.rename(columns={col: col for col in cols_to_prefix}, inplace=True)\n",
        "\n",
        "print(raw_feat_10min.shape)\n",
        "#raw_feat_10min.head(5)"
      ]
    },
    {
      "cell_type": "code",
      "execution_count": 61,
      "id": "O7xrmOA90sck",
      "metadata": {
        "colab": {
          "base_uri": "https://localhost:8080/"
        },
        "id": "O7xrmOA90sck",
        "outputId": "bbd8f960-c546-43a0-d13a-1e752a83e5d3"
      },
      "outputs": [
        {
          "output_type": "stream",
          "name": "stdout",
          "text": [
            "(268281, 366)\n"
          ]
        }
      ],
      "source": [
        "scale_feat_10min = pd.read_csv(root_data+'Results/'+symbol+'_M10_Scale_Features.csv')\n",
        "scale_feat_10min = scale_feat_10min.drop('Unnamed: 0', axis=1)\n",
        "scale_feat_10min[\"Date\"] = pd.to_datetime(scale_feat_10min[\"Date\"])\n",
        "\n",
        "# Add \"10min_\" prefix to all column names except 'Date'\n",
        "cols_to_prefix = [col for col in scale_feat_10min.columns if col != 'Date']\n",
        "scale_feat_10min.rename(columns={col:col for col in cols_to_prefix}, inplace=True)\n",
        "\n",
        "print(scale_feat_10min.shape)\n",
        "#scale_feat_10min.head(5)"
      ]
    },
    {
      "cell_type": "code",
      "execution_count": 62,
      "id": "3rH4dF7HFmJy",
      "metadata": {
        "colab": {
          "base_uri": "https://localhost:8080/"
        },
        "id": "3rH4dF7HFmJy",
        "outputId": "6827535f-d5c3-4d98-e54d-812ca17450bb"
      },
      "outputs": [
        {
          "output_type": "stream",
          "name": "stdout",
          "text": [
            "NaN counts per column (sorted): \n",
            "\n",
            "10min_slope_lin_reg_signal_900_6 - slope_lin_reg_signal_900_9    199\n",
            "10min_slope_lin_reg_signal_900_3 - slope_lin_reg_signal_900_9    199\n",
            "10min_OBV                                                        199\n",
            "10min_RSI_3                                                      199\n",
            "10min_MFI_3                                                      199\n",
            "                                                                ... \n",
            "10min_MFI_3 - MFI_7                                              199\n",
            "10min_MFI_3 - MFI_14                                             199\n",
            "10min_MFI_7 - MFI_14                                             199\n",
            "10min_OBV_diff                                                   199\n",
            "Date                                                               0\n",
            "Length: 366, dtype: int64 \n",
            "\n"
          ]
        }
      ],
      "source": [
        "print(\"NaN counts per column (sorted):\",'\\n')\n",
        "print(scale_feat_10min.isnull().sum().sort_values(ascending=False), '\\n')"
      ]
    },
    {
      "cell_type": "markdown",
      "id": "Hv5bsrpc03z7",
      "metadata": {
        "id": "Hv5bsrpc03z7"
      },
      "source": [
        "## Merge"
      ]
    },
    {
      "cell_type": "code",
      "execution_count": 63,
      "id": "Mc1y2NbRM_f1",
      "metadata": {
        "id": "Mc1y2NbRM_f1"
      },
      "outputs": [],
      "source": [
        "data_type = 'Scale'"
      ]
    },
    {
      "cell_type": "code",
      "execution_count": 64,
      "id": "I0gkNVT60Ka5",
      "metadata": {
        "id": "I0gkNVT60Ka5"
      },
      "outputs": [],
      "source": [
        "# Add \"15min_\" prefix to all column names except 'Date'\n",
        "cols_to_prefix_15min = [col for col in scale_feat_15min.columns if col != 'Date']\n",
        "scale_feat_15min.rename(columns={col: '15min_' + col for col in cols_to_prefix_15min}, inplace=True)\n",
        "\n",
        "# First merge scale_feat_5min with scale_feat_10min and apply forward fill\n",
        "merged_features = scale_feat_5min.merge(scale_feat_10min, on='Date', how='left').ffill()\n",
        "merged_features = merged_features.merge(scale_feat_15min, on='Date', how='left').ffill()\n",
        "\n",
        "# Remove 'Open_Trade' from lab before merging to avoid duplicate columns and ensure correct ordering\n",
        "df = pd.merge(lab[['Date', 'label', 'Open_Trade']], merged_features, on='Date', how='left')\n",
        "\n",
        "cols = df.columns.tolist()\n",
        "cols.remove('label')\n",
        "cols.insert(1, 'label')\n",
        "df = df[cols]"
      ]
    },
    {
      "cell_type": "code",
      "execution_count": 65,
      "id": "fQPfQroWYLRM",
      "metadata": {
        "colab": {
          "base_uri": "https://localhost:8080/"
        },
        "id": "fQPfQroWYLRM",
        "outputId": "6727d0ea-00d0-4fc8-9d2d-b44f0c6a6d89"
      },
      "outputs": [
        {
          "output_type": "stream",
          "name": "stdout",
          "text": [
            "Columns with '15min_' prefix found:\n",
            "['15min_15min_OBV', '15min_15min_RSI_3', '15min_15min_MFI_3', '15min_15min_RSI_7', '15min_15min_MFI_7', '15min_15min_RSI_14', '15min_15min_MFI_14', '15min_15min_RSI_3_diff', '15min_15min_RSI_7_diff', '15min_15min_RSI_14_diff', '15min_15min_RSI_3 - RSI_7', '15min_15min_RSI_3 - RSI_14', '15min_15min_RSI_7 - RSI_14', '15min_15min_MFI_3_diff', '15min_15min_MFI_7_diff', '15min_15min_MFI_14_diff', '15min_15min_MFI_3 - MFI_7', '15min_15min_MFI_3 - MFI_14', '15min_15min_MFI_7 - MFI_14', '15min_15min_OBV_diff', '15min_15min_Kal_300', '15min_15min_Close_Kal_300', '15min_15min_Kal_change_300', '15min_15min_Kal_prev_minus_now_300', '15min_15min_Kal_prev2_minus_now_300', '15min_15min_Kal_change2_300', '15min_15min_Kal_600', '15min_15min_Close_Kal_600', '15min_15min_Kal_change_600', '15min_15min_Kal_prev_minus_now_600', '15min_15min_Kal_prev2_minus_now_600', '15min_15min_Kal_change2_600', '15min_15min_Kal_900', '15min_15min_Close_Kal_900', '15min_15min_Kal_change_900', '15min_15min_Kal_prev_minus_now_900', '15min_15min_Kal_prev2_minus_now_900', '15min_15min_Kal_change2_900', '15min_15min_Kal_300_minus_Kal_600', '15min_15min_Kal_300_minus_Kal_900', '15min_15min_Kal_600_minus_Kal_900', '15min_15min_slope_div_300_3', '15min_15min_slope_div_300_3_diff', '15min_15min_slope_signal_300_3', '15min_15min_slope_signal_300_3_diff', '15min_15min_slope_angle_300_3', '15min_15min_slope_angle_300_3_diff', '15min_15min_slope_angle_signal_300_3', '15min_15min_slope_angle_signal_300_3_diff', '15min_15min_slope_lin_reg_300_3', '15min_15min_slope_lin_reg_300_3_diff', '15min_15min_slope_lin_reg_signal_300_3', '15min_15min_slope_lin_reg_signal_300_3_diff', '15min_15min_slope_div_300_6', '15min_15min_slope_div_300_6_diff', '15min_15min_slope_signal_300_6', '15min_15min_slope_signal_300_6_diff', '15min_15min_slope_angle_300_6', '15min_15min_slope_angle_300_6_diff', '15min_15min_slope_angle_signal_300_6', '15min_15min_slope_angle_signal_300_6_diff', '15min_15min_slope_lin_reg_300_6', '15min_15min_slope_lin_reg_300_6_diff', '15min_15min_slope_lin_reg_signal_300_6', '15min_15min_slope_lin_reg_signal_300_6_diff', '15min_15min_slope_div_300_9', '15min_15min_slope_div_300_9_diff', '15min_15min_slope_signal_300_9', '15min_15min_slope_signal_300_9_diff', '15min_15min_slope_angle_300_9', '15min_15min_slope_angle_300_9_diff', '15min_15min_slope_angle_signal_300_9', '15min_15min_slope_angle_signal_300_9_diff', '15min_15min_slope_lin_reg_300_9', '15min_15min_slope_lin_reg_300_9_diff', '15min_15min_slope_lin_reg_signal_300_9', '15min_15min_slope_lin_reg_signal_300_9_diff', '15min_15min_slope_div_600_3', '15min_15min_slope_div_600_3_diff', '15min_15min_slope_signal_600_3', '15min_15min_slope_signal_600_3_diff', '15min_15min_slope_angle_600_3', '15min_15min_slope_angle_600_3_diff', '15min_15min_slope_angle_signal_600_3', '15min_15min_slope_angle_signal_600_3_diff', '15min_15min_slope_lin_reg_600_3', '15min_15min_slope_lin_reg_600_3_diff', '15min_15min_slope_lin_reg_signal_600_3', '15min_15min_slope_lin_reg_signal_600_3_diff', '15min_15min_slope_div_600_6', '15min_15min_slope_div_600_6_diff', '15min_15min_slope_signal_600_6', '15min_15min_slope_signal_600_6_diff', '15min_15min_slope_angle_600_6', '15min_15min_slope_angle_600_6_diff', '15min_15min_slope_angle_signal_600_6', '15min_15min_slope_angle_signal_600_6_diff', '15min_15min_slope_lin_reg_600_6', '15min_15min_slope_lin_reg_600_6_diff', '15min_15min_slope_lin_reg_signal_600_6', '15min_15min_slope_lin_reg_signal_600_6_diff', '15min_15min_slope_div_600_9', '15min_15min_slope_div_600_9_diff', '15min_15min_slope_signal_600_9', '15min_15min_slope_signal_600_9_diff', '15min_15min_slope_angle_600_9', '15min_15min_slope_angle_600_9_diff', '15min_15min_slope_angle_signal_600_9', '15min_15min_slope_angle_signal_600_9_diff', '15min_15min_slope_lin_reg_600_9', '15min_15min_slope_lin_reg_600_9_diff', '15min_15min_slope_lin_reg_signal_600_9', '15min_15min_slope_lin_reg_signal_600_9_diff', '15min_15min_slope_div_900_3', '15min_15min_slope_div_900_3_diff', '15min_15min_slope_signal_900_3', '15min_15min_slope_signal_900_3_diff', '15min_15min_slope_angle_900_3', '15min_15min_slope_angle_900_3_diff', '15min_15min_slope_angle_signal_900_3', '15min_15min_slope_angle_signal_900_3_diff', '15min_15min_slope_lin_reg_900_3', '15min_15min_slope_lin_reg_900_3_diff', '15min_15min_slope_lin_reg_signal_900_3', '15min_15min_slope_lin_reg_signal_900_3_diff', '15min_15min_slope_div_900_6', '15min_15min_slope_div_900_6_diff', '15min_15min_slope_signal_900_6', '15min_15min_slope_signal_900_6_diff', '15min_15min_slope_angle_900_6', '15min_15min_slope_angle_900_6_diff', '15min_15min_slope_angle_signal_900_6', '15min_15min_slope_angle_signal_900_6_diff', '15min_15min_slope_lin_reg_900_6', '15min_15min_slope_lin_reg_900_6_diff', '15min_15min_slope_lin_reg_signal_900_6', '15min_15min_slope_lin_reg_signal_900_6_diff', '15min_15min_slope_div_900_9', '15min_15min_slope_div_900_9_diff', '15min_15min_slope_signal_900_9', '15min_15min_slope_signal_900_9_diff', '15min_15min_slope_angle_900_9', '15min_15min_slope_angle_900_9_diff', '15min_15min_slope_angle_signal_900_9', '15min_15min_slope_angle_signal_900_9_diff', '15min_15min_slope_lin_reg_900_9', '15min_15min_slope_lin_reg_900_9_diff', '15min_15min_slope_lin_reg_signal_900_9', '15min_15min_slope_lin_reg_signal_900_9_diff', '15min_15min_slope_div_300_3 - slope_div_300_6', '15min_15min_slope_div_300_3 - slope_div_300_9', '15min_15min_slope_div_300_3 - slope_div_600_3', '15min_15min_slope_div_300_3 - slope_div_600_6', '15min_15min_slope_div_300_3 - slope_div_600_9', '15min_15min_slope_div_300_3 - slope_div_900_3', '15min_15min_slope_div_300_3 - slope_div_900_6', '15min_15min_slope_div_300_3 - slope_div_900_9', '15min_15min_slope_div_300_6 - slope_div_300_9', '15min_15min_slope_div_300_6 - slope_div_600_3', '15min_15min_slope_div_300_6 - slope_div_600_6', '15min_15min_slope_div_300_6 - slope_div_600_9', '15min_15min_slope_div_300_6 - slope_div_900_3', '15min_15min_slope_div_300_6 - slope_div_900_6', '15min_15min_slope_div_300_6 - slope_div_900_9', '15min_15min_slope_div_300_9 - slope_div_600_3', '15min_15min_slope_div_300_9 - slope_div_600_6', '15min_15min_slope_div_300_9 - slope_div_600_9', '15min_15min_slope_div_300_9 - slope_div_900_3', '15min_15min_slope_div_300_9 - slope_div_900_6', '15min_15min_slope_div_300_9 - slope_div_900_9', '15min_15min_slope_div_600_3 - slope_div_600_6', '15min_15min_slope_div_600_3 - slope_div_600_9', '15min_15min_slope_div_600_3 - slope_div_900_3', '15min_15min_slope_div_600_3 - slope_div_900_6', '15min_15min_slope_div_600_3 - slope_div_900_9', '15min_15min_slope_div_600_6 - slope_div_600_9', '15min_15min_slope_div_600_6 - slope_div_900_3', '15min_15min_slope_div_600_6 - slope_div_900_6', '15min_15min_slope_div_600_6 - slope_div_900_9', '15min_15min_slope_div_600_9 - slope_div_900_3', '15min_15min_slope_div_600_9 - slope_div_900_6', '15min_15min_slope_div_600_9 - slope_div_900_9', '15min_15min_slope_div_900_3 - slope_div_900_6', '15min_15min_slope_div_900_3 - slope_div_900_9', '15min_15min_slope_div_900_6 - slope_div_900_9', '15min_15min_slope_signal_300_3 - slope_signal_300_6', '15min_15min_slope_signal_300_3 - slope_signal_300_9', '15min_15min_slope_signal_300_3 - slope_signal_600_3', '15min_15min_slope_signal_300_3 - slope_signal_600_6', '15min_15min_slope_signal_300_3 - slope_signal_600_9', '15min_15min_slope_signal_300_3 - slope_signal_900_3', '15min_15min_slope_signal_300_3 - slope_signal_900_6', '15min_15min_slope_signal_300_3 - slope_signal_900_9', '15min_15min_slope_signal_300_6 - slope_signal_300_9', '15min_15min_slope_signal_300_6 - slope_signal_600_3', '15min_15min_slope_signal_300_6 - slope_signal_600_6', '15min_15min_slope_signal_300_6 - slope_signal_600_9', '15min_15min_slope_signal_300_6 - slope_signal_900_3', '15min_15min_slope_signal_300_6 - slope_signal_900_6', '15min_15min_slope_signal_300_6 - slope_signal_900_9', '15min_15min_slope_signal_300_9 - slope_signal_600_3', '15min_15min_slope_signal_300_9 - slope_signal_600_6', '15min_15min_slope_signal_300_9 - slope_signal_600_9', '15min_15min_slope_signal_300_9 - slope_signal_900_3', '15min_15min_slope_signal_300_9 - slope_signal_900_6', '15min_15min_slope_signal_300_9 - slope_signal_900_9', '15min_15min_slope_signal_600_3 - slope_signal_600_6', '15min_15min_slope_signal_600_3 - slope_signal_600_9', '15min_15min_slope_signal_600_3 - slope_signal_900_3', '15min_15min_slope_signal_600_3 - slope_signal_900_6', '15min_15min_slope_signal_600_3 - slope_signal_900_9', '15min_15min_slope_signal_600_6 - slope_signal_600_9', '15min_15min_slope_signal_600_6 - slope_signal_900_3', '15min_15min_slope_signal_600_6 - slope_signal_900_6', '15min_15min_slope_signal_600_6 - slope_signal_900_9', '15min_15min_slope_signal_600_9 - slope_signal_900_3', '15min_15min_slope_signal_600_9 - slope_signal_900_6', '15min_15min_slope_signal_600_9 - slope_signal_900_9', '15min_15min_slope_signal_900_3 - slope_signal_900_6', '15min_15min_slope_signal_900_3 - slope_signal_900_9', '15min_15min_slope_signal_900_6 - slope_signal_900_9', '15min_15min_slope_angle_300_3 - slope_angle_300_6', '15min_15min_slope_angle_300_3 - slope_angle_300_9', '15min_15min_slope_angle_300_3 - slope_angle_600_3', '15min_15min_slope_angle_300_3 - slope_angle_600_6', '15min_15min_slope_angle_300_3 - slope_angle_600_9', '15min_15min_slope_angle_300_3 - slope_angle_900_3', '15min_15min_slope_angle_300_3 - slope_angle_900_6', '15min_15min_slope_angle_300_3 - slope_angle_900_9', '15min_15min_slope_angle_300_6 - slope_angle_300_9', '15min_15min_slope_angle_300_6 - slope_angle_600_3', '15min_15min_slope_angle_300_6 - slope_angle_600_6', '15min_15min_slope_angle_300_6 - slope_angle_600_9', '15min_15min_slope_angle_300_6 - slope_angle_900_3', '15min_15min_slope_angle_300_6 - slope_angle_900_6', '15min_15min_slope_angle_300_6 - slope_angle_900_9', '15min_15min_slope_angle_300_9 - slope_angle_600_3', '15min_15min_slope_angle_300_9 - slope_angle_600_6', '15min_15min_slope_angle_300_9 - slope_angle_600_9', '15min_15min_slope_angle_300_9 - slope_angle_900_3', '15min_15min_slope_angle_300_9 - slope_angle_900_6', '15min_15min_slope_angle_300_9 - slope_angle_900_9', '15min_15min_slope_angle_600_3 - slope_angle_600_6', '15min_15min_slope_angle_600_3 - slope_angle_600_9', '15min_15min_slope_angle_600_3 - slope_angle_900_3', '15min_15min_slope_angle_600_3 - slope_angle_900_6', '15min_15min_slope_angle_600_3 - slope_angle_900_9', '15min_15min_slope_angle_600_6 - slope_angle_600_9', '15min_15min_slope_angle_600_6 - slope_angle_900_3', '15min_15min_slope_angle_600_6 - slope_angle_900_6', '15min_15min_slope_angle_600_6 - slope_angle_900_9', '15min_15min_slope_angle_600_9 - slope_angle_900_3', '15min_15min_slope_angle_600_9 - slope_angle_900_6', '15min_15min_slope_angle_600_9 - slope_angle_900_9', '15min_15min_slope_angle_900_3 - slope_angle_900_6', '15min_15min_slope_angle_900_3 - slope_angle_900_9', '15min_15min_slope_angle_900_6 - slope_angle_900_9', '15min_15min_slope_angle_signal_300_3 - slope_angle_signal_300_6', '15min_15min_slope_angle_signal_300_3 - slope_angle_signal_300_9', '15min_15min_slope_angle_signal_300_3 - slope_angle_signal_600_3', '15min_15min_slope_angle_signal_300_3 - slope_angle_signal_600_6', '15min_15min_slope_angle_signal_300_3 - slope_angle_signal_600_9', '15min_15min_slope_angle_signal_300_3 - slope_angle_signal_900_3', '15min_15min_slope_angle_signal_300_3 - slope_angle_signal_900_6', '15min_15min_slope_angle_signal_300_3 - slope_angle_signal_900_9', '15min_15min_slope_angle_signal_300_6 - slope_angle_signal_300_9', '15min_15min_slope_angle_signal_300_6 - slope_angle_signal_600_3', '15min_15min_slope_angle_signal_300_6 - slope_angle_signal_600_6', '15min_15min_slope_angle_signal_300_6 - slope_angle_signal_600_9', '15min_15min_slope_angle_signal_300_6 - slope_angle_signal_900_3', '15min_15min_slope_angle_signal_300_6 - slope_angle_signal_900_6', '15min_15min_slope_angle_signal_300_6 - slope_angle_signal_900_9', '15min_15min_slope_angle_signal_300_9 - slope_angle_signal_600_3', '15min_15min_slope_angle_signal_300_9 - slope_angle_signal_600_6', '15min_15min_slope_angle_signal_300_9 - slope_angle_signal_600_9', '15min_15min_slope_angle_signal_300_9 - slope_angle_signal_900_3', '15min_15min_slope_angle_signal_300_9 - slope_angle_signal_900_6', '15min_15min_slope_angle_signal_300_9 - slope_angle_signal_900_9', '15min_15min_slope_angle_signal_600_3 - slope_angle_signal_600_6', '15min_15min_slope_angle_signal_600_3 - slope_angle_signal_600_9', '15min_15min_slope_angle_signal_600_3 - slope_angle_signal_900_3', '15min_15min_slope_angle_signal_600_3 - slope_angle_signal_900_6', '15min_15min_slope_angle_signal_600_3 - slope_angle_signal_900_9', '15min_15min_slope_angle_signal_600_6 - slope_angle_signal_600_9', '15min_15min_slope_angle_signal_600_6 - slope_angle_signal_900_3', '15min_15min_slope_angle_signal_600_6 - slope_angle_signal_900_6', '15min_15min_slope_angle_signal_600_6 - slope_angle_signal_900_9', '15min_15min_slope_angle_signal_600_9 - slope_angle_signal_900_3', '15min_15min_slope_angle_signal_600_9 - slope_angle_signal_900_6', '15min_15min_slope_angle_signal_600_9 - slope_angle_signal_900_9', '15min_15min_slope_angle_signal_900_3 - slope_angle_signal_900_6', '15min_15min_slope_angle_signal_900_3 - slope_angle_signal_900_9', '15min_15min_slope_angle_signal_900_6 - slope_angle_signal_900_9', '15min_15min_slope_lin_reg_300_3 - slope_lin_reg_300_6', '15min_15min_slope_lin_reg_300_3 - slope_lin_reg_300_9', '15min_15min_slope_lin_reg_300_3 - slope_lin_reg_600_3', '15min_15min_slope_lin_reg_300_3 - slope_lin_reg_600_6', '15min_15min_slope_lin_reg_300_3 - slope_lin_reg_600_9', '15min_15min_slope_lin_reg_300_3 - slope_lin_reg_900_3', '15min_15min_slope_lin_reg_300_3 - slope_lin_reg_900_6', '15min_15min_slope_lin_reg_300_3 - slope_lin_reg_900_9', '15min_15min_slope_lin_reg_300_6 - slope_lin_reg_300_9', '15min_15min_slope_lin_reg_300_6 - slope_lin_reg_600_3', '15min_15min_slope_lin_reg_300_6 - slope_lin_reg_600_6', '15min_15min_slope_lin_reg_300_6 - slope_lin_reg_600_9', '15min_15min_slope_lin_reg_300_6 - slope_lin_reg_900_3', '15min_15min_slope_lin_reg_300_6 - slope_lin_reg_900_6', '15min_15min_slope_lin_reg_300_6 - slope_lin_reg_900_9', '15min_15min_slope_lin_reg_300_9 - slope_lin_reg_600_3', '15min_15min_slope_lin_reg_300_9 - slope_lin_reg_600_6', '15min_15min_slope_lin_reg_300_9 - slope_lin_reg_600_9', '15min_15min_slope_lin_reg_300_9 - slope_lin_reg_900_3', '15min_15min_slope_lin_reg_300_9 - slope_lin_reg_900_6', '15min_15min_slope_lin_reg_300_9 - slope_lin_reg_900_9', '15min_15min_slope_lin_reg_600_3 - slope_lin_reg_600_6', '15min_15min_slope_lin_reg_600_3 - slope_lin_reg_600_9', '15min_15min_slope_lin_reg_600_3 - slope_lin_reg_900_3', '15min_15min_slope_lin_reg_600_3 - slope_lin_reg_900_6', '15min_15min_slope_lin_reg_600_3 - slope_lin_reg_900_9', '15min_15min_slope_lin_reg_600_6 - slope_lin_reg_600_9', '15min_15min_slope_lin_reg_600_6 - slope_lin_reg_900_3', '15min_15min_slope_lin_reg_600_6 - slope_lin_reg_900_6', '15min_15min_slope_lin_reg_600_6 - slope_lin_reg_900_9', '15min_15min_slope_lin_reg_600_9 - slope_lin_reg_900_3', '15min_15min_slope_lin_reg_600_9 - slope_lin_reg_900_6', '15min_15min_slope_lin_reg_600_9 - slope_lin_reg_900_9', '15min_15min_slope_lin_reg_900_3 - slope_lin_reg_900_6', '15min_15min_slope_lin_reg_900_3 - slope_lin_reg_900_9', '15min_15min_slope_lin_reg_900_6 - slope_lin_reg_900_9', '15min_15min_slope_lin_reg_signal_300_3 - slope_lin_reg_signal_300_6', '15min_15min_slope_lin_reg_signal_300_3 - slope_lin_reg_signal_300_9', '15min_15min_slope_lin_reg_signal_300_3 - slope_lin_reg_signal_600_3', '15min_15min_slope_lin_reg_signal_300_3 - slope_lin_reg_signal_600_6', '15min_15min_slope_lin_reg_signal_300_3 - slope_lin_reg_signal_600_9', '15min_15min_slope_lin_reg_signal_300_3 - slope_lin_reg_signal_900_3', '15min_15min_slope_lin_reg_signal_300_3 - slope_lin_reg_signal_900_6', '15min_15min_slope_lin_reg_signal_300_3 - slope_lin_reg_signal_900_9', '15min_15min_slope_lin_reg_signal_300_6 - slope_lin_reg_signal_300_9', '15min_15min_slope_lin_reg_signal_300_6 - slope_lin_reg_signal_600_3', '15min_15min_slope_lin_reg_signal_300_6 - slope_lin_reg_signal_600_6', '15min_15min_slope_lin_reg_signal_300_6 - slope_lin_reg_signal_600_9', '15min_15min_slope_lin_reg_signal_300_6 - slope_lin_reg_signal_900_3', '15min_15min_slope_lin_reg_signal_300_6 - slope_lin_reg_signal_900_6', '15min_15min_slope_lin_reg_signal_300_6 - slope_lin_reg_signal_900_9', '15min_15min_slope_lin_reg_signal_300_9 - slope_lin_reg_signal_600_3', '15min_15min_slope_lin_reg_signal_300_9 - slope_lin_reg_signal_600_6', '15min_15min_slope_lin_reg_signal_300_9 - slope_lin_reg_signal_600_9', '15min_15min_slope_lin_reg_signal_300_9 - slope_lin_reg_signal_900_3', '15min_15min_slope_lin_reg_signal_300_9 - slope_lin_reg_signal_900_6', '15min_15min_slope_lin_reg_signal_300_9 - slope_lin_reg_signal_900_9', '15min_15min_slope_lin_reg_signal_600_3 - slope_lin_reg_signal_600_6', '15min_15min_slope_lin_reg_signal_600_3 - slope_lin_reg_signal_600_9', '15min_15min_slope_lin_reg_signal_600_3 - slope_lin_reg_signal_900_3', '15min_15min_slope_lin_reg_signal_600_3 - slope_lin_reg_signal_900_6', '15min_15min_slope_lin_reg_signal_600_3 - slope_lin_reg_signal_900_9', '15min_15min_slope_lin_reg_signal_600_6 - slope_lin_reg_signal_600_9', '15min_15min_slope_lin_reg_signal_600_6 - slope_lin_reg_signal_900_3', '15min_15min_slope_lin_reg_signal_600_6 - slope_lin_reg_signal_900_6', '15min_15min_slope_lin_reg_signal_600_6 - slope_lin_reg_signal_900_9', '15min_15min_slope_lin_reg_signal_600_9 - slope_lin_reg_signal_900_3', '15min_15min_slope_lin_reg_signal_600_9 - slope_lin_reg_signal_900_6', '15min_15min_slope_lin_reg_signal_600_9 - slope_lin_reg_signal_900_9', '15min_15min_slope_lin_reg_signal_900_3 - slope_lin_reg_signal_900_6', '15min_15min_slope_lin_reg_signal_900_3 - slope_lin_reg_signal_900_9', '15min_15min_slope_lin_reg_signal_900_6 - slope_lin_reg_signal_900_9']\n"
          ]
        }
      ],
      "source": [
        "# Check for columns with '1min_' prefix\n",
        "one_min_cols = [col for col in df.columns if '15min_' in col]\n",
        "\n",
        "if one_min_cols:\n",
        "    print(\"Columns with '15min_' prefix found:\")\n",
        "    print(one_min_cols)\n",
        "else:\n",
        "    print(\"No columns with '15min_' prefix found.\")"
      ]
    },
    {
      "cell_type": "code",
      "execution_count": 66,
      "id": "jXcXWty506Ur",
      "metadata": {
        "colab": {
          "base_uri": "https://localhost:8080/"
        },
        "id": "jXcXWty506Ur",
        "outputId": "33adb082-f250-44db-a023-0408b548ee48"
      },
      "outputs": [
        {
          "output_type": "stream",
          "name": "stdout",
          "text": [
            "(2808, 1098) \n",
            "\n",
            "Label_Counts :  label\n",
            "1    1520\n",
            "0    1288\n",
            "Name: count, dtype: int64 \n",
            "\n",
            "['Date', 'label', 'Open_Trade', 'OBV', 'RSI_3', 'MFI_3', 'RSI_7', 'MFI_7', 'RSI_14', 'MFI_14', 'RSI_3_diff', 'RSI_7_diff', 'RSI_14_diff', 'RSI_3 - RSI_7', 'RSI_3 - RSI_14', 'RSI_7 - RSI_14', 'MFI_3_diff', 'MFI_7_diff', 'MFI_14_diff', 'MFI_3 - MFI_7', 'MFI_3 - MFI_14', 'MFI_7 - MFI_14', 'OBV_diff', 'Kal_300', 'Close_Kal_300', 'Kal_change_300', 'Kal_prev_minus_now_300', 'Kal_prev2_minus_now_300', 'Kal_change2_300', 'Kal_600', 'Close_Kal_600', 'Kal_change_600', 'Kal_prev_minus_now_600', 'Kal_prev2_minus_now_600', 'Kal_change2_600', 'Kal_900', 'Close_Kal_900', 'Kal_change_900', 'Kal_prev_minus_now_900', 'Kal_prev2_minus_now_900', 'Kal_change2_900', 'Kal_300_minus_Kal_600', 'Kal_300_minus_Kal_900', 'Kal_600_minus_Kal_900', 'slope_div_300_3', 'slope_div_300_3_diff', 'slope_signal_300_3', 'slope_signal_300_3_diff', 'slope_angle_300_3', 'slope_angle_300_3_diff', 'slope_angle_signal_300_3', 'slope_angle_signal_300_3_diff', 'slope_lin_reg_300_3', 'slope_lin_reg_300_3_diff', 'slope_lin_reg_signal_300_3', 'slope_lin_reg_signal_300_3_diff', 'slope_div_300_6', 'slope_div_300_6_diff', 'slope_signal_300_6', 'slope_signal_300_6_diff', 'slope_angle_300_6', 'slope_angle_300_6_diff', 'slope_angle_signal_300_6', 'slope_angle_signal_300_6_diff', 'slope_lin_reg_300_6', 'slope_lin_reg_300_6_diff', 'slope_lin_reg_signal_300_6', 'slope_lin_reg_signal_300_6_diff', 'slope_div_300_9', 'slope_div_300_9_diff', 'slope_signal_300_9', 'slope_signal_300_9_diff', 'slope_angle_300_9', 'slope_angle_300_9_diff', 'slope_angle_signal_300_9', 'slope_angle_signal_300_9_diff', 'slope_lin_reg_300_9', 'slope_lin_reg_300_9_diff', 'slope_lin_reg_signal_300_9', 'slope_lin_reg_signal_300_9_diff', 'slope_div_600_3', 'slope_div_600_3_diff', 'slope_signal_600_3', 'slope_signal_600_3_diff', 'slope_angle_600_3', 'slope_angle_600_3_diff', 'slope_angle_signal_600_3', 'slope_angle_signal_600_3_diff', 'slope_lin_reg_600_3', 'slope_lin_reg_600_3_diff', 'slope_lin_reg_signal_600_3', 'slope_lin_reg_signal_600_3_diff', 'slope_div_600_6', 'slope_div_600_6_diff', 'slope_signal_600_6', 'slope_signal_600_6_diff', 'slope_angle_600_6', 'slope_angle_600_6_diff', 'slope_angle_signal_600_6', 'slope_angle_signal_600_6_diff', 'slope_lin_reg_600_6', 'slope_lin_reg_600_6_diff', 'slope_lin_reg_signal_600_6', 'slope_lin_reg_signal_600_6_diff', 'slope_div_600_9', 'slope_div_600_9_diff', 'slope_signal_600_9', 'slope_signal_600_9_diff', 'slope_angle_600_9', 'slope_angle_600_9_diff', 'slope_angle_signal_600_9', 'slope_angle_signal_600_9_diff', 'slope_lin_reg_600_9', 'slope_lin_reg_600_9_diff', 'slope_lin_reg_signal_600_9', 'slope_lin_reg_signal_600_9_diff', 'slope_div_900_3', 'slope_div_900_3_diff', 'slope_signal_900_3', 'slope_signal_900_3_diff', 'slope_angle_900_3', 'slope_angle_900_3_diff', 'slope_angle_signal_900_3', 'slope_angle_signal_900_3_diff', 'slope_lin_reg_900_3', 'slope_lin_reg_900_3_diff', 'slope_lin_reg_signal_900_3', 'slope_lin_reg_signal_900_3_diff', 'slope_div_900_6', 'slope_div_900_6_diff', 'slope_signal_900_6', 'slope_signal_900_6_diff', 'slope_angle_900_6', 'slope_angle_900_6_diff', 'slope_angle_signal_900_6', 'slope_angle_signal_900_6_diff', 'slope_lin_reg_900_6', 'slope_lin_reg_900_6_diff', 'slope_lin_reg_signal_900_6', 'slope_lin_reg_signal_900_6_diff', 'slope_div_900_9', 'slope_div_900_9_diff', 'slope_signal_900_9', 'slope_signal_900_9_diff', 'slope_angle_900_9', 'slope_angle_900_9_diff', 'slope_angle_signal_900_9', 'slope_angle_signal_900_9_diff', 'slope_lin_reg_900_9', 'slope_lin_reg_900_9_diff', 'slope_lin_reg_signal_900_9', 'slope_lin_reg_signal_900_9_diff', 'slope_div_300_3 - slope_div_300_6', 'slope_div_300_3 - slope_div_300_9', 'slope_div_300_3 - slope_div_600_3', 'slope_div_300_3 - slope_div_600_6', 'slope_div_300_3 - slope_div_600_9', 'slope_div_300_3 - slope_div_900_3', 'slope_div_300_3 - slope_div_900_6', 'slope_div_300_3 - slope_div_900_9', 'slope_div_300_6 - slope_div_300_9', 'slope_div_300_6 - slope_div_600_3', 'slope_div_300_6 - slope_div_600_6', 'slope_div_300_6 - slope_div_600_9', 'slope_div_300_6 - slope_div_900_3', 'slope_div_300_6 - slope_div_900_6', 'slope_div_300_6 - slope_div_900_9', 'slope_div_300_9 - slope_div_600_3', 'slope_div_300_9 - slope_div_600_6', 'slope_div_300_9 - slope_div_600_9', 'slope_div_300_9 - slope_div_900_3', 'slope_div_300_9 - slope_div_900_6', 'slope_div_300_9 - slope_div_900_9', 'slope_div_600_3 - slope_div_600_6', 'slope_div_600_3 - slope_div_600_9', 'slope_div_600_3 - slope_div_900_3', 'slope_div_600_3 - slope_div_900_6', 'slope_div_600_3 - slope_div_900_9', 'slope_div_600_6 - slope_div_600_9', 'slope_div_600_6 - slope_div_900_3', 'slope_div_600_6 - slope_div_900_6', 'slope_div_600_6 - slope_div_900_9', 'slope_div_600_9 - slope_div_900_3', 'slope_div_600_9 - slope_div_900_6', 'slope_div_600_9 - slope_div_900_9', 'slope_div_900_3 - slope_div_900_6', 'slope_div_900_3 - slope_div_900_9', 'slope_div_900_6 - slope_div_900_9', 'slope_signal_300_3 - slope_signal_300_6', 'slope_signal_300_3 - slope_signal_300_9', 'slope_signal_300_3 - slope_signal_600_3', 'slope_signal_300_3 - slope_signal_600_6', 'slope_signal_300_3 - slope_signal_600_9', 'slope_signal_300_3 - slope_signal_900_3', 'slope_signal_300_3 - slope_signal_900_6', 'slope_signal_300_3 - slope_signal_900_9', 'slope_signal_300_6 - slope_signal_300_9', 'slope_signal_300_6 - slope_signal_600_3', 'slope_signal_300_6 - slope_signal_600_6', 'slope_signal_300_6 - slope_signal_600_9', 'slope_signal_300_6 - slope_signal_900_3', 'slope_signal_300_6 - slope_signal_900_6', 'slope_signal_300_6 - slope_signal_900_9', 'slope_signal_300_9 - slope_signal_600_3', 'slope_signal_300_9 - slope_signal_600_6', 'slope_signal_300_9 - slope_signal_600_9', 'slope_signal_300_9 - slope_signal_900_3', 'slope_signal_300_9 - slope_signal_900_6', 'slope_signal_300_9 - slope_signal_900_9', 'slope_signal_600_3 - slope_signal_600_6', 'slope_signal_600_3 - slope_signal_600_9', 'slope_signal_600_3 - slope_signal_900_3', 'slope_signal_600_3 - slope_signal_900_6', 'slope_signal_600_3 - slope_signal_900_9', 'slope_signal_600_6 - slope_signal_600_9', 'slope_signal_600_6 - slope_signal_900_3', 'slope_signal_600_6 - slope_signal_900_6', 'slope_signal_600_6 - slope_signal_900_9', 'slope_signal_600_9 - slope_signal_900_3', 'slope_signal_600_9 - slope_signal_900_6', 'slope_signal_600_9 - slope_signal_900_9', 'slope_signal_900_3 - slope_signal_900_6', 'slope_signal_900_3 - slope_signal_900_9', 'slope_signal_900_6 - slope_signal_900_9', 'slope_angle_300_3 - slope_angle_300_6', 'slope_angle_300_3 - slope_angle_300_9', 'slope_angle_300_3 - slope_angle_600_3', 'slope_angle_300_3 - slope_angle_600_6', 'slope_angle_300_3 - slope_angle_600_9', 'slope_angle_300_3 - slope_angle_900_3', 'slope_angle_300_3 - slope_angle_900_6', 'slope_angle_300_3 - slope_angle_900_9', 'slope_angle_300_6 - slope_angle_300_9', 'slope_angle_300_6 - slope_angle_600_3', 'slope_angle_300_6 - slope_angle_600_6', 'slope_angle_300_6 - slope_angle_600_9', 'slope_angle_300_6 - slope_angle_900_3', 'slope_angle_300_6 - slope_angle_900_6', 'slope_angle_300_6 - slope_angle_900_9', 'slope_angle_300_9 - slope_angle_600_3', 'slope_angle_300_9 - slope_angle_600_6', 'slope_angle_300_9 - slope_angle_600_9', 'slope_angle_300_9 - slope_angle_900_3', 'slope_angle_300_9 - slope_angle_900_6', 'slope_angle_300_9 - slope_angle_900_9', 'slope_angle_600_3 - slope_angle_600_6', 'slope_angle_600_3 - slope_angle_600_9', 'slope_angle_600_3 - slope_angle_900_3', 'slope_angle_600_3 - slope_angle_900_6', 'slope_angle_600_3 - slope_angle_900_9', 'slope_angle_600_6 - slope_angle_600_9', 'slope_angle_600_6 - slope_angle_900_3', 'slope_angle_600_6 - slope_angle_900_6', 'slope_angle_600_6 - slope_angle_900_9', 'slope_angle_600_9 - slope_angle_900_3', 'slope_angle_600_9 - slope_angle_900_6', 'slope_angle_600_9 - slope_angle_900_9', 'slope_angle_900_3 - slope_angle_900_6', 'slope_angle_900_3 - slope_angle_900_9', 'slope_angle_900_6 - slope_angle_900_9', 'slope_angle_signal_300_3 - slope_angle_signal_300_6', 'slope_angle_signal_300_3 - slope_angle_signal_300_9', 'slope_angle_signal_300_3 - slope_angle_signal_600_3', 'slope_angle_signal_300_3 - slope_angle_signal_600_6', 'slope_angle_signal_300_3 - slope_angle_signal_600_9', 'slope_angle_signal_300_3 - slope_angle_signal_900_3', 'slope_angle_signal_300_3 - slope_angle_signal_900_6', 'slope_angle_signal_300_3 - slope_angle_signal_900_9', 'slope_angle_signal_300_6 - slope_angle_signal_300_9', 'slope_angle_signal_300_6 - slope_angle_signal_600_3', 'slope_angle_signal_300_6 - slope_angle_signal_600_6', 'slope_angle_signal_300_6 - slope_angle_signal_600_9', 'slope_angle_signal_300_6 - slope_angle_signal_900_3', 'slope_angle_signal_300_6 - slope_angle_signal_900_6', 'slope_angle_signal_300_6 - slope_angle_signal_900_9', 'slope_angle_signal_300_9 - slope_angle_signal_600_3', 'slope_angle_signal_300_9 - slope_angle_signal_600_6', 'slope_angle_signal_300_9 - slope_angle_signal_600_9', 'slope_angle_signal_300_9 - slope_angle_signal_900_3', 'slope_angle_signal_300_9 - slope_angle_signal_900_6', 'slope_angle_signal_300_9 - slope_angle_signal_900_9', 'slope_angle_signal_600_3 - slope_angle_signal_600_6', 'slope_angle_signal_600_3 - slope_angle_signal_600_9', 'slope_angle_signal_600_3 - slope_angle_signal_900_3', 'slope_angle_signal_600_3 - slope_angle_signal_900_6', 'slope_angle_signal_600_3 - slope_angle_signal_900_9', 'slope_angle_signal_600_6 - slope_angle_signal_600_9', 'slope_angle_signal_600_6 - slope_angle_signal_900_3', 'slope_angle_signal_600_6 - slope_angle_signal_900_6', 'slope_angle_signal_600_6 - slope_angle_signal_900_9', 'slope_angle_signal_600_9 - slope_angle_signal_900_3', 'slope_angle_signal_600_9 - slope_angle_signal_900_6', 'slope_angle_signal_600_9 - slope_angle_signal_900_9', 'slope_angle_signal_900_3 - slope_angle_signal_900_6', 'slope_angle_signal_900_3 - slope_angle_signal_900_9', 'slope_angle_signal_900_6 - slope_angle_signal_900_9', 'slope_lin_reg_300_3 - slope_lin_reg_300_6', 'slope_lin_reg_300_3 - slope_lin_reg_300_9', 'slope_lin_reg_300_3 - slope_lin_reg_600_3', 'slope_lin_reg_300_3 - slope_lin_reg_600_6', 'slope_lin_reg_300_3 - slope_lin_reg_600_9', 'slope_lin_reg_300_3 - slope_lin_reg_900_3', 'slope_lin_reg_300_3 - slope_lin_reg_900_6', 'slope_lin_reg_300_3 - slope_lin_reg_900_9', 'slope_lin_reg_300_6 - slope_lin_reg_300_9', 'slope_lin_reg_300_6 - slope_lin_reg_600_3', 'slope_lin_reg_300_6 - slope_lin_reg_600_6', 'slope_lin_reg_300_6 - slope_lin_reg_600_9', 'slope_lin_reg_300_6 - slope_lin_reg_900_3', 'slope_lin_reg_300_6 - slope_lin_reg_900_6', 'slope_lin_reg_300_6 - slope_lin_reg_900_9', 'slope_lin_reg_300_9 - slope_lin_reg_600_3', 'slope_lin_reg_300_9 - slope_lin_reg_600_6', 'slope_lin_reg_300_9 - slope_lin_reg_600_9', 'slope_lin_reg_300_9 - slope_lin_reg_900_3', 'slope_lin_reg_300_9 - slope_lin_reg_900_6', 'slope_lin_reg_300_9 - slope_lin_reg_900_9', 'slope_lin_reg_600_3 - slope_lin_reg_600_6', 'slope_lin_reg_600_3 - slope_lin_reg_600_9', 'slope_lin_reg_600_3 - slope_lin_reg_900_3', 'slope_lin_reg_600_3 - slope_lin_reg_900_6', 'slope_lin_reg_600_3 - slope_lin_reg_900_9', 'slope_lin_reg_600_6 - slope_lin_reg_600_9', 'slope_lin_reg_600_6 - slope_lin_reg_900_3', 'slope_lin_reg_600_6 - slope_lin_reg_900_6', 'slope_lin_reg_600_6 - slope_lin_reg_900_9', 'slope_lin_reg_600_9 - slope_lin_reg_900_3', 'slope_lin_reg_600_9 - slope_lin_reg_900_6', 'slope_lin_reg_600_9 - slope_lin_reg_900_9', 'slope_lin_reg_900_3 - slope_lin_reg_900_6', 'slope_lin_reg_900_3 - slope_lin_reg_900_9', 'slope_lin_reg_900_6 - slope_lin_reg_900_9', 'slope_lin_reg_signal_300_3 - slope_lin_reg_signal_300_6', 'slope_lin_reg_signal_300_3 - slope_lin_reg_signal_300_9', 'slope_lin_reg_signal_300_3 - slope_lin_reg_signal_600_3', 'slope_lin_reg_signal_300_3 - slope_lin_reg_signal_600_6', 'slope_lin_reg_signal_300_3 - slope_lin_reg_signal_600_9', 'slope_lin_reg_signal_300_3 - slope_lin_reg_signal_900_3', 'slope_lin_reg_signal_300_3 - slope_lin_reg_signal_900_6', 'slope_lin_reg_signal_300_3 - slope_lin_reg_signal_900_9', 'slope_lin_reg_signal_300_6 - slope_lin_reg_signal_300_9', 'slope_lin_reg_signal_300_6 - slope_lin_reg_signal_600_3', 'slope_lin_reg_signal_300_6 - slope_lin_reg_signal_600_6', 'slope_lin_reg_signal_300_6 - slope_lin_reg_signal_600_9', 'slope_lin_reg_signal_300_6 - slope_lin_reg_signal_900_3', 'slope_lin_reg_signal_300_6 - slope_lin_reg_signal_900_6', 'slope_lin_reg_signal_300_6 - slope_lin_reg_signal_900_9', 'slope_lin_reg_signal_300_9 - slope_lin_reg_signal_600_3', 'slope_lin_reg_signal_300_9 - slope_lin_reg_signal_600_6', 'slope_lin_reg_signal_300_9 - slope_lin_reg_signal_600_9', 'slope_lin_reg_signal_300_9 - slope_lin_reg_signal_900_3', 'slope_lin_reg_signal_300_9 - slope_lin_reg_signal_900_6', 'slope_lin_reg_signal_300_9 - slope_lin_reg_signal_900_9', 'slope_lin_reg_signal_600_3 - slope_lin_reg_signal_600_6', 'slope_lin_reg_signal_600_3 - slope_lin_reg_signal_600_9', 'slope_lin_reg_signal_600_3 - slope_lin_reg_signal_900_3', 'slope_lin_reg_signal_600_3 - slope_lin_reg_signal_900_6', 'slope_lin_reg_signal_600_3 - slope_lin_reg_signal_900_9', 'slope_lin_reg_signal_600_6 - slope_lin_reg_signal_600_9', 'slope_lin_reg_signal_600_6 - slope_lin_reg_signal_900_3', 'slope_lin_reg_signal_600_6 - slope_lin_reg_signal_900_6', 'slope_lin_reg_signal_600_6 - slope_lin_reg_signal_900_9', 'slope_lin_reg_signal_600_9 - slope_lin_reg_signal_900_3', 'slope_lin_reg_signal_600_9 - slope_lin_reg_signal_900_6', 'slope_lin_reg_signal_600_9 - slope_lin_reg_signal_900_9', 'slope_lin_reg_signal_900_3 - slope_lin_reg_signal_900_6', 'slope_lin_reg_signal_900_3 - slope_lin_reg_signal_900_9', 'slope_lin_reg_signal_900_6 - slope_lin_reg_signal_900_9', '10min_OBV', '10min_RSI_3', '10min_MFI_3', '10min_RSI_7', '10min_MFI_7', '10min_RSI_14', '10min_MFI_14', '10min_RSI_3_diff', '10min_RSI_7_diff', '10min_RSI_14_diff', '10min_RSI_3 - RSI_7', '10min_RSI_3 - RSI_14', '10min_RSI_7 - RSI_14', '10min_MFI_3_diff', '10min_MFI_7_diff', '10min_MFI_14_diff', '10min_MFI_3 - MFI_7', '10min_MFI_3 - MFI_14', '10min_MFI_7 - MFI_14', '10min_OBV_diff', '10min_Kal_300', '10min_Close_Kal_300', '10min_Kal_change_300', '10min_Kal_prev_minus_now_300', '10min_Kal_prev2_minus_now_300', '10min_Kal_change2_300', '10min_Kal_600', '10min_Close_Kal_600', '10min_Kal_change_600', '10min_Kal_prev_minus_now_600', '10min_Kal_prev2_minus_now_600', '10min_Kal_change2_600', '10min_Kal_900', '10min_Close_Kal_900', '10min_Kal_change_900', '10min_Kal_prev_minus_now_900', '10min_Kal_prev2_minus_now_900', '10min_Kal_change2_900', '10min_Kal_300_minus_Kal_600', '10min_Kal_300_minus_Kal_900', '10min_Kal_600_minus_Kal_900', '10min_slope_div_300_3', '10min_slope_div_300_3_diff', '10min_slope_signal_300_3', '10min_slope_signal_300_3_diff', '10min_slope_angle_300_3', '10min_slope_angle_300_3_diff', '10min_slope_angle_signal_300_3', '10min_slope_angle_signal_300_3_diff', '10min_slope_lin_reg_300_3', '10min_slope_lin_reg_300_3_diff', '10min_slope_lin_reg_signal_300_3', '10min_slope_lin_reg_signal_300_3_diff', '10min_slope_div_300_6', '10min_slope_div_300_6_diff', '10min_slope_signal_300_6', '10min_slope_signal_300_6_diff', '10min_slope_angle_300_6', '10min_slope_angle_300_6_diff', '10min_slope_angle_signal_300_6', '10min_slope_angle_signal_300_6_diff', '10min_slope_lin_reg_300_6', '10min_slope_lin_reg_300_6_diff', '10min_slope_lin_reg_signal_300_6', '10min_slope_lin_reg_signal_300_6_diff', '10min_slope_div_300_9', '10min_slope_div_300_9_diff', '10min_slope_signal_300_9', '10min_slope_signal_300_9_diff', '10min_slope_angle_300_9', '10min_slope_angle_300_9_diff', '10min_slope_angle_signal_300_9', '10min_slope_angle_signal_300_9_diff', '10min_slope_lin_reg_300_9', '10min_slope_lin_reg_300_9_diff', '10min_slope_lin_reg_signal_300_9', '10min_slope_lin_reg_signal_300_9_diff', '10min_slope_div_600_3', '10min_slope_div_600_3_diff', '10min_slope_signal_600_3', '10min_slope_signal_600_3_diff', '10min_slope_angle_600_3', '10min_slope_angle_600_3_diff', '10min_slope_angle_signal_600_3', '10min_slope_angle_signal_600_3_diff', '10min_slope_lin_reg_600_3', '10min_slope_lin_reg_600_3_diff', '10min_slope_lin_reg_signal_600_3', '10min_slope_lin_reg_signal_600_3_diff', '10min_slope_div_600_6', '10min_slope_div_600_6_diff', '10min_slope_signal_600_6', '10min_slope_signal_600_6_diff', '10min_slope_angle_600_6', '10min_slope_angle_600_6_diff', '10min_slope_angle_signal_600_6', '10min_slope_angle_signal_600_6_diff', '10min_slope_lin_reg_600_6', '10min_slope_lin_reg_600_6_diff', '10min_slope_lin_reg_signal_600_6', '10min_slope_lin_reg_signal_600_6_diff', '10min_slope_div_600_9', '10min_slope_div_600_9_diff', '10min_slope_signal_600_9', '10min_slope_signal_600_9_diff', '10min_slope_angle_600_9', '10min_slope_angle_600_9_diff', '10min_slope_angle_signal_600_9', '10min_slope_angle_signal_600_9_diff', '10min_slope_lin_reg_600_9', '10min_slope_lin_reg_600_9_diff', '10min_slope_lin_reg_signal_600_9', '10min_slope_lin_reg_signal_600_9_diff', '10min_slope_div_900_3', '10min_slope_div_900_3_diff', '10min_slope_signal_900_3', '10min_slope_signal_900_3_diff', '10min_slope_angle_900_3', '10min_slope_angle_900_3_diff', '10min_slope_angle_signal_900_3', '10min_slope_angle_signal_900_3_diff', '10min_slope_lin_reg_900_3', '10min_slope_lin_reg_900_3_diff', '10min_slope_lin_reg_signal_900_3', '10min_slope_lin_reg_signal_900_3_diff', '10min_slope_div_900_6', '10min_slope_div_900_6_diff', '10min_slope_signal_900_6', '10min_slope_signal_900_6_diff', '10min_slope_angle_900_6', '10min_slope_angle_900_6_diff', '10min_slope_angle_signal_900_6', '10min_slope_angle_signal_900_6_diff', '10min_slope_lin_reg_900_6', '10min_slope_lin_reg_900_6_diff', '10min_slope_lin_reg_signal_900_6', '10min_slope_lin_reg_signal_900_6_diff', '10min_slope_div_900_9', '10min_slope_div_900_9_diff', '10min_slope_signal_900_9', '10min_slope_signal_900_9_diff', '10min_slope_angle_900_9', '10min_slope_angle_900_9_diff', '10min_slope_angle_signal_900_9', '10min_slope_angle_signal_900_9_diff', '10min_slope_lin_reg_900_9', '10min_slope_lin_reg_900_9_diff', '10min_slope_lin_reg_signal_900_9', '10min_slope_lin_reg_signal_900_9_diff', '10min_slope_div_300_3 - slope_div_300_6', '10min_slope_div_300_3 - slope_div_300_9', '10min_slope_div_300_3 - slope_div_600_3', '10min_slope_div_300_3 - slope_div_600_6', '10min_slope_div_300_3 - slope_div_600_9', '10min_slope_div_300_3 - slope_div_900_3', '10min_slope_div_300_3 - slope_div_900_6', '10min_slope_div_300_3 - slope_div_900_9', '10min_slope_div_300_6 - slope_div_300_9', '10min_slope_div_300_6 - slope_div_600_3', '10min_slope_div_300_6 - slope_div_600_6', '10min_slope_div_300_6 - slope_div_600_9', '10min_slope_div_300_6 - slope_div_900_3', '10min_slope_div_300_6 - slope_div_900_6', '10min_slope_div_300_6 - slope_div_900_9', '10min_slope_div_300_9 - slope_div_600_3', '10min_slope_div_300_9 - slope_div_600_6', '10min_slope_div_300_9 - slope_div_600_9', '10min_slope_div_300_9 - slope_div_900_3', '10min_slope_div_300_9 - slope_div_900_6', '10min_slope_div_300_9 - slope_div_900_9', '10min_slope_div_600_3 - slope_div_600_6', '10min_slope_div_600_3 - slope_div_600_9', '10min_slope_div_600_3 - slope_div_900_3', '10min_slope_div_600_3 - slope_div_900_6', '10min_slope_div_600_3 - slope_div_900_9', '10min_slope_div_600_6 - slope_div_600_9', '10min_slope_div_600_6 - slope_div_900_3', '10min_slope_div_600_6 - slope_div_900_6', '10min_slope_div_600_6 - slope_div_900_9', '10min_slope_div_600_9 - slope_div_900_3', '10min_slope_div_600_9 - slope_div_900_6', '10min_slope_div_600_9 - slope_div_900_9', '10min_slope_div_900_3 - slope_div_900_6', '10min_slope_div_900_3 - slope_div_900_9', '10min_slope_div_900_6 - slope_div_900_9', '10min_slope_signal_300_3 - slope_signal_300_6', '10min_slope_signal_300_3 - slope_signal_300_9', '10min_slope_signal_300_3 - slope_signal_600_3', '10min_slope_signal_300_3 - slope_signal_600_6', '10min_slope_signal_300_3 - slope_signal_600_9', '10min_slope_signal_300_3 - slope_signal_900_3', '10min_slope_signal_300_3 - slope_signal_900_6', '10min_slope_signal_300_3 - slope_signal_900_9', '10min_slope_signal_300_6 - slope_signal_300_9', '10min_slope_signal_300_6 - slope_signal_600_3', '10min_slope_signal_300_6 - slope_signal_600_6', '10min_slope_signal_300_6 - slope_signal_600_9', '10min_slope_signal_300_6 - slope_signal_900_3', '10min_slope_signal_300_6 - slope_signal_900_6', '10min_slope_signal_300_6 - slope_signal_900_9', '10min_slope_signal_300_9 - slope_signal_600_3', '10min_slope_signal_300_9 - slope_signal_600_6', '10min_slope_signal_300_9 - slope_signal_600_9', '10min_slope_signal_300_9 - slope_signal_900_3', '10min_slope_signal_300_9 - slope_signal_900_6', '10min_slope_signal_300_9 - slope_signal_900_9', '10min_slope_signal_600_3 - slope_signal_600_6', '10min_slope_signal_600_3 - slope_signal_600_9', '10min_slope_signal_600_3 - slope_signal_900_3', '10min_slope_signal_600_3 - slope_signal_900_6', '10min_slope_signal_600_3 - slope_signal_900_9', '10min_slope_signal_600_6 - slope_signal_600_9', '10min_slope_signal_600_6 - slope_signal_900_3', '10min_slope_signal_600_6 - slope_signal_900_6', '10min_slope_signal_600_6 - slope_signal_900_9', '10min_slope_signal_600_9 - slope_signal_900_3', '10min_slope_signal_600_9 - slope_signal_900_6', '10min_slope_signal_600_9 - slope_signal_900_9', '10min_slope_signal_900_3 - slope_signal_900_6', '10min_slope_signal_900_3 - slope_signal_900_9', '10min_slope_signal_900_6 - slope_signal_900_9', '10min_slope_angle_300_3 - slope_angle_300_6', '10min_slope_angle_300_3 - slope_angle_300_9', '10min_slope_angle_300_3 - slope_angle_600_3', '10min_slope_angle_300_3 - slope_angle_600_6', '10min_slope_angle_300_3 - slope_angle_600_9', '10min_slope_angle_300_3 - slope_angle_900_3', '10min_slope_angle_300_3 - slope_angle_900_6', '10min_slope_angle_300_3 - slope_angle_900_9', '10min_slope_angle_300_6 - slope_angle_300_9', '10min_slope_angle_300_6 - slope_angle_600_3', '10min_slope_angle_300_6 - slope_angle_600_6', '10min_slope_angle_300_6 - slope_angle_600_9', '10min_slope_angle_300_6 - slope_angle_900_3', '10min_slope_angle_300_6 - slope_angle_900_6', '10min_slope_angle_300_6 - slope_angle_900_9', '10min_slope_angle_300_9 - slope_angle_600_3', '10min_slope_angle_300_9 - slope_angle_600_6', '10min_slope_angle_300_9 - slope_angle_600_9', '10min_slope_angle_300_9 - slope_angle_900_3', '10min_slope_angle_300_9 - slope_angle_900_6', '10min_slope_angle_300_9 - slope_angle_900_9', '10min_slope_angle_600_3 - slope_angle_600_6', '10min_slope_angle_600_3 - slope_angle_600_9', '10min_slope_angle_600_3 - slope_angle_900_3', '10min_slope_angle_600_3 - slope_angle_900_6', '10min_slope_angle_600_3 - slope_angle_900_9', '10min_slope_angle_600_6 - slope_angle_600_9', '10min_slope_angle_600_6 - slope_angle_900_3', '10min_slope_angle_600_6 - slope_angle_900_6', '10min_slope_angle_600_6 - slope_angle_900_9', '10min_slope_angle_600_9 - slope_angle_900_3', '10min_slope_angle_600_9 - slope_angle_900_6', '10min_slope_angle_600_9 - slope_angle_900_9', '10min_slope_angle_900_3 - slope_angle_900_6', '10min_slope_angle_900_3 - slope_angle_900_9', '10min_slope_angle_900_6 - slope_angle_900_9', '10min_slope_angle_signal_300_3 - slope_angle_signal_300_6', '10min_slope_angle_signal_300_3 - slope_angle_signal_300_9', '10min_slope_angle_signal_300_3 - slope_angle_signal_600_3', '10min_slope_angle_signal_300_3 - slope_angle_signal_600_6', '10min_slope_angle_signal_300_3 - slope_angle_signal_600_9', '10min_slope_angle_signal_300_3 - slope_angle_signal_900_3', '10min_slope_angle_signal_300_3 - slope_angle_signal_900_6', '10min_slope_angle_signal_300_3 - slope_angle_signal_900_9', '10min_slope_angle_signal_300_6 - slope_angle_signal_300_9', '10min_slope_angle_signal_300_6 - slope_angle_signal_600_3', '10min_slope_angle_signal_300_6 - slope_angle_signal_600_6', '10min_slope_angle_signal_300_6 - slope_angle_signal_600_9', '10min_slope_angle_signal_300_6 - slope_angle_signal_900_3', '10min_slope_angle_signal_300_6 - slope_angle_signal_900_6', '10min_slope_angle_signal_300_6 - slope_angle_signal_900_9', '10min_slope_angle_signal_300_9 - slope_angle_signal_600_3', '10min_slope_angle_signal_300_9 - slope_angle_signal_600_6', '10min_slope_angle_signal_300_9 - slope_angle_signal_600_9', '10min_slope_angle_signal_300_9 - slope_angle_signal_900_3', '10min_slope_angle_signal_300_9 - slope_angle_signal_900_6', '10min_slope_angle_signal_300_9 - slope_angle_signal_900_9', '10min_slope_angle_signal_600_3 - slope_angle_signal_600_6', '10min_slope_angle_signal_600_3 - slope_angle_signal_600_9', '10min_slope_angle_signal_600_3 - slope_angle_signal_900_3', '10min_slope_angle_signal_600_3 - slope_angle_signal_900_6', '10min_slope_angle_signal_600_3 - slope_angle_signal_900_9', '10min_slope_angle_signal_600_6 - slope_angle_signal_600_9', '10min_slope_angle_signal_600_6 - slope_angle_signal_900_3', '10min_slope_angle_signal_600_6 - slope_angle_signal_900_6', '10min_slope_angle_signal_600_6 - slope_angle_signal_900_9', '10min_slope_angle_signal_600_9 - slope_angle_signal_900_3', '10min_slope_angle_signal_600_9 - slope_angle_signal_900_6', '10min_slope_angle_signal_600_9 - slope_angle_signal_900_9', '10min_slope_angle_signal_900_3 - slope_angle_signal_900_6', '10min_slope_angle_signal_900_3 - slope_angle_signal_900_9', '10min_slope_angle_signal_900_6 - slope_angle_signal_900_9', '10min_slope_lin_reg_300_3 - slope_lin_reg_300_6', '10min_slope_lin_reg_300_3 - slope_lin_reg_300_9', '10min_slope_lin_reg_300_3 - slope_lin_reg_600_3', '10min_slope_lin_reg_300_3 - slope_lin_reg_600_6', '10min_slope_lin_reg_300_3 - slope_lin_reg_600_9', '10min_slope_lin_reg_300_3 - slope_lin_reg_900_3', '10min_slope_lin_reg_300_3 - slope_lin_reg_900_6', '10min_slope_lin_reg_300_3 - slope_lin_reg_900_9', '10min_slope_lin_reg_300_6 - slope_lin_reg_300_9', '10min_slope_lin_reg_300_6 - slope_lin_reg_600_3', '10min_slope_lin_reg_300_6 - slope_lin_reg_600_6', '10min_slope_lin_reg_300_6 - slope_lin_reg_600_9', '10min_slope_lin_reg_300_6 - slope_lin_reg_900_3', '10min_slope_lin_reg_300_6 - slope_lin_reg_900_6', '10min_slope_lin_reg_300_6 - slope_lin_reg_900_9', '10min_slope_lin_reg_300_9 - slope_lin_reg_600_3', '10min_slope_lin_reg_300_9 - slope_lin_reg_600_6', '10min_slope_lin_reg_300_9 - slope_lin_reg_600_9', '10min_slope_lin_reg_300_9 - slope_lin_reg_900_3', '10min_slope_lin_reg_300_9 - slope_lin_reg_900_6', '10min_slope_lin_reg_300_9 - slope_lin_reg_900_9', '10min_slope_lin_reg_600_3 - slope_lin_reg_600_6', '10min_slope_lin_reg_600_3 - slope_lin_reg_600_9', '10min_slope_lin_reg_600_3 - slope_lin_reg_900_3', '10min_slope_lin_reg_600_3 - slope_lin_reg_900_6', '10min_slope_lin_reg_600_3 - slope_lin_reg_900_9', '10min_slope_lin_reg_600_6 - slope_lin_reg_600_9', '10min_slope_lin_reg_600_6 - slope_lin_reg_900_3', '10min_slope_lin_reg_600_6 - slope_lin_reg_900_6', '10min_slope_lin_reg_600_6 - slope_lin_reg_900_9', '10min_slope_lin_reg_600_9 - slope_lin_reg_900_3', '10min_slope_lin_reg_600_9 - slope_lin_reg_900_6', '10min_slope_lin_reg_600_9 - slope_lin_reg_900_9', '10min_slope_lin_reg_900_3 - slope_lin_reg_900_6', '10min_slope_lin_reg_900_3 - slope_lin_reg_900_9', '10min_slope_lin_reg_900_6 - slope_lin_reg_900_9', '10min_slope_lin_reg_signal_300_3 - slope_lin_reg_signal_300_6', '10min_slope_lin_reg_signal_300_3 - slope_lin_reg_signal_300_9', '10min_slope_lin_reg_signal_300_3 - slope_lin_reg_signal_600_3', '10min_slope_lin_reg_signal_300_3 - slope_lin_reg_signal_600_6', '10min_slope_lin_reg_signal_300_3 - slope_lin_reg_signal_600_9', '10min_slope_lin_reg_signal_300_3 - slope_lin_reg_signal_900_3', '10min_slope_lin_reg_signal_300_3 - slope_lin_reg_signal_900_6', '10min_slope_lin_reg_signal_300_3 - slope_lin_reg_signal_900_9', '10min_slope_lin_reg_signal_300_6 - slope_lin_reg_signal_300_9', '10min_slope_lin_reg_signal_300_6 - slope_lin_reg_signal_600_3', '10min_slope_lin_reg_signal_300_6 - slope_lin_reg_signal_600_6', '10min_slope_lin_reg_signal_300_6 - slope_lin_reg_signal_600_9', '10min_slope_lin_reg_signal_300_6 - slope_lin_reg_signal_900_3', '10min_slope_lin_reg_signal_300_6 - slope_lin_reg_signal_900_6', '10min_slope_lin_reg_signal_300_6 - slope_lin_reg_signal_900_9', '10min_slope_lin_reg_signal_300_9 - slope_lin_reg_signal_600_3', '10min_slope_lin_reg_signal_300_9 - slope_lin_reg_signal_600_6', '10min_slope_lin_reg_signal_300_9 - slope_lin_reg_signal_600_9', '10min_slope_lin_reg_signal_300_9 - slope_lin_reg_signal_900_3', '10min_slope_lin_reg_signal_300_9 - slope_lin_reg_signal_900_6', '10min_slope_lin_reg_signal_300_9 - slope_lin_reg_signal_900_9', '10min_slope_lin_reg_signal_600_3 - slope_lin_reg_signal_600_6', '10min_slope_lin_reg_signal_600_3 - slope_lin_reg_signal_600_9', '10min_slope_lin_reg_signal_600_3 - slope_lin_reg_signal_900_3', '10min_slope_lin_reg_signal_600_3 - slope_lin_reg_signal_900_6', '10min_slope_lin_reg_signal_600_3 - slope_lin_reg_signal_900_9', '10min_slope_lin_reg_signal_600_6 - slope_lin_reg_signal_600_9', '10min_slope_lin_reg_signal_600_6 - slope_lin_reg_signal_900_3', '10min_slope_lin_reg_signal_600_6 - slope_lin_reg_signal_900_6', '10min_slope_lin_reg_signal_600_6 - slope_lin_reg_signal_900_9', '10min_slope_lin_reg_signal_600_9 - slope_lin_reg_signal_900_3', '10min_slope_lin_reg_signal_600_9 - slope_lin_reg_signal_900_6', '10min_slope_lin_reg_signal_600_9 - slope_lin_reg_signal_900_9', '10min_slope_lin_reg_signal_900_3 - slope_lin_reg_signal_900_6', '10min_slope_lin_reg_signal_900_3 - slope_lin_reg_signal_900_9', '10min_slope_lin_reg_signal_900_6 - slope_lin_reg_signal_900_9', '15min_15min_OBV', '15min_15min_RSI_3', '15min_15min_MFI_3', '15min_15min_RSI_7', '15min_15min_MFI_7', '15min_15min_RSI_14', '15min_15min_MFI_14', '15min_15min_RSI_3_diff', '15min_15min_RSI_7_diff', '15min_15min_RSI_14_diff', '15min_15min_RSI_3 - RSI_7', '15min_15min_RSI_3 - RSI_14', '15min_15min_RSI_7 - RSI_14', '15min_15min_MFI_3_diff', '15min_15min_MFI_7_diff', '15min_15min_MFI_14_diff', '15min_15min_MFI_3 - MFI_7', '15min_15min_MFI_3 - MFI_14', '15min_15min_MFI_7 - MFI_14', '15min_15min_OBV_diff', '15min_15min_Kal_300', '15min_15min_Close_Kal_300', '15min_15min_Kal_change_300', '15min_15min_Kal_prev_minus_now_300', '15min_15min_Kal_prev2_minus_now_300', '15min_15min_Kal_change2_300', '15min_15min_Kal_600', '15min_15min_Close_Kal_600', '15min_15min_Kal_change_600', '15min_15min_Kal_prev_minus_now_600', '15min_15min_Kal_prev2_minus_now_600', '15min_15min_Kal_change2_600', '15min_15min_Kal_900', '15min_15min_Close_Kal_900', '15min_15min_Kal_change_900', '15min_15min_Kal_prev_minus_now_900', '15min_15min_Kal_prev2_minus_now_900', '15min_15min_Kal_change2_900', '15min_15min_Kal_300_minus_Kal_600', '15min_15min_Kal_300_minus_Kal_900', '15min_15min_Kal_600_minus_Kal_900', '15min_15min_slope_div_300_3', '15min_15min_slope_div_300_3_diff', '15min_15min_slope_signal_300_3', '15min_15min_slope_signal_300_3_diff', '15min_15min_slope_angle_300_3', '15min_15min_slope_angle_300_3_diff', '15min_15min_slope_angle_signal_300_3', '15min_15min_slope_angle_signal_300_3_diff', '15min_15min_slope_lin_reg_300_3', '15min_15min_slope_lin_reg_300_3_diff', '15min_15min_slope_lin_reg_signal_300_3', '15min_15min_slope_lin_reg_signal_300_3_diff', '15min_15min_slope_div_300_6', '15min_15min_slope_div_300_6_diff', '15min_15min_slope_signal_300_6', '15min_15min_slope_signal_300_6_diff', '15min_15min_slope_angle_300_6', '15min_15min_slope_angle_300_6_diff', '15min_15min_slope_angle_signal_300_6', '15min_15min_slope_angle_signal_300_6_diff', '15min_15min_slope_lin_reg_300_6', '15min_15min_slope_lin_reg_300_6_diff', '15min_15min_slope_lin_reg_signal_300_6', '15min_15min_slope_lin_reg_signal_300_6_diff', '15min_15min_slope_div_300_9', '15min_15min_slope_div_300_9_diff', '15min_15min_slope_signal_300_9', '15min_15min_slope_signal_300_9_diff', '15min_15min_slope_angle_300_9', '15min_15min_slope_angle_300_9_diff', '15min_15min_slope_angle_signal_300_9', '15min_15min_slope_angle_signal_300_9_diff', '15min_15min_slope_lin_reg_300_9', '15min_15min_slope_lin_reg_300_9_diff', '15min_15min_slope_lin_reg_signal_300_9', '15min_15min_slope_lin_reg_signal_300_9_diff', '15min_15min_slope_div_600_3', '15min_15min_slope_div_600_3_diff', '15min_15min_slope_signal_600_3', '15min_15min_slope_signal_600_3_diff', '15min_15min_slope_angle_600_3', '15min_15min_slope_angle_600_3_diff', '15min_15min_slope_angle_signal_600_3', '15min_15min_slope_angle_signal_600_3_diff', '15min_15min_slope_lin_reg_600_3', '15min_15min_slope_lin_reg_600_3_diff', '15min_15min_slope_lin_reg_signal_600_3', '15min_15min_slope_lin_reg_signal_600_3_diff', '15min_15min_slope_div_600_6', '15min_15min_slope_div_600_6_diff', '15min_15min_slope_signal_600_6', '15min_15min_slope_signal_600_6_diff', '15min_15min_slope_angle_600_6', '15min_15min_slope_angle_600_6_diff', '15min_15min_slope_angle_signal_600_6', '15min_15min_slope_angle_signal_600_6_diff', '15min_15min_slope_lin_reg_600_6', '15min_15min_slope_lin_reg_600_6_diff', '15min_15min_slope_lin_reg_signal_600_6', '15min_15min_slope_lin_reg_signal_600_6_diff', '15min_15min_slope_div_600_9', '15min_15min_slope_div_600_9_diff', '15min_15min_slope_signal_600_9', '15min_15min_slope_signal_600_9_diff', '15min_15min_slope_angle_600_9', '15min_15min_slope_angle_600_9_diff', '15min_15min_slope_angle_signal_600_9', '15min_15min_slope_angle_signal_600_9_diff', '15min_15min_slope_lin_reg_600_9', '15min_15min_slope_lin_reg_600_9_diff', '15min_15min_slope_lin_reg_signal_600_9', '15min_15min_slope_lin_reg_signal_600_9_diff', '15min_15min_slope_div_900_3', '15min_15min_slope_div_900_3_diff', '15min_15min_slope_signal_900_3', '15min_15min_slope_signal_900_3_diff', '15min_15min_slope_angle_900_3', '15min_15min_slope_angle_900_3_diff', '15min_15min_slope_angle_signal_900_3', '15min_15min_slope_angle_signal_900_3_diff', '15min_15min_slope_lin_reg_900_3', '15min_15min_slope_lin_reg_900_3_diff', '15min_15min_slope_lin_reg_signal_900_3', '15min_15min_slope_lin_reg_signal_900_3_diff', '15min_15min_slope_div_900_6', '15min_15min_slope_div_900_6_diff', '15min_15min_slope_signal_900_6', '15min_15min_slope_signal_900_6_diff', '15min_15min_slope_angle_900_6', '15min_15min_slope_angle_900_6_diff', '15min_15min_slope_angle_signal_900_6', '15min_15min_slope_angle_signal_900_6_diff', '15min_15min_slope_lin_reg_900_6', '15min_15min_slope_lin_reg_900_6_diff', '15min_15min_slope_lin_reg_signal_900_6', '15min_15min_slope_lin_reg_signal_900_6_diff', '15min_15min_slope_div_900_9', '15min_15min_slope_div_900_9_diff', '15min_15min_slope_signal_900_9', '15min_15min_slope_signal_900_9_diff', '15min_15min_slope_angle_900_9', '15min_15min_slope_angle_900_9_diff', '15min_15min_slope_angle_signal_900_9', '15min_15min_slope_angle_signal_900_9_diff', '15min_15min_slope_lin_reg_900_9', '15min_15min_slope_lin_reg_900_9_diff', '15min_15min_slope_lin_reg_signal_900_9', '15min_15min_slope_lin_reg_signal_900_9_diff', '15min_15min_slope_div_300_3 - slope_div_300_6', '15min_15min_slope_div_300_3 - slope_div_300_9', '15min_15min_slope_div_300_3 - slope_div_600_3', '15min_15min_slope_div_300_3 - slope_div_600_6', '15min_15min_slope_div_300_3 - slope_div_600_9', '15min_15min_slope_div_300_3 - slope_div_900_3', '15min_15min_slope_div_300_3 - slope_div_900_6', '15min_15min_slope_div_300_3 - slope_div_900_9', '15min_15min_slope_div_300_6 - slope_div_300_9', '15min_15min_slope_div_300_6 - slope_div_600_3', '15min_15min_slope_div_300_6 - slope_div_600_6', '15min_15min_slope_div_300_6 - slope_div_600_9', '15min_15min_slope_div_300_6 - slope_div_900_3', '15min_15min_slope_div_300_6 - slope_div_900_6', '15min_15min_slope_div_300_6 - slope_div_900_9', '15min_15min_slope_div_300_9 - slope_div_600_3', '15min_15min_slope_div_300_9 - slope_div_600_6', '15min_15min_slope_div_300_9 - slope_div_600_9', '15min_15min_slope_div_300_9 - slope_div_900_3', '15min_15min_slope_div_300_9 - slope_div_900_6', '15min_15min_slope_div_300_9 - slope_div_900_9', '15min_15min_slope_div_600_3 - slope_div_600_6', '15min_15min_slope_div_600_3 - slope_div_600_9', '15min_15min_slope_div_600_3 - slope_div_900_3', '15min_15min_slope_div_600_3 - slope_div_900_6', '15min_15min_slope_div_600_3 - slope_div_900_9', '15min_15min_slope_div_600_6 - slope_div_600_9', '15min_15min_slope_div_600_6 - slope_div_900_3', '15min_15min_slope_div_600_6 - slope_div_900_6', '15min_15min_slope_div_600_6 - slope_div_900_9', '15min_15min_slope_div_600_9 - slope_div_900_3', '15min_15min_slope_div_600_9 - slope_div_900_6', '15min_15min_slope_div_600_9 - slope_div_900_9', '15min_15min_slope_div_900_3 - slope_div_900_6', '15min_15min_slope_div_900_3 - slope_div_900_9', '15min_15min_slope_div_900_6 - slope_div_900_9', '15min_15min_slope_signal_300_3 - slope_signal_300_6', '15min_15min_slope_signal_300_3 - slope_signal_300_9', '15min_15min_slope_signal_300_3 - slope_signal_600_3', '15min_15min_slope_signal_300_3 - slope_signal_600_6', '15min_15min_slope_signal_300_3 - slope_signal_600_9', '15min_15min_slope_signal_300_3 - slope_signal_900_3', '15min_15min_slope_signal_300_3 - slope_signal_900_6', '15min_15min_slope_signal_300_3 - slope_signal_900_9', '15min_15min_slope_signal_300_6 - slope_signal_300_9', '15min_15min_slope_signal_300_6 - slope_signal_600_3', '15min_15min_slope_signal_300_6 - slope_signal_600_6', '15min_15min_slope_signal_300_6 - slope_signal_600_9', '15min_15min_slope_signal_300_6 - slope_signal_900_3', '15min_15min_slope_signal_300_6 - slope_signal_900_6', '15min_15min_slope_signal_300_6 - slope_signal_900_9', '15min_15min_slope_signal_300_9 - slope_signal_600_3', '15min_15min_slope_signal_300_9 - slope_signal_600_6', '15min_15min_slope_signal_300_9 - slope_signal_600_9', '15min_15min_slope_signal_300_9 - slope_signal_900_3', '15min_15min_slope_signal_300_9 - slope_signal_900_6', '15min_15min_slope_signal_300_9 - slope_signal_900_9', '15min_15min_slope_signal_600_3 - slope_signal_600_6', '15min_15min_slope_signal_600_3 - slope_signal_600_9', '15min_15min_slope_signal_600_3 - slope_signal_900_3', '15min_15min_slope_signal_600_3 - slope_signal_900_6', '15min_15min_slope_signal_600_3 - slope_signal_900_9', '15min_15min_slope_signal_600_6 - slope_signal_600_9', '15min_15min_slope_signal_600_6 - slope_signal_900_3', '15min_15min_slope_signal_600_6 - slope_signal_900_6', '15min_15min_slope_signal_600_6 - slope_signal_900_9', '15min_15min_slope_signal_600_9 - slope_signal_900_3', '15min_15min_slope_signal_600_9 - slope_signal_900_6', '15min_15min_slope_signal_600_9 - slope_signal_900_9', '15min_15min_slope_signal_900_3 - slope_signal_900_6', '15min_15min_slope_signal_900_3 - slope_signal_900_9', '15min_15min_slope_signal_900_6 - slope_signal_900_9', '15min_15min_slope_angle_300_3 - slope_angle_300_6', '15min_15min_slope_angle_300_3 - slope_angle_300_9', '15min_15min_slope_angle_300_3 - slope_angle_600_3', '15min_15min_slope_angle_300_3 - slope_angle_600_6', '15min_15min_slope_angle_300_3 - slope_angle_600_9', '15min_15min_slope_angle_300_3 - slope_angle_900_3', '15min_15min_slope_angle_300_3 - slope_angle_900_6', '15min_15min_slope_angle_300_3 - slope_angle_900_9', '15min_15min_slope_angle_300_6 - slope_angle_300_9', '15min_15min_slope_angle_300_6 - slope_angle_600_3', '15min_15min_slope_angle_300_6 - slope_angle_600_6', '15min_15min_slope_angle_300_6 - slope_angle_600_9', '15min_15min_slope_angle_300_6 - slope_angle_900_3', '15min_15min_slope_angle_300_6 - slope_angle_900_6', '15min_15min_slope_angle_300_6 - slope_angle_900_9', '15min_15min_slope_angle_300_9 - slope_angle_600_3', '15min_15min_slope_angle_300_9 - slope_angle_600_6', '15min_15min_slope_angle_300_9 - slope_angle_600_9', '15min_15min_slope_angle_300_9 - slope_angle_900_3', '15min_15min_slope_angle_300_9 - slope_angle_900_6', '15min_15min_slope_angle_300_9 - slope_angle_900_9', '15min_15min_slope_angle_600_3 - slope_angle_600_6', '15min_15min_slope_angle_600_3 - slope_angle_600_9', '15min_15min_slope_angle_600_3 - slope_angle_900_3', '15min_15min_slope_angle_600_3 - slope_angle_900_6', '15min_15min_slope_angle_600_3 - slope_angle_900_9', '15min_15min_slope_angle_600_6 - slope_angle_600_9', '15min_15min_slope_angle_600_6 - slope_angle_900_3', '15min_15min_slope_angle_600_6 - slope_angle_900_6', '15min_15min_slope_angle_600_6 - slope_angle_900_9', '15min_15min_slope_angle_600_9 - slope_angle_900_3', '15min_15min_slope_angle_600_9 - slope_angle_900_6', '15min_15min_slope_angle_600_9 - slope_angle_900_9', '15min_15min_slope_angle_900_3 - slope_angle_900_6', '15min_15min_slope_angle_900_3 - slope_angle_900_9', '15min_15min_slope_angle_900_6 - slope_angle_900_9', '15min_15min_slope_angle_signal_300_3 - slope_angle_signal_300_6', '15min_15min_slope_angle_signal_300_3 - slope_angle_signal_300_9', '15min_15min_slope_angle_signal_300_3 - slope_angle_signal_600_3', '15min_15min_slope_angle_signal_300_3 - slope_angle_signal_600_6', '15min_15min_slope_angle_signal_300_3 - slope_angle_signal_600_9', '15min_15min_slope_angle_signal_300_3 - slope_angle_signal_900_3', '15min_15min_slope_angle_signal_300_3 - slope_angle_signal_900_6', '15min_15min_slope_angle_signal_300_3 - slope_angle_signal_900_9', '15min_15min_slope_angle_signal_300_6 - slope_angle_signal_300_9', '15min_15min_slope_angle_signal_300_6 - slope_angle_signal_600_3', '15min_15min_slope_angle_signal_300_6 - slope_angle_signal_600_6', '15min_15min_slope_angle_signal_300_6 - slope_angle_signal_600_9', '15min_15min_slope_angle_signal_300_6 - slope_angle_signal_900_3', '15min_15min_slope_angle_signal_300_6 - slope_angle_signal_900_6', '15min_15min_slope_angle_signal_300_6 - slope_angle_signal_900_9', '15min_15min_slope_angle_signal_300_9 - slope_angle_signal_600_3', '15min_15min_slope_angle_signal_300_9 - slope_angle_signal_600_6', '15min_15min_slope_angle_signal_300_9 - slope_angle_signal_600_9', '15min_15min_slope_angle_signal_300_9 - slope_angle_signal_900_3', '15min_15min_slope_angle_signal_300_9 - slope_angle_signal_900_6', '15min_15min_slope_angle_signal_300_9 - slope_angle_signal_900_9', '15min_15min_slope_angle_signal_600_3 - slope_angle_signal_600_6', '15min_15min_slope_angle_signal_600_3 - slope_angle_signal_600_9', '15min_15min_slope_angle_signal_600_3 - slope_angle_signal_900_3', '15min_15min_slope_angle_signal_600_3 - slope_angle_signal_900_6', '15min_15min_slope_angle_signal_600_3 - slope_angle_signal_900_9', '15min_15min_slope_angle_signal_600_6 - slope_angle_signal_600_9', '15min_15min_slope_angle_signal_600_6 - slope_angle_signal_900_3', '15min_15min_slope_angle_signal_600_6 - slope_angle_signal_900_6', '15min_15min_slope_angle_signal_600_6 - slope_angle_signal_900_9', '15min_15min_slope_angle_signal_600_9 - slope_angle_signal_900_3', '15min_15min_slope_angle_signal_600_9 - slope_angle_signal_900_6', '15min_15min_slope_angle_signal_600_9 - slope_angle_signal_900_9', '15min_15min_slope_angle_signal_900_3 - slope_angle_signal_900_6', '15min_15min_slope_angle_signal_900_3 - slope_angle_signal_900_9', '15min_15min_slope_angle_signal_900_6 - slope_angle_signal_900_9', '15min_15min_slope_lin_reg_300_3 - slope_lin_reg_300_6', '15min_15min_slope_lin_reg_300_3 - slope_lin_reg_300_9', '15min_15min_slope_lin_reg_300_3 - slope_lin_reg_600_3', '15min_15min_slope_lin_reg_300_3 - slope_lin_reg_600_6', '15min_15min_slope_lin_reg_300_3 - slope_lin_reg_600_9', '15min_15min_slope_lin_reg_300_3 - slope_lin_reg_900_3', '15min_15min_slope_lin_reg_300_3 - slope_lin_reg_900_6', '15min_15min_slope_lin_reg_300_3 - slope_lin_reg_900_9', '15min_15min_slope_lin_reg_300_6 - slope_lin_reg_300_9', '15min_15min_slope_lin_reg_300_6 - slope_lin_reg_600_3', '15min_15min_slope_lin_reg_300_6 - slope_lin_reg_600_6', '15min_15min_slope_lin_reg_300_6 - slope_lin_reg_600_9', '15min_15min_slope_lin_reg_300_6 - slope_lin_reg_900_3', '15min_15min_slope_lin_reg_300_6 - slope_lin_reg_900_6', '15min_15min_slope_lin_reg_300_6 - slope_lin_reg_900_9', '15min_15min_slope_lin_reg_300_9 - slope_lin_reg_600_3', '15min_15min_slope_lin_reg_300_9 - slope_lin_reg_600_6', '15min_15min_slope_lin_reg_300_9 - slope_lin_reg_600_9', '15min_15min_slope_lin_reg_300_9 - slope_lin_reg_900_3', '15min_15min_slope_lin_reg_300_9 - slope_lin_reg_900_6', '15min_15min_slope_lin_reg_300_9 - slope_lin_reg_900_9', '15min_15min_slope_lin_reg_600_3 - slope_lin_reg_600_6', '15min_15min_slope_lin_reg_600_3 - slope_lin_reg_600_9', '15min_15min_slope_lin_reg_600_3 - slope_lin_reg_900_3', '15min_15min_slope_lin_reg_600_3 - slope_lin_reg_900_6', '15min_15min_slope_lin_reg_600_3 - slope_lin_reg_900_9', '15min_15min_slope_lin_reg_600_6 - slope_lin_reg_600_9', '15min_15min_slope_lin_reg_600_6 - slope_lin_reg_900_3', '15min_15min_slope_lin_reg_600_6 - slope_lin_reg_900_6', '15min_15min_slope_lin_reg_600_6 - slope_lin_reg_900_9', '15min_15min_slope_lin_reg_600_9 - slope_lin_reg_900_3', '15min_15min_slope_lin_reg_600_9 - slope_lin_reg_900_6', '15min_15min_slope_lin_reg_600_9 - slope_lin_reg_900_9', '15min_15min_slope_lin_reg_900_3 - slope_lin_reg_900_6', '15min_15min_slope_lin_reg_900_3 - slope_lin_reg_900_9', '15min_15min_slope_lin_reg_900_6 - slope_lin_reg_900_9', '15min_15min_slope_lin_reg_signal_300_3 - slope_lin_reg_signal_300_6', '15min_15min_slope_lin_reg_signal_300_3 - slope_lin_reg_signal_300_9', '15min_15min_slope_lin_reg_signal_300_3 - slope_lin_reg_signal_600_3', '15min_15min_slope_lin_reg_signal_300_3 - slope_lin_reg_signal_600_6', '15min_15min_slope_lin_reg_signal_300_3 - slope_lin_reg_signal_600_9', '15min_15min_slope_lin_reg_signal_300_3 - slope_lin_reg_signal_900_3', '15min_15min_slope_lin_reg_signal_300_3 - slope_lin_reg_signal_900_6', '15min_15min_slope_lin_reg_signal_300_3 - slope_lin_reg_signal_900_9', '15min_15min_slope_lin_reg_signal_300_6 - slope_lin_reg_signal_300_9', '15min_15min_slope_lin_reg_signal_300_6 - slope_lin_reg_signal_600_3', '15min_15min_slope_lin_reg_signal_300_6 - slope_lin_reg_signal_600_6', '15min_15min_slope_lin_reg_signal_300_6 - slope_lin_reg_signal_600_9', '15min_15min_slope_lin_reg_signal_300_6 - slope_lin_reg_signal_900_3', '15min_15min_slope_lin_reg_signal_300_6 - slope_lin_reg_signal_900_6', '15min_15min_slope_lin_reg_signal_300_6 - slope_lin_reg_signal_900_9', '15min_15min_slope_lin_reg_signal_300_9 - slope_lin_reg_signal_600_3', '15min_15min_slope_lin_reg_signal_300_9 - slope_lin_reg_signal_600_6', '15min_15min_slope_lin_reg_signal_300_9 - slope_lin_reg_signal_600_9', '15min_15min_slope_lin_reg_signal_300_9 - slope_lin_reg_signal_900_3', '15min_15min_slope_lin_reg_signal_300_9 - slope_lin_reg_signal_900_6', '15min_15min_slope_lin_reg_signal_300_9 - slope_lin_reg_signal_900_9', '15min_15min_slope_lin_reg_signal_600_3 - slope_lin_reg_signal_600_6', '15min_15min_slope_lin_reg_signal_600_3 - slope_lin_reg_signal_600_9', '15min_15min_slope_lin_reg_signal_600_3 - slope_lin_reg_signal_900_3', '15min_15min_slope_lin_reg_signal_600_3 - slope_lin_reg_signal_900_6', '15min_15min_slope_lin_reg_signal_600_3 - slope_lin_reg_signal_900_9', '15min_15min_slope_lin_reg_signal_600_6 - slope_lin_reg_signal_600_9', '15min_15min_slope_lin_reg_signal_600_6 - slope_lin_reg_signal_900_3', '15min_15min_slope_lin_reg_signal_600_6 - slope_lin_reg_signal_900_6', '15min_15min_slope_lin_reg_signal_600_6 - slope_lin_reg_signal_900_9', '15min_15min_slope_lin_reg_signal_600_9 - slope_lin_reg_signal_900_3', '15min_15min_slope_lin_reg_signal_600_9 - slope_lin_reg_signal_900_6', '15min_15min_slope_lin_reg_signal_600_9 - slope_lin_reg_signal_900_9', '15min_15min_slope_lin_reg_signal_900_3 - slope_lin_reg_signal_900_6', '15min_15min_slope_lin_reg_signal_900_3 - slope_lin_reg_signal_900_9', '15min_15min_slope_lin_reg_signal_900_6 - slope_lin_reg_signal_900_9'] \n",
            "\n",
            "NaN counts per column (sorted):\n",
            "15min_15min_slope_lin_reg_signal_900_6 - slope_lin_reg_signal_900_9    0\n",
            "Date                                                                   0\n",
            "label                                                                  0\n",
            "Open_Trade                                                             0\n",
            "OBV                                                                    0\n",
            "                                                                      ..\n",
            "RSI_3 - RSI_7                                                          0\n",
            "RSI_3 - RSI_14                                                         0\n",
            "RSI_7 - RSI_14                                                         0\n",
            "MFI_3_diff                                                             0\n",
            "MFI_7_diff                                                             0\n",
            "Length: 1098, dtype: int64 \n",
            "\n"
          ]
        }
      ],
      "source": [
        "print(df.shape,'\\n')\n",
        "print('Label_Counts : ',df.label.value_counts(),'\\n')\n",
        "print(list(df.columns), '\\n')\n",
        "\n",
        "# Add NaN count per column, sorted\n",
        "print(\"NaN counts per column (sorted):\")\n",
        "print(df.isnull().sum().sort_values(ascending=False), '\\n')\n",
        "\n",
        "#df.head(5)"
      ]
    },
    {
      "cell_type": "code",
      "execution_count": null,
      "id": "Suezit_quoZ1",
      "metadata": {
        "id": "Suezit_quoZ1"
      },
      "outputs": [],
      "source": [
        "# Select features containing 'diff' or '-' in their names\n",
        "diff_features = df.filter(regex='diff|-')\n",
        "\n",
        "# Create a new dataframe with the Date column, label and the selected features\n",
        "df_diff = pd.concat([df[['Date', 'label']], diff_features], axis=1)\n",
        "\n",
        "print(\"DataFrame with difference features:\")\n",
        "print(df_diff.shape,'\\n')\n",
        "print('Label_Counts : ',df_diff.label.value_counts(),'\\n')\n",
        "print(list(df_diff.columns), '\\n')\n",
        "\n",
        "# Add NaN count per column, sorted\n",
        "print(\"NaN counts per column (sorted):\")\n",
        "print(df_diff.isnull().sum().sort_values(ascending=False), '\\n')\n",
        "\n",
        "#df_diff.head(5)"
      ]
    },
    {
      "cell_type": "code",
      "execution_count": null,
      "id": "4TPpba7UChUY",
      "metadata": {
        "id": "4TPpba7UChUY"
      },
      "outputs": [],
      "source": [
        "# Align feature directions so that shorts mirror longs\n",
        "if 'Open_Trade' not in df.columns:\n",
        "    raise KeyError(\"'Open_Trade' column is required in df to flip feature signs.\")\n",
        "\n",
        "# Attach the trade direction to the diff dataframe (kept for reference).\n",
        "df_diff = df_diff.merge(df[['Date', 'Open_Trade']], on='Date', how='left')\n",
        "\n",
        "# Identify feature columns to flip (exclude identifiers/targets).\n",
        "feature_cols = [col for col in df_diff.columns if col not in ['Date', 'label', 'Open_Trade']]\n",
        "short_mask = df_diff['Open_Trade'] == -1\n",
        "\n",
        "if short_mask.any():\n",
        "    df_diff.loc[short_mask, feature_cols] = df_diff.loc[short_mask, feature_cols] * -1\n",
        "    print(f\"Flipped {short_mask.sum()} rows with Open_Trade = -1.\")\n",
        "else:\n",
        "    print(\"No rows with Open_Trade = -1 were found.\")\n",
        "\n",
        "# Reorder columns so Open_Trade stays next to the label for downstream steps.\n",
        "ordered_cols = ['Date', 'label', 'Open_Trade'] + [col for col in feature_cols]\n",
        "df_diff = df_diff[ordered_cols]\n"
      ]
    },
    {
      "cell_type": "code",
      "execution_count": null,
      "id": "pQa8_4GpvRRf",
      "metadata": {
        "id": "pQa8_4GpvRRf"
      },
      "outputs": [],
      "source": [
        "df = df_diff.copy()"
      ]
    },
    {
      "cell_type": "markdown",
      "id": "lBtQecOO08zB",
      "metadata": {
        "id": "lBtQecOO08zB"
      },
      "source": [
        "## ML"
      ]
    },
    {
      "cell_type": "code",
      "execution_count": 67,
      "id": "8rlkmypd9DJj",
      "metadata": {
        "id": "8rlkmypd9DJj"
      },
      "outputs": [],
      "source": [
        "# ===================== 1. ENTRENAR Y OBTENER IMPORTANCIAS =====================\n",
        "def compute_xgb_importance(\n",
        "    X: pd.DataFrame,\n",
        "    y: pd.Series,\n",
        "    task: str = \"classification\",\n",
        "    random_state: int = 42,\n",
        "    **xgb_params: Any\n",
        ") -> Tuple[pd.DataFrame, Any]:\n",
        "    \"\"\"\n",
        "    Entrena un modelo XGBoost y devuelve:\n",
        "      - imp_df: DataFrame con 'feature', 'importance' y 'cum_importance'.\n",
        "      - model : modelo ya entrenado.\n",
        "\n",
        "    Soporta:\n",
        "      • Clasificación binaria o multiclase (detecta nº de clases).\n",
        "      • Regresión (si task != 'classification').\n",
        "\n",
        "    Parámetros\n",
        "    ----------\n",
        "    X : pd.DataFrame\n",
        "        Matriz de características (sin la columna objetivo).\n",
        "    y : pd.Series\n",
        "        Etiquetas objetivo. Puede ser binaria (0/1) o multiclase (0..K-1).\n",
        "    task : str, opcional\n",
        "        \"classification\" (default) o \"regression\".\n",
        "    random_state : int, opcional\n",
        "        Semilla para reproducibilidad.\n",
        "    **xgb_params : dict\n",
        "        Parámetros adicionales para el estimador de XGBoost.\n",
        "\n",
        "    Returns\n",
        "    -------\n",
        "    (imp_df, model)\n",
        "        imp_df : DataFrame con importancias y su acumulado.\n",
        "        model  : instancia entrenada de XGBClassifier / XGBRegressor.\n",
        "    \"\"\"\n",
        "    default_params: Dict[str, Any] = dict(\n",
        "        n_estimators=500,\n",
        "        max_depth=6,\n",
        "        learning_rate=0.05,\n",
        "        subsample=0.8,\n",
        "        colsample_bytree=0.8,\n",
        "        random_state=random_state,\n",
        "        n_jobs=-1,\n",
        "        tree_method=\"hist\",\n",
        "    )\n",
        "    default_params.update(xgb_params)\n",
        "\n",
        "    if task == \"classification\":\n",
        "        # Detectar nº de clases\n",
        "        classes = np.unique(y)\n",
        "        n_classes = len(classes)\n",
        "\n",
        "        # XGBClassifier ajusta objetivo automáticamente, pero lo explicitamos:\n",
        "        if n_classes > 2:\n",
        "            default_params.setdefault(\"objective\", \"multi:softprob\")\n",
        "            default_params.setdefault(\"num_class\", n_classes)\n",
        "            eval_metric = \"mlogloss\"\n",
        "        else:\n",
        "            default_params.setdefault(\"objective\", \"binary:logistic\")\n",
        "            eval_metric = \"logloss\"\n",
        "\n",
        "        model = XGBClassifier(eval_metric=eval_metric, **default_params)\n",
        "\n",
        "    else:\n",
        "        model = XGBRegressor(**default_params)\n",
        "\n",
        "    model.fit(X, y)\n",
        "\n",
        "    imp_df = (\n",
        "        pd.DataFrame({\n",
        "            \"feature\": X.columns,\n",
        "            \"importance\": model.feature_importances_\n",
        "        })\n",
        "        .sort_values(\"importance\", ascending=False)\n",
        "        .reset_index(drop=True)\n",
        "    )\n",
        "    total_imp = imp_df[\"importance\"].sum()\n",
        "    if total_imp == 0:\n",
        "        # Evitar división por cero si el modelo devuelve todo cero (raro, pero posible)\n",
        "        imp_df[\"cum_importance\"] = 0.0\n",
        "    else:\n",
        "        imp_df[\"cum_importance\"] = imp_df[\"importance\"].cumsum() / total_imp\n",
        "\n",
        "    return imp_df, model"
      ]
    },
    {
      "cell_type": "code",
      "execution_count": 68,
      "id": "3r9Di4Xx9DOU",
      "metadata": {
        "id": "3r9Di4Xx9DOU"
      },
      "outputs": [],
      "source": [
        "# ===================== 2. SELECCIÓN DE FEATURES =====================\n",
        "def select_features_with_importance(\n",
        "    X: pd.DataFrame,\n",
        "    imp_df: pd.DataFrame,\n",
        "    top_n: Optional[int] = None,\n",
        "    threshold: Optional[str | float] = None,\n",
        "    cum_threshold: Optional[float] = 0.8\n",
        ") -> Tuple[pd.DataFrame, List[str]]:\n",
        "    \"\"\"\n",
        "    Selección flexible de variables a partir de importancias de XGBoost.\n",
        "\n",
        "    Reglas:\n",
        "      - Si top_n no es None           => usa el top_n.\n",
        "      - Else si cum_threshold no None => usa importancia acumulada (p.ej. 0.8 = 80%).\n",
        "      - Else usa threshold ('median', 'mean' o valor numérico).\n",
        "\n",
        "    Devuelve (X_reducido, lista_de_features).\n",
        "\n",
        "    Parámetros\n",
        "    ----------\n",
        "    X : pd.DataFrame\n",
        "        Matriz de características original.\n",
        "    imp_df : pd.DataFrame\n",
        "        DataFrame devuelto por compute_xgb_importance.\n",
        "    top_n : int | None\n",
        "        Número fijo de variables a conservar.\n",
        "    threshold : str | float | None\n",
        "        Umbral de importancia. Si str, usar 'median' o 'mean'.\n",
        "    cum_threshold : float | None\n",
        "        Porcentaje acumulado de importancia (0-1). Si None, se ignora.\n",
        "\n",
        "    Returns\n",
        "    -------\n",
        "    (X_sel, keep)\n",
        "        X_sel : subset de X con columnas seleccionadas.\n",
        "        keep  : lista de nombres de columnas seleccionadas.\n",
        "    \"\"\"\n",
        "    if top_n is not None:\n",
        "        keep = imp_df.head(top_n)[\"feature\"].tolist()\n",
        "\n",
        "    elif cum_threshold is not None:\n",
        "        keep_mask = imp_df[\"cum_importance\"] <= float(cum_threshold)\n",
        "        keep = imp_df.loc[keep_mask, \"feature\"].tolist()\n",
        "        # asegurar que haya al menos una más para no quedarnos exactamente en el corte\n",
        "        if len(keep) < len(imp_df):\n",
        "            keep.append(imp_df.iloc[len(keep)][\"feature\"])\n",
        "\n",
        "    else:\n",
        "        if threshold is None:\n",
        "            threshold = \"median\"\n",
        "        if isinstance(threshold, str):\n",
        "            thr_val = imp_df[\"importance\"].agg(threshold)\n",
        "        else:\n",
        "            thr_val = float(threshold)\n",
        "        keep = imp_df.loc[imp_df[\"importance\"] >= thr_val, \"feature\"].tolist()\n",
        "\n",
        "    return X[keep], keep"
      ]
    },
    {
      "cell_type": "code",
      "execution_count": 69,
      "id": "tCDZCTz2_v9z",
      "metadata": {
        "id": "tCDZCTz2_v9z"
      },
      "outputs": [],
      "source": [
        "# ===================== 3. BÚSQUEDA DEL MEJOR UMBRAL ACUMULADO =====================\n",
        "def find_best_cum_threshold(\n",
        "    X_train: pd.DataFrame,\n",
        "    y_train: pd.Series,\n",
        "    X_valid: pd.DataFrame,\n",
        "    y_valid: pd.Series,\n",
        "    task: str = \"classification\",\n",
        "    thresholds: Tuple[float, ...] = (0.6, 0.7, 0.8, 0.9),\n",
        "    random_state: int = 42,\n",
        "    metric: str = \"auto\",\n",
        "    **xgb_params: Any\n",
        ") -> Tuple[float, pd.DataFrame, pd.DataFrame]:\n",
        "    \"\"\"\n",
        "    Entrena un XGB en train, calcula importancias y prueba varios umbrales\n",
        "    acumulados para ver cuál da la mejor métrica en valid.\n",
        "\n",
        "    Para CLASIFICACIÓN:\n",
        "        - Detecta nº de clases.\n",
        "        - Métrica por defecto (metric=\"auto\"):\n",
        "            • Binaria: ROC-AUC (probabilidades de la clase positiva).\n",
        "            • Multiclase: ROC-AUC macro OVR (usa predict_proba).\n",
        "          Alternativas: metric=\"f1_macro\", \"accuracy\", \"logloss\" (se MINIMIZA).\n",
        "    Para REGRESIÓN:\n",
        "        - Usa R^2.\n",
        "\n",
        "    Devuelve:\n",
        "        best_thr, res_df_ordenado_por_score_desc, imp_df\n",
        "\n",
        "    Parámetros\n",
        "    ----------\n",
        "    X_train, y_train, X_valid, y_valid : pd.DataFrame / pd.Series\n",
        "        Particiones de entrenamiento y validación.\n",
        "    task : str\n",
        "        \"classification\" (default) o \"regression\".\n",
        "    thresholds : tuple[float, ...]\n",
        "        Valores de umbral de importancia acumulada a evaluar (0-1).\n",
        "    random_state : int\n",
        "        Semilla para reproducibilidad.\n",
        "    metric : str\n",
        "        \"auto\" (default), \"roc_auc\", \"f1_macro\", \"accuracy\", \"logloss\" (clasif) o \"r2\" (regresión).\n",
        "    **xgb_params : dict\n",
        "        Parámetros extra para el estimador de XGBoost (pasan a compute y a los modelos internos).\n",
        "\n",
        "    Returns\n",
        "    -------\n",
        "    (best_thr, res_df, imp_df)\n",
        "        best_thr : float\n",
        "            Umbral con mejor score (o menor logloss si metric='logloss').\n",
        "        res_df : pd.DataFrame\n",
        "            Tabla con resultados por umbral (n_features, score).\n",
        "        imp_df : pd.DataFrame\n",
        "            Importancias calculadas en X_train / y_train.\n",
        "    \"\"\"\n",
        "    imp_df, _ = compute_xgb_importance(\n",
        "        X_train, y_train, task=task, random_state=random_state, **xgb_params\n",
        "    )\n",
        "\n",
        "    results = []\n",
        "\n",
        "    # Detectar nº de clases si es clasificación\n",
        "    if task == \"classification\":\n",
        "        classes = np.unique(y_train)\n",
        "        n_classes = len(classes)\n",
        "        if metric == \"auto\":\n",
        "            metric_to_use = \"roc_auc\" if n_classes == 2 else \"roc_auc\"\n",
        "        else:\n",
        "            metric_to_use = metric\n",
        "    else:\n",
        "        metric_to_use = \"r2\" if metric == \"auto\" else metric\n",
        "\n",
        "    for thr in thresholds:\n",
        "        X_tr_sel, cols = select_features_with_importance(\n",
        "            X_train, imp_df, cum_threshold=thr, top_n=None, threshold=None\n",
        "        )\n",
        "        X_va_sel = X_valid[cols]\n",
        "\n",
        "        if task == \"classification\":\n",
        "            params = dict(random_state=random_state, n_jobs=-1, tree_method=\"hist\")\n",
        "            params.update(xgb_params)\n",
        "\n",
        "            if n_classes > 2:\n",
        "                params.setdefault(\"objective\", \"multi:softprob\")\n",
        "                params.setdefault(\"num_class\", n_classes)\n",
        "                eval_metric = \"mlogloss\"\n",
        "            else:\n",
        "                params.setdefault(\"objective\", \"binary:logistic\")\n",
        "                eval_metric = \"logloss\"\n",
        "\n",
        "            model_sel = XGBClassifier(eval_metric=eval_metric, **params)\n",
        "            model_sel.fit(X_tr_sel, y_train)\n",
        "\n",
        "            # Probabilidades y predicciones\n",
        "            proba = model_sel.predict_proba(X_va_sel)\n",
        "            pred  = np.argmax(proba, axis=1) if n_classes > 2 else (proba[:, 1] >= 0.5).astype(int)\n",
        "\n",
        "            # Calcular métrica\n",
        "            if metric_to_use == \"roc_auc\":\n",
        "                if n_classes == 2:\n",
        "                    score = roc_auc_score(y_valid, proba[:, 1])\n",
        "                else:\n",
        "                    # AUC macro One-vs-Rest\n",
        "                    score = roc_auc_score(y_valid, proba, multi_class=\"ovr\", average=\"macro\")\n",
        "            elif metric_to_use == \"f1_macro\":\n",
        "                score = f1_score(y_valid, pred, average=\"macro\")\n",
        "            elif metric_to_use == \"accuracy\":\n",
        "                score = accuracy_score(y_valid, pred)\n",
        "            elif metric_to_use == \"logloss\":\n",
        "                # En este caso, menor es mejor. Guardamos negativo para mantener criterio \"mayor mejor\".\n",
        "                score = -log_loss(y_valid, proba, labels=np.unique(y_train))\n",
        "            else:\n",
        "                raise ValueError(f\"Métrica no soportada: {metric_to_use}\")\n",
        "\n",
        "        else:\n",
        "            # REGRESIÓN\n",
        "            params = dict(random_state=random_state, n_jobs=-1, tree_method=\"hist\")\n",
        "            params.update(xgb_params)\n",
        "            model_sel = XGBRegressor(**params)\n",
        "            model_sel.fit(X_tr_sel, y_train)\n",
        "            pred = model_sel.predict(X_va_sel)\n",
        "\n",
        "            if metric_to_use == \"r2\":\n",
        "                score = r2_score(y_valid, pred)\n",
        "            else:\n",
        "                raise ValueError(f\"Métrica de regresión no soportada: {metric_to_use}\")\n",
        "\n",
        "        results.append({\"cum_threshold\": thr, \"n_features\": len(cols), \"score\": score})\n",
        "\n",
        "    # Ordenar (si usamos logloss negado, mayor sigue siendo mejor)\n",
        "    res_df = pd.DataFrame(results).sort_values(\"score\", ascending=False).reset_index(drop=True)\n",
        "    best_thr = float(res_df.iloc[0][\"cum_threshold\"])\n",
        "    return best_thr, res_df, imp_df"
      ]
    },
    {
      "cell_type": "code",
      "execution_count": 70,
      "id": "R0Dm8ZPGcBr7",
      "metadata": {
        "id": "R0Dm8ZPGcBr7"
      },
      "outputs": [],
      "source": [
        "def remove_highly_correlated_features(df, threshold=0.9):\n",
        "\n",
        "    # Solo numéricos para evitar errores y acelerar\n",
        "    corr_matrix = df.corr(numeric_only=True).abs()\n",
        "    upper = corr_matrix.where(np.triu(np.ones(corr_matrix.shape, dtype=bool), k=1))\n",
        "\n",
        "    to_drop = []\n",
        "    for col in tqdm(upper.columns, desc=f\"Pruning corr > {threshold}\", unit=\"col\", leave=False):\n",
        "        if (upper[col] > threshold).any():\n",
        "            to_drop.append(col)\n",
        "\n",
        "    return df.drop(columns=to_drop, errors=\"ignore\"), to_drop\n"
      ]
    },
    {
      "cell_type": "code",
      "execution_count": null,
      "id": "WodcQEBJ_wAW",
      "metadata": {
        "id": "WodcQEBJ_wAW"
      },
      "outputs": [],
      "source": [
        "# ===================== 3. PIPELINE PRINCIPAL =====================\n",
        "df = df.dropna()\n",
        "y = df['label']\n",
        "X = df.iloc[:, 2:]\n",
        "\n",
        "# --- 3.3 Split temporal (ejemplo simple 80/20) ---\n",
        "split_idx = int(len(X) * 0.8)\n",
        "X_train, X_test = X.iloc[:split_idx], X.iloc[split_idx:]\n",
        "y_train, y_test = y.iloc[:split_idx], y.iloc[split_idx:]\n",
        "\n",
        "# --- 3.4 Remove correlated features ---\n",
        "X_train_filtered, dropped_features = remove_highly_correlated_features(X_train, threshold=0.9)\n",
        "X_test_filtered = X_test.drop(columns=dropped_features)\n",
        "\n",
        "# Baseline logistic regression with time-series CV\n",
        "scaler = StandardScaler()\n",
        "X_scaled = scaler.fit_transform(X_train_filtered)\n",
        "tscv = TimeSeriesSplit(n_splits=5)\n",
        "baseline = cross_val_score(LogisticRegression(max_iter=1000), X_scaled, y_train, cv=tscv).mean()\n",
        "print('Logistic regression CV accuracy:', baseline)\n",
        "\n",
        "# --- 3.5 Importancias con XGBoost ---\n",
        "imp_df, xgb_model = compute_xgb_importance(X_train_filtered, y_train, task='classification')\n",
        "\n",
        "print('=== Importancias XGBoost ===')\n",
        "print(imp_df.head(20))\n",
        "print(f'Total features: {len(imp_df)}')\n",
        "\n",
        "# --- 3.6 Selección (elige una opción) ---\n",
        "X_train_sel, keep_cols = select_features_with_importance(X_train_filtered, imp_df, cum_threshold=0.8)\n",
        "X_test_sel = X_test_filtered[keep_cols]\n",
        "\n",
        "print(f'Features seleccionadas: {len(keep_cols)}')\n",
        "importance_map = imp_df.set_index(\"feature\")[\"importance\"]\n",
        "selected_importances = pd.DataFrame({\n",
        "    \"feature\": keep_cols,\n",
        "    \"importance\": importance_map.reindex(keep_cols).values\n",
        "})\n",
        "selected_importances.to_csv(root_data+'Results/'+symbol+'_'+direction+'_M5M10_'+data_type+'_ImportantCols.csv', index=False)\n",
        "\n",
        "# Save dataset with selected features\n",
        "df_selected = df[['Date', 'label'] + keep_cols]\n",
        "df_selected.to_csv(root_data+'Results/'+symbol+'_'+direction+'_M5M10_'+data_type+'_Features.csv', index=False)\n",
        "\n",
        "# Time-series cross-validation with XGBoost\n",
        "xgb_cv = XGBClassifier(eval_metric='logloss', n_estimators=500, max_depth=6, learning_rate=0.05, subsample=0.8, colsample_bytree=0.8, random_state=42, n_jobs=-1, tree_method='hist')\n",
        "xgb_scores = cross_val_score(xgb_cv, X_train_sel, y_train, cv=tscv, scoring='accuracy')\n",
        "print('XGBoost CV accuracy:', xgb_scores.mean())\n"
      ]
    },
    {
      "cell_type": "markdown",
      "id": "2RFfhHT2AwAJ",
      "metadata": {
        "id": "2RFfhHT2AwAJ"
      },
      "source": [
        "# Encode_Features"
      ]
    },
    {
      "cell_type": "code",
      "execution_count": null,
      "id": "jRl6BZWUZ-WI",
      "metadata": {
        "id": "jRl6BZWUZ-WI"
      },
      "outputs": [],
      "source": [
        "### Encode Features\n",
        "\n",
        "cols_to_scale = df.columns[1:]\n",
        "model = Sequential()\n",
        "model.add(Dense(64, activation='relu', input_shape=(len(cols_to_scale),)))\n",
        "model.add(Dense(32, activation='relu'))\n",
        "model.add(Dense(8, activation='relu'))\n",
        "model.add(Dense(32, activation='relu'))\n",
        "model.add(Dense(64, activation='relu'))\n",
        "model.add(Dense(len(cols_to_scale), activation='linear'))"
      ]
    },
    {
      "cell_type": "code",
      "execution_count": null,
      "id": "3hmEdGGclTxU",
      "metadata": {
        "id": "3hmEdGGclTxU"
      },
      "outputs": [],
      "source": [
        "# Compile the model\n",
        "model.compile(optimizer='adam', loss='mean_squared_error')\n",
        "\n",
        "# Train the autoencoder using the scaled features\n",
        "cols_to_scale = df.columns[1:]\n",
        "autoencoder = model.fit(df[cols_to_scale], df[cols_to_scale], epochs=100, batch_size=32)"
      ]
    },
    {
      "cell_type": "code",
      "execution_count": null,
      "id": "gfyyEElYwPQ_",
      "metadata": {
        "id": "gfyyEElYwPQ_"
      },
      "outputs": [],
      "source": [
        "# Plot the graph of Loss versus Epoch\n",
        "plt.plot(autoencoder.history[\"loss\"])\n",
        "plt.plot(figsize=(15, 7))\n",
        "plt.title('Loss vs. Epoch', fontsize=16)\n",
        "plt.xlabel('Epoch', fontsize=14)\n",
        "plt.ylabel('Loss', fontsize=14)\n",
        "plt.show()"
      ]
    },
    {
      "cell_type": "code",
      "execution_count": null,
      "id": "DmJ8a4TuwPRA",
      "metadata": {
        "id": "DmJ8a4TuwPRA"
      },
      "outputs": [],
      "source": [
        "# Select the columns to be scaled (from index 6 onwards)\n",
        "cols_to_scale = df.columns[1:]\n",
        "\n",
        "reconstruction_error = np.square(df[cols_to_scale] - model.predict(df[cols_to_scale]))\n",
        "feature_reconstruction_error = np.mean(reconstruction_error, axis=0)\n",
        "feature_reconstruction_error_df = pd.DataFrame(feature_reconstruction_error, index=cols_to_scale).T\n",
        "\n",
        "overall_reconstruction_error = feature_reconstruction_error_df.mean().mean()\n",
        "print('\\n','\\n', f\"\\033[1mOverall Reconstruction Error: {overall_reconstruction_error:.4f}\\033[0m\", '\\n','\\n')\n",
        "\n",
        "# Print the individual features error in a horizontal format\n",
        "display(feature_reconstruction_error_df)"
      ]
    },
    {
      "cell_type": "markdown",
      "id": "Nr2MdqXlwPRA",
      "metadata": {
        "id": "Nr2MdqXlwPRA"
      },
      "source": [
        "You can see that certain features have very low error, but some might have an error as high as 0.2. However, overall the error rate is 0.04 and thus, we can move forward.\n",
        "\n",
        "Let us now move towards finding the reduced features. This is done in the following steps.\n",
        "\n",
        "**Extract the encoder part of the autoencoder**:\n",
        "You will extract the encoder part of the autoencoder, which compresses the data into a reduced-dimensional representation. This part includes the first three layers of the model.\n",
        "\n",
        "Use the encoder to obtain the reduced-dimensional representation:\n",
        "We use the encoder to transform the input test data `(X_test)` into a reduced-dimensional representation `(X_encoded_test)`. This represents an encoded version of the input data."
      ]
    },
    {
      "cell_type": "code",
      "execution_count": null,
      "id": "pvDj7316wPRA",
      "metadata": {
        "id": "pvDj7316wPRA",
        "scrolled": true
      },
      "outputs": [],
      "source": [
        "# Re-create the encoder from the layers of the successfully trained model\n",
        "encoder = Sequential(model.layers[:3])\n",
        "X_encoded_test = encoder.predict(X[cols_to_scale]) # Use the scaled features for prediction"
      ]
    },
    {
      "cell_type": "code",
      "execution_count": null,
      "id": "bmIW_EmxwPRB",
      "metadata": {
        "id": "bmIW_EmxwPRB"
      },
      "outputs": [],
      "source": [
        "\n",
        "# ── NUEVO: añade la columna Date al DataFrame codificado ──\n",
        "dates = df['Date'].reset_index(drop=True)                 # 1) copia la fecha\n",
        "features_enc = pd.DataFrame(                              # 2) crea el DF codificado\n",
        "    X_encoded_test,\n",
        "    columns=[f'Encoded_{i}' for i in range(X_encoded_test.shape[1])]\n",
        ")\n",
        "features_enc.insert(0, 'Date', dates)\n",
        "features_enc.head(5)"
      ]
    },
    {
      "cell_type": "code",
      "execution_count": null,
      "id": "B-uYkk3_e3wF",
      "metadata": {
        "id": "B-uYkk3_e3wF"
      },
      "outputs": [],
      "source": [
        "features_enc.shape"
      ]
    },
    {
      "cell_type": "code",
      "execution_count": null,
      "id": "d3614702",
      "metadata": {
        "id": "d3614702"
      },
      "outputs": [],
      "source": [
        "### Save the encoder model\n",
        "\n",
        "encoder_save_path = root_data+'Models/'+symbol+'_'+direction+'_'+data_type+'_ahm_encoder_model.keras'\n",
        "os.makedirs(os.path.dirname(encoder_save_path), exist_ok=True)\n",
        "encoder.save(encoder_save_path)\n",
        "print(f\"Encoder model saved successfully at: {encoder_save_path}\")"
      ]
    },
    {
      "cell_type": "code",
      "execution_count": null,
      "id": "lHzi4304z00U",
      "metadata": {
        "id": "lHzi4304z00U"
      },
      "outputs": [],
      "source": [
        "features_enc.to_csv(root_data+'Results/'+symbol+'_'+direction+'_M5M10_Enc_Features.csv')"
      ]
    },
    {
      "cell_type": "markdown",
      "id": "kEzuAKPE3KBb",
      "metadata": {
        "id": "kEzuAKPE3KBb"
      },
      "source": [
        "# Varios"
      ]
    }
  ],
  "metadata": {
    "accelerator": "GPU",
    "colab": {
      "collapsed_sections": [
        "Ysa-7eLvEMpE",
        "m8CIB8vltFfH",
        "y6QRdBKwrX98",
        "zhTndYVi1TEV",
        "jh9-mi26wsya",
        "Hv5bsrpc03z7",
        "2RFfhHT2AwAJ"
      ],
      "gpuType": "T4",
      "machine_shape": "hm",
      "provenance": []
    },
    "kernelspec": {
      "display_name": "Python 3",
      "name": "python3"
    },
    "language_info": {
      "codemirror_mode": {
        "name": "ipython",
        "version": 3
      },
      "file_extension": ".py",
      "mimetype": "text/x-python",
      "name": "python",
      "nbconvert_exporter": "python",
      "pygments_lexer": "ipython3",
      "version": "3.9.5"
    }
  },
  "nbformat": 4,
  "nbformat_minor": 5
}